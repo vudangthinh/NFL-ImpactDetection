{
 "cells": [
  {
   "cell_type": "code",
   "execution_count": 1,
   "metadata": {},
   "outputs": [
    {
     "name": "stdout",
     "output_type": "stream",
     "text": [
      "1.7.0+cu101 True\n",
      "2.7.0\n",
      "10.1\n",
      "GCC 7.3\n"
     ]
    }
   ],
   "source": [
    "import copy\n",
    "import os.path as osp\n",
    "from glob import glob\n",
    "from tqdm import tqdm\n",
    "\n",
    "# Check Pytorch installation\n",
    "import torch, torchvision\n",
    "print(torch.__version__, torch.cuda.is_available())\n",
    "\n",
    "# Check MMDetection installation\n",
    "import mmdet\n",
    "print(mmdet.__version__)\n",
    "\n",
    "# Check mmcv installation\n",
    "import mmcv\n",
    "from mmcv.ops import get_compiling_cuda_version, get_compiler_version\n",
    "from mmcv import Config\n",
    "print(get_compiling_cuda_version())\n",
    "print(get_compiler_version())\n",
    "\n",
    "from mmdet.datasets import build_dataset\n",
    "from mmdet.models import build_detector\n",
    "from mmdet.datasets.builder import DATASETS\n",
    "from mmdet.datasets.custom import CustomDataset\n",
    "from mmdet.apis import train_detector, set_random_seed, init_detector, inference_detector\n",
    "\n",
    "from pycocotools.coco import COCO\n",
    "from pycocotools.cocoeval import COCOeval\n",
    "\n",
    "import pandas as pd # data processing, CSV file I/O (e.g. pd.read_csv)\n",
    "import numpy as np\n",
    "import matplotlib.pyplot as plt\n",
    "from scipy.optimize import linear_sum_assignment\n",
    "from IPython.core.debugger import set_trace"
   ]
  },
  {
   "cell_type": "markdown",
   "metadata": {},
   "source": [
    "# Utils"
   ]
  },
  {
   "cell_type": "code",
   "execution_count": 2,
   "metadata": {},
   "outputs": [],
   "source": [
    "def iou(bbox1, bbox2):\n",
    "    bbox1 = [float(x) for x in bbox1]\n",
    "    bbox2 = [float(x) for x in bbox2]\n",
    "\n",
    "    (x0_1, y0_1, x1_1, y1_1) = bbox1\n",
    "    (x0_2, y0_2, x1_2, y1_2) = bbox2\n",
    "\n",
    "    # get the overlap rectangle\n",
    "    overlap_x0 = max(x0_1, x0_2)\n",
    "    overlap_y0 = max(y0_1, y0_2)\n",
    "    overlap_x1 = min(x1_1, x1_2)\n",
    "    overlap_y1 = min(y1_1, y1_2)\n",
    "\n",
    "    # check if there is an overlap\n",
    "    if overlap_x1 - overlap_x0 <= 0 or overlap_y1 - overlap_y0 <= 0:\n",
    "            return 0\n",
    "\n",
    "    # if yes, calculate the ratio of the overlap to each ROI size and the unified size\n",
    "    size_1 = (x1_1 - x0_1) * (y1_1 - y0_1)\n",
    "    size_2 = (x1_2 - x0_2) * (y1_2 - y0_2)\n",
    "    size_intersection = (overlap_x1 - overlap_x0) * (overlap_y1 - overlap_y0)\n",
    "    size_union = size_1 + size_2 - size_intersection\n",
    "\n",
    "    return size_intersection / size_union\n",
    "\n",
    "def precision_calc(gt_boxes, pred_boxes):\n",
    "    cost_matix = np.ones((len(gt_boxes), len(pred_boxes)))\n",
    "    for i, box1 in enumerate(gt_boxes):\n",
    "        for j, box2 in enumerate(pred_boxes):\n",
    "            dist = abs(box1[0]-box2[0])\n",
    "            if dist > 4:\n",
    "                continue\n",
    "            \n",
    "            iou_score = iou(box1[1:], box2[1:])\n",
    "            \n",
    "            if iou_score < 0.35:\n",
    "                continue\n",
    "            else:\n",
    "                cost_matix[i,j]=0\n",
    "    \n",
    "    row_ind, col_ind = linear_sum_assignment(cost_matix)\n",
    "    fn = len(gt_boxes) - row_ind.shape[0]\n",
    "    fp = len(pred_boxes) - col_ind.shape[0]\n",
    "    tp=0\n",
    "    for i, j in zip(row_ind, col_ind):\n",
    "        if cost_matix[i,j]==0:\n",
    "            tp+=1\n",
    "        else:\n",
    "            fp+=1\n",
    "            fn+=1\n",
    "    return tp, fp, fn"
   ]
  },
  {
   "cell_type": "markdown",
   "metadata": {},
   "source": [
    "# Load GT"
   ]
  },
  {
   "cell_type": "code",
   "execution_count": 3,
   "metadata": {},
   "outputs": [],
   "source": [
    "video_labels = pd.read_csv('/home/thinh/nfl/train_labels.csv')\n",
    "video_labels = video_labels[video_labels['frame'] != 0].reset_index(drop=True)"
   ]
  },
  {
   "cell_type": "code",
   "execution_count": 4,
   "metadata": {},
   "outputs": [
    {
     "data": {
      "text/html": [
       "<div>\n",
       "<style scoped>\n",
       "    .dataframe tbody tr th:only-of-type {\n",
       "        vertical-align: middle;\n",
       "    }\n",
       "\n",
       "    .dataframe tbody tr th {\n",
       "        vertical-align: top;\n",
       "    }\n",
       "\n",
       "    .dataframe thead th {\n",
       "        text-align: right;\n",
       "    }\n",
       "</style>\n",
       "<table border=\"1\" class=\"dataframe\">\n",
       "  <thead>\n",
       "    <tr style=\"text-align: right;\">\n",
       "      <th></th>\n",
       "      <th>gameKey</th>\n",
       "      <th>playID</th>\n",
       "      <th>view</th>\n",
       "      <th>video</th>\n",
       "      <th>frame</th>\n",
       "      <th>label</th>\n",
       "      <th>left</th>\n",
       "      <th>width</th>\n",
       "      <th>top</th>\n",
       "      <th>height</th>\n",
       "      <th>impact</th>\n",
       "      <th>impactType</th>\n",
       "      <th>confidence</th>\n",
       "      <th>visibility</th>\n",
       "    </tr>\n",
       "  </thead>\n",
       "  <tbody>\n",
       "    <tr>\n",
       "      <th>0</th>\n",
       "      <td>57583</td>\n",
       "      <td>82</td>\n",
       "      <td>Endzone</td>\n",
       "      <td>57583_000082_Endzone.mp4</td>\n",
       "      <td>1</td>\n",
       "      <td>H30</td>\n",
       "      <td>629</td>\n",
       "      <td>19</td>\n",
       "      <td>40</td>\n",
       "      <td>24</td>\n",
       "      <td>NaN</td>\n",
       "      <td>NaN</td>\n",
       "      <td>NaN</td>\n",
       "      <td>NaN</td>\n",
       "    </tr>\n",
       "    <tr>\n",
       "      <th>1</th>\n",
       "      <td>57583</td>\n",
       "      <td>82</td>\n",
       "      <td>Endzone</td>\n",
       "      <td>57583_000082_Endzone.mp4</td>\n",
       "      <td>1</td>\n",
       "      <td>V72</td>\n",
       "      <td>443</td>\n",
       "      <td>22</td>\n",
       "      <td>344</td>\n",
       "      <td>16</td>\n",
       "      <td>NaN</td>\n",
       "      <td>NaN</td>\n",
       "      <td>NaN</td>\n",
       "      <td>NaN</td>\n",
       "    </tr>\n",
       "    <tr>\n",
       "      <th>2</th>\n",
       "      <td>57583</td>\n",
       "      <td>82</td>\n",
       "      <td>Endzone</td>\n",
       "      <td>57583_000082_Endzone.mp4</td>\n",
       "      <td>1</td>\n",
       "      <td>V86</td>\n",
       "      <td>871</td>\n",
       "      <td>21</td>\n",
       "      <td>359</td>\n",
       "      <td>17</td>\n",
       "      <td>NaN</td>\n",
       "      <td>NaN</td>\n",
       "      <td>NaN</td>\n",
       "      <td>NaN</td>\n",
       "    </tr>\n",
       "    <tr>\n",
       "      <th>3</th>\n",
       "      <td>57583</td>\n",
       "      <td>82</td>\n",
       "      <td>Endzone</td>\n",
       "      <td>57583_000082_Endzone.mp4</td>\n",
       "      <td>1</td>\n",
       "      <td>V74</td>\n",
       "      <td>771</td>\n",
       "      <td>19</td>\n",
       "      <td>345</td>\n",
       "      <td>15</td>\n",
       "      <td>NaN</td>\n",
       "      <td>NaN</td>\n",
       "      <td>NaN</td>\n",
       "      <td>NaN</td>\n",
       "    </tr>\n",
       "    <tr>\n",
       "      <th>4</th>\n",
       "      <td>57583</td>\n",
       "      <td>82</td>\n",
       "      <td>Endzone</td>\n",
       "      <td>57583_000082_Endzone.mp4</td>\n",
       "      <td>1</td>\n",
       "      <td>V34</td>\n",
       "      <td>549</td>\n",
       "      <td>26</td>\n",
       "      <td>461</td>\n",
       "      <td>20</td>\n",
       "      <td>NaN</td>\n",
       "      <td>NaN</td>\n",
       "      <td>NaN</td>\n",
       "      <td>NaN</td>\n",
       "    </tr>\n",
       "  </tbody>\n",
       "</table>\n",
       "</div>"
      ],
      "text/plain": [
       "   gameKey  playID     view                     video  frame label  left  \\\n",
       "0    57583      82  Endzone  57583_000082_Endzone.mp4      1   H30   629   \n",
       "1    57583      82  Endzone  57583_000082_Endzone.mp4      1   V72   443   \n",
       "2    57583      82  Endzone  57583_000082_Endzone.mp4      1   V86   871   \n",
       "3    57583      82  Endzone  57583_000082_Endzone.mp4      1   V74   771   \n",
       "4    57583      82  Endzone  57583_000082_Endzone.mp4      1   V34   549   \n",
       "\n",
       "   width  top  height  impact impactType  confidence  visibility  \n",
       "0     19   40      24     NaN        NaN         NaN         NaN  \n",
       "1     22  344      16     NaN        NaN         NaN         NaN  \n",
       "2     21  359      17     NaN        NaN         NaN         NaN  \n",
       "3     19  345      15     NaN        NaN         NaN         NaN  \n",
       "4     26  461      20     NaN        NaN         NaN         NaN  "
      ]
     },
     "execution_count": 4,
     "metadata": {},
     "output_type": "execute_result"
    }
   ],
   "source": [
    "video_labels.head()"
   ]
  },
  {
   "cell_type": "markdown",
   "metadata": {},
   "source": [
    "# Config"
   ]
  },
  {
   "cell_type": "code",
   "execution_count": 5,
   "metadata": {},
   "outputs": [
    {
     "name": "stderr",
     "output_type": "stream",
     "text": [
      "/home/thinh/nfl/mmdetection/mmdet/apis/inference.py:46: UserWarning: Class names are not saved in the checkpoint's meta data, use COCO classes by default.\n",
      "  warnings.warn('Class names are not saved in the checkpoint\\'s '\n"
     ]
    }
   ],
   "source": [
    "# Specify the path to model config and checkpoint file\n",
    "valid_epoch = 28\n",
    "config_file = './cascade_rcnn_r50_fpn.py'\n",
    "checkpoint_file = f'/home/thinh/nfl/mmdet-models/model_a1_44/epoch_{valid_epoch}.pth'\n",
    "\n",
    "# build the model from a config file and a checkpoint file\n",
    "model = init_detector(config_file, checkpoint_file, device='cuda:0')"
   ]
  },
  {
   "cell_type": "markdown",
   "metadata": {},
   "source": [
    "# Predict"
   ]
  },
  {
   "cell_type": "code",
   "execution_count": 6,
   "metadata": {},
   "outputs": [],
   "source": [
    "test_lists = []\n",
    "\n",
    "with open('video_valid_44.txt') as file:\n",
    "    test_video_names = file.readline()\n",
    "    for video_name in test_video_names[2:-2].split(\"', '\"):\n",
    "        test_lists.append(f'{video_name}_Endzone.mp4')\n",
    "        test_lists.append(f'{video_name}_Sideline.mp4')"
   ]
  },
  {
   "cell_type": "code",
   "execution_count": 7,
   "metadata": {},
   "outputs": [
    {
     "data": {
      "text/plain": [
       "['57583_000082_Endzone.mp4',\n",
       " '57583_000082_Sideline.mp4',\n",
       " '57586_004152_Endzone.mp4',\n",
       " '57586_004152_Sideline.mp4',\n",
       " '57911_000147_Endzone.mp4',\n",
       " '57911_000147_Sideline.mp4',\n",
       " '57997_003691_Endzone.mp4',\n",
       " '57997_003691_Sideline.mp4',\n",
       " '57680_002206_Endzone.mp4',\n",
       " '57680_002206_Sideline.mp4',\n",
       " '58095_004022_Endzone.mp4',\n",
       " '58095_004022_Sideline.mp4',\n",
       " '57906_000718_Endzone.mp4',\n",
       " '57906_000718_Sideline.mp4',\n",
       " '58005_001254_Endzone.mp4',\n",
       " '58005_001254_Sideline.mp4',\n",
       " '57679_003316_Endzone.mp4',\n",
       " '57679_003316_Sideline.mp4',\n",
       " '58103_003494_Endzone.mp4',\n",
       " '58103_003494_Sideline.mp4',\n",
       " '57998_002181_Endzone.mp4',\n",
       " '57998_002181_Sideline.mp4',\n",
       " '58048_000086_Endzone.mp4',\n",
       " '58048_000086_Sideline.mp4']"
      ]
     },
     "execution_count": 7,
     "metadata": {},
     "output_type": "execute_result"
    }
   ],
   "source": [
    "test_lists"
   ]
  },
  {
   "cell_type": "code",
   "execution_count": 8,
   "metadata": {},
   "outputs": [],
   "source": [
    "gt_df = video_labels[video_labels['video'].isin(test_lists) & video_labels['impact']==1]"
   ]
  },
  {
   "cell_type": "code",
   "execution_count": 9,
   "metadata": {},
   "outputs": [
    {
     "name": "stderr",
     "output_type": "stream",
     "text": [
      "100%|██████████| 24/24 [41:26<00:00, 103.59s/it]\n"
     ]
    }
   ],
   "source": [
    "gameKey = []\n",
    "playID = []\n",
    "view = []\n",
    "video_name = []\n",
    "frame_num = []\n",
    "left = []\n",
    "width = []\n",
    "top = []\n",
    "height = []\n",
    "score = []\n",
    "\n",
    "for test_list in tqdm(test_lists):\n",
    "    file_name = f'/home/thinh/nfl/train/{test_list}'\n",
    "    video = mmcv.VideoReader(file_name)\n",
    "    \n",
    "    for i, frame in enumerate(video):\n",
    "        result = inference_detector(model, frame)\n",
    "        \n",
    "        for j in range(len(result[0])):\n",
    "#             score = result[0][j][4]\n",
    "#             if score > 0.9:\n",
    "            gameKey.append(int(file_name.split('_')[0].split('/')[-1]))\n",
    "            playID.append(int(file_name.split('_')[1]))\n",
    "            view.append(file_name.split('_')[2][:-4])\n",
    "            video_name.append(file_name.split('/')[-1])\n",
    "            frame_num.append(i+1)\n",
    "            \n",
    "            score.append(result[0][j][4])\n",
    "            left.append(int(result[0][j][0]))\n",
    "            top.append(int(result[0][j][1]))\n",
    "            width.append(int(abs(result[0][j][2] - result[0][j][0])))\n",
    "            height.append(int(abs(result[0][j][3] - result[0][j][1])))"
   ]
  },
  {
   "cell_type": "code",
   "execution_count": 10,
   "metadata": {},
   "outputs": [],
   "source": [
    "test_df = pd.DataFrame({'gameKey': gameKey,\n",
    "             'playID': playID,\n",
    "             'view': view,\n",
    "             'video': video_name,\n",
    "             'frame': frame_num,\n",
    "             'left': left,\n",
    "             'width': width,\n",
    "             'top': top,\n",
    "             'height': height,\n",
    "             'score': score}\n",
    "             )"
   ]
  },
  {
   "cell_type": "code",
   "execution_count": 11,
   "metadata": {},
   "outputs": [
    {
     "data": {
      "text/html": [
       "<div>\n",
       "<style scoped>\n",
       "    .dataframe tbody tr th:only-of-type {\n",
       "        vertical-align: middle;\n",
       "    }\n",
       "\n",
       "    .dataframe tbody tr th {\n",
       "        vertical-align: top;\n",
       "    }\n",
       "\n",
       "    .dataframe thead th {\n",
       "        text-align: right;\n",
       "    }\n",
       "</style>\n",
       "<table border=\"1\" class=\"dataframe\">\n",
       "  <thead>\n",
       "    <tr style=\"text-align: right;\">\n",
       "      <th></th>\n",
       "      <th>gameKey</th>\n",
       "      <th>playID</th>\n",
       "      <th>view</th>\n",
       "      <th>video</th>\n",
       "      <th>frame</th>\n",
       "      <th>left</th>\n",
       "      <th>width</th>\n",
       "      <th>top</th>\n",
       "      <th>height</th>\n",
       "      <th>score</th>\n",
       "    </tr>\n",
       "  </thead>\n",
       "  <tbody>\n",
       "    <tr>\n",
       "      <th>0</th>\n",
       "      <td>57583</td>\n",
       "      <td>82</td>\n",
       "      <td>Endzone</td>\n",
       "      <td>57583_000082_Endzone.mp4</td>\n",
       "      <td>1</td>\n",
       "      <td>556</td>\n",
       "      <td>22</td>\n",
       "      <td>326</td>\n",
       "      <td>18</td>\n",
       "      <td>0.536193</td>\n",
       "    </tr>\n",
       "    <tr>\n",
       "      <th>1</th>\n",
       "      <td>57583</td>\n",
       "      <td>82</td>\n",
       "      <td>Endzone</td>\n",
       "      <td>57583_000082_Endzone.mp4</td>\n",
       "      <td>2</td>\n",
       "      <td>556</td>\n",
       "      <td>22</td>\n",
       "      <td>326</td>\n",
       "      <td>18</td>\n",
       "      <td>0.507391</td>\n",
       "    </tr>\n",
       "    <tr>\n",
       "      <th>2</th>\n",
       "      <td>57583</td>\n",
       "      <td>82</td>\n",
       "      <td>Endzone</td>\n",
       "      <td>57583_000082_Endzone.mp4</td>\n",
       "      <td>3</td>\n",
       "      <td>556</td>\n",
       "      <td>21</td>\n",
       "      <td>326</td>\n",
       "      <td>18</td>\n",
       "      <td>0.483377</td>\n",
       "    </tr>\n",
       "    <tr>\n",
       "      <th>3</th>\n",
       "      <td>57583</td>\n",
       "      <td>82</td>\n",
       "      <td>Endzone</td>\n",
       "      <td>57583_000082_Endzone.mp4</td>\n",
       "      <td>4</td>\n",
       "      <td>555</td>\n",
       "      <td>22</td>\n",
       "      <td>326</td>\n",
       "      <td>18</td>\n",
       "      <td>0.477639</td>\n",
       "    </tr>\n",
       "    <tr>\n",
       "      <th>4</th>\n",
       "      <td>57583</td>\n",
       "      <td>82</td>\n",
       "      <td>Endzone</td>\n",
       "      <td>57583_000082_Endzone.mp4</td>\n",
       "      <td>9</td>\n",
       "      <td>554</td>\n",
       "      <td>22</td>\n",
       "      <td>328</td>\n",
       "      <td>17</td>\n",
       "      <td>0.428056</td>\n",
       "    </tr>\n",
       "  </tbody>\n",
       "</table>\n",
       "</div>"
      ],
      "text/plain": [
       "   gameKey  playID     view                     video  frame  left  width  \\\n",
       "0    57583      82  Endzone  57583_000082_Endzone.mp4      1   556     22   \n",
       "1    57583      82  Endzone  57583_000082_Endzone.mp4      2   556     22   \n",
       "2    57583      82  Endzone  57583_000082_Endzone.mp4      3   556     21   \n",
       "3    57583      82  Endzone  57583_000082_Endzone.mp4      4   555     22   \n",
       "4    57583      82  Endzone  57583_000082_Endzone.mp4      9   554     22   \n",
       "\n",
       "   top  height     score  \n",
       "0  326      18  0.536193  \n",
       "1  326      18  0.507391  \n",
       "2  326      18  0.483377  \n",
       "3  326      18  0.477639  \n",
       "4  328      17  0.428056  "
      ]
     },
     "execution_count": 11,
     "metadata": {},
     "output_type": "execute_result"
    }
   ],
   "source": [
    "test_df.to_csv(f'/home/thinh/nfl/mmdet-models/model_a1_44/epoch_{valid_epoch}.csv', index=False)\n",
    "test_df.head()"
   ]
  },
  {
   "cell_type": "code",
   "execution_count": 12,
   "metadata": {},
   "outputs": [
    {
     "name": "stderr",
     "output_type": "stream",
     "text": [
      "/home/thinh/anaconda3/lib/python3.7/site-packages/ipykernel_launcher.py:1: SettingWithCopyWarning: \n",
      "A value is trying to be set on a copy of a slice from a DataFrame.\n",
      "Try using .loc[row_indexer,col_indexer] = value instead\n",
      "\n",
      "See the caveats in the documentation: https://pandas.pydata.org/pandas-docs/stable/user_guide/indexing.html#returning-a-view-versus-a-copy\n",
      "  \"\"\"Entry point for launching an IPython kernel.\n"
     ]
    }
   ],
   "source": [
    "gt_df['bot'] = gt_df['top'] + gt_df['height']\n",
    "gt_df['right'] = gt_df['left'] + gt_df['width']\n",
    "test_df['bot'] = test_df['top'] + test_df['height']\n",
    "test_df['right'] = test_df['left'] + test_df['width']"
   ]
  },
  {
   "cell_type": "code",
   "execution_count": 13,
   "metadata": {},
   "outputs": [
    {
     "data": {
      "text/plain": [
       "(7401, 12)"
      ]
     },
     "execution_count": 13,
     "metadata": {},
     "output_type": "execute_result"
    }
   ],
   "source": [
    "test_df.shape"
   ]
  },
  {
   "cell_type": "code",
   "execution_count": 14,
   "metadata": {},
   "outputs": [
    {
     "data": {
      "text/plain": [
       "(449, 16)"
      ]
     },
     "execution_count": 14,
     "metadata": {},
     "output_type": "execute_result"
    }
   ],
   "source": [
    "gt_df.shape"
   ]
  },
  {
   "cell_type": "code",
   "execution_count": 15,
   "metadata": {},
   "outputs": [
    {
     "name": "stdout",
     "output_type": "stream",
     "text": [
      "TP: 229, FP: 7172, FN: 220, PRECISION: 0.0309, RECALL: 0.5100, F1 SCORE: 0.0583\n"
     ]
    }
   ],
   "source": [
    "ftp, ffp, ffn = [], [], []\n",
    "for count, video in enumerate(set(gt_df['video'])):\n",
    "    pred_boxes = test_df[test_df['video']==video][[\"frame\",'left', 'top', 'right', 'bot']].to_numpy()\n",
    "    gt_boxes = gt_df[gt_df['video']==video][[\"frame\",'left', 'top', 'right', 'bot']].to_numpy()\n",
    "    tp, fp, fn = precision_calc(gt_boxes, pred_boxes)\n",
    "    ftp.append(tp)\n",
    "    ffp.append(fp)\n",
    "    ffn.append(fn)\n",
    "\n",
    "tp = np.sum(ftp)\n",
    "fp = np.sum(ffp)\n",
    "fn = np.sum(ffn)\n",
    "precision = tp / (tp + fp + 1e-6)\n",
    "recall =  tp / (tp + fn +1e-6)\n",
    "f1_score = 2*(precision*recall)/(precision+recall+1e-6)\n",
    "print(f'TP: {tp}, FP: {fp}, FN: {fn}, PRECISION: {precision:.4f}, RECALL: {recall:.4f}, F1 SCORE: {f1_score:.4f}')"
   ]
  },
  {
   "cell_type": "code",
   "execution_count": 16,
   "metadata": {},
   "outputs": [],
   "source": [
    "# Epoch 1: 1689 - 449 - TP: 104, FP: 1585, FN: 345, PRECISION: 0.0616, RECALL: 0.2316, F1 SCORE: 0.0973\n",
    "# Epoch 2: 5950 - 449 - TP: 194, FP: 5756, FN: 255, PRECISION: 0.0326, RECALL: 0.4321, F1 SCORE: 0.0606\n",
    "# Epoch 3: 11023 - TP: 263, FP: 10760, FN: 186, PRECISION: 0.0239, RECALL: 0.5857, F1 SCORE: 0.0459\n",
    "# Epoch 4: 7251 - TP: 236, FP: 7015, FN: 213, PRECISION: 0.0325, RECALL: 0.5256, F1 SCORE: 0.0613\n",
    "# Epoch 5: 12770 - TP: 275, FP: 12495, FN: 174, PRECISION: 0.0215, RECALL: 0.6125, F1 SCORE: 0.0416\n",
    "\n",
    "# Epoch 8: 3923 - TP: 187, FP: 3736, FN: 262, PRECISION: 0.0477, RECALL: 0.4165, F1 SCORE: 0.0855\n"
   ]
  }
 ],
 "metadata": {
  "kernelspec": {
   "display_name": "Python 3",
   "language": "python",
   "name": "python3"
  },
  "language_info": {
   "codemirror_mode": {
    "name": "ipython",
    "version": 3
   },
   "file_extension": ".py",
   "mimetype": "text/x-python",
   "name": "python",
   "nbconvert_exporter": "python",
   "pygments_lexer": "ipython3",
   "version": "3.7.6"
  }
 },
 "nbformat": 4,
 "nbformat_minor": 4
}
