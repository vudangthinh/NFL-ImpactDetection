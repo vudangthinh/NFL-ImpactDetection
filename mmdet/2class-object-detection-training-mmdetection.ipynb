{
 "cells": [
  {
   "cell_type": "markdown",
   "metadata": {},
   "source": [
    "# Import"
   ]
  },
  {
   "cell_type": "code",
   "execution_count": 1,
   "metadata": {},
   "outputs": [
    {
     "name": "stdout",
     "output_type": "stream",
     "text": [
      "1.7.0+cu101 True\n",
      "2.7.0\n",
      "10.1\n",
      "GCC 7.3\n"
     ]
    }
   ],
   "source": [
    "import os\n",
    "import copy\n",
    "import json\n",
    "import random\n",
    "import os.path as osp\n",
    "from glob import glob\n",
    "from tqdm import tqdm\n",
    "\n",
    "# Check Pytorch installation\n",
    "import torch, torchvision\n",
    "print(torch.__version__, torch.cuda.is_available())\n",
    "\n",
    "from sklearn.model_selection import train_test_split\n",
    "\n",
    "# Check MMDetection installation\n",
    "import mmdet\n",
    "print(mmdet.__version__)\n",
    "\n",
    "# Check mmcv installation\n",
    "import mmcv\n",
    "from mmcv.ops import get_compiling_cuda_version, get_compiler_version\n",
    "from mmcv import Config\n",
    "print(get_compiling_cuda_version())\n",
    "print(get_compiler_version())\n",
    "\n",
    "from mmdet.datasets import build_dataset, CocoDataset\n",
    "from mmdet.models import build_detector\n",
    "from mmdet.datasets.builder import DATASETS\n",
    "from mmdet.datasets.custom import CustomDataset\n",
    "from mmdet.apis import train_detector, set_random_seed, init_detector, inference_detector\n",
    "\n",
    "from pycocotools.coco import COCO\n",
    "from pycocotools.cocoeval import COCOeval\n",
    "\n",
    "import pandas as pd # data processing, CSV file I/O (e.g. pd.read_csv)\n",
    "import numpy as np\n",
    "import matplotlib.pyplot as plt\n",
    "import matplotlib.animation as animation\n",
    "\n",
    "SEED = 42\n",
    "\n",
    "def seed_everything(seed):\n",
    "    random.seed(seed)\n",
    "    os.environ['PYTHONHASHSEED'] = str(seed)\n",
    "    np.random.seed(seed)\n",
    "    torch.manual_seed(seed)\n",
    "    torch.cuda.manual_seed(seed)\n",
    "    torch.backends.cudnn.deterministic = True\n",
    "    torch.backends.cudnn.benchmark = False\n",
    "\n",
    "seed_everything(SEED)"
   ]
  },
  {
   "cell_type": "markdown",
   "metadata": {},
   "source": [
    "# Data Preparation"
   ]
  },
  {
   "cell_type": "code",
   "execution_count": 2,
   "metadata": {},
   "outputs": [],
   "source": [
    "# video_labels = pd.read_csv('/home/thinh/nfl/train_labels.csv').fillna(0)\n",
    "# video_labels = video_labels[video_labels['frame'] != 0].reset_index(drop=True)\n",
    "# # video_labels['impact'][(video_labels.confidence <= 1) | (video_labels.visibility <= 0)] = 0\n",
    "\n",
    "# video_labels_with_impact = video_labels[video_labels['impact'] > 0]\n",
    "# for row in tqdm(video_labels_with_impact[['video','frame','label']].values):\n",
    "#     frames = np.array([-4, -3, -2, -1, 1, 2, 3, 4])+row[1]\n",
    "#     video_labels.loc[(video_labels['video'] == row[0]) \n",
    "#                                  & (video_labels['frame'].isin(frames))\n",
    "#                                  & (video_labels['label'] == row[2]), 'impact'] = 1\n",
    "\n",
    "# video_labels['video_name'] = video_labels['video'].apply(lambda x: \"_\".join(x.split(\"_\")[:2]))\n",
    "# video_labels['image_name'] = video_labels['video'].str.replace('.mp4', '') + '_' + video_labels['frame'].astype(str) + '.png'\n",
    "# video_labels = video_labels[video_labels.groupby('image_name')['impact'].transform(\"sum\") > 0].reset_index(drop=True)\n",
    "# video_labels.fillna({'impact': 2}, inplace=True)\n",
    "# video_labels.head()"
   ]
  },
  {
   "cell_type": "code",
   "execution_count": 3,
   "metadata": {},
   "outputs": [],
   "source": [
    "# # video_names = np.random.permutation(video_labels.video_name.unique())\n",
    "# # valid_video_len = int(len(video_names)*0.2)\n",
    "# # video_valid = video_names[:valid_video_len]\n",
    "# # video_train = video_names[valid_video_len:]\n",
    "# video_valid = ['57583_000082', '57586_004152', '57911_000147', '57997_003691', '57680_002206', '58095_004022', '57906_000718', '58005_001254', '57679_003316', '58103_003494', '57998_002181', '58048_000086']\n",
    "\n",
    "# valid_df = video_labels[ video_labels.video_name.isin(video_valid)].reset_index(drop=True)\n",
    "# train_df = video_labels[~video_labels.video_name.isin(video_valid)].reset_index(drop=True)"
   ]
  },
  {
   "cell_type": "code",
   "execution_count": 4,
   "metadata": {},
   "outputs": [],
   "source": [
    "# with open('video_valid_44.txt', 'w') as writer:\n",
    "#     writer.write(str(video_valid.tolist()))"
   ]
  },
  {
   "cell_type": "markdown",
   "metadata": {},
   "source": [
    "# Generate COCO Format Json"
   ]
  },
  {
   "cell_type": "code",
   "execution_count": 5,
   "metadata": {},
   "outputs": [],
   "source": [
    "def gen_classes(CLASSES):\n",
    "    classes = list()      \n",
    "    \n",
    "    for i, CLASS in enumerate(CLASSES):\n",
    "        single_class = {} \n",
    "        single_class['id'] = i + 1\n",
    "        single_class['name'] = CLASS\n",
    "        classes.append(single_class)\n",
    "    return classes\n",
    "\n",
    "def gen_objs(df, debug = False):\n",
    "    \n",
    "    if debug:\n",
    "        \n",
    "        df = df[:int(len(df)*0.05)]\n",
    "        \n",
    "    \n",
    "    img_lists = list(df['image_name'].unique())\n",
    "    imgs = list()\n",
    "    objs = list()   \n",
    "    \n",
    "    ## gen images information\n",
    "    for i in tqdm(range(len(img_lists))):\n",
    "        '''\n",
    "        \n",
    "        I just notice that all images were preprocessed image size 720x1280\n",
    "        If you want to check real image size, use this code below\n",
    "        \n",
    "        img = cv2.imread(os.path.join(data_path, img_lists[i]))\n",
    "        \n",
    "        single_img_obj = {}\n",
    "        single_img_obj['file_name'] = img_lists[i]\n",
    "        single_img_obj['height'] = img.shape[0]\n",
    "        single_img_obj['width'] = img.shape[1]\n",
    "        single_img_obj['id'] = i + 1\n",
    "        '''\n",
    "        \n",
    "        single_img_obj = {}\n",
    "        single_img_obj['file_name'] = img_lists[i]\n",
    "        single_img_obj['height'] = 720 \n",
    "        single_img_obj['width'] = 1280\n",
    "        single_img_obj['id'] = i + 1        \n",
    "        \n",
    "        imgs.append(single_img_obj)\n",
    "        \n",
    "  \n",
    "    ## gen objs information    \n",
    "    for j in tqdm(range(len(df))):\n",
    "        single_obj = {}\n",
    "        single_obj['id'] = j + 1\n",
    "        single_obj['image_id'] = img_lists.index(df['image_name'][j]) + 1\n",
    "        single_obj['category_id'] = int(df['impact'][j] ) ## You need to customize if you want to add some 'impact' class\n",
    "        single_obj['area'] = float(df['width'][j]*df['height'][j])\n",
    "        single_obj['bbox'] = [int(df['left'][j]), int(df['top'][j]), int(df['width'][j]), int(df['height'][j])]\n",
    "        single_obj['iscrowd'] = 0        \n",
    "        \n",
    "        objs.append(single_obj)\n",
    "    \n",
    "    print(f'images: {len(imgs)}, objs: {len(objs)}')\n",
    "    \n",
    "    return imgs, objs\n",
    "\n",
    "def gen_coco(outpath, classes, objs, imgs, train=True):\n",
    "    if train:\n",
    "        data_dict = {}\n",
    "        data_dict['images'] = []\n",
    "        data_dict['annotations'] = []\n",
    "        data_dict['categories'] = []\n",
    "        data_dict['images'].extend(imgs)\n",
    "        data_dict['annotations'].extend(objs)\n",
    "        data_dict['categories'].extend(classes)\n",
    "        \n",
    "    else:\n",
    "        data_dict = {}\n",
    "        data_dict['images'] = []\n",
    "        data_dict['categories'] = []\n",
    "        \n",
    "        data_dict['images'].extend(imgs)\n",
    "        data_dict['categories'].extend(classes)   \n",
    "\n",
    "    with open(outpath, 'w') as f_out:\n",
    "        json.dump(data_dict, f_out)"
   ]
  },
  {
   "cell_type": "code",
   "execution_count": 6,
   "metadata": {},
   "outputs": [
    {
     "data": {
      "text/plain": [
       "[{'id': 1, 'name': 'impact'}, {'id': 2, 'name': 'helmet'}]"
      ]
     },
     "execution_count": 6,
     "metadata": {},
     "output_type": "execute_result"
    }
   ],
   "source": [
    "CLASSES = ['impact', 'helmet']\n",
    "classes = gen_classes(CLASSES)\n",
    "classes"
   ]
  },
  {
   "cell_type": "code",
   "execution_count": 7,
   "metadata": {},
   "outputs": [],
   "source": [
    "# train_imgs, train_objs = gen_objs(train_df)\n",
    "# valid_imgs, valid_objs = gen_objs(valid_df)"
   ]
  },
  {
   "cell_type": "code",
   "execution_count": 8,
   "metadata": {},
   "outputs": [],
   "source": [
    "# gen_coco('train_44.json', classes, train_objs, train_imgs, train=True)\n",
    "# gen_coco('valid_44.json', classes, valid_objs, valid_imgs, train=True)"
   ]
  },
  {
   "cell_type": "markdown",
   "metadata": {},
   "source": [
    "# Dataset"
   ]
  },
  {
   "cell_type": "code",
   "execution_count": 9,
   "metadata": {},
   "outputs": [],
   "source": [
    "@DATASETS.register_module()\n",
    "class ImpactDataset(CocoDataset):\n",
    "    CLASSES = set(CLASSES)"
   ]
  },
  {
   "cell_type": "markdown",
   "metadata": {},
   "source": [
    "# Model build"
   ]
  },
  {
   "cell_type": "code",
   "execution_count": 10,
   "metadata": {},
   "outputs": [],
   "source": [
    "config_file = 'cascade_rcnn_r50_fpn.py'\n",
    "cfg = Config.fromfile(config_file)"
   ]
  },
  {
   "cell_type": "code",
   "execution_count": 11,
   "metadata": {},
   "outputs": [],
   "source": [
    "cfg.total_epochs = 50\n",
    "cfg.work_dir = '/home/thinh/nfl/mmdet-models/model_a1_44'\n",
    "cfg.seed = 0\n",
    "set_random_seed(0, deterministic=False)\n",
    "cfg.gpu_ids = range(1)\n",
    "cfg.data.samples_per_gpu = 4\n",
    "\n",
    "cfg.data_root = '/home/thinh/nfl/train_images/'\n",
    "\n",
    "cfg.data.train.ann_file='train_44.json'\n",
    "cfg.data.train.img_prefix= cfg.data_root\n",
    "\n",
    "cfg.data.val.ann_file='valid_44.json',\n",
    "cfg.data.val.img_prefix= cfg.data_root\n",
    "\n",
    "cfg.data.test.ann_file='valid_44.json', ## I just set validation data for test because it's not our main purpose\n",
    "cfg.data.test.img_prefix= cfg.data_root"
   ]
  },
  {
   "cell_type": "code",
   "execution_count": 12,
   "metadata": {
    "scrolled": true
   },
   "outputs": [
    {
     "name": "stdout",
     "output_type": "stream",
     "text": [
      "Config:\n",
      "model = dict(\n",
      "    type='FasterRCNN',\n",
      "    pretrained='torchvision://resnet50',\n",
      "    backbone=dict(\n",
      "        type='ResNet',\n",
      "        depth=50,\n",
      "        num_stages=4,\n",
      "        out_indices=(0, 1, 2, 3),\n",
      "        frozen_stages=1,\n",
      "        norm_cfg=dict(type='BN', requires_grad=True),\n",
      "        norm_eval=True,\n",
      "        style='pytorch'),\n",
      "    neck=dict(\n",
      "        type='FPN',\n",
      "        in_channels=[256, 512, 1024, 2048],\n",
      "        out_channels=256,\n",
      "        num_outs=5),\n",
      "    rpn_head=dict(\n",
      "        type='RPNHead',\n",
      "        in_channels=256,\n",
      "        feat_channels=256,\n",
      "        anchor_generator=dict(\n",
      "            type='AnchorGenerator',\n",
      "            scales=[8],\n",
      "            ratios=[0.5, 1.0, 2.0],\n",
      "            strides=[4, 8, 16, 32, 64]),\n",
      "        bbox_coder=dict(\n",
      "            type='DeltaXYWHBBoxCoder',\n",
      "            target_means=[0.0, 0.0, 0.0, 0.0],\n",
      "            target_stds=[1.0, 1.0, 1.0, 1.0]),\n",
      "        loss_cls=dict(\n",
      "            type='CrossEntropyLoss', use_sigmoid=True, loss_weight=1.0),\n",
      "        loss_bbox=dict(type='L1Loss', loss_weight=1.0)),\n",
      "    roi_head=dict(\n",
      "        type='StandardRoIHead',\n",
      "        bbox_roi_extractor=dict(\n",
      "            type='SingleRoIExtractor',\n",
      "            roi_layer=dict(type='RoIAlign', output_size=7, sampling_ratio=0),\n",
      "            out_channels=256,\n",
      "            featmap_strides=[4, 8, 16, 32]),\n",
      "        bbox_head=dict(\n",
      "            type='Shared2FCBBoxHead',\n",
      "            in_channels=256,\n",
      "            fc_out_channels=1024,\n",
      "            roi_feat_size=7,\n",
      "            num_classes=80,\n",
      "            bbox_coder=dict(\n",
      "                type='DeltaXYWHBBoxCoder',\n",
      "                target_means=[0.0, 0.0, 0.0, 0.0],\n",
      "                target_stds=[0.1, 0.1, 0.2, 0.2]),\n",
      "            reg_class_agnostic=False,\n",
      "            loss_cls=dict(\n",
      "                type='CrossEntropyLoss', use_sigmoid=False, loss_weight=1.0),\n",
      "            loss_bbox=dict(type='L1Loss', loss_weight=1.0))))\n",
      "train_cfg = dict(\n",
      "    rpn=dict(\n",
      "        assigner=dict(\n",
      "            type='MaxIoUAssigner',\n",
      "            pos_iou_thr=0.7,\n",
      "            neg_iou_thr=0.3,\n",
      "            min_pos_iou=0.3,\n",
      "            match_low_quality=True,\n",
      "            ignore_iof_thr=-1),\n",
      "        sampler=dict(\n",
      "            type='RandomSampler',\n",
      "            num=256,\n",
      "            pos_fraction=0.5,\n",
      "            neg_pos_ub=-1,\n",
      "            add_gt_as_proposals=False),\n",
      "        allowed_border=-1,\n",
      "        pos_weight=-1,\n",
      "        debug=False),\n",
      "    rpn_proposal=dict(\n",
      "        nms_across_levels=False,\n",
      "        nms_pre=2000,\n",
      "        nms_post=1000,\n",
      "        max_num=1000,\n",
      "        nms_thr=0.7,\n",
      "        min_bbox_size=0),\n",
      "    rcnn=dict(\n",
      "        assigner=dict(\n",
      "            type='MaxIoUAssigner',\n",
      "            pos_iou_thr=0.5,\n",
      "            neg_iou_thr=0.5,\n",
      "            min_pos_iou=0.5,\n",
      "            match_low_quality=False,\n",
      "            ignore_iof_thr=-1),\n",
      "        sampler=dict(\n",
      "            type='RandomSampler',\n",
      "            num=512,\n",
      "            pos_fraction=0.25,\n",
      "            neg_pos_ub=-1,\n",
      "            add_gt_as_proposals=True),\n",
      "        pos_weight=-1,\n",
      "        debug=False))\n",
      "test_cfg = dict(\n",
      "    rpn=dict(\n",
      "        nms_across_levels=False,\n",
      "        nms_pre=1000,\n",
      "        nms_post=1000,\n",
      "        max_num=1000,\n",
      "        nms_thr=0.7,\n",
      "        min_bbox_size=0),\n",
      "    rcnn=dict(\n",
      "        score_thr=0.4,\n",
      "        nms=dict(type='nms', iou_threshold=0.5),\n",
      "        max_per_img=100))\n",
      "dataset_type = 'ImpactDataset'\n",
      "data_root = '/home/thinh/nfl/train_images/'\n",
      "img_norm_cfg = dict(\n",
      "    mean=[123.675, 116.28, 103.53], std=[58.395, 57.12, 57.375], to_rgb=True)\n",
      "albu_train_transforms = [\n",
      "    dict(\n",
      "        type='RandomBrightnessContrast',\n",
      "        brightness_limit=[0.1, 0.3],\n",
      "        contrast_limit=[0.1, 0.3],\n",
      "        p=0.2),\n",
      "    dict(\n",
      "        type='OneOf',\n",
      "        transforms=[\n",
      "            dict(\n",
      "                type='RGBShift',\n",
      "                r_shift_limit=10,\n",
      "                g_shift_limit=10,\n",
      "                b_shift_limit=10,\n",
      "                p=1.0),\n",
      "            dict(\n",
      "                type='HueSaturationValue',\n",
      "                hue_shift_limit=20,\n",
      "                sat_shift_limit=30,\n",
      "                val_shift_limit=20,\n",
      "                p=1.0)\n",
      "        ],\n",
      "        p=0.1),\n",
      "    dict(type='JpegCompression', quality_lower=85, quality_upper=95, p=0.2),\n",
      "    dict(type='ChannelShuffle', p=0.1),\n",
      "    dict(\n",
      "        type='OneOf',\n",
      "        transforms=[\n",
      "            dict(type='Blur', blur_limit=3, p=1.0),\n",
      "            dict(type='MedianBlur', blur_limit=3, p=1.0)\n",
      "        ],\n",
      "        p=0.1)\n",
      "]\n",
      "train_pipeline = [\n",
      "    dict(type='LoadImageFromFile'),\n",
      "    dict(type='LoadAnnotations', with_bbox=True),\n",
      "    dict(type='Resize', img_scale=(1333, 800), keep_ratio=True),\n",
      "    dict(type='RandomFlip', flip_ratio=0.5),\n",
      "    dict(\n",
      "        type='Albu',\n",
      "        transforms=[\n",
      "            dict(\n",
      "                type='RandomBrightnessContrast',\n",
      "                brightness_limit=[0.1, 0.3],\n",
      "                contrast_limit=[0.1, 0.3],\n",
      "                p=0.2),\n",
      "            dict(\n",
      "                type='OneOf',\n",
      "                transforms=[\n",
      "                    dict(\n",
      "                        type='RGBShift',\n",
      "                        r_shift_limit=10,\n",
      "                        g_shift_limit=10,\n",
      "                        b_shift_limit=10,\n",
      "                        p=1.0),\n",
      "                    dict(\n",
      "                        type='HueSaturationValue',\n",
      "                        hue_shift_limit=20,\n",
      "                        sat_shift_limit=30,\n",
      "                        val_shift_limit=20,\n",
      "                        p=1.0)\n",
      "                ],\n",
      "                p=0.1),\n",
      "            dict(\n",
      "                type='JpegCompression',\n",
      "                quality_lower=85,\n",
      "                quality_upper=95,\n",
      "                p=0.2),\n",
      "            dict(type='ChannelShuffle', p=0.1),\n",
      "            dict(\n",
      "                type='OneOf',\n",
      "                transforms=[\n",
      "                    dict(type='Blur', blur_limit=3, p=1.0),\n",
      "                    dict(type='MedianBlur', blur_limit=3, p=1.0)\n",
      "                ],\n",
      "                p=0.1)\n",
      "        ],\n",
      "        bbox_params=dict(\n",
      "            type='BboxParams',\n",
      "            format='pascal_voc',\n",
      "            label_fields=['gt_labels'],\n",
      "            min_visibility=0.0,\n",
      "            filter_lost_elements=True),\n",
      "        keymap=dict(img='image', gt_masks='masks', gt_bboxes='bboxes'),\n",
      "        update_pad_shape=False,\n",
      "        skip_img_without_anno=True),\n",
      "    dict(\n",
      "        type='Normalize',\n",
      "        mean=[123.675, 116.28, 103.53],\n",
      "        std=[58.395, 57.12, 57.375],\n",
      "        to_rgb=True),\n",
      "    dict(type='Pad', size_divisor=32),\n",
      "    dict(type='DefaultFormatBundle'),\n",
      "    dict(type='Collect', keys=['img', 'gt_bboxes', 'gt_labels'])\n",
      "]\n",
      "test_pipeline = [\n",
      "    dict(type='LoadImageFromFile'),\n",
      "    dict(\n",
      "        type='MultiScaleFlipAug',\n",
      "        img_scale=(1333, 800),\n",
      "        flip=False,\n",
      "        transforms=[\n",
      "            dict(type='Resize', keep_ratio=True),\n",
      "            dict(type='RandomFlip'),\n",
      "            dict(\n",
      "                type='Normalize',\n",
      "                mean=[123.675, 116.28, 103.53],\n",
      "                std=[58.395, 57.12, 57.375],\n",
      "                to_rgb=True),\n",
      "            dict(type='Pad', size_divisor=32),\n",
      "            dict(type='ImageToTensor', keys=['img']),\n",
      "            dict(type='Collect', keys=['img'])\n",
      "        ])\n",
      "]\n",
      "data = dict(\n",
      "    samples_per_gpu=4,\n",
      "    workers_per_gpu=4,\n",
      "    train=dict(\n",
      "        type='ImpactDataset',\n",
      "        ann_file='train_44.json',\n",
      "        img_prefix='/home/thinh/nfl/train_images/',\n",
      "        pipeline=[\n",
      "            dict(type='LoadImageFromFile'),\n",
      "            dict(type='LoadAnnotations', with_bbox=True),\n",
      "            dict(type='Resize', img_scale=(1333, 800), keep_ratio=True),\n",
      "            dict(type='RandomFlip', flip_ratio=0.5),\n",
      "            dict(\n",
      "                type='Albu',\n",
      "                transforms=[\n",
      "                    dict(\n",
      "                        type='RandomBrightnessContrast',\n",
      "                        brightness_limit=[0.1, 0.3],\n",
      "                        contrast_limit=[0.1, 0.3],\n",
      "                        p=0.2),\n",
      "                    dict(\n",
      "                        type='OneOf',\n",
      "                        transforms=[\n",
      "                            dict(\n",
      "                                type='RGBShift',\n",
      "                                r_shift_limit=10,\n",
      "                                g_shift_limit=10,\n",
      "                                b_shift_limit=10,\n",
      "                                p=1.0),\n",
      "                            dict(\n",
      "                                type='HueSaturationValue',\n",
      "                                hue_shift_limit=20,\n",
      "                                sat_shift_limit=30,\n",
      "                                val_shift_limit=20,\n",
      "                                p=1.0)\n",
      "                        ],\n",
      "                        p=0.1),\n",
      "                    dict(\n",
      "                        type='JpegCompression',\n",
      "                        quality_lower=85,\n",
      "                        quality_upper=95,\n",
      "                        p=0.2),\n",
      "                    dict(type='ChannelShuffle', p=0.1),\n",
      "                    dict(\n",
      "                        type='OneOf',\n",
      "                        transforms=[\n",
      "                            dict(type='Blur', blur_limit=3, p=1.0),\n",
      "                            dict(type='MedianBlur', blur_limit=3, p=1.0)\n",
      "                        ],\n",
      "                        p=0.1)\n",
      "                ],\n",
      "                bbox_params=dict(\n",
      "                    type='BboxParams',\n",
      "                    format='pascal_voc',\n",
      "                    label_fields=['gt_labels'],\n",
      "                    min_visibility=0.0,\n",
      "                    filter_lost_elements=True),\n",
      "                keymap=dict(img='image', gt_masks='masks', gt_bboxes='bboxes'),\n",
      "                update_pad_shape=False,\n",
      "                skip_img_without_anno=True),\n",
      "            dict(\n",
      "                type='Normalize',\n",
      "                mean=[123.675, 116.28, 103.53],\n",
      "                std=[58.395, 57.12, 57.375],\n",
      "                to_rgb=True),\n",
      "            dict(type='Pad', size_divisor=32),\n",
      "            dict(type='DefaultFormatBundle'),\n",
      "            dict(type='Collect', keys=['img', 'gt_bboxes', 'gt_labels'])\n",
      "        ]),\n",
      "    val=dict(\n",
      "        type='ImpactDataset',\n",
      "        ann_file=('valid_44.json', ),\n",
      "        img_prefix='/home/thinh/nfl/train_images/',\n",
      "        pipeline=[\n",
      "            dict(type='LoadImageFromFile'),\n",
      "            dict(\n",
      "                type='MultiScaleFlipAug',\n",
      "                img_scale=(1333, 800),\n",
      "                flip=False,\n",
      "                transforms=[\n",
      "                    dict(type='Resize', keep_ratio=True),\n",
      "                    dict(type='RandomFlip'),\n",
      "                    dict(\n",
      "                        type='Normalize',\n",
      "                        mean=[123.675, 116.28, 103.53],\n",
      "                        std=[58.395, 57.12, 57.375],\n",
      "                        to_rgb=True),\n",
      "                    dict(type='Pad', size_divisor=32),\n",
      "                    dict(type='ImageToTensor', keys=['img']),\n",
      "                    dict(type='Collect', keys=['img'])\n",
      "                ])\n",
      "        ]),\n",
      "    test=dict(\n",
      "        type='ImpactDataset',\n",
      "        ann_file=('valid_44.json', ),\n",
      "        img_prefix='/home/thinh/nfl/train_images/',\n",
      "        pipeline=[\n",
      "            dict(type='LoadImageFromFile'),\n",
      "            dict(\n",
      "                type='MultiScaleFlipAug',\n",
      "                img_scale=(1333, 800),\n",
      "                flip=False,\n",
      "                transforms=[\n",
      "                    dict(type='Resize', keep_ratio=True),\n",
      "                    dict(type='RandomFlip'),\n",
      "                    dict(\n",
      "                        type='Normalize',\n",
      "                        mean=[123.675, 116.28, 103.53],\n",
      "                        std=[58.395, 57.12, 57.375],\n",
      "                        to_rgb=True),\n",
      "                    dict(type='Pad', size_divisor=32),\n",
      "                    dict(type='ImageToTensor', keys=['img']),\n",
      "                    dict(type='Collect', keys=['img'])\n",
      "                ])\n",
      "        ]))\n",
      "evaluation = dict(metric=['bbox'], interval=1)\n",
      "optimizer = dict(type='SGD', lr=0.005, momentum=0.9, weight_decay=0.0001)\n",
      "optimizer_config = dict(grad_clip=None)\n",
      "lr_config = dict(\n",
      "    policy='step',\n",
      "    warmup='linear',\n",
      "    warmup_iters=500,\n",
      "    warmup_ratio=0.001,\n",
      "    step=[8, 11])\n",
      "total_epochs = 50\n",
      "checkpoint_config = dict(interval=1)\n",
      "log_config = dict(interval=50, hooks=[dict(type='TextLoggerHook')])\n",
      "dist_params = dict(backend='nccl')\n",
      "log_level = 'INFO'\n",
      "load_from = 'http://download.openmmlab.com/mmdetection/v2.0/cascade_rcnn/cascade_rcnn_r50_fpn_1x_coco/cascade_rcnn_r50_fpn_1x_coco_20200316-3dc56deb.pth'\n",
      "resume_from = None\n",
      "workflow = [('train', 1)]\n",
      "work_dir = '/home/thinh/nfl/mmdet-models/model_a1_44'\n",
      "gpu_ids = range(0, 1)\n",
      "seed = 0\n",
      "\n"
     ]
    }
   ],
   "source": [
    "print(f'Config:\\n{cfg.pretty_text}')"
   ]
  },
  {
   "cell_type": "markdown",
   "metadata": {},
   "source": [
    "# Train model"
   ]
  },
  {
   "cell_type": "code",
   "execution_count": 13,
   "metadata": {
    "scrolled": true
   },
   "outputs": [
    {
     "name": "stdout",
     "output_type": "stream",
     "text": [
      "loading annotations into memory...\n",
      "Done (t=0.61s)\n",
      "creating index...\n",
      "index created!\n"
     ]
    },
    {
     "name": "stderr",
     "output_type": "stream",
     "text": [
      "2021-01-03 14:34:27,023 - mmdet - INFO - load model from: torchvision://resnet50\n",
      "2021-01-03 14:34:27,219 - mmdet - WARNING - The model and loaded state dict do not match exactly\n",
      "\n",
      "unexpected key in source state_dict: fc.weight, fc.bias\n",
      "\n",
      "2021-01-03 14:34:30,625 - mmdet - INFO - load checkpoint from http://download.openmmlab.com/mmdetection/v2.0/cascade_rcnn/cascade_rcnn_r50_fpn_1x_coco/cascade_rcnn_r50_fpn_1x_coco_20200316-3dc56deb.pth\n"
     ]
    },
    {
     "name": "stdout",
     "output_type": "stream",
     "text": [
      "loading annotations into memory...\n",
      "Done (t=0.08s)\n",
      "creating index...\n",
      "index created!\n"
     ]
    },
    {
     "name": "stderr",
     "output_type": "stream",
     "text": [
      "2021-01-03 14:34:30,767 - mmdet - WARNING - The model and loaded state dict do not match exactly\n",
      "\n",
      "unexpected key in source state_dict: roi_head.bbox_head.0.fc_cls.weight, roi_head.bbox_head.0.fc_cls.bias, roi_head.bbox_head.0.fc_reg.weight, roi_head.bbox_head.0.fc_reg.bias, roi_head.bbox_head.0.shared_fcs.0.weight, roi_head.bbox_head.0.shared_fcs.0.bias, roi_head.bbox_head.0.shared_fcs.1.weight, roi_head.bbox_head.0.shared_fcs.1.bias, roi_head.bbox_head.1.fc_cls.weight, roi_head.bbox_head.1.fc_cls.bias, roi_head.bbox_head.1.fc_reg.weight, roi_head.bbox_head.1.fc_reg.bias, roi_head.bbox_head.1.shared_fcs.0.weight, roi_head.bbox_head.1.shared_fcs.0.bias, roi_head.bbox_head.1.shared_fcs.1.weight, roi_head.bbox_head.1.shared_fcs.1.bias, roi_head.bbox_head.2.fc_cls.weight, roi_head.bbox_head.2.fc_cls.bias, roi_head.bbox_head.2.fc_reg.weight, roi_head.bbox_head.2.fc_reg.bias, roi_head.bbox_head.2.shared_fcs.0.weight, roi_head.bbox_head.2.shared_fcs.0.bias, roi_head.bbox_head.2.shared_fcs.1.weight, roi_head.bbox_head.2.shared_fcs.1.bias\n",
      "\n",
      "missing keys in source state_dict: roi_head.bbox_head.fc_cls.weight, roi_head.bbox_head.fc_cls.bias, roi_head.bbox_head.fc_reg.weight, roi_head.bbox_head.fc_reg.bias, roi_head.bbox_head.shared_fcs.0.weight, roi_head.bbox_head.shared_fcs.0.bias, roi_head.bbox_head.shared_fcs.1.weight, roi_head.bbox_head.shared_fcs.1.bias\n",
      "\n",
      "2021-01-03 14:34:30,776 - mmdet - INFO - Start running, host: thinh@kelab-Z270X-Ultra-Gaming, work_dir: /home/thinh/nfl/mmdet-models/model_a1_44\n",
      "2021-01-03 14:34:30,777 - mmdet - INFO - workflow: [('train', 1)], max: 50 epochs\n",
      "2021-01-03 14:35:18,891 - mmdet - INFO - Epoch [1][50/2001]\tlr: 4.945e-04, eta: 1 day, 2:36:18, time: 0.958, data_time: 0.058, memory: 6189, loss_rpn_cls: 0.1102, loss_rpn_bbox: 0.0901, loss_cls: 1.5876, acc: 71.8164, loss_bbox: 0.3749, loss: 2.1629\n",
      "2021-01-03 14:36:09,805 - mmdet - INFO - Epoch [1][100/2001]\tlr: 9.940e-04, eta: 1 day, 3:26:10, time: 1.019, data_time: 0.012, memory: 6189, loss_rpn_cls: 0.0457, loss_rpn_bbox: 0.0787, loss_cls: 0.3689, acc: 87.3818, loss_bbox: 0.5419, loss: 1.0352\n",
      "2021-01-03 14:37:04,369 - mmdet - INFO - Epoch [1][150/2001]\tlr: 1.494e-03, eta: 1 day, 4:22:22, time: 1.091, data_time: 0.011, memory: 6189, loss_rpn_cls: 0.0309, loss_rpn_bbox: 0.0760, loss_cls: 0.3213, acc: 87.8496, loss_bbox: 0.5469, loss: 0.9751\n",
      "2021-01-03 14:37:55,743 - mmdet - INFO - Epoch [1][200/2001]\tlr: 1.993e-03, eta: 1 day, 4:22:48, time: 1.026, data_time: 0.012, memory: 6189, loss_rpn_cls: 0.0209, loss_rpn_bbox: 0.0639, loss_cls: 0.2876, acc: 89.1719, loss_bbox: 0.4776, loss: 0.8501\n",
      "2021-01-03 14:38:50,147 - mmdet - INFO - Epoch [1][250/2001]\tlr: 2.493e-03, eta: 1 day, 4:41:17, time: 1.081, data_time: 0.014, memory: 6189, loss_rpn_cls: 0.0221, loss_rpn_bbox: 0.0674, loss_cls: 0.2918, acc: 89.0098, loss_bbox: 0.4855, loss: 0.8668\n",
      "2021-01-03 14:39:42,521 - mmdet - INFO - Epoch [1][300/2001]\tlr: 2.992e-03, eta: 1 day, 4:46:10, time: 1.056, data_time: 0.021, memory: 6189, loss_rpn_cls: 0.0168, loss_rpn_bbox: 0.0745, loss_cls: 0.2880, acc: 89.0889, loss_bbox: 0.4818, loss: 0.8610\n",
      "2021-01-03 14:40:36,819 - mmdet - INFO - Epoch [1][350/2001]\tlr: 3.492e-03, eta: 1 day, 4:56:29, time: 1.085, data_time: 0.013, memory: 6189, loss_rpn_cls: 0.0181, loss_rpn_bbox: 0.0615, loss_cls: 0.2653, acc: 89.9385, loss_bbox: 0.4470, loss: 0.7920\n",
      "2021-01-03 14:41:29,501 - mmdet - INFO - Epoch [1][400/2001]\tlr: 3.991e-03, eta: 1 day, 4:57:43, time: 1.055, data_time: 0.013, memory: 6189, loss_rpn_cls: 0.0177, loss_rpn_bbox: 0.0738, loss_cls: 0.2873, acc: 88.9727, loss_bbox: 0.4640, loss: 0.8429\n",
      "2021-01-03 14:42:21,449 - mmdet - INFO - Epoch [1][450/2001]\tlr: 4.491e-03, eta: 1 day, 4:54:57, time: 1.036, data_time: 0.012, memory: 6189, loss_rpn_cls: 0.0142, loss_rpn_bbox: 0.0660, loss_cls: 0.2538, acc: 90.4248, loss_bbox: 0.4280, loss: 0.7620\n",
      "2021-01-03 14:43:14,916 - mmdet - INFO - Epoch [1][500/2001]\tlr: 4.990e-03, eta: 1 day, 4:58:34, time: 1.072, data_time: 0.015, memory: 6189, loss_rpn_cls: 0.0177, loss_rpn_bbox: 0.0657, loss_cls: 0.2672, acc: 89.8252, loss_bbox: 0.4236, loss: 0.7741\n",
      "2021-01-03 14:44:06,913 - mmdet - INFO - Epoch [1][550/2001]\tlr: 5.000e-03, eta: 1 day, 4:56:29, time: 1.040, data_time: 0.013, memory: 6189, loss_rpn_cls: 0.0136, loss_rpn_bbox: 0.0571, loss_cls: 0.2444, acc: 90.5459, loss_bbox: 0.4236, loss: 0.7386\n",
      "2021-01-03 14:45:01,673 - mmdet - INFO - Epoch [1][600/2001]\tlr: 5.000e-03, eta: 1 day, 5:01:22, time: 1.089, data_time: 0.013, memory: 6189, loss_rpn_cls: 0.0127, loss_rpn_bbox: 0.0610, loss_cls: 0.2430, acc: 90.6865, loss_bbox: 0.4052, loss: 0.7220\n",
      "2021-01-03 14:45:56,922 - mmdet - INFO - Epoch [1][650/2001]\tlr: 5.000e-03, eta: 1 day, 5:08:10, time: 1.111, data_time: 0.020, memory: 6189, loss_rpn_cls: 0.0139, loss_rpn_bbox: 0.0549, loss_cls: 0.2338, acc: 91.0068, loss_bbox: 0.4030, loss: 0.7056\n",
      "2021-01-03 14:46:51,689 - mmdet - INFO - Epoch [1][700/2001]\tlr: 5.000e-03, eta: 1 day, 5:12:06, time: 1.096, data_time: 0.013, memory: 6189, loss_rpn_cls: 0.0108, loss_rpn_bbox: 0.0558, loss_cls: 0.2166, acc: 91.8438, loss_bbox: 0.3884, loss: 0.6716\n",
      "2021-01-03 14:47:47,516 - mmdet - INFO - Epoch [1][750/2001]\tlr: 5.000e-03, eta: 1 day, 5:17:38, time: 1.116, data_time: 0.012, memory: 6189, loss_rpn_cls: 0.0138, loss_rpn_bbox: 0.0535, loss_cls: 0.2322, acc: 91.0596, loss_bbox: 0.3808, loss: 0.6803\n",
      "2021-01-03 14:48:39,872 - mmdet - INFO - Epoch [1][800/2001]\tlr: 5.000e-03, eta: 1 day, 5:15:13, time: 1.047, data_time: 0.013, memory: 6189, loss_rpn_cls: 0.0147, loss_rpn_bbox: 0.0532, loss_cls: 0.2212, acc: 91.6768, loss_bbox: 0.3782, loss: 0.6673\n",
      "2021-01-03 14:49:34,887 - mmdet - INFO - Epoch [1][850/2001]\tlr: 5.000e-03, eta: 1 day, 5:18:10, time: 1.100, data_time: 0.013, memory: 6189, loss_rpn_cls: 0.0106, loss_rpn_bbox: 0.0503, loss_cls: 0.2165, acc: 91.7617, loss_bbox: 0.3727, loss: 0.6501\n",
      "2021-01-03 14:50:27,964 - mmdet - INFO - Epoch [1][900/2001]\tlr: 5.000e-03, eta: 1 day, 5:17:07, time: 1.062, data_time: 0.012, memory: 6189, loss_rpn_cls: 0.0150, loss_rpn_bbox: 0.0572, loss_cls: 0.2154, acc: 91.7930, loss_bbox: 0.3666, loss: 0.6542\n",
      "2021-01-03 14:51:19,124 - mmdet - INFO - Epoch [1][950/2001]\tlr: 5.000e-03, eta: 1 day, 5:12:44, time: 1.023, data_time: 0.012, memory: 6189, loss_rpn_cls: 0.0116, loss_rpn_bbox: 0.0567, loss_cls: 0.2132, acc: 91.8828, loss_bbox: 0.3699, loss: 0.6514\n",
      "2021-01-03 14:52:14,455 - mmdet - INFO - Epoch [1][1000/2001]\tlr: 5.000e-03, eta: 1 day, 5:15:07, time: 1.101, data_time: 0.012, memory: 6189, loss_rpn_cls: 0.0103, loss_rpn_bbox: 0.0554, loss_cls: 0.2243, acc: 91.2812, loss_bbox: 0.3884, loss: 0.6785\n",
      "2021-01-03 14:53:07,854 - mmdet - INFO - Epoch [1][1050/2001]\tlr: 5.000e-03, eta: 1 day, 5:15:02, time: 1.073, data_time: 0.018, memory: 6189, loss_rpn_cls: 0.0108, loss_rpn_bbox: 0.0514, loss_cls: 0.2170, acc: 91.6533, loss_bbox: 0.3622, loss: 0.6414\n",
      "2021-01-03 14:54:03,178 - mmdet - INFO - Epoch [1][1100/2001]\tlr: 5.000e-03, eta: 1 day, 5:17:23, time: 1.107, data_time: 0.012, memory: 6189, loss_rpn_cls: 0.0093, loss_rpn_bbox: 0.0526, loss_cls: 0.2243, acc: 91.3926, loss_bbox: 0.3626, loss: 0.6489\n",
      "2021-01-03 14:54:55,419 - mmdet - INFO - Epoch [1][1150/2001]\tlr: 5.000e-03, eta: 1 day, 5:14:59, time: 1.045, data_time: 0.012, memory: 6189, loss_rpn_cls: 0.0110, loss_rpn_bbox: 0.0519, loss_cls: 0.2045, acc: 92.2031, loss_bbox: 0.3528, loss: 0.6202\n",
      "2021-01-03 14:55:48,327 - mmdet - INFO - Epoch [1][1200/2001]\tlr: 5.000e-03, eta: 1 day, 5:13:40, time: 1.059, data_time: 0.013, memory: 6189, loss_rpn_cls: 0.0108, loss_rpn_bbox: 0.0476, loss_cls: 0.1997, acc: 92.3008, loss_bbox: 0.3446, loss: 0.6026\n",
      "2021-01-03 14:56:41,201 - mmdet - INFO - Epoch [1][1250/2001]\tlr: 5.000e-03, eta: 1 day, 5:12:19, time: 1.057, data_time: 0.012, memory: 6189, loss_rpn_cls: 0.0104, loss_rpn_bbox: 0.0544, loss_cls: 0.2144, acc: 91.8857, loss_bbox: 0.3598, loss: 0.6390\n",
      "2021-01-03 14:57:32,695 - mmdet - INFO - Epoch [1][1300/2001]\tlr: 5.000e-03, eta: 1 day, 5:09:16, time: 1.030, data_time: 0.012, memory: 6189, loss_rpn_cls: 0.0097, loss_rpn_bbox: 0.0536, loss_cls: 0.2067, acc: 92.0117, loss_bbox: 0.3599, loss: 0.6298\n",
      "2021-01-03 14:58:26,256 - mmdet - INFO - Epoch [1][1350/2001]\tlr: 5.000e-03, eta: 1 day, 5:08:53, time: 1.071, data_time: 0.012, memory: 6189, loss_rpn_cls: 0.0104, loss_rpn_bbox: 0.0503, loss_cls: 0.2024, acc: 92.2256, loss_bbox: 0.3488, loss: 0.6120\n"
     ]
    },
    {
     "name": "stderr",
     "output_type": "stream",
     "text": [
      "2021-01-03 14:59:19,117 - mmdet - INFO - Epoch [1][1400/2001]\tlr: 5.000e-03, eta: 1 day, 5:07:38, time: 1.057, data_time: 0.012, memory: 6189, loss_rpn_cls: 0.0110, loss_rpn_bbox: 0.0503, loss_cls: 0.2029, acc: 92.1191, loss_bbox: 0.3467, loss: 0.6109\n",
      "2021-01-03 15:00:14,263 - mmdet - INFO - Epoch [1][1450/2001]\tlr: 5.000e-03, eta: 1 day, 5:09:02, time: 1.103, data_time: 0.012, memory: 6189, loss_rpn_cls: 0.0099, loss_rpn_bbox: 0.0496, loss_cls: 0.1981, acc: 92.4023, loss_bbox: 0.3542, loss: 0.6118\n",
      "2021-01-03 15:01:04,767 - mmdet - INFO - Epoch [1][1500/2001]\tlr: 5.000e-03, eta: 1 day, 5:05:09, time: 1.010, data_time: 0.013, memory: 6189, loss_rpn_cls: 0.0097, loss_rpn_bbox: 0.0515, loss_cls: 0.2056, acc: 92.1641, loss_bbox: 0.3453, loss: 0.6120\n",
      "2021-01-03 15:01:56,489 - mmdet - INFO - Epoch [1][1550/2001]\tlr: 5.000e-03, eta: 1 day, 5:02:48, time: 1.035, data_time: 0.013, memory: 6189, loss_rpn_cls: 0.0118, loss_rpn_bbox: 0.0502, loss_cls: 0.2021, acc: 92.3457, loss_bbox: 0.3385, loss: 0.6026\n",
      "2021-01-03 15:02:52,171 - mmdet - INFO - Epoch [1][1600/2001]\tlr: 5.000e-03, eta: 1 day, 5:04:35, time: 1.114, data_time: 0.012, memory: 6189, loss_rpn_cls: 0.0087, loss_rpn_bbox: 0.0520, loss_cls: 0.2023, acc: 92.2197, loss_bbox: 0.3373, loss: 0.6002\n",
      "2021-01-03 15:03:48,018 - mmdet - INFO - Epoch [1][1650/2001]\tlr: 5.000e-03, eta: 1 day, 5:06:21, time: 1.116, data_time: 0.013, memory: 6189, loss_rpn_cls: 0.0080, loss_rpn_bbox: 0.0472, loss_cls: 0.1973, acc: 92.4746, loss_bbox: 0.3443, loss: 0.5967\n",
      "2021-01-03 15:04:39,781 - mmdet - INFO - Epoch [1][1700/2001]\tlr: 5.000e-03, eta: 1 day, 5:04:03, time: 1.036, data_time: 0.013, memory: 6189, loss_rpn_cls: 0.0099, loss_rpn_bbox: 0.0484, loss_cls: 0.1971, acc: 92.4297, loss_bbox: 0.3462, loss: 0.6017\n",
      "2021-01-03 15:05:33,535 - mmdet - INFO - Epoch [1][1750/2001]\tlr: 5.000e-03, eta: 1 day, 5:03:40, time: 1.075, data_time: 0.012, memory: 6189, loss_rpn_cls: 0.0114, loss_rpn_bbox: 0.0491, loss_cls: 0.1926, acc: 92.6201, loss_bbox: 0.3283, loss: 0.5813\n",
      "2021-01-03 15:06:27,583 - mmdet - INFO - Epoch [1][1800/2001]\tlr: 5.000e-03, eta: 1 day, 5:03:32, time: 1.081, data_time: 0.013, memory: 6189, loss_rpn_cls: 0.0092, loss_rpn_bbox: 0.0489, loss_cls: 0.1878, acc: 92.8398, loss_bbox: 0.3272, loss: 0.5731\n",
      "2021-01-03 15:07:20,259 - mmdet - INFO - Epoch [1][1850/2001]\tlr: 5.000e-03, eta: 1 day, 5:02:00, time: 1.050, data_time: 0.013, memory: 6189, loss_rpn_cls: 0.0088, loss_rpn_bbox: 0.0529, loss_cls: 0.1954, acc: 92.4561, loss_bbox: 0.3391, loss: 0.5962\n",
      "2021-01-03 15:08:16,772 - mmdet - INFO - Epoch [1][1900/2001]\tlr: 5.000e-03, eta: 1 day, 5:04:06, time: 1.134, data_time: 0.017, memory: 6189, loss_rpn_cls: 0.0102, loss_rpn_bbox: 0.0466, loss_cls: 0.1974, acc: 92.5303, loss_bbox: 0.3463, loss: 0.6004\n",
      "2021-01-03 15:09:07,573 - mmdet - INFO - Epoch [1][1950/2001]\tlr: 5.000e-03, eta: 1 day, 5:01:05, time: 1.016, data_time: 0.013, memory: 6189, loss_rpn_cls: 0.0084, loss_rpn_bbox: 0.0450, loss_cls: 0.1958, acc: 92.6738, loss_bbox: 0.3232, loss: 0.5725\n",
      "2021-01-03 15:10:01,758 - mmdet - INFO - Epoch [1][2000/2001]\tlr: 5.000e-03, eta: 1 day, 5:01:00, time: 1.084, data_time: 0.013, memory: 6189, loss_rpn_cls: 0.0098, loss_rpn_bbox: 0.0470, loss_cls: 0.1862, acc: 92.9697, loss_bbox: 0.3207, loss: 0.5638\n",
      "2021-01-03 15:10:02,551 - mmdet - INFO - Saving checkpoint at 1 epochs\n"
     ]
    },
    {
     "name": "stdout",
     "output_type": "stream",
     "text": [
      "[>>>>>>>>>>>>>>>>>>>>>>>>>>>] 2013/2013, 9.2 task/s, elapsed: 219s, ETA:     0s"
     ]
    },
    {
     "name": "stderr",
     "output_type": "stream",
     "text": [
      "2021-01-03 15:13:42,476 - mmdet - INFO - \n",
      "Evaluateing valid_44.json with 2013 images now\n",
      "2021-01-03 15:13:43,291 - mmdet - INFO - Evaluating bbox...\n"
     ]
    },
    {
     "name": "stdout",
     "output_type": "stream",
     "text": [
      "Loading and preparing results...\n",
      "DONE (t=0.28s)\n",
      "creating index...\n",
      "index created!\n",
      "Running per image evaluation...\n",
      "Evaluate annotation type *bbox*\n",
      "DONE (t=19.79s).\n",
      "Accumulating evaluation results...\n"
     ]
    },
    {
     "name": "stderr",
     "output_type": "stream",
     "text": [
      "2021-01-03 15:14:04,276 - mmdet - INFO - Epoch(val) [1][2001]\t0_bbox_mAP: 0.2570, 0_bbox_mAP_50: 0.4450, 0_bbox_mAP_75: 0.2800, 0_bbox_mAP_s: 0.2520, 0_bbox_mAP_m: 0.4530, 0_bbox_mAP_l: -1.0000, 0_bbox_mAP_copypaste: 0.257 0.445 0.280 0.252 0.453 -1.000\n"
     ]
    },
    {
     "name": "stdout",
     "output_type": "stream",
     "text": [
      "DONE (t=0.83s).\n",
      "Average Precision  (AP) @[ IoU=0.50:0.95 | area=   all | maxDets=100 ] = 0.257\n",
      "Average Precision  (AP) @[ IoU=0.50      | area=   all | maxDets=1000 ] = 0.445\n",
      "Average Precision  (AP) @[ IoU=0.75      | area=   all | maxDets=1000 ] = 0.280\n",
      "Average Precision  (AP) @[ IoU=0.50:0.95 | area= small | maxDets=1000 ] = 0.252\n",
      "Average Precision  (AP) @[ IoU=0.50:0.95 | area=medium | maxDets=1000 ] = 0.453\n",
      "Average Precision  (AP) @[ IoU=0.50:0.95 | area= large | maxDets=1000 ] = -1.000\n",
      "Average Recall     (AR) @[ IoU=0.50:0.95 | area=   all | maxDets=100 ] = 0.308\n",
      "Average Recall     (AR) @[ IoU=0.50:0.95 | area=   all | maxDets=300 ] = 0.308\n",
      "Average Recall     (AR) @[ IoU=0.50:0.95 | area=   all | maxDets=1000 ] = 0.308\n",
      "Average Recall     (AR) @[ IoU=0.50:0.95 | area= small | maxDets=1000 ] = 0.304\n",
      "Average Recall     (AR) @[ IoU=0.50:0.95 | area=medium | maxDets=1000 ] = 0.484\n",
      "Average Recall     (AR) @[ IoU=0.50:0.95 | area= large | maxDets=1000 ] = -1.000\n"
     ]
    },
    {
     "name": "stderr",
     "output_type": "stream",
     "text": [
      "2021-01-03 15:14:54,451 - mmdet - INFO - Epoch [2][50/2001]\tlr: 5.000e-03, eta: 1 day, 4:56:36, time: 0.999, data_time: 0.058, memory: 6189, loss_rpn_cls: 0.0087, loss_rpn_bbox: 0.0470, loss_cls: 0.1885, acc: 92.8115, loss_bbox: 0.3383, loss: 0.5826\n",
      "2021-01-03 15:15:45,466 - mmdet - INFO - Epoch [2][100/2001]\tlr: 5.000e-03, eta: 1 day, 4:54:02, time: 1.020, data_time: 0.012, memory: 6189, loss_rpn_cls: 0.0087, loss_rpn_bbox: 0.0413, loss_cls: 0.1980, acc: 92.4043, loss_bbox: 0.3323, loss: 0.5803\n",
      "2021-01-03 15:16:36,830 - mmdet - INFO - Epoch [2][150/2001]\tlr: 5.000e-03, eta: 1 day, 4:51:50, time: 1.028, data_time: 0.012, memory: 6189, loss_rpn_cls: 0.0069, loss_rpn_bbox: 0.0475, loss_cls: 0.1937, acc: 92.7412, loss_bbox: 0.3384, loss: 0.5866\n",
      "2021-01-03 15:17:30,184 - mmdet - INFO - Epoch [2][200/2001]\tlr: 5.000e-03, eta: 1 day, 4:51:10, time: 1.067, data_time: 0.012, memory: 6189, loss_rpn_cls: 0.0068, loss_rpn_bbox: 0.0452, loss_cls: 0.1890, acc: 92.8018, loss_bbox: 0.3337, loss: 0.5747\n",
      "2021-01-03 15:18:23,490 - mmdet - INFO - Epoch [2][250/2001]\tlr: 5.000e-03, eta: 1 day, 4:50:24, time: 1.065, data_time: 0.012, memory: 6189, loss_rpn_cls: 0.0078, loss_rpn_bbox: 0.0447, loss_cls: 0.1913, acc: 92.6816, loss_bbox: 0.3404, loss: 0.5843\n",
      "2021-01-03 15:19:18,957 - mmdet - INFO - Epoch [2][300/2001]\tlr: 5.000e-03, eta: 1 day, 4:51:14, time: 1.110, data_time: 0.013, memory: 6189, loss_rpn_cls: 0.0091, loss_rpn_bbox: 0.0460, loss_cls: 0.1849, acc: 92.8311, loss_bbox: 0.3265, loss: 0.5665\n",
      "2021-01-03 15:20:10,487 - mmdet - INFO - Epoch [2][350/2001]\tlr: 5.000e-03, eta: 1 day, 4:49:14, time: 1.030, data_time: 0.012, memory: 6189, loss_rpn_cls: 0.0071, loss_rpn_bbox: 0.0444, loss_cls: 0.1893, acc: 92.8701, loss_bbox: 0.3280, loss: 0.5687\n",
      "2021-01-03 15:21:03,966 - mmdet - INFO - Epoch [2][400/2001]\tlr: 5.000e-03, eta: 1 day, 4:48:37, time: 1.070, data_time: 0.012, memory: 6189, loss_rpn_cls: 0.0078, loss_rpn_bbox: 0.0457, loss_cls: 0.1887, acc: 92.7598, loss_bbox: 0.3304, loss: 0.5725\n",
      "2021-01-03 15:21:57,700 - mmdet - INFO - Epoch [2][450/2001]\tlr: 5.000e-03, eta: 1 day, 4:48:09, time: 1.075, data_time: 0.012, memory: 6189, loss_rpn_cls: 0.0080, loss_rpn_bbox: 0.0471, loss_cls: 0.2003, acc: 92.7568, loss_bbox: 0.3240, loss: 0.5794\n",
      "2021-01-03 15:22:49,248 - mmdet - INFO - Epoch [2][500/2001]\tlr: 5.000e-03, eta: 1 day, 4:46:15, time: 1.031, data_time: 0.013, memory: 6189, loss_rpn_cls: 0.0070, loss_rpn_bbox: 0.0435, loss_cls: 0.1904, acc: 92.7207, loss_bbox: 0.3156, loss: 0.5566\n",
      "2021-01-03 15:23:43,918 - mmdet - INFO - Epoch [2][550/2001]\tlr: 5.000e-03, eta: 1 day, 4:46:21, time: 1.093, data_time: 0.012, memory: 6189, loss_rpn_cls: 0.0083, loss_rpn_bbox: 0.0496, loss_cls: 0.1849, acc: 92.9844, loss_bbox: 0.3265, loss: 0.5693\n",
      "2021-01-03 15:24:36,761 - mmdet - INFO - Epoch [2][600/2001]\tlr: 5.000e-03, eta: 1 day, 4:45:18, time: 1.057, data_time: 0.013, memory: 6189, loss_rpn_cls: 0.0074, loss_rpn_bbox: 0.0461, loss_cls: 0.1980, acc: 92.6533, loss_bbox: 0.3249, loss: 0.5764\n",
      "2021-01-03 15:25:32,413 - mmdet - INFO - Epoch [2][650/2001]\tlr: 5.000e-03, eta: 1 day, 4:45:59, time: 1.113, data_time: 0.013, memory: 6189, loss_rpn_cls: 0.0083, loss_rpn_bbox: 0.0481, loss_cls: 0.1755, acc: 93.4072, loss_bbox: 0.3150, loss: 0.5468\n",
      "2021-01-03 15:26:30,689 - mmdet - INFO - Epoch [2][700/2001]\tlr: 5.000e-03, eta: 1 day, 4:48:10, time: 1.165, data_time: 0.014, memory: 6189, loss_rpn_cls: 0.0094, loss_rpn_bbox: 0.0495, loss_cls: 0.1783, acc: 93.2197, loss_bbox: 0.3243, loss: 0.5615\n",
      "2021-01-03 15:27:25,940 - mmdet - INFO - Epoch [2][750/2001]\tlr: 5.000e-03, eta: 1 day, 4:48:26, time: 1.105, data_time: 0.013, memory: 6189, loss_rpn_cls: 0.0068, loss_rpn_bbox: 0.0465, loss_cls: 0.1798, acc: 93.1533, loss_bbox: 0.3187, loss: 0.5517\n",
      "2021-01-03 15:28:17,907 - mmdet - INFO - Epoch [2][800/2001]\tlr: 5.000e-03, eta: 1 day, 4:46:47, time: 1.040, data_time: 0.013, memory: 6189, loss_rpn_cls: 0.0080, loss_rpn_bbox: 0.0485, loss_cls: 0.1747, acc: 93.3594, loss_bbox: 0.3125, loss: 0.5437\n",
      "2021-01-03 15:29:11,564 - mmdet - INFO - Epoch [2][850/2001]\tlr: 5.000e-03, eta: 1 day, 4:46:08, time: 1.073, data_time: 0.013, memory: 6189, loss_rpn_cls: 0.0079, loss_rpn_bbox: 0.0438, loss_cls: 0.1792, acc: 93.2725, loss_bbox: 0.3116, loss: 0.5425\n",
      "2021-01-03 15:30:07,334 - mmdet - INFO - Epoch [2][900/2001]\tlr: 5.000e-03, eta: 1 day, 4:46:37, time: 1.115, data_time: 0.013, memory: 6189, loss_rpn_cls: 0.0078, loss_rpn_bbox: 0.0450, loss_cls: 0.1763, acc: 93.3320, loss_bbox: 0.3009, loss: 0.5300\n",
      "2021-01-03 15:31:00,885 - mmdet - INFO - Epoch [2][950/2001]\tlr: 5.000e-03, eta: 1 day, 4:45:52, time: 1.071, data_time: 0.013, memory: 6189, loss_rpn_cls: 0.0079, loss_rpn_bbox: 0.0489, loss_cls: 0.1732, acc: 93.3447, loss_bbox: 0.3095, loss: 0.5395\n",
      "2021-01-03 15:31:56,321 - mmdet - INFO - Epoch [2][1000/2001]\tlr: 5.000e-03, eta: 1 day, 4:46:07, time: 1.109, data_time: 0.013, memory: 6189, loss_rpn_cls: 0.0067, loss_rpn_bbox: 0.0436, loss_cls: 0.1679, acc: 93.4170, loss_bbox: 0.3031, loss: 0.5213\n",
      "2021-01-03 15:32:49,274 - mmdet - INFO - Epoch [2][1050/2001]\tlr: 5.000e-03, eta: 1 day, 4:45:00, time: 1.059, data_time: 0.013, memory: 6189, loss_rpn_cls: 0.0070, loss_rpn_bbox: 0.0437, loss_cls: 0.1833, acc: 92.7871, loss_bbox: 0.3140, loss: 0.5481\n",
      "2021-01-03 15:33:43,366 - mmdet - INFO - Epoch [2][1100/2001]\tlr: 5.000e-03, eta: 1 day, 4:44:30, time: 1.082, data_time: 0.013, memory: 6189, loss_rpn_cls: 0.0069, loss_rpn_bbox: 0.0463, loss_cls: 0.1933, acc: 92.9531, loss_bbox: 0.3191, loss: 0.5657\n",
      "2021-01-03 15:34:37,568 - mmdet - INFO - Epoch [2][1150/2001]\tlr: 5.000e-03, eta: 1 day, 4:43:57, time: 1.080, data_time: 0.013, memory: 6189, loss_rpn_cls: 0.0068, loss_rpn_bbox: 0.0465, loss_cls: 0.1835, acc: 93.2471, loss_bbox: 0.3102, loss: 0.5470\n",
      "2021-01-03 15:35:31,257 - mmdet - INFO - Epoch [2][1200/2001]\tlr: 5.000e-03, eta: 1 day, 4:43:19, time: 1.077, data_time: 0.016, memory: 6189, loss_rpn_cls: 0.0079, loss_rpn_bbox: 0.0476, loss_cls: 0.1876, acc: 93.1846, loss_bbox: 0.3150, loss: 0.5581\n",
      "2021-01-03 15:36:25,821 - mmdet - INFO - Epoch [2][1250/2001]\tlr: 5.000e-03, eta: 1 day, 4:43:01, time: 1.092, data_time: 0.013, memory: 6189, loss_rpn_cls: 0.0066, loss_rpn_bbox: 0.0476, loss_cls: 0.1863, acc: 92.8252, loss_bbox: 0.3261, loss: 0.5665\n",
      "2021-01-03 15:37:19,806 - mmdet - INFO - Epoch [2][1300/2001]\tlr: 5.000e-03, eta: 1 day, 4:42:24, time: 1.079, data_time: 0.012, memory: 6189, loss_rpn_cls: 0.0058, loss_rpn_bbox: 0.0446, loss_cls: 0.1909, acc: 93.0566, loss_bbox: 0.3217, loss: 0.5629\n",
      "2021-01-03 15:38:11,962 - mmdet - INFO - Epoch [2][1350/2001]\tlr: 5.000e-03, eta: 1 day, 4:40:55, time: 1.043, data_time: 0.013, memory: 6189, loss_rpn_cls: 0.0065, loss_rpn_bbox: 0.0416, loss_cls: 0.1913, acc: 93.2402, loss_bbox: 0.3050, loss: 0.5444\n",
      "2021-01-03 15:39:08,683 - mmdet - INFO - Epoch [2][1400/2001]\tlr: 5.000e-03, eta: 1 day, 4:41:36, time: 1.134, data_time: 0.013, memory: 6189, loss_rpn_cls: 0.0066, loss_rpn_bbox: 0.0463, loss_cls: 0.1834, acc: 93.4102, loss_bbox: 0.3078, loss: 0.5441\n",
      "2021-01-03 15:39:59,332 - mmdet - INFO - Epoch [2][1450/2001]\tlr: 5.000e-03, eta: 1 day, 4:39:24, time: 1.013, data_time: 0.012, memory: 6189, loss_rpn_cls: 0.0070, loss_rpn_bbox: 0.0456, loss_cls: 0.1733, acc: 93.4863, loss_bbox: 0.3030, loss: 0.5288\n",
      "2021-01-03 15:40:54,818 - mmdet - INFO - Epoch [2][1500/2001]\tlr: 5.000e-03, eta: 1 day, 4:39:28, time: 1.110, data_time: 0.012, memory: 6189, loss_rpn_cls: 0.0060, loss_rpn_bbox: 0.0422, loss_cls: 0.1811, acc: 93.3066, loss_bbox: 0.3086, loss: 0.5380\n",
      "2021-01-03 15:41:48,703 - mmdet - INFO - Epoch [2][1550/2001]\tlr: 5.000e-03, eta: 1 day, 4:38:48, time: 1.078, data_time: 0.013, memory: 6189, loss_rpn_cls: 0.0067, loss_rpn_bbox: 0.0410, loss_cls: 0.1708, acc: 93.5879, loss_bbox: 0.2965, loss: 0.5151\n",
      "2021-01-03 15:42:42,024 - mmdet - INFO - Epoch [2][1600/2001]\tlr: 5.000e-03, eta: 1 day, 4:37:50, time: 1.066, data_time: 0.012, memory: 6189, loss_rpn_cls: 0.0080, loss_rpn_bbox: 0.0392, loss_cls: 0.1819, acc: 93.6240, loss_bbox: 0.2904, loss: 0.5195\n",
      "2021-01-03 15:43:35,469 - mmdet - INFO - Epoch [2][1650/2001]\tlr: 5.000e-03, eta: 1 day, 4:36:58, time: 1.070, data_time: 0.013, memory: 6189, loss_rpn_cls: 0.0065, loss_rpn_bbox: 0.0410, loss_cls: 0.1765, acc: 93.3525, loss_bbox: 0.3020, loss: 0.5259\n"
     ]
    },
    {
     "name": "stderr",
     "output_type": "stream",
     "text": [
      "2021-01-03 15:44:27,635 - mmdet - INFO - Epoch [2][1700/2001]\tlr: 5.000e-03, eta: 1 day, 4:35:31, time: 1.043, data_time: 0.012, memory: 6189, loss_rpn_cls: 0.0083, loss_rpn_bbox: 0.0452, loss_cls: 0.1765, acc: 93.6025, loss_bbox: 0.3049, loss: 0.5350\n",
      "2021-01-03 15:45:21,504 - mmdet - INFO - Epoch [2][1750/2001]\tlr: 5.000e-03, eta: 1 day, 4:34:49, time: 1.077, data_time: 0.013, memory: 6189, loss_rpn_cls: 0.0075, loss_rpn_bbox: 0.0437, loss_cls: 0.1796, acc: 93.7080, loss_bbox: 0.3019, loss: 0.5328\n",
      "2021-01-03 15:46:15,925 - mmdet - INFO - Epoch [2][1800/2001]\tlr: 5.000e-03, eta: 1 day, 4:34:21, time: 1.089, data_time: 0.013, memory: 6189, loss_rpn_cls: 0.0105, loss_rpn_bbox: 0.0449, loss_cls: 0.1678, acc: 93.5635, loss_bbox: 0.3005, loss: 0.5238\n",
      "2021-01-03 15:47:09,158 - mmdet - INFO - Epoch [2][1850/2001]\tlr: 5.000e-03, eta: 1 day, 4:33:20, time: 1.063, data_time: 0.013, memory: 6189, loss_rpn_cls: 0.0073, loss_rpn_bbox: 0.0444, loss_cls: 0.1713, acc: 93.3555, loss_bbox: 0.3110, loss: 0.5340\n",
      "2021-01-03 15:48:01,034 - mmdet - INFO - Epoch [2][1900/2001]\tlr: 5.000e-03, eta: 1 day, 4:31:51, time: 1.040, data_time: 0.015, memory: 6189, loss_rpn_cls: 0.0071, loss_rpn_bbox: 0.0441, loss_cls: 0.1785, acc: 93.3525, loss_bbox: 0.3027, loss: 0.5324\n",
      "2021-01-03 15:48:58,517 - mmdet - INFO - Epoch [2][1950/2001]\tlr: 5.000e-03, eta: 1 day, 4:32:37, time: 1.150, data_time: 0.012, memory: 6189, loss_rpn_cls: 0.0059, loss_rpn_bbox: 0.0435, loss_cls: 0.1786, acc: 93.3789, loss_bbox: 0.2951, loss: 0.5232\n",
      "2021-01-03 15:49:48,588 - mmdet - INFO - Epoch [2][2000/2001]\tlr: 5.000e-03, eta: 1 day, 4:30:22, time: 1.002, data_time: 0.012, memory: 6189, loss_rpn_cls: 0.0061, loss_rpn_bbox: 0.0424, loss_cls: 0.1896, acc: 93.1230, loss_bbox: 0.2972, loss: 0.5352\n",
      "2021-01-03 15:49:50,474 - mmdet - INFO - Saving checkpoint at 2 epochs\n"
     ]
    },
    {
     "name": "stdout",
     "output_type": "stream",
     "text": [
      "[>>>>>>>>>>>>>>>>>>>>>>>>>>>] 2013/2013, 5.9 task/s, elapsed: 341s, ETA:     0s"
     ]
    },
    {
     "name": "stderr",
     "output_type": "stream",
     "text": [
      "2021-01-03 15:55:32,281 - mmdet - INFO - \n",
      "Evaluateing valid_44.json with 2013 images now\n",
      "2021-01-03 15:55:32,888 - mmdet - INFO - Evaluating bbox...\n"
     ]
    },
    {
     "name": "stdout",
     "output_type": "stream",
     "text": [
      "Loading and preparing results...\n",
      "DONE (t=0.30s)\n",
      "creating index...\n",
      "index created!\n",
      "Running per image evaluation...\n",
      "Evaluate annotation type *bbox*\n",
      "DONE (t=22.66s).\n",
      "Accumulating evaluation results...\n"
     ]
    },
    {
     "name": "stderr",
     "output_type": "stream",
     "text": [
      "2021-01-03 15:55:57,046 - mmdet - INFO - Epoch(val) [2][2001]\t0_bbox_mAP: 0.2550, 0_bbox_mAP_50: 0.4410, 0_bbox_mAP_75: 0.2800, 0_bbox_mAP_s: 0.2520, 0_bbox_mAP_m: 0.4540, 0_bbox_mAP_l: -1.0000, 0_bbox_mAP_copypaste: 0.255 0.441 0.280 0.252 0.454 -1.000\n"
     ]
    },
    {
     "name": "stdout",
     "output_type": "stream",
     "text": [
      "DONE (t=1.08s).\n",
      "Average Precision  (AP) @[ IoU=0.50:0.95 | area=   all | maxDets=100 ] = 0.255\n",
      "Average Precision  (AP) @[ IoU=0.50      | area=   all | maxDets=1000 ] = 0.441\n",
      "Average Precision  (AP) @[ IoU=0.75      | area=   all | maxDets=1000 ] = 0.280\n",
      "Average Precision  (AP) @[ IoU=0.50:0.95 | area= small | maxDets=1000 ] = 0.252\n",
      "Average Precision  (AP) @[ IoU=0.50:0.95 | area=medium | maxDets=1000 ] = 0.454\n",
      "Average Precision  (AP) @[ IoU=0.50:0.95 | area= large | maxDets=1000 ] = -1.000\n",
      "Average Recall     (AR) @[ IoU=0.50:0.95 | area=   all | maxDets=100 ] = 0.304\n",
      "Average Recall     (AR) @[ IoU=0.50:0.95 | area=   all | maxDets=300 ] = 0.304\n",
      "Average Recall     (AR) @[ IoU=0.50:0.95 | area=   all | maxDets=1000 ] = 0.304\n",
      "Average Recall     (AR) @[ IoU=0.50:0.95 | area= small | maxDets=1000 ] = 0.298\n",
      "Average Recall     (AR) @[ IoU=0.50:0.95 | area=medium | maxDets=1000 ] = 0.551\n",
      "Average Recall     (AR) @[ IoU=0.50:0.95 | area= large | maxDets=1000 ] = -1.000\n"
     ]
    },
    {
     "name": "stderr",
     "output_type": "stream",
     "text": [
      "2021-01-03 15:57:59,923 - mmdet - INFO - Epoch [3][50/2001]\tlr: 5.000e-03, eta: 1 day, 4:56:16, time: 2.447, data_time: 0.067, memory: 6189, loss_rpn_cls: 0.0064, loss_rpn_bbox: 0.0395, loss_cls: 0.1986, acc: 93.9941, loss_bbox: 0.2822, loss: 0.5268\n",
      "2021-01-03 16:00:00,592 - mmdet - INFO - Epoch [3][100/2001]\tlr: 5.000e-03, eta: 1 day, 5:21:16, time: 2.414, data_time: 0.019, memory: 6189, loss_rpn_cls: 0.0050, loss_rpn_bbox: 0.0391, loss_cls: 0.1772, acc: 93.3926, loss_bbox: 0.2954, loss: 0.5167\n",
      "2021-01-03 16:02:02,043 - mmdet - INFO - Epoch [3][150/2001]\tlr: 5.000e-03, eta: 1 day, 5:45:53, time: 2.429, data_time: 0.019, memory: 6189, loss_rpn_cls: 0.0068, loss_rpn_bbox: 0.0429, loss_cls: 0.1683, acc: 93.7793, loss_bbox: 0.2924, loss: 0.5105\n",
      "2021-01-03 16:04:03,560 - mmdet - INFO - Epoch [3][200/2001]\tlr: 5.000e-03, eta: 1 day, 6:09:57, time: 2.432, data_time: 0.019, memory: 6189, loss_rpn_cls: 0.0061, loss_rpn_bbox: 0.0425, loss_cls: 0.1699, acc: 93.7793, loss_bbox: 0.2963, loss: 0.5149\n",
      "2021-01-03 16:06:06,723 - mmdet - INFO - Epoch [3][250/2001]\tlr: 5.000e-03, eta: 1 day, 6:33:57, time: 2.461, data_time: 0.018, memory: 6189, loss_rpn_cls: 0.0059, loss_rpn_bbox: 0.0433, loss_cls: 0.1724, acc: 93.6113, loss_bbox: 0.2952, loss: 0.5167\n",
      "2021-01-03 16:08:12,911 - mmdet - INFO - Epoch [3][300/2001]\tlr: 5.000e-03, eta: 1 day, 6:58:29, time: 2.524, data_time: 0.020, memory: 6189, loss_rpn_cls: 0.0065, loss_rpn_bbox: 0.0430, loss_cls: 0.1650, acc: 93.6094, loss_bbox: 0.2960, loss: 0.5105\n",
      "2021-01-03 16:10:16,118 - mmdet - INFO - Epoch [3][350/2001]\tlr: 5.000e-03, eta: 1 day, 7:21:23, time: 2.467, data_time: 0.019, memory: 6189, loss_rpn_cls: 0.0067, loss_rpn_bbox: 0.0423, loss_cls: 0.1779, acc: 93.2695, loss_bbox: 0.3072, loss: 0.5341\n",
      "2021-01-03 16:12:19,187 - mmdet - INFO - Epoch [3][400/2001]\tlr: 5.000e-03, eta: 1 day, 7:43:33, time: 2.458, data_time: 0.016, memory: 6189, loss_rpn_cls: 0.0065, loss_rpn_bbox: 0.0450, loss_cls: 0.1618, acc: 93.9141, loss_bbox: 0.2939, loss: 0.5072\n",
      "2021-01-03 16:14:21,958 - mmdet - INFO - Epoch [3][450/2001]\tlr: 5.000e-03, eta: 1 day, 8:05:08, time: 2.456, data_time: 0.020, memory: 6189, loss_rpn_cls: 0.0059, loss_rpn_bbox: 0.0417, loss_cls: 0.1875, acc: 93.5791, loss_bbox: 0.3042, loss: 0.5392\n",
      "2021-01-03 16:16:23,737 - mmdet - INFO - Epoch [3][500/2001]\tlr: 5.000e-03, eta: 1 day, 8:25:50, time: 2.436, data_time: 0.019, memory: 6189, loss_rpn_cls: 0.0074, loss_rpn_bbox: 0.0419, loss_cls: 0.1808, acc: 93.7236, loss_bbox: 0.2949, loss: 0.5250\n",
      "2021-01-03 16:18:24,884 - mmdet - INFO - Epoch [3][550/2001]\tlr: 5.000e-03, eta: 1 day, 8:45:51, time: 2.425, data_time: 0.018, memory: 6189, loss_rpn_cls: 0.0066, loss_rpn_bbox: 0.0417, loss_cls: 0.1740, acc: 93.7236, loss_bbox: 0.2905, loss: 0.5129\n",
      "2021-01-03 16:20:27,112 - mmdet - INFO - Epoch [3][600/2001]\tlr: 5.000e-03, eta: 1 day, 9:05:42, time: 2.443, data_time: 0.017, memory: 6189, loss_rpn_cls: 0.0059, loss_rpn_bbox: 0.0399, loss_cls: 0.1641, acc: 93.7266, loss_bbox: 0.2893, loss: 0.4992\n",
      "2021-01-03 16:22:29,187 - mmdet - INFO - Epoch [3][650/2001]\tlr: 5.000e-03, eta: 1 day, 9:25:01, time: 2.440, data_time: 0.018, memory: 6189, loss_rpn_cls: 0.0049, loss_rpn_bbox: 0.0417, loss_cls: 0.1643, acc: 93.5674, loss_bbox: 0.3021, loss: 0.5130\n",
      "2021-01-03 16:24:31,446 - mmdet - INFO - Epoch [3][700/2001]\tlr: 5.000e-03, eta: 1 day, 9:44:00, time: 2.446, data_time: 0.019, memory: 6189, loss_rpn_cls: 0.0051, loss_rpn_bbox: 0.0437, loss_cls: 0.1617, acc: 93.7900, loss_bbox: 0.3005, loss: 0.5111\n",
      "2021-01-03 16:26:33,343 - mmdet - INFO - Epoch [3][750/2001]\tlr: 5.000e-03, eta: 1 day, 10:02:26, time: 2.440, data_time: 0.019, memory: 6189, loss_rpn_cls: 0.0060, loss_rpn_bbox: 0.0375, loss_cls: 0.1653, acc: 93.8643, loss_bbox: 0.2837, loss: 0.4924\n",
      "2021-01-03 16:28:35,921 - mmdet - INFO - Epoch [3][800/2001]\tlr: 5.000e-03, eta: 1 day, 10:20:35, time: 2.449, data_time: 0.017, memory: 6189, loss_rpn_cls: 0.0060, loss_rpn_bbox: 0.0444, loss_cls: 0.1732, acc: 93.7354, loss_bbox: 0.3035, loss: 0.5271\n",
      "2021-01-03 16:30:39,287 - mmdet - INFO - Epoch [3][850/2001]\tlr: 5.000e-03, eta: 1 day, 10:38:40, time: 2.470, data_time: 0.018, memory: 6189, loss_rpn_cls: 0.0062, loss_rpn_bbox: 0.0410, loss_cls: 0.1650, acc: 93.9785, loss_bbox: 0.2797, loss: 0.4919\n",
      "2021-01-03 16:32:42,879 - mmdet - INFO - Epoch [3][900/2001]\tlr: 5.000e-03, eta: 1 day, 10:56:19, time: 2.468, data_time: 0.016, memory: 6189, loss_rpn_cls: 0.0072, loss_rpn_bbox: 0.0440, loss_cls: 0.1600, acc: 93.8916, loss_bbox: 0.2915, loss: 0.5026\n",
      "2021-01-03 16:34:46,386 - mmdet - INFO - Epoch [3][950/2001]\tlr: 5.000e-03, eta: 1 day, 11:13:38, time: 2.474, data_time: 0.020, memory: 6189, loss_rpn_cls: 0.0055, loss_rpn_bbox: 0.0421, loss_cls: 0.1653, acc: 93.7607, loss_bbox: 0.2862, loss: 0.4991\n",
      "2021-01-03 16:36:49,098 - mmdet - INFO - Epoch [3][1000/2001]\tlr: 5.000e-03, eta: 1 day, 11:30:14, time: 2.451, data_time: 0.016, memory: 6189, loss_rpn_cls: 0.0060, loss_rpn_bbox: 0.0418, loss_cls: 0.1565, acc: 94.0527, loss_bbox: 0.2904, loss: 0.4947\n",
      "2021-01-03 16:38:52,323 - mmdet - INFO - Epoch [3][1050/2001]\tlr: 5.000e-03, eta: 1 day, 11:46:39, time: 2.465, data_time: 0.019, memory: 6189, loss_rpn_cls: 0.0064, loss_rpn_bbox: 0.0450, loss_cls: 0.1679, acc: 93.8311, loss_bbox: 0.2951, loss: 0.5144\n",
      "2021-01-03 16:40:55,738 - mmdet - INFO - Epoch [3][1100/2001]\tlr: 5.000e-03, eta: 1 day, 12:02:46, time: 2.467, data_time: 0.020, memory: 6189, loss_rpn_cls: 0.0050, loss_rpn_bbox: 0.0444, loss_cls: 0.1629, acc: 93.9639, loss_bbox: 0.2884, loss: 0.5008\n",
      "2021-01-03 16:42:57,466 - mmdet - INFO - Epoch [3][1150/2001]\tlr: 5.000e-03, eta: 1 day, 12:18:02, time: 2.436, data_time: 0.020, memory: 6189, loss_rpn_cls: 0.0054, loss_rpn_bbox: 0.0389, loss_cls: 0.1574, acc: 94.3047, loss_bbox: 0.2776, loss: 0.4793\n",
      "2021-01-03 16:45:00,409 - mmdet - INFO - Epoch [3][1200/2001]\tlr: 5.000e-03, eta: 1 day, 12:33:18, time: 2.458, data_time: 0.019, memory: 6189, loss_rpn_cls: 0.0063, loss_rpn_bbox: 0.0418, loss_cls: 0.1588, acc: 93.7959, loss_bbox: 0.2827, loss: 0.4896\n",
      "2021-01-03 16:47:03,165 - mmdet - INFO - Epoch [3][1250/2001]\tlr: 5.000e-03, eta: 1 day, 12:48:14, time: 2.457, data_time: 0.021, memory: 6189, loss_rpn_cls: 0.0062, loss_rpn_bbox: 0.0408, loss_cls: 0.1607, acc: 94.0615, loss_bbox: 0.2878, loss: 0.4955\n",
      "2021-01-03 16:49:09,130 - mmdet - INFO - Epoch [3][1300/2001]\tlr: 5.000e-03, eta: 1 day, 13:03:45, time: 2.518, data_time: 0.019, memory: 6189, loss_rpn_cls: 0.0070, loss_rpn_bbox: 0.0434, loss_cls: 0.1514, acc: 94.1094, loss_bbox: 0.2871, loss: 0.4889\n",
      "2021-01-03 16:51:12,281 - mmdet - INFO - Epoch [3][1350/2001]\tlr: 5.000e-03, eta: 1 day, 13:18:08, time: 2.463, data_time: 0.019, memory: 6189, loss_rpn_cls: 0.0064, loss_rpn_bbox: 0.0369, loss_cls: 0.1567, acc: 94.3340, loss_bbox: 0.2691, loss: 0.4690\n",
      "2021-01-03 16:53:14,053 - mmdet - INFO - Epoch [3][1400/2001]\tlr: 5.000e-03, eta: 1 day, 13:31:49, time: 2.437, data_time: 0.020, memory: 6189, loss_rpn_cls: 0.0052, loss_rpn_bbox: 0.0436, loss_cls: 0.1657, acc: 94.0303, loss_bbox: 0.2741, loss: 0.4887\n",
      "2021-01-03 16:55:16,915 - mmdet - INFO - Epoch [3][1450/2001]\tlr: 5.000e-03, eta: 1 day, 13:45:31, time: 2.457, data_time: 0.019, memory: 6189, loss_rpn_cls: 0.0057, loss_rpn_bbox: 0.0390, loss_cls: 0.1469, acc: 94.4258, loss_bbox: 0.2639, loss: 0.4554\n",
      "2021-01-03 16:57:19,795 - mmdet - INFO - Epoch [3][1500/2001]\tlr: 5.000e-03, eta: 1 day, 13:58:57, time: 2.458, data_time: 0.020, memory: 6189, loss_rpn_cls: 0.0061, loss_rpn_bbox: 0.0429, loss_cls: 0.1492, acc: 94.3525, loss_bbox: 0.2743, loss: 0.4724\n",
      "2021-01-03 16:59:22,567 - mmdet - INFO - Epoch [3][1550/2001]\tlr: 5.000e-03, eta: 1 day, 14:12:03, time: 2.455, data_time: 0.018, memory: 6189, loss_rpn_cls: 0.0060, loss_rpn_bbox: 0.0395, loss_cls: 0.1458, acc: 94.1924, loss_bbox: 0.2751, loss: 0.4664\n",
      "2021-01-03 17:01:25,354 - mmdet - INFO - Epoch [3][1600/2001]\tlr: 5.000e-03, eta: 1 day, 14:24:55, time: 2.458, data_time: 0.019, memory: 6189, loss_rpn_cls: 0.0056, loss_rpn_bbox: 0.0364, loss_cls: 0.1535, acc: 93.8818, loss_bbox: 0.2686, loss: 0.4641\n",
      "2021-01-03 17:02:24,412 - mmdet - INFO - Epoch [3][1650/2001]\tlr: 5.000e-03, eta: 1 day, 14:19:48, time: 1.184, data_time: 0.016, memory: 6189, loss_rpn_cls: 0.0053, loss_rpn_bbox: 0.0381, loss_cls: 0.1540, acc: 93.9180, loss_bbox: 0.2756, loss: 0.4729\n"
     ]
    },
    {
     "name": "stderr",
     "output_type": "stream",
     "text": [
      "2021-01-03 17:03:17,789 - mmdet - INFO - Epoch [3][1700/2001]\tlr: 5.000e-03, eta: 1 day, 14:13:09, time: 1.068, data_time: 0.013, memory: 6189, loss_rpn_cls: 0.0062, loss_rpn_bbox: 0.0420, loss_cls: 0.1515, acc: 93.9111, loss_bbox: 0.2862, loss: 0.4859\n",
      "2021-01-03 17:04:12,257 - mmdet - INFO - Epoch [3][1750/2001]\tlr: 5.000e-03, eta: 1 day, 14:06:54, time: 1.089, data_time: 0.012, memory: 6189, loss_rpn_cls: 0.0057, loss_rpn_bbox: 0.0427, loss_cls: 0.1484, acc: 94.2100, loss_bbox: 0.2887, loss: 0.4855\n",
      "2021-01-03 17:05:08,802 - mmdet - INFO - Epoch [3][1800/2001]\tlr: 5.000e-03, eta: 1 day, 14:01:14, time: 1.127, data_time: 0.012, memory: 6189, loss_rpn_cls: 0.0050, loss_rpn_bbox: 0.0402, loss_cls: 0.1455, acc: 94.2256, loss_bbox: 0.2735, loss: 0.4642\n",
      "2021-01-03 17:06:02,100 - mmdet - INFO - Epoch [3][1850/2001]\tlr: 5.000e-03, eta: 1 day, 13:54:54, time: 1.070, data_time: 0.017, memory: 6189, loss_rpn_cls: 0.0062, loss_rpn_bbox: 0.0429, loss_cls: 0.1535, acc: 93.9717, loss_bbox: 0.2861, loss: 0.4887\n",
      "2021-01-03 17:06:57,349 - mmdet - INFO - Epoch [3][1900/2001]\tlr: 5.000e-03, eta: 1 day, 13:49:07, time: 1.105, data_time: 0.012, memory: 6189, loss_rpn_cls: 0.0055, loss_rpn_bbox: 0.0427, loss_cls: 0.1538, acc: 94.0518, loss_bbox: 0.2932, loss: 0.4951\n",
      "2021-01-03 17:07:51,975 - mmdet - INFO - Epoch [3][1950/2001]\tlr: 5.000e-03, eta: 1 day, 13:43:15, time: 1.092, data_time: 0.012, memory: 6189, loss_rpn_cls: 0.0057, loss_rpn_bbox: 0.0400, loss_cls: 0.1450, acc: 94.2344, loss_bbox: 0.2818, loss: 0.4725\n",
      "2021-01-03 17:08:47,271 - mmdet - INFO - Epoch [3][2000/2001]\tlr: 5.000e-03, eta: 1 day, 13:37:39, time: 1.106, data_time: 0.013, memory: 6189, loss_rpn_cls: 0.0067, loss_rpn_bbox: 0.0418, loss_cls: 0.1448, acc: 94.4199, loss_bbox: 0.2795, loss: 0.4728\n",
      "2021-01-03 17:08:48,113 - mmdet - INFO - Saving checkpoint at 3 epochs\n"
     ]
    },
    {
     "name": "stdout",
     "output_type": "stream",
     "text": [
      "[>>>>>>>>>>>>>>>>>>>>>>>>>>>] 2013/2013, 9.2 task/s, elapsed: 219s, ETA:     0s"
     ]
    },
    {
     "name": "stderr",
     "output_type": "stream",
     "text": [
      "2021-01-03 17:12:28,251 - mmdet - INFO - \n",
      "Evaluateing valid_44.json with 2013 images now\n",
      "2021-01-03 17:12:28,779 - mmdet - INFO - Evaluating bbox...\n"
     ]
    },
    {
     "name": "stdout",
     "output_type": "stream",
     "text": [
      "Loading and preparing results...\n",
      "DONE (t=0.27s)\n",
      "creating index...\n",
      "index created!\n",
      "Running per image evaluation...\n",
      "Evaluate annotation type *bbox*\n",
      "DONE (t=17.59s).\n",
      "Accumulating evaluation results...\n"
     ]
    },
    {
     "name": "stderr",
     "output_type": "stream",
     "text": [
      "2021-01-03 17:12:47,516 - mmdet - INFO - Epoch(val) [3][2001]\t0_bbox_mAP: 0.2650, 0_bbox_mAP_50: 0.4460, 0_bbox_mAP_75: 0.2960, 0_bbox_mAP_s: 0.2590, 0_bbox_mAP_m: 0.4710, 0_bbox_mAP_l: -1.0000, 0_bbox_mAP_copypaste: 0.265 0.446 0.296 0.259 0.471 -1.000\n"
     ]
    },
    {
     "name": "stdout",
     "output_type": "stream",
     "text": [
      "DONE (t=0.80s).\n",
      "Average Precision  (AP) @[ IoU=0.50:0.95 | area=   all | maxDets=100 ] = 0.265\n",
      "Average Precision  (AP) @[ IoU=0.50      | area=   all | maxDets=1000 ] = 0.446\n",
      "Average Precision  (AP) @[ IoU=0.75      | area=   all | maxDets=1000 ] = 0.296\n",
      "Average Precision  (AP) @[ IoU=0.50:0.95 | area= small | maxDets=1000 ] = 0.259\n",
      "Average Precision  (AP) @[ IoU=0.50:0.95 | area=medium | maxDets=1000 ] = 0.471\n",
      "Average Precision  (AP) @[ IoU=0.50:0.95 | area= large | maxDets=1000 ] = -1.000\n",
      "Average Recall     (AR) @[ IoU=0.50:0.95 | area=   all | maxDets=100 ] = 0.323\n",
      "Average Recall     (AR) @[ IoU=0.50:0.95 | area=   all | maxDets=300 ] = 0.323\n",
      "Average Recall     (AR) @[ IoU=0.50:0.95 | area=   all | maxDets=1000 ] = 0.323\n",
      "Average Recall     (AR) @[ IoU=0.50:0.95 | area= small | maxDets=1000 ] = 0.318\n",
      "Average Recall     (AR) @[ IoU=0.50:0.95 | area=medium | maxDets=1000 ] = 0.527\n",
      "Average Recall     (AR) @[ IoU=0.50:0.95 | area= large | maxDets=1000 ] = -1.000\n"
     ]
    },
    {
     "name": "stderr",
     "output_type": "stream",
     "text": [
      "2021-01-03 17:13:34,424 - mmdet - INFO - Epoch [4][50/2001]\tlr: 5.000e-03, eta: 1 day, 13:29:29, time: 0.934, data_time: 0.058, memory: 6189, loss_rpn_cls: 0.0059, loss_rpn_bbox: 0.0383, loss_cls: 0.1455, acc: 94.3340, loss_bbox: 0.2748, loss: 0.4645\n",
      "2021-01-03 17:14:28,836 - mmdet - INFO - Epoch [4][100/2001]\tlr: 5.000e-03, eta: 1 day, 13:23:50, time: 1.088, data_time: 0.013, memory: 6189, loss_rpn_cls: 0.0059, loss_rpn_bbox: 0.0396, loss_cls: 0.1494, acc: 94.1758, loss_bbox: 0.2706, loss: 0.4655\n",
      "2021-01-03 17:15:21,656 - mmdet - INFO - Epoch [4][150/2001]\tlr: 5.000e-03, eta: 1 day, 13:17:51, time: 1.057, data_time: 0.012, memory: 6189, loss_rpn_cls: 0.0059, loss_rpn_bbox: 0.0416, loss_cls: 0.1476, acc: 94.2158, loss_bbox: 0.2846, loss: 0.4797\n",
      "2021-01-03 17:16:16,233 - mmdet - INFO - Epoch [4][200/2001]\tlr: 5.000e-03, eta: 1 day, 13:12:24, time: 1.092, data_time: 0.012, memory: 6189, loss_rpn_cls: 0.0045, loss_rpn_bbox: 0.0401, loss_cls: 0.1469, acc: 94.1875, loss_bbox: 0.2750, loss: 0.4665\n",
      "2021-01-03 17:17:09,311 - mmdet - INFO - Epoch [4][250/2001]\tlr: 5.000e-03, eta: 1 day, 13:06:38, time: 1.061, data_time: 0.012, memory: 6189, loss_rpn_cls: 0.0038, loss_rpn_bbox: 0.0393, loss_cls: 0.1430, acc: 94.3076, loss_bbox: 0.2803, loss: 0.4663\n",
      "2021-01-03 17:18:03,555 - mmdet - INFO - Epoch [4][300/2001]\tlr: 5.000e-03, eta: 1 day, 13:01:14, time: 1.085, data_time: 0.012, memory: 6189, loss_rpn_cls: 0.0041, loss_rpn_bbox: 0.0388, loss_cls: 0.1492, acc: 94.0518, loss_bbox: 0.2888, loss: 0.4809\n",
      "2021-01-03 17:18:58,148 - mmdet - INFO - Epoch [4][350/2001]\tlr: 5.000e-03, eta: 1 day, 12:56:00, time: 1.092, data_time: 0.012, memory: 6189, loss_rpn_cls: 0.0048, loss_rpn_bbox: 0.0401, loss_cls: 0.1400, acc: 94.4717, loss_bbox: 0.2749, loss: 0.4597\n",
      "2021-01-03 17:19:50,922 - mmdet - INFO - Epoch [4][400/2001]\tlr: 5.000e-03, eta: 1 day, 12:50:18, time: 1.049, data_time: 0.012, memory: 6189, loss_rpn_cls: 0.0057, loss_rpn_bbox: 0.0399, loss_cls: 0.1457, acc: 94.1895, loss_bbox: 0.2791, loss: 0.4705\n",
      "2021-01-03 17:20:43,056 - mmdet - INFO - Epoch [4][450/2001]\tlr: 5.000e-03, eta: 1 day, 12:44:40, time: 1.048, data_time: 0.019, memory: 6189, loss_rpn_cls: 0.0053, loss_rpn_bbox: 0.0405, loss_cls: 0.1385, acc: 94.5596, loss_bbox: 0.2853, loss: 0.4696\n",
      "2021-01-03 17:21:46,805 - mmdet - INFO - Epoch [4][500/2001]\tlr: 5.000e-03, eta: 1 day, 12:41:47, time: 1.272, data_time: 0.015, memory: 6189, loss_rpn_cls: 0.0045, loss_rpn_bbox: 0.0381, loss_cls: 0.1428, acc: 94.3896, loss_bbox: 0.2789, loss: 0.4643\n",
      "2021-01-03 17:23:50,078 - mmdet - INFO - Epoch [4][550/2001]\tlr: 5.000e-03, eta: 1 day, 12:53:08, time: 2.466, data_time: 0.018, memory: 6189, loss_rpn_cls: 0.0060, loss_rpn_bbox: 0.0415, loss_cls: 0.1388, acc: 94.4785, loss_bbox: 0.2831, loss: 0.4693\n",
      "2021-01-03 17:25:52,342 - mmdet - INFO - Epoch [4][600/2001]\tlr: 5.000e-03, eta: 1 day, 13:04:04, time: 2.447, data_time: 0.018, memory: 6189, loss_rpn_cls: 0.0049, loss_rpn_bbox: 0.0379, loss_cls: 0.1379, acc: 94.5039, loss_bbox: 0.2682, loss: 0.4489\n",
      "2021-01-03 17:27:55,779 - mmdet - INFO - Epoch [4][650/2001]\tlr: 5.000e-03, eta: 1 day, 13:15:00, time: 2.464, data_time: 0.017, memory: 6189, loss_rpn_cls: 0.0057, loss_rpn_bbox: 0.0408, loss_cls: 0.1403, acc: 94.4512, loss_bbox: 0.2826, loss: 0.4694\n",
      "2021-01-03 17:30:01,703 - mmdet - INFO - Epoch [4][700/2001]\tlr: 5.000e-03, eta: 1 day, 13:26:23, time: 2.519, data_time: 0.022, memory: 6189, loss_rpn_cls: 0.0052, loss_rpn_bbox: 0.0366, loss_cls: 0.1414, acc: 94.4443, loss_bbox: 0.2781, loss: 0.4613\n",
      "2021-01-03 17:32:07,266 - mmdet - INFO - Epoch [4][750/2001]\tlr: 5.000e-03, eta: 1 day, 13:37:29, time: 2.512, data_time: 0.020, memory: 6189, loss_rpn_cls: 0.0053, loss_rpn_bbox: 0.0403, loss_cls: 0.1311, acc: 94.8779, loss_bbox: 0.2766, loss: 0.4532\n",
      "2021-01-03 17:34:10,626 - mmdet - INFO - Epoch [4][800/2001]\tlr: 5.000e-03, eta: 1 day, 13:47:54, time: 2.470, data_time: 0.019, memory: 6189, loss_rpn_cls: 0.0065, loss_rpn_bbox: 0.0397, loss_cls: 0.1407, acc: 94.3232, loss_bbox: 0.2775, loss: 0.4645\n",
      "2021-01-03 17:36:14,338 - mmdet - INFO - Epoch [4][850/2001]\tlr: 5.000e-03, eta: 1 day, 13:58:09, time: 2.471, data_time: 0.016, memory: 6189, loss_rpn_cls: 0.0055, loss_rpn_bbox: 0.0357, loss_cls: 0.1369, acc: 94.5830, loss_bbox: 0.2660, loss: 0.4441\n",
      "2021-01-03 17:38:18,570 - mmdet - INFO - Epoch [4][900/2001]\tlr: 5.000e-03, eta: 1 day, 14:08:23, time: 2.486, data_time: 0.019, memory: 6189, loss_rpn_cls: 0.0051, loss_rpn_bbox: 0.0385, loss_cls: 0.1384, acc: 94.4658, loss_bbox: 0.2814, loss: 0.4634\n",
      "2021-01-03 17:40:22,231 - mmdet - INFO - Epoch [4][950/2001]\tlr: 5.000e-03, eta: 1 day, 14:18:19, time: 2.474, data_time: 0.018, memory: 6189, loss_rpn_cls: 0.0047, loss_rpn_bbox: 0.0373, loss_cls: 0.1352, acc: 94.6602, loss_bbox: 0.2710, loss: 0.4481\n",
      "2021-01-03 17:42:25,428 - mmdet - INFO - Epoch [4][1000/2001]\tlr: 5.000e-03, eta: 1 day, 14:27:57, time: 2.463, data_time: 0.016, memory: 6189, loss_rpn_cls: 0.0048, loss_rpn_bbox: 0.0403, loss_cls: 0.1430, acc: 94.3262, loss_bbox: 0.2782, loss: 0.4663\n",
      "2021-01-03 17:44:29,080 - mmdet - INFO - Epoch [4][1050/2001]\tlr: 5.000e-03, eta: 1 day, 14:37:31, time: 2.472, data_time: 0.018, memory: 6189, loss_rpn_cls: 0.0058, loss_rpn_bbox: 0.0420, loss_cls: 0.1421, acc: 94.2627, loss_bbox: 0.2831, loss: 0.4730\n",
      "2021-01-03 17:46:34,313 - mmdet - INFO - Epoch [4][1100/2001]\tlr: 5.000e-03, eta: 1 day, 14:47:17, time: 2.505, data_time: 0.018, memory: 6189, loss_rpn_cls: 0.0055, loss_rpn_bbox: 0.0416, loss_cls: 0.1425, acc: 94.3711, loss_bbox: 0.2890, loss: 0.4786\n",
      "2021-01-03 17:48:37,843 - mmdet - INFO - Epoch [4][1150/2001]\tlr: 5.000e-03, eta: 1 day, 14:56:32, time: 2.473, data_time: 0.018, memory: 6189, loss_rpn_cls: 0.0058, loss_rpn_bbox: 0.0403, loss_cls: 0.1372, acc: 94.5713, loss_bbox: 0.2681, loss: 0.4513\n",
      "2021-01-03 17:50:42,248 - mmdet - INFO - Epoch [4][1200/2001]\tlr: 5.000e-03, eta: 1 day, 15:05:46, time: 2.486, data_time: 0.016, memory: 6189, loss_rpn_cls: 0.0057, loss_rpn_bbox: 0.0379, loss_cls: 0.1391, acc: 94.4248, loss_bbox: 0.2615, loss: 0.4441\n",
      "2021-01-03 17:52:45,855 - mmdet - INFO - Epoch [4][1250/2001]\tlr: 5.000e-03, eta: 1 day, 15:14:42, time: 2.472, data_time: 0.019, memory: 6189, loss_rpn_cls: 0.0049, loss_rpn_bbox: 0.0368, loss_cls: 0.1355, acc: 94.5654, loss_bbox: 0.2580, loss: 0.4352\n",
      "2021-01-03 17:54:48,684 - mmdet - INFO - Epoch [4][1300/2001]\tlr: 5.000e-03, eta: 1 day, 15:23:19, time: 2.457, data_time: 0.019, memory: 6189, loss_rpn_cls: 0.0051, loss_rpn_bbox: 0.0381, loss_cls: 0.1327, acc: 94.6973, loss_bbox: 0.2664, loss: 0.4423\n",
      "2021-01-03 17:56:51,948 - mmdet - INFO - Epoch [4][1350/2001]\tlr: 5.000e-03, eta: 1 day, 15:31:53, time: 2.465, data_time: 0.018, memory: 6189, loss_rpn_cls: 0.0049, loss_rpn_bbox: 0.0390, loss_cls: 0.1417, acc: 94.3633, loss_bbox: 0.2763, loss: 0.4619\n",
      "2021-01-03 17:58:54,921 - mmdet - INFO - Epoch [4][1400/2001]\tlr: 5.000e-03, eta: 1 day, 15:40:16, time: 2.462, data_time: 0.018, memory: 6189, loss_rpn_cls: 0.0052, loss_rpn_bbox: 0.0409, loss_cls: 0.1358, acc: 94.6016, loss_bbox: 0.2694, loss: 0.4514\n",
      "2021-01-03 18:00:58,273 - mmdet - INFO - Epoch [4][1450/2001]\tlr: 5.000e-03, eta: 1 day, 15:48:33, time: 2.466, data_time: 0.016, memory: 6189, loss_rpn_cls: 0.0043, loss_rpn_bbox: 0.0387, loss_cls: 0.1405, acc: 94.4189, loss_bbox: 0.2767, loss: 0.4602\n",
      "2021-01-03 18:03:01,806 - mmdet - INFO - Epoch [4][1500/2001]\tlr: 5.000e-03, eta: 1 day, 15:56:44, time: 2.469, data_time: 0.018, memory: 6189, loss_rpn_cls: 0.0057, loss_rpn_bbox: 0.0415, loss_cls: 0.1420, acc: 94.4082, loss_bbox: 0.2768, loss: 0.4659\n",
      "2021-01-03 18:05:04,192 - mmdet - INFO - Epoch [4][1550/2001]\tlr: 5.000e-03, eta: 1 day, 16:04:33, time: 2.447, data_time: 0.019, memory: 6189, loss_rpn_cls: 0.0053, loss_rpn_bbox: 0.0398, loss_cls: 0.1359, acc: 94.6816, loss_bbox: 0.2742, loss: 0.4552\n",
      "2021-01-03 18:07:06,679 - mmdet - INFO - Epoch [4][1600/2001]\tlr: 5.000e-03, eta: 1 day, 16:12:17, time: 2.451, data_time: 0.020, memory: 6189, loss_rpn_cls: 0.0043, loss_rpn_bbox: 0.0361, loss_cls: 0.1366, acc: 94.4043, loss_bbox: 0.2627, loss: 0.4395\n",
      "2021-01-03 18:09:10,204 - mmdet - INFO - Epoch [4][1650/2001]\tlr: 5.000e-03, eta: 1 day, 16:20:06, time: 2.473, data_time: 0.019, memory: 6189, loss_rpn_cls: 0.0057, loss_rpn_bbox: 0.0440, loss_cls: 0.1386, acc: 94.5020, loss_bbox: 0.2810, loss: 0.4693\n"
     ]
    },
    {
     "name": "stderr",
     "output_type": "stream",
     "text": [
      "2021-01-03 18:11:15,574 - mmdet - INFO - Epoch [4][1700/2001]\tlr: 5.000e-03, eta: 1 day, 16:28:06, time: 2.503, data_time: 0.018, memory: 6189, loss_rpn_cls: 0.0055, loss_rpn_bbox: 0.0410, loss_cls: 0.1358, acc: 94.5889, loss_bbox: 0.2795, loss: 0.4617\n",
      "2021-01-03 18:13:20,259 - mmdet - INFO - Epoch [4][1750/2001]\tlr: 5.000e-03, eta: 1 day, 16:35:55, time: 2.498, data_time: 0.021, memory: 6189, loss_rpn_cls: 0.0055, loss_rpn_bbox: 0.0416, loss_cls: 0.1381, acc: 94.5029, loss_bbox: 0.2788, loss: 0.4640\n",
      "2021-01-03 18:15:23,473 - mmdet - INFO - Epoch [4][1800/2001]\tlr: 5.000e-03, eta: 1 day, 16:43:15, time: 2.462, data_time: 0.017, memory: 6189, loss_rpn_cls: 0.0044, loss_rpn_bbox: 0.0421, loss_cls: 0.1375, acc: 94.5303, loss_bbox: 0.2773, loss: 0.4612\n",
      "2021-01-03 18:17:27,272 - mmdet - INFO - Epoch [4][1850/2001]\tlr: 5.000e-03, eta: 1 day, 16:50:35, time: 2.475, data_time: 0.019, memory: 6189, loss_rpn_cls: 0.0044, loss_rpn_bbox: 0.0389, loss_cls: 0.1344, acc: 94.4834, loss_bbox: 0.2725, loss: 0.4503\n",
      "2021-01-03 18:19:32,035 - mmdet - INFO - Epoch [4][1900/2001]\tlr: 5.000e-03, eta: 1 day, 16:58:01, time: 2.496, data_time: 0.020, memory: 6189, loss_rpn_cls: 0.0051, loss_rpn_bbox: 0.0408, loss_cls: 0.1447, acc: 94.2002, loss_bbox: 0.2847, loss: 0.4753\n",
      "2021-01-03 18:21:34,390 - mmdet - INFO - Epoch [4][1950/2001]\tlr: 5.000e-03, eta: 1 day, 17:04:51, time: 2.447, data_time: 0.019, memory: 6189, loss_rpn_cls: 0.0043, loss_rpn_bbox: 0.0359, loss_cls: 0.1435, acc: 94.3457, loss_bbox: 0.2739, loss: 0.4575\n",
      "2021-01-03 18:23:37,068 - mmdet - INFO - Epoch [4][2000/2001]\tlr: 5.000e-03, eta: 1 day, 17:11:40, time: 2.456, data_time: 0.019, memory: 6189, loss_rpn_cls: 0.0047, loss_rpn_bbox: 0.0411, loss_cls: 0.1397, acc: 94.3643, loss_bbox: 0.2763, loss: 0.4619\n",
      "2021-01-03 18:23:39,108 - mmdet - INFO - Saving checkpoint at 4 epochs\n"
     ]
    },
    {
     "name": "stdout",
     "output_type": "stream",
     "text": [
      "[>>>>>>>>>>>>>>>>>>>>>>>>>>>] 2013/2013, 4.0 task/s, elapsed: 500s, ETA:     0s"
     ]
    },
    {
     "name": "stderr",
     "output_type": "stream",
     "text": [
      "2021-01-03 18:31:59,911 - mmdet - INFO - \n",
      "Evaluateing valid_44.json with 2013 images now\n",
      "2021-01-03 18:32:00,501 - mmdet - INFO - Evaluating bbox...\n"
     ]
    },
    {
     "name": "stdout",
     "output_type": "stream",
     "text": [
      "Loading and preparing results...\n",
      "DONE (t=0.29s)\n",
      "creating index...\n",
      "index created!\n",
      "Running per image evaluation...\n",
      "Evaluate annotation type *bbox*\n",
      "DONE (t=19.27s).\n",
      "Accumulating evaluation results...\n"
     ]
    },
    {
     "name": "stderr",
     "output_type": "stream",
     "text": [
      "2021-01-03 18:32:21,197 - mmdet - INFO - Epoch(val) [4][2001]\t0_bbox_mAP: 0.2730, 0_bbox_mAP_50: 0.4670, 0_bbox_mAP_75: 0.3020, 0_bbox_mAP_s: 0.2710, 0_bbox_mAP_m: 0.4070, 0_bbox_mAP_l: -1.0000, 0_bbox_mAP_copypaste: 0.273 0.467 0.302 0.271 0.407 -1.000\n"
     ]
    },
    {
     "name": "stdout",
     "output_type": "stream",
     "text": [
      "DONE (t=1.05s).\n",
      "Average Precision  (AP) @[ IoU=0.50:0.95 | area=   all | maxDets=100 ] = 0.273\n",
      "Average Precision  (AP) @[ IoU=0.50      | area=   all | maxDets=1000 ] = 0.467\n",
      "Average Precision  (AP) @[ IoU=0.75      | area=   all | maxDets=1000 ] = 0.302\n",
      "Average Precision  (AP) @[ IoU=0.50:0.95 | area= small | maxDets=1000 ] = 0.271\n",
      "Average Precision  (AP) @[ IoU=0.50:0.95 | area=medium | maxDets=1000 ] = 0.407\n",
      "Average Precision  (AP) @[ IoU=0.50:0.95 | area= large | maxDets=1000 ] = -1.000\n",
      "Average Recall     (AR) @[ IoU=0.50:0.95 | area=   all | maxDets=100 ] = 0.352\n",
      "Average Recall     (AR) @[ IoU=0.50:0.95 | area=   all | maxDets=300 ] = 0.352\n",
      "Average Recall     (AR) @[ IoU=0.50:0.95 | area=   all | maxDets=1000 ] = 0.352\n",
      "Average Recall     (AR) @[ IoU=0.50:0.95 | area= small | maxDets=1000 ] = 0.348\n",
      "Average Recall     (AR) @[ IoU=0.50:0.95 | area=medium | maxDets=1000 ] = 0.503\n",
      "Average Recall     (AR) @[ IoU=0.50:0.95 | area= large | maxDets=1000 ] = -1.000\n"
     ]
    },
    {
     "name": "stderr",
     "output_type": "stream",
     "text": [
      "2021-01-03 18:33:10,652 - mmdet - INFO - Epoch [5][50/2001]\tlr: 5.000e-03, eta: 1 day, 17:03:57, time: 0.977, data_time: 0.059, memory: 6189, loss_rpn_cls: 0.0048, loss_rpn_bbox: 0.0347, loss_cls: 0.1291, acc: 94.7910, loss_bbox: 0.2676, loss: 0.4361\n",
      "2021-01-03 18:34:03,405 - mmdet - INFO - Epoch [5][100/2001]\tlr: 5.000e-03, eta: 1 day, 16:57:28, time: 1.062, data_time: 0.020, memory: 6189, loss_rpn_cls: 0.0047, loss_rpn_bbox: 0.0393, loss_cls: 0.1335, acc: 94.5967, loss_bbox: 0.2763, loss: 0.4538\n",
      "2021-01-03 18:34:58,492 - mmdet - INFO - Epoch [5][150/2001]\tlr: 5.000e-03, eta: 1 day, 16:51:25, time: 1.102, data_time: 0.013, memory: 6189, loss_rpn_cls: 0.0054, loss_rpn_bbox: 0.0335, loss_cls: 0.1304, acc: 94.7109, loss_bbox: 0.2575, loss: 0.4268\n",
      "2021-01-03 18:35:52,373 - mmdet - INFO - Epoch [5][200/2001]\tlr: 5.000e-03, eta: 1 day, 16:45:09, time: 1.073, data_time: 0.012, memory: 6189, loss_rpn_cls: 0.0044, loss_rpn_bbox: 0.0356, loss_cls: 0.1356, acc: 94.4883, loss_bbox: 0.2585, loss: 0.4342\n",
      "2021-01-03 18:36:45,129 - mmdet - INFO - Epoch [5][250/2001]\tlr: 5.000e-03, eta: 1 day, 16:38:49, time: 1.057, data_time: 0.017, memory: 6189, loss_rpn_cls: 0.0042, loss_rpn_bbox: 0.0380, loss_cls: 0.1272, acc: 94.8223, loss_bbox: 0.2665, loss: 0.4359\n",
      "2021-01-03 18:37:38,186 - mmdet - INFO - Epoch [5][300/2001]\tlr: 5.000e-03, eta: 1 day, 16:32:37, time: 1.064, data_time: 0.015, memory: 6189, loss_rpn_cls: 0.0041, loss_rpn_bbox: 0.0386, loss_cls: 0.1289, acc: 94.7578, loss_bbox: 0.2693, loss: 0.4410\n",
      "2021-01-03 18:38:30,210 - mmdet - INFO - Epoch [5][350/2001]\tlr: 5.000e-03, eta: 1 day, 16:26:15, time: 1.041, data_time: 0.013, memory: 6189, loss_rpn_cls: 0.0042, loss_rpn_bbox: 0.0336, loss_cls: 0.1267, acc: 94.9004, loss_bbox: 0.2583, loss: 0.4227\n",
      "2021-01-03 18:39:22,451 - mmdet - INFO - Epoch [5][400/2001]\tlr: 5.000e-03, eta: 1 day, 16:20:00, time: 1.045, data_time: 0.013, memory: 6189, loss_rpn_cls: 0.0051, loss_rpn_bbox: 0.0396, loss_cls: 0.1262, acc: 94.8975, loss_bbox: 0.2690, loss: 0.4399\n",
      "2021-01-03 18:40:17,236 - mmdet - INFO - Epoch [5][450/2001]\tlr: 5.000e-03, eta: 1 day, 16:14:16, time: 1.096, data_time: 0.013, memory: 6189, loss_rpn_cls: 0.0049, loss_rpn_bbox: 0.0384, loss_cls: 0.1316, acc: 94.7236, loss_bbox: 0.2714, loss: 0.4463\n",
      "2021-01-03 18:41:11,704 - mmdet - INFO - Epoch [5][500/2001]\tlr: 5.000e-03, eta: 1 day, 16:08:32, time: 1.090, data_time: 0.012, memory: 6189, loss_rpn_cls: 0.0044, loss_rpn_bbox: 0.0365, loss_cls: 0.1280, acc: 94.8379, loss_bbox: 0.2634, loss: 0.4322\n",
      "2021-01-03 18:42:06,024 - mmdet - INFO - Epoch [5][550/2001]\tlr: 5.000e-03, eta: 1 day, 16:02:50, time: 1.086, data_time: 0.012, memory: 6189, loss_rpn_cls: 0.0043, loss_rpn_bbox: 0.0385, loss_cls: 0.1309, acc: 94.6943, loss_bbox: 0.2714, loss: 0.4451\n",
      "2021-01-03 18:42:59,798 - mmdet - INFO - Epoch [5][600/2001]\tlr: 5.000e-03, eta: 1 day, 15:57:05, time: 1.076, data_time: 0.012, memory: 6189, loss_rpn_cls: 0.0044, loss_rpn_bbox: 0.0375, loss_cls: 0.1300, acc: 94.8184, loss_bbox: 0.2659, loss: 0.4377\n",
      "2021-01-03 18:43:54,550 - mmdet - INFO - Epoch [5][650/2001]\tlr: 5.000e-03, eta: 1 day, 15:51:34, time: 1.095, data_time: 0.012, memory: 6189, loss_rpn_cls: 0.0051, loss_rpn_bbox: 0.0369, loss_cls: 0.1296, acc: 94.8848, loss_bbox: 0.2689, loss: 0.4405\n",
      "2021-01-03 18:44:49,854 - mmdet - INFO - Epoch [5][700/2001]\tlr: 5.000e-03, eta: 1 day, 15:46:12, time: 1.106, data_time: 0.013, memory: 6189, loss_rpn_cls: 0.0052, loss_rpn_bbox: 0.0396, loss_cls: 0.1272, acc: 94.9111, loss_bbox: 0.2575, loss: 0.4296\n",
      "2021-01-03 18:45:44,055 - mmdet - INFO - Epoch [5][750/2001]\tlr: 5.000e-03, eta: 1 day, 15:40:42, time: 1.084, data_time: 0.012, memory: 6189, loss_rpn_cls: 0.0047, loss_rpn_bbox: 0.0411, loss_cls: 0.1290, acc: 94.8359, loss_bbox: 0.2676, loss: 0.4424\n",
      "2021-01-03 18:46:35,517 - mmdet - INFO - Epoch [5][800/2001]\tlr: 5.000e-03, eta: 1 day, 15:34:46, time: 1.029, data_time: 0.012, memory: 6189, loss_rpn_cls: 0.0046, loss_rpn_bbox: 0.0353, loss_cls: 0.1264, acc: 94.8828, loss_bbox: 0.2544, loss: 0.4207\n",
      "2021-01-03 18:47:28,613 - mmdet - INFO - Epoch [5][850/2001]\tlr: 5.000e-03, eta: 1 day, 15:29:11, time: 1.062, data_time: 0.012, memory: 6189, loss_rpn_cls: 0.0051, loss_rpn_bbox: 0.0412, loss_cls: 0.1278, acc: 94.8320, loss_bbox: 0.2738, loss: 0.4479\n",
      "2021-01-03 18:48:24,440 - mmdet - INFO - Epoch [5][900/2001]\tlr: 5.000e-03, eta: 1 day, 15:24:06, time: 1.116, data_time: 0.013, memory: 6189, loss_rpn_cls: 0.0042, loss_rpn_bbox: 0.0371, loss_cls: 0.1269, acc: 94.9648, loss_bbox: 0.2661, loss: 0.4342\n",
      "2021-01-03 18:49:17,779 - mmdet - INFO - Epoch [5][950/2001]\tlr: 5.000e-03, eta: 1 day, 15:18:40, time: 1.067, data_time: 0.013, memory: 6189, loss_rpn_cls: 0.0039, loss_rpn_bbox: 0.0356, loss_cls: 0.1302, acc: 94.7627, loss_bbox: 0.2650, loss: 0.4347\n",
      "2021-01-03 18:50:15,020 - mmdet - INFO - Epoch [5][1000/2001]\tlr: 5.000e-03, eta: 1 day, 15:13:55, time: 1.145, data_time: 0.013, memory: 6189, loss_rpn_cls: 0.0062, loss_rpn_bbox: 0.0418, loss_cls: 0.1310, acc: 94.7227, loss_bbox: 0.2742, loss: 0.4532\n",
      "2021-01-03 18:51:10,413 - mmdet - INFO - Epoch [5][1050/2001]\tlr: 5.000e-03, eta: 1 day, 15:08:55, time: 1.107, data_time: 0.013, memory: 6189, loss_rpn_cls: 0.0038, loss_rpn_bbox: 0.0353, loss_cls: 0.1290, acc: 94.7930, loss_bbox: 0.2601, loss: 0.4281\n",
      "2021-01-03 18:52:08,050 - mmdet - INFO - Epoch [5][1100/2001]\tlr: 5.000e-03, eta: 1 day, 15:04:19, time: 1.153, data_time: 0.013, memory: 6189, loss_rpn_cls: 0.0049, loss_rpn_bbox: 0.0370, loss_cls: 0.1243, acc: 95.0176, loss_bbox: 0.2654, loss: 0.4317\n",
      "2021-01-03 18:53:01,770 - mmdet - INFO - Epoch [5][1150/2001]\tlr: 5.000e-03, eta: 1 day, 14:59:08, time: 1.075, data_time: 0.012, memory: 6189, loss_rpn_cls: 0.0034, loss_rpn_bbox: 0.0374, loss_cls: 0.1231, acc: 95.0195, loss_bbox: 0.2582, loss: 0.4221\n",
      "2021-01-03 18:53:57,806 - mmdet - INFO - Epoch [5][1200/2001]\tlr: 5.000e-03, eta: 1 day, 14:54:20, time: 1.117, data_time: 0.012, memory: 6189, loss_rpn_cls: 0.0050, loss_rpn_bbox: 0.0392, loss_cls: 0.1307, acc: 94.7129, loss_bbox: 0.2690, loss: 0.4439\n",
      "2021-01-03 18:54:50,569 - mmdet - INFO - Epoch [5][1250/2001]\tlr: 5.000e-03, eta: 1 day, 14:49:06, time: 1.059, data_time: 0.015, memory: 6189, loss_rpn_cls: 0.0038, loss_rpn_bbox: 0.0355, loss_cls: 0.1275, acc: 94.8359, loss_bbox: 0.2670, loss: 0.4339\n",
      "2021-01-03 18:55:42,101 - mmdet - INFO - Epoch [5][1300/2001]\tlr: 5.000e-03, eta: 1 day, 14:43:41, time: 1.030, data_time: 0.012, memory: 6189, loss_rpn_cls: 0.0052, loss_rpn_bbox: 0.0395, loss_cls: 0.1284, acc: 94.9121, loss_bbox: 0.2650, loss: 0.4382\n",
      "2021-01-03 18:56:35,869 - mmdet - INFO - Epoch [5][1350/2001]\tlr: 5.000e-03, eta: 1 day, 14:38:41, time: 1.075, data_time: 0.012, memory: 6189, loss_rpn_cls: 0.0042, loss_rpn_bbox: 0.0373, loss_cls: 0.1225, acc: 95.0654, loss_bbox: 0.2583, loss: 0.4223\n",
      "2021-01-03 18:57:30,224 - mmdet - INFO - Epoch [5][1400/2001]\tlr: 5.000e-03, eta: 1 day, 14:33:49, time: 1.087, data_time: 0.012, memory: 6189, loss_rpn_cls: 0.0047, loss_rpn_bbox: 0.0360, loss_cls: 0.1264, acc: 94.9170, loss_bbox: 0.2627, loss: 0.4298\n",
      "2021-01-03 18:58:24,603 - mmdet - INFO - Epoch [5][1450/2001]\tlr: 5.000e-03, eta: 1 day, 14:28:59, time: 1.088, data_time: 0.012, memory: 6189, loss_rpn_cls: 0.0049, loss_rpn_bbox: 0.0396, loss_cls: 0.1253, acc: 94.9287, loss_bbox: 0.2685, loss: 0.4384\n",
      "2021-01-03 18:59:17,929 - mmdet - INFO - Epoch [5][1500/2001]\tlr: 5.000e-03, eta: 1 day, 14:24:02, time: 1.066, data_time: 0.012, memory: 6189, loss_rpn_cls: 0.0049, loss_rpn_bbox: 0.0359, loss_cls: 0.1268, acc: 94.8906, loss_bbox: 0.2613, loss: 0.4290\n",
      "2021-01-03 19:00:12,536 - mmdet - INFO - Epoch [5][1550/2001]\tlr: 5.000e-03, eta: 1 day, 14:19:20, time: 1.092, data_time: 0.013, memory: 6189, loss_rpn_cls: 0.0040, loss_rpn_bbox: 0.0397, loss_cls: 0.1284, acc: 94.8877, loss_bbox: 0.2672, loss: 0.4394\n",
      "2021-01-03 19:01:03,763 - mmdet - INFO - Epoch [5][1600/2001]\tlr: 5.000e-03, eta: 1 day, 14:14:09, time: 1.024, data_time: 0.013, memory: 6189, loss_rpn_cls: 0.0053, loss_rpn_bbox: 0.0377, loss_cls: 0.1242, acc: 94.9346, loss_bbox: 0.2622, loss: 0.4293\n",
      "2021-01-03 19:01:58,153 - mmdet - INFO - Epoch [5][1650/2001]\tlr: 5.000e-03, eta: 1 day, 14:09:29, time: 1.088, data_time: 0.013, memory: 6189, loss_rpn_cls: 0.0047, loss_rpn_bbox: 0.0391, loss_cls: 0.1260, acc: 94.8691, loss_bbox: 0.2622, loss: 0.4320\n"
     ]
    },
    {
     "name": "stderr",
     "output_type": "stream",
     "text": [
      "2021-01-03 19:02:52,282 - mmdet - INFO - Epoch [5][1700/2001]\tlr: 5.000e-03, eta: 1 day, 14:04:49, time: 1.082, data_time: 0.013, memory: 6189, loss_rpn_cls: 0.0047, loss_rpn_bbox: 0.0406, loss_cls: 0.1230, acc: 95.1006, loss_bbox: 0.2659, loss: 0.4342\n",
      "2021-01-03 19:03:47,889 - mmdet - INFO - Epoch [5][1750/2001]\tlr: 5.000e-03, eta: 1 day, 14:00:26, time: 1.113, data_time: 0.014, memory: 6189, loss_rpn_cls: 0.0041, loss_rpn_bbox: 0.0385, loss_cls: 0.1246, acc: 94.9746, loss_bbox: 0.2660, loss: 0.4332\n",
      "2021-01-03 19:04:41,809 - mmdet - INFO - Epoch [5][1800/2001]\tlr: 5.000e-03, eta: 1 day, 13:55:50, time: 1.079, data_time: 0.013, memory: 6189, loss_rpn_cls: 0.0044, loss_rpn_bbox: 0.0366, loss_cls: 0.1263, acc: 94.9150, loss_bbox: 0.2654, loss: 0.4328\n",
      "2021-01-03 19:05:36,167 - mmdet - INFO - Epoch [5][1850/2001]\tlr: 5.000e-03, eta: 1 day, 13:51:19, time: 1.087, data_time: 0.012, memory: 6189, loss_rpn_cls: 0.0040, loss_rpn_bbox: 0.0390, loss_cls: 0.1220, acc: 95.0430, loss_bbox: 0.2654, loss: 0.4305\n",
      "2021-01-03 19:06:30,889 - mmdet - INFO - Epoch [5][1900/2001]\tlr: 5.000e-03, eta: 1 day, 13:46:52, time: 1.091, data_time: 0.012, memory: 6189, loss_rpn_cls: 0.0037, loss_rpn_bbox: 0.0359, loss_cls: 0.1269, acc: 94.9404, loss_bbox: 0.2616, loss: 0.4282\n",
      "2021-01-03 19:07:24,430 - mmdet - INFO - Epoch [5][1950/2001]\tlr: 5.000e-03, eta: 1 day, 13:42:20, time: 1.075, data_time: 0.016, memory: 6189, loss_rpn_cls: 0.0037, loss_rpn_bbox: 0.0396, loss_cls: 0.1278, acc: 94.9102, loss_bbox: 0.2651, loss: 0.4362\n",
      "2021-01-03 19:08:21,211 - mmdet - INFO - Epoch [5][2000/2001]\tlr: 5.000e-03, eta: 1 day, 13:38:15, time: 1.129, data_time: 0.012, memory: 6189, loss_rpn_cls: 0.0042, loss_rpn_bbox: 0.0372, loss_cls: 0.1173, acc: 95.2646, loss_bbox: 0.2567, loss: 0.4154\n",
      "2021-01-03 19:08:22,139 - mmdet - INFO - Saving checkpoint at 5 epochs\n"
     ]
    },
    {
     "name": "stdout",
     "output_type": "stream",
     "text": [
      "[>>>>>>>>>>>>>>>>>>>>>>>>>>>] 2013/2013, 9.1 task/s, elapsed: 220s, ETA:     0s"
     ]
    },
    {
     "name": "stderr",
     "output_type": "stream",
     "text": [
      "2021-01-03 19:12:03,160 - mmdet - INFO - \n",
      "Evaluateing valid_44.json with 2013 images now\n",
      "2021-01-03 19:12:03,780 - mmdet - INFO - Evaluating bbox...\n"
     ]
    },
    {
     "name": "stdout",
     "output_type": "stream",
     "text": [
      "Loading and preparing results...\n",
      "DONE (t=0.37s)\n",
      "creating index...\n",
      "index created!\n",
      "Running per image evaluation...\n",
      "Evaluate annotation type *bbox*\n",
      "DONE (t=20.67s).\n",
      "Accumulating evaluation results...\n"
     ]
    },
    {
     "name": "stderr",
     "output_type": "stream",
     "text": [
      "2021-01-03 19:12:25,983 - mmdet - INFO - Epoch(val) [5][2001]\t0_bbox_mAP: 0.2770, 0_bbox_mAP_50: 0.4630, 0_bbox_mAP_75: 0.3090, 0_bbox_mAP_s: 0.2740, 0_bbox_mAP_m: 0.4700, 0_bbox_mAP_l: -1.0000, 0_bbox_mAP_copypaste: 0.277 0.463 0.309 0.274 0.470 -1.000\n"
     ]
    },
    {
     "name": "stdout",
     "output_type": "stream",
     "text": [
      "DONE (t=1.07s).\n",
      "Average Precision  (AP) @[ IoU=0.50:0.95 | area=   all | maxDets=100 ] = 0.277\n",
      "Average Precision  (AP) @[ IoU=0.50      | area=   all | maxDets=1000 ] = 0.463\n",
      "Average Precision  (AP) @[ IoU=0.75      | area=   all | maxDets=1000 ] = 0.309\n",
      "Average Precision  (AP) @[ IoU=0.50:0.95 | area= small | maxDets=1000 ] = 0.274\n",
      "Average Precision  (AP) @[ IoU=0.50:0.95 | area=medium | maxDets=1000 ] = 0.470\n",
      "Average Precision  (AP) @[ IoU=0.50:0.95 | area= large | maxDets=1000 ] = -1.000\n",
      "Average Recall     (AR) @[ IoU=0.50:0.95 | area=   all | maxDets=100 ] = 0.349\n",
      "Average Recall     (AR) @[ IoU=0.50:0.95 | area=   all | maxDets=300 ] = 0.349\n",
      "Average Recall     (AR) @[ IoU=0.50:0.95 | area=   all | maxDets=1000 ] = 0.349\n",
      "Average Recall     (AR) @[ IoU=0.50:0.95 | area= small | maxDets=1000 ] = 0.345\n",
      "Average Recall     (AR) @[ IoU=0.50:0.95 | area=medium | maxDets=1000 ] = 0.519\n",
      "Average Recall     (AR) @[ IoU=0.50:0.95 | area= large | maxDets=1000 ] = -1.000\n"
     ]
    },
    {
     "name": "stderr",
     "output_type": "stream",
     "text": [
      "2021-01-03 19:14:29,122 - mmdet - INFO - Epoch [6][50/2001]\tlr: 5.000e-03, eta: 1 day, 13:43:49, time: 2.452, data_time: 0.061, memory: 6189, loss_rpn_cls: 0.0039, loss_rpn_bbox: 0.0376, loss_cls: 0.1185, acc: 95.2227, loss_bbox: 0.2569, loss: 0.4170\n",
      "2021-01-03 19:16:34,282 - mmdet - INFO - Epoch [6][100/2001]\tlr: 5.000e-03, eta: 1 day, 13:49:57, time: 2.506, data_time: 0.019, memory: 6189, loss_rpn_cls: 0.0032, loss_rpn_bbox: 0.0367, loss_cls: 0.1179, acc: 95.2559, loss_bbox: 0.2579, loss: 0.4158\n",
      "2021-01-03 19:18:37,569 - mmdet - INFO - Epoch [6][150/2001]\tlr: 5.000e-03, eta: 1 day, 13:55:41, time: 2.464, data_time: 0.017, memory: 6189, loss_rpn_cls: 0.0046, loss_rpn_bbox: 0.0404, loss_cls: 0.1211, acc: 95.1221, loss_bbox: 0.2627, loss: 0.4289\n",
      "2021-01-03 19:20:40,116 - mmdet - INFO - Epoch [6][200/2001]\tlr: 5.000e-03, eta: 1 day, 14:01:15, time: 2.450, data_time: 0.019, memory: 6189, loss_rpn_cls: 0.0039, loss_rpn_bbox: 0.0352, loss_cls: 0.1174, acc: 95.2422, loss_bbox: 0.2666, loss: 0.4231\n",
      "2021-01-03 19:22:42,965 - mmdet - INFO - Epoch [6][250/2001]\tlr: 5.000e-03, eta: 1 day, 14:06:49, time: 2.461, data_time: 0.020, memory: 6189, loss_rpn_cls: 0.0042, loss_rpn_bbox: 0.0364, loss_cls: 0.1167, acc: 95.1680, loss_bbox: 0.2601, loss: 0.4174\n",
      "2021-01-03 19:24:46,861 - mmdet - INFO - Epoch [6][300/2001]\tlr: 5.000e-03, eta: 1 day, 14:12:26, time: 2.477, data_time: 0.016, memory: 6189, loss_rpn_cls: 0.0042, loss_rpn_bbox: 0.0379, loss_cls: 0.1171, acc: 95.2354, loss_bbox: 0.2569, loss: 0.4161\n",
      "2021-01-03 19:26:50,796 - mmdet - INFO - Epoch [6][350/2001]\tlr: 5.000e-03, eta: 1 day, 14:18:00, time: 2.480, data_time: 0.018, memory: 6189, loss_rpn_cls: 0.0046, loss_rpn_bbox: 0.0373, loss_cls: 0.1201, acc: 95.1182, loss_bbox: 0.2537, loss: 0.4156\n",
      "2021-01-03 19:28:54,814 - mmdet - INFO - Epoch [6][400/2001]\tlr: 5.000e-03, eta: 1 day, 14:23:28, time: 2.477, data_time: 0.016, memory: 6189, loss_rpn_cls: 0.0049, loss_rpn_bbox: 0.0329, loss_cls: 0.1195, acc: 95.1602, loss_bbox: 0.2531, loss: 0.4104\n",
      "2021-01-03 19:30:58,426 - mmdet - INFO - Epoch [6][450/2001]\tlr: 5.000e-03, eta: 1 day, 14:28:49, time: 2.472, data_time: 0.020, memory: 6189, loss_rpn_cls: 0.0052, loss_rpn_bbox: 0.0345, loss_cls: 0.1178, acc: 95.1758, loss_bbox: 0.2502, loss: 0.4076\n",
      "2021-01-03 19:33:04,395 - mmdet - INFO - Epoch [6][500/2001]\tlr: 5.000e-03, eta: 1 day, 14:34:27, time: 2.520, data_time: 0.019, memory: 6189, loss_rpn_cls: 0.0039, loss_rpn_bbox: 0.0367, loss_cls: 0.1184, acc: 95.1035, loss_bbox: 0.2535, loss: 0.4125\n",
      "2021-01-03 19:35:08,014 - mmdet - INFO - Epoch [6][550/2001]\tlr: 5.000e-03, eta: 1 day, 14:39:40, time: 2.472, data_time: 0.019, memory: 6189, loss_rpn_cls: 0.0040, loss_rpn_bbox: 0.0344, loss_cls: 0.1181, acc: 95.2539, loss_bbox: 0.2574, loss: 0.4140\n",
      "2021-01-03 19:37:12,804 - mmdet - INFO - Epoch [6][600/2001]\tlr: 5.000e-03, eta: 1 day, 14:44:59, time: 2.496, data_time: 0.019, memory: 6189, loss_rpn_cls: 0.0041, loss_rpn_bbox: 0.0380, loss_cls: 0.1186, acc: 95.1621, loss_bbox: 0.2584, loss: 0.4192\n",
      "2021-01-03 19:39:15,338 - mmdet - INFO - Epoch [6][650/2001]\tlr: 5.000e-03, eta: 1 day, 14:49:56, time: 2.453, data_time: 0.019, memory: 6189, loss_rpn_cls: 0.0032, loss_rpn_bbox: 0.0345, loss_cls: 0.1169, acc: 95.2100, loss_bbox: 0.2480, loss: 0.4026\n",
      "2021-01-03 19:41:17,632 - mmdet - INFO - Epoch [6][700/2001]\tlr: 5.000e-03, eta: 1 day, 14:54:45, time: 2.444, data_time: 0.017, memory: 6189, loss_rpn_cls: 0.0034, loss_rpn_bbox: 0.0350, loss_cls: 0.1235, acc: 95.0098, loss_bbox: 0.2705, loss: 0.4324\n",
      "2021-01-03 19:43:22,124 - mmdet - INFO - Epoch [6][750/2001]\tlr: 5.000e-03, eta: 1 day, 14:59:50, time: 2.491, data_time: 0.018, memory: 6189, loss_rpn_cls: 0.0033, loss_rpn_bbox: 0.0363, loss_cls: 0.1152, acc: 95.4209, loss_bbox: 0.2614, loss: 0.4162\n",
      "2021-01-03 19:45:24,178 - mmdet - INFO - Epoch [6][800/2001]\tlr: 5.000e-03, eta: 1 day, 15:04:29, time: 2.439, data_time: 0.017, memory: 6189, loss_rpn_cls: 0.0043, loss_rpn_bbox: 0.0354, loss_cls: 0.1182, acc: 95.2422, loss_bbox: 0.2629, loss: 0.4208\n",
      "2021-01-03 19:47:27,384 - mmdet - INFO - Epoch [6][850/2001]\tlr: 5.000e-03, eta: 1 day, 15:09:16, time: 2.465, data_time: 0.019, memory: 6189, loss_rpn_cls: 0.0052, loss_rpn_bbox: 0.0383, loss_cls: 0.1211, acc: 95.1211, loss_bbox: 0.2709, loss: 0.4356\n",
      "2021-01-03 19:49:30,799 - mmdet - INFO - Epoch [6][900/2001]\tlr: 5.000e-03, eta: 1 day, 15:13:59, time: 2.468, data_time: 0.018, memory: 6189, loss_rpn_cls: 0.0040, loss_rpn_bbox: 0.0384, loss_cls: 0.1233, acc: 95.0371, loss_bbox: 0.2680, loss: 0.4337\n",
      "2021-01-03 19:51:33,625 - mmdet - INFO - Epoch [6][950/2001]\tlr: 5.000e-03, eta: 1 day, 15:18:35, time: 2.456, data_time: 0.018, memory: 6189, loss_rpn_cls: 0.0045, loss_rpn_bbox: 0.0368, loss_cls: 0.1206, acc: 95.1074, loss_bbox: 0.2523, loss: 0.4142\n",
      "2021-01-03 19:53:37,171 - mmdet - INFO - Epoch [6][1000/2001]\tlr: 5.000e-03, eta: 1 day, 15:23:13, time: 2.473, data_time: 0.019, memory: 6189, loss_rpn_cls: 0.0037, loss_rpn_bbox: 0.0366, loss_cls: 0.1197, acc: 95.0947, loss_bbox: 0.2544, loss: 0.4144\n",
      "2021-01-03 19:55:41,709 - mmdet - INFO - Epoch [6][1050/2001]\tlr: 5.000e-03, eta: 1 day, 15:27:55, time: 2.490, data_time: 0.017, memory: 6189, loss_rpn_cls: 0.0052, loss_rpn_bbox: 0.0385, loss_cls: 0.1207, acc: 95.1201, loss_bbox: 0.2604, loss: 0.4248\n",
      "2021-01-03 19:57:43,870 - mmdet - INFO - Epoch [6][1100/2001]\tlr: 5.000e-03, eta: 1 day, 15:32:14, time: 2.443, data_time: 0.017, memory: 6189, loss_rpn_cls: 0.0047, loss_rpn_bbox: 0.0370, loss_cls: 0.1179, acc: 95.2227, loss_bbox: 0.2540, loss: 0.4136\n",
      "2021-01-03 19:59:48,595 - mmdet - INFO - Epoch [6][1150/2001]\tlr: 5.000e-03, eta: 1 day, 15:36:50, time: 2.494, data_time: 0.017, memory: 6189, loss_rpn_cls: 0.0042, loss_rpn_bbox: 0.0379, loss_cls: 0.1232, acc: 95.0186, loss_bbox: 0.2642, loss: 0.4296\n",
      "2021-01-03 20:01:51,665 - mmdet - INFO - Epoch [6][1200/2001]\tlr: 5.000e-03, eta: 1 day, 15:41:09, time: 2.460, data_time: 0.018, memory: 6189, loss_rpn_cls: 0.0038, loss_rpn_bbox: 0.0379, loss_cls: 0.1156, acc: 95.2656, loss_bbox: 0.2534, loss: 0.4107\n",
      "2021-01-03 20:03:56,777 - mmdet - INFO - Epoch [6][1250/2001]\tlr: 5.000e-03, eta: 1 day, 15:45:43, time: 2.505, data_time: 0.019, memory: 6189, loss_rpn_cls: 0.0042, loss_rpn_bbox: 0.0328, loss_cls: 0.1227, acc: 95.1162, loss_bbox: 0.2548, loss: 0.4146\n",
      "2021-01-03 20:06:00,118 - mmdet - INFO - Epoch [6][1300/2001]\tlr: 5.000e-03, eta: 1 day, 15:49:57, time: 2.464, data_time: 0.016, memory: 6189, loss_rpn_cls: 0.0052, loss_rpn_bbox: 0.0375, loss_cls: 0.1177, acc: 95.2939, loss_bbox: 0.2625, loss: 0.4228\n",
      "2021-01-03 20:08:03,116 - mmdet - INFO - Epoch [6][1350/2001]\tlr: 5.000e-03, eta: 1 day, 15:54:05, time: 2.458, data_time: 0.019, memory: 6189, loss_rpn_cls: 0.0048, loss_rpn_bbox: 0.0352, loss_cls: 0.1133, acc: 95.4404, loss_bbox: 0.2569, loss: 0.4102\n",
      "2021-01-03 20:10:06,981 - mmdet - INFO - Epoch [6][1400/2001]\tlr: 5.000e-03, eta: 1 day, 15:58:18, time: 2.479, data_time: 0.021, memory: 6189, loss_rpn_cls: 0.0034, loss_rpn_bbox: 0.0352, loss_cls: 0.1171, acc: 95.3516, loss_bbox: 0.2521, loss: 0.4078\n",
      "2021-01-03 20:12:10,292 - mmdet - INFO - Epoch [6][1450/2001]\tlr: 5.000e-03, eta: 1 day, 16:02:24, time: 2.469, data_time: 0.020, memory: 6189, loss_rpn_cls: 0.0037, loss_rpn_bbox: 0.0345, loss_cls: 0.1114, acc: 95.5518, loss_bbox: 0.2516, loss: 0.4012\n",
      "2021-01-03 20:14:16,810 - mmdet - INFO - Epoch [6][1500/2001]\tlr: 5.000e-03, eta: 1 day, 16:06:49, time: 2.529, data_time: 0.017, memory: 6189, loss_rpn_cls: 0.0039, loss_rpn_bbox: 0.0349, loss_cls: 0.1212, acc: 95.0586, loss_bbox: 0.2582, loss: 0.4183\n",
      "2021-01-03 20:16:20,449 - mmdet - INFO - Epoch [6][1550/2001]\tlr: 5.000e-03, eta: 1 day, 16:10:51, time: 2.475, data_time: 0.019, memory: 6189, loss_rpn_cls: 0.0046, loss_rpn_bbox: 0.0379, loss_cls: 0.1133, acc: 95.3994, loss_bbox: 0.2532, loss: 0.4090\n",
      "2021-01-03 20:18:23,574 - mmdet - INFO - Epoch [6][1600/2001]\tlr: 5.000e-03, eta: 1 day, 16:14:44, time: 2.462, data_time: 0.016, memory: 6189, loss_rpn_cls: 0.0036, loss_rpn_bbox: 0.0325, loss_cls: 0.1149, acc: 95.3232, loss_bbox: 0.2547, loss: 0.4057\n",
      "2021-01-03 20:20:27,996 - mmdet - INFO - Epoch [6][1650/2001]\tlr: 5.000e-03, eta: 1 day, 16:18:44, time: 2.486, data_time: 0.017, memory: 6189, loss_rpn_cls: 0.0043, loss_rpn_bbox: 0.0410, loss_cls: 0.1127, acc: 95.5469, loss_bbox: 0.2659, loss: 0.4239\n"
     ]
    },
    {
     "name": "stderr",
     "output_type": "stream",
     "text": [
      "2021-01-03 20:22:16,632 - mmdet - INFO - Epoch [6][1700/2001]\tlr: 5.000e-03, eta: 1 day, 16:20:44, time: 2.177, data_time: 0.019, memory: 6189, loss_rpn_cls: 0.0038, loss_rpn_bbox: 0.0345, loss_cls: 0.1157, acc: 95.2402, loss_bbox: 0.2542, loss: 0.4081\n",
      "2021-01-03 20:23:10,729 - mmdet - INFO - Epoch [6][1750/2001]\tlr: 5.000e-03, eta: 1 day, 16:15:48, time: 1.076, data_time: 0.014, memory: 6189, loss_rpn_cls: 0.0038, loss_rpn_bbox: 0.0345, loss_cls: 0.1121, acc: 95.4668, loss_bbox: 0.2511, loss: 0.4016\n",
      "2021-01-03 20:24:05,865 - mmdet - INFO - Epoch [6][1800/2001]\tlr: 5.000e-03, eta: 1 day, 16:11:08, time: 1.110, data_time: 0.020, memory: 6189, loss_rpn_cls: 0.0035, loss_rpn_bbox: 0.0373, loss_cls: 0.1141, acc: 95.4062, loss_bbox: 0.2636, loss: 0.4186\n",
      "2021-01-03 20:25:02,683 - mmdet - INFO - Epoch [6][1850/2001]\tlr: 5.000e-03, eta: 1 day, 16:06:36, time: 1.131, data_time: 0.013, memory: 6189, loss_rpn_cls: 0.0039, loss_rpn_bbox: 0.0352, loss_cls: 0.1179, acc: 95.2686, loss_bbox: 0.2570, loss: 0.4140\n",
      "2021-01-03 20:25:56,214 - mmdet - INFO - Epoch [6][1900/2001]\tlr: 5.000e-03, eta: 1 day, 16:01:47, time: 1.077, data_time: 0.018, memory: 6189, loss_rpn_cls: 0.0036, loss_rpn_bbox: 0.0365, loss_cls: 0.1157, acc: 95.3242, loss_bbox: 0.2674, loss: 0.4231\n",
      "2021-01-03 20:26:50,355 - mmdet - INFO - Epoch [6][1950/2001]\tlr: 5.000e-03, eta: 1 day, 15:57:02, time: 1.082, data_time: 0.012, memory: 6189, loss_rpn_cls: 0.0036, loss_rpn_bbox: 0.0362, loss_cls: 0.1115, acc: 95.4619, loss_bbox: 0.2579, loss: 0.4091\n",
      "2021-01-03 20:27:45,176 - mmdet - INFO - Epoch [6][2000/2001]\tlr: 5.000e-03, eta: 1 day, 15:52:24, time: 1.096, data_time: 0.013, memory: 6189, loss_rpn_cls: 0.0047, loss_rpn_bbox: 0.0380, loss_cls: 0.1147, acc: 95.2520, loss_bbox: 0.2622, loss: 0.4196\n",
      "2021-01-03 20:27:45,938 - mmdet - INFO - Saving checkpoint at 6 epochs\n"
     ]
    },
    {
     "name": "stdout",
     "output_type": "stream",
     "text": [
      "[>>>>>>>>>>>>>>>>>>>>>>>>>>>] 2013/2013, 9.0 task/s, elapsed: 223s, ETA:     0s"
     ]
    },
    {
     "name": "stderr",
     "output_type": "stream",
     "text": [
      "2021-01-03 20:31:29,480 - mmdet - INFO - \n",
      "Evaluateing valid_44.json with 2013 images now\n",
      "2021-01-03 20:31:30,094 - mmdet - INFO - Evaluating bbox...\n"
     ]
    },
    {
     "name": "stdout",
     "output_type": "stream",
     "text": [
      "Loading and preparing results...\n",
      "DONE (t=0.30s)\n",
      "creating index...\n",
      "index created!\n",
      "Running per image evaluation...\n",
      "Evaluate annotation type *bbox*\n",
      "DONE (t=19.82s).\n",
      "Accumulating evaluation results...\n"
     ]
    },
    {
     "name": "stderr",
     "output_type": "stream",
     "text": [
      "2021-01-03 20:31:51,439 - mmdet - INFO - Epoch(val) [6][2001]\t0_bbox_mAP: 0.2850, 0_bbox_mAP_50: 0.4750, 0_bbox_mAP_75: 0.3200, 0_bbox_mAP_s: 0.2810, 0_bbox_mAP_m: 0.4570, 0_bbox_mAP_l: -1.0000, 0_bbox_mAP_copypaste: 0.285 0.475 0.320 0.281 0.457 -1.000\n"
     ]
    },
    {
     "name": "stdout",
     "output_type": "stream",
     "text": [
      "DONE (t=1.13s).\n",
      "Average Precision  (AP) @[ IoU=0.50:0.95 | area=   all | maxDets=100 ] = 0.285\n",
      "Average Precision  (AP) @[ IoU=0.50      | area=   all | maxDets=1000 ] = 0.475\n",
      "Average Precision  (AP) @[ IoU=0.75      | area=   all | maxDets=1000 ] = 0.320\n",
      "Average Precision  (AP) @[ IoU=0.50:0.95 | area= small | maxDets=1000 ] = 0.281\n",
      "Average Precision  (AP) @[ IoU=0.50:0.95 | area=medium | maxDets=1000 ] = 0.457\n",
      "Average Precision  (AP) @[ IoU=0.50:0.95 | area= large | maxDets=1000 ] = -1.000\n",
      "Average Recall     (AR) @[ IoU=0.50:0.95 | area=   all | maxDets=100 ] = 0.361\n",
      "Average Recall     (AR) @[ IoU=0.50:0.95 | area=   all | maxDets=300 ] = 0.361\n",
      "Average Recall     (AR) @[ IoU=0.50:0.95 | area=   all | maxDets=1000 ] = 0.361\n",
      "Average Recall     (AR) @[ IoU=0.50:0.95 | area= small | maxDets=1000 ] = 0.357\n",
      "Average Recall     (AR) @[ IoU=0.50:0.95 | area=medium | maxDets=1000 ] = 0.518\n",
      "Average Recall     (AR) @[ IoU=0.50:0.95 | area= large | maxDets=1000 ] = -1.000\n"
     ]
    },
    {
     "name": "stderr",
     "output_type": "stream",
     "text": [
      "2021-01-03 20:32:41,071 - mmdet - INFO - Epoch [7][50/2001]\tlr: 5.000e-03, eta: 1 day, 15:46:54, time: 0.988, data_time: 0.059, memory: 6189, loss_rpn_cls: 0.0031, loss_rpn_bbox: 0.0354, loss_cls: 0.1119, acc: 95.4248, loss_bbox: 0.2558, loss: 0.4062\n",
      "2021-01-03 20:33:36,229 - mmdet - INFO - Epoch [7][100/2001]\tlr: 5.000e-03, eta: 1 day, 15:42:22, time: 1.103, data_time: 0.012, memory: 6189, loss_rpn_cls: 0.0039, loss_rpn_bbox: 0.0355, loss_cls: 0.1106, acc: 95.5088, loss_bbox: 0.2467, loss: 0.3966\n",
      "2021-01-03 20:34:27,060 - mmdet - INFO - Epoch [7][150/2001]\tlr: 5.000e-03, eta: 1 day, 15:37:21, time: 1.016, data_time: 0.012, memory: 6189, loss_rpn_cls: 0.0046, loss_rpn_bbox: 0.0363, loss_cls: 0.1118, acc: 95.5049, loss_bbox: 0.2536, loss: 0.4063\n",
      "2021-01-03 20:35:21,973 - mmdet - INFO - Epoch [7][200/2001]\tlr: 5.000e-03, eta: 1 day, 15:32:50, time: 1.096, data_time: 0.012, memory: 6189, loss_rpn_cls: 0.0040, loss_rpn_bbox: 0.0362, loss_cls: 0.1071, acc: 95.6367, loss_bbox: 0.2524, loss: 0.3997\n",
      "2021-01-03 20:36:14,169 - mmdet - INFO - Epoch [7][250/2001]\tlr: 5.000e-03, eta: 1 day, 15:28:03, time: 1.046, data_time: 0.014, memory: 6189, loss_rpn_cls: 0.0044, loss_rpn_bbox: 0.0341, loss_cls: 0.1114, acc: 95.4678, loss_bbox: 0.2520, loss: 0.4019\n",
      "2021-01-03 20:37:08,528 - mmdet - INFO - Epoch [7][300/2001]\tlr: 5.000e-03, eta: 1 day, 15:23:33, time: 1.087, data_time: 0.012, memory: 6189, loss_rpn_cls: 0.0036, loss_rpn_bbox: 0.0355, loss_cls: 0.1100, acc: 95.4414, loss_bbox: 0.2591, loss: 0.4082\n",
      "2021-01-03 20:38:01,578 - mmdet - INFO - Epoch [7][350/2001]\tlr: 5.000e-03, eta: 1 day, 15:18:55, time: 1.061, data_time: 0.012, memory: 6189, loss_rpn_cls: 0.0048, loss_rpn_bbox: 0.0341, loss_cls: 0.1059, acc: 95.7012, loss_bbox: 0.2480, loss: 0.3928\n",
      "2021-01-03 20:38:54,388 - mmdet - INFO - Epoch [7][400/2001]\tlr: 5.000e-03, eta: 1 day, 15:14:17, time: 1.056, data_time: 0.012, memory: 6189, loss_rpn_cls: 0.0032, loss_rpn_bbox: 0.0344, loss_cls: 0.1088, acc: 95.5781, loss_bbox: 0.2488, loss: 0.3953\n",
      "2021-01-03 20:40:18,864 - mmdet - INFO - Epoch [7][450/2001]\tlr: 5.000e-03, eta: 1 day, 15:13:22, time: 1.683, data_time: 0.013, memory: 6189, loss_rpn_cls: 0.0036, loss_rpn_bbox: 0.0338, loss_cls: 0.1168, acc: 95.2256, loss_bbox: 0.2624, loss: 0.4166\n",
      "2021-01-03 20:42:23,511 - mmdet - INFO - Epoch [7][500/2001]\tlr: 5.000e-03, eta: 1 day, 15:17:10, time: 2.494, data_time: 0.020, memory: 6189, loss_rpn_cls: 0.0037, loss_rpn_bbox: 0.0358, loss_cls: 0.1147, acc: 95.3594, loss_bbox: 0.2558, loss: 0.4100\n",
      "2021-01-03 20:44:28,254 - mmdet - INFO - Epoch [7][550/2001]\tlr: 5.000e-03, eta: 1 day, 15:20:55, time: 2.494, data_time: 0.019, memory: 6189, loss_rpn_cls: 0.0040, loss_rpn_bbox: 0.0382, loss_cls: 0.1133, acc: 95.3037, loss_bbox: 0.2543, loss: 0.4099\n",
      "2021-01-03 20:46:33,307 - mmdet - INFO - Epoch [7][600/2001]\tlr: 5.000e-03, eta: 1 day, 15:24:40, time: 2.501, data_time: 0.019, memory: 6189, loss_rpn_cls: 0.0039, loss_rpn_bbox: 0.0345, loss_cls: 0.1146, acc: 95.3691, loss_bbox: 0.2488, loss: 0.4018\n",
      "2021-01-03 20:48:38,120 - mmdet - INFO - Epoch [7][650/2001]\tlr: 5.000e-03, eta: 1 day, 15:28:21, time: 2.497, data_time: 0.020, memory: 6189, loss_rpn_cls: 0.0041, loss_rpn_bbox: 0.0364, loss_cls: 0.1121, acc: 95.4102, loss_bbox: 0.2585, loss: 0.4112\n",
      "2021-01-03 20:50:42,269 - mmdet - INFO - Epoch [7][700/2001]\tlr: 5.000e-03, eta: 1 day, 15:31:55, time: 2.484, data_time: 0.019, memory: 6189, loss_rpn_cls: 0.0041, loss_rpn_bbox: 0.0353, loss_cls: 0.1103, acc: 95.5381, loss_bbox: 0.2583, loss: 0.4081\n",
      "2021-01-03 20:52:46,279 - mmdet - INFO - Epoch [7][750/2001]\tlr: 5.000e-03, eta: 1 day, 15:35:24, time: 2.479, data_time: 0.018, memory: 6189, loss_rpn_cls: 0.0037, loss_rpn_bbox: 0.0354, loss_cls: 0.1096, acc: 95.6211, loss_bbox: 0.2573, loss: 0.4060\n",
      "2021-01-03 20:54:51,982 - mmdet - INFO - Epoch [7][800/2001]\tlr: 5.000e-03, eta: 1 day, 15:39:03, time: 2.514, data_time: 0.020, memory: 6189, loss_rpn_cls: 0.0040, loss_rpn_bbox: 0.0384, loss_cls: 0.1103, acc: 95.6807, loss_bbox: 0.2561, loss: 0.4088\n",
      "2021-01-03 20:56:56,361 - mmdet - INFO - Epoch [7][850/2001]\tlr: 5.000e-03, eta: 1 day, 15:42:30, time: 2.487, data_time: 0.019, memory: 6189, loss_rpn_cls: 0.0037, loss_rpn_bbox: 0.0333, loss_cls: 0.1085, acc: 95.6133, loss_bbox: 0.2487, loss: 0.3942\n",
      "2021-01-03 20:59:01,082 - mmdet - INFO - Epoch [7][900/2001]\tlr: 5.000e-03, eta: 1 day, 15:45:56, time: 2.495, data_time: 0.020, memory: 6189, loss_rpn_cls: 0.0038, loss_rpn_bbox: 0.0334, loss_cls: 0.1118, acc: 95.4492, loss_bbox: 0.2522, loss: 0.4012\n",
      "2021-01-03 21:01:04,712 - mmdet - INFO - Epoch [7][950/2001]\tlr: 5.000e-03, eta: 1 day, 15:49:13, time: 2.472, data_time: 0.018, memory: 6189, loss_rpn_cls: 0.0032, loss_rpn_bbox: 0.0310, loss_cls: 0.1102, acc: 95.5693, loss_bbox: 0.2490, loss: 0.3934\n",
      "2021-01-03 21:03:09,864 - mmdet - INFO - Epoch [7][1000/2001]\tlr: 5.000e-03, eta: 1 day, 15:52:38, time: 2.503, data_time: 0.018, memory: 6189, loss_rpn_cls: 0.0032, loss_rpn_bbox: 0.0338, loss_cls: 0.1111, acc: 95.3828, loss_bbox: 0.2589, loss: 0.4070\n",
      "2021-01-03 21:05:14,650 - mmdet - INFO - Epoch [7][1050/2001]\tlr: 5.000e-03, eta: 1 day, 15:55:57, time: 2.495, data_time: 0.018, memory: 6189, loss_rpn_cls: 0.0039, loss_rpn_bbox: 0.0367, loss_cls: 0.1177, acc: 95.1699, loss_bbox: 0.2659, loss: 0.4242\n",
      "2021-01-03 21:07:20,412 - mmdet - INFO - Epoch [7][1100/2001]\tlr: 5.000e-03, eta: 1 day, 15:59:21, time: 2.516, data_time: 0.019, memory: 6189, loss_rpn_cls: 0.0037, loss_rpn_bbox: 0.0388, loss_cls: 0.1135, acc: 95.3848, loss_bbox: 0.2593, loss: 0.4153\n",
      "2021-01-03 21:09:23,532 - mmdet - INFO - Epoch [7][1150/2001]\tlr: 5.000e-03, eta: 1 day, 16:02:25, time: 2.463, data_time: 0.019, memory: 6189, loss_rpn_cls: 0.0039, loss_rpn_bbox: 0.0356, loss_cls: 0.1092, acc: 95.4834, loss_bbox: 0.2529, loss: 0.4016\n",
      "2021-01-03 21:11:26,773 - mmdet - INFO - Epoch [7][1200/2001]\tlr: 5.000e-03, eta: 1 day, 16:05:26, time: 2.463, data_time: 0.018, memory: 6189, loss_rpn_cls: 0.0034, loss_rpn_bbox: 0.0329, loss_cls: 0.1132, acc: 95.4258, loss_bbox: 0.2481, loss: 0.3976\n",
      "2021-01-03 21:13:31,416 - mmdet - INFO - Epoch [7][1250/2001]\tlr: 5.000e-03, eta: 1 day, 16:08:35, time: 2.494, data_time: 0.020, memory: 6189, loss_rpn_cls: 0.0040, loss_rpn_bbox: 0.0364, loss_cls: 0.1178, acc: 95.2461, loss_bbox: 0.2650, loss: 0.4232\n",
      "2021-01-03 21:15:34,466 - mmdet - INFO - Epoch [7][1300/2001]\tlr: 5.000e-03, eta: 1 day, 16:11:31, time: 2.461, data_time: 0.019, memory: 6189, loss_rpn_cls: 0.0041, loss_rpn_bbox: 0.0387, loss_cls: 0.1152, acc: 95.3848, loss_bbox: 0.2619, loss: 0.4200\n",
      "2021-01-03 21:17:40,055 - mmdet - INFO - Epoch [7][1350/2001]\tlr: 5.000e-03, eta: 1 day, 16:14:42, time: 2.513, data_time: 0.019, memory: 6189, loss_rpn_cls: 0.0029, loss_rpn_bbox: 0.0355, loss_cls: 0.1073, acc: 95.5791, loss_bbox: 0.2553, loss: 0.4010\n",
      "2021-01-03 21:19:44,448 - mmdet - INFO - Epoch [7][1400/2001]\tlr: 5.000e-03, eta: 1 day, 16:17:42, time: 2.486, data_time: 0.017, memory: 6189, loss_rpn_cls: 0.0032, loss_rpn_bbox: 0.0352, loss_cls: 0.1110, acc: 95.5137, loss_bbox: 0.2513, loss: 0.4008\n",
      "2021-01-03 21:21:48,486 - mmdet - INFO - Epoch [7][1450/2001]\tlr: 5.000e-03, eta: 1 day, 16:20:39, time: 2.484, data_time: 0.020, memory: 6189, loss_rpn_cls: 0.0040, loss_rpn_bbox: 0.0360, loss_cls: 0.1131, acc: 95.3945, loss_bbox: 0.2555, loss: 0.4086\n",
      "2021-01-03 21:23:51,955 - mmdet - INFO - Epoch [7][1500/2001]\tlr: 5.000e-03, eta: 1 day, 16:23:27, time: 2.466, data_time: 0.017, memory: 6189, loss_rpn_cls: 0.0035, loss_rpn_bbox: 0.0339, loss_cls: 0.1115, acc: 95.5342, loss_bbox: 0.2575, loss: 0.4064\n",
      "2021-01-03 21:25:54,918 - mmdet - INFO - Epoch [7][1550/2001]\tlr: 5.000e-03, eta: 1 day, 16:26:13, time: 2.461, data_time: 0.020, memory: 6189, loss_rpn_cls: 0.0032, loss_rpn_bbox: 0.0342, loss_cls: 0.1096, acc: 95.5918, loss_bbox: 0.2449, loss: 0.3920\n",
      "2021-01-03 21:27:58,424 - mmdet - INFO - Epoch [7][1600/2001]\tlr: 5.000e-03, eta: 1 day, 16:28:59, time: 2.472, data_time: 0.019, memory: 6189, loss_rpn_cls: 0.0032, loss_rpn_bbox: 0.0325, loss_cls: 0.1113, acc: 95.4990, loss_bbox: 0.2490, loss: 0.3960\n",
      "2021-01-03 21:30:02,240 - mmdet - INFO - Epoch [7][1650/2001]\tlr: 5.000e-03, eta: 1 day, 16:31:44, time: 2.474, data_time: 0.017, memory: 6189, loss_rpn_cls: 0.0038, loss_rpn_bbox: 0.0361, loss_cls: 0.1107, acc: 95.4297, loss_bbox: 0.2607, loss: 0.4113\n"
     ]
    },
    {
     "name": "stderr",
     "output_type": "stream",
     "text": [
      "2021-01-03 21:32:06,670 - mmdet - INFO - Epoch [7][1700/2001]\tlr: 5.000e-03, eta: 1 day, 16:34:31, time: 2.488, data_time: 0.019, memory: 6189, loss_rpn_cls: 0.0042, loss_rpn_bbox: 0.0346, loss_cls: 0.1110, acc: 95.5254, loss_bbox: 0.2569, loss: 0.4066\n",
      "2021-01-03 21:34:11,426 - mmdet - INFO - Epoch [7][1750/2001]\tlr: 5.000e-03, eta: 1 day, 16:37:19, time: 2.498, data_time: 0.021, memory: 6189, loss_rpn_cls: 0.0039, loss_rpn_bbox: 0.0354, loss_cls: 0.1075, acc: 95.6504, loss_bbox: 0.2573, loss: 0.4041\n",
      "2021-01-03 21:36:18,579 - mmdet - INFO - Epoch [7][1800/2001]\tlr: 5.000e-03, eta: 1 day, 16:40:19, time: 2.542, data_time: 0.018, memory: 6189, loss_rpn_cls: 0.0040, loss_rpn_bbox: 0.0334, loss_cls: 0.1122, acc: 95.3965, loss_bbox: 0.2531, loss: 0.4027\n",
      "2021-01-03 21:38:24,240 - mmdet - INFO - Epoch [7][1850/2001]\tlr: 5.000e-03, eta: 1 day, 16:43:08, time: 2.514, data_time: 0.019, memory: 6189, loss_rpn_cls: 0.0045, loss_rpn_bbox: 0.0355, loss_cls: 0.1056, acc: 95.7715, loss_bbox: 0.2483, loss: 0.3939\n",
      "2021-01-03 21:40:27,786 - mmdet - INFO - Epoch [7][1900/2001]\tlr: 5.000e-03, eta: 1 day, 16:45:42, time: 2.472, data_time: 0.018, memory: 6189, loss_rpn_cls: 0.0044, loss_rpn_bbox: 0.0348, loss_cls: 0.1124, acc: 95.3926, loss_bbox: 0.2587, loss: 0.4102\n",
      "2021-01-03 21:42:33,175 - mmdet - INFO - Epoch [7][1950/2001]\tlr: 5.000e-03, eta: 1 day, 16:48:25, time: 2.506, data_time: 0.016, memory: 6189, loss_rpn_cls: 0.0035, loss_rpn_bbox: 0.0359, loss_cls: 0.1090, acc: 95.6025, loss_bbox: 0.2488, loss: 0.3972\n",
      "2021-01-03 21:44:37,377 - mmdet - INFO - Epoch [7][2000/2001]\tlr: 5.000e-03, eta: 1 day, 16:50:58, time: 2.483, data_time: 0.018, memory: 6189, loss_rpn_cls: 0.0032, loss_rpn_bbox: 0.0351, loss_cls: 0.1059, acc: 95.7441, loss_bbox: 0.2498, loss: 0.3940\n",
      "2021-01-03 21:44:39,320 - mmdet - INFO - Saving checkpoint at 7 epochs\n"
     ]
    },
    {
     "name": "stdout",
     "output_type": "stream",
     "text": [
      "[>>>>>>>>>>>>>>>>>>>>>>>>>>>] 2013/2013, 5.1 task/s, elapsed: 392s, ETA:     0s"
     ]
    },
    {
     "name": "stderr",
     "output_type": "stream",
     "text": [
      "2021-01-03 21:51:12,407 - mmdet - INFO - \n",
      "Evaluateing valid_44.json with 2013 images now\n",
      "2021-01-03 21:51:13,257 - mmdet - INFO - Evaluating bbox...\n"
     ]
    },
    {
     "name": "stdout",
     "output_type": "stream",
     "text": [
      "Loading and preparing results...\n",
      "DONE (t=0.39s)\n",
      "creating index...\n",
      "index created!\n",
      "Running per image evaluation...\n",
      "Evaluate annotation type *bbox*\n",
      "DONE (t=18.54s).\n",
      "Accumulating evaluation results...\n"
     ]
    },
    {
     "name": "stderr",
     "output_type": "stream",
     "text": [
      "2021-01-03 21:51:33,219 - mmdet - INFO - Epoch(val) [7][2001]\t0_bbox_mAP: 0.2670, 0_bbox_mAP_50: 0.4450, 0_bbox_mAP_75: 0.3030, 0_bbox_mAP_s: 0.2630, 0_bbox_mAP_m: 0.4570, 0_bbox_mAP_l: -1.0000, 0_bbox_mAP_copypaste: 0.267 0.445 0.303 0.263 0.457 -1.000\n"
     ]
    },
    {
     "name": "stdout",
     "output_type": "stream",
     "text": [
      "DONE (t=0.93s).\n",
      "Average Precision  (AP) @[ IoU=0.50:0.95 | area=   all | maxDets=100 ] = 0.267\n",
      "Average Precision  (AP) @[ IoU=0.50      | area=   all | maxDets=1000 ] = 0.445\n",
      "Average Precision  (AP) @[ IoU=0.75      | area=   all | maxDets=1000 ] = 0.303\n",
      "Average Precision  (AP) @[ IoU=0.50:0.95 | area= small | maxDets=1000 ] = 0.263\n",
      "Average Precision  (AP) @[ IoU=0.50:0.95 | area=medium | maxDets=1000 ] = 0.457\n",
      "Average Precision  (AP) @[ IoU=0.50:0.95 | area= large | maxDets=1000 ] = -1.000\n",
      "Average Recall     (AR) @[ IoU=0.50:0.95 | area=   all | maxDets=100 ] = 0.325\n",
      "Average Recall     (AR) @[ IoU=0.50:0.95 | area=   all | maxDets=300 ] = 0.325\n",
      "Average Recall     (AR) @[ IoU=0.50:0.95 | area=   all | maxDets=1000 ] = 0.325\n",
      "Average Recall     (AR) @[ IoU=0.50:0.95 | area= small | maxDets=1000 ] = 0.321\n",
      "Average Recall     (AR) @[ IoU=0.50:0.95 | area=medium | maxDets=1000 ] = 0.524\n",
      "Average Recall     (AR) @[ IoU=0.50:0.95 | area= large | maxDets=1000 ] = -1.000\n"
     ]
    },
    {
     "name": "stderr",
     "output_type": "stream",
     "text": [
      "2021-01-03 21:52:25,210 - mmdet - INFO - Epoch [8][50/2001]\tlr: 5.000e-03, eta: 1 day, 16:45:54, time: 1.036, data_time: 0.059, memory: 6189, loss_rpn_cls: 0.0033, loss_rpn_bbox: 0.0337, loss_cls: 0.1035, acc: 95.7695, loss_bbox: 0.2494, loss: 0.3900\n",
      "2021-01-03 21:53:15,977 - mmdet - INFO - Epoch [8][100/2001]\tlr: 5.000e-03, eta: 1 day, 16:40:58, time: 1.014, data_time: 0.012, memory: 6189, loss_rpn_cls: 0.0029, loss_rpn_bbox: 0.0347, loss_cls: 0.1059, acc: 95.6221, loss_bbox: 0.2475, loss: 0.3910\n",
      "2021-01-03 21:54:12,939 - mmdet - INFO - Epoch [8][150/2001]\tlr: 5.000e-03, eta: 1 day, 16:36:42, time: 1.140, data_time: 0.014, memory: 6189, loss_rpn_cls: 0.0038, loss_rpn_bbox: 0.0361, loss_cls: 0.1112, acc: 95.4521, loss_bbox: 0.2503, loss: 0.4014\n",
      "2021-01-03 21:55:06,994 - mmdet - INFO - Epoch [8][200/2001]\tlr: 5.000e-03, eta: 1 day, 16:32:09, time: 1.081, data_time: 0.013, memory: 6189, loss_rpn_cls: 0.0031, loss_rpn_bbox: 0.0321, loss_cls: 0.1095, acc: 95.5098, loss_bbox: 0.2454, loss: 0.3901\n",
      "2021-01-03 21:56:01,283 - mmdet - INFO - Epoch [8][250/2001]\tlr: 5.000e-03, eta: 1 day, 16:27:39, time: 1.086, data_time: 0.013, memory: 6189, loss_rpn_cls: 0.0032, loss_rpn_bbox: 0.0338, loss_cls: 0.1043, acc: 95.7246, loss_bbox: 0.2496, loss: 0.3909\n",
      "2021-01-03 21:57:41,081 - mmdet - INFO - Epoch [8][300/2001]\tlr: 5.000e-03, eta: 1 day, 16:27:43, time: 1.993, data_time: 0.014, memory: 6189, loss_rpn_cls: 0.0043, loss_rpn_bbox: 0.0328, loss_cls: 0.1033, acc: 95.8389, loss_bbox: 0.2452, loss: 0.3856\n",
      "2021-01-03 21:59:45,200 - mmdet - INFO - Epoch [8][350/2001]\tlr: 5.000e-03, eta: 1 day, 16:30:12, time: 2.482, data_time: 0.017, memory: 6189, loss_rpn_cls: 0.0034, loss_rpn_bbox: 0.0331, loss_cls: 0.1064, acc: 95.6113, loss_bbox: 0.2510, loss: 0.3938\n",
      "2021-01-03 22:01:49,933 - mmdet - INFO - Epoch [8][400/2001]\tlr: 5.000e-03, eta: 1 day, 16:32:42, time: 2.493, data_time: 0.017, memory: 6189, loss_rpn_cls: 0.0039, loss_rpn_bbox: 0.0327, loss_cls: 0.1091, acc: 95.5371, loss_bbox: 0.2508, loss: 0.3965\n",
      "2021-01-03 22:03:54,814 - mmdet - INFO - Epoch [8][450/2001]\tlr: 5.000e-03, eta: 1 day, 16:35:11, time: 2.497, data_time: 0.019, memory: 6189, loss_rpn_cls: 0.0028, loss_rpn_bbox: 0.0352, loss_cls: 0.1037, acc: 95.7031, loss_bbox: 0.2464, loss: 0.3882\n",
      "2021-01-03 22:05:59,786 - mmdet - INFO - Epoch [8][500/2001]\tlr: 5.000e-03, eta: 1 day, 16:37:40, time: 2.502, data_time: 0.019, memory: 6189, loss_rpn_cls: 0.0038, loss_rpn_bbox: 0.0361, loss_cls: 0.1029, acc: 95.8242, loss_bbox: 0.2422, loss: 0.3851\n",
      "2021-01-03 22:08:04,573 - mmdet - INFO - Epoch [8][550/2001]\tlr: 5.000e-03, eta: 1 day, 16:40:05, time: 2.495, data_time: 0.016, memory: 6189, loss_rpn_cls: 0.0034, loss_rpn_bbox: 0.0344, loss_cls: 0.1089, acc: 95.5117, loss_bbox: 0.2468, loss: 0.3935\n",
      "2021-01-03 22:10:07,566 - mmdet - INFO - Epoch [8][600/2001]\tlr: 5.000e-03, eta: 1 day, 16:42:18, time: 2.459, data_time: 0.017, memory: 6189, loss_rpn_cls: 0.0031, loss_rpn_bbox: 0.0336, loss_cls: 0.1065, acc: 95.5859, loss_bbox: 0.2513, loss: 0.3945\n",
      "2021-01-03 22:12:11,647 - mmdet - INFO - Epoch [8][650/2001]\tlr: 5.000e-03, eta: 1 day, 16:44:35, time: 2.482, data_time: 0.019, memory: 6189, loss_rpn_cls: 0.0034, loss_rpn_bbox: 0.0328, loss_cls: 0.1025, acc: 95.7715, loss_bbox: 0.2418, loss: 0.3804\n",
      "2021-01-03 22:14:15,728 - mmdet - INFO - Epoch [8][700/2001]\tlr: 5.000e-03, eta: 1 day, 16:46:52, time: 2.484, data_time: 0.019, memory: 6189, loss_rpn_cls: 0.0034, loss_rpn_bbox: 0.0363, loss_cls: 0.1080, acc: 95.5664, loss_bbox: 0.2535, loss: 0.4012\n",
      "2021-01-03 22:16:21,028 - mmdet - INFO - Epoch [8][750/2001]\tlr: 5.000e-03, eta: 1 day, 16:49:12, time: 2.504, data_time: 0.017, memory: 6189, loss_rpn_cls: 0.0031, loss_rpn_bbox: 0.0337, loss_cls: 0.1071, acc: 95.6514, loss_bbox: 0.2456, loss: 0.3896\n",
      "2021-01-03 22:18:26,610 - mmdet - INFO - Epoch [8][800/2001]\tlr: 5.000e-03, eta: 1 day, 16:51:33, time: 2.511, data_time: 0.019, memory: 6189, loss_rpn_cls: 0.0035, loss_rpn_bbox: 0.0349, loss_cls: 0.1062, acc: 95.7031, loss_bbox: 0.2426, loss: 0.3872\n",
      "2021-01-03 22:20:30,354 - mmdet - INFO - Epoch [8][850/2001]\tlr: 5.000e-03, eta: 1 day, 16:53:42, time: 2.476, data_time: 0.019, memory: 6189, loss_rpn_cls: 0.0037, loss_rpn_bbox: 0.0308, loss_cls: 0.1038, acc: 95.7979, loss_bbox: 0.2432, loss: 0.3815\n",
      "2021-01-03 22:22:34,813 - mmdet - INFO - Epoch [8][900/2001]\tlr: 5.000e-03, eta: 1 day, 16:55:52, time: 2.488, data_time: 0.018, memory: 6189, loss_rpn_cls: 0.0039, loss_rpn_bbox: 0.0331, loss_cls: 0.1072, acc: 95.5762, loss_bbox: 0.2394, loss: 0.3836\n",
      "2021-01-03 22:24:38,843 - mmdet - INFO - Epoch [8][950/2001]\tlr: 5.000e-03, eta: 1 day, 16:58:00, time: 2.484, data_time: 0.020, memory: 6189, loss_rpn_cls: 0.0032, loss_rpn_bbox: 0.0370, loss_cls: 0.1089, acc: 95.5439, loss_bbox: 0.2490, loss: 0.3980\n",
      "2021-01-03 22:26:43,009 - mmdet - INFO - Epoch [8][1000/2001]\tlr: 5.000e-03, eta: 1 day, 17:00:06, time: 2.483, data_time: 0.017, memory: 6189, loss_rpn_cls: 0.0042, loss_rpn_bbox: 0.0356, loss_cls: 0.1042, acc: 95.7363, loss_bbox: 0.2477, loss: 0.3917\n",
      "2021-01-03 22:28:46,653 - mmdet - INFO - Epoch [8][1050/2001]\tlr: 5.000e-03, eta: 1 day, 17:02:07, time: 2.473, data_time: 0.016, memory: 6189, loss_rpn_cls: 0.0031, loss_rpn_bbox: 0.0339, loss_cls: 0.1038, acc: 95.7529, loss_bbox: 0.2486, loss: 0.3894\n",
      "2021-01-03 22:30:50,743 - mmdet - INFO - Epoch [8][1100/2001]\tlr: 5.000e-03, eta: 1 day, 17:04:09, time: 2.479, data_time: 0.017, memory: 6189, loss_rpn_cls: 0.0030, loss_rpn_bbox: 0.0358, loss_cls: 0.1051, acc: 95.6572, loss_bbox: 0.2458, loss: 0.3897\n",
      "2021-01-03 22:32:53,693 - mmdet - INFO - Epoch [8][1150/2001]\tlr: 5.000e-03, eta: 1 day, 17:06:03, time: 2.462, data_time: 0.019, memory: 6189, loss_rpn_cls: 0.0034, loss_rpn_bbox: 0.0308, loss_cls: 0.1074, acc: 95.6328, loss_bbox: 0.2473, loss: 0.3888\n",
      "2021-01-03 22:34:57,283 - mmdet - INFO - Epoch [8][1200/2001]\tlr: 5.000e-03, eta: 1 day, 17:08:00, time: 2.471, data_time: 0.016, memory: 6189, loss_rpn_cls: 0.0031, loss_rpn_bbox: 0.0343, loss_cls: 0.1062, acc: 95.6416, loss_bbox: 0.2458, loss: 0.3895\n",
      "2021-01-03 22:37:02,163 - mmdet - INFO - Epoch [8][1250/2001]\tlr: 5.000e-03, eta: 1 day, 17:10:01, time: 2.497, data_time: 0.016, memory: 6189, loss_rpn_cls: 0.0032, loss_rpn_bbox: 0.0365, loss_cls: 0.1052, acc: 95.6807, loss_bbox: 0.2555, loss: 0.4003\n",
      "2021-01-03 22:39:05,840 - mmdet - INFO - Epoch [8][1300/2001]\tlr: 5.000e-03, eta: 1 day, 17:11:54, time: 2.471, data_time: 0.017, memory: 6189, loss_rpn_cls: 0.0038, loss_rpn_bbox: 0.0353, loss_cls: 0.1074, acc: 95.6035, loss_bbox: 0.2471, loss: 0.3936\n",
      "2021-01-03 22:41:09,357 - mmdet - INFO - Epoch [8][1350/2001]\tlr: 5.000e-03, eta: 1 day, 17:13:45, time: 2.471, data_time: 0.020, memory: 6189, loss_rpn_cls: 0.0039, loss_rpn_bbox: 0.0339, loss_cls: 0.1057, acc: 95.6699, loss_bbox: 0.2394, loss: 0.3828\n",
      "2021-01-03 22:43:12,882 - mmdet - INFO - Epoch [8][1400/2001]\tlr: 5.000e-03, eta: 1 day, 17:15:34, time: 2.468, data_time: 0.018, memory: 6189, loss_rpn_cls: 0.0032, loss_rpn_bbox: 0.0331, loss_cls: 0.1013, acc: 95.8701, loss_bbox: 0.2339, loss: 0.3715\n",
      "2021-01-03 22:45:17,963 - mmdet - INFO - Epoch [8][1450/2001]\tlr: 5.000e-03, eta: 1 day, 17:17:32, time: 2.504, data_time: 0.021, memory: 6189, loss_rpn_cls: 0.0032, loss_rpn_bbox: 0.0360, loss_cls: 0.1005, acc: 95.8916, loss_bbox: 0.2377, loss: 0.3774\n",
      "2021-01-03 22:47:22,611 - mmdet - INFO - Epoch [8][1500/2001]\tlr: 5.000e-03, eta: 1 day, 17:19:25, time: 2.495, data_time: 0.019, memory: 6189, loss_rpn_cls: 0.0032, loss_rpn_bbox: 0.0320, loss_cls: 0.1012, acc: 95.8457, loss_bbox: 0.2314, loss: 0.3678\n",
      "2021-01-03 22:49:27,942 - mmdet - INFO - Epoch [8][1550/2001]\tlr: 5.000e-03, eta: 1 day, 17:21:19, time: 2.505, data_time: 0.017, memory: 6189, loss_rpn_cls: 0.0026, loss_rpn_bbox: 0.0344, loss_cls: 0.0986, acc: 95.9238, loss_bbox: 0.2385, loss: 0.3742\n",
      "2021-01-03 22:51:32,701 - mmdet - INFO - Epoch [8][1600/2001]\tlr: 5.000e-03, eta: 1 day, 17:23:09, time: 2.494, data_time: 0.018, memory: 6189, loss_rpn_cls: 0.0034, loss_rpn_bbox: 0.0345, loss_cls: 0.1043, acc: 95.7998, loss_bbox: 0.2409, loss: 0.3831\n",
      "2021-01-03 22:53:36,272 - mmdet - INFO - Epoch [8][1650/2001]\tlr: 5.000e-03, eta: 1 day, 17:24:52, time: 2.474, data_time: 0.019, memory: 6189, loss_rpn_cls: 0.0030, loss_rpn_bbox: 0.0349, loss_cls: 0.0994, acc: 95.8418, loss_bbox: 0.2357, loss: 0.3730\n"
     ]
    },
    {
     "name": "stderr",
     "output_type": "stream",
     "text": [
      "2021-01-03 22:55:39,973 - mmdet - INFO - Epoch [8][1700/2001]\tlr: 5.000e-03, eta: 1 day, 17:26:34, time: 2.473, data_time: 0.017, memory: 6189, loss_rpn_cls: 0.0030, loss_rpn_bbox: 0.0319, loss_cls: 0.0972, acc: 95.9951, loss_bbox: 0.2383, loss: 0.3704\n",
      "2021-01-03 22:57:48,957 - mmdet - INFO - Epoch [8][1750/2001]\tlr: 5.000e-03, eta: 1 day, 17:28:42, time: 2.579, data_time: 0.019, memory: 6189, loss_rpn_cls: 0.0028, loss_rpn_bbox: 0.0365, loss_cls: 0.1053, acc: 95.7471, loss_bbox: 0.2499, loss: 0.3945\n",
      "2021-01-03 22:59:53,576 - mmdet - INFO - Epoch [8][1800/2001]\tlr: 5.000e-03, eta: 1 day, 17:30:25, time: 2.492, data_time: 0.018, memory: 6189, loss_rpn_cls: 0.0033, loss_rpn_bbox: 0.0335, loss_cls: 0.1023, acc: 95.8613, loss_bbox: 0.2436, loss: 0.3827\n",
      "2021-01-03 23:01:58,222 - mmdet - INFO - Epoch [8][1850/2001]\tlr: 5.000e-03, eta: 1 day, 17:32:08, time: 2.495, data_time: 0.018, memory: 6189, loss_rpn_cls: 0.0036, loss_rpn_bbox: 0.0333, loss_cls: 0.1041, acc: 95.8457, loss_bbox: 0.2384, loss: 0.3794\n",
      "2021-01-03 23:04:02,958 - mmdet - INFO - Epoch [8][1900/2001]\tlr: 5.000e-03, eta: 1 day, 17:33:49, time: 2.494, data_time: 0.016, memory: 6189, loss_rpn_cls: 0.0032, loss_rpn_bbox: 0.0346, loss_cls: 0.1020, acc: 95.9219, loss_bbox: 0.2386, loss: 0.3785\n",
      "2021-01-03 23:06:07,655 - mmdet - INFO - Epoch [8][1950/2001]\tlr: 5.000e-03, eta: 1 day, 17:35:28, time: 2.493, data_time: 0.018, memory: 6189, loss_rpn_cls: 0.0041, loss_rpn_bbox: 0.0330, loss_cls: 0.1061, acc: 95.6660, loss_bbox: 0.2396, loss: 0.3827\n",
      "2021-01-03 23:07:16,194 - mmdet - INFO - Epoch [8][2000/2001]\tlr: 5.000e-03, eta: 1 day, 17:32:13, time: 1.374, data_time: 0.017, memory: 6189, loss_rpn_cls: 0.0038, loss_rpn_bbox: 0.0334, loss_cls: 0.1025, acc: 95.7031, loss_bbox: 0.2481, loss: 0.3878\n",
      "2021-01-03 23:07:17,003 - mmdet - INFO - Saving checkpoint at 8 epochs\n"
     ]
    },
    {
     "name": "stdout",
     "output_type": "stream",
     "text": [
      "[>>>>>>>>>>>>>>>>>>>>>>>>>>>] 2013/2013, 4.3 task/s, elapsed: 464s, ETA:     0s"
     ]
    },
    {
     "name": "stderr",
     "output_type": "stream",
     "text": [
      "2021-01-03 23:15:01,775 - mmdet - INFO - \n",
      "Evaluateing valid_44.json with 2013 images now\n",
      "2021-01-03 23:15:02,426 - mmdet - INFO - Evaluating bbox...\n"
     ]
    },
    {
     "name": "stdout",
     "output_type": "stream",
     "text": [
      "Loading and preparing results...\n",
      "DONE (t=0.29s)\n",
      "creating index...\n",
      "index created!\n",
      "Running per image evaluation...\n",
      "Evaluate annotation type *bbox*\n",
      "DONE (t=19.28s).\n",
      "Accumulating evaluation results...\n"
     ]
    },
    {
     "name": "stderr",
     "output_type": "stream",
     "text": [
      "2021-01-03 23:15:22,996 - mmdet - INFO - Epoch(val) [8][2001]\t0_bbox_mAP: 0.2790, 0_bbox_mAP_50: 0.4610, 0_bbox_mAP_75: 0.3130, 0_bbox_mAP_s: 0.2740, 0_bbox_mAP_m: 0.4790, 0_bbox_mAP_l: -1.0000, 0_bbox_mAP_copypaste: 0.279 0.461 0.313 0.274 0.479 -1.000\n"
     ]
    },
    {
     "name": "stdout",
     "output_type": "stream",
     "text": [
      "DONE (t=0.89s).\n",
      "Average Precision  (AP) @[ IoU=0.50:0.95 | area=   all | maxDets=100 ] = 0.279\n",
      "Average Precision  (AP) @[ IoU=0.50      | area=   all | maxDets=1000 ] = 0.461\n",
      "Average Precision  (AP) @[ IoU=0.75      | area=   all | maxDets=1000 ] = 0.313\n",
      "Average Precision  (AP) @[ IoU=0.50:0.95 | area= small | maxDets=1000 ] = 0.274\n",
      "Average Precision  (AP) @[ IoU=0.50:0.95 | area=medium | maxDets=1000 ] = 0.479\n",
      "Average Precision  (AP) @[ IoU=0.50:0.95 | area= large | maxDets=1000 ] = -1.000\n",
      "Average Recall     (AR) @[ IoU=0.50:0.95 | area=   all | maxDets=100 ] = 0.362\n",
      "Average Recall     (AR) @[ IoU=0.50:0.95 | area=   all | maxDets=300 ] = 0.362\n",
      "Average Recall     (AR) @[ IoU=0.50:0.95 | area=   all | maxDets=1000 ] = 0.362\n",
      "Average Recall     (AR) @[ IoU=0.50:0.95 | area= small | maxDets=1000 ] = 0.357\n",
      "Average Recall     (AR) @[ IoU=0.50:0.95 | area=medium | maxDets=1000 ] = 0.541\n",
      "Average Recall     (AR) @[ IoU=0.50:0.95 | area= large | maxDets=1000 ] = -1.000\n"
     ]
    },
    {
     "name": "stderr",
     "output_type": "stream",
     "text": [
      "2021-01-03 23:17:29,153 - mmdet - INFO - Epoch [9][50/2001]\tlr: 5.000e-04, eta: 1 day, 17:33:45, time: 2.516, data_time: 0.059, memory: 6189, loss_rpn_cls: 0.0036, loss_rpn_bbox: 0.0294, loss_cls: 0.0939, acc: 96.1914, loss_bbox: 0.2209, loss: 0.3479\n",
      "2021-01-03 23:19:32,488 - mmdet - INFO - Epoch [9][100/2001]\tlr: 5.000e-04, eta: 1 day, 17:35:14, time: 2.464, data_time: 0.016, memory: 6189, loss_rpn_cls: 0.0026, loss_rpn_bbox: 0.0289, loss_cls: 0.0924, acc: 96.2061, loss_bbox: 0.2192, loss: 0.3431\n",
      "2021-01-03 23:21:37,243 - mmdet - INFO - Epoch [9][150/2001]\tlr: 5.000e-04, eta: 1 day, 17:36:50, time: 2.496, data_time: 0.019, memory: 6189, loss_rpn_cls: 0.0026, loss_rpn_bbox: 0.0313, loss_cls: 0.0899, acc: 96.3613, loss_bbox: 0.2208, loss: 0.3445\n",
      "2021-01-03 23:23:42,236 - mmdet - INFO - Epoch [9][200/2001]\tlr: 5.000e-04, eta: 1 day, 17:38:26, time: 2.502, data_time: 0.018, memory: 6189, loss_rpn_cls: 0.0029, loss_rpn_bbox: 0.0324, loss_cls: 0.0945, acc: 96.1885, loss_bbox: 0.2308, loss: 0.3606\n",
      "2021-01-03 23:25:46,635 - mmdet - INFO - Epoch [9][250/2001]\tlr: 5.000e-04, eta: 1 day, 17:39:56, time: 2.486, data_time: 0.016, memory: 6189, loss_rpn_cls: 0.0027, loss_rpn_bbox: 0.0300, loss_cls: 0.0930, acc: 96.1895, loss_bbox: 0.2231, loss: 0.3488\n",
      "2021-01-03 23:27:50,210 - mmdet - INFO - Epoch [9][300/2001]\tlr: 5.000e-04, eta: 1 day, 17:41:22, time: 2.471, data_time: 0.018, memory: 6189, loss_rpn_cls: 0.0031, loss_rpn_bbox: 0.0288, loss_cls: 0.0880, acc: 96.3965, loss_bbox: 0.2191, loss: 0.3390\n",
      "2021-01-03 23:29:54,799 - mmdet - INFO - Epoch [9][350/2001]\tlr: 5.000e-04, eta: 1 day, 17:42:51, time: 2.491, data_time: 0.019, memory: 6189, loss_rpn_cls: 0.0032, loss_rpn_bbox: 0.0300, loss_cls: 0.0894, acc: 96.2656, loss_bbox: 0.2225, loss: 0.3451\n",
      "2021-01-03 23:31:59,600 - mmdet - INFO - Epoch [9][400/2001]\tlr: 5.000e-04, eta: 1 day, 17:44:20, time: 2.496, data_time: 0.019, memory: 6189, loss_rpn_cls: 0.0028, loss_rpn_bbox: 0.0310, loss_cls: 0.0852, acc: 96.4766, loss_bbox: 0.2216, loss: 0.3406\n",
      "2021-01-03 23:34:05,621 - mmdet - INFO - Epoch [9][450/2001]\tlr: 5.000e-04, eta: 1 day, 17:45:54, time: 2.521, data_time: 0.019, memory: 6189, loss_rpn_cls: 0.0035, loss_rpn_bbox: 0.0316, loss_cls: 0.0918, acc: 96.1768, loss_bbox: 0.2240, loss: 0.3508\n",
      "2021-01-03 23:36:10,882 - mmdet - INFO - Epoch [9][500/2001]\tlr: 5.000e-04, eta: 1 day, 17:47:23, time: 2.504, data_time: 0.018, memory: 6189, loss_rpn_cls: 0.0028, loss_rpn_bbox: 0.0317, loss_cls: 0.0882, acc: 96.3477, loss_bbox: 0.2202, loss: 0.3428\n",
      "2021-01-03 23:38:15,275 - mmdet - INFO - Epoch [9][550/2001]\tlr: 5.000e-04, eta: 1 day, 17:48:46, time: 2.487, data_time: 0.021, memory: 6189, loss_rpn_cls: 0.0026, loss_rpn_bbox: 0.0297, loss_cls: 0.0873, acc: 96.4160, loss_bbox: 0.2192, loss: 0.3389\n",
      "2021-01-03 23:40:20,518 - mmdet - INFO - Epoch [9][600/2001]\tlr: 5.000e-04, eta: 1 day, 17:50:13, time: 2.508, data_time: 0.021, memory: 6189, loss_rpn_cls: 0.0027, loss_rpn_bbox: 0.0314, loss_cls: 0.0893, acc: 96.3506, loss_bbox: 0.2323, loss: 0.3557\n",
      "2021-01-03 23:42:25,018 - mmdet - INFO - Epoch [9][650/2001]\tlr: 5.000e-04, eta: 1 day, 17:51:34, time: 2.488, data_time: 0.017, memory: 6189, loss_rpn_cls: 0.0023, loss_rpn_bbox: 0.0291, loss_cls: 0.0879, acc: 96.3916, loss_bbox: 0.2188, loss: 0.3382\n",
      "2021-01-03 23:44:29,665 - mmdet - INFO - Epoch [9][700/2001]\tlr: 5.000e-04, eta: 1 day, 17:52:54, time: 2.492, data_time: 0.018, memory: 6189, loss_rpn_cls: 0.0027, loss_rpn_bbox: 0.0286, loss_cls: 0.0865, acc: 96.4658, loss_bbox: 0.2176, loss: 0.3354\n",
      "2021-01-03 23:46:34,252 - mmdet - INFO - Epoch [9][750/2001]\tlr: 5.000e-04, eta: 1 day, 17:54:14, time: 2.495, data_time: 0.019, memory: 6189, loss_rpn_cls: 0.0027, loss_rpn_bbox: 0.0289, loss_cls: 0.0910, acc: 96.2783, loss_bbox: 0.2281, loss: 0.3507\n",
      "2021-01-03 23:48:37,663 - mmdet - INFO - Epoch [9][800/2001]\tlr: 5.000e-04, eta: 1 day, 17:55:25, time: 2.465, data_time: 0.017, memory: 6189, loss_rpn_cls: 0.0027, loss_rpn_bbox: 0.0282, loss_cls: 0.0930, acc: 96.1553, loss_bbox: 0.2265, loss: 0.3505\n",
      "2021-01-03 23:50:41,348 - mmdet - INFO - Epoch [9][850/2001]\tlr: 5.000e-04, eta: 1 day, 17:56:38, time: 2.476, data_time: 0.020, memory: 6189, loss_rpn_cls: 0.0024, loss_rpn_bbox: 0.0304, loss_cls: 0.0913, acc: 96.1641, loss_bbox: 0.2306, loss: 0.3548\n",
      "2021-01-03 23:52:46,108 - mmdet - INFO - Epoch [9][900/2001]\tlr: 5.000e-04, eta: 1 day, 17:57:54, time: 2.493, data_time: 0.017, memory: 6189, loss_rpn_cls: 0.0028, loss_rpn_bbox: 0.0301, loss_cls: 0.0908, acc: 96.2617, loss_bbox: 0.2261, loss: 0.3498\n",
      "2021-01-03 23:54:50,553 - mmdet - INFO - Epoch [9][950/2001]\tlr: 5.000e-04, eta: 1 day, 17:59:08, time: 2.490, data_time: 0.020, memory: 6189, loss_rpn_cls: 0.0025, loss_rpn_bbox: 0.0313, loss_cls: 0.0900, acc: 96.3672, loss_bbox: 0.2254, loss: 0.3492\n",
      "2021-01-03 23:56:54,213 - mmdet - INFO - Epoch [9][1000/2001]\tlr: 5.000e-04, eta: 1 day, 18:00:18, time: 2.476, data_time: 0.018, memory: 6189, loss_rpn_cls: 0.0029, loss_rpn_bbox: 0.0302, loss_cls: 0.0914, acc: 96.2549, loss_bbox: 0.2284, loss: 0.3529\n",
      "2021-01-03 23:58:57,748 - mmdet - INFO - Epoch [9][1050/2001]\tlr: 5.000e-04, eta: 1 day, 18:01:24, time: 2.470, data_time: 0.017, memory: 6189, loss_rpn_cls: 0.0023, loss_rpn_bbox: 0.0301, loss_cls: 0.0899, acc: 96.2842, loss_bbox: 0.2282, loss: 0.3505\n",
      "2021-01-04 00:01:01,606 - mmdet - INFO - Epoch [9][1100/2001]\tlr: 5.000e-04, eta: 1 day, 18:02:32, time: 2.478, data_time: 0.017, memory: 6189, loss_rpn_cls: 0.0030, loss_rpn_bbox: 0.0294, loss_cls: 0.0894, acc: 96.3633, loss_bbox: 0.2238, loss: 0.3456\n",
      "2021-01-04 00:03:05,544 - mmdet - INFO - Epoch [9][1150/2001]\tlr: 5.000e-04, eta: 1 day, 18:03:38, time: 2.476, data_time: 0.016, memory: 6189, loss_rpn_cls: 0.0024, loss_rpn_bbox: 0.0292, loss_cls: 0.0901, acc: 96.2734, loss_bbox: 0.2251, loss: 0.3469\n",
      "2021-01-04 00:05:10,663 - mmdet - INFO - Epoch [9][1200/2001]\tlr: 5.000e-04, eta: 1 day, 18:04:49, time: 2.501, data_time: 0.018, memory: 6189, loss_rpn_cls: 0.0028, loss_rpn_bbox: 0.0314, loss_cls: 0.0900, acc: 96.2822, loss_bbox: 0.2296, loss: 0.3537\n",
      "2021-01-04 00:07:13,344 - mmdet - INFO - Epoch [9][1250/2001]\tlr: 5.000e-04, eta: 1 day, 18:05:48, time: 2.455, data_time: 0.020, memory: 6189, loss_rpn_cls: 0.0026, loss_rpn_bbox: 0.0292, loss_cls: 0.0889, acc: 96.3701, loss_bbox: 0.2245, loss: 0.3453\n",
      "2021-01-04 00:09:17,786 - mmdet - INFO - Epoch [9][1300/2001]\tlr: 5.000e-04, eta: 1 day, 18:06:54, time: 2.491, data_time: 0.019, memory: 6189, loss_rpn_cls: 0.0027, loss_rpn_bbox: 0.0318, loss_cls: 0.0900, acc: 96.3242, loss_bbox: 0.2287, loss: 0.3532\n",
      "2021-01-04 00:11:23,022 - mmdet - INFO - Epoch [9][1350/2001]\tlr: 5.000e-04, eta: 1 day, 18:08:02, time: 2.502, data_time: 0.016, memory: 6189, loss_rpn_cls: 0.0033, loss_rpn_bbox: 0.0274, loss_cls: 0.0854, acc: 96.4160, loss_bbox: 0.2228, loss: 0.3388\n",
      "2021-01-04 00:13:27,759 - mmdet - INFO - Epoch [9][1400/2001]\tlr: 5.000e-04, eta: 1 day, 18:09:07, time: 2.495, data_time: 0.019, memory: 6189, loss_rpn_cls: 0.0032, loss_rpn_bbox: 0.0304, loss_cls: 0.0925, acc: 96.2031, loss_bbox: 0.2279, loss: 0.3540\n",
      "2021-01-04 00:15:32,948 - mmdet - INFO - Epoch [9][1450/2001]\tlr: 5.000e-04, eta: 1 day, 18:10:13, time: 2.503, data_time: 0.019, memory: 6189, loss_rpn_cls: 0.0036, loss_rpn_bbox: 0.0321, loss_cls: 0.0886, acc: 96.3193, loss_bbox: 0.2333, loss: 0.3576\n",
      "2021-01-04 00:17:36,577 - mmdet - INFO - Epoch [9][1500/2001]\tlr: 5.000e-04, eta: 1 day, 18:11:11, time: 2.473, data_time: 0.021, memory: 6189, loss_rpn_cls: 0.0026, loss_rpn_bbox: 0.0287, loss_cls: 0.0869, acc: 96.3984, loss_bbox: 0.2212, loss: 0.3394\n",
      "2021-01-04 00:18:38,930 - mmdet - INFO - Epoch [9][1550/2001]\tlr: 5.000e-04, eta: 1 day, 18:07:21, time: 1.253, data_time: 0.021, memory: 6189, loss_rpn_cls: 0.0020, loss_rpn_bbox: 0.0280, loss_cls: 0.0881, acc: 96.3584, loss_bbox: 0.2236, loss: 0.3417\n",
      "2021-01-04 00:19:46,072 - mmdet - INFO - Epoch [9][1600/2001]\tlr: 5.000e-04, eta: 1 day, 18:03:52, time: 1.338, data_time: 0.014, memory: 6189, loss_rpn_cls: 0.0030, loss_rpn_bbox: 0.0314, loss_cls: 0.0896, acc: 96.3398, loss_bbox: 0.2245, loss: 0.3484\n",
      "2021-01-04 00:21:51,265 - mmdet - INFO - Epoch [9][1650/2001]\tlr: 5.000e-04, eta: 1 day, 18:04:56, time: 2.504, data_time: 0.019, memory: 6189, loss_rpn_cls: 0.0018, loss_rpn_bbox: 0.0284, loss_cls: 0.0850, acc: 96.4746, loss_bbox: 0.2173, loss: 0.3325\n"
     ]
    },
    {
     "name": "stderr",
     "output_type": "stream",
     "text": [
      "2021-01-04 00:23:55,671 - mmdet - INFO - Epoch [9][1700/2001]\tlr: 5.000e-04, eta: 1 day, 18:05:55, time: 2.488, data_time: 0.019, memory: 6189, loss_rpn_cls: 0.0025, loss_rpn_bbox: 0.0291, loss_cls: 0.0908, acc: 96.2217, loss_bbox: 0.2254, loss: 0.3478\n",
      "2021-01-04 00:26:00,346 - mmdet - INFO - Epoch [9][1750/2001]\tlr: 5.000e-04, eta: 1 day, 18:06:54, time: 2.495, data_time: 0.019, memory: 6189, loss_rpn_cls: 0.0031, loss_rpn_bbox: 0.0285, loss_cls: 0.0870, acc: 96.3896, loss_bbox: 0.2285, loss: 0.3471\n",
      "2021-01-04 00:28:03,482 - mmdet - INFO - Epoch [9][1800/2001]\tlr: 5.000e-04, eta: 1 day, 18:07:46, time: 2.464, data_time: 0.018, memory: 6189, loss_rpn_cls: 0.0026, loss_rpn_bbox: 0.0268, loss_cls: 0.0861, acc: 96.4678, loss_bbox: 0.2225, loss: 0.3380\n",
      "2021-01-04 00:30:07,578 - mmdet - INFO - Epoch [9][1850/2001]\tlr: 5.000e-04, eta: 1 day, 18:08:40, time: 2.480, data_time: 0.017, memory: 6189, loss_rpn_cls: 0.0020, loss_rpn_bbox: 0.0288, loss_cls: 0.0842, acc: 96.5166, loss_bbox: 0.2182, loss: 0.3333\n",
      "2021-01-04 00:32:10,909 - mmdet - INFO - Epoch [9][1900/2001]\tlr: 5.000e-04, eta: 1 day, 18:09:30, time: 2.467, data_time: 0.019, memory: 6189, loss_rpn_cls: 0.0024, loss_rpn_bbox: 0.0294, loss_cls: 0.0887, acc: 96.3770, loss_bbox: 0.2241, loss: 0.3446\n",
      "2021-01-04 00:34:14,741 - mmdet - INFO - Epoch [9][1950/2001]\tlr: 5.000e-04, eta: 1 day, 18:10:21, time: 2.476, data_time: 0.019, memory: 6189, loss_rpn_cls: 0.0028, loss_rpn_bbox: 0.0306, loss_cls: 0.0883, acc: 96.4131, loss_bbox: 0.2228, loss: 0.3444\n",
      "2021-01-04 00:36:17,132 - mmdet - INFO - Epoch [9][2000/2001]\tlr: 5.000e-04, eta: 1 day, 18:11:05, time: 2.447, data_time: 0.019, memory: 6189, loss_rpn_cls: 0.0031, loss_rpn_bbox: 0.0293, loss_cls: 0.0894, acc: 96.3008, loss_bbox: 0.2225, loss: 0.3443\n",
      "2021-01-04 00:36:19,105 - mmdet - INFO - Saving checkpoint at 9 epochs\n"
     ]
    },
    {
     "name": "stdout",
     "output_type": "stream",
     "text": [
      "[>>>>>>>>>>>>>>>>>>>>>>>>>>>] 2013/2013, 3.7 task/s, elapsed: 545s, ETA:     0s"
     ]
    },
    {
     "name": "stderr",
     "output_type": "stream",
     "text": [
      "2021-01-04 00:45:25,484 - mmdet - INFO - \n",
      "Evaluateing valid_44.json with 2013 images now\n",
      "2021-01-04 00:45:26,308 - mmdet - INFO - Evaluating bbox...\n"
     ]
    },
    {
     "name": "stdout",
     "output_type": "stream",
     "text": [
      "Loading and preparing results...\n",
      "DONE (t=0.36s)\n",
      "creating index...\n",
      "index created!\n",
      "Running per image evaluation...\n",
      "Evaluate annotation type *bbox*\n",
      "DONE (t=21.06s).\n",
      "Accumulating evaluation results...\n"
     ]
    },
    {
     "name": "stderr",
     "output_type": "stream",
     "text": [
      "2021-01-04 00:45:48,812 - mmdet - INFO - Epoch(val) [9][2001]\t0_bbox_mAP: 0.2830, 0_bbox_mAP_50: 0.4670, 0_bbox_mAP_75: 0.3200, 0_bbox_mAP_s: 0.2780, 0_bbox_mAP_m: 0.4640, 0_bbox_mAP_l: -1.0000, 0_bbox_mAP_copypaste: 0.283 0.467 0.320 0.278 0.464 -1.000\n"
     ]
    },
    {
     "name": "stdout",
     "output_type": "stream",
     "text": [
      "DONE (t=0.95s).\n",
      "Average Precision  (AP) @[ IoU=0.50:0.95 | area=   all | maxDets=100 ] = 0.283\n",
      "Average Precision  (AP) @[ IoU=0.50      | area=   all | maxDets=1000 ] = 0.467\n",
      "Average Precision  (AP) @[ IoU=0.75      | area=   all | maxDets=1000 ] = 0.320\n",
      "Average Precision  (AP) @[ IoU=0.50:0.95 | area= small | maxDets=1000 ] = 0.278\n",
      "Average Precision  (AP) @[ IoU=0.50:0.95 | area=medium | maxDets=1000 ] = 0.464\n",
      "Average Precision  (AP) @[ IoU=0.50:0.95 | area= large | maxDets=1000 ] = -1.000\n",
      "Average Recall     (AR) @[ IoU=0.50:0.95 | area=   all | maxDets=100 ] = 0.354\n",
      "Average Recall     (AR) @[ IoU=0.50:0.95 | area=   all | maxDets=300 ] = 0.354\n",
      "Average Recall     (AR) @[ IoU=0.50:0.95 | area=   all | maxDets=1000 ] = 0.354\n",
      "Average Recall     (AR) @[ IoU=0.50:0.95 | area= small | maxDets=1000 ] = 0.350\n",
      "Average Recall     (AR) @[ IoU=0.50:0.95 | area=medium | maxDets=1000 ] = 0.517\n",
      "Average Recall     (AR) @[ IoU=0.50:0.95 | area= large | maxDets=1000 ] = -1.000\n"
     ]
    },
    {
     "name": "stderr",
     "output_type": "stream",
     "text": [
      "2021-01-04 00:47:55,975 - mmdet - INFO - Epoch [10][50/2001]\tlr: 5.000e-04, eta: 1 day, 18:11:57, time: 2.534, data_time: 0.064, memory: 6189, loss_rpn_cls: 0.0023, loss_rpn_bbox: 0.0284, loss_cls: 0.0880, acc: 96.3906, loss_bbox: 0.2247, loss: 0.3433\n",
      "2021-01-04 00:50:00,459 - mmdet - INFO - Epoch [10][100/2001]\tlr: 5.000e-04, eta: 1 day, 18:12:48, time: 2.489, data_time: 0.018, memory: 6189, loss_rpn_cls: 0.0034, loss_rpn_bbox: 0.0308, loss_cls: 0.0876, acc: 96.4502, loss_bbox: 0.2219, loss: 0.3437\n",
      "2021-01-04 00:52:04,111 - mmdet - INFO - Epoch [10][150/2001]\tlr: 5.000e-04, eta: 1 day, 18:13:35, time: 2.475, data_time: 0.019, memory: 6189, loss_rpn_cls: 0.0026, loss_rpn_bbox: 0.0288, loss_cls: 0.0896, acc: 96.3223, loss_bbox: 0.2252, loss: 0.3462\n",
      "2021-01-04 00:54:08,636 - mmdet - INFO - Epoch [10][200/2001]\tlr: 5.000e-04, eta: 1 day, 18:14:24, time: 2.488, data_time: 0.017, memory: 6189, loss_rpn_cls: 0.0022, loss_rpn_bbox: 0.0272, loss_cls: 0.0866, acc: 96.4180, loss_bbox: 0.2191, loss: 0.3352\n",
      "2021-01-04 00:56:13,366 - mmdet - INFO - Epoch [10][250/2001]\tlr: 5.000e-04, eta: 1 day, 18:15:14, time: 2.496, data_time: 0.020, memory: 6189, loss_rpn_cls: 0.0025, loss_rpn_bbox: 0.0284, loss_cls: 0.0849, acc: 96.4980, loss_bbox: 0.2158, loss: 0.3317\n",
      "2021-01-04 00:58:19,205 - mmdet - INFO - Epoch [10][300/2001]\tlr: 5.000e-04, eta: 1 day, 18:16:08, time: 2.518, data_time: 0.019, memory: 6189, loss_rpn_cls: 0.0019, loss_rpn_bbox: 0.0316, loss_cls: 0.0883, acc: 96.2871, loss_bbox: 0.2261, loss: 0.3478\n",
      "2021-01-04 01:00:21,716 - mmdet - INFO - Epoch [10][350/2001]\tlr: 5.000e-04, eta: 1 day, 18:16:46, time: 2.449, data_time: 0.019, memory: 6189, loss_rpn_cls: 0.0025, loss_rpn_bbox: 0.0292, loss_cls: 0.0862, acc: 96.3682, loss_bbox: 0.2216, loss: 0.3394\n",
      "2021-01-04 01:02:27,838 - mmdet - INFO - Epoch [10][400/2001]\tlr: 5.000e-04, eta: 1 day, 18:17:39, time: 2.522, data_time: 0.019, memory: 6189, loss_rpn_cls: 0.0026, loss_rpn_bbox: 0.0300, loss_cls: 0.0883, acc: 96.3428, loss_bbox: 0.2227, loss: 0.3437\n",
      "2021-01-04 01:04:33,354 - mmdet - INFO - Epoch [10][450/2001]\tlr: 5.000e-04, eta: 1 day, 18:18:28, time: 2.511, data_time: 0.019, memory: 6189, loss_rpn_cls: 0.0028, loss_rpn_bbox: 0.0292, loss_cls: 0.0823, acc: 96.5654, loss_bbox: 0.2158, loss: 0.3301\n",
      "2021-01-04 01:06:38,174 - mmdet - INFO - Epoch [10][500/2001]\tlr: 5.000e-04, eta: 1 day, 18:19:14, time: 2.497, data_time: 0.018, memory: 6189, loss_rpn_cls: 0.0026, loss_rpn_bbox: 0.0288, loss_cls: 0.0866, acc: 96.4014, loss_bbox: 0.2213, loss: 0.3393\n",
      "2021-01-04 01:08:42,883 - mmdet - INFO - Epoch [10][550/2001]\tlr: 5.000e-04, eta: 1 day, 18:19:58, time: 2.494, data_time: 0.018, memory: 6189, loss_rpn_cls: 0.0048, loss_rpn_bbox: 0.0306, loss_cls: 0.0843, acc: 96.5264, loss_bbox: 0.2231, loss: 0.3429\n",
      "2021-01-04 01:10:47,220 - mmdet - INFO - Epoch [10][600/2001]\tlr: 5.000e-04, eta: 1 day, 18:20:39, time: 2.487, data_time: 0.018, memory: 6189, loss_rpn_cls: 0.0029, loss_rpn_bbox: 0.0302, loss_cls: 0.0854, acc: 96.4727, loss_bbox: 0.2204, loss: 0.3390\n",
      "2021-01-04 01:12:50,647 - mmdet - INFO - Epoch [10][650/2001]\tlr: 5.000e-04, eta: 1 day, 18:21:16, time: 2.468, data_time: 0.017, memory: 6189, loss_rpn_cls: 0.0022, loss_rpn_bbox: 0.0281, loss_cls: 0.0864, acc: 96.4121, loss_bbox: 0.2243, loss: 0.3410\n",
      "2021-01-04 01:14:53,421 - mmdet - INFO - Epoch [10][700/2001]\tlr: 5.000e-04, eta: 1 day, 18:21:48, time: 2.454, data_time: 0.018, memory: 6189, loss_rpn_cls: 0.0025, loss_rpn_bbox: 0.0264, loss_cls: 0.0846, acc: 96.5244, loss_bbox: 0.2127, loss: 0.3263\n",
      "2021-01-04 01:16:57,263 - mmdet - INFO - Epoch [10][750/2001]\tlr: 5.000e-04, eta: 1 day, 18:22:25, time: 2.477, data_time: 0.019, memory: 6189, loss_rpn_cls: 0.0019, loss_rpn_bbox: 0.0263, loss_cls: 0.0878, acc: 96.3359, loss_bbox: 0.2208, loss: 0.3368\n",
      "2021-01-04 01:19:01,490 - mmdet - INFO - Epoch [10][800/2001]\tlr: 5.000e-04, eta: 1 day, 18:23:03, time: 2.487, data_time: 0.019, memory: 6189, loss_rpn_cls: 0.0029, loss_rpn_bbox: 0.0320, loss_cls: 0.0863, acc: 96.5176, loss_bbox: 0.2270, loss: 0.3482\n",
      "2021-01-04 01:21:04,806 - mmdet - INFO - Epoch [10][850/2001]\tlr: 5.000e-04, eta: 1 day, 18:23:35, time: 2.465, data_time: 0.017, memory: 6189, loss_rpn_cls: 0.0025, loss_rpn_bbox: 0.0274, loss_cls: 0.0846, acc: 96.5156, loss_bbox: 0.2195, loss: 0.3339\n",
      "2021-01-04 01:23:08,675 - mmdet - INFO - Epoch [10][900/2001]\tlr: 5.000e-04, eta: 1 day, 18:24:09, time: 2.476, data_time: 0.019, memory: 6189, loss_rpn_cls: 0.0027, loss_rpn_bbox: 0.0303, loss_cls: 0.0865, acc: 96.4609, loss_bbox: 0.2268, loss: 0.3463\n",
      "2021-01-04 01:25:13,206 - mmdet - INFO - Epoch [10][950/2001]\tlr: 5.000e-04, eta: 1 day, 18:24:46, time: 2.494, data_time: 0.019, memory: 6189, loss_rpn_cls: 0.0028, loss_rpn_bbox: 0.0304, loss_cls: 0.0855, acc: 96.4639, loss_bbox: 0.2260, loss: 0.3447\n",
      "2021-01-04 01:27:16,650 - mmdet - INFO - Epoch [10][1000/2001]\tlr: 5.000e-04, eta: 1 day, 18:25:17, time: 2.466, data_time: 0.016, memory: 6189, loss_rpn_cls: 0.0027, loss_rpn_bbox: 0.0297, loss_cls: 0.0855, acc: 96.4561, loss_bbox: 0.2214, loss: 0.3394\n",
      "2021-01-04 01:28:57,978 - mmdet - INFO - Epoch [10][1050/2001]\tlr: 5.000e-04, eta: 1 day, 18:24:14, time: 2.032, data_time: 0.019, memory: 6189, loss_rpn_cls: 0.0025, loss_rpn_bbox: 0.0278, loss_cls: 0.0847, acc: 96.4482, loss_bbox: 0.2198, loss: 0.3348\n",
      "2021-01-04 01:29:52,287 - mmdet - INFO - Epoch [10][1100/2001]\tlr: 5.000e-04, eta: 1 day, 18:19:50, time: 1.086, data_time: 0.013, memory: 6189, loss_rpn_cls: 0.0028, loss_rpn_bbox: 0.0298, loss_cls: 0.0864, acc: 96.4365, loss_bbox: 0.2208, loss: 0.3398\n",
      "2021-01-04 01:30:46,306 - mmdet - INFO - Epoch [10][1150/2001]\tlr: 5.000e-04, eta: 1 day, 18:15:27, time: 1.081, data_time: 0.013, memory: 6189, loss_rpn_cls: 0.0024, loss_rpn_bbox: 0.0275, loss_cls: 0.0851, acc: 96.4932, loss_bbox: 0.2165, loss: 0.3314\n",
      "2021-01-04 01:31:40,215 - mmdet - INFO - Epoch [10][1200/2001]\tlr: 5.000e-04, eta: 1 day, 18:11:04, time: 1.078, data_time: 0.012, memory: 6189, loss_rpn_cls: 0.0029, loss_rpn_bbox: 0.0294, loss_cls: 0.0872, acc: 96.4717, loss_bbox: 0.2246, loss: 0.3440\n",
      "2021-01-04 01:32:33,496 - mmdet - INFO - Epoch [10][1250/2001]\tlr: 5.000e-04, eta: 1 day, 18:06:39, time: 1.066, data_time: 0.013, memory: 6189, loss_rpn_cls: 0.0021, loss_rpn_bbox: 0.0304, loss_cls: 0.0855, acc: 96.4092, loss_bbox: 0.2244, loss: 0.3425\n",
      "2021-01-04 01:33:31,992 - mmdet - INFO - Epoch [10][1300/2001]\tlr: 5.000e-04, eta: 1 day, 18:02:38, time: 1.170, data_time: 0.013, memory: 6189, loss_rpn_cls: 0.0037, loss_rpn_bbox: 0.0295, loss_cls: 0.0846, acc: 96.5176, loss_bbox: 0.2201, loss: 0.3379\n",
      "2021-01-04 01:34:26,610 - mmdet - INFO - Epoch [10][1350/2001]\tlr: 5.000e-04, eta: 1 day, 17:58:21, time: 1.091, data_time: 0.013, memory: 6189, loss_rpn_cls: 0.0026, loss_rpn_bbox: 0.0272, loss_cls: 0.0825, acc: 96.5166, loss_bbox: 0.2173, loss: 0.3296\n",
      "2021-01-04 01:36:22,751 - mmdet - INFO - Epoch [10][1400/2001]\tlr: 5.000e-04, eta: 1 day, 17:58:20, time: 2.318, data_time: 0.014, memory: 6189, loss_rpn_cls: 0.0023, loss_rpn_bbox: 0.0286, loss_cls: 0.0886, acc: 96.3652, loss_bbox: 0.2236, loss: 0.3430\n",
      "2021-01-04 01:38:28,300 - mmdet - INFO - Epoch [10][1450/2001]\tlr: 5.000e-04, eta: 1 day, 17:58:58, time: 2.511, data_time: 0.019, memory: 6189, loss_rpn_cls: 0.0026, loss_rpn_bbox: 0.0310, loss_cls: 0.0875, acc: 96.4053, loss_bbox: 0.2237, loss: 0.3448\n",
      "2021-01-04 01:40:31,519 - mmdet - INFO - Epoch [10][1500/2001]\tlr: 5.000e-04, eta: 1 day, 17:59:26, time: 2.463, data_time: 0.019, memory: 6189, loss_rpn_cls: 0.0024, loss_rpn_bbox: 0.0275, loss_cls: 0.0860, acc: 96.4385, loss_bbox: 0.2164, loss: 0.3323\n",
      "2021-01-04 01:42:37,990 - mmdet - INFO - Epoch [10][1550/2001]\tlr: 5.000e-04, eta: 1 day, 18:00:07, time: 2.533, data_time: 0.021, memory: 6189, loss_rpn_cls: 0.0023, loss_rpn_bbox: 0.0282, loss_cls: 0.0841, acc: 96.4922, loss_bbox: 0.2143, loss: 0.3288\n",
      "2021-01-04 01:44:42,597 - mmdet - INFO - Epoch [10][1600/2001]\tlr: 5.000e-04, eta: 1 day, 18:00:38, time: 2.489, data_time: 0.016, memory: 6189, loss_rpn_cls: 0.0023, loss_rpn_bbox: 0.0278, loss_cls: 0.0825, acc: 96.5859, loss_bbox: 0.2163, loss: 0.3289\n",
      "2021-01-04 01:46:46,253 - mmdet - INFO - Epoch [10][1650/2001]\tlr: 5.000e-04, eta: 1 day, 18:01:06, time: 2.475, data_time: 0.019, memory: 6189, loss_rpn_cls: 0.0027, loss_rpn_bbox: 0.0286, loss_cls: 0.0866, acc: 96.4424, loss_bbox: 0.2211, loss: 0.3391\n"
     ]
    },
    {
     "name": "stderr",
     "output_type": "stream",
     "text": [
      "2021-01-04 01:48:50,684 - mmdet - INFO - Epoch [10][1700/2001]\tlr: 5.000e-04, eta: 1 day, 18:01:35, time: 2.487, data_time: 0.017, memory: 6189, loss_rpn_cls: 0.0029, loss_rpn_bbox: 0.0300, loss_cls: 0.0891, acc: 96.4150, loss_bbox: 0.2220, loss: 0.3441\n",
      "2021-01-04 01:50:55,338 - mmdet - INFO - Epoch [10][1750/2001]\tlr: 5.000e-04, eta: 1 day, 18:02:05, time: 2.493, data_time: 0.018, memory: 6189, loss_rpn_cls: 0.0028, loss_rpn_bbox: 0.0277, loss_cls: 0.0851, acc: 96.5234, loss_bbox: 0.2211, loss: 0.3366\n",
      "2021-01-04 01:53:00,025 - mmdet - INFO - Epoch [10][1800/2001]\tlr: 5.000e-04, eta: 1 day, 18:02:34, time: 2.493, data_time: 0.018, memory: 6189, loss_rpn_cls: 0.0027, loss_rpn_bbox: 0.0284, loss_cls: 0.0842, acc: 96.5254, loss_bbox: 0.2192, loss: 0.3345\n",
      "2021-01-04 01:55:04,459 - mmdet - INFO - Epoch [10][1850/2001]\tlr: 5.000e-04, eta: 1 day, 18:03:01, time: 2.488, data_time: 0.019, memory: 6189, loss_rpn_cls: 0.0025, loss_rpn_bbox: 0.0299, loss_cls: 0.0843, acc: 96.5225, loss_bbox: 0.2238, loss: 0.3405\n",
      "2021-01-04 01:57:07,832 - mmdet - INFO - Epoch [10][1900/2001]\tlr: 5.000e-04, eta: 1 day, 18:03:24, time: 2.469, data_time: 0.019, memory: 6189, loss_rpn_cls: 0.0029, loss_rpn_bbox: 0.0299, loss_cls: 0.0848, acc: 96.5020, loss_bbox: 0.2241, loss: 0.3417\n",
      "2021-01-04 01:59:12,036 - mmdet - INFO - Epoch [10][1950/2001]\tlr: 5.000e-04, eta: 1 day, 18:03:48, time: 2.483, data_time: 0.018, memory: 6189, loss_rpn_cls: 0.0025, loss_rpn_bbox: 0.0335, loss_cls: 0.0873, acc: 96.3633, loss_bbox: 0.2291, loss: 0.3525\n",
      "2021-01-04 02:01:15,591 - mmdet - INFO - Epoch [10][2000/2001]\tlr: 5.000e-04, eta: 1 day, 18:04:10, time: 2.472, data_time: 0.019, memory: 6189, loss_rpn_cls: 0.0029, loss_rpn_bbox: 0.0307, loss_cls: 0.0852, acc: 96.4365, loss_bbox: 0.2219, loss: 0.3408\n",
      "2021-01-04 02:01:17,790 - mmdet - INFO - Saving checkpoint at 10 epochs\n"
     ]
    },
    {
     "name": "stdout",
     "output_type": "stream",
     "text": [
      "[>>>>>>>>>>>>>>>>>>>>>>>>>>>] 2013/2013, 3.7 task/s, elapsed: 544s, ETA:     0s"
     ]
    },
    {
     "name": "stderr",
     "output_type": "stream",
     "text": [
      "2021-01-04 02:10:23,325 - mmdet - INFO - \n",
      "Evaluateing valid_44.json with 2013 images now\n",
      "2021-01-04 02:10:24,018 - mmdet - INFO - Evaluating bbox...\n"
     ]
    },
    {
     "name": "stdout",
     "output_type": "stream",
     "text": [
      "Loading and preparing results...\n",
      "DONE (t=0.33s)\n",
      "creating index...\n",
      "index created!\n",
      "Running per image evaluation...\n",
      "Evaluate annotation type *bbox*\n",
      "DONE (t=22.12s).\n",
      "Accumulating evaluation results...\n"
     ]
    },
    {
     "name": "stderr",
     "output_type": "stream",
     "text": [
      "2021-01-04 02:10:47,694 - mmdet - INFO - Epoch(val) [10][2001]\t0_bbox_mAP: 0.2820, 0_bbox_mAP_50: 0.4710, 0_bbox_mAP_75: 0.3160, 0_bbox_mAP_s: 0.2780, 0_bbox_mAP_m: 0.4600, 0_bbox_mAP_l: -1.0000, 0_bbox_mAP_copypaste: 0.282 0.471 0.316 0.278 0.460 -1.000\n"
     ]
    },
    {
     "name": "stdout",
     "output_type": "stream",
     "text": [
      "DONE (t=1.12s).\n",
      "Average Precision  (AP) @[ IoU=0.50:0.95 | area=   all | maxDets=100 ] = 0.282\n",
      "Average Precision  (AP) @[ IoU=0.50      | area=   all | maxDets=1000 ] = 0.471\n",
      "Average Precision  (AP) @[ IoU=0.75      | area=   all | maxDets=1000 ] = 0.316\n",
      "Average Precision  (AP) @[ IoU=0.50:0.95 | area= small | maxDets=1000 ] = 0.278\n",
      "Average Precision  (AP) @[ IoU=0.50:0.95 | area=medium | maxDets=1000 ] = 0.460\n",
      "Average Precision  (AP) @[ IoU=0.50:0.95 | area= large | maxDets=1000 ] = -1.000\n",
      "Average Recall     (AR) @[ IoU=0.50:0.95 | area=   all | maxDets=100 ] = 0.355\n",
      "Average Recall     (AR) @[ IoU=0.50:0.95 | area=   all | maxDets=300 ] = 0.355\n",
      "Average Recall     (AR) @[ IoU=0.50:0.95 | area=   all | maxDets=1000 ] = 0.355\n",
      "Average Recall     (AR) @[ IoU=0.50:0.95 | area= small | maxDets=1000 ] = 0.351\n",
      "Average Recall     (AR) @[ IoU=0.50:0.95 | area=medium | maxDets=1000 ] = 0.515\n",
      "Average Recall     (AR) @[ IoU=0.50:0.95 | area= large | maxDets=1000 ] = -1.000\n"
     ]
    },
    {
     "name": "stderr",
     "output_type": "stream",
     "text": [
      "2021-01-04 02:12:53,811 - mmdet - INFO - Epoch [11][50/2001]\tlr: 5.000e-04, eta: 1 day, 18:04:30, time: 2.512, data_time: 0.061, memory: 6189, loss_rpn_cls: 0.0025, loss_rpn_bbox: 0.0266, loss_cls: 0.0839, acc: 96.5459, loss_bbox: 0.2175, loss: 0.3304\n",
      "2021-01-04 02:14:57,580 - mmdet - INFO - Epoch [11][100/2001]\tlr: 5.000e-04, eta: 1 day, 18:04:51, time: 2.477, data_time: 0.019, memory: 6189, loss_rpn_cls: 0.0027, loss_rpn_bbox: 0.0265, loss_cls: 0.0840, acc: 96.6016, loss_bbox: 0.2186, loss: 0.3318\n",
      "2021-01-04 02:17:01,270 - mmdet - INFO - Epoch [11][150/2001]\tlr: 5.000e-04, eta: 1 day, 18:05:11, time: 2.473, data_time: 0.017, memory: 6189, loss_rpn_cls: 0.0029, loss_rpn_bbox: 0.0303, loss_cls: 0.0853, acc: 96.4551, loss_bbox: 0.2280, loss: 0.3465\n",
      "2021-01-04 02:19:05,492 - mmdet - INFO - Epoch [11][200/2001]\tlr: 5.000e-04, eta: 1 day, 18:05:32, time: 2.484, data_time: 0.018, memory: 6189, loss_rpn_cls: 0.0039, loss_rpn_bbox: 0.0293, loss_cls: 0.0823, acc: 96.5420, loss_bbox: 0.2162, loss: 0.3317\n",
      "2021-01-04 02:21:08,207 - mmdet - INFO - Epoch [11][250/2001]\tlr: 5.000e-04, eta: 1 day, 18:05:47, time: 2.454, data_time: 0.018, memory: 6189, loss_rpn_cls: 0.0022, loss_rpn_bbox: 0.0283, loss_cls: 0.0858, acc: 96.4893, loss_bbox: 0.2209, loss: 0.3372\n",
      "2021-01-04 02:23:15,288 - mmdet - INFO - Epoch [11][300/2001]\tlr: 5.000e-04, eta: 1 day, 18:06:18, time: 2.542, data_time: 0.020, memory: 6189, loss_rpn_cls: 0.0025, loss_rpn_bbox: 0.0284, loss_cls: 0.0825, acc: 96.5391, loss_bbox: 0.2167, loss: 0.3300\n",
      "2021-01-04 02:25:21,158 - mmdet - INFO - Epoch [11][350/2001]\tlr: 5.000e-04, eta: 1 day, 18:06:43, time: 2.517, data_time: 0.018, memory: 6189, loss_rpn_cls: 0.0027, loss_rpn_bbox: 0.0308, loss_cls: 0.0867, acc: 96.5127, loss_bbox: 0.2268, loss: 0.3470\n",
      "2021-01-04 02:27:25,647 - mmdet - INFO - Epoch [11][400/2001]\tlr: 5.000e-04, eta: 1 day, 18:07:03, time: 2.490, data_time: 0.019, memory: 6189, loss_rpn_cls: 0.0027, loss_rpn_bbox: 0.0289, loss_cls: 0.0843, acc: 96.4971, loss_bbox: 0.2223, loss: 0.3382\n",
      "2021-01-04 02:29:29,199 - mmdet - INFO - Epoch [11][450/2001]\tlr: 5.000e-04, eta: 1 day, 18:07:18, time: 2.470, data_time: 0.019, memory: 6189, loss_rpn_cls: 0.0024, loss_rpn_bbox: 0.0268, loss_cls: 0.0850, acc: 96.5244, loss_bbox: 0.2189, loss: 0.3331\n",
      "2021-01-04 02:31:33,475 - mmdet - INFO - Epoch [11][500/2001]\tlr: 5.000e-04, eta: 1 day, 18:07:35, time: 2.486, data_time: 0.019, memory: 6189, loss_rpn_cls: 0.0023, loss_rpn_bbox: 0.0295, loss_cls: 0.0824, acc: 96.5781, loss_bbox: 0.2193, loss: 0.3335\n",
      "2021-01-04 02:33:37,424 - mmdet - INFO - Epoch [11][550/2001]\tlr: 5.000e-04, eta: 1 day, 18:07:50, time: 2.478, data_time: 0.019, memory: 6189, loss_rpn_cls: 0.0027, loss_rpn_bbox: 0.0293, loss_cls: 0.0831, acc: 96.5986, loss_bbox: 0.2183, loss: 0.3334\n",
      "2021-01-04 02:35:41,025 - mmdet - INFO - Epoch [11][600/2001]\tlr: 5.000e-04, eta: 1 day, 18:08:04, time: 2.472, data_time: 0.020, memory: 6189, loss_rpn_cls: 0.0026, loss_rpn_bbox: 0.0292, loss_cls: 0.0869, acc: 96.4395, loss_bbox: 0.2228, loss: 0.3416\n",
      "2021-01-04 02:37:43,866 - mmdet - INFO - Epoch [11][650/2001]\tlr: 5.000e-04, eta: 1 day, 18:08:14, time: 2.459, data_time: 0.019, memory: 6189, loss_rpn_cls: 0.0028, loss_rpn_bbox: 0.0275, loss_cls: 0.0822, acc: 96.5635, loss_bbox: 0.2175, loss: 0.3300\n",
      "2021-01-04 02:39:47,534 - mmdet - INFO - Epoch [11][700/2001]\tlr: 5.000e-04, eta: 1 day, 18:08:26, time: 2.473, data_time: 0.018, memory: 6189, loss_rpn_cls: 0.0017, loss_rpn_bbox: 0.0266, loss_cls: 0.0833, acc: 96.5342, loss_bbox: 0.2174, loss: 0.3290\n",
      "2021-01-04 02:41:51,152 - mmdet - INFO - Epoch [11][750/2001]\tlr: 5.000e-04, eta: 1 day, 18:08:37, time: 2.473, data_time: 0.018, memory: 6189, loss_rpn_cls: 0.0024, loss_rpn_bbox: 0.0286, loss_cls: 0.0851, acc: 96.5117, loss_bbox: 0.2231, loss: 0.3393\n",
      "2021-01-04 02:43:45,712 - mmdet - INFO - Epoch [11][800/2001]\tlr: 5.000e-04, eta: 1 day, 18:08:14, time: 2.295, data_time: 0.017, memory: 6189, loss_rpn_cls: 0.0027, loss_rpn_bbox: 0.0301, loss_cls: 0.0862, acc: 96.4795, loss_bbox: 0.2247, loss: 0.3437\n",
      "2021-01-04 02:44:41,581 - mmdet - INFO - Epoch [11][850/2001]\tlr: 5.000e-04, eta: 1 day, 18:04:07, time: 1.118, data_time: 0.013, memory: 6189, loss_rpn_cls: 0.0021, loss_rpn_bbox: 0.0284, loss_cls: 0.0847, acc: 96.4756, loss_bbox: 0.2187, loss: 0.3339\n",
      "2021-01-04 02:45:36,995 - mmdet - INFO - Epoch [11][900/2001]\tlr: 5.000e-04, eta: 1 day, 18:00:00, time: 1.108, data_time: 0.013, memory: 6189, loss_rpn_cls: 0.0019, loss_rpn_bbox: 0.0302, loss_cls: 0.0858, acc: 96.4854, loss_bbox: 0.2246, loss: 0.3425\n",
      "2021-01-04 02:46:32,238 - mmdet - INFO - Epoch [11][950/2001]\tlr: 5.000e-04, eta: 1 day, 17:55:51, time: 1.101, data_time: 0.013, memory: 6189, loss_rpn_cls: 0.0023, loss_rpn_bbox: 0.0320, loss_cls: 0.0837, acc: 96.5518, loss_bbox: 0.2259, loss: 0.3439\n",
      "2021-01-04 02:47:26,064 - mmdet - INFO - Epoch [11][1000/2001]\tlr: 5.000e-04, eta: 1 day, 17:51:40, time: 1.080, data_time: 0.016, memory: 6189, loss_rpn_cls: 0.0020, loss_rpn_bbox: 0.0284, loss_cls: 0.0873, acc: 96.4131, loss_bbox: 0.2185, loss: 0.3362\n",
      "2021-01-04 02:48:19,418 - mmdet - INFO - Epoch [11][1050/2001]\tlr: 5.000e-04, eta: 1 day, 17:47:27, time: 1.067, data_time: 0.013, memory: 6189, loss_rpn_cls: 0.0021, loss_rpn_bbox: 0.0284, loss_cls: 0.0827, acc: 96.5811, loss_bbox: 0.2181, loss: 0.3313\n",
      "2021-01-04 02:49:11,203 - mmdet - INFO - Epoch [11][1100/2001]\tlr: 5.000e-04, eta: 1 day, 17:43:10, time: 1.036, data_time: 0.012, memory: 6189, loss_rpn_cls: 0.0029, loss_rpn_bbox: 0.0291, loss_cls: 0.0809, acc: 96.6670, loss_bbox: 0.2151, loss: 0.3280\n",
      "2021-01-04 02:50:04,859 - mmdet - INFO - Epoch [11][1150/2001]\tlr: 5.000e-04, eta: 1 day, 17:39:00, time: 1.073, data_time: 0.013, memory: 6189, loss_rpn_cls: 0.0020, loss_rpn_bbox: 0.0272, loss_cls: 0.0842, acc: 96.5342, loss_bbox: 0.2198, loss: 0.3332\n",
      "2021-01-04 02:51:02,255 - mmdet - INFO - Epoch [11][1200/2001]\tlr: 5.000e-04, eta: 1 day, 17:35:05, time: 1.147, data_time: 0.013, memory: 6189, loss_rpn_cls: 0.0023, loss_rpn_bbox: 0.0303, loss_cls: 0.0870, acc: 96.4258, loss_bbox: 0.2256, loss: 0.3452\n",
      "2021-01-04 02:51:54,607 - mmdet - INFO - Epoch [11][1250/2001]\tlr: 5.000e-04, eta: 1 day, 17:30:52, time: 1.047, data_time: 0.013, memory: 6189, loss_rpn_cls: 0.0029, loss_rpn_bbox: 0.0293, loss_cls: 0.0835, acc: 96.4795, loss_bbox: 0.2206, loss: 0.3363\n",
      "2021-01-04 02:52:47,619 - mmdet - INFO - Epoch [11][1300/2001]\tlr: 5.000e-04, eta: 1 day, 17:26:43, time: 1.059, data_time: 0.013, memory: 6189, loss_rpn_cls: 0.0028, loss_rpn_bbox: 0.0307, loss_cls: 0.0843, acc: 96.4492, loss_bbox: 0.2235, loss: 0.3412\n",
      "2021-01-04 02:53:40,647 - mmdet - INFO - Epoch [11][1350/2001]\tlr: 5.000e-04, eta: 1 day, 17:22:34, time: 1.062, data_time: 0.014, memory: 6189, loss_rpn_cls: 0.0022, loss_rpn_bbox: 0.0282, loss_cls: 0.0840, acc: 96.4941, loss_bbox: 0.2196, loss: 0.3340\n",
      "2021-01-04 02:54:36,584 - mmdet - INFO - Epoch [11][1400/2001]\tlr: 5.000e-04, eta: 1 day, 17:18:38, time: 1.119, data_time: 0.012, memory: 6189, loss_rpn_cls: 0.0026, loss_rpn_bbox: 0.0302, loss_cls: 0.0863, acc: 96.3662, loss_bbox: 0.2261, loss: 0.3452\n",
      "2021-01-04 02:55:29,114 - mmdet - INFO - Epoch [11][1450/2001]\tlr: 5.000e-04, eta: 1 day, 17:14:29, time: 1.050, data_time: 0.012, memory: 6189, loss_rpn_cls: 0.0020, loss_rpn_bbox: 0.0264, loss_cls: 0.0816, acc: 96.5684, loss_bbox: 0.2137, loss: 0.3236\n",
      "2021-01-04 02:56:22,097 - mmdet - INFO - Epoch [11][1500/2001]\tlr: 5.000e-04, eta: 1 day, 17:10:23, time: 1.058, data_time: 0.013, memory: 6189, loss_rpn_cls: 0.0028, loss_rpn_bbox: 0.0305, loss_cls: 0.0855, acc: 96.4570, loss_bbox: 0.2276, loss: 0.3464\n",
      "2021-01-04 02:57:16,151 - mmdet - INFO - Epoch [11][1550/2001]\tlr: 5.000e-04, eta: 1 day, 17:06:22, time: 1.083, data_time: 0.014, memory: 6189, loss_rpn_cls: 0.0029, loss_rpn_bbox: 0.0292, loss_cls: 0.0842, acc: 96.5518, loss_bbox: 0.2199, loss: 0.3361\n",
      "2021-01-04 02:58:10,734 - mmdet - INFO - Epoch [11][1600/2001]\tlr: 5.000e-04, eta: 1 day, 17:02:23, time: 1.090, data_time: 0.012, memory: 6189, loss_rpn_cls: 0.0025, loss_rpn_bbox: 0.0290, loss_cls: 0.0828, acc: 96.5410, loss_bbox: 0.2183, loss: 0.3326\n",
      "2021-01-04 02:59:03,936 - mmdet - INFO - Epoch [11][1650/2001]\tlr: 5.000e-04, eta: 1 day, 16:58:21, time: 1.065, data_time: 0.014, memory: 6189, loss_rpn_cls: 0.0023, loss_rpn_bbox: 0.0304, loss_cls: 0.0832, acc: 96.5410, loss_bbox: 0.2218, loss: 0.3378\n"
     ]
    },
    {
     "name": "stderr",
     "output_type": "stream",
     "text": [
      "2021-01-04 03:00:01,797 - mmdet - INFO - Epoch [11][1700/2001]\tlr: 5.000e-04, eta: 1 day, 16:54:37, time: 1.157, data_time: 0.013, memory: 6189, loss_rpn_cls: 0.0028, loss_rpn_bbox: 0.0282, loss_cls: 0.0834, acc: 96.5156, loss_bbox: 0.2160, loss: 0.3303\n",
      "2021-01-04 03:00:53,828 - mmdet - INFO - Epoch [11][1750/2001]\tlr: 5.000e-04, eta: 1 day, 16:50:30, time: 1.033, data_time: 0.012, memory: 6189, loss_rpn_cls: 0.0025, loss_rpn_bbox: 0.0275, loss_cls: 0.0823, acc: 96.6211, loss_bbox: 0.2166, loss: 0.3289\n",
      "2021-01-04 03:01:50,640 - mmdet - INFO - Epoch [11][1800/2001]\tlr: 5.000e-04, eta: 1 day, 16:46:45, time: 1.144, data_time: 0.021, memory: 6189, loss_rpn_cls: 0.0025, loss_rpn_bbox: 0.0294, loss_cls: 0.0825, acc: 96.6221, loss_bbox: 0.2192, loss: 0.3337\n",
      "2021-01-04 03:02:44,557 - mmdet - INFO - Epoch [11][1850/2001]\tlr: 5.000e-04, eta: 1 day, 16:42:48, time: 1.078, data_time: 0.013, memory: 6189, loss_rpn_cls: 0.0019, loss_rpn_bbox: 0.0286, loss_cls: 0.0853, acc: 96.4609, loss_bbox: 0.2224, loss: 0.3382\n",
      "2021-01-04 03:03:40,554 - mmdet - INFO - Epoch [11][1900/2001]\tlr: 5.000e-04, eta: 1 day, 16:39:00, time: 1.120, data_time: 0.013, memory: 6189, loss_rpn_cls: 0.0028, loss_rpn_bbox: 0.0284, loss_cls: 0.0863, acc: 96.4355, loss_bbox: 0.2236, loss: 0.3411\n",
      "2021-01-04 03:04:35,259 - mmdet - INFO - Epoch [11][1950/2001]\tlr: 5.000e-04, eta: 1 day, 16:35:08, time: 1.094, data_time: 0.012, memory: 6189, loss_rpn_cls: 0.0023, loss_rpn_bbox: 0.0272, loss_cls: 0.0865, acc: 96.4229, loss_bbox: 0.2266, loss: 0.3426\n",
      "2021-01-04 03:05:23,624 - mmdet - INFO - Epoch [11][2000/2001]\tlr: 5.000e-04, eta: 1 day, 16:30:54, time: 0.968, data_time: 0.012, memory: 6189, loss_rpn_cls: 0.0020, loss_rpn_bbox: 0.0305, loss_cls: 0.0828, acc: 96.5801, loss_bbox: 0.2199, loss: 0.3352\n",
      "2021-01-04 03:05:24,414 - mmdet - INFO - Saving checkpoint at 11 epochs\n"
     ]
    },
    {
     "name": "stdout",
     "output_type": "stream",
     "text": [
      "[>>>>>>>>>>>>>>>>>>>>>>>>>>] 2013/2013, 10.1 task/s, elapsed: 200s, ETA:     0s"
     ]
    },
    {
     "name": "stderr",
     "output_type": "stream",
     "text": [
      "2021-01-04 03:08:45,227 - mmdet - INFO - \n",
      "Evaluateing valid_44.json with 2013 images now\n",
      "2021-01-04 03:08:45,698 - mmdet - INFO - Evaluating bbox...\n"
     ]
    },
    {
     "name": "stdout",
     "output_type": "stream",
     "text": [
      "Loading and preparing results...\n",
      "DONE (t=0.34s)\n",
      "creating index...\n",
      "index created!\n",
      "Running per image evaluation...\n",
      "Evaluate annotation type *bbox*\n",
      "DONE (t=17.04s).\n",
      "Accumulating evaluation results...\n"
     ]
    },
    {
     "name": "stderr",
     "output_type": "stream",
     "text": [
      "2021-01-04 03:09:03,877 - mmdet - INFO - Epoch(val) [11][2001]\t0_bbox_mAP: 0.2850, 0_bbox_mAP_50: 0.4680, 0_bbox_mAP_75: 0.3180, 0_bbox_mAP_s: 0.2790, 0_bbox_mAP_m: 0.4670, 0_bbox_mAP_l: -1.0000, 0_bbox_mAP_copypaste: 0.285 0.468 0.318 0.279 0.467 -1.000\n"
     ]
    },
    {
     "name": "stdout",
     "output_type": "stream",
     "text": [
      "DONE (t=0.72s).\n",
      "Average Precision  (AP) @[ IoU=0.50:0.95 | area=   all | maxDets=100 ] = 0.285\n",
      "Average Precision  (AP) @[ IoU=0.50      | area=   all | maxDets=1000 ] = 0.468\n",
      "Average Precision  (AP) @[ IoU=0.75      | area=   all | maxDets=1000 ] = 0.318\n",
      "Average Precision  (AP) @[ IoU=0.50:0.95 | area= small | maxDets=1000 ] = 0.279\n",
      "Average Precision  (AP) @[ IoU=0.50:0.95 | area=medium | maxDets=1000 ] = 0.467\n",
      "Average Precision  (AP) @[ IoU=0.50:0.95 | area= large | maxDets=1000 ] = -1.000\n",
      "Average Recall     (AR) @[ IoU=0.50:0.95 | area=   all | maxDets=100 ] = 0.351\n",
      "Average Recall     (AR) @[ IoU=0.50:0.95 | area=   all | maxDets=300 ] = 0.351\n",
      "Average Recall     (AR) @[ IoU=0.50:0.95 | area=   all | maxDets=1000 ] = 0.351\n",
      "Average Recall     (AR) @[ IoU=0.50:0.95 | area= small | maxDets=1000 ] = 0.347\n",
      "Average Recall     (AR) @[ IoU=0.50:0.95 | area=medium | maxDets=1000 ] = 0.519\n",
      "Average Recall     (AR) @[ IoU=0.50:0.95 | area= large | maxDets=1000 ] = -1.000\n"
     ]
    },
    {
     "name": "stderr",
     "output_type": "stream",
     "text": [
      "2021-01-04 03:09:52,396 - mmdet - INFO - Epoch [12][50/2001]\tlr: 5.000e-05, eta: 1 day, 16:26:32, time: 0.966, data_time: 0.057, memory: 6189, loss_rpn_cls: 0.0029, loss_rpn_bbox: 0.0287, loss_cls: 0.0807, acc: 96.6748, loss_bbox: 0.2158, loss: 0.3281\n",
      "2021-01-04 03:10:45,900 - mmdet - INFO - Epoch [12][100/2001]\tlr: 5.000e-05, eta: 1 day, 16:22:37, time: 1.064, data_time: 0.013, memory: 6189, loss_rpn_cls: 0.0028, loss_rpn_bbox: 0.0306, loss_cls: 0.0810, acc: 96.6973, loss_bbox: 0.2158, loss: 0.3301\n",
      "2021-01-04 03:11:43,041 - mmdet - INFO - Epoch [12][150/2001]\tlr: 5.000e-05, eta: 1 day, 16:18:58, time: 1.149, data_time: 0.018, memory: 6189, loss_rpn_cls: 0.0029, loss_rpn_bbox: 0.0286, loss_cls: 0.0840, acc: 96.4756, loss_bbox: 0.2164, loss: 0.3319\n",
      "2021-01-04 03:12:39,990 - mmdet - INFO - Epoch [12][200/2001]\tlr: 5.000e-05, eta: 1 day, 16:15:18, time: 1.138, data_time: 0.012, memory: 6189, loss_rpn_cls: 0.0023, loss_rpn_bbox: 0.0268, loss_cls: 0.0819, acc: 96.5537, loss_bbox: 0.2154, loss: 0.3263\n",
      "2021-01-04 03:13:35,289 - mmdet - INFO - Epoch [12][250/2001]\tlr: 5.000e-05, eta: 1 day, 16:11:33, time: 1.106, data_time: 0.013, memory: 6189, loss_rpn_cls: 0.0026, loss_rpn_bbox: 0.0275, loss_cls: 0.0798, acc: 96.6484, loss_bbox: 0.2157, loss: 0.3257\n",
      "2021-01-04 03:14:35,568 - mmdet - INFO - Epoch [12][300/2001]\tlr: 5.000e-05, eta: 1 day, 16:08:04, time: 1.196, data_time: 0.013, memory: 6189, loss_rpn_cls: 0.0024, loss_rpn_bbox: 0.0274, loss_cls: 0.0830, acc: 96.5947, loss_bbox: 0.2164, loss: 0.3291\n",
      "2021-01-04 03:15:34,647 - mmdet - INFO - Epoch [12][350/2001]\tlr: 5.000e-05, eta: 1 day, 16:04:35, time: 1.191, data_time: 0.022, memory: 6189, loss_rpn_cls: 0.0025, loss_rpn_bbox: 0.0302, loss_cls: 0.0812, acc: 96.6299, loss_bbox: 0.2194, loss: 0.3333\n",
      "2021-01-04 03:16:30,053 - mmdet - INFO - Epoch [12][400/2001]\tlr: 5.000e-05, eta: 1 day, 16:00:53, time: 1.109, data_time: 0.013, memory: 6189, loss_rpn_cls: 0.0023, loss_rpn_bbox: 0.0275, loss_cls: 0.0824, acc: 96.5684, loss_bbox: 0.2137, loss: 0.3258\n",
      "2021-01-04 03:17:28,401 - mmdet - INFO - Epoch [12][450/2001]\tlr: 5.000e-05, eta: 1 day, 15:57:21, time: 1.167, data_time: 0.013, memory: 6189, loss_rpn_cls: 0.0019, loss_rpn_bbox: 0.0302, loss_cls: 0.0822, acc: 96.6064, loss_bbox: 0.2163, loss: 0.3307\n",
      "2021-01-04 03:18:27,274 - mmdet - INFO - Epoch [12][500/2001]\tlr: 5.000e-05, eta: 1 day, 15:53:52, time: 1.177, data_time: 0.013, memory: 6189, loss_rpn_cls: 0.0028, loss_rpn_bbox: 0.0289, loss_cls: 0.0802, acc: 96.6826, loss_bbox: 0.2183, loss: 0.3302\n",
      "2021-01-04 03:19:26,237 - mmdet - INFO - Epoch [12][550/2001]\tlr: 5.000e-05, eta: 1 day, 15:50:24, time: 1.179, data_time: 0.013, memory: 6189, loss_rpn_cls: 0.0031, loss_rpn_bbox: 0.0306, loss_cls: 0.0825, acc: 96.6240, loss_bbox: 0.2203, loss: 0.3364\n",
      "2021-01-04 03:20:26,321 - mmdet - INFO - Epoch [12][600/2001]\tlr: 5.000e-05, eta: 1 day, 15:47:00, time: 1.200, data_time: 0.013, memory: 6189, loss_rpn_cls: 0.0028, loss_rpn_bbox: 0.0304, loss_cls: 0.0851, acc: 96.4834, loss_bbox: 0.2243, loss: 0.3425\n",
      "2021-01-04 03:21:25,776 - mmdet - INFO - Epoch [12][650/2001]\tlr: 5.000e-05, eta: 1 day, 15:43:35, time: 1.191, data_time: 0.014, memory: 6189, loss_rpn_cls: 0.0023, loss_rpn_bbox: 0.0288, loss_cls: 0.0815, acc: 96.5918, loss_bbox: 0.2182, loss: 0.3308\n",
      "2021-01-04 03:22:25,916 - mmdet - INFO - Epoch [12][700/2001]\tlr: 5.000e-05, eta: 1 day, 15:40:13, time: 1.203, data_time: 0.012, memory: 6189, loss_rpn_cls: 0.0021, loss_rpn_bbox: 0.0282, loss_cls: 0.0850, acc: 96.3926, loss_bbox: 0.2202, loss: 0.3355\n",
      "2021-01-04 03:23:28,576 - mmdet - INFO - Epoch [12][750/2001]\tlr: 5.000e-05, eta: 1 day, 15:37:00, time: 1.253, data_time: 0.013, memory: 6189, loss_rpn_cls: 0.0017, loss_rpn_bbox: 0.0291, loss_cls: 0.0804, acc: 96.6641, loss_bbox: 0.2176, loss: 0.3288\n",
      "2021-01-04 03:24:24,623 - mmdet - INFO - Epoch [12][800/2001]\tlr: 5.000e-05, eta: 1 day, 15:33:25, time: 1.120, data_time: 0.013, memory: 6189, loss_rpn_cls: 0.0020, loss_rpn_bbox: 0.0270, loss_cls: 0.0846, acc: 96.4453, loss_bbox: 0.2205, loss: 0.3342\n",
      "2021-01-04 03:25:22,999 - mmdet - INFO - Epoch [12][850/2001]\tlr: 5.000e-05, eta: 1 day, 15:29:58, time: 1.168, data_time: 0.013, memory: 6189, loss_rpn_cls: 0.0020, loss_rpn_bbox: 0.0284, loss_cls: 0.0836, acc: 96.5322, loss_bbox: 0.2179, loss: 0.3319\n",
      "2021-01-04 03:26:25,666 - mmdet - INFO - Epoch [12][900/2001]\tlr: 5.000e-05, eta: 1 day, 15:26:47, time: 1.250, data_time: 0.013, memory: 6189, loss_rpn_cls: 0.0026, loss_rpn_bbox: 0.0273, loss_cls: 0.0824, acc: 96.6416, loss_bbox: 0.2121, loss: 0.3243\n",
      "2021-01-04 03:27:25,621 - mmdet - INFO - Epoch [12][950/2001]\tlr: 5.000e-05, eta: 1 day, 15:23:27, time: 1.203, data_time: 0.016, memory: 6189, loss_rpn_cls: 0.0032, loss_rpn_bbox: 0.0286, loss_cls: 0.0833, acc: 96.5059, loss_bbox: 0.2165, loss: 0.3316\n",
      "2021-01-04 03:28:24,799 - mmdet - INFO - Epoch [12][1000/2001]\tlr: 5.000e-05, eta: 1 day, 15:20:06, time: 1.184, data_time: 0.013, memory: 6189, loss_rpn_cls: 0.0021, loss_rpn_bbox: 0.0280, loss_cls: 0.0817, acc: 96.6221, loss_bbox: 0.2166, loss: 0.3284\n",
      "2021-01-04 03:29:24,741 - mmdet - INFO - Epoch [12][1050/2001]\tlr: 5.000e-05, eta: 1 day, 15:16:47, time: 1.199, data_time: 0.013, memory: 6189, loss_rpn_cls: 0.0036, loss_rpn_bbox: 0.0305, loss_cls: 0.0837, acc: 96.6045, loss_bbox: 0.2215, loss: 0.3393\n",
      "2021-01-04 03:30:23,526 - mmdet - INFO - Epoch [12][1100/2001]\tlr: 5.000e-05, eta: 1 day, 15:13:25, time: 1.175, data_time: 0.012, memory: 6189, loss_rpn_cls: 0.0026, loss_rpn_bbox: 0.0294, loss_cls: 0.0834, acc: 96.5664, loss_bbox: 0.2159, loss: 0.3313\n",
      "2021-01-04 03:31:22,118 - mmdet - INFO - Epoch [12][1150/2001]\tlr: 5.000e-05, eta: 1 day, 15:10:03, time: 1.172, data_time: 0.013, memory: 6189, loss_rpn_cls: 0.0022, loss_rpn_bbox: 0.0265, loss_cls: 0.0774, acc: 96.7656, loss_bbox: 0.2094, loss: 0.3155\n",
      "2021-01-04 03:32:21,756 - mmdet - INFO - Epoch [12][1200/2001]\tlr: 5.000e-05, eta: 1 day, 15:06:45, time: 1.193, data_time: 0.013, memory: 6189, loss_rpn_cls: 0.0023, loss_rpn_bbox: 0.0272, loss_cls: 0.0855, acc: 96.4355, loss_bbox: 0.2160, loss: 0.3310\n",
      "2021-01-04 03:33:20,975 - mmdet - INFO - Epoch [12][1250/2001]\tlr: 5.000e-05, eta: 1 day, 15:03:27, time: 1.184, data_time: 0.013, memory: 6189, loss_rpn_cls: 0.0023, loss_rpn_bbox: 0.0265, loss_cls: 0.0861, acc: 96.4834, loss_bbox: 0.2172, loss: 0.3320\n",
      "2021-01-04 03:34:19,780 - mmdet - INFO - Epoch [12][1300/2001]\tlr: 5.000e-05, eta: 1 day, 15:00:07, time: 1.176, data_time: 0.012, memory: 6189, loss_rpn_cls: 0.0031, loss_rpn_bbox: 0.0325, loss_cls: 0.0862, acc: 96.4033, loss_bbox: 0.2270, loss: 0.3487\n",
      "2021-01-04 03:35:18,024 - mmdet - INFO - Epoch [12][1350/2001]\tlr: 5.000e-05, eta: 1 day, 14:56:47, time: 1.165, data_time: 0.012, memory: 6189, loss_rpn_cls: 0.0020, loss_rpn_bbox: 0.0275, loss_cls: 0.0799, acc: 96.7139, loss_bbox: 0.2158, loss: 0.3252\n",
      "2021-01-04 03:36:18,967 - mmdet - INFO - Epoch [12][1400/2001]\tlr: 5.000e-05, eta: 1 day, 14:53:36, time: 1.219, data_time: 0.013, memory: 6189, loss_rpn_cls: 0.0034, loss_rpn_bbox: 0.0270, loss_cls: 0.0821, acc: 96.6094, loss_bbox: 0.2180, loss: 0.3305\n",
      "2021-01-04 03:37:15,685 - mmdet - INFO - Epoch [12][1450/2001]\tlr: 5.000e-05, eta: 1 day, 14:50:11, time: 1.134, data_time: 0.013, memory: 6189, loss_rpn_cls: 0.0029, loss_rpn_bbox: 0.0272, loss_cls: 0.0818, acc: 96.6572, loss_bbox: 0.2147, loss: 0.3266\n",
      "2021-01-04 03:38:14,161 - mmdet - INFO - Epoch [12][1500/2001]\tlr: 5.000e-05, eta: 1 day, 14:46:53, time: 1.169, data_time: 0.013, memory: 6189, loss_rpn_cls: 0.0027, loss_rpn_bbox: 0.0278, loss_cls: 0.0815, acc: 96.6133, loss_bbox: 0.2207, loss: 0.3327\n",
      "2021-01-04 03:39:14,783 - mmdet - INFO - Epoch [12][1550/2001]\tlr: 5.000e-05, eta: 1 day, 14:43:42, time: 1.211, data_time: 0.013, memory: 6189, loss_rpn_cls: 0.0023, loss_rpn_bbox: 0.0294, loss_cls: 0.0814, acc: 96.6543, loss_bbox: 0.2178, loss: 0.3309\n",
      "2021-01-04 03:40:16,949 - mmdet - INFO - Epoch [12][1600/2001]\tlr: 5.000e-05, eta: 1 day, 14:40:38, time: 1.245, data_time: 0.015, memory: 6189, loss_rpn_cls: 0.0021, loss_rpn_bbox: 0.0255, loss_cls: 0.0860, acc: 96.4688, loss_bbox: 0.2142, loss: 0.3279\n",
      "2021-01-04 03:41:17,160 - mmdet - INFO - Epoch [12][1650/2001]\tlr: 5.000e-05, eta: 1 day, 14:37:27, time: 1.203, data_time: 0.013, memory: 6189, loss_rpn_cls: 0.0025, loss_rpn_bbox: 0.0286, loss_cls: 0.0831, acc: 96.5146, loss_bbox: 0.2175, loss: 0.3318\n"
     ]
    },
    {
     "name": "stderr",
     "output_type": "stream",
     "text": [
      "2021-01-04 03:42:19,601 - mmdet - INFO - Epoch [12][1700/2001]\tlr: 5.000e-05, eta: 1 day, 14:34:24, time: 1.250, data_time: 0.014, memory: 6189, loss_rpn_cls: 0.0028, loss_rpn_bbox: 0.0274, loss_cls: 0.0821, acc: 96.5654, loss_bbox: 0.2185, loss: 0.3308\n",
      "2021-01-04 03:43:16,472 - mmdet - INFO - Epoch [12][1750/2001]\tlr: 5.000e-05, eta: 1 day, 14:31:04, time: 1.138, data_time: 0.012, memory: 6189, loss_rpn_cls: 0.0024, loss_rpn_bbox: 0.0289, loss_cls: 0.0857, acc: 96.4355, loss_bbox: 0.2198, loss: 0.3368\n",
      "2021-01-04 03:44:07,615 - mmdet - INFO - Epoch [12][1800/2001]\tlr: 5.000e-05, eta: 1 day, 14:27:26, time: 1.023, data_time: 0.012, memory: 6189, loss_rpn_cls: 0.0024, loss_rpn_bbox: 0.0278, loss_cls: 0.0814, acc: 96.6299, loss_bbox: 0.2123, loss: 0.3239\n",
      "2021-01-04 03:44:53,423 - mmdet - INFO - Epoch [12][1850/2001]\tlr: 5.000e-05, eta: 1 day, 14:23:31, time: 0.916, data_time: 0.012, memory: 6189, loss_rpn_cls: 0.0023, loss_rpn_bbox: 0.0284, loss_cls: 0.0841, acc: 96.6270, loss_bbox: 0.2231, loss: 0.3379\n",
      "2021-01-04 03:45:39,383 - mmdet - INFO - Epoch [12][1900/2001]\tlr: 5.000e-05, eta: 1 day, 14:19:38, time: 0.919, data_time: 0.011, memory: 6189, loss_rpn_cls: 0.0026, loss_rpn_bbox: 0.0298, loss_cls: 0.0855, acc: 96.4209, loss_bbox: 0.2185, loss: 0.3363\n",
      "2021-01-04 03:46:23,992 - mmdet - INFO - Epoch [12][1950/2001]\tlr: 5.000e-05, eta: 1 day, 14:15:41, time: 0.892, data_time: 0.011, memory: 6189, loss_rpn_cls: 0.0021, loss_rpn_bbox: 0.0281, loss_cls: 0.0832, acc: 96.5449, loss_bbox: 0.2172, loss: 0.3306\n",
      "2021-01-04 03:47:05,967 - mmdet - INFO - Epoch [12][2000/2001]\tlr: 5.000e-05, eta: 1 day, 14:11:37, time: 0.839, data_time: 0.011, memory: 6189, loss_rpn_cls: 0.0022, loss_rpn_bbox: 0.0267, loss_cls: 0.0830, acc: 96.5342, loss_bbox: 0.2201, loss: 0.3319\n",
      "2021-01-04 03:47:06,702 - mmdet - INFO - Saving checkpoint at 12 epochs\n"
     ]
    },
    {
     "name": "stdout",
     "output_type": "stream",
     "text": [
      "[>>>>>>>>>>>>>>>>>>>>>>>>>>] 2013/2013, 11.0 task/s, elapsed: 183s, ETA:     0s"
     ]
    },
    {
     "name": "stderr",
     "output_type": "stream",
     "text": [
      "2021-01-04 03:50:10,704 - mmdet - INFO - \n",
      "Evaluateing valid_44.json with 2013 images now\n",
      "2021-01-04 03:50:11,206 - mmdet - INFO - Evaluating bbox...\n"
     ]
    },
    {
     "name": "stdout",
     "output_type": "stream",
     "text": [
      "Loading and preparing results...\n",
      "DONE (t=0.27s)\n",
      "creating index...\n",
      "index created!\n",
      "Running per image evaluation...\n",
      "Evaluate annotation type *bbox*\n",
      "DONE (t=14.19s).\n",
      "Accumulating evaluation results...\n"
     ]
    },
    {
     "name": "stderr",
     "output_type": "stream",
     "text": [
      "2021-01-04 03:50:26,387 - mmdet - INFO - Epoch(val) [12][2001]\t0_bbox_mAP: 0.2860, 0_bbox_mAP_50: 0.4720, 0_bbox_mAP_75: 0.3220, 0_bbox_mAP_s: 0.2810, 0_bbox_mAP_m: 0.4610, 0_bbox_mAP_l: -1.0000, 0_bbox_mAP_copypaste: 0.286 0.472 0.322 0.281 0.461 -1.000\n"
     ]
    },
    {
     "name": "stdout",
     "output_type": "stream",
     "text": [
      "DONE (t=0.65s).\n",
      "Average Precision  (AP) @[ IoU=0.50:0.95 | area=   all | maxDets=100 ] = 0.286\n",
      "Average Precision  (AP) @[ IoU=0.50      | area=   all | maxDets=1000 ] = 0.472\n",
      "Average Precision  (AP) @[ IoU=0.75      | area=   all | maxDets=1000 ] = 0.322\n",
      "Average Precision  (AP) @[ IoU=0.50:0.95 | area= small | maxDets=1000 ] = 0.281\n",
      "Average Precision  (AP) @[ IoU=0.50:0.95 | area=medium | maxDets=1000 ] = 0.461\n",
      "Average Precision  (AP) @[ IoU=0.50:0.95 | area= large | maxDets=1000 ] = -1.000\n",
      "Average Recall     (AR) @[ IoU=0.50:0.95 | area=   all | maxDets=100 ] = 0.355\n",
      "Average Recall     (AR) @[ IoU=0.50:0.95 | area=   all | maxDets=300 ] = 0.355\n",
      "Average Recall     (AR) @[ IoU=0.50:0.95 | area=   all | maxDets=1000 ] = 0.355\n",
      "Average Recall     (AR) @[ IoU=0.50:0.95 | area= small | maxDets=1000 ] = 0.351\n",
      "Average Recall     (AR) @[ IoU=0.50:0.95 | area=medium | maxDets=1000 ] = 0.513\n",
      "Average Recall     (AR) @[ IoU=0.50:0.95 | area= large | maxDets=1000 ] = -1.000\n"
     ]
    },
    {
     "name": "stderr",
     "output_type": "stream",
     "text": [
      "2021-01-04 03:51:09,830 - mmdet - INFO - Epoch [13][50/2001]\tlr: 5.000e-05, eta: 1 day, 14:07:30, time: 0.865, data_time: 0.056, memory: 6189, loss_rpn_cls: 0.0023, loss_rpn_bbox: 0.0271, loss_cls: 0.0829, acc: 96.5869, loss_bbox: 0.2175, loss: 0.3298\n",
      "2021-01-04 03:51:50,830 - mmdet - INFO - Epoch [13][100/2001]\tlr: 5.000e-05, eta: 1 day, 14:03:25, time: 0.820, data_time: 0.011, memory: 6189, loss_rpn_cls: 0.0023, loss_rpn_bbox: 0.0289, loss_cls: 0.0856, acc: 96.5059, loss_bbox: 0.2234, loss: 0.3402\n",
      "2021-01-04 03:52:31,749 - mmdet - INFO - Epoch [13][150/2001]\tlr: 5.000e-05, eta: 1 day, 13:59:19, time: 0.818, data_time: 0.011, memory: 6189, loss_rpn_cls: 0.0024, loss_rpn_bbox: 0.0271, loss_cls: 0.0831, acc: 96.5469, loss_bbox: 0.2174, loss: 0.3301\n",
      "2021-01-04 03:53:12,718 - mmdet - INFO - Epoch [13][200/2001]\tlr: 5.000e-05, eta: 1 day, 13:55:15, time: 0.819, data_time: 0.011, memory: 6189, loss_rpn_cls: 0.0025, loss_rpn_bbox: 0.0312, loss_cls: 0.0840, acc: 96.5840, loss_bbox: 0.2231, loss: 0.3408\n",
      "2021-01-04 03:53:53,679 - mmdet - INFO - Epoch [13][250/2001]\tlr: 5.000e-05, eta: 1 day, 13:51:12, time: 0.819, data_time: 0.011, memory: 6189, loss_rpn_cls: 0.0020, loss_rpn_bbox: 0.0273, loss_cls: 0.0803, acc: 96.6260, loss_bbox: 0.2135, loss: 0.3231\n",
      "2021-01-04 03:54:34,659 - mmdet - INFO - Epoch [13][300/2001]\tlr: 5.000e-05, eta: 1 day, 13:47:10, time: 0.820, data_time: 0.011, memory: 6189, loss_rpn_cls: 0.0023, loss_rpn_bbox: 0.0281, loss_cls: 0.0849, acc: 96.4199, loss_bbox: 0.2208, loss: 0.3361\n",
      "2021-01-04 03:55:15,631 - mmdet - INFO - Epoch [13][350/2001]\tlr: 5.000e-05, eta: 1 day, 13:43:08, time: 0.819, data_time: 0.011, memory: 6189, loss_rpn_cls: 0.0025, loss_rpn_bbox: 0.0271, loss_cls: 0.0798, acc: 96.7051, loss_bbox: 0.2154, loss: 0.3247\n",
      "2021-01-04 03:55:57,040 - mmdet - INFO - Epoch [13][400/2001]\tlr: 5.000e-05, eta: 1 day, 13:39:09, time: 0.828, data_time: 0.012, memory: 6189, loss_rpn_cls: 0.0025, loss_rpn_bbox: 0.0271, loss_cls: 0.0827, acc: 96.5117, loss_bbox: 0.2149, loss: 0.3272\n",
      "2021-01-04 03:56:40,336 - mmdet - INFO - Epoch [13][450/2001]\tlr: 5.000e-05, eta: 1 day, 13:35:16, time: 0.866, data_time: 0.012, memory: 6189, loss_rpn_cls: 0.0026, loss_rpn_bbox: 0.0286, loss_cls: 0.0821, acc: 96.5840, loss_bbox: 0.2152, loss: 0.3285\n",
      "2021-01-04 03:57:26,509 - mmdet - INFO - Epoch [13][500/2001]\tlr: 5.000e-05, eta: 1 day, 13:31:33, time: 0.923, data_time: 0.013, memory: 6189, loss_rpn_cls: 0.0031, loss_rpn_bbox: 0.0292, loss_cls: 0.0836, acc: 96.5420, loss_bbox: 0.2211, loss: 0.3370\n",
      "2021-01-04 03:58:16,991 - mmdet - INFO - Epoch [13][550/2001]\tlr: 5.000e-05, eta: 1 day, 13:28:04, time: 1.010, data_time: 0.013, memory: 6189, loss_rpn_cls: 0.0027, loss_rpn_bbox: 0.0267, loss_cls: 0.0827, acc: 96.5527, loss_bbox: 0.2173, loss: 0.3294\n",
      "2021-01-04 03:59:12,218 - mmdet - INFO - Epoch [13][600/2001]\tlr: 5.000e-05, eta: 1 day, 13:24:50, time: 1.104, data_time: 0.012, memory: 6189, loss_rpn_cls: 0.0028, loss_rpn_bbox: 0.0301, loss_cls: 0.0823, acc: 96.5957, loss_bbox: 0.2176, loss: 0.3328\n",
      "2021-01-04 04:00:04,275 - mmdet - INFO - Epoch [13][650/2001]\tlr: 5.000e-05, eta: 1 day, 13:21:27, time: 1.040, data_time: 0.013, memory: 6189, loss_rpn_cls: 0.0028, loss_rpn_bbox: 0.0256, loss_cls: 0.0785, acc: 96.7471, loss_bbox: 0.2123, loss: 0.3191\n",
      "2021-01-04 04:00:59,714 - mmdet - INFO - Epoch [13][700/2001]\tlr: 5.000e-05, eta: 1 day, 13:18:15, time: 1.109, data_time: 0.014, memory: 6189, loss_rpn_cls: 0.0024, loss_rpn_bbox: 0.0302, loss_cls: 0.0790, acc: 96.7822, loss_bbox: 0.2125, loss: 0.3241\n",
      "2021-01-04 04:01:57,025 - mmdet - INFO - Epoch [13][750/2001]\tlr: 5.000e-05, eta: 1 day, 13:15:09, time: 1.148, data_time: 0.015, memory: 6189, loss_rpn_cls: 0.0020, loss_rpn_bbox: 0.0296, loss_cls: 0.0791, acc: 96.7383, loss_bbox: 0.2154, loss: 0.3261\n",
      "2021-01-04 04:02:54,557 - mmdet - INFO - Epoch [13][800/2001]\tlr: 5.000e-05, eta: 1 day, 13:12:05, time: 1.151, data_time: 0.013, memory: 6189, loss_rpn_cls: 0.0020, loss_rpn_bbox: 0.0289, loss_cls: 0.0832, acc: 96.5898, loss_bbox: 0.2196, loss: 0.3337\n",
      "2021-01-04 04:03:48,197 - mmdet - INFO - Epoch [13][850/2001]\tlr: 5.000e-05, eta: 1 day, 13:08:49, time: 1.073, data_time: 0.013, memory: 6189, loss_rpn_cls: 0.0036, loss_rpn_bbox: 0.0298, loss_cls: 0.0846, acc: 96.5068, loss_bbox: 0.2236, loss: 0.3415\n",
      "2021-01-04 04:04:41,563 - mmdet - INFO - Epoch [13][900/2001]\tlr: 5.000e-05, eta: 1 day, 13:05:32, time: 1.067, data_time: 0.012, memory: 6189, loss_rpn_cls: 0.0026, loss_rpn_bbox: 0.0313, loss_cls: 0.0824, acc: 96.5732, loss_bbox: 0.2207, loss: 0.3370\n",
      "2021-01-04 04:05:33,188 - mmdet - INFO - Epoch [13][950/2001]\tlr: 5.000e-05, eta: 1 day, 13:02:12, time: 1.033, data_time: 0.014, memory: 6189, loss_rpn_cls: 0.0028, loss_rpn_bbox: 0.0296, loss_cls: 0.0819, acc: 96.6523, loss_bbox: 0.2188, loss: 0.3331\n",
      "2021-01-04 04:06:23,539 - mmdet - INFO - Epoch [13][1000/2001]\tlr: 5.000e-05, eta: 1 day, 12:58:47, time: 1.006, data_time: 0.013, memory: 6189, loss_rpn_cls: 0.0021, loss_rpn_bbox: 0.0261, loss_cls: 0.0829, acc: 96.6172, loss_bbox: 0.2118, loss: 0.3228\n",
      "2021-01-04 04:07:18,006 - mmdet - INFO - Epoch [13][1050/2001]\tlr: 5.000e-05, eta: 1 day, 12:55:36, time: 1.090, data_time: 0.014, memory: 6189, loss_rpn_cls: 0.0027, loss_rpn_bbox: 0.0288, loss_cls: 0.0850, acc: 96.5020, loss_bbox: 0.2217, loss: 0.3382\n",
      "2021-01-04 04:08:14,966 - mmdet - INFO - Epoch [13][1100/2001]\tlr: 5.000e-05, eta: 1 day, 12:52:33, time: 1.139, data_time: 0.013, memory: 6189, loss_rpn_cls: 0.0020, loss_rpn_bbox: 0.0286, loss_cls: 0.0808, acc: 96.6152, loss_bbox: 0.2190, loss: 0.3304\n",
      "2021-01-04 04:09:10,047 - mmdet - INFO - Epoch [13][1150/2001]\tlr: 5.000e-05, eta: 1 day, 12:49:24, time: 1.096, data_time: 0.013, memory: 6189, loss_rpn_cls: 0.0021, loss_rpn_bbox: 0.0297, loss_cls: 0.0848, acc: 96.4580, loss_bbox: 0.2201, loss: 0.3367\n",
      "2021-01-04 04:10:05,096 - mmdet - INFO - Epoch [13][1200/2001]\tlr: 5.000e-05, eta: 1 day, 12:46:17, time: 1.107, data_time: 0.020, memory: 6189, loss_rpn_cls: 0.0029, loss_rpn_bbox: 0.0282, loss_cls: 0.0821, acc: 96.5791, loss_bbox: 0.2171, loss: 0.3303\n",
      "2021-01-04 04:11:04,438 - mmdet - INFO - Epoch [13][1250/2001]\tlr: 5.000e-05, eta: 1 day, 12:43:22, time: 1.187, data_time: 0.013, memory: 6189, loss_rpn_cls: 0.0023, loss_rpn_bbox: 0.0308, loss_cls: 0.0830, acc: 96.6025, loss_bbox: 0.2214, loss: 0.3376\n",
      "2021-01-04 04:12:01,194 - mmdet - INFO - Epoch [13][1300/2001]\tlr: 5.000e-05, eta: 1 day, 12:40:21, time: 1.135, data_time: 0.014, memory: 6189, loss_rpn_cls: 0.0022, loss_rpn_bbox: 0.0281, loss_cls: 0.0829, acc: 96.5527, loss_bbox: 0.2160, loss: 0.3292\n",
      "2021-01-04 04:12:59,521 - mmdet - INFO - Epoch [13][1350/2001]\tlr: 5.000e-05, eta: 1 day, 12:37:24, time: 1.167, data_time: 0.014, memory: 6189, loss_rpn_cls: 0.0020, loss_rpn_bbox: 0.0284, loss_cls: 0.0846, acc: 96.4717, loss_bbox: 0.2199, loss: 0.3349\n",
      "2021-01-04 04:13:58,395 - mmdet - INFO - Epoch [13][1400/2001]\tlr: 5.000e-05, eta: 1 day, 12:34:29, time: 1.174, data_time: 0.012, memory: 6189, loss_rpn_cls: 0.0020, loss_rpn_bbox: 0.0274, loss_cls: 0.0825, acc: 96.5703, loss_bbox: 0.2204, loss: 0.3323\n",
      "2021-01-04 04:14:49,210 - mmdet - INFO - Epoch [13][1450/2001]\tlr: 5.000e-05, eta: 1 day, 12:31:12, time: 1.020, data_time: 0.015, memory: 6189, loss_rpn_cls: 0.0027, loss_rpn_bbox: 0.0271, loss_cls: 0.0805, acc: 96.6484, loss_bbox: 0.2145, loss: 0.3247\n",
      "2021-01-04 04:15:40,126 - mmdet - INFO - Epoch [13][1500/2001]\tlr: 5.000e-05, eta: 1 day, 12:27:55, time: 1.018, data_time: 0.013, memory: 6189, loss_rpn_cls: 0.0026, loss_rpn_bbox: 0.0268, loss_cls: 0.0827, acc: 96.6152, loss_bbox: 0.2179, loss: 0.3300\n",
      "2021-01-04 04:16:31,029 - mmdet - INFO - Epoch [13][1550/2001]\tlr: 5.000e-05, eta: 1 day, 12:24:39, time: 1.018, data_time: 0.013, memory: 6189, loss_rpn_cls: 0.0023, loss_rpn_bbox: 0.0259, loss_cls: 0.0845, acc: 96.5693, loss_bbox: 0.2149, loss: 0.3275\n",
      "2021-01-04 04:17:20,189 - mmdet - INFO - Epoch [13][1600/2001]\tlr: 5.000e-05, eta: 1 day, 12:21:18, time: 0.983, data_time: 0.013, memory: 6189, loss_rpn_cls: 0.0026, loss_rpn_bbox: 0.0282, loss_cls: 0.0827, acc: 96.6406, loss_bbox: 0.2143, loss: 0.3278\n",
      "2021-01-04 04:18:14,484 - mmdet - INFO - Epoch [13][1650/2001]\tlr: 5.000e-05, eta: 1 day, 12:18:12, time: 1.085, data_time: 0.013, memory: 6189, loss_rpn_cls: 0.0034, loss_rpn_bbox: 0.0298, loss_cls: 0.0827, acc: 96.5693, loss_bbox: 0.2180, loss: 0.3339\n"
     ]
    },
    {
     "name": "stderr",
     "output_type": "stream",
     "text": [
      "2021-01-04 04:19:08,517 - mmdet - INFO - Epoch [13][1700/2001]\tlr: 5.000e-05, eta: 1 day, 12:15:07, time: 1.080, data_time: 0.013, memory: 6189, loss_rpn_cls: 0.0022, loss_rpn_bbox: 0.0264, loss_cls: 0.0859, acc: 96.4072, loss_bbox: 0.2181, loss: 0.3326\n",
      "2021-01-04 04:20:04,692 - mmdet - INFO - Epoch [13][1750/2001]\tlr: 5.000e-05, eta: 1 day, 12:12:08, time: 1.124, data_time: 0.014, memory: 6189, loss_rpn_cls: 0.0029, loss_rpn_bbox: 0.0282, loss_cls: 0.0809, acc: 96.6816, loss_bbox: 0.2148, loss: 0.3267\n",
      "2021-01-04 04:21:02,417 - mmdet - INFO - Epoch [13][1800/2001]\tlr: 5.000e-05, eta: 1 day, 12:09:14, time: 1.153, data_time: 0.013, memory: 6189, loss_rpn_cls: 0.0019, loss_rpn_bbox: 0.0286, loss_cls: 0.0817, acc: 96.6387, loss_bbox: 0.2172, loss: 0.3294\n",
      "2021-01-04 04:22:01,106 - mmdet - INFO - Epoch [13][1850/2001]\tlr: 5.000e-05, eta: 1 day, 12:06:23, time: 1.174, data_time: 0.014, memory: 6189, loss_rpn_cls: 0.0026, loss_rpn_bbox: 0.0276, loss_cls: 0.0830, acc: 96.5635, loss_bbox: 0.2129, loss: 0.3261\n",
      "2021-01-04 04:23:00,681 - mmdet - INFO - Epoch [13][1900/2001]\tlr: 5.000e-05, eta: 1 day, 12:03:35, time: 1.192, data_time: 0.014, memory: 6189, loss_rpn_cls: 0.0025, loss_rpn_bbox: 0.0293, loss_cls: 0.0844, acc: 96.4805, loss_bbox: 0.2208, loss: 0.3370\n",
      "2021-01-04 04:23:58,198 - mmdet - INFO - Epoch [13][1950/2001]\tlr: 5.000e-05, eta: 1 day, 12:00:42, time: 1.149, data_time: 0.013, memory: 6189, loss_rpn_cls: 0.0021, loss_rpn_bbox: 0.0295, loss_cls: 0.0815, acc: 96.5996, loss_bbox: 0.2187, loss: 0.3317\n",
      "2021-01-04 04:24:50,996 - mmdet - INFO - Epoch [13][2000/2001]\tlr: 5.000e-05, eta: 1 day, 11:57:36, time: 1.057, data_time: 0.013, memory: 6189, loss_rpn_cls: 0.0024, loss_rpn_bbox: 0.0278, loss_cls: 0.0846, acc: 96.4355, loss_bbox: 0.2202, loss: 0.3351\n",
      "2021-01-04 04:24:51,815 - mmdet - INFO - Saving checkpoint at 13 epochs\n"
     ]
    },
    {
     "name": "stdout",
     "output_type": "stream",
     "text": [
      "[>>>>>>>>>>>>>>>>>>>>>>>>>>] 2013/2013, 10.5 task/s, elapsed: 191s, ETA:     0s"
     ]
    },
    {
     "name": "stderr",
     "output_type": "stream",
     "text": [
      "2021-01-04 04:28:03,920 - mmdet - INFO - \n",
      "Evaluateing valid_44.json with 2013 images now\n",
      "2021-01-04 04:28:04,393 - mmdet - INFO - Evaluating bbox...\n"
     ]
    },
    {
     "name": "stdout",
     "output_type": "stream",
     "text": [
      "Loading and preparing results...\n",
      "DONE (t=0.25s)\n",
      "creating index...\n",
      "index created!\n",
      "Running per image evaluation...\n",
      "Evaluate annotation type *bbox*\n",
      "DONE (t=13.84s).\n",
      "Accumulating evaluation results...\n"
     ]
    },
    {
     "name": "stderr",
     "output_type": "stream",
     "text": [
      "2021-01-04 04:28:19,200 - mmdet - INFO - Epoch(val) [13][2001]\t0_bbox_mAP: 0.2840, 0_bbox_mAP_50: 0.4680, 0_bbox_mAP_75: 0.3180, 0_bbox_mAP_s: 0.2800, 0_bbox_mAP_m: 0.4630, 0_bbox_mAP_l: -1.0000, 0_bbox_mAP_copypaste: 0.284 0.468 0.318 0.280 0.463 -1.000\n"
     ]
    },
    {
     "name": "stdout",
     "output_type": "stream",
     "text": [
      "DONE (t=0.64s).\n",
      "Average Precision  (AP) @[ IoU=0.50:0.95 | area=   all | maxDets=100 ] = 0.284\n",
      "Average Precision  (AP) @[ IoU=0.50      | area=   all | maxDets=1000 ] = 0.468\n",
      "Average Precision  (AP) @[ IoU=0.75      | area=   all | maxDets=1000 ] = 0.318\n",
      "Average Precision  (AP) @[ IoU=0.50:0.95 | area= small | maxDets=1000 ] = 0.280\n",
      "Average Precision  (AP) @[ IoU=0.50:0.95 | area=medium | maxDets=1000 ] = 0.463\n",
      "Average Precision  (AP) @[ IoU=0.50:0.95 | area= large | maxDets=1000 ] = -1.000\n",
      "Average Recall     (AR) @[ IoU=0.50:0.95 | area=   all | maxDets=100 ] = 0.352\n",
      "Average Recall     (AR) @[ IoU=0.50:0.95 | area=   all | maxDets=300 ] = 0.352\n",
      "Average Recall     (AR) @[ IoU=0.50:0.95 | area=   all | maxDets=1000 ] = 0.352\n",
      "Average Recall     (AR) @[ IoU=0.50:0.95 | area= small | maxDets=1000 ] = 0.348\n",
      "Average Recall     (AR) @[ IoU=0.50:0.95 | area=medium | maxDets=1000 ] = 0.515\n",
      "Average Recall     (AR) @[ IoU=0.50:0.95 | area= large | maxDets=1000 ] = -1.000\n"
     ]
    },
    {
     "name": "stderr",
     "output_type": "stream",
     "text": [
      "2021-01-04 04:29:02,569 - mmdet - INFO - Epoch [14][50/2001]\tlr: 5.000e-05, eta: 1 day, 11:53:56, time: 0.863, data_time: 0.056, memory: 6189, loss_rpn_cls: 0.0019, loss_rpn_bbox: 0.0290, loss_cls: 0.0796, acc: 96.7461, loss_bbox: 0.2138, loss: 0.3243\n",
      "2021-01-04 04:29:43,787 - mmdet - INFO - Epoch [14][100/2001]\tlr: 5.000e-05, eta: 1 day, 11:50:18, time: 0.824, data_time: 0.012, memory: 6189, loss_rpn_cls: 0.0026, loss_rpn_bbox: 0.0282, loss_cls: 0.0826, acc: 96.5146, loss_bbox: 0.2221, loss: 0.3355\n",
      "2021-01-04 04:30:26,176 - mmdet - INFO - Epoch [14][150/2001]\tlr: 5.000e-05, eta: 1 day, 11:46:44, time: 0.848, data_time: 0.012, memory: 6189, loss_rpn_cls: 0.0026, loss_rpn_bbox: 0.0317, loss_cls: 0.0818, acc: 96.6436, loss_bbox: 0.2267, loss: 0.3428\n",
      "2021-01-04 04:31:10,803 - mmdet - INFO - Epoch [14][200/2001]\tlr: 5.000e-05, eta: 1 day, 11:43:17, time: 0.892, data_time: 0.012, memory: 6189, loss_rpn_cls: 0.0020, loss_rpn_bbox: 0.0272, loss_cls: 0.0818, acc: 96.6221, loss_bbox: 0.2168, loss: 0.3277\n",
      "2021-01-04 04:32:01,613 - mmdet - INFO - Epoch [14][250/2001]\tlr: 5.000e-05, eta: 1 day, 11:40:08, time: 1.014, data_time: 0.012, memory: 6189, loss_rpn_cls: 0.0020, loss_rpn_bbox: 0.0277, loss_cls: 0.0831, acc: 96.5430, loss_bbox: 0.2127, loss: 0.3255\n",
      "2021-01-04 04:32:50,617 - mmdet - INFO - Epoch [14][300/2001]\tlr: 5.000e-05, eta: 1 day, 11:36:55, time: 0.982, data_time: 0.014, memory: 6189, loss_rpn_cls: 0.0020, loss_rpn_bbox: 0.0275, loss_cls: 0.0816, acc: 96.6016, loss_bbox: 0.2196, loss: 0.3307\n",
      "2021-01-04 04:33:45,980 - mmdet - INFO - Epoch [14][350/2001]\tlr: 5.000e-05, eta: 1 day, 11:33:59, time: 1.107, data_time: 0.012, memory: 6189, loss_rpn_cls: 0.0022, loss_rpn_bbox: 0.0291, loss_cls: 0.0808, acc: 96.7246, loss_bbox: 0.2131, loss: 0.3252\n",
      "2021-01-04 04:34:44,550 - mmdet - INFO - Epoch [14][400/2001]\tlr: 5.000e-05, eta: 1 day, 11:31:13, time: 1.168, data_time: 0.013, memory: 6189, loss_rpn_cls: 0.0025, loss_rpn_bbox: 0.0271, loss_cls: 0.0835, acc: 96.6025, loss_bbox: 0.2130, loss: 0.3261\n",
      "2021-01-04 04:35:40,179 - mmdet - INFO - Epoch [14][450/2001]\tlr: 5.000e-05, eta: 1 day, 11:28:20, time: 1.115, data_time: 0.016, memory: 6189, loss_rpn_cls: 0.0020, loss_rpn_bbox: 0.0283, loss_cls: 0.0833, acc: 96.5498, loss_bbox: 0.2172, loss: 0.3308\n",
      "2021-01-04 04:36:35,917 - mmdet - INFO - Epoch [14][500/2001]\tlr: 5.000e-05, eta: 1 day, 11:25:27, time: 1.115, data_time: 0.014, memory: 6189, loss_rpn_cls: 0.0029, loss_rpn_bbox: 0.0276, loss_cls: 0.0796, acc: 96.7236, loss_bbox: 0.2126, loss: 0.3228\n",
      "2021-01-04 04:37:34,172 - mmdet - INFO - Epoch [14][550/2001]\tlr: 5.000e-05, eta: 1 day, 11:22:42, time: 1.164, data_time: 0.013, memory: 6189, loss_rpn_cls: 0.0025, loss_rpn_bbox: 0.0280, loss_cls: 0.0810, acc: 96.6191, loss_bbox: 0.2174, loss: 0.3290\n",
      "2021-01-04 04:38:30,600 - mmdet - INFO - Epoch [14][600/2001]\tlr: 5.000e-05, eta: 1 day, 11:19:52, time: 1.129, data_time: 0.014, memory: 6189, loss_rpn_cls: 0.0023, loss_rpn_bbox: 0.0286, loss_cls: 0.0814, acc: 96.6699, loss_bbox: 0.2156, loss: 0.3279\n",
      "2021-01-04 04:39:29,784 - mmdet - INFO - Epoch [14][650/2001]\tlr: 5.000e-05, eta: 1 day, 11:17:10, time: 1.184, data_time: 0.013, memory: 6189, loss_rpn_cls: 0.0023, loss_rpn_bbox: 0.0286, loss_cls: 0.0842, acc: 96.5908, loss_bbox: 0.2234, loss: 0.3385\n",
      "2021-01-04 04:40:27,517 - mmdet - INFO - Epoch [14][700/2001]\tlr: 5.000e-05, eta: 1 day, 11:14:24, time: 1.154, data_time: 0.013, memory: 6189, loss_rpn_cls: 0.0022, loss_rpn_bbox: 0.0291, loss_cls: 0.0802, acc: 96.6748, loss_bbox: 0.2152, loss: 0.3268\n",
      "2021-01-04 04:41:24,427 - mmdet - INFO - Epoch [14][750/2001]\tlr: 5.000e-05, eta: 1 day, 11:11:36, time: 1.139, data_time: 0.014, memory: 6189, loss_rpn_cls: 0.0029, loss_rpn_bbox: 0.0249, loss_cls: 0.0815, acc: 96.6846, loss_bbox: 0.2156, loss: 0.3249\n",
      "2021-01-04 04:42:23,327 - mmdet - INFO - Epoch [14][800/2001]\tlr: 5.000e-05, eta: 1 day, 11:08:55, time: 1.178, data_time: 0.013, memory: 6189, loss_rpn_cls: 0.0026, loss_rpn_bbox: 0.0297, loss_cls: 0.0854, acc: 96.4609, loss_bbox: 0.2228, loss: 0.3405\n",
      "2021-01-04 04:43:23,901 - mmdet - INFO - Epoch [14][850/2001]\tlr: 5.000e-05, eta: 1 day, 11:06:17, time: 1.204, data_time: 0.012, memory: 6189, loss_rpn_cls: 0.0022, loss_rpn_bbox: 0.0281, loss_cls: 0.0831, acc: 96.4971, loss_bbox: 0.2155, loss: 0.3290\n",
      "2021-01-04 04:44:20,603 - mmdet - INFO - Epoch [14][900/2001]\tlr: 5.000e-05, eta: 1 day, 11:03:31, time: 1.140, data_time: 0.020, memory: 6189, loss_rpn_cls: 0.0029, loss_rpn_bbox: 0.0284, loss_cls: 0.0808, acc: 96.6191, loss_bbox: 0.2148, loss: 0.3269\n",
      "2021-01-04 04:45:21,290 - mmdet - INFO - Epoch [14][950/2001]\tlr: 5.000e-05, eta: 1 day, 11:00:56, time: 1.215, data_time: 0.014, memory: 6189, loss_rpn_cls: 0.0020, loss_rpn_bbox: 0.0277, loss_cls: 0.0851, acc: 96.5215, loss_bbox: 0.2222, loss: 0.3371\n",
      "2021-01-04 04:46:21,519 - mmdet - INFO - Epoch [14][1000/2001]\tlr: 5.000e-05, eta: 1 day, 10:58:18, time: 1.201, data_time: 0.012, memory: 6189, loss_rpn_cls: 0.0028, loss_rpn_bbox: 0.0285, loss_cls: 0.0842, acc: 96.5342, loss_bbox: 0.2209, loss: 0.3364\n",
      "2021-01-04 04:47:18,546 - mmdet - INFO - Epoch [14][1050/2001]\tlr: 5.000e-05, eta: 1 day, 10:55:34, time: 1.144, data_time: 0.016, memory: 6189, loss_rpn_cls: 0.0024, loss_rpn_bbox: 0.0281, loss_cls: 0.0832, acc: 96.6016, loss_bbox: 0.2215, loss: 0.3353\n",
      "2021-01-04 04:48:18,685 - mmdet - INFO - Epoch [14][1100/2001]\tlr: 5.000e-05, eta: 1 day, 10:52:57, time: 1.198, data_time: 0.013, memory: 6189, loss_rpn_cls: 0.0029, loss_rpn_bbox: 0.0275, loss_cls: 0.0836, acc: 96.5127, loss_bbox: 0.2153, loss: 0.3294\n",
      "2021-01-04 04:49:19,181 - mmdet - INFO - Epoch [14][1150/2001]\tlr: 5.000e-05, eta: 1 day, 10:50:23, time: 1.215, data_time: 0.018, memory: 6189, loss_rpn_cls: 0.0029, loss_rpn_bbox: 0.0283, loss_cls: 0.0848, acc: 96.5107, loss_bbox: 0.2203, loss: 0.3362\n",
      "2021-01-04 04:50:17,573 - mmdet - INFO - Epoch [14][1200/2001]\tlr: 5.000e-05, eta: 1 day, 10:47:43, time: 1.166, data_time: 0.013, memory: 6189, loss_rpn_cls: 0.0027, loss_rpn_bbox: 0.0284, loss_cls: 0.0819, acc: 96.6514, loss_bbox: 0.2156, loss: 0.3285\n",
      "2021-01-04 04:51:17,673 - mmdet - INFO - Epoch [14][1250/2001]\tlr: 5.000e-05, eta: 1 day, 10:45:08, time: 1.203, data_time: 0.014, memory: 6189, loss_rpn_cls: 0.0026, loss_rpn_bbox: 0.0261, loss_cls: 0.0816, acc: 96.6328, loss_bbox: 0.2185, loss: 0.3288\n",
      "2021-01-04 04:52:15,899 - mmdet - INFO - Epoch [14][1300/2001]\tlr: 5.000e-05, eta: 1 day, 10:42:28, time: 1.161, data_time: 0.013, memory: 6189, loss_rpn_cls: 0.0025, loss_rpn_bbox: 0.0276, loss_cls: 0.0821, acc: 96.5576, loss_bbox: 0.2162, loss: 0.3285\n",
      "2021-01-04 04:53:19,360 - mmdet - INFO - Epoch [14][1350/2001]\tlr: 5.000e-05, eta: 1 day, 10:40:03, time: 1.272, data_time: 0.016, memory: 6189, loss_rpn_cls: 0.0027, loss_rpn_bbox: 0.0278, loss_cls: 0.0818, acc: 96.5635, loss_bbox: 0.2177, loss: 0.3300\n",
      "2021-01-04 04:54:18,306 - mmdet - INFO - Epoch [14][1400/2001]\tlr: 5.000e-05, eta: 1 day, 10:37:26, time: 1.179, data_time: 0.014, memory: 6189, loss_rpn_cls: 0.0019, loss_rpn_bbox: 0.0304, loss_cls: 0.0813, acc: 96.6689, loss_bbox: 0.2149, loss: 0.3285\n",
      "2021-01-04 04:55:19,015 - mmdet - INFO - Epoch [14][1450/2001]\tlr: 5.000e-05, eta: 1 day, 10:34:53, time: 1.211, data_time: 0.013, memory: 6189, loss_rpn_cls: 0.0022, loss_rpn_bbox: 0.0276, loss_cls: 0.0816, acc: 96.6543, loss_bbox: 0.2159, loss: 0.3273\n",
      "2021-01-04 04:56:16,239 - mmdet - INFO - Epoch [14][1500/2001]\tlr: 5.000e-05, eta: 1 day, 10:32:13, time: 1.148, data_time: 0.017, memory: 6189, loss_rpn_cls: 0.0021, loss_rpn_bbox: 0.0261, loss_cls: 0.0812, acc: 96.5791, loss_bbox: 0.2092, loss: 0.3186\n",
      "2021-01-04 04:57:15,479 - mmdet - INFO - Epoch [14][1550/2001]\tlr: 5.000e-05, eta: 1 day, 10:29:37, time: 1.184, data_time: 0.013, memory: 6189, loss_rpn_cls: 0.0016, loss_rpn_bbox: 0.0271, loss_cls: 0.0786, acc: 96.7891, loss_bbox: 0.2132, loss: 0.3205\n",
      "2021-01-04 04:58:15,010 - mmdet - INFO - Epoch [14][1600/2001]\tlr: 5.000e-05, eta: 1 day, 10:27:03, time: 1.191, data_time: 0.014, memory: 6189, loss_rpn_cls: 0.0024, loss_rpn_bbox: 0.0289, loss_cls: 0.0820, acc: 96.6348, loss_bbox: 0.2135, loss: 0.3269\n",
      "2021-01-04 04:59:13,797 - mmdet - INFO - Epoch [14][1650/2001]\tlr: 5.000e-05, eta: 1 day, 10:24:27, time: 1.175, data_time: 0.013, memory: 6189, loss_rpn_cls: 0.0032, loss_rpn_bbox: 0.0316, loss_cls: 0.0830, acc: 96.5771, loss_bbox: 0.2227, loss: 0.3405\n"
     ]
    },
    {
     "name": "stderr",
     "output_type": "stream",
     "text": [
      "2021-01-04 05:00:13,255 - mmdet - INFO - Epoch [14][1700/2001]\tlr: 5.000e-05, eta: 1 day, 10:21:54, time: 1.190, data_time: 0.014, memory: 6189, loss_rpn_cls: 0.0025, loss_rpn_bbox: 0.0295, loss_cls: 0.0831, acc: 96.5635, loss_bbox: 0.2189, loss: 0.3341\n",
      "2021-01-04 05:01:12,158 - mmdet - INFO - Epoch [14][1750/2001]\tlr: 5.000e-05, eta: 1 day, 10:19:19, time: 1.177, data_time: 0.014, memory: 6189, loss_rpn_cls: 0.0027, loss_rpn_bbox: 0.0289, loss_cls: 0.0843, acc: 96.5205, loss_bbox: 0.2212, loss: 0.3371\n",
      "2021-01-04 05:02:13,539 - mmdet - INFO - Epoch [14][1800/2001]\tlr: 5.000e-05, eta: 1 day, 10:16:51, time: 1.228, data_time: 0.014, memory: 6189, loss_rpn_cls: 0.0020, loss_rpn_bbox: 0.0271, loss_cls: 0.0853, acc: 96.4121, loss_bbox: 0.2206, loss: 0.3349\n",
      "2021-01-04 05:03:13,127 - mmdet - INFO - Epoch [14][1850/2001]\tlr: 5.000e-05, eta: 1 day, 10:14:18, time: 1.192, data_time: 0.013, memory: 6189, loss_rpn_cls: 0.0026, loss_rpn_bbox: 0.0296, loss_cls: 0.0845, acc: 96.5371, loss_bbox: 0.2213, loss: 0.3380\n",
      "2021-01-04 05:04:12,913 - mmdet - INFO - Epoch [14][1900/2001]\tlr: 5.000e-05, eta: 1 day, 10:11:47, time: 1.196, data_time: 0.013, memory: 6189, loss_rpn_cls: 0.0022, loss_rpn_bbox: 0.0299, loss_cls: 0.0830, acc: 96.5596, loss_bbox: 0.2246, loss: 0.3397\n",
      "2021-01-04 05:05:12,620 - mmdet - INFO - Epoch [14][1950/2001]\tlr: 5.000e-05, eta: 1 day, 10:09:16, time: 1.193, data_time: 0.013, memory: 6189, loss_rpn_cls: 0.0027, loss_rpn_bbox: 0.0307, loss_cls: 0.0817, acc: 96.5859, loss_bbox: 0.2223, loss: 0.3373\n",
      "2021-01-04 05:06:09,281 - mmdet - INFO - Epoch [14][2000/2001]\tlr: 5.000e-05, eta: 1 day, 10:06:37, time: 1.134, data_time: 0.013, memory: 6189, loss_rpn_cls: 0.0025, loss_rpn_bbox: 0.0280, loss_cls: 0.0833, acc: 96.6348, loss_bbox: 0.2189, loss: 0.3327\n",
      "2021-01-04 05:06:10,069 - mmdet - INFO - Saving checkpoint at 14 epochs\n"
     ]
    },
    {
     "name": "stdout",
     "output_type": "stream",
     "text": [
      "[>>>>>>>>>>>>>>>>>>>>>>>>>>] 2013/2013, 10.5 task/s, elapsed: 192s, ETA:     0s"
     ]
    },
    {
     "name": "stderr",
     "output_type": "stream",
     "text": [
      "2021-01-04 05:09:23,056 - mmdet - INFO - \n",
      "Evaluateing valid_44.json with 2013 images now\n",
      "2021-01-04 05:09:23,522 - mmdet - INFO - Evaluating bbox...\n"
     ]
    },
    {
     "name": "stdout",
     "output_type": "stream",
     "text": [
      "Loading and preparing results...\n",
      "DONE (t=0.24s)\n",
      "creating index...\n",
      "index created!\n",
      "Running per image evaluation...\n",
      "Evaluate annotation type *bbox*\n",
      "DONE (t=16.41s).\n",
      "Accumulating evaluation results...\n"
     ]
    },
    {
     "name": "stderr",
     "output_type": "stream",
     "text": [
      "2021-01-04 05:09:41,051 - mmdet - INFO - Epoch(val) [14][2001]\t0_bbox_mAP: 0.2860, 0_bbox_mAP_50: 0.4700, 0_bbox_mAP_75: 0.3210, 0_bbox_mAP_s: 0.2810, 0_bbox_mAP_m: 0.4650, 0_bbox_mAP_l: -1.0000, 0_bbox_mAP_copypaste: 0.286 0.470 0.321 0.281 0.465 -1.000\n"
     ]
    },
    {
     "name": "stdout",
     "output_type": "stream",
     "text": [
      "DONE (t=0.79s).\n",
      "Average Precision  (AP) @[ IoU=0.50:0.95 | area=   all | maxDets=100 ] = 0.286\n",
      "Average Precision  (AP) @[ IoU=0.50      | area=   all | maxDets=1000 ] = 0.470\n",
      "Average Precision  (AP) @[ IoU=0.75      | area=   all | maxDets=1000 ] = 0.321\n",
      "Average Precision  (AP) @[ IoU=0.50:0.95 | area= small | maxDets=1000 ] = 0.281\n",
      "Average Precision  (AP) @[ IoU=0.50:0.95 | area=medium | maxDets=1000 ] = 0.465\n",
      "Average Precision  (AP) @[ IoU=0.50:0.95 | area= large | maxDets=1000 ] = -1.000\n",
      "Average Recall     (AR) @[ IoU=0.50:0.95 | area=   all | maxDets=100 ] = 0.355\n",
      "Average Recall     (AR) @[ IoU=0.50:0.95 | area=   all | maxDets=300 ] = 0.355\n",
      "Average Recall     (AR) @[ IoU=0.50:0.95 | area=   all | maxDets=1000 ] = 0.355\n",
      "Average Recall     (AR) @[ IoU=0.50:0.95 | area= small | maxDets=1000 ] = 0.351\n",
      "Average Recall     (AR) @[ IoU=0.50:0.95 | area=medium | maxDets=1000 ] = 0.516\n",
      "Average Recall     (AR) @[ IoU=0.50:0.95 | area= large | maxDets=1000 ] = -1.000\n"
     ]
    },
    {
     "name": "stderr",
     "output_type": "stream",
     "text": [
      "2021-01-04 05:10:24,525 - mmdet - INFO - Epoch [15][50/2001]\tlr: 5.000e-05, eta: 1 day, 10:03:18, time: 0.866, data_time: 0.057, memory: 6189, loss_rpn_cls: 0.0023, loss_rpn_bbox: 0.0283, loss_cls: 0.0834, acc: 96.5537, loss_bbox: 0.2175, loss: 0.3315\n",
      "2021-01-04 05:11:05,504 - mmdet - INFO - Epoch [15][100/2001]\tlr: 5.000e-05, eta: 1 day, 10:00:00, time: 0.819, data_time: 0.010, memory: 6189, loss_rpn_cls: 0.0017, loss_rpn_bbox: 0.0269, loss_cls: 0.0828, acc: 96.5898, loss_bbox: 0.2196, loss: 0.3310\n",
      "2021-01-04 05:11:46,535 - mmdet - INFO - Epoch [15][150/2001]\tlr: 5.000e-05, eta: 1 day, 9:56:42, time: 0.820, data_time: 0.011, memory: 6189, loss_rpn_cls: 0.0028, loss_rpn_bbox: 0.0269, loss_cls: 0.0830, acc: 96.5771, loss_bbox: 0.2171, loss: 0.3298\n",
      "2021-01-04 05:12:27,646 - mmdet - INFO - Epoch [15][200/2001]\tlr: 5.000e-05, eta: 1 day, 9:53:25, time: 0.823, data_time: 0.011, memory: 6189, loss_rpn_cls: 0.0033, loss_rpn_bbox: 0.0278, loss_cls: 0.0841, acc: 96.5049, loss_bbox: 0.2224, loss: 0.3376\n",
      "2021-01-04 05:13:08,808 - mmdet - INFO - Epoch [15][250/2001]\tlr: 5.000e-05, eta: 1 day, 9:50:09, time: 0.823, data_time: 0.011, memory: 6189, loss_rpn_cls: 0.0021, loss_rpn_bbox: 0.0289, loss_cls: 0.0801, acc: 96.6514, loss_bbox: 0.2181, loss: 0.3291\n",
      "2021-01-04 05:13:49,991 - mmdet - INFO - Epoch [15][300/2001]\tlr: 5.000e-05, eta: 1 day, 9:46:54, time: 0.824, data_time: 0.010, memory: 6189, loss_rpn_cls: 0.0025, loss_rpn_bbox: 0.0279, loss_cls: 0.0861, acc: 96.4795, loss_bbox: 0.2195, loss: 0.3361\n",
      "2021-01-04 05:14:30,949 - mmdet - INFO - Epoch [15][350/2001]\tlr: 5.000e-05, eta: 1 day, 9:43:38, time: 0.819, data_time: 0.010, memory: 6189, loss_rpn_cls: 0.0016, loss_rpn_bbox: 0.0278, loss_cls: 0.0801, acc: 96.6836, loss_bbox: 0.2158, loss: 0.3253\n",
      "2021-01-04 05:15:11,892 - mmdet - INFO - Epoch [15][400/2001]\tlr: 5.000e-05, eta: 1 day, 9:40:23, time: 0.819, data_time: 0.010, memory: 6189, loss_rpn_cls: 0.0021, loss_rpn_bbox: 0.0281, loss_cls: 0.0816, acc: 96.6123, loss_bbox: 0.2174, loss: 0.3293\n",
      "2021-01-04 05:15:52,835 - mmdet - INFO - Epoch [15][450/2001]\tlr: 5.000e-05, eta: 1 day, 9:37:09, time: 0.819, data_time: 0.010, memory: 6189, loss_rpn_cls: 0.0029, loss_rpn_bbox: 0.0281, loss_cls: 0.0827, acc: 96.5498, loss_bbox: 0.2136, loss: 0.3273\n",
      "2021-01-04 05:16:33,814 - mmdet - INFO - Epoch [15][500/2001]\tlr: 5.000e-05, eta: 1 day, 9:33:55, time: 0.820, data_time: 0.011, memory: 6189, loss_rpn_cls: 0.0023, loss_rpn_bbox: 0.0273, loss_cls: 0.0825, acc: 96.5889, loss_bbox: 0.2140, loss: 0.3261\n",
      "2021-01-04 05:17:14,788 - mmdet - INFO - Epoch [15][550/2001]\tlr: 5.000e-05, eta: 1 day, 9:30:42, time: 0.819, data_time: 0.010, memory: 6189, loss_rpn_cls: 0.0026, loss_rpn_bbox: 0.0267, loss_cls: 0.0782, acc: 96.7773, loss_bbox: 0.2151, loss: 0.3225\n",
      "2021-01-04 05:17:55,711 - mmdet - INFO - Epoch [15][600/2001]\tlr: 5.000e-05, eta: 1 day, 9:27:29, time: 0.818, data_time: 0.011, memory: 6189, loss_rpn_cls: 0.0021, loss_rpn_bbox: 0.0275, loss_cls: 0.0819, acc: 96.6084, loss_bbox: 0.2146, loss: 0.3261\n",
      "2021-01-04 05:18:36,686 - mmdet - INFO - Epoch [15][650/2001]\tlr: 5.000e-05, eta: 1 day, 9:24:17, time: 0.819, data_time: 0.011, memory: 6189, loss_rpn_cls: 0.0024, loss_rpn_bbox: 0.0283, loss_cls: 0.0811, acc: 96.5850, loss_bbox: 0.2150, loss: 0.3268\n",
      "2021-01-04 05:19:17,675 - mmdet - INFO - Epoch [15][700/2001]\tlr: 5.000e-05, eta: 1 day, 9:21:05, time: 0.820, data_time: 0.011, memory: 6189, loss_rpn_cls: 0.0022, loss_rpn_bbox: 0.0283, loss_cls: 0.0790, acc: 96.7188, loss_bbox: 0.2164, loss: 0.3260\n",
      "2021-01-04 05:19:58,632 - mmdet - INFO - Epoch [15][750/2001]\tlr: 5.000e-05, eta: 1 day, 9:17:54, time: 0.819, data_time: 0.011, memory: 6189, loss_rpn_cls: 0.0024, loss_rpn_bbox: 0.0299, loss_cls: 0.0834, acc: 96.5430, loss_bbox: 0.2193, loss: 0.3350\n",
      "2021-01-04 05:20:39,567 - mmdet - INFO - Epoch [15][800/2001]\tlr: 5.000e-05, eta: 1 day, 9:14:43, time: 0.819, data_time: 0.011, memory: 6189, loss_rpn_cls: 0.0018, loss_rpn_bbox: 0.0251, loss_cls: 0.0800, acc: 96.6758, loss_bbox: 0.2094, loss: 0.3163\n",
      "2021-01-04 05:21:20,544 - mmdet - INFO - Epoch [15][850/2001]\tlr: 5.000e-05, eta: 1 day, 9:11:33, time: 0.819, data_time: 0.011, memory: 6189, loss_rpn_cls: 0.0023, loss_rpn_bbox: 0.0276, loss_cls: 0.0814, acc: 96.6406, loss_bbox: 0.2185, loss: 0.3299\n",
      "2021-01-04 05:22:01,526 - mmdet - INFO - Epoch [15][900/2001]\tlr: 5.000e-05, eta: 1 day, 9:08:23, time: 0.820, data_time: 0.011, memory: 6189, loss_rpn_cls: 0.0026, loss_rpn_bbox: 0.0274, loss_cls: 0.0822, acc: 96.6064, loss_bbox: 0.2209, loss: 0.3332\n",
      "2021-01-04 05:22:42,457 - mmdet - INFO - Epoch [15][950/2001]\tlr: 5.000e-05, eta: 1 day, 9:05:14, time: 0.819, data_time: 0.010, memory: 6189, loss_rpn_cls: 0.0027, loss_rpn_bbox: 0.0267, loss_cls: 0.0816, acc: 96.6211, loss_bbox: 0.2148, loss: 0.3258\n",
      "2021-01-04 05:23:23,423 - mmdet - INFO - Epoch [15][1000/2001]\tlr: 5.000e-05, eta: 1 day, 9:02:06, time: 0.819, data_time: 0.011, memory: 6189, loss_rpn_cls: 0.0026, loss_rpn_bbox: 0.0285, loss_cls: 0.0840, acc: 96.4766, loss_bbox: 0.2204, loss: 0.3354\n",
      "2021-01-04 05:24:04,392 - mmdet - INFO - Epoch [15][1050/2001]\tlr: 5.000e-05, eta: 1 day, 8:58:58, time: 0.819, data_time: 0.011, memory: 6189, loss_rpn_cls: 0.0015, loss_rpn_bbox: 0.0268, loss_cls: 0.0817, acc: 96.6582, loss_bbox: 0.2129, loss: 0.3230\n",
      "2021-01-04 05:24:45,370 - mmdet - INFO - Epoch [15][1100/2001]\tlr: 5.000e-05, eta: 1 day, 8:55:50, time: 0.820, data_time: 0.011, memory: 6189, loss_rpn_cls: 0.0028, loss_rpn_bbox: 0.0304, loss_cls: 0.0828, acc: 96.5986, loss_bbox: 0.2213, loss: 0.3372\n",
      "2021-01-04 05:25:26,282 - mmdet - INFO - Epoch [15][1150/2001]\tlr: 5.000e-05, eta: 1 day, 8:52:43, time: 0.818, data_time: 0.011, memory: 6189, loss_rpn_cls: 0.0023, loss_rpn_bbox: 0.0307, loss_cls: 0.0820, acc: 96.5889, loss_bbox: 0.2172, loss: 0.3323\n",
      "2021-01-04 05:26:07,243 - mmdet - INFO - Epoch [15][1200/2001]\tlr: 5.000e-05, eta: 1 day, 8:49:36, time: 0.819, data_time: 0.011, memory: 6189, loss_rpn_cls: 0.0021, loss_rpn_bbox: 0.0301, loss_cls: 0.0832, acc: 96.6055, loss_bbox: 0.2205, loss: 0.3359\n",
      "2021-01-04 05:26:48,246 - mmdet - INFO - Epoch [15][1250/2001]\tlr: 5.000e-05, eta: 1 day, 8:46:30, time: 0.820, data_time: 0.010, memory: 6189, loss_rpn_cls: 0.0018, loss_rpn_bbox: 0.0272, loss_cls: 0.0835, acc: 96.6318, loss_bbox: 0.2172, loss: 0.3298\n",
      "2021-01-04 05:27:29,170 - mmdet - INFO - Epoch [15][1300/2001]\tlr: 5.000e-05, eta: 1 day, 8:43:24, time: 0.818, data_time: 0.010, memory: 6189, loss_rpn_cls: 0.0026, loss_rpn_bbox: 0.0283, loss_cls: 0.0824, acc: 96.5537, loss_bbox: 0.2196, loss: 0.3329\n",
      "2021-01-04 05:28:10,149 - mmdet - INFO - Epoch [15][1350/2001]\tlr: 5.000e-05, eta: 1 day, 8:40:19, time: 0.820, data_time: 0.011, memory: 6189, loss_rpn_cls: 0.0024, loss_rpn_bbox: 0.0278, loss_cls: 0.0793, acc: 96.7383, loss_bbox: 0.2145, loss: 0.3239\n",
      "2021-01-04 05:28:51,080 - mmdet - INFO - Epoch [15][1400/2001]\tlr: 5.000e-05, eta: 1 day, 8:37:15, time: 0.819, data_time: 0.011, memory: 6189, loss_rpn_cls: 0.0029, loss_rpn_bbox: 0.0295, loss_cls: 0.0806, acc: 96.6426, loss_bbox: 0.2200, loss: 0.3330\n",
      "2021-01-04 05:29:32,070 - mmdet - INFO - Epoch [15][1450/2001]\tlr: 5.000e-05, eta: 1 day, 8:34:11, time: 0.820, data_time: 0.011, memory: 6189, loss_rpn_cls: 0.0026, loss_rpn_bbox: 0.0283, loss_cls: 0.0828, acc: 96.5215, loss_bbox: 0.2149, loss: 0.3286\n",
      "2021-01-04 05:30:13,031 - mmdet - INFO - Epoch [15][1500/2001]\tlr: 5.000e-05, eta: 1 day, 8:31:07, time: 0.819, data_time: 0.011, memory: 6189, loss_rpn_cls: 0.0027, loss_rpn_bbox: 0.0266, loss_cls: 0.0827, acc: 96.6045, loss_bbox: 0.2156, loss: 0.3275\n",
      "2021-01-04 05:30:53,971 - mmdet - INFO - Epoch [15][1550/2001]\tlr: 5.000e-05, eta: 1 day, 8:28:04, time: 0.819, data_time: 0.011, memory: 6189, loss_rpn_cls: 0.0020, loss_rpn_bbox: 0.0304, loss_cls: 0.0828, acc: 96.5293, loss_bbox: 0.2181, loss: 0.3332\n",
      "2021-01-04 05:31:34,918 - mmdet - INFO - Epoch [15][1600/2001]\tlr: 5.000e-05, eta: 1 day, 8:25:01, time: 0.819, data_time: 0.011, memory: 6189, loss_rpn_cls: 0.0021, loss_rpn_bbox: 0.0288, loss_cls: 0.0824, acc: 96.5674, loss_bbox: 0.2200, loss: 0.3333\n",
      "2021-01-04 05:32:15,921 - mmdet - INFO - Epoch [15][1650/2001]\tlr: 5.000e-05, eta: 1 day, 8:21:59, time: 0.820, data_time: 0.011, memory: 6189, loss_rpn_cls: 0.0022, loss_rpn_bbox: 0.0293, loss_cls: 0.0807, acc: 96.6768, loss_bbox: 0.2196, loss: 0.3318\n"
     ]
    },
    {
     "name": "stderr",
     "output_type": "stream",
     "text": [
      "2021-01-04 05:32:56,863 - mmdet - INFO - Epoch [15][1700/2001]\tlr: 5.000e-05, eta: 1 day, 8:18:57, time: 0.819, data_time: 0.011, memory: 6189, loss_rpn_cls: 0.0018, loss_rpn_bbox: 0.0311, loss_cls: 0.0851, acc: 96.5020, loss_bbox: 0.2186, loss: 0.3366\n",
      "2021-01-04 05:33:37,870 - mmdet - INFO - Epoch [15][1750/2001]\tlr: 5.000e-05, eta: 1 day, 8:15:56, time: 0.820, data_time: 0.011, memory: 6189, loss_rpn_cls: 0.0020, loss_rpn_bbox: 0.0286, loss_cls: 0.0808, acc: 96.6260, loss_bbox: 0.2192, loss: 0.3307\n",
      "2021-01-04 05:34:18,778 - mmdet - INFO - Epoch [15][1800/2001]\tlr: 5.000e-05, eta: 1 day, 8:12:55, time: 0.818, data_time: 0.011, memory: 6189, loss_rpn_cls: 0.0022, loss_rpn_bbox: 0.0286, loss_cls: 0.0819, acc: 96.6367, loss_bbox: 0.2172, loss: 0.3299\n",
      "2021-01-04 05:34:59,739 - mmdet - INFO - Epoch [15][1850/2001]\tlr: 5.000e-05, eta: 1 day, 8:09:55, time: 0.819, data_time: 0.011, memory: 6189, loss_rpn_cls: 0.0023, loss_rpn_bbox: 0.0286, loss_cls: 0.0815, acc: 96.6064, loss_bbox: 0.2178, loss: 0.3302\n",
      "2021-01-04 05:35:40,702 - mmdet - INFO - Epoch [15][1900/2001]\tlr: 5.000e-05, eta: 1 day, 8:06:55, time: 0.819, data_time: 0.011, memory: 6189, loss_rpn_cls: 0.0032, loss_rpn_bbox: 0.0318, loss_cls: 0.0811, acc: 96.6104, loss_bbox: 0.2222, loss: 0.3382\n",
      "2021-01-04 05:36:21,654 - mmdet - INFO - Epoch [15][1950/2001]\tlr: 5.000e-05, eta: 1 day, 8:03:55, time: 0.819, data_time: 0.011, memory: 6189, loss_rpn_cls: 0.0021, loss_rpn_bbox: 0.0260, loss_cls: 0.0831, acc: 96.5742, loss_bbox: 0.2156, loss: 0.3269\n",
      "2021-01-04 05:37:02,615 - mmdet - INFO - Epoch [15][2000/2001]\tlr: 5.000e-05, eta: 1 day, 8:00:56, time: 0.819, data_time: 0.011, memory: 6189, loss_rpn_cls: 0.0022, loss_rpn_bbox: 0.0273, loss_cls: 0.0816, acc: 96.6396, loss_bbox: 0.2158, loss: 0.3269\n",
      "2021-01-04 05:37:03,326 - mmdet - INFO - Saving checkpoint at 15 epochs\n"
     ]
    },
    {
     "name": "stdout",
     "output_type": "stream",
     "text": [
      "[>>>>>>>>>>>>>>>>>>>>>>>>>>] 2013/2013, 11.1 task/s, elapsed: 181s, ETA:     0s"
     ]
    },
    {
     "name": "stderr",
     "output_type": "stream",
     "text": [
      "2021-01-04 05:40:05,137 - mmdet - INFO - \n",
      "Evaluateing valid_44.json with 2013 images now\n",
      "2021-01-04 05:40:05,608 - mmdet - INFO - Evaluating bbox...\n"
     ]
    },
    {
     "name": "stdout",
     "output_type": "stream",
     "text": [
      "Loading and preparing results...\n",
      "DONE (t=0.26s)\n",
      "creating index...\n",
      "index created!\n",
      "Running per image evaluation...\n",
      "Evaluate annotation type *bbox*\n",
      "DONE (t=16.62s).\n",
      "Accumulating evaluation results...\n"
     ]
    },
    {
     "name": "stderr",
     "output_type": "stream",
     "text": [
      "2021-01-04 05:40:23,350 - mmdet - INFO - Epoch(val) [15][2001]\t0_bbox_mAP: 0.2860, 0_bbox_mAP_50: 0.4700, 0_bbox_mAP_75: 0.3200, 0_bbox_mAP_s: 0.2800, 0_bbox_mAP_m: 0.4630, 0_bbox_mAP_l: -1.0000, 0_bbox_mAP_copypaste: 0.286 0.470 0.320 0.280 0.463 -1.000\n"
     ]
    },
    {
     "name": "stdout",
     "output_type": "stream",
     "text": [
      "DONE (t=0.79s).\n",
      "Average Precision  (AP) @[ IoU=0.50:0.95 | area=   all | maxDets=100 ] = 0.286\n",
      "Average Precision  (AP) @[ IoU=0.50      | area=   all | maxDets=1000 ] = 0.470\n",
      "Average Precision  (AP) @[ IoU=0.75      | area=   all | maxDets=1000 ] = 0.320\n",
      "Average Precision  (AP) @[ IoU=0.50:0.95 | area= small | maxDets=1000 ] = 0.280\n",
      "Average Precision  (AP) @[ IoU=0.50:0.95 | area=medium | maxDets=1000 ] = 0.463\n",
      "Average Precision  (AP) @[ IoU=0.50:0.95 | area= large | maxDets=1000 ] = -1.000\n",
      "Average Recall     (AR) @[ IoU=0.50:0.95 | area=   all | maxDets=100 ] = 0.354\n",
      "Average Recall     (AR) @[ IoU=0.50:0.95 | area=   all | maxDets=300 ] = 0.354\n",
      "Average Recall     (AR) @[ IoU=0.50:0.95 | area=   all | maxDets=1000 ] = 0.354\n",
      "Average Recall     (AR) @[ IoU=0.50:0.95 | area= small | maxDets=1000 ] = 0.350\n",
      "Average Recall     (AR) @[ IoU=0.50:0.95 | area=medium | maxDets=1000 ] = 0.512\n",
      "Average Recall     (AR) @[ IoU=0.50:0.95 | area= large | maxDets=1000 ] = -1.000\n"
     ]
    },
    {
     "name": "stderr",
     "output_type": "stream",
     "text": [
      "2021-01-04 05:41:06,948 - mmdet - INFO - Epoch [16][50/2001]\tlr: 5.000e-05, eta: 1 day, 7:57:58, time: 0.868, data_time: 0.057, memory: 6189, loss_rpn_cls: 0.0019, loss_rpn_bbox: 0.0254, loss_cls: 0.0804, acc: 96.6826, loss_bbox: 0.2111, loss: 0.3189\n",
      "2021-01-04 05:41:47,934 - mmdet - INFO - Epoch [16][100/2001]\tlr: 5.000e-05, eta: 1 day, 7:55:00, time: 0.820, data_time: 0.010, memory: 6189, loss_rpn_cls: 0.0019, loss_rpn_bbox: 0.0289, loss_cls: 0.0805, acc: 96.6562, loss_bbox: 0.2113, loss: 0.3226\n",
      "2021-01-04 05:42:28,904 - mmdet - INFO - Epoch [16][150/2001]\tlr: 5.000e-05, eta: 1 day, 7:52:03, time: 0.819, data_time: 0.010, memory: 6189, loss_rpn_cls: 0.0025, loss_rpn_bbox: 0.0280, loss_cls: 0.0815, acc: 96.5898, loss_bbox: 0.2120, loss: 0.3240\n",
      "2021-01-04 05:43:09,839 - mmdet - INFO - Epoch [16][200/2001]\tlr: 5.000e-05, eta: 1 day, 7:49:05, time: 0.819, data_time: 0.010, memory: 6189, loss_rpn_cls: 0.0034, loss_rpn_bbox: 0.0294, loss_cls: 0.0801, acc: 96.7109, loss_bbox: 0.2168, loss: 0.3298\n",
      "2021-01-04 05:43:50,808 - mmdet - INFO - Epoch [16][250/2001]\tlr: 5.000e-05, eta: 1 day, 7:46:09, time: 0.819, data_time: 0.010, memory: 6189, loss_rpn_cls: 0.0031, loss_rpn_bbox: 0.0288, loss_cls: 0.0849, acc: 96.4854, loss_bbox: 0.2237, loss: 0.3404\n",
      "2021-01-04 05:44:31,754 - mmdet - INFO - Epoch [16][300/2001]\tlr: 5.000e-05, eta: 1 day, 7:43:13, time: 0.819, data_time: 0.010, memory: 6189, loss_rpn_cls: 0.0024, loss_rpn_bbox: 0.0285, loss_cls: 0.0819, acc: 96.5811, loss_bbox: 0.2201, loss: 0.3329\n",
      "2021-01-04 05:45:12,726 - mmdet - INFO - Epoch [16][350/2001]\tlr: 5.000e-05, eta: 1 day, 7:40:17, time: 0.819, data_time: 0.011, memory: 6189, loss_rpn_cls: 0.0027, loss_rpn_bbox: 0.0300, loss_cls: 0.0791, acc: 96.7803, loss_bbox: 0.2187, loss: 0.3305\n",
      "2021-01-04 05:45:53,706 - mmdet - INFO - Epoch [16][400/2001]\tlr: 5.000e-05, eta: 1 day, 7:37:22, time: 0.820, data_time: 0.010, memory: 6189, loss_rpn_cls: 0.0012, loss_rpn_bbox: 0.0269, loss_cls: 0.0797, acc: 96.7051, loss_bbox: 0.2113, loss: 0.3192\n",
      "2021-01-04 05:46:34,636 - mmdet - INFO - Epoch [16][450/2001]\tlr: 5.000e-05, eta: 1 day, 7:34:27, time: 0.819, data_time: 0.010, memory: 6189, loss_rpn_cls: 0.0024, loss_rpn_bbox: 0.0277, loss_cls: 0.0829, acc: 96.5869, loss_bbox: 0.2182, loss: 0.3312\n",
      "2021-01-04 05:47:15,600 - mmdet - INFO - Epoch [16][500/2001]\tlr: 5.000e-05, eta: 1 day, 7:31:32, time: 0.819, data_time: 0.010, memory: 6189, loss_rpn_cls: 0.0022, loss_rpn_bbox: 0.0280, loss_cls: 0.0800, acc: 96.6689, loss_bbox: 0.2148, loss: 0.3250\n",
      "2021-01-04 05:47:56,558 - mmdet - INFO - Epoch [16][550/2001]\tlr: 5.000e-05, eta: 1 day, 7:28:38, time: 0.819, data_time: 0.010, memory: 6189, loss_rpn_cls: 0.0024, loss_rpn_bbox: 0.0267, loss_cls: 0.0816, acc: 96.5547, loss_bbox: 0.2180, loss: 0.3287\n",
      "2021-01-04 05:48:37,502 - mmdet - INFO - Epoch [16][600/2001]\tlr: 5.000e-05, eta: 1 day, 7:25:44, time: 0.819, data_time: 0.011, memory: 6189, loss_rpn_cls: 0.0017, loss_rpn_bbox: 0.0277, loss_cls: 0.0845, acc: 96.4863, loss_bbox: 0.2158, loss: 0.3297\n",
      "2021-01-04 05:49:18,490 - mmdet - INFO - Epoch [16][650/2001]\tlr: 5.000e-05, eta: 1 day, 7:22:51, time: 0.820, data_time: 0.011, memory: 6189, loss_rpn_cls: 0.0032, loss_rpn_bbox: 0.0285, loss_cls: 0.0788, acc: 96.7256, loss_bbox: 0.2093, loss: 0.3198\n",
      "2021-01-04 05:49:59,432 - mmdet - INFO - Epoch [16][700/2001]\tlr: 5.000e-05, eta: 1 day, 7:19:59, time: 0.819, data_time: 0.010, memory: 6189, loss_rpn_cls: 0.0028, loss_rpn_bbox: 0.0289, loss_cls: 0.0819, acc: 96.5518, loss_bbox: 0.2182, loss: 0.3318\n",
      "2021-01-04 05:50:40,389 - mmdet - INFO - Epoch [16][750/2001]\tlr: 5.000e-05, eta: 1 day, 7:17:06, time: 0.819, data_time: 0.010, memory: 6189, loss_rpn_cls: 0.0019, loss_rpn_bbox: 0.0301, loss_cls: 0.0800, acc: 96.6885, loss_bbox: 0.2178, loss: 0.3297\n",
      "2021-01-04 05:51:21,354 - mmdet - INFO - Epoch [16][800/2001]\tlr: 5.000e-05, eta: 1 day, 7:14:14, time: 0.819, data_time: 0.010, memory: 6189, loss_rpn_cls: 0.0025, loss_rpn_bbox: 0.0287, loss_cls: 0.0823, acc: 96.5850, loss_bbox: 0.2160, loss: 0.3295\n",
      "2021-01-04 05:52:02,320 - mmdet - INFO - Epoch [16][850/2001]\tlr: 5.000e-05, eta: 1 day, 7:11:23, time: 0.819, data_time: 0.010, memory: 6189, loss_rpn_cls: 0.0024, loss_rpn_bbox: 0.0268, loss_cls: 0.0816, acc: 96.6191, loss_bbox: 0.2154, loss: 0.3263\n",
      "2021-01-04 05:52:43,287 - mmdet - INFO - Epoch [16][900/2001]\tlr: 5.000e-05, eta: 1 day, 7:08:32, time: 0.819, data_time: 0.010, memory: 6189, loss_rpn_cls: 0.0029, loss_rpn_bbox: 0.0291, loss_cls: 0.0846, acc: 96.4863, loss_bbox: 0.2193, loss: 0.3359\n",
      "2021-01-04 05:53:24,251 - mmdet - INFO - Epoch [16][950/2001]\tlr: 5.000e-05, eta: 1 day, 7:05:41, time: 0.819, data_time: 0.010, memory: 6189, loss_rpn_cls: 0.0025, loss_rpn_bbox: 0.0276, loss_cls: 0.0812, acc: 96.5762, loss_bbox: 0.2167, loss: 0.3279\n",
      "2021-01-04 05:54:05,189 - mmdet - INFO - Epoch [16][1000/2001]\tlr: 5.000e-05, eta: 1 day, 7:02:51, time: 0.819, data_time: 0.010, memory: 6189, loss_rpn_cls: 0.0029, loss_rpn_bbox: 0.0288, loss_cls: 0.0844, acc: 96.5234, loss_bbox: 0.2186, loss: 0.3348\n",
      "2021-01-04 05:54:46,147 - mmdet - INFO - Epoch [16][1050/2001]\tlr: 5.000e-05, eta: 1 day, 7:00:01, time: 0.819, data_time: 0.011, memory: 6189, loss_rpn_cls: 0.0030, loss_rpn_bbox: 0.0275, loss_cls: 0.0835, acc: 96.5498, loss_bbox: 0.2190, loss: 0.3330\n",
      "2021-01-04 05:55:27,150 - mmdet - INFO - Epoch [16][1100/2001]\tlr: 5.000e-05, eta: 1 day, 6:57:12, time: 0.820, data_time: 0.010, memory: 6189, loss_rpn_cls: 0.0025, loss_rpn_bbox: 0.0297, loss_cls: 0.0850, acc: 96.5186, loss_bbox: 0.2254, loss: 0.3425\n",
      "2021-01-04 05:56:08,090 - mmdet - INFO - Epoch [16][1150/2001]\tlr: 5.000e-05, eta: 1 day, 6:54:23, time: 0.819, data_time: 0.010, memory: 6189, loss_rpn_cls: 0.0030, loss_rpn_bbox: 0.0278, loss_cls: 0.0804, acc: 96.6250, loss_bbox: 0.2150, loss: 0.3262\n",
      "2021-01-04 05:56:49,053 - mmdet - INFO - Epoch [16][1200/2001]\tlr: 5.000e-05, eta: 1 day, 6:51:35, time: 0.819, data_time: 0.010, memory: 6189, loss_rpn_cls: 0.0018, loss_rpn_bbox: 0.0286, loss_cls: 0.0834, acc: 96.6045, loss_bbox: 0.2223, loss: 0.3360\n",
      "2021-01-04 05:57:29,998 - mmdet - INFO - Epoch [16][1250/2001]\tlr: 5.000e-05, eta: 1 day, 6:48:47, time: 0.819, data_time: 0.010, memory: 6189, loss_rpn_cls: 0.0020, loss_rpn_bbox: 0.0297, loss_cls: 0.0859, acc: 96.4854, loss_bbox: 0.2216, loss: 0.3393\n",
      "2021-01-04 05:58:10,961 - mmdet - INFO - Epoch [16][1300/2001]\tlr: 5.000e-05, eta: 1 day, 6:45:59, time: 0.819, data_time: 0.011, memory: 6189, loss_rpn_cls: 0.0023, loss_rpn_bbox: 0.0269, loss_cls: 0.0839, acc: 96.4961, loss_bbox: 0.2206, loss: 0.3337\n",
      "2021-01-04 05:58:51,937 - mmdet - INFO - Epoch [16][1350/2001]\tlr: 5.000e-05, eta: 1 day, 6:43:12, time: 0.820, data_time: 0.011, memory: 6189, loss_rpn_cls: 0.0021, loss_rpn_bbox: 0.0285, loss_cls: 0.0798, acc: 96.7041, loss_bbox: 0.2173, loss: 0.3276\n",
      "2021-01-04 05:59:32,882 - mmdet - INFO - Epoch [16][1400/2001]\tlr: 5.000e-05, eta: 1 day, 6:40:25, time: 0.819, data_time: 0.010, memory: 6189, loss_rpn_cls: 0.0026, loss_rpn_bbox: 0.0289, loss_cls: 0.0785, acc: 96.7803, loss_bbox: 0.2149, loss: 0.3248\n",
      "2021-01-04 06:00:13,844 - mmdet - INFO - Epoch [16][1450/2001]\tlr: 5.000e-05, eta: 1 day, 6:37:38, time: 0.819, data_time: 0.010, memory: 6189, loss_rpn_cls: 0.0027, loss_rpn_bbox: 0.0275, loss_cls: 0.0805, acc: 96.6387, loss_bbox: 0.2176, loss: 0.3284\n",
      "2021-01-04 06:00:54,834 - mmdet - INFO - Epoch [16][1500/2001]\tlr: 5.000e-05, eta: 1 day, 6:34:52, time: 0.820, data_time: 0.010, memory: 6189, loss_rpn_cls: 0.0029, loss_rpn_bbox: 0.0286, loss_cls: 0.0821, acc: 96.6279, loss_bbox: 0.2176, loss: 0.3312\n",
      "2021-01-04 06:01:35,776 - mmdet - INFO - Epoch [16][1550/2001]\tlr: 5.000e-05, eta: 1 day, 6:32:06, time: 0.819, data_time: 0.011, memory: 6189, loss_rpn_cls: 0.0024, loss_rpn_bbox: 0.0278, loss_cls: 0.0816, acc: 96.5762, loss_bbox: 0.2151, loss: 0.3269\n",
      "2021-01-04 06:02:16,740 - mmdet - INFO - Epoch [16][1600/2001]\tlr: 5.000e-05, eta: 1 day, 6:29:21, time: 0.819, data_time: 0.010, memory: 6189, loss_rpn_cls: 0.0029, loss_rpn_bbox: 0.0274, loss_cls: 0.0827, acc: 96.5898, loss_bbox: 0.2210, loss: 0.3340\n",
      "2021-01-04 06:02:57,678 - mmdet - INFO - Epoch [16][1650/2001]\tlr: 5.000e-05, eta: 1 day, 6:26:36, time: 0.819, data_time: 0.011, memory: 6189, loss_rpn_cls: 0.0024, loss_rpn_bbox: 0.0293, loss_cls: 0.0825, acc: 96.5986, loss_bbox: 0.2192, loss: 0.3335\n"
     ]
    },
    {
     "name": "stderr",
     "output_type": "stream",
     "text": [
      "2021-01-04 06:03:38,637 - mmdet - INFO - Epoch [16][1700/2001]\tlr: 5.000e-05, eta: 1 day, 6:23:52, time: 0.819, data_time: 0.011, memory: 6189, loss_rpn_cls: 0.0033, loss_rpn_bbox: 0.0294, loss_cls: 0.0818, acc: 96.6016, loss_bbox: 0.2169, loss: 0.3313\n",
      "2021-01-04 06:04:19,605 - mmdet - INFO - Epoch [16][1750/2001]\tlr: 5.000e-05, eta: 1 day, 6:21:07, time: 0.819, data_time: 0.011, memory: 6189, loss_rpn_cls: 0.0023, loss_rpn_bbox: 0.0260, loss_cls: 0.0819, acc: 96.5947, loss_bbox: 0.2170, loss: 0.3272\n",
      "2021-01-04 06:05:00,552 - mmdet - INFO - Epoch [16][1800/2001]\tlr: 5.000e-05, eta: 1 day, 6:18:24, time: 0.819, data_time: 0.011, memory: 6189, loss_rpn_cls: 0.0025, loss_rpn_bbox: 0.0310, loss_cls: 0.0795, acc: 96.6699, loss_bbox: 0.2123, loss: 0.3253\n",
      "2021-01-04 06:05:41,526 - mmdet - INFO - Epoch [16][1850/2001]\tlr: 5.000e-05, eta: 1 day, 6:15:40, time: 0.819, data_time: 0.011, memory: 6189, loss_rpn_cls: 0.0024, loss_rpn_bbox: 0.0292, loss_cls: 0.0791, acc: 96.7070, loss_bbox: 0.2149, loss: 0.3256\n",
      "2021-01-04 06:06:22,506 - mmdet - INFO - Epoch [16][1900/2001]\tlr: 5.000e-05, eta: 1 day, 6:12:57, time: 0.820, data_time: 0.010, memory: 6189, loss_rpn_cls: 0.0027, loss_rpn_bbox: 0.0260, loss_cls: 0.0861, acc: 96.4805, loss_bbox: 0.2220, loss: 0.3368\n",
      "2021-01-04 06:07:03,440 - mmdet - INFO - Epoch [16][1950/2001]\tlr: 5.000e-05, eta: 1 day, 6:10:15, time: 0.819, data_time: 0.011, memory: 6189, loss_rpn_cls: 0.0022, loss_rpn_bbox: 0.0292, loss_cls: 0.0815, acc: 96.6689, loss_bbox: 0.2219, loss: 0.3348\n",
      "2021-01-04 06:07:44,423 - mmdet - INFO - Epoch [16][2000/2001]\tlr: 5.000e-05, eta: 1 day, 6:07:32, time: 0.820, data_time: 0.011, memory: 6189, loss_rpn_cls: 0.0026, loss_rpn_bbox: 0.0272, loss_cls: 0.0843, acc: 96.4639, loss_bbox: 0.2162, loss: 0.3303\n",
      "2021-01-04 06:07:45,153 - mmdet - INFO - Saving checkpoint at 16 epochs\n"
     ]
    },
    {
     "name": "stdout",
     "output_type": "stream",
     "text": [
      "[>>>>>>>>>>>>>>>>>>>>>>>>>>] 2013/2013, 11.1 task/s, elapsed: 181s, ETA:     0s"
     ]
    },
    {
     "name": "stderr",
     "output_type": "stream",
     "text": [
      "2021-01-04 06:10:46,725 - mmdet - INFO - \n",
      "Evaluateing valid_44.json with 2013 images now\n",
      "2021-01-04 06:10:47,338 - mmdet - INFO - Evaluating bbox...\n"
     ]
    },
    {
     "name": "stdout",
     "output_type": "stream",
     "text": [
      "Loading and preparing results...\n",
      "DONE (t=0.10s)\n",
      "creating index...\n",
      "index created!\n",
      "Running per image evaluation...\n",
      "Evaluate annotation type *bbox*\n",
      "DONE (t=16.01s).\n",
      "Accumulating evaluation results...\n"
     ]
    },
    {
     "name": "stderr",
     "output_type": "stream",
     "text": [
      "2021-01-04 06:11:04,248 - mmdet - INFO - Epoch(val) [16][2001]\t0_bbox_mAP: 0.2850, 0_bbox_mAP_50: 0.4690, 0_bbox_mAP_75: 0.3200, 0_bbox_mAP_s: 0.2790, 0_bbox_mAP_m: 0.4630, 0_bbox_mAP_l: -1.0000, 0_bbox_mAP_copypaste: 0.285 0.469 0.320 0.279 0.463 -1.000\n"
     ]
    },
    {
     "name": "stdout",
     "output_type": "stream",
     "text": [
      "DONE (t=0.72s).\n",
      "Average Precision  (AP) @[ IoU=0.50:0.95 | area=   all | maxDets=100 ] = 0.285\n",
      "Average Precision  (AP) @[ IoU=0.50      | area=   all | maxDets=1000 ] = 0.469\n",
      "Average Precision  (AP) @[ IoU=0.75      | area=   all | maxDets=1000 ] = 0.320\n",
      "Average Precision  (AP) @[ IoU=0.50:0.95 | area= small | maxDets=1000 ] = 0.279\n",
      "Average Precision  (AP) @[ IoU=0.50:0.95 | area=medium | maxDets=1000 ] = 0.463\n",
      "Average Precision  (AP) @[ IoU=0.50:0.95 | area= large | maxDets=1000 ] = -1.000\n",
      "Average Recall     (AR) @[ IoU=0.50:0.95 | area=   all | maxDets=100 ] = 0.353\n",
      "Average Recall     (AR) @[ IoU=0.50:0.95 | area=   all | maxDets=300 ] = 0.353\n",
      "Average Recall     (AR) @[ IoU=0.50:0.95 | area=   all | maxDets=1000 ] = 0.353\n",
      "Average Recall     (AR) @[ IoU=0.50:0.95 | area= small | maxDets=1000 ] = 0.349\n",
      "Average Recall     (AR) @[ IoU=0.50:0.95 | area=medium | maxDets=1000 ] = 0.514\n",
      "Average Recall     (AR) @[ IoU=0.50:0.95 | area= large | maxDets=1000 ] = -1.000\n"
     ]
    },
    {
     "name": "stderr",
     "output_type": "stream",
     "text": [
      "2021-01-04 06:11:47,737 - mmdet - INFO - Epoch [17][50/2001]\tlr: 5.000e-05, eta: 1 day, 6:04:51, time: 0.866, data_time: 0.056, memory: 6189, loss_rpn_cls: 0.0021, loss_rpn_bbox: 0.0290, loss_cls: 0.0777, acc: 96.7988, loss_bbox: 0.2105, loss: 0.3194\n",
      "2021-01-04 06:12:28,664 - mmdet - INFO - Epoch [17][100/2001]\tlr: 5.000e-05, eta: 1 day, 6:02:09, time: 0.819, data_time: 0.010, memory: 6189, loss_rpn_cls: 0.0022, loss_rpn_bbox: 0.0290, loss_cls: 0.0805, acc: 96.6211, loss_bbox: 0.2194, loss: 0.3311\n",
      "2021-01-04 06:13:09,661 - mmdet - INFO - Epoch [17][150/2001]\tlr: 5.000e-05, eta: 1 day, 5:59:28, time: 0.820, data_time: 0.010, memory: 6189, loss_rpn_cls: 0.0027, loss_rpn_bbox: 0.0283, loss_cls: 0.0809, acc: 96.6621, loss_bbox: 0.2174, loss: 0.3293\n",
      "2021-01-04 06:13:50,588 - mmdet - INFO - Epoch [17][200/2001]\tlr: 5.000e-05, eta: 1 day, 5:56:47, time: 0.819, data_time: 0.010, memory: 6189, loss_rpn_cls: 0.0030, loss_rpn_bbox: 0.0279, loss_cls: 0.0838, acc: 96.5537, loss_bbox: 0.2232, loss: 0.3379\n",
      "2021-01-04 06:14:31,592 - mmdet - INFO - Epoch [17][250/2001]\tlr: 5.000e-05, eta: 1 day, 5:54:07, time: 0.820, data_time: 0.010, memory: 6189, loss_rpn_cls: 0.0019, loss_rpn_bbox: 0.0268, loss_cls: 0.0812, acc: 96.6074, loss_bbox: 0.2162, loss: 0.3260\n",
      "2021-01-04 06:15:12,511 - mmdet - INFO - Epoch [17][300/2001]\tlr: 5.000e-05, eta: 1 day, 5:51:27, time: 0.818, data_time: 0.010, memory: 6189, loss_rpn_cls: 0.0020, loss_rpn_bbox: 0.0271, loss_cls: 0.0789, acc: 96.7568, loss_bbox: 0.2146, loss: 0.3226\n",
      "2021-01-04 06:15:53,487 - mmdet - INFO - Epoch [17][350/2001]\tlr: 5.000e-05, eta: 1 day, 5:48:47, time: 0.819, data_time: 0.010, memory: 6189, loss_rpn_cls: 0.0027, loss_rpn_bbox: 0.0293, loss_cls: 0.0801, acc: 96.7070, loss_bbox: 0.2175, loss: 0.3296\n",
      "2021-01-04 06:16:34,463 - mmdet - INFO - Epoch [17][400/2001]\tlr: 5.000e-05, eta: 1 day, 5:46:08, time: 0.820, data_time: 0.010, memory: 6189, loss_rpn_cls: 0.0028, loss_rpn_bbox: 0.0272, loss_cls: 0.0823, acc: 96.5449, loss_bbox: 0.2151, loss: 0.3274\n",
      "2021-01-04 06:17:15,423 - mmdet - INFO - Epoch [17][450/2001]\tlr: 5.000e-05, eta: 1 day, 5:43:29, time: 0.819, data_time: 0.010, memory: 6189, loss_rpn_cls: 0.0025, loss_rpn_bbox: 0.0251, loss_cls: 0.0800, acc: 96.7021, loss_bbox: 0.2109, loss: 0.3186\n",
      "2021-01-04 06:17:56,381 - mmdet - INFO - Epoch [17][500/2001]\tlr: 5.000e-05, eta: 1 day, 5:40:51, time: 0.819, data_time: 0.010, memory: 6189, loss_rpn_cls: 0.0026, loss_rpn_bbox: 0.0286, loss_cls: 0.0813, acc: 96.5391, loss_bbox: 0.2221, loss: 0.3347\n",
      "2021-01-04 06:18:37,340 - mmdet - INFO - Epoch [17][550/2001]\tlr: 5.000e-05, eta: 1 day, 5:38:13, time: 0.819, data_time: 0.011, memory: 6189, loss_rpn_cls: 0.0018, loss_rpn_bbox: 0.0279, loss_cls: 0.0808, acc: 96.5850, loss_bbox: 0.2170, loss: 0.3276\n",
      "2021-01-04 06:19:18,309 - mmdet - INFO - Epoch [17][600/2001]\tlr: 5.000e-05, eta: 1 day, 5:35:35, time: 0.819, data_time: 0.011, memory: 6189, loss_rpn_cls: 0.0022, loss_rpn_bbox: 0.0283, loss_cls: 0.0806, acc: 96.6787, loss_bbox: 0.2175, loss: 0.3286\n",
      "2021-01-04 06:19:59,273 - mmdet - INFO - Epoch [17][650/2001]\tlr: 5.000e-05, eta: 1 day, 5:32:57, time: 0.819, data_time: 0.011, memory: 6189, loss_rpn_cls: 0.0024, loss_rpn_bbox: 0.0249, loss_cls: 0.0822, acc: 96.5654, loss_bbox: 0.2104, loss: 0.3199\n",
      "2021-01-04 06:20:40,205 - mmdet - INFO - Epoch [17][700/2001]\tlr: 5.000e-05, eta: 1 day, 5:30:20, time: 0.819, data_time: 0.010, memory: 6189, loss_rpn_cls: 0.0025, loss_rpn_bbox: 0.0291, loss_cls: 0.0793, acc: 96.6865, loss_bbox: 0.2128, loss: 0.3237\n",
      "2021-01-04 06:21:21,193 - mmdet - INFO - Epoch [17][750/2001]\tlr: 5.000e-05, eta: 1 day, 5:27:43, time: 0.820, data_time: 0.010, memory: 6189, loss_rpn_cls: 0.0028, loss_rpn_bbox: 0.0293, loss_cls: 0.0818, acc: 96.6182, loss_bbox: 0.2186, loss: 0.3325\n",
      "2021-01-04 06:22:02,151 - mmdet - INFO - Epoch [17][800/2001]\tlr: 5.000e-05, eta: 1 day, 5:25:07, time: 0.819, data_time: 0.010, memory: 6189, loss_rpn_cls: 0.0018, loss_rpn_bbox: 0.0290, loss_cls: 0.0802, acc: 96.6475, loss_bbox: 0.2174, loss: 0.3284\n",
      "2021-01-04 06:22:43,124 - mmdet - INFO - Epoch [17][850/2001]\tlr: 5.000e-05, eta: 1 day, 5:22:31, time: 0.820, data_time: 0.011, memory: 6189, loss_rpn_cls: 0.0026, loss_rpn_bbox: 0.0294, loss_cls: 0.0825, acc: 96.5811, loss_bbox: 0.2195, loss: 0.3340\n",
      "2021-01-04 06:23:24,050 - mmdet - INFO - Epoch [17][900/2001]\tlr: 5.000e-05, eta: 1 day, 5:19:55, time: 0.819, data_time: 0.010, memory: 6189, loss_rpn_cls: 0.0026, loss_rpn_bbox: 0.0298, loss_cls: 0.0847, acc: 96.4688, loss_bbox: 0.2237, loss: 0.3408\n",
      "2021-01-04 06:24:05,094 - mmdet - INFO - Epoch [17][950/2001]\tlr: 5.000e-05, eta: 1 day, 5:17:20, time: 0.821, data_time: 0.010, memory: 6189, loss_rpn_cls: 0.0026, loss_rpn_bbox: 0.0296, loss_cls: 0.0852, acc: 96.4883, loss_bbox: 0.2250, loss: 0.3423\n",
      "2021-01-04 06:24:45,989 - mmdet - INFO - Epoch [17][1000/2001]\tlr: 5.000e-05, eta: 1 day, 5:14:45, time: 0.818, data_time: 0.010, memory: 6189, loss_rpn_cls: 0.0027, loss_rpn_bbox: 0.0305, loss_cls: 0.0811, acc: 96.6445, loss_bbox: 0.2199, loss: 0.3342\n",
      "2021-01-04 06:25:26,934 - mmdet - INFO - Epoch [17][1050/2001]\tlr: 5.000e-05, eta: 1 day, 5:12:10, time: 0.819, data_time: 0.010, memory: 6189, loss_rpn_cls: 0.0024, loss_rpn_bbox: 0.0265, loss_cls: 0.0811, acc: 96.6738, loss_bbox: 0.2118, loss: 0.3219\n",
      "2021-01-04 06:26:07,897 - mmdet - INFO - Epoch [17][1100/2001]\tlr: 5.000e-05, eta: 1 day, 5:09:36, time: 0.819, data_time: 0.010, memory: 6189, loss_rpn_cls: 0.0023, loss_rpn_bbox: 0.0280, loss_cls: 0.0820, acc: 96.5547, loss_bbox: 0.2209, loss: 0.3332\n",
      "2021-01-04 06:26:48,858 - mmdet - INFO - Epoch [17][1150/2001]\tlr: 5.000e-05, eta: 1 day, 5:07:02, time: 0.819, data_time: 0.010, memory: 6189, loss_rpn_cls: 0.0026, loss_rpn_bbox: 0.0315, loss_cls: 0.0806, acc: 96.7051, loss_bbox: 0.2171, loss: 0.3318\n",
      "2021-01-04 06:27:29,827 - mmdet - INFO - Epoch [17][1200/2001]\tlr: 5.000e-05, eta: 1 day, 5:04:29, time: 0.819, data_time: 0.010, memory: 6189, loss_rpn_cls: 0.0031, loss_rpn_bbox: 0.0276, loss_cls: 0.0851, acc: 96.5371, loss_bbox: 0.2166, loss: 0.3324\n",
      "2021-01-04 06:28:10,773 - mmdet - INFO - Epoch [17][1250/2001]\tlr: 5.000e-05, eta: 1 day, 5:01:55, time: 0.819, data_time: 0.010, memory: 6189, loss_rpn_cls: 0.0022, loss_rpn_bbox: 0.0296, loss_cls: 0.0822, acc: 96.6309, loss_bbox: 0.2173, loss: 0.3312\n",
      "2021-01-04 06:28:51,730 - mmdet - INFO - Epoch [17][1300/2001]\tlr: 5.000e-05, eta: 1 day, 4:59:22, time: 0.819, data_time: 0.010, memory: 6189, loss_rpn_cls: 0.0024, loss_rpn_bbox: 0.0286, loss_cls: 0.0796, acc: 96.7373, loss_bbox: 0.2124, loss: 0.3231\n",
      "2021-01-04 06:29:32,697 - mmdet - INFO - Epoch [17][1350/2001]\tlr: 5.000e-05, eta: 1 day, 4:56:50, time: 0.819, data_time: 0.010, memory: 6189, loss_rpn_cls: 0.0025, loss_rpn_bbox: 0.0304, loss_cls: 0.0782, acc: 96.7773, loss_bbox: 0.2153, loss: 0.3264\n",
      "2021-01-04 06:30:13,666 - mmdet - INFO - Epoch [17][1400/2001]\tlr: 5.000e-05, eta: 1 day, 4:54:17, time: 0.819, data_time: 0.010, memory: 6189, loss_rpn_cls: 0.0031, loss_rpn_bbox: 0.0286, loss_cls: 0.0812, acc: 96.6621, loss_bbox: 0.2183, loss: 0.3311\n",
      "2021-01-04 06:30:54,658 - mmdet - INFO - Epoch [17][1450/2001]\tlr: 5.000e-05, eta: 1 day, 4:51:46, time: 0.820, data_time: 0.010, memory: 6189, loss_rpn_cls: 0.0022, loss_rpn_bbox: 0.0272, loss_cls: 0.0836, acc: 96.5459, loss_bbox: 0.2183, loss: 0.3312\n",
      "2021-01-04 06:31:35,589 - mmdet - INFO - Epoch [17][1500/2001]\tlr: 5.000e-05, eta: 1 day, 4:49:14, time: 0.818, data_time: 0.010, memory: 6189, loss_rpn_cls: 0.0024, loss_rpn_bbox: 0.0298, loss_cls: 0.0795, acc: 96.7676, loss_bbox: 0.2156, loss: 0.3273\n",
      "2021-01-04 06:32:16,566 - mmdet - INFO - Epoch [17][1550/2001]\tlr: 5.000e-05, eta: 1 day, 4:46:43, time: 0.820, data_time: 0.011, memory: 6189, loss_rpn_cls: 0.0020, loss_rpn_bbox: 0.0277, loss_cls: 0.0807, acc: 96.5869, loss_bbox: 0.2172, loss: 0.3276\n",
      "2021-01-04 06:32:57,513 - mmdet - INFO - Epoch [17][1600/2001]\tlr: 5.000e-05, eta: 1 day, 4:44:12, time: 0.819, data_time: 0.010, memory: 6189, loss_rpn_cls: 0.0024, loss_rpn_bbox: 0.0255, loss_cls: 0.0819, acc: 96.6201, loss_bbox: 0.2146, loss: 0.3244\n",
      "2021-01-04 06:33:38,475 - mmdet - INFO - Epoch [17][1650/2001]\tlr: 5.000e-05, eta: 1 day, 4:41:41, time: 0.819, data_time: 0.011, memory: 6189, loss_rpn_cls: 0.0022, loss_rpn_bbox: 0.0266, loss_cls: 0.0803, acc: 96.6270, loss_bbox: 0.2122, loss: 0.3213\n"
     ]
    },
    {
     "name": "stderr",
     "output_type": "stream",
     "text": [
      "2021-01-04 06:34:19,456 - mmdet - INFO - Epoch [17][1700/2001]\tlr: 5.000e-05, eta: 1 day, 4:39:11, time: 0.820, data_time: 0.010, memory: 6189, loss_rpn_cls: 0.0022, loss_rpn_bbox: 0.0258, loss_cls: 0.0827, acc: 96.5830, loss_bbox: 0.2196, loss: 0.3302\n",
      "2021-01-04 06:35:00,401 - mmdet - INFO - Epoch [17][1750/2001]\tlr: 5.000e-05, eta: 1 day, 4:36:41, time: 0.819, data_time: 0.011, memory: 6189, loss_rpn_cls: 0.0027, loss_rpn_bbox: 0.0270, loss_cls: 0.0824, acc: 96.5469, loss_bbox: 0.2184, loss: 0.3305\n",
      "2021-01-04 06:35:41,349 - mmdet - INFO - Epoch [17][1800/2001]\tlr: 5.000e-05, eta: 1 day, 4:34:11, time: 0.819, data_time: 0.011, memory: 6189, loss_rpn_cls: 0.0028, loss_rpn_bbox: 0.0307, loss_cls: 0.0828, acc: 96.5605, loss_bbox: 0.2249, loss: 0.3412\n",
      "2021-01-04 06:36:22,336 - mmdet - INFO - Epoch [17][1850/2001]\tlr: 5.000e-05, eta: 1 day, 4:31:42, time: 0.820, data_time: 0.010, memory: 6189, loss_rpn_cls: 0.0030, loss_rpn_bbox: 0.0310, loss_cls: 0.0812, acc: 96.6504, loss_bbox: 0.2200, loss: 0.3351\n",
      "2021-01-04 06:37:03,271 - mmdet - INFO - Epoch [17][1900/2001]\tlr: 5.000e-05, eta: 1 day, 4:29:13, time: 0.819, data_time: 0.010, memory: 6189, loss_rpn_cls: 0.0023, loss_rpn_bbox: 0.0284, loss_cls: 0.0851, acc: 96.4404, loss_bbox: 0.2243, loss: 0.3401\n",
      "2021-01-04 06:37:44,236 - mmdet - INFO - Epoch [17][1950/2001]\tlr: 5.000e-05, eta: 1 day, 4:26:44, time: 0.819, data_time: 0.011, memory: 6189, loss_rpn_cls: 0.0019, loss_rpn_bbox: 0.0255, loss_cls: 0.0807, acc: 96.7227, loss_bbox: 0.2137, loss: 0.3218\n",
      "2021-01-04 06:38:25,185 - mmdet - INFO - Epoch [17][2000/2001]\tlr: 5.000e-05, eta: 1 day, 4:24:16, time: 0.819, data_time: 0.010, memory: 6189, loss_rpn_cls: 0.0034, loss_rpn_bbox: 0.0262, loss_cls: 0.0837, acc: 96.5244, loss_bbox: 0.2133, loss: 0.3266\n",
      "2021-01-04 06:38:25,896 - mmdet - INFO - Saving checkpoint at 17 epochs\n"
     ]
    },
    {
     "name": "stdout",
     "output_type": "stream",
     "text": [
      "[>>>>>>>>>>>>>>>>>>>>>>>>>>] 2013/2013, 11.1 task/s, elapsed: 181s, ETA:     0s"
     ]
    },
    {
     "name": "stderr",
     "output_type": "stream",
     "text": [
      "2021-01-04 06:41:27,953 - mmdet - INFO - \n",
      "Evaluateing valid_44.json with 2013 images now\n",
      "2021-01-04 06:41:28,491 - mmdet - INFO - Evaluating bbox...\n"
     ]
    },
    {
     "name": "stdout",
     "output_type": "stream",
     "text": [
      "Loading and preparing results...\n",
      "DONE (t=0.27s)\n",
      "creating index...\n",
      "index created!\n",
      "Running per image evaluation...\n",
      "Evaluate annotation type *bbox*\n",
      "DONE (t=16.65s).\n",
      "Accumulating evaluation results...\n"
     ]
    },
    {
     "name": "stderr",
     "output_type": "stream",
     "text": [
      "2021-01-04 06:41:46,333 - mmdet - INFO - Epoch(val) [17][2001]\t0_bbox_mAP: 0.2850, 0_bbox_mAP_50: 0.4690, 0_bbox_mAP_75: 0.3240, 0_bbox_mAP_s: 0.2810, 0_bbox_mAP_m: 0.4600, 0_bbox_mAP_l: -1.0000, 0_bbox_mAP_copypaste: 0.285 0.469 0.324 0.281 0.460 -1.000\n"
     ]
    },
    {
     "name": "stdout",
     "output_type": "stream",
     "text": [
      "DONE (t=0.84s).\n",
      "Average Precision  (AP) @[ IoU=0.50:0.95 | area=   all | maxDets=100 ] = 0.285\n",
      "Average Precision  (AP) @[ IoU=0.50      | area=   all | maxDets=1000 ] = 0.469\n",
      "Average Precision  (AP) @[ IoU=0.75      | area=   all | maxDets=1000 ] = 0.324\n",
      "Average Precision  (AP) @[ IoU=0.50:0.95 | area= small | maxDets=1000 ] = 0.281\n",
      "Average Precision  (AP) @[ IoU=0.50:0.95 | area=medium | maxDets=1000 ] = 0.460\n",
      "Average Precision  (AP) @[ IoU=0.50:0.95 | area= large | maxDets=1000 ] = -1.000\n",
      "Average Recall     (AR) @[ IoU=0.50:0.95 | area=   all | maxDets=100 ] = 0.355\n",
      "Average Recall     (AR) @[ IoU=0.50:0.95 | area=   all | maxDets=300 ] = 0.355\n",
      "Average Recall     (AR) @[ IoU=0.50:0.95 | area=   all | maxDets=1000 ] = 0.355\n",
      "Average Recall     (AR) @[ IoU=0.50:0.95 | area= small | maxDets=1000 ] = 0.351\n",
      "Average Recall     (AR) @[ IoU=0.50:0.95 | area=medium | maxDets=1000 ] = 0.512\n",
      "Average Recall     (AR) @[ IoU=0.50:0.95 | area= large | maxDets=1000 ] = -1.000\n"
     ]
    },
    {
     "name": "stderr",
     "output_type": "stream",
     "text": [
      "2021-01-04 06:42:29,735 - mmdet - INFO - Epoch [18][50/2001]\tlr: 5.000e-05, eta: 1 day, 4:21:47, time: 0.864, data_time: 0.055, memory: 6189, loss_rpn_cls: 0.0029, loss_rpn_bbox: 0.0281, loss_cls: 0.0819, acc: 96.6084, loss_bbox: 0.2168, loss: 0.3297\n",
      "2021-01-04 06:43:10,690 - mmdet - INFO - Epoch [18][100/2001]\tlr: 5.000e-05, eta: 1 day, 4:19:20, time: 0.819, data_time: 0.010, memory: 6189, loss_rpn_cls: 0.0024, loss_rpn_bbox: 0.0265, loss_cls: 0.0794, acc: 96.7236, loss_bbox: 0.2155, loss: 0.3238\n",
      "2021-01-04 06:43:51,672 - mmdet - INFO - Epoch [18][150/2001]\tlr: 5.000e-05, eta: 1 day, 4:16:52, time: 0.820, data_time: 0.010, memory: 6189, loss_rpn_cls: 0.0025, loss_rpn_bbox: 0.0271, loss_cls: 0.0803, acc: 96.6807, loss_bbox: 0.2192, loss: 0.3291\n",
      "2021-01-04 06:44:32,618 - mmdet - INFO - Epoch [18][200/2001]\tlr: 5.000e-05, eta: 1 day, 4:14:25, time: 0.819, data_time: 0.010, memory: 6189, loss_rpn_cls: 0.0023, loss_rpn_bbox: 0.0264, loss_cls: 0.0804, acc: 96.6602, loss_bbox: 0.2088, loss: 0.3178\n",
      "2021-01-04 06:45:13,557 - mmdet - INFO - Epoch [18][250/2001]\tlr: 5.000e-05, eta: 1 day, 4:11:58, time: 0.819, data_time: 0.010, memory: 6189, loss_rpn_cls: 0.0024, loss_rpn_bbox: 0.0264, loss_cls: 0.0793, acc: 96.6904, loss_bbox: 0.2138, loss: 0.3219\n",
      "2021-01-04 06:45:54,958 - mmdet - INFO - Epoch [18][300/2001]\tlr: 5.000e-05, eta: 1 day, 4:09:33, time: 0.828, data_time: 0.011, memory: 6189, loss_rpn_cls: 0.0030, loss_rpn_bbox: 0.0260, loss_cls: 0.0815, acc: 96.5596, loss_bbox: 0.2120, loss: 0.3225\n",
      "2021-01-04 06:46:35,923 - mmdet - INFO - Epoch [18][350/2001]\tlr: 5.000e-05, eta: 1 day, 4:07:06, time: 0.819, data_time: 0.010, memory: 6189, loss_rpn_cls: 0.0029, loss_rpn_bbox: 0.0300, loss_cls: 0.0821, acc: 96.6045, loss_bbox: 0.2229, loss: 0.3379\n",
      "2021-01-04 06:47:16,878 - mmdet - INFO - Epoch [18][400/2001]\tlr: 5.000e-05, eta: 1 day, 4:04:41, time: 0.819, data_time: 0.010, memory: 6189, loss_rpn_cls: 0.0024, loss_rpn_bbox: 0.0259, loss_cls: 0.0781, acc: 96.6973, loss_bbox: 0.2056, loss: 0.3120\n",
      "2021-01-04 06:47:58,045 - mmdet - INFO - Epoch [18][450/2001]\tlr: 5.000e-05, eta: 1 day, 4:02:15, time: 0.823, data_time: 0.010, memory: 6189, loss_rpn_cls: 0.0028, loss_rpn_bbox: 0.0283, loss_cls: 0.0798, acc: 96.6748, loss_bbox: 0.2142, loss: 0.3251\n",
      "2021-01-04 06:48:38,983 - mmdet - INFO - Epoch [18][500/2001]\tlr: 5.000e-05, eta: 1 day, 3:59:50, time: 0.819, data_time: 0.010, memory: 6189, loss_rpn_cls: 0.0021, loss_rpn_bbox: 0.0267, loss_cls: 0.0822, acc: 96.5928, loss_bbox: 0.2168, loss: 0.3278\n",
      "2021-01-04 06:49:19,930 - mmdet - INFO - Epoch [18][550/2001]\tlr: 5.000e-05, eta: 1 day, 3:57:25, time: 0.819, data_time: 0.010, memory: 6189, loss_rpn_cls: 0.0023, loss_rpn_bbox: 0.0282, loss_cls: 0.0813, acc: 96.5732, loss_bbox: 0.2176, loss: 0.3294\n",
      "2021-01-04 06:50:00,900 - mmdet - INFO - Epoch [18][600/2001]\tlr: 5.000e-05, eta: 1 day, 3:55:00, time: 0.819, data_time: 0.010, memory: 6189, loss_rpn_cls: 0.0024, loss_rpn_bbox: 0.0299, loss_cls: 0.0831, acc: 96.6055, loss_bbox: 0.2172, loss: 0.3326\n",
      "2021-01-04 06:50:41,884 - mmdet - INFO - Epoch [18][650/2001]\tlr: 5.000e-05, eta: 1 day, 3:52:36, time: 0.820, data_time: 0.010, memory: 6189, loss_rpn_cls: 0.0023, loss_rpn_bbox: 0.0276, loss_cls: 0.0800, acc: 96.6738, loss_bbox: 0.2110, loss: 0.3209\n",
      "2021-01-04 06:51:22,849 - mmdet - INFO - Epoch [18][700/2001]\tlr: 5.000e-05, eta: 1 day, 3:50:12, time: 0.819, data_time: 0.011, memory: 6189, loss_rpn_cls: 0.0019, loss_rpn_bbox: 0.0274, loss_cls: 0.0822, acc: 96.6221, loss_bbox: 0.2214, loss: 0.3329\n",
      "2021-01-04 06:52:03,808 - mmdet - INFO - Epoch [18][750/2001]\tlr: 5.000e-05, eta: 1 day, 3:47:48, time: 0.819, data_time: 0.011, memory: 6189, loss_rpn_cls: 0.0028, loss_rpn_bbox: 0.0290, loss_cls: 0.0813, acc: 96.5977, loss_bbox: 0.2199, loss: 0.3330\n",
      "2021-01-04 06:52:44,770 - mmdet - INFO - Epoch [18][800/2001]\tlr: 5.000e-05, eta: 1 day, 3:45:25, time: 0.819, data_time: 0.010, memory: 6189, loss_rpn_cls: 0.0027, loss_rpn_bbox: 0.0292, loss_cls: 0.0804, acc: 96.6934, loss_bbox: 0.2106, loss: 0.3229\n",
      "2021-01-04 06:53:25,730 - mmdet - INFO - Epoch [18][850/2001]\tlr: 5.000e-05, eta: 1 day, 3:43:01, time: 0.819, data_time: 0.010, memory: 6189, loss_rpn_cls: 0.0020, loss_rpn_bbox: 0.0288, loss_cls: 0.0816, acc: 96.6162, loss_bbox: 0.2181, loss: 0.3304\n",
      "2021-01-04 06:54:06,678 - mmdet - INFO - Epoch [18][900/2001]\tlr: 5.000e-05, eta: 1 day, 3:40:38, time: 0.819, data_time: 0.010, memory: 6189, loss_rpn_cls: 0.0020, loss_rpn_bbox: 0.0250, loss_cls: 0.0827, acc: 96.5801, loss_bbox: 0.2144, loss: 0.3242\n",
      "2021-01-04 06:54:47,651 - mmdet - INFO - Epoch [18][950/2001]\tlr: 5.000e-05, eta: 1 day, 3:38:16, time: 0.819, data_time: 0.010, memory: 6189, loss_rpn_cls: 0.0021, loss_rpn_bbox: 0.0279, loss_cls: 0.0786, acc: 96.7871, loss_bbox: 0.2214, loss: 0.3300\n",
      "2021-01-04 06:55:28,592 - mmdet - INFO - Epoch [18][1000/2001]\tlr: 5.000e-05, eta: 1 day, 3:35:54, time: 0.819, data_time: 0.010, memory: 6189, loss_rpn_cls: 0.0030, loss_rpn_bbox: 0.0257, loss_cls: 0.0801, acc: 96.6992, loss_bbox: 0.2173, loss: 0.3261\n",
      "2021-01-04 06:56:09,574 - mmdet - INFO - Epoch [18][1050/2001]\tlr: 5.000e-05, eta: 1 day, 3:33:32, time: 0.820, data_time: 0.010, memory: 6189, loss_rpn_cls: 0.0021, loss_rpn_bbox: 0.0300, loss_cls: 0.0806, acc: 96.7168, loss_bbox: 0.2236, loss: 0.3362\n",
      "2021-01-04 06:56:50,536 - mmdet - INFO - Epoch [18][1100/2001]\tlr: 5.000e-05, eta: 1 day, 3:31:10, time: 0.819, data_time: 0.011, memory: 6189, loss_rpn_cls: 0.0023, loss_rpn_bbox: 0.0300, loss_cls: 0.0817, acc: 96.5947, loss_bbox: 0.2201, loss: 0.3341\n",
      "2021-01-04 06:57:31,512 - mmdet - INFO - Epoch [18][1150/2001]\tlr: 5.000e-05, eta: 1 day, 3:28:48, time: 0.819, data_time: 0.010, memory: 6189, loss_rpn_cls: 0.0031, loss_rpn_bbox: 0.0257, loss_cls: 0.0830, acc: 96.6016, loss_bbox: 0.2206, loss: 0.3323\n",
      "2021-01-04 06:58:12,448 - mmdet - INFO - Epoch [18][1200/2001]\tlr: 5.000e-05, eta: 1 day, 3:26:27, time: 0.819, data_time: 0.011, memory: 6189, loss_rpn_cls: 0.0028, loss_rpn_bbox: 0.0268, loss_cls: 0.0824, acc: 96.5166, loss_bbox: 0.2181, loss: 0.3301\n",
      "2021-01-04 06:58:53,411 - mmdet - INFO - Epoch [18][1250/2001]\tlr: 5.000e-05, eta: 1 day, 3:24:06, time: 0.819, data_time: 0.010, memory: 6189, loss_rpn_cls: 0.0022, loss_rpn_bbox: 0.0296, loss_cls: 0.0815, acc: 96.6582, loss_bbox: 0.2179, loss: 0.3313\n",
      "2021-01-04 06:59:34,385 - mmdet - INFO - Epoch [18][1300/2001]\tlr: 5.000e-05, eta: 1 day, 3:21:46, time: 0.820, data_time: 0.010, memory: 6189, loss_rpn_cls: 0.0020, loss_rpn_bbox: 0.0282, loss_cls: 0.0836, acc: 96.5898, loss_bbox: 0.2214, loss: 0.3353\n",
      "2021-01-04 07:00:15,343 - mmdet - INFO - Epoch [18][1350/2001]\tlr: 5.000e-05, eta: 1 day, 3:19:25, time: 0.819, data_time: 0.010, memory: 6189, loss_rpn_cls: 0.0017, loss_rpn_bbox: 0.0279, loss_cls: 0.0801, acc: 96.6748, loss_bbox: 0.2125, loss: 0.3223\n",
      "2021-01-04 07:00:56,327 - mmdet - INFO - Epoch [18][1400/2001]\tlr: 5.000e-05, eta: 1 day, 3:17:05, time: 0.820, data_time: 0.010, memory: 6189, loss_rpn_cls: 0.0017, loss_rpn_bbox: 0.0290, loss_cls: 0.0803, acc: 96.6436, loss_bbox: 0.2135, loss: 0.3245\n",
      "2021-01-04 07:01:37,266 - mmdet - INFO - Epoch [18][1450/2001]\tlr: 5.000e-05, eta: 1 day, 3:14:45, time: 0.819, data_time: 0.011, memory: 6189, loss_rpn_cls: 0.0028, loss_rpn_bbox: 0.0300, loss_cls: 0.0809, acc: 96.6406, loss_bbox: 0.2176, loss: 0.3313\n",
      "2021-01-04 07:02:18,217 - mmdet - INFO - Epoch [18][1500/2001]\tlr: 5.000e-05, eta: 1 day, 3:12:26, time: 0.819, data_time: 0.010, memory: 6189, loss_rpn_cls: 0.0022, loss_rpn_bbox: 0.0289, loss_cls: 0.0828, acc: 96.5273, loss_bbox: 0.2182, loss: 0.3321\n",
      "2021-01-04 07:02:59,158 - mmdet - INFO - Epoch [18][1550/2001]\tlr: 5.000e-05, eta: 1 day, 3:10:07, time: 0.819, data_time: 0.010, memory: 6189, loss_rpn_cls: 0.0025, loss_rpn_bbox: 0.0310, loss_cls: 0.0833, acc: 96.5029, loss_bbox: 0.2198, loss: 0.3367\n",
      "2021-01-04 07:03:40,119 - mmdet - INFO - Epoch [18][1600/2001]\tlr: 5.000e-05, eta: 1 day, 3:07:48, time: 0.819, data_time: 0.010, memory: 6189, loss_rpn_cls: 0.0024, loss_rpn_bbox: 0.0292, loss_cls: 0.0819, acc: 96.6631, loss_bbox: 0.2195, loss: 0.3329\n",
      "2021-01-04 07:04:21,086 - mmdet - INFO - Epoch [18][1650/2001]\tlr: 5.000e-05, eta: 1 day, 3:05:29, time: 0.819, data_time: 0.010, memory: 6189, loss_rpn_cls: 0.0022, loss_rpn_bbox: 0.0278, loss_cls: 0.0824, acc: 96.5332, loss_bbox: 0.2169, loss: 0.3293\n"
     ]
    },
    {
     "name": "stderr",
     "output_type": "stream",
     "text": [
      "2021-01-04 07:05:02,051 - mmdet - INFO - Epoch [18][1700/2001]\tlr: 5.000e-05, eta: 1 day, 3:03:11, time: 0.819, data_time: 0.011, memory: 6189, loss_rpn_cls: 0.0027, loss_rpn_bbox: 0.0282, loss_cls: 0.0830, acc: 96.6016, loss_bbox: 0.2171, loss: 0.3310\n",
      "2021-01-04 07:05:43,027 - mmdet - INFO - Epoch [18][1750/2001]\tlr: 5.000e-05, eta: 1 day, 3:00:53, time: 0.819, data_time: 0.010, memory: 6189, loss_rpn_cls: 0.0020, loss_rpn_bbox: 0.0276, loss_cls: 0.0827, acc: 96.6387, loss_bbox: 0.2203, loss: 0.3326\n",
      "2021-01-04 07:06:24,013 - mmdet - INFO - Epoch [18][1800/2001]\tlr: 5.000e-05, eta: 1 day, 2:58:35, time: 0.820, data_time: 0.011, memory: 6189, loss_rpn_cls: 0.0023, loss_rpn_bbox: 0.0287, loss_cls: 0.0807, acc: 96.6436, loss_bbox: 0.2156, loss: 0.3274\n",
      "2021-01-04 07:07:04,947 - mmdet - INFO - Epoch [18][1850/2001]\tlr: 5.000e-05, eta: 1 day, 2:56:17, time: 0.819, data_time: 0.011, memory: 6189, loss_rpn_cls: 0.0020, loss_rpn_bbox: 0.0304, loss_cls: 0.0829, acc: 96.5898, loss_bbox: 0.2184, loss: 0.3336\n",
      "2021-01-04 07:07:45,898 - mmdet - INFO - Epoch [18][1900/2001]\tlr: 5.000e-05, eta: 1 day, 2:54:00, time: 0.819, data_time: 0.010, memory: 6189, loss_rpn_cls: 0.0023, loss_rpn_bbox: 0.0301, loss_cls: 0.0843, acc: 96.4648, loss_bbox: 0.2192, loss: 0.3359\n",
      "2021-01-04 07:08:26,849 - mmdet - INFO - Epoch [18][1950/2001]\tlr: 5.000e-05, eta: 1 day, 2:51:43, time: 0.819, data_time: 0.011, memory: 6189, loss_rpn_cls: 0.0020, loss_rpn_bbox: 0.0292, loss_cls: 0.0830, acc: 96.5654, loss_bbox: 0.2194, loss: 0.3337\n",
      "2021-01-04 07:09:07,813 - mmdet - INFO - Epoch [18][2000/2001]\tlr: 5.000e-05, eta: 1 day, 2:49:26, time: 0.819, data_time: 0.011, memory: 6189, loss_rpn_cls: 0.0024, loss_rpn_bbox: 0.0298, loss_cls: 0.0799, acc: 96.7500, loss_bbox: 0.2172, loss: 0.3292\n",
      "2021-01-04 07:09:08,522 - mmdet - INFO - Saving checkpoint at 18 epochs\n"
     ]
    },
    {
     "name": "stdout",
     "output_type": "stream",
     "text": [
      "[>>>>>>>>>>>>>>>>>>>>>>>>>>] 2013/2013, 11.1 task/s, elapsed: 181s, ETA:     0s"
     ]
    },
    {
     "name": "stderr",
     "output_type": "stream",
     "text": [
      "2021-01-04 07:12:10,677 - mmdet - INFO - \n",
      "Evaluateing valid_44.json with 2013 images now\n",
      "2021-01-04 07:12:11,466 - mmdet - INFO - Evaluating bbox...\n"
     ]
    },
    {
     "name": "stdout",
     "output_type": "stream",
     "text": [
      "Loading and preparing results...\n",
      "DONE (t=0.11s)\n",
      "creating index...\n",
      "index created!\n",
      "Running per image evaluation...\n",
      "Evaluate annotation type *bbox*\n",
      "DONE (t=16.69s).\n",
      "Accumulating evaluation results...\n"
     ]
    },
    {
     "name": "stderr",
     "output_type": "stream",
     "text": [
      "2021-01-04 07:12:29,155 - mmdet - INFO - Epoch(val) [18][2001]\t0_bbox_mAP: 0.2860, 0_bbox_mAP_50: 0.4700, 0_bbox_mAP_75: 0.3200, 0_bbox_mAP_s: 0.2800, 0_bbox_mAP_m: 0.4660, 0_bbox_mAP_l: -1.0000, 0_bbox_mAP_copypaste: 0.286 0.470 0.320 0.280 0.466 -1.000\n"
     ]
    },
    {
     "name": "stdout",
     "output_type": "stream",
     "text": [
      "DONE (t=0.80s).\n",
      "Average Precision  (AP) @[ IoU=0.50:0.95 | area=   all | maxDets=100 ] = 0.286\n",
      "Average Precision  (AP) @[ IoU=0.50      | area=   all | maxDets=1000 ] = 0.470\n",
      "Average Precision  (AP) @[ IoU=0.75      | area=   all | maxDets=1000 ] = 0.320\n",
      "Average Precision  (AP) @[ IoU=0.50:0.95 | area= small | maxDets=1000 ] = 0.280\n",
      "Average Precision  (AP) @[ IoU=0.50:0.95 | area=medium | maxDets=1000 ] = 0.466\n",
      "Average Precision  (AP) @[ IoU=0.50:0.95 | area= large | maxDets=1000 ] = -1.000\n",
      "Average Recall     (AR) @[ IoU=0.50:0.95 | area=   all | maxDets=100 ] = 0.355\n",
      "Average Recall     (AR) @[ IoU=0.50:0.95 | area=   all | maxDets=300 ] = 0.355\n",
      "Average Recall     (AR) @[ IoU=0.50:0.95 | area=   all | maxDets=1000 ] = 0.355\n",
      "Average Recall     (AR) @[ IoU=0.50:0.95 | area= small | maxDets=1000 ] = 0.351\n",
      "Average Recall     (AR) @[ IoU=0.50:0.95 | area=medium | maxDets=1000 ] = 0.515\n",
      "Average Recall     (AR) @[ IoU=0.50:0.95 | area= large | maxDets=1000 ] = -1.000\n"
     ]
    },
    {
     "name": "stderr",
     "output_type": "stream",
     "text": [
      "2021-01-04 07:13:12,555 - mmdet - INFO - Epoch [19][50/2001]\tlr: 5.000e-05, eta: 1 day, 2:47:09, time: 0.864, data_time: 0.056, memory: 6189, loss_rpn_cls: 0.0024, loss_rpn_bbox: 0.0284, loss_cls: 0.0790, acc: 96.7373, loss_bbox: 0.2139, loss: 0.3238\n",
      "2021-01-04 07:13:53,530 - mmdet - INFO - Epoch [19][100/2001]\tlr: 5.000e-05, eta: 1 day, 2:44:53, time: 0.819, data_time: 0.010, memory: 6189, loss_rpn_cls: 0.0025, loss_rpn_bbox: 0.0285, loss_cls: 0.0818, acc: 96.6123, loss_bbox: 0.2134, loss: 0.3263\n",
      "2021-01-04 07:14:34,484 - mmdet - INFO - Epoch [19][150/2001]\tlr: 5.000e-05, eta: 1 day, 2:42:37, time: 0.819, data_time: 0.010, memory: 6189, loss_rpn_cls: 0.0021, loss_rpn_bbox: 0.0261, loss_cls: 0.0822, acc: 96.6191, loss_bbox: 0.2126, loss: 0.3230\n",
      "2021-01-04 07:15:15,461 - mmdet - INFO - Epoch [19][200/2001]\tlr: 5.000e-05, eta: 1 day, 2:40:21, time: 0.819, data_time: 0.010, memory: 6189, loss_rpn_cls: 0.0020, loss_rpn_bbox: 0.0278, loss_cls: 0.0785, acc: 96.7090, loss_bbox: 0.2126, loss: 0.3208\n",
      "2021-01-04 07:15:56,610 - mmdet - INFO - Epoch [19][250/2001]\tlr: 5.000e-05, eta: 1 day, 2:38:06, time: 0.823, data_time: 0.010, memory: 6189, loss_rpn_cls: 0.0024, loss_rpn_bbox: 0.0261, loss_cls: 0.0807, acc: 96.6396, loss_bbox: 0.2150, loss: 0.3241\n",
      "2021-01-04 07:16:37,799 - mmdet - INFO - Epoch [19][300/2001]\tlr: 5.000e-05, eta: 1 day, 2:35:52, time: 0.824, data_time: 0.010, memory: 6189, loss_rpn_cls: 0.0018, loss_rpn_bbox: 0.0279, loss_cls: 0.0798, acc: 96.6670, loss_bbox: 0.2119, loss: 0.3214\n",
      "2021-01-04 07:17:18,857 - mmdet - INFO - Epoch [19][350/2001]\tlr: 5.000e-05, eta: 1 day, 2:33:37, time: 0.821, data_time: 0.010, memory: 6189, loss_rpn_cls: 0.0023, loss_rpn_bbox: 0.0284, loss_cls: 0.0800, acc: 96.6680, loss_bbox: 0.2178, loss: 0.3285\n",
      "2021-01-04 07:17:59,877 - mmdet - INFO - Epoch [19][400/2001]\tlr: 5.000e-05, eta: 1 day, 2:31:22, time: 0.820, data_time: 0.010, memory: 6189, loss_rpn_cls: 0.0023, loss_rpn_bbox: 0.0306, loss_cls: 0.0854, acc: 96.4854, loss_bbox: 0.2228, loss: 0.3411\n",
      "2021-01-04 07:18:40,846 - mmdet - INFO - Epoch [19][450/2001]\tlr: 5.000e-05, eta: 1 day, 2:29:08, time: 0.819, data_time: 0.010, memory: 6189, loss_rpn_cls: 0.0029, loss_rpn_bbox: 0.0281, loss_cls: 0.0816, acc: 96.5801, loss_bbox: 0.2232, loss: 0.3358\n",
      "2021-01-04 07:19:21,824 - mmdet - INFO - Epoch [19][500/2001]\tlr: 5.000e-05, eta: 1 day, 2:26:54, time: 0.820, data_time: 0.010, memory: 6189, loss_rpn_cls: 0.0013, loss_rpn_bbox: 0.0276, loss_cls: 0.0801, acc: 96.6973, loss_bbox: 0.2120, loss: 0.3209\n",
      "2021-01-04 07:20:02,759 - mmdet - INFO - Epoch [19][550/2001]\tlr: 5.000e-05, eta: 1 day, 2:24:40, time: 0.819, data_time: 0.010, memory: 6189, loss_rpn_cls: 0.0019, loss_rpn_bbox: 0.0293, loss_cls: 0.0804, acc: 96.6201, loss_bbox: 0.2176, loss: 0.3292\n",
      "2021-01-04 07:20:43,772 - mmdet - INFO - Epoch [19][600/2001]\tlr: 5.000e-05, eta: 1 day, 2:22:26, time: 0.820, data_time: 0.010, memory: 6189, loss_rpn_cls: 0.0022, loss_rpn_bbox: 0.0282, loss_cls: 0.0814, acc: 96.6592, loss_bbox: 0.2163, loss: 0.3281\n",
      "2021-01-04 07:21:24,704 - mmdet - INFO - Epoch [19][650/2001]\tlr: 5.000e-05, eta: 1 day, 2:20:13, time: 0.819, data_time: 0.010, memory: 6189, loss_rpn_cls: 0.0026, loss_rpn_bbox: 0.0277, loss_cls: 0.0786, acc: 96.8252, loss_bbox: 0.2169, loss: 0.3258\n",
      "2021-01-04 07:22:05,701 - mmdet - INFO - Epoch [19][700/2001]\tlr: 5.000e-05, eta: 1 day, 2:18:00, time: 0.820, data_time: 0.011, memory: 6189, loss_rpn_cls: 0.0031, loss_rpn_bbox: 0.0287, loss_cls: 0.0838, acc: 96.4971, loss_bbox: 0.2204, loss: 0.3361\n",
      "2021-01-04 07:22:46,621 - mmdet - INFO - Epoch [19][750/2001]\tlr: 5.000e-05, eta: 1 day, 2:15:47, time: 0.818, data_time: 0.011, memory: 6189, loss_rpn_cls: 0.0023, loss_rpn_bbox: 0.0284, loss_cls: 0.0772, acc: 96.8398, loss_bbox: 0.2124, loss: 0.3203\n",
      "2021-01-04 07:23:27,567 - mmdet - INFO - Epoch [19][800/2001]\tlr: 5.000e-05, eta: 1 day, 2:13:34, time: 0.819, data_time: 0.010, memory: 6189, loss_rpn_cls: 0.0025, loss_rpn_bbox: 0.0280, loss_cls: 0.0841, acc: 96.5576, loss_bbox: 0.2216, loss: 0.3362\n",
      "2021-01-04 07:24:08,546 - mmdet - INFO - Epoch [19][850/2001]\tlr: 5.000e-05, eta: 1 day, 2:11:22, time: 0.820, data_time: 0.010, memory: 6189, loss_rpn_cls: 0.0021, loss_rpn_bbox: 0.0271, loss_cls: 0.0798, acc: 96.7031, loss_bbox: 0.2143, loss: 0.3234\n",
      "2021-01-04 07:24:49,504 - mmdet - INFO - Epoch [19][900/2001]\tlr: 5.000e-05, eta: 1 day, 2:09:09, time: 0.819, data_time: 0.010, memory: 6189, loss_rpn_cls: 0.0026, loss_rpn_bbox: 0.0291, loss_cls: 0.0837, acc: 96.5195, loss_bbox: 0.2187, loss: 0.3342\n",
      "2021-01-04 07:25:30,482 - mmdet - INFO - Epoch [19][950/2001]\tlr: 5.000e-05, eta: 1 day, 2:06:58, time: 0.820, data_time: 0.010, memory: 6189, loss_rpn_cls: 0.0024, loss_rpn_bbox: 0.0254, loss_cls: 0.0799, acc: 96.6436, loss_bbox: 0.2116, loss: 0.3194\n",
      "2021-01-04 07:26:11,428 - mmdet - INFO - Epoch [19][1000/2001]\tlr: 5.000e-05, eta: 1 day, 2:04:46, time: 0.819, data_time: 0.010, memory: 6189, loss_rpn_cls: 0.0030, loss_rpn_bbox: 0.0302, loss_cls: 0.0809, acc: 96.6973, loss_bbox: 0.2232, loss: 0.3372\n",
      "2021-01-04 07:26:52,383 - mmdet - INFO - Epoch [19][1050/2001]\tlr: 5.000e-05, eta: 1 day, 2:02:34, time: 0.819, data_time: 0.011, memory: 6189, loss_rpn_cls: 0.0024, loss_rpn_bbox: 0.0282, loss_cls: 0.0829, acc: 96.5576, loss_bbox: 0.2229, loss: 0.3365\n",
      "2021-01-04 07:27:33,364 - mmdet - INFO - Epoch [19][1100/2001]\tlr: 5.000e-05, eta: 1 day, 2:00:23, time: 0.820, data_time: 0.010, memory: 6189, loss_rpn_cls: 0.0024, loss_rpn_bbox: 0.0289, loss_cls: 0.0820, acc: 96.6895, loss_bbox: 0.2174, loss: 0.3307\n",
      "2021-01-04 07:28:14,303 - mmdet - INFO - Epoch [19][1150/2001]\tlr: 5.000e-05, eta: 1 day, 1:58:12, time: 0.819, data_time: 0.010, memory: 6189, loss_rpn_cls: 0.0023, loss_rpn_bbox: 0.0293, loss_cls: 0.0790, acc: 96.6797, loss_bbox: 0.2150, loss: 0.3256\n",
      "2021-01-04 07:28:55,270 - mmdet - INFO - Epoch [19][1200/2001]\tlr: 5.000e-05, eta: 1 day, 1:56:02, time: 0.819, data_time: 0.010, memory: 6189, loss_rpn_cls: 0.0019, loss_rpn_bbox: 0.0273, loss_cls: 0.0816, acc: 96.6016, loss_bbox: 0.2136, loss: 0.3243\n",
      "2021-01-04 07:29:36,219 - mmdet - INFO - Epoch [19][1250/2001]\tlr: 5.000e-05, eta: 1 day, 1:53:51, time: 0.819, data_time: 0.010, memory: 6189, loss_rpn_cls: 0.0022, loss_rpn_bbox: 0.0291, loss_cls: 0.0786, acc: 96.7725, loss_bbox: 0.2126, loss: 0.3225\n",
      "2021-01-04 07:30:17,212 - mmdet - INFO - Epoch [19][1300/2001]\tlr: 5.000e-05, eta: 1 day, 1:51:41, time: 0.820, data_time: 0.011, memory: 6189, loss_rpn_cls: 0.0031, loss_rpn_bbox: 0.0293, loss_cls: 0.0809, acc: 96.6270, loss_bbox: 0.2172, loss: 0.3305\n",
      "2021-01-04 07:30:58,127 - mmdet - INFO - Epoch [19][1350/2001]\tlr: 5.000e-05, eta: 1 day, 1:49:31, time: 0.818, data_time: 0.010, memory: 6189, loss_rpn_cls: 0.0026, loss_rpn_bbox: 0.0285, loss_cls: 0.0830, acc: 96.5234, loss_bbox: 0.2185, loss: 0.3327\n",
      "2021-01-04 07:31:39,111 - mmdet - INFO - Epoch [19][1400/2001]\tlr: 5.000e-05, eta: 1 day, 1:47:21, time: 0.820, data_time: 0.010, memory: 6189, loss_rpn_cls: 0.0024, loss_rpn_bbox: 0.0283, loss_cls: 0.0844, acc: 96.5049, loss_bbox: 0.2222, loss: 0.3373\n",
      "2021-01-04 07:32:20,087 - mmdet - INFO - Epoch [19][1450/2001]\tlr: 5.000e-05, eta: 1 day, 1:45:12, time: 0.819, data_time: 0.010, memory: 6189, loss_rpn_cls: 0.0025, loss_rpn_bbox: 0.0279, loss_cls: 0.0826, acc: 96.6406, loss_bbox: 0.2252, loss: 0.3383\n",
      "2021-01-04 07:33:01,041 - mmdet - INFO - Epoch [19][1500/2001]\tlr: 5.000e-05, eta: 1 day, 1:43:03, time: 0.819, data_time: 0.010, memory: 6189, loss_rpn_cls: 0.0025, loss_rpn_bbox: 0.0271, loss_cls: 0.0833, acc: 96.5566, loss_bbox: 0.2158, loss: 0.3287\n",
      "2021-01-04 07:33:42,016 - mmdet - INFO - Epoch [19][1550/2001]\tlr: 5.000e-05, eta: 1 day, 1:40:54, time: 0.819, data_time: 0.010, memory: 6189, loss_rpn_cls: 0.0024, loss_rpn_bbox: 0.0271, loss_cls: 0.0810, acc: 96.6494, loss_bbox: 0.2196, loss: 0.3301\n",
      "2021-01-04 07:34:22,965 - mmdet - INFO - Epoch [19][1600/2001]\tlr: 5.000e-05, eta: 1 day, 1:38:45, time: 0.819, data_time: 0.010, memory: 6189, loss_rpn_cls: 0.0026, loss_rpn_bbox: 0.0292, loss_cls: 0.0814, acc: 96.5977, loss_bbox: 0.2186, loss: 0.3319\n",
      "2021-01-04 07:35:03,903 - mmdet - INFO - Epoch [19][1650/2001]\tlr: 5.000e-05, eta: 1 day, 1:36:36, time: 0.819, data_time: 0.011, memory: 6189, loss_rpn_cls: 0.0024, loss_rpn_bbox: 0.0288, loss_cls: 0.0802, acc: 96.7129, loss_bbox: 0.2203, loss: 0.3317\n"
     ]
    },
    {
     "name": "stderr",
     "output_type": "stream",
     "text": [
      "2021-01-04 07:35:44,869 - mmdet - INFO - Epoch [19][1700/2001]\tlr: 5.000e-05, eta: 1 day, 1:34:28, time: 0.819, data_time: 0.010, memory: 6189, loss_rpn_cls: 0.0028, loss_rpn_bbox: 0.0303, loss_cls: 0.0836, acc: 96.5352, loss_bbox: 0.2217, loss: 0.3384\n",
      "2021-01-04 07:36:25,807 - mmdet - INFO - Epoch [19][1750/2001]\tlr: 5.000e-05, eta: 1 day, 1:32:20, time: 0.819, data_time: 0.010, memory: 6189, loss_rpn_cls: 0.0032, loss_rpn_bbox: 0.0272, loss_cls: 0.0794, acc: 96.6855, loss_bbox: 0.2178, loss: 0.3276\n",
      "2021-01-04 07:37:06,786 - mmdet - INFO - Epoch [19][1800/2001]\tlr: 5.000e-05, eta: 1 day, 1:30:12, time: 0.820, data_time: 0.010, memory: 6189, loss_rpn_cls: 0.0025, loss_rpn_bbox: 0.0274, loss_cls: 0.0778, acc: 96.7783, loss_bbox: 0.2111, loss: 0.3187\n",
      "2021-01-04 07:37:47,737 - mmdet - INFO - Epoch [19][1850/2001]\tlr: 5.000e-05, eta: 1 day, 1:28:04, time: 0.819, data_time: 0.011, memory: 6189, loss_rpn_cls: 0.0023, loss_rpn_bbox: 0.0281, loss_cls: 0.0817, acc: 96.6143, loss_bbox: 0.2142, loss: 0.3263\n",
      "2021-01-04 07:38:28,721 - mmdet - INFO - Epoch [19][1900/2001]\tlr: 5.000e-05, eta: 1 day, 1:25:57, time: 0.820, data_time: 0.010, memory: 6189, loss_rpn_cls: 0.0036, loss_rpn_bbox: 0.0284, loss_cls: 0.0809, acc: 96.6113, loss_bbox: 0.2186, loss: 0.3315\n",
      "2021-01-04 07:39:09,674 - mmdet - INFO - Epoch [19][1950/2001]\tlr: 5.000e-05, eta: 1 day, 1:23:50, time: 0.819, data_time: 0.011, memory: 6189, loss_rpn_cls: 0.0018, loss_rpn_bbox: 0.0259, loss_cls: 0.0822, acc: 96.5859, loss_bbox: 0.2120, loss: 0.3218\n",
      "2021-01-04 07:39:50,654 - mmdet - INFO - Epoch [19][2000/2001]\tlr: 5.000e-05, eta: 1 day, 1:21:43, time: 0.820, data_time: 0.011, memory: 6189, loss_rpn_cls: 0.0025, loss_rpn_bbox: 0.0285, loss_cls: 0.0814, acc: 96.6240, loss_bbox: 0.2156, loss: 0.3280\n",
      "2021-01-04 07:39:51,350 - mmdet - INFO - Saving checkpoint at 19 epochs\n"
     ]
    },
    {
     "name": "stdout",
     "output_type": "stream",
     "text": [
      "[>>>>>>>>>>>>>>>>>>>>>>>>>>] 2013/2013, 11.1 task/s, elapsed: 182s, ETA:     0s"
     ]
    },
    {
     "name": "stderr",
     "output_type": "stream",
     "text": [
      "2021-01-04 07:42:53,684 - mmdet - INFO - \n",
      "Evaluateing valid_44.json with 2013 images now\n",
      "2021-01-04 07:42:54,157 - mmdet - INFO - Evaluating bbox...\n"
     ]
    },
    {
     "name": "stdout",
     "output_type": "stream",
     "text": [
      "Loading and preparing results...\n",
      "DONE (t=0.25s)\n",
      "creating index...\n",
      "index created!\n",
      "Running per image evaluation...\n",
      "Evaluate annotation type *bbox*\n",
      "DONE (t=16.12s).\n",
      "Accumulating evaluation results...\n"
     ]
    },
    {
     "name": "stderr",
     "output_type": "stream",
     "text": [
      "2021-01-04 07:43:11,317 - mmdet - INFO - Epoch(val) [19][2001]\t0_bbox_mAP: 0.2850, 0_bbox_mAP_50: 0.4680, 0_bbox_mAP_75: 0.3200, 0_bbox_mAP_s: 0.2790, 0_bbox_mAP_m: 0.4660, 0_bbox_mAP_l: -1.0000, 0_bbox_mAP_copypaste: 0.285 0.468 0.320 0.279 0.466 -1.000\n"
     ]
    },
    {
     "name": "stdout",
     "output_type": "stream",
     "text": [
      "DONE (t=0.71s).\n",
      "Average Precision  (AP) @[ IoU=0.50:0.95 | area=   all | maxDets=100 ] = 0.285\n",
      "Average Precision  (AP) @[ IoU=0.50      | area=   all | maxDets=1000 ] = 0.468\n",
      "Average Precision  (AP) @[ IoU=0.75      | area=   all | maxDets=1000 ] = 0.320\n",
      "Average Precision  (AP) @[ IoU=0.50:0.95 | area= small | maxDets=1000 ] = 0.279\n",
      "Average Precision  (AP) @[ IoU=0.50:0.95 | area=medium | maxDets=1000 ] = 0.466\n",
      "Average Precision  (AP) @[ IoU=0.50:0.95 | area= large | maxDets=1000 ] = -1.000\n",
      "Average Recall     (AR) @[ IoU=0.50:0.95 | area=   all | maxDets=100 ] = 0.352\n",
      "Average Recall     (AR) @[ IoU=0.50:0.95 | area=   all | maxDets=300 ] = 0.352\n",
      "Average Recall     (AR) @[ IoU=0.50:0.95 | area=   all | maxDets=1000 ] = 0.352\n",
      "Average Recall     (AR) @[ IoU=0.50:0.95 | area= small | maxDets=1000 ] = 0.348\n",
      "Average Recall     (AR) @[ IoU=0.50:0.95 | area=medium | maxDets=1000 ] = 0.516\n",
      "Average Recall     (AR) @[ IoU=0.50:0.95 | area= large | maxDets=1000 ] = -1.000\n"
     ]
    },
    {
     "name": "stderr",
     "output_type": "stream",
     "text": [
      "2021-01-04 07:43:54,751 - mmdet - INFO - Epoch [20][50/2001]\tlr: 5.000e-05, eta: 1 day, 1:19:36, time: 0.865, data_time: 0.055, memory: 6189, loss_rpn_cls: 0.0023, loss_rpn_bbox: 0.0264, loss_cls: 0.0858, acc: 96.4453, loss_bbox: 0.2157, loss: 0.3302\n",
      "2021-01-04 07:44:35,753 - mmdet - INFO - Epoch [20][100/2001]\tlr: 5.000e-05, eta: 1 day, 1:17:29, time: 0.820, data_time: 0.010, memory: 6189, loss_rpn_cls: 0.0014, loss_rpn_bbox: 0.0277, loss_cls: 0.0840, acc: 96.4844, loss_bbox: 0.2183, loss: 0.3315\n",
      "2021-01-04 07:45:16,693 - mmdet - INFO - Epoch [20][150/2001]\tlr: 5.000e-05, eta: 1 day, 1:15:23, time: 0.819, data_time: 0.010, memory: 6189, loss_rpn_cls: 0.0028, loss_rpn_bbox: 0.0285, loss_cls: 0.0813, acc: 96.6348, loss_bbox: 0.2178, loss: 0.3305\n",
      "2021-01-04 07:45:57,694 - mmdet - INFO - Epoch [20][200/2001]\tlr: 5.000e-05, eta: 1 day, 1:13:17, time: 0.820, data_time: 0.011, memory: 6189, loss_rpn_cls: 0.0016, loss_rpn_bbox: 0.0258, loss_cls: 0.0794, acc: 96.7383, loss_bbox: 0.2137, loss: 0.3205\n",
      "2021-01-04 07:46:38,815 - mmdet - INFO - Epoch [20][250/2001]\tlr: 5.000e-05, eta: 1 day, 1:11:11, time: 0.822, data_time: 0.010, memory: 6189, loss_rpn_cls: 0.0018, loss_rpn_bbox: 0.0267, loss_cls: 0.0800, acc: 96.7002, loss_bbox: 0.2181, loss: 0.3266\n",
      "2021-01-04 07:47:19,989 - mmdet - INFO - Epoch [20][300/2001]\tlr: 5.000e-05, eta: 1 day, 1:09:06, time: 0.824, data_time: 0.010, memory: 6189, loss_rpn_cls: 0.0027, loss_rpn_bbox: 0.0325, loss_cls: 0.0793, acc: 96.7188, loss_bbox: 0.2200, loss: 0.3345\n",
      "2021-01-04 07:48:01,068 - mmdet - INFO - Epoch [20][350/2001]\tlr: 5.000e-05, eta: 1 day, 1:07:01, time: 0.822, data_time: 0.010, memory: 6189, loss_rpn_cls: 0.0024, loss_rpn_bbox: 0.0264, loss_cls: 0.0790, acc: 96.6660, loss_bbox: 0.2145, loss: 0.3224\n",
      "2021-01-04 07:48:42,112 - mmdet - INFO - Epoch [20][400/2001]\tlr: 5.000e-05, eta: 1 day, 1:04:56, time: 0.821, data_time: 0.010, memory: 6189, loss_rpn_cls: 0.0031, loss_rpn_bbox: 0.0303, loss_cls: 0.0832, acc: 96.5791, loss_bbox: 0.2236, loss: 0.3402\n",
      "2021-01-04 07:49:23,268 - mmdet - INFO - Epoch [20][450/2001]\tlr: 5.000e-05, eta: 1 day, 1:02:51, time: 0.823, data_time: 0.011, memory: 6189, loss_rpn_cls: 0.0023, loss_rpn_bbox: 0.0295, loss_cls: 0.0830, acc: 96.6250, loss_bbox: 0.2229, loss: 0.3377\n",
      "2021-01-04 07:50:04,234 - mmdet - INFO - Epoch [20][500/2001]\tlr: 5.000e-05, eta: 1 day, 1:00:47, time: 0.819, data_time: 0.011, memory: 6189, loss_rpn_cls: 0.0014, loss_rpn_bbox: 0.0280, loss_cls: 0.0803, acc: 96.6904, loss_bbox: 0.2152, loss: 0.3249\n",
      "2021-01-04 07:50:45,180 - mmdet - INFO - Epoch [20][550/2001]\tlr: 5.000e-05, eta: 1 day, 0:58:42, time: 0.819, data_time: 0.010, memory: 6189, loss_rpn_cls: 0.0023, loss_rpn_bbox: 0.0297, loss_cls: 0.0808, acc: 96.6816, loss_bbox: 0.2188, loss: 0.3316\n",
      "2021-01-04 07:51:26,157 - mmdet - INFO - Epoch [20][600/2001]\tlr: 5.000e-05, eta: 1 day, 0:56:38, time: 0.820, data_time: 0.010, memory: 6189, loss_rpn_cls: 0.0020, loss_rpn_bbox: 0.0289, loss_cls: 0.0828, acc: 96.5449, loss_bbox: 0.2172, loss: 0.3310\n",
      "2021-01-04 07:52:07,117 - mmdet - INFO - Epoch [20][650/2001]\tlr: 5.000e-05, eta: 1 day, 0:54:34, time: 0.819, data_time: 0.010, memory: 6189, loss_rpn_cls: 0.0012, loss_rpn_bbox: 0.0256, loss_cls: 0.0840, acc: 96.5215, loss_bbox: 0.2133, loss: 0.3240\n",
      "2021-01-04 07:52:48,102 - mmdet - INFO - Epoch [20][700/2001]\tlr: 5.000e-05, eta: 1 day, 0:52:30, time: 0.820, data_time: 0.010, memory: 6189, loss_rpn_cls: 0.0022, loss_rpn_bbox: 0.0281, loss_cls: 0.0794, acc: 96.7139, loss_bbox: 0.2100, loss: 0.3198\n",
      "2021-01-04 07:53:29,041 - mmdet - INFO - Epoch [20][750/2001]\tlr: 5.000e-05, eta: 1 day, 0:50:26, time: 0.819, data_time: 0.010, memory: 6189, loss_rpn_cls: 0.0021, loss_rpn_bbox: 0.0300, loss_cls: 0.0824, acc: 96.6338, loss_bbox: 0.2210, loss: 0.3355\n",
      "2021-01-04 07:54:09,988 - mmdet - INFO - Epoch [20][800/2001]\tlr: 5.000e-05, eta: 1 day, 0:48:23, time: 0.819, data_time: 0.010, memory: 6189, loss_rpn_cls: 0.0022, loss_rpn_bbox: 0.0280, loss_cls: 0.0797, acc: 96.6807, loss_bbox: 0.2206, loss: 0.3304\n",
      "2021-01-04 07:54:50,951 - mmdet - INFO - Epoch [20][850/2001]\tlr: 5.000e-05, eta: 1 day, 0:46:19, time: 0.819, data_time: 0.010, memory: 6189, loss_rpn_cls: 0.0032, loss_rpn_bbox: 0.0304, loss_cls: 0.0796, acc: 96.6895, loss_bbox: 0.2148, loss: 0.3281\n",
      "2021-01-04 07:55:31,904 - mmdet - INFO - Epoch [20][900/2001]\tlr: 5.000e-05, eta: 1 day, 0:44:16, time: 0.819, data_time: 0.010, memory: 6189, loss_rpn_cls: 0.0023, loss_rpn_bbox: 0.0257, loss_cls: 0.0814, acc: 96.5918, loss_bbox: 0.2108, loss: 0.3201\n",
      "2021-01-04 07:56:12,894 - mmdet - INFO - Epoch [20][950/2001]\tlr: 5.000e-05, eta: 1 day, 0:42:14, time: 0.820, data_time: 0.010, memory: 6189, loss_rpn_cls: 0.0023, loss_rpn_bbox: 0.0274, loss_cls: 0.0840, acc: 96.4414, loss_bbox: 0.2143, loss: 0.3280\n",
      "2021-01-04 07:56:53,834 - mmdet - INFO - Epoch [20][1000/2001]\tlr: 5.000e-05, eta: 1 day, 0:40:11, time: 0.819, data_time: 0.010, memory: 6189, loss_rpn_cls: 0.0022, loss_rpn_bbox: 0.0328, loss_cls: 0.0809, acc: 96.6680, loss_bbox: 0.2214, loss: 0.3373\n",
      "2021-01-04 07:57:34,791 - mmdet - INFO - Epoch [20][1050/2001]\tlr: 5.000e-05, eta: 1 day, 0:38:09, time: 0.819, data_time: 0.011, memory: 6189, loss_rpn_cls: 0.0030, loss_rpn_bbox: 0.0284, loss_cls: 0.0805, acc: 96.6650, loss_bbox: 0.2205, loss: 0.3323\n",
      "2021-01-04 07:58:15,764 - mmdet - INFO - Epoch [20][1100/2001]\tlr: 5.000e-05, eta: 1 day, 0:36:06, time: 0.819, data_time: 0.010, memory: 6189, loss_rpn_cls: 0.0026, loss_rpn_bbox: 0.0285, loss_cls: 0.0812, acc: 96.6562, loss_bbox: 0.2171, loss: 0.3294\n",
      "2021-01-04 07:58:56,735 - mmdet - INFO - Epoch [20][1150/2001]\tlr: 5.000e-05, eta: 1 day, 0:34:05, time: 0.819, data_time: 0.010, memory: 6189, loss_rpn_cls: 0.0021, loss_rpn_bbox: 0.0301, loss_cls: 0.0853, acc: 96.5127, loss_bbox: 0.2224, loss: 0.3399\n",
      "2021-01-04 07:59:37,683 - mmdet - INFO - Epoch [20][1200/2001]\tlr: 5.000e-05, eta: 1 day, 0:32:03, time: 0.819, data_time: 0.010, memory: 6189, loss_rpn_cls: 0.0031, loss_rpn_bbox: 0.0288, loss_cls: 0.0802, acc: 96.6582, loss_bbox: 0.2192, loss: 0.3313\n",
      "2021-01-04 08:00:18,645 - mmdet - INFO - Epoch [20][1250/2001]\tlr: 5.000e-05, eta: 1 day, 0:30:01, time: 0.819, data_time: 0.011, memory: 6189, loss_rpn_cls: 0.0025, loss_rpn_bbox: 0.0280, loss_cls: 0.0797, acc: 96.6914, loss_bbox: 0.2140, loss: 0.3243\n",
      "2021-01-04 08:00:59,579 - mmdet - INFO - Epoch [20][1300/2001]\tlr: 5.000e-05, eta: 1 day, 0:28:00, time: 0.819, data_time: 0.010, memory: 6189, loss_rpn_cls: 0.0026, loss_rpn_bbox: 0.0297, loss_cls: 0.0802, acc: 96.7197, loss_bbox: 0.2153, loss: 0.3278\n",
      "2021-01-04 08:01:40,557 - mmdet - INFO - Epoch [20][1350/2001]\tlr: 5.000e-05, eta: 1 day, 0:25:59, time: 0.820, data_time: 0.010, memory: 6189, loss_rpn_cls: 0.0024, loss_rpn_bbox: 0.0272, loss_cls: 0.0787, acc: 96.7227, loss_bbox: 0.2123, loss: 0.3206\n",
      "2021-01-04 08:02:21,522 - mmdet - INFO - Epoch [20][1400/2001]\tlr: 5.000e-05, eta: 1 day, 0:23:58, time: 0.819, data_time: 0.010, memory: 6189, loss_rpn_cls: 0.0022, loss_rpn_bbox: 0.0263, loss_cls: 0.0834, acc: 96.5518, loss_bbox: 0.2150, loss: 0.3269\n",
      "2021-01-04 08:03:02,496 - mmdet - INFO - Epoch [20][1450/2001]\tlr: 5.000e-05, eta: 1 day, 0:21:57, time: 0.819, data_time: 0.010, memory: 6189, loss_rpn_cls: 0.0028, loss_rpn_bbox: 0.0258, loss_cls: 0.0835, acc: 96.4990, loss_bbox: 0.2196, loss: 0.3316\n",
      "2021-01-04 08:03:43,444 - mmdet - INFO - Epoch [20][1500/2001]\tlr: 5.000e-05, eta: 1 day, 0:19:56, time: 0.819, data_time: 0.011, memory: 6189, loss_rpn_cls: 0.0024, loss_rpn_bbox: 0.0295, loss_cls: 0.0817, acc: 96.6562, loss_bbox: 0.2213, loss: 0.3349\n",
      "2021-01-04 08:04:24,402 - mmdet - INFO - Epoch [20][1550/2001]\tlr: 5.000e-05, eta: 1 day, 0:17:56, time: 0.819, data_time: 0.010, memory: 6189, loss_rpn_cls: 0.0014, loss_rpn_bbox: 0.0257, loss_cls: 0.0792, acc: 96.6982, loss_bbox: 0.2113, loss: 0.3176\n",
      "2021-01-04 08:05:05,361 - mmdet - INFO - Epoch [20][1600/2001]\tlr: 5.000e-05, eta: 1 day, 0:15:56, time: 0.819, data_time: 0.010, memory: 6189, loss_rpn_cls: 0.0022, loss_rpn_bbox: 0.0292, loss_cls: 0.0819, acc: 96.5664, loss_bbox: 0.2189, loss: 0.3322\n",
      "2021-01-04 08:05:46,325 - mmdet - INFO - Epoch [20][1650/2001]\tlr: 5.000e-05, eta: 1 day, 0:13:56, time: 0.819, data_time: 0.010, memory: 6189, loss_rpn_cls: 0.0022, loss_rpn_bbox: 0.0270, loss_cls: 0.0828, acc: 96.5000, loss_bbox: 0.2189, loss: 0.3310\n"
     ]
    },
    {
     "name": "stderr",
     "output_type": "stream",
     "text": [
      "2021-01-04 08:06:27,288 - mmdet - INFO - Epoch [20][1700/2001]\tlr: 5.000e-05, eta: 1 day, 0:11:56, time: 0.819, data_time: 0.010, memory: 6189, loss_rpn_cls: 0.0022, loss_rpn_bbox: 0.0290, loss_cls: 0.0793, acc: 96.7441, loss_bbox: 0.2151, loss: 0.3256\n",
      "2021-01-04 08:07:08,234 - mmdet - INFO - Epoch [20][1750/2001]\tlr: 5.000e-05, eta: 1 day, 0:09:57, time: 0.819, data_time: 0.011, memory: 6189, loss_rpn_cls: 0.0021, loss_rpn_bbox: 0.0291, loss_cls: 0.0789, acc: 96.6982, loss_bbox: 0.2114, loss: 0.3216\n",
      "2021-01-04 08:07:49,211 - mmdet - INFO - Epoch [20][1800/2001]\tlr: 5.000e-05, eta: 1 day, 0:07:57, time: 0.820, data_time: 0.011, memory: 6189, loss_rpn_cls: 0.0022, loss_rpn_bbox: 0.0268, loss_cls: 0.0797, acc: 96.6533, loss_bbox: 0.2164, loss: 0.3251\n",
      "2021-01-04 08:08:30,157 - mmdet - INFO - Epoch [20][1850/2001]\tlr: 5.000e-05, eta: 1 day, 0:05:58, time: 0.819, data_time: 0.011, memory: 6189, loss_rpn_cls: 0.0029, loss_rpn_bbox: 0.0272, loss_cls: 0.0804, acc: 96.6680, loss_bbox: 0.2167, loss: 0.3272\n",
      "2021-01-04 08:09:11,133 - mmdet - INFO - Epoch [20][1900/2001]\tlr: 5.000e-05, eta: 1 day, 0:03:59, time: 0.819, data_time: 0.010, memory: 6189, loss_rpn_cls: 0.0019, loss_rpn_bbox: 0.0279, loss_cls: 0.0817, acc: 96.5664, loss_bbox: 0.2147, loss: 0.3262\n",
      "2021-01-04 08:09:52,086 - mmdet - INFO - Epoch [20][1950/2001]\tlr: 5.000e-05, eta: 1 day, 0:02:00, time: 0.819, data_time: 0.011, memory: 6189, loss_rpn_cls: 0.0020, loss_rpn_bbox: 0.0274, loss_cls: 0.0765, acc: 96.8506, loss_bbox: 0.2115, loss: 0.3174\n",
      "2021-01-04 08:10:33,138 - mmdet - INFO - Epoch [20][2000/2001]\tlr: 5.000e-05, eta: 1 day, 0:00:02, time: 0.821, data_time: 0.011, memory: 6189, loss_rpn_cls: 0.0029, loss_rpn_bbox: 0.0247, loss_cls: 0.0770, acc: 96.8203, loss_bbox: 0.2116, loss: 0.3161\n",
      "2021-01-04 08:10:33,869 - mmdet - INFO - Saving checkpoint at 20 epochs\n"
     ]
    },
    {
     "name": "stdout",
     "output_type": "stream",
     "text": [
      "[>>>>>>>>>>>>>>>>>>>>>>>>>>] 2013/2013, 11.1 task/s, elapsed: 182s, ETA:     0s"
     ]
    },
    {
     "name": "stderr",
     "output_type": "stream",
     "text": [
      "2021-01-04 08:13:36,121 - mmdet - INFO - \n",
      "Evaluateing valid_44.json with 2013 images now\n",
      "2021-01-04 08:13:36,592 - mmdet - INFO - Evaluating bbox...\n"
     ]
    },
    {
     "name": "stdout",
     "output_type": "stream",
     "text": [
      "Loading and preparing results...\n",
      "DONE (t=0.24s)\n",
      "creating index...\n",
      "index created!\n",
      "Running per image evaluation...\n",
      "Evaluate annotation type *bbox*\n",
      "DONE (t=16.15s).\n",
      "Accumulating evaluation results...\n"
     ]
    },
    {
     "name": "stderr",
     "output_type": "stream",
     "text": [
      "2021-01-04 08:13:53,789 - mmdet - INFO - Epoch(val) [20][2001]\t0_bbox_mAP: 0.2840, 0_bbox_mAP_50: 0.4700, 0_bbox_mAP_75: 0.3190, 0_bbox_mAP_s: 0.2790, 0_bbox_mAP_m: 0.4610, 0_bbox_mAP_l: -1.0000, 0_bbox_mAP_copypaste: 0.284 0.470 0.319 0.279 0.461 -1.000\n"
     ]
    },
    {
     "name": "stdout",
     "output_type": "stream",
     "text": [
      "DONE (t=0.72s).\n",
      "Average Precision  (AP) @[ IoU=0.50:0.95 | area=   all | maxDets=100 ] = 0.284\n",
      "Average Precision  (AP) @[ IoU=0.50      | area=   all | maxDets=1000 ] = 0.470\n",
      "Average Precision  (AP) @[ IoU=0.75      | area=   all | maxDets=1000 ] = 0.319\n",
      "Average Precision  (AP) @[ IoU=0.50:0.95 | area= small | maxDets=1000 ] = 0.279\n",
      "Average Precision  (AP) @[ IoU=0.50:0.95 | area=medium | maxDets=1000 ] = 0.461\n",
      "Average Precision  (AP) @[ IoU=0.50:0.95 | area= large | maxDets=1000 ] = -1.000\n",
      "Average Recall     (AR) @[ IoU=0.50:0.95 | area=   all | maxDets=100 ] = 0.354\n",
      "Average Recall     (AR) @[ IoU=0.50:0.95 | area=   all | maxDets=300 ] = 0.354\n",
      "Average Recall     (AR) @[ IoU=0.50:0.95 | area=   all | maxDets=1000 ] = 0.354\n",
      "Average Recall     (AR) @[ IoU=0.50:0.95 | area= small | maxDets=1000 ] = 0.350\n",
      "Average Recall     (AR) @[ IoU=0.50:0.95 | area=medium | maxDets=1000 ] = 0.510\n",
      "Average Recall     (AR) @[ IoU=0.50:0.95 | area= large | maxDets=1000 ] = -1.000\n"
     ]
    },
    {
     "name": "stderr",
     "output_type": "stream",
     "text": [
      "2021-01-04 08:14:37,170 - mmdet - INFO - Epoch [21][50/2001]\tlr: 5.000e-05, eta: 23:58:03, time: 0.864, data_time: 0.056, memory: 6189, loss_rpn_cls: 0.0024, loss_rpn_bbox: 0.0293, loss_cls: 0.0828, acc: 96.6143, loss_bbox: 0.2249, loss: 0.3395\n",
      "2021-01-04 08:15:18,127 - mmdet - INFO - Epoch [21][100/2001]\tlr: 5.000e-05, eta: 23:56:05, time: 0.819, data_time: 0.010, memory: 6189, loss_rpn_cls: 0.0029, loss_rpn_bbox: 0.0296, loss_cls: 0.0790, acc: 96.7070, loss_bbox: 0.2173, loss: 0.3288\n",
      "2021-01-04 08:15:59,120 - mmdet - INFO - Epoch [21][150/2001]\tlr: 5.000e-05, eta: 23:54:07, time: 0.820, data_time: 0.010, memory: 6189, loss_rpn_cls: 0.0019, loss_rpn_bbox: 0.0296, loss_cls: 0.0816, acc: 96.5928, loss_bbox: 0.2195, loss: 0.3326\n",
      "2021-01-04 08:16:40,193 - mmdet - INFO - Epoch [21][200/2001]\tlr: 5.000e-05, eta: 23:52:10, time: 0.821, data_time: 0.010, memory: 6189, loss_rpn_cls: 0.0026, loss_rpn_bbox: 0.0263, loss_cls: 0.0776, acc: 96.7871, loss_bbox: 0.2137, loss: 0.3201\n",
      "2021-01-04 08:17:21,414 - mmdet - INFO - Epoch [21][250/2001]\tlr: 5.000e-05, eta: 23:50:12, time: 0.825, data_time: 0.011, memory: 6189, loss_rpn_cls: 0.0033, loss_rpn_bbox: 0.0312, loss_cls: 0.0813, acc: 96.5879, loss_bbox: 0.2228, loss: 0.3386\n",
      "2021-01-04 08:18:02,661 - mmdet - INFO - Epoch [21][300/2001]\tlr: 5.000e-05, eta: 23:48:15, time: 0.824, data_time: 0.010, memory: 6189, loss_rpn_cls: 0.0024, loss_rpn_bbox: 0.0252, loss_cls: 0.0822, acc: 96.6094, loss_bbox: 0.2133, loss: 0.3230\n",
      "2021-01-04 08:18:43,775 - mmdet - INFO - Epoch [21][350/2001]\tlr: 5.000e-05, eta: 23:46:18, time: 0.823, data_time: 0.011, memory: 6189, loss_rpn_cls: 0.0017, loss_rpn_bbox: 0.0303, loss_cls: 0.0795, acc: 96.6934, loss_bbox: 0.2141, loss: 0.3256\n",
      "2021-01-04 08:19:24,741 - mmdet - INFO - Epoch [21][400/2001]\tlr: 5.000e-05, eta: 23:44:21, time: 0.819, data_time: 0.011, memory: 6189, loss_rpn_cls: 0.0027, loss_rpn_bbox: 0.0294, loss_cls: 0.0813, acc: 96.5713, loss_bbox: 0.2192, loss: 0.3326\n",
      "2021-01-04 08:20:05,702 - mmdet - INFO - Epoch [21][450/2001]\tlr: 5.000e-05, eta: 23:42:24, time: 0.819, data_time: 0.010, memory: 6189, loss_rpn_cls: 0.0027, loss_rpn_bbox: 0.0291, loss_cls: 0.0798, acc: 96.7021, loss_bbox: 0.2168, loss: 0.3284\n",
      "2021-01-04 08:20:46,658 - mmdet - INFO - Epoch [21][500/2001]\tlr: 5.000e-05, eta: 23:40:28, time: 0.819, data_time: 0.010, memory: 6189, loss_rpn_cls: 0.0020, loss_rpn_bbox: 0.0288, loss_cls: 0.0830, acc: 96.5527, loss_bbox: 0.2216, loss: 0.3354\n",
      "2021-01-04 08:21:27,608 - mmdet - INFO - Epoch [21][550/2001]\tlr: 5.000e-05, eta: 23:38:31, time: 0.819, data_time: 0.011, memory: 6189, loss_rpn_cls: 0.0029, loss_rpn_bbox: 0.0277, loss_cls: 0.0767, acc: 96.7959, loss_bbox: 0.2157, loss: 0.3230\n",
      "2021-01-04 08:22:08,549 - mmdet - INFO - Epoch [21][600/2001]\tlr: 5.000e-05, eta: 23:36:35, time: 0.819, data_time: 0.010, memory: 6189, loss_rpn_cls: 0.0030, loss_rpn_bbox: 0.0291, loss_cls: 0.0818, acc: 96.5830, loss_bbox: 0.2147, loss: 0.3285\n",
      "2021-01-04 08:22:49,519 - mmdet - INFO - Epoch [21][650/2001]\tlr: 5.000e-05, eta: 23:34:39, time: 0.819, data_time: 0.010, memory: 6189, loss_rpn_cls: 0.0018, loss_rpn_bbox: 0.0295, loss_cls: 0.0810, acc: 96.6670, loss_bbox: 0.2147, loss: 0.3269\n",
      "2021-01-04 08:23:30,495 - mmdet - INFO - Epoch [21][700/2001]\tlr: 5.000e-05, eta: 23:32:43, time: 0.819, data_time: 0.010, memory: 6189, loss_rpn_cls: 0.0022, loss_rpn_bbox: 0.0262, loss_cls: 0.0822, acc: 96.5557, loss_bbox: 0.2111, loss: 0.3217\n",
      "2021-01-04 08:24:11,446 - mmdet - INFO - Epoch [21][750/2001]\tlr: 5.000e-05, eta: 23:30:47, time: 0.819, data_time: 0.011, memory: 6189, loss_rpn_cls: 0.0024, loss_rpn_bbox: 0.0292, loss_cls: 0.0801, acc: 96.6699, loss_bbox: 0.2199, loss: 0.3316\n",
      "2021-01-04 08:24:52,406 - mmdet - INFO - Epoch [21][800/2001]\tlr: 5.000e-05, eta: 23:28:52, time: 0.819, data_time: 0.010, memory: 6189, loss_rpn_cls: 0.0024, loss_rpn_bbox: 0.0301, loss_cls: 0.0794, acc: 96.7373, loss_bbox: 0.2139, loss: 0.3258\n",
      "2021-01-04 08:25:33,373 - mmdet - INFO - Epoch [21][850/2001]\tlr: 5.000e-05, eta: 23:26:56, time: 0.819, data_time: 0.010, memory: 6189, loss_rpn_cls: 0.0029, loss_rpn_bbox: 0.0281, loss_cls: 0.0795, acc: 96.7031, loss_bbox: 0.2129, loss: 0.3234\n",
      "2021-01-04 08:26:14,329 - mmdet - INFO - Epoch [21][900/2001]\tlr: 5.000e-05, eta: 23:25:01, time: 0.819, data_time: 0.010, memory: 6189, loss_rpn_cls: 0.0025, loss_rpn_bbox: 0.0258, loss_cls: 0.0808, acc: 96.6494, loss_bbox: 0.2164, loss: 0.3255\n",
      "2021-01-04 08:26:55,312 - mmdet - INFO - Epoch [21][950/2001]\tlr: 5.000e-05, eta: 23:23:06, time: 0.820, data_time: 0.011, memory: 6189, loss_rpn_cls: 0.0020, loss_rpn_bbox: 0.0274, loss_cls: 0.0785, acc: 96.7832, loss_bbox: 0.2096, loss: 0.3174\n",
      "2021-01-04 08:27:36,220 - mmdet - INFO - Epoch [21][1000/2001]\tlr: 5.000e-05, eta: 23:21:11, time: 0.818, data_time: 0.010, memory: 6189, loss_rpn_cls: 0.0028, loss_rpn_bbox: 0.0298, loss_cls: 0.0811, acc: 96.6709, loss_bbox: 0.2186, loss: 0.3322\n",
      "2021-01-04 08:28:17,295 - mmdet - INFO - Epoch [21][1050/2001]\tlr: 5.000e-05, eta: 23:19:17, time: 0.821, data_time: 0.011, memory: 6189, loss_rpn_cls: 0.0025, loss_rpn_bbox: 0.0270, loss_cls: 0.0784, acc: 96.7393, loss_bbox: 0.2115, loss: 0.3195\n",
      "2021-01-04 08:28:58,163 - mmdet - INFO - Epoch [21][1100/2001]\tlr: 5.000e-05, eta: 23:17:22, time: 0.817, data_time: 0.011, memory: 6189, loss_rpn_cls: 0.0023, loss_rpn_bbox: 0.0297, loss_cls: 0.0814, acc: 96.6367, loss_bbox: 0.2219, loss: 0.3353\n",
      "2021-01-04 08:29:39,121 - mmdet - INFO - Epoch [21][1150/2001]\tlr: 5.000e-05, eta: 23:15:28, time: 0.819, data_time: 0.011, memory: 6189, loss_rpn_cls: 0.0025, loss_rpn_bbox: 0.0282, loss_cls: 0.0798, acc: 96.7031, loss_bbox: 0.2143, loss: 0.3248\n",
      "2021-01-04 08:30:20,112 - mmdet - INFO - Epoch [21][1200/2001]\tlr: 5.000e-05, eta: 23:13:34, time: 0.820, data_time: 0.011, memory: 6189, loss_rpn_cls: 0.0022, loss_rpn_bbox: 0.0273, loss_cls: 0.0798, acc: 96.6260, loss_bbox: 0.2187, loss: 0.3281\n",
      "2021-01-04 08:31:01,046 - mmdet - INFO - Epoch [21][1250/2001]\tlr: 5.000e-05, eta: 23:11:40, time: 0.819, data_time: 0.010, memory: 6189, loss_rpn_cls: 0.0030, loss_rpn_bbox: 0.0288, loss_cls: 0.0799, acc: 96.7188, loss_bbox: 0.2167, loss: 0.3285\n",
      "2021-01-04 08:31:42,000 - mmdet - INFO - Epoch [21][1300/2001]\tlr: 5.000e-05, eta: 23:09:46, time: 0.819, data_time: 0.011, memory: 6189, loss_rpn_cls: 0.0033, loss_rpn_bbox: 0.0268, loss_cls: 0.0814, acc: 96.5957, loss_bbox: 0.2202, loss: 0.3317\n",
      "2021-01-04 08:32:22,974 - mmdet - INFO - Epoch [21][1350/2001]\tlr: 5.000e-05, eta: 23:07:52, time: 0.819, data_time: 0.010, memory: 6189, loss_rpn_cls: 0.0022, loss_rpn_bbox: 0.0255, loss_cls: 0.0788, acc: 96.7061, loss_bbox: 0.2055, loss: 0.3120\n",
      "2021-01-04 08:33:03,915 - mmdet - INFO - Epoch [21][1400/2001]\tlr: 5.000e-05, eta: 23:05:59, time: 0.819, data_time: 0.010, memory: 6189, loss_rpn_cls: 0.0020, loss_rpn_bbox: 0.0265, loss_cls: 0.0806, acc: 96.6992, loss_bbox: 0.2135, loss: 0.3226\n",
      "2021-01-04 08:33:44,888 - mmdet - INFO - Epoch [21][1450/2001]\tlr: 5.000e-05, eta: 23:04:06, time: 0.819, data_time: 0.011, memory: 6189, loss_rpn_cls: 0.0026, loss_rpn_bbox: 0.0290, loss_cls: 0.0815, acc: 96.6523, loss_bbox: 0.2176, loss: 0.3307\n",
      "2021-01-04 08:34:25,884 - mmdet - INFO - Epoch [21][1500/2001]\tlr: 5.000e-05, eta: 23:02:13, time: 0.820, data_time: 0.011, memory: 6189, loss_rpn_cls: 0.0019, loss_rpn_bbox: 0.0275, loss_cls: 0.0784, acc: 96.8096, loss_bbox: 0.2149, loss: 0.3228\n",
      "2021-01-04 08:35:06,823 - mmdet - INFO - Epoch [21][1550/2001]\tlr: 5.000e-05, eta: 23:00:20, time: 0.819, data_time: 0.011, memory: 6189, loss_rpn_cls: 0.0027, loss_rpn_bbox: 0.0278, loss_cls: 0.0791, acc: 96.7568, loss_bbox: 0.2164, loss: 0.3260\n",
      "2021-01-04 08:35:47,771 - mmdet - INFO - Epoch [21][1600/2001]\tlr: 5.000e-05, eta: 22:58:27, time: 0.819, data_time: 0.011, memory: 6189, loss_rpn_cls: 0.0023, loss_rpn_bbox: 0.0287, loss_cls: 0.0801, acc: 96.7012, loss_bbox: 0.2169, loss: 0.3279\n",
      "2021-01-04 08:36:28,747 - mmdet - INFO - Epoch [21][1650/2001]\tlr: 5.000e-05, eta: 22:56:35, time: 0.819, data_time: 0.011, memory: 6189, loss_rpn_cls: 0.0021, loss_rpn_bbox: 0.0270, loss_cls: 0.0834, acc: 96.5176, loss_bbox: 0.2216, loss: 0.3341\n",
      "2021-01-04 08:37:09,699 - mmdet - INFO - Epoch [21][1700/2001]\tlr: 5.000e-05, eta: 22:54:42, time: 0.819, data_time: 0.011, memory: 6189, loss_rpn_cls: 0.0020, loss_rpn_bbox: 0.0269, loss_cls: 0.0805, acc: 96.6924, loss_bbox: 0.2158, loss: 0.3251\n"
     ]
    },
    {
     "name": "stderr",
     "output_type": "stream",
     "text": [
      "2021-01-04 08:37:50,654 - mmdet - INFO - Epoch [21][1750/2001]\tlr: 5.000e-05, eta: 22:52:50, time: 0.819, data_time: 0.011, memory: 6189, loss_rpn_cls: 0.0027, loss_rpn_bbox: 0.0293, loss_cls: 0.0790, acc: 96.7695, loss_bbox: 0.2164, loss: 0.3273\n",
      "2021-01-04 08:38:31,622 - mmdet - INFO - Epoch [21][1800/2001]\tlr: 5.000e-05, eta: 22:50:58, time: 0.819, data_time: 0.011, memory: 6189, loss_rpn_cls: 0.0024, loss_rpn_bbox: 0.0249, loss_cls: 0.0786, acc: 96.7422, loss_bbox: 0.2107, loss: 0.3165\n",
      "2021-01-04 08:39:12,575 - mmdet - INFO - Epoch [21][1850/2001]\tlr: 5.000e-05, eta: 22:49:06, time: 0.819, data_time: 0.011, memory: 6189, loss_rpn_cls: 0.0019, loss_rpn_bbox: 0.0285, loss_cls: 0.0797, acc: 96.6592, loss_bbox: 0.2129, loss: 0.3230\n",
      "2021-01-04 08:39:53,546 - mmdet - INFO - Epoch [21][1900/2001]\tlr: 5.000e-05, eta: 22:47:14, time: 0.819, data_time: 0.011, memory: 6189, loss_rpn_cls: 0.0023, loss_rpn_bbox: 0.0288, loss_cls: 0.0794, acc: 96.6826, loss_bbox: 0.2172, loss: 0.3277\n",
      "2021-01-04 08:40:34,477 - mmdet - INFO - Epoch [21][1950/2001]\tlr: 5.000e-05, eta: 22:45:23, time: 0.819, data_time: 0.011, memory: 6189, loss_rpn_cls: 0.0023, loss_rpn_bbox: 0.0270, loss_cls: 0.0802, acc: 96.7012, loss_bbox: 0.2174, loss: 0.3270\n",
      "2021-01-04 08:41:15,452 - mmdet - INFO - Epoch [21][2000/2001]\tlr: 5.000e-05, eta: 22:43:31, time: 0.819, data_time: 0.011, memory: 6189, loss_rpn_cls: 0.0023, loss_rpn_bbox: 0.0284, loss_cls: 0.0794, acc: 96.7168, loss_bbox: 0.2165, loss: 0.3266\n",
      "2021-01-04 08:41:16,166 - mmdet - INFO - Saving checkpoint at 21 epochs\n"
     ]
    },
    {
     "name": "stdout",
     "output_type": "stream",
     "text": [
      "[>>>>>>>>>>>>>>>>>>>>>>>>>>] 2013/2013, 11.1 task/s, elapsed: 181s, ETA:     0s"
     ]
    },
    {
     "name": "stderr",
     "output_type": "stream",
     "text": [
      "2021-01-04 08:44:18,035 - mmdet - INFO - \n",
      "Evaluateing valid_44.json with 2013 images now\n",
      "2021-01-04 08:44:18,501 - mmdet - INFO - Evaluating bbox...\n"
     ]
    },
    {
     "name": "stdout",
     "output_type": "stream",
     "text": [
      "Loading and preparing results...\n",
      "DONE (t=0.25s)\n",
      "creating index...\n",
      "index created!\n",
      "Running per image evaluation...\n",
      "Evaluate annotation type *bbox*\n",
      "DONE (t=16.03s).\n",
      "Accumulating evaluation results...\n"
     ]
    },
    {
     "name": "stderr",
     "output_type": "stream",
     "text": [
      "2021-01-04 08:44:35,567 - mmdet - INFO - Epoch(val) [21][2001]\t0_bbox_mAP: 0.2850, 0_bbox_mAP_50: 0.4700, 0_bbox_mAP_75: 0.3200, 0_bbox_mAP_s: 0.2800, 0_bbox_mAP_m: 0.4610, 0_bbox_mAP_l: -1.0000, 0_bbox_mAP_copypaste: 0.285 0.470 0.320 0.280 0.461 -1.000\n"
     ]
    },
    {
     "name": "stdout",
     "output_type": "stream",
     "text": [
      "DONE (t=0.71s).\n",
      "Average Precision  (AP) @[ IoU=0.50:0.95 | area=   all | maxDets=100 ] = 0.285\n",
      "Average Precision  (AP) @[ IoU=0.50      | area=   all | maxDets=1000 ] = 0.470\n",
      "Average Precision  (AP) @[ IoU=0.75      | area=   all | maxDets=1000 ] = 0.320\n",
      "Average Precision  (AP) @[ IoU=0.50:0.95 | area= small | maxDets=1000 ] = 0.280\n",
      "Average Precision  (AP) @[ IoU=0.50:0.95 | area=medium | maxDets=1000 ] = 0.461\n",
      "Average Precision  (AP) @[ IoU=0.50:0.95 | area= large | maxDets=1000 ] = -1.000\n",
      "Average Recall     (AR) @[ IoU=0.50:0.95 | area=   all | maxDets=100 ] = 0.353\n",
      "Average Recall     (AR) @[ IoU=0.50:0.95 | area=   all | maxDets=300 ] = 0.353\n",
      "Average Recall     (AR) @[ IoU=0.50:0.95 | area=   all | maxDets=1000 ] = 0.353\n",
      "Average Recall     (AR) @[ IoU=0.50:0.95 | area= small | maxDets=1000 ] = 0.349\n",
      "Average Recall     (AR) @[ IoU=0.50:0.95 | area=medium | maxDets=1000 ] = 0.511\n",
      "Average Recall     (AR) @[ IoU=0.50:0.95 | area= large | maxDets=1000 ] = -1.000\n"
     ]
    },
    {
     "name": "stderr",
     "output_type": "stream",
     "text": [
      "2021-01-04 08:45:18,966 - mmdet - INFO - Epoch [22][50/2001]\tlr: 5.000e-05, eta: 22:41:40, time: 0.864, data_time: 0.055, memory: 6189, loss_rpn_cls: 0.0029, loss_rpn_bbox: 0.0287, loss_cls: 0.0795, acc: 96.6738, loss_bbox: 0.2250, loss: 0.3362\n",
      "2021-01-04 08:45:59,895 - mmdet - INFO - Epoch [22][100/2001]\tlr: 5.000e-05, eta: 22:39:49, time: 0.819, data_time: 0.010, memory: 6189, loss_rpn_cls: 0.0023, loss_rpn_bbox: 0.0270, loss_cls: 0.0808, acc: 96.6689, loss_bbox: 0.2162, loss: 0.3263\n",
      "2021-01-04 08:46:40,901 - mmdet - INFO - Epoch [22][150/2001]\tlr: 5.000e-05, eta: 22:37:58, time: 0.820, data_time: 0.011, memory: 6189, loss_rpn_cls: 0.0019, loss_rpn_bbox: 0.0290, loss_cls: 0.0824, acc: 96.5898, loss_bbox: 0.2197, loss: 0.3329\n",
      "2021-01-04 08:47:21,863 - mmdet - INFO - Epoch [22][200/2001]\tlr: 5.000e-05, eta: 22:36:07, time: 0.819, data_time: 0.010, memory: 6189, loss_rpn_cls: 0.0025, loss_rpn_bbox: 0.0281, loss_cls: 0.0826, acc: 96.5459, loss_bbox: 0.2158, loss: 0.3291\n",
      "2021-01-04 08:48:02,807 - mmdet - INFO - Epoch [22][250/2001]\tlr: 5.000e-05, eta: 22:34:17, time: 0.819, data_time: 0.011, memory: 6189, loss_rpn_cls: 0.0029, loss_rpn_bbox: 0.0287, loss_cls: 0.0814, acc: 96.6973, loss_bbox: 0.2120, loss: 0.3250\n",
      "2021-01-04 08:48:44,005 - mmdet - INFO - Epoch [22][300/2001]\tlr: 5.000e-05, eta: 22:32:27, time: 0.824, data_time: 0.011, memory: 6189, loss_rpn_cls: 0.0020, loss_rpn_bbox: 0.0263, loss_cls: 0.0793, acc: 96.6611, loss_bbox: 0.2144, loss: 0.3219\n",
      "2021-01-04 08:49:25,011 - mmdet - INFO - Epoch [22][350/2001]\tlr: 5.000e-05, eta: 22:30:37, time: 0.820, data_time: 0.011, memory: 6189, loss_rpn_cls: 0.0020, loss_rpn_bbox: 0.0300, loss_cls: 0.0816, acc: 96.6348, loss_bbox: 0.2198, loss: 0.3333\n",
      "2021-01-04 08:50:06,343 - mmdet - INFO - Epoch [22][400/2001]\tlr: 5.000e-05, eta: 22:28:47, time: 0.826, data_time: 0.011, memory: 6189, loss_rpn_cls: 0.0018, loss_rpn_bbox: 0.0285, loss_cls: 0.0786, acc: 96.7246, loss_bbox: 0.2122, loss: 0.3211\n",
      "2021-01-04 08:50:47,285 - mmdet - INFO - Epoch [22][450/2001]\tlr: 5.000e-05, eta: 22:26:57, time: 0.819, data_time: 0.011, memory: 6189, loss_rpn_cls: 0.0024, loss_rpn_bbox: 0.0268, loss_cls: 0.0798, acc: 96.6973, loss_bbox: 0.2094, loss: 0.3184\n",
      "2021-01-04 08:51:28,233 - mmdet - INFO - Epoch [22][500/2001]\tlr: 5.000e-05, eta: 22:25:08, time: 0.819, data_time: 0.011, memory: 6189, loss_rpn_cls: 0.0029, loss_rpn_bbox: 0.0296, loss_cls: 0.0847, acc: 96.4375, loss_bbox: 0.2177, loss: 0.3349\n",
      "2021-01-04 08:52:09,210 - mmdet - INFO - Epoch [22][550/2001]\tlr: 5.000e-05, eta: 22:23:18, time: 0.820, data_time: 0.011, memory: 6189, loss_rpn_cls: 0.0031, loss_rpn_bbox: 0.0264, loss_cls: 0.0843, acc: 96.5205, loss_bbox: 0.2236, loss: 0.3374\n",
      "2021-01-04 08:52:50,364 - mmdet - INFO - Epoch [22][600/2001]\tlr: 5.000e-05, eta: 22:21:29, time: 0.823, data_time: 0.011, memory: 6189, loss_rpn_cls: 0.0028, loss_rpn_bbox: 0.0296, loss_cls: 0.0804, acc: 96.6455, loss_bbox: 0.2157, loss: 0.3285\n",
      "2021-01-04 08:53:31,355 - mmdet - INFO - Epoch [22][650/2001]\tlr: 5.000e-05, eta: 22:19:40, time: 0.820, data_time: 0.011, memory: 6189, loss_rpn_cls: 0.0023, loss_rpn_bbox: 0.0297, loss_cls: 0.0802, acc: 96.6299, loss_bbox: 0.2129, loss: 0.3251\n",
      "2021-01-04 08:54:12,367 - mmdet - INFO - Epoch [22][700/2001]\tlr: 5.000e-05, eta: 22:17:51, time: 0.820, data_time: 0.011, memory: 6189, loss_rpn_cls: 0.0024, loss_rpn_bbox: 0.0258, loss_cls: 0.0793, acc: 96.6934, loss_bbox: 0.2108, loss: 0.3182\n",
      "2021-01-04 08:54:53,457 - mmdet - INFO - Epoch [22][750/2001]\tlr: 5.000e-05, eta: 22:16:02, time: 0.822, data_time: 0.011, memory: 6189, loss_rpn_cls: 0.0025, loss_rpn_bbox: 0.0292, loss_cls: 0.0817, acc: 96.6299, loss_bbox: 0.2160, loss: 0.3293\n",
      "2021-01-04 08:55:34,381 - mmdet - INFO - Epoch [22][800/2001]\tlr: 5.000e-05, eta: 22:14:13, time: 0.818, data_time: 0.011, memory: 6189, loss_rpn_cls: 0.0029, loss_rpn_bbox: 0.0274, loss_cls: 0.0768, acc: 96.8037, loss_bbox: 0.2146, loss: 0.3217\n",
      "2021-01-04 08:56:15,376 - mmdet - INFO - Epoch [22][850/2001]\tlr: 5.000e-05, eta: 22:12:25, time: 0.820, data_time: 0.011, memory: 6189, loss_rpn_cls: 0.0031, loss_rpn_bbox: 0.0296, loss_cls: 0.0794, acc: 96.6953, loss_bbox: 0.2171, loss: 0.3292\n",
      "2021-01-04 08:56:56,320 - mmdet - INFO - Epoch [22][900/2001]\tlr: 5.000e-05, eta: 22:10:36, time: 0.819, data_time: 0.011, memory: 6189, loss_rpn_cls: 0.0019, loss_rpn_bbox: 0.0281, loss_cls: 0.0834, acc: 96.5068, loss_bbox: 0.2167, loss: 0.3301\n",
      "2021-01-04 08:57:37,348 - mmdet - INFO - Epoch [22][950/2001]\tlr: 5.000e-05, eta: 22:08:48, time: 0.820, data_time: 0.011, memory: 6189, loss_rpn_cls: 0.0026, loss_rpn_bbox: 0.0270, loss_cls: 0.0822, acc: 96.5498, loss_bbox: 0.2138, loss: 0.3256\n",
      "2021-01-04 08:58:18,276 - mmdet - INFO - Epoch [22][1000/2001]\tlr: 5.000e-05, eta: 22:07:00, time: 0.819, data_time: 0.011, memory: 6189, loss_rpn_cls: 0.0025, loss_rpn_bbox: 0.0265, loss_cls: 0.0815, acc: 96.5928, loss_bbox: 0.2158, loss: 0.3263\n",
      "2021-01-04 08:58:59,213 - mmdet - INFO - Epoch [22][1050/2001]\tlr: 5.000e-05, eta: 22:05:12, time: 0.819, data_time: 0.011, memory: 6189, loss_rpn_cls: 0.0020, loss_rpn_bbox: 0.0283, loss_cls: 0.0805, acc: 96.6689, loss_bbox: 0.2181, loss: 0.3289\n",
      "2021-01-04 08:59:40,157 - mmdet - INFO - Epoch [22][1100/2001]\tlr: 5.000e-05, eta: 22:03:24, time: 0.819, data_time: 0.011, memory: 6189, loss_rpn_cls: 0.0030, loss_rpn_bbox: 0.0296, loss_cls: 0.0798, acc: 96.7148, loss_bbox: 0.2185, loss: 0.3308\n",
      "2021-01-04 09:00:21,116 - mmdet - INFO - Epoch [22][1150/2001]\tlr: 5.000e-05, eta: 22:01:36, time: 0.819, data_time: 0.010, memory: 6189, loss_rpn_cls: 0.0025, loss_rpn_bbox: 0.0265, loss_cls: 0.0813, acc: 96.6182, loss_bbox: 0.2171, loss: 0.3274\n",
      "2021-01-04 09:01:02,121 - mmdet - INFO - Epoch [22][1200/2001]\tlr: 5.000e-05, eta: 21:59:49, time: 0.820, data_time: 0.011, memory: 6189, loss_rpn_cls: 0.0025, loss_rpn_bbox: 0.0299, loss_cls: 0.0838, acc: 96.4727, loss_bbox: 0.2179, loss: 0.3340\n",
      "2021-01-04 09:01:43,063 - mmdet - INFO - Epoch [22][1250/2001]\tlr: 5.000e-05, eta: 21:58:01, time: 0.819, data_time: 0.011, memory: 6189, loss_rpn_cls: 0.0027, loss_rpn_bbox: 0.0274, loss_cls: 0.0800, acc: 96.6904, loss_bbox: 0.2162, loss: 0.3264\n",
      "2021-01-04 09:02:24,014 - mmdet - INFO - Epoch [22][1300/2001]\tlr: 5.000e-05, eta: 21:56:14, time: 0.819, data_time: 0.011, memory: 6189, loss_rpn_cls: 0.0019, loss_rpn_bbox: 0.0282, loss_cls: 0.0813, acc: 96.5947, loss_bbox: 0.2156, loss: 0.3270\n",
      "2021-01-04 09:03:04,975 - mmdet - INFO - Epoch [22][1350/2001]\tlr: 5.000e-05, eta: 21:54:27, time: 0.819, data_time: 0.011, memory: 6189, loss_rpn_cls: 0.0028, loss_rpn_bbox: 0.0278, loss_cls: 0.0766, acc: 96.8174, loss_bbox: 0.2138, loss: 0.3210\n",
      "2021-01-04 09:03:45,930 - mmdet - INFO - Epoch [22][1400/2001]\tlr: 5.000e-05, eta: 21:52:40, time: 0.819, data_time: 0.011, memory: 6189, loss_rpn_cls: 0.0015, loss_rpn_bbox: 0.0273, loss_cls: 0.0810, acc: 96.6172, loss_bbox: 0.2159, loss: 0.3258\n",
      "2021-01-04 09:04:26,944 - mmdet - INFO - Epoch [22][1450/2001]\tlr: 5.000e-05, eta: 21:50:54, time: 0.820, data_time: 0.011, memory: 6189, loss_rpn_cls: 0.0022, loss_rpn_bbox: 0.0256, loss_cls: 0.0828, acc: 96.5381, loss_bbox: 0.2198, loss: 0.3304\n",
      "2021-01-04 09:05:08,112 - mmdet - INFO - Epoch [22][1500/2001]\tlr: 5.000e-05, eta: 21:49:07, time: 0.823, data_time: 0.011, memory: 6189, loss_rpn_cls: 0.0023, loss_rpn_bbox: 0.0280, loss_cls: 0.0802, acc: 96.6455, loss_bbox: 0.2135, loss: 0.3240\n",
      "2021-01-04 09:05:49,025 - mmdet - INFO - Epoch [22][1550/2001]\tlr: 5.000e-05, eta: 21:47:21, time: 0.818, data_time: 0.011, memory: 6189, loss_rpn_cls: 0.0023, loss_rpn_bbox: 0.0287, loss_cls: 0.0788, acc: 96.7266, loss_bbox: 0.2118, loss: 0.3217\n",
      "2021-01-04 09:06:29,988 - mmdet - INFO - Epoch [22][1600/2001]\tlr: 5.000e-05, eta: 21:45:35, time: 0.819, data_time: 0.011, memory: 6189, loss_rpn_cls: 0.0027, loss_rpn_bbox: 0.0296, loss_cls: 0.0820, acc: 96.5293, loss_bbox: 0.2191, loss: 0.3334\n",
      "2021-01-04 09:07:10,950 - mmdet - INFO - Epoch [22][1650/2001]\tlr: 5.000e-05, eta: 21:43:48, time: 0.819, data_time: 0.011, memory: 6189, loss_rpn_cls: 0.0024, loss_rpn_bbox: 0.0284, loss_cls: 0.0812, acc: 96.6729, loss_bbox: 0.2209, loss: 0.3329\n",
      "2021-01-04 09:07:51,879 - mmdet - INFO - Epoch [22][1700/2001]\tlr: 5.000e-05, eta: 21:42:02, time: 0.819, data_time: 0.011, memory: 6189, loss_rpn_cls: 0.0030, loss_rpn_bbox: 0.0260, loss_cls: 0.0773, acc: 96.8223, loss_bbox: 0.2062, loss: 0.3125\n"
     ]
    },
    {
     "name": "stderr",
     "output_type": "stream",
     "text": [
      "2021-01-04 09:08:32,854 - mmdet - INFO - Epoch [22][1750/2001]\tlr: 5.000e-05, eta: 21:40:17, time: 0.819, data_time: 0.011, memory: 6189, loss_rpn_cls: 0.0031, loss_rpn_bbox: 0.0249, loss_cls: 0.0811, acc: 96.6631, loss_bbox: 0.2171, loss: 0.3261\n",
      "2021-01-04 09:09:13,821 - mmdet - INFO - Epoch [22][1800/2001]\tlr: 5.000e-05, eta: 21:38:31, time: 0.819, data_time: 0.011, memory: 6189, loss_rpn_cls: 0.0025, loss_rpn_bbox: 0.0311, loss_cls: 0.0800, acc: 96.6924, loss_bbox: 0.2157, loss: 0.3293\n",
      "2021-01-04 09:09:54,775 - mmdet - INFO - Epoch [22][1850/2001]\tlr: 5.000e-05, eta: 21:36:45, time: 0.819, data_time: 0.011, memory: 6189, loss_rpn_cls: 0.0018, loss_rpn_bbox: 0.0289, loss_cls: 0.0799, acc: 96.7021, loss_bbox: 0.2111, loss: 0.3217\n",
      "2021-01-04 09:10:35,757 - mmdet - INFO - Epoch [22][1900/2001]\tlr: 5.000e-05, eta: 21:35:00, time: 0.820, data_time: 0.011, memory: 6189, loss_rpn_cls: 0.0020, loss_rpn_bbox: 0.0312, loss_cls: 0.0790, acc: 96.6846, loss_bbox: 0.2210, loss: 0.3332\n",
      "2021-01-04 09:11:16,746 - mmdet - INFO - Epoch [22][1950/2001]\tlr: 5.000e-05, eta: 21:33:15, time: 0.820, data_time: 0.011, memory: 6189, loss_rpn_cls: 0.0023, loss_rpn_bbox: 0.0291, loss_cls: 0.0790, acc: 96.6924, loss_bbox: 0.2163, loss: 0.3267\n",
      "2021-01-04 09:11:57,674 - mmdet - INFO - Epoch [22][2000/2001]\tlr: 5.000e-05, eta: 21:31:30, time: 0.819, data_time: 0.011, memory: 6189, loss_rpn_cls: 0.0026, loss_rpn_bbox: 0.0268, loss_cls: 0.0807, acc: 96.6348, loss_bbox: 0.2119, loss: 0.3220\n",
      "2021-01-04 09:11:58,379 - mmdet - INFO - Saving checkpoint at 22 epochs\n"
     ]
    },
    {
     "name": "stdout",
     "output_type": "stream",
     "text": [
      "[>>>>>>>>>>>>>>>>>>>>>>>>>>] 2013/2013, 11.1 task/s, elapsed: 181s, ETA:     0s"
     ]
    },
    {
     "name": "stderr",
     "output_type": "stream",
     "text": [
      "2021-01-04 09:15:00,270 - mmdet - INFO - \n",
      "Evaluateing valid_44.json with 2013 images now\n",
      "2021-01-04 09:15:00,806 - mmdet - INFO - Evaluating bbox...\n"
     ]
    },
    {
     "name": "stdout",
     "output_type": "stream",
     "text": [
      "Loading and preparing results...\n",
      "DONE (t=0.26s)\n",
      "creating index...\n",
      "index created!\n",
      "Running per image evaluation...\n",
      "Evaluate annotation type *bbox*\n",
      "DONE (t=16.70s).\n",
      "Accumulating evaluation results...\n"
     ]
    },
    {
     "name": "stderr",
     "output_type": "stream",
     "text": [
      "2021-01-04 09:15:18,618 - mmdet - INFO - Epoch(val) [22][2001]\t0_bbox_mAP: 0.2850, 0_bbox_mAP_50: 0.4680, 0_bbox_mAP_75: 0.3200, 0_bbox_mAP_s: 0.2790, 0_bbox_mAP_m: 0.4650, 0_bbox_mAP_l: -1.0000, 0_bbox_mAP_copypaste: 0.285 0.468 0.320 0.279 0.465 -1.000\n"
     ]
    },
    {
     "name": "stdout",
     "output_type": "stream",
     "text": [
      "DONE (t=0.76s).\n",
      "Average Precision  (AP) @[ IoU=0.50:0.95 | area=   all | maxDets=100 ] = 0.285\n",
      "Average Precision  (AP) @[ IoU=0.50      | area=   all | maxDets=1000 ] = 0.468\n",
      "Average Precision  (AP) @[ IoU=0.75      | area=   all | maxDets=1000 ] = 0.320\n",
      "Average Precision  (AP) @[ IoU=0.50:0.95 | area= small | maxDets=1000 ] = 0.279\n",
      "Average Precision  (AP) @[ IoU=0.50:0.95 | area=medium | maxDets=1000 ] = 0.465\n",
      "Average Precision  (AP) @[ IoU=0.50:0.95 | area= large | maxDets=1000 ] = -1.000\n",
      "Average Recall     (AR) @[ IoU=0.50:0.95 | area=   all | maxDets=100 ] = 0.352\n",
      "Average Recall     (AR) @[ IoU=0.50:0.95 | area=   all | maxDets=300 ] = 0.352\n",
      "Average Recall     (AR) @[ IoU=0.50:0.95 | area=   all | maxDets=1000 ] = 0.352\n",
      "Average Recall     (AR) @[ IoU=0.50:0.95 | area= small | maxDets=1000 ] = 0.348\n",
      "Average Recall     (AR) @[ IoU=0.50:0.95 | area=medium | maxDets=1000 ] = 0.513\n",
      "Average Recall     (AR) @[ IoU=0.50:0.95 | area= large | maxDets=1000 ] = -1.000\n"
     ]
    },
    {
     "name": "stderr",
     "output_type": "stream",
     "text": [
      "2021-01-04 09:16:02,208 - mmdet - INFO - Epoch [23][50/2001]\tlr: 5.000e-05, eta: 21:29:45, time: 0.868, data_time: 0.056, memory: 6189, loss_rpn_cls: 0.0023, loss_rpn_bbox: 0.0263, loss_cls: 0.0772, acc: 96.8398, loss_bbox: 0.2119, loss: 0.3177\n",
      "2021-01-04 09:16:43,186 - mmdet - INFO - Epoch [23][100/2001]\tlr: 5.000e-05, eta: 21:28:00, time: 0.820, data_time: 0.011, memory: 6189, loss_rpn_cls: 0.0026, loss_rpn_bbox: 0.0263, loss_cls: 0.0811, acc: 96.6650, loss_bbox: 0.2144, loss: 0.3244\n",
      "2021-01-04 09:17:24,115 - mmdet - INFO - Epoch [23][150/2001]\tlr: 5.000e-05, eta: 21:26:15, time: 0.819, data_time: 0.010, memory: 6189, loss_rpn_cls: 0.0023, loss_rpn_bbox: 0.0297, loss_cls: 0.0833, acc: 96.6250, loss_bbox: 0.2196, loss: 0.3349\n",
      "2021-01-04 09:18:05,075 - mmdet - INFO - Epoch [23][200/2001]\tlr: 5.000e-05, eta: 21:24:31, time: 0.819, data_time: 0.010, memory: 6189, loss_rpn_cls: 0.0025, loss_rpn_bbox: 0.0280, loss_cls: 0.0803, acc: 96.6445, loss_bbox: 0.2179, loss: 0.3287\n",
      "2021-01-04 09:18:46,016 - mmdet - INFO - Epoch [23][250/2001]\tlr: 5.000e-05, eta: 21:22:46, time: 0.819, data_time: 0.010, memory: 6189, loss_rpn_cls: 0.0019, loss_rpn_bbox: 0.0275, loss_cls: 0.0811, acc: 96.6826, loss_bbox: 0.2107, loss: 0.3213\n",
      "2021-01-04 09:19:27,091 - mmdet - INFO - Epoch [23][300/2001]\tlr: 5.000e-05, eta: 21:21:02, time: 0.821, data_time: 0.010, memory: 6189, loss_rpn_cls: 0.0026, loss_rpn_bbox: 0.0282, loss_cls: 0.0787, acc: 96.7773, loss_bbox: 0.2152, loss: 0.3246\n",
      "2021-01-04 09:20:08,083 - mmdet - INFO - Epoch [23][350/2001]\tlr: 5.000e-05, eta: 21:19:18, time: 0.820, data_time: 0.010, memory: 6189, loss_rpn_cls: 0.0030, loss_rpn_bbox: 0.0275, loss_cls: 0.0814, acc: 96.7061, loss_bbox: 0.2119, loss: 0.3239\n",
      "2021-01-04 09:20:49,119 - mmdet - INFO - Epoch [23][400/2001]\tlr: 5.000e-05, eta: 21:17:34, time: 0.821, data_time: 0.011, memory: 6189, loss_rpn_cls: 0.0021, loss_rpn_bbox: 0.0256, loss_cls: 0.0828, acc: 96.5381, loss_bbox: 0.2155, loss: 0.3260\n",
      "2021-01-04 09:21:30,082 - mmdet - INFO - Epoch [23][450/2001]\tlr: 5.000e-05, eta: 21:15:50, time: 0.819, data_time: 0.011, memory: 6189, loss_rpn_cls: 0.0028, loss_rpn_bbox: 0.0301, loss_cls: 0.0814, acc: 96.6191, loss_bbox: 0.2187, loss: 0.3330\n",
      "2021-01-04 09:22:11,050 - mmdet - INFO - Epoch [23][500/2001]\tlr: 5.000e-05, eta: 21:14:07, time: 0.819, data_time: 0.011, memory: 6189, loss_rpn_cls: 0.0018, loss_rpn_bbox: 0.0271, loss_cls: 0.0782, acc: 96.7061, loss_bbox: 0.2100, loss: 0.3172\n",
      "2021-01-04 09:22:51,997 - mmdet - INFO - Epoch [23][550/2001]\tlr: 5.000e-05, eta: 21:12:23, time: 0.819, data_time: 0.010, memory: 6189, loss_rpn_cls: 0.0019, loss_rpn_bbox: 0.0285, loss_cls: 0.0826, acc: 96.5293, loss_bbox: 0.2147, loss: 0.3277\n",
      "2021-01-04 09:23:32,967 - mmdet - INFO - Epoch [23][600/2001]\tlr: 5.000e-05, eta: 21:10:40, time: 0.819, data_time: 0.011, memory: 6189, loss_rpn_cls: 0.0021, loss_rpn_bbox: 0.0284, loss_cls: 0.0766, acc: 96.8203, loss_bbox: 0.2128, loss: 0.3199\n",
      "2021-01-04 09:24:13,934 - mmdet - INFO - Epoch [23][650/2001]\tlr: 5.000e-05, eta: 21:08:56, time: 0.819, data_time: 0.010, memory: 6189, loss_rpn_cls: 0.0023, loss_rpn_bbox: 0.0281, loss_cls: 0.0801, acc: 96.6982, loss_bbox: 0.2137, loss: 0.3242\n",
      "2021-01-04 09:24:54,898 - mmdet - INFO - Epoch [23][700/2001]\tlr: 5.000e-05, eta: 21:07:13, time: 0.819, data_time: 0.011, memory: 6189, loss_rpn_cls: 0.0026, loss_rpn_bbox: 0.0286, loss_cls: 0.0827, acc: 96.5859, loss_bbox: 0.2189, loss: 0.3328\n",
      "2021-01-04 09:25:35,870 - mmdet - INFO - Epoch [23][750/2001]\tlr: 5.000e-05, eta: 21:05:30, time: 0.819, data_time: 0.010, memory: 6189, loss_rpn_cls: 0.0024, loss_rpn_bbox: 0.0292, loss_cls: 0.0794, acc: 96.7324, loss_bbox: 0.2173, loss: 0.3283\n",
      "2021-01-04 09:26:16,815 - mmdet - INFO - Epoch [23][800/2001]\tlr: 5.000e-05, eta: 21:03:48, time: 0.819, data_time: 0.010, memory: 6189, loss_rpn_cls: 0.0025, loss_rpn_bbox: 0.0271, loss_cls: 0.0802, acc: 96.6592, loss_bbox: 0.2147, loss: 0.3245\n",
      "2021-01-04 09:26:57,752 - mmdet - INFO - Epoch [23][850/2001]\tlr: 5.000e-05, eta: 21:02:05, time: 0.819, data_time: 0.010, memory: 6189, loss_rpn_cls: 0.0023, loss_rpn_bbox: 0.0259, loss_cls: 0.0798, acc: 96.6738, loss_bbox: 0.2167, loss: 0.3246\n",
      "2021-01-04 09:27:38,731 - mmdet - INFO - Epoch [23][900/2001]\tlr: 5.000e-05, eta: 21:00:22, time: 0.820, data_time: 0.010, memory: 6189, loss_rpn_cls: 0.0028, loss_rpn_bbox: 0.0280, loss_cls: 0.0815, acc: 96.6475, loss_bbox: 0.2177, loss: 0.3300\n",
      "2021-01-04 09:28:19,698 - mmdet - INFO - Epoch [23][950/2001]\tlr: 5.000e-05, eta: 20:58:40, time: 0.819, data_time: 0.010, memory: 6189, loss_rpn_cls: 0.0019, loss_rpn_bbox: 0.0291, loss_cls: 0.0806, acc: 96.6328, loss_bbox: 0.2162, loss: 0.3278\n",
      "2021-01-04 09:29:00,648 - mmdet - INFO - Epoch [23][1000/2001]\tlr: 5.000e-05, eta: 20:56:58, time: 0.819, data_time: 0.011, memory: 6189, loss_rpn_cls: 0.0022, loss_rpn_bbox: 0.0265, loss_cls: 0.0854, acc: 96.4531, loss_bbox: 0.2157, loss: 0.3299\n",
      "2021-01-04 09:29:41,637 - mmdet - INFO - Epoch [23][1050/2001]\tlr: 5.000e-05, eta: 20:55:15, time: 0.820, data_time: 0.011, memory: 6189, loss_rpn_cls: 0.0023, loss_rpn_bbox: 0.0277, loss_cls: 0.0824, acc: 96.5811, loss_bbox: 0.2160, loss: 0.3284\n",
      "2021-01-04 09:30:22,586 - mmdet - INFO - Epoch [23][1100/2001]\tlr: 5.000e-05, eta: 20:53:33, time: 0.819, data_time: 0.011, memory: 6189, loss_rpn_cls: 0.0028, loss_rpn_bbox: 0.0282, loss_cls: 0.0784, acc: 96.8350, loss_bbox: 0.2178, loss: 0.3272\n",
      "2021-01-04 09:31:03,535 - mmdet - INFO - Epoch [23][1150/2001]\tlr: 5.000e-05, eta: 20:51:52, time: 0.819, data_time: 0.011, memory: 6189, loss_rpn_cls: 0.0023, loss_rpn_bbox: 0.0285, loss_cls: 0.0812, acc: 96.6885, loss_bbox: 0.2150, loss: 0.3270\n",
      "2021-01-04 09:31:44,499 - mmdet - INFO - Epoch [23][1200/2001]\tlr: 5.000e-05, eta: 20:50:10, time: 0.819, data_time: 0.011, memory: 6189, loss_rpn_cls: 0.0028, loss_rpn_bbox: 0.0292, loss_cls: 0.0796, acc: 96.6436, loss_bbox: 0.2184, loss: 0.3299\n",
      "2021-01-04 09:32:25,452 - mmdet - INFO - Epoch [23][1250/2001]\tlr: 5.000e-05, eta: 20:48:28, time: 0.819, data_time: 0.011, memory: 6189, loss_rpn_cls: 0.0020, loss_rpn_bbox: 0.0265, loss_cls: 0.0796, acc: 96.7041, loss_bbox: 0.2121, loss: 0.3202\n",
      "2021-01-04 09:33:06,486 - mmdet - INFO - Epoch [23][1300/2001]\tlr: 5.000e-05, eta: 20:46:47, time: 0.821, data_time: 0.011, memory: 6189, loss_rpn_cls: 0.0018, loss_rpn_bbox: 0.0285, loss_cls: 0.0824, acc: 96.5254, loss_bbox: 0.2190, loss: 0.3316\n",
      "2021-01-04 09:33:47,366 - mmdet - INFO - Epoch [23][1350/2001]\tlr: 5.000e-05, eta: 20:45:05, time: 0.818, data_time: 0.011, memory: 6189, loss_rpn_cls: 0.0020, loss_rpn_bbox: 0.0295, loss_cls: 0.0766, acc: 96.8457, loss_bbox: 0.2132, loss: 0.3212\n",
      "2021-01-04 09:34:28,329 - mmdet - INFO - Epoch [23][1400/2001]\tlr: 5.000e-05, eta: 20:43:24, time: 0.819, data_time: 0.011, memory: 6189, loss_rpn_cls: 0.0025, loss_rpn_bbox: 0.0276, loss_cls: 0.0778, acc: 96.7627, loss_bbox: 0.2148, loss: 0.3227\n",
      "2021-01-04 09:35:09,338 - mmdet - INFO - Epoch [23][1450/2001]\tlr: 5.000e-05, eta: 20:41:43, time: 0.820, data_time: 0.011, memory: 6189, loss_rpn_cls: 0.0027, loss_rpn_bbox: 0.0317, loss_cls: 0.0815, acc: 96.5449, loss_bbox: 0.2214, loss: 0.3372\n",
      "2021-01-04 09:35:50,255 - mmdet - INFO - Epoch [23][1500/2001]\tlr: 5.000e-05, eta: 20:40:02, time: 0.818, data_time: 0.011, memory: 6189, loss_rpn_cls: 0.0026, loss_rpn_bbox: 0.0285, loss_cls: 0.0809, acc: 96.6592, loss_bbox: 0.2178, loss: 0.3297\n",
      "2021-01-04 09:36:31,212 - mmdet - INFO - Epoch [23][1550/2001]\tlr: 5.000e-05, eta: 20:38:21, time: 0.819, data_time: 0.011, memory: 6189, loss_rpn_cls: 0.0017, loss_rpn_bbox: 0.0249, loss_cls: 0.0780, acc: 96.8076, loss_bbox: 0.2144, loss: 0.3189\n",
      "2021-01-04 09:37:12,190 - mmdet - INFO - Epoch [23][1600/2001]\tlr: 5.000e-05, eta: 20:36:41, time: 0.819, data_time: 0.011, memory: 6189, loss_rpn_cls: 0.0025, loss_rpn_bbox: 0.0274, loss_cls: 0.0787, acc: 96.7764, loss_bbox: 0.2095, loss: 0.3181\n",
      "2021-01-04 09:37:53,166 - mmdet - INFO - Epoch [23][1650/2001]\tlr: 5.000e-05, eta: 20:35:00, time: 0.820, data_time: 0.011, memory: 6189, loss_rpn_cls: 0.0025, loss_rpn_bbox: 0.0284, loss_cls: 0.0804, acc: 96.6113, loss_bbox: 0.2159, loss: 0.3272\n",
      "2021-01-04 09:38:34,110 - mmdet - INFO - Epoch [23][1700/2001]\tlr: 5.000e-05, eta: 20:33:20, time: 0.819, data_time: 0.011, memory: 6189, loss_rpn_cls: 0.0024, loss_rpn_bbox: 0.0297, loss_cls: 0.0798, acc: 96.6826, loss_bbox: 0.2179, loss: 0.3298\n"
     ]
    },
    {
     "name": "stderr",
     "output_type": "stream",
     "text": [
      "2021-01-04 09:39:15,160 - mmdet - INFO - Epoch [23][1750/2001]\tlr: 5.000e-05, eta: 20:31:39, time: 0.821, data_time: 0.011, memory: 6189, loss_rpn_cls: 0.0024, loss_rpn_bbox: 0.0292, loss_cls: 0.0787, acc: 96.7490, loss_bbox: 0.2184, loss: 0.3288\n",
      "2021-01-04 09:39:57,078 - mmdet - INFO - Epoch [23][1800/2001]\tlr: 5.000e-05, eta: 20:30:00, time: 0.838, data_time: 0.012, memory: 6189, loss_rpn_cls: 0.0019, loss_rpn_bbox: 0.0283, loss_cls: 0.0823, acc: 96.5664, loss_bbox: 0.2176, loss: 0.3301\n",
      "2021-01-04 09:40:41,077 - mmdet - INFO - Epoch [23][1850/2001]\tlr: 5.000e-05, eta: 20:28:24, time: 0.880, data_time: 0.012, memory: 6189, loss_rpn_cls: 0.0030, loss_rpn_bbox: 0.0294, loss_cls: 0.0800, acc: 96.6777, loss_bbox: 0.2184, loss: 0.3308\n",
      "2021-01-04 09:41:28,666 - mmdet - INFO - Epoch [23][1900/2001]\tlr: 5.000e-05, eta: 20:26:52, time: 0.951, data_time: 0.012, memory: 6189, loss_rpn_cls: 0.0033, loss_rpn_bbox: 0.0281, loss_cls: 0.0805, acc: 96.6865, loss_bbox: 0.2163, loss: 0.3282\n",
      "2021-01-04 09:42:21,032 - mmdet - INFO - Epoch [23][1950/2001]\tlr: 5.000e-05, eta: 20:25:25, time: 1.048, data_time: 0.013, memory: 6189, loss_rpn_cls: 0.0022, loss_rpn_bbox: 0.0272, loss_cls: 0.0812, acc: 96.5947, loss_bbox: 0.2125, loss: 0.3231\n",
      "2021-01-04 09:43:13,732 - mmdet - INFO - Epoch [23][2000/2001]\tlr: 5.000e-05, eta: 20:23:59, time: 1.054, data_time: 0.013, memory: 6189, loss_rpn_cls: 0.0024, loss_rpn_bbox: 0.0275, loss_cls: 0.0796, acc: 96.7031, loss_bbox: 0.2170, loss: 0.3265\n",
      "2021-01-04 09:43:14,594 - mmdet - INFO - Saving checkpoint at 23 epochs\n"
     ]
    },
    {
     "name": "stdout",
     "output_type": "stream",
     "text": [
      "[>>>>>>>>>>>>>>>>>>>>>>>>>>>] 2013/2013, 8.8 task/s, elapsed: 228s, ETA:     0s"
     ]
    },
    {
     "name": "stderr",
     "output_type": "stream",
     "text": [
      "2021-01-04 09:47:03,104 - mmdet - INFO - \n",
      "Evaluateing valid_44.json with 2013 images now\n",
      "2021-01-04 09:47:03,750 - mmdet - INFO - Evaluating bbox...\n"
     ]
    },
    {
     "name": "stdout",
     "output_type": "stream",
     "text": [
      "Loading and preparing results...\n",
      "DONE (t=0.29s)\n",
      "creating index...\n",
      "index created!\n",
      "Running per image evaluation...\n",
      "Evaluate annotation type *bbox*\n",
      "DONE (t=19.47s).\n",
      "Accumulating evaluation results...\n"
     ]
    },
    {
     "name": "stderr",
     "output_type": "stream",
     "text": [
      "2021-01-04 09:47:24,613 - mmdet - INFO - Epoch(val) [23][2001]\t0_bbox_mAP: 0.2850, 0_bbox_mAP_50: 0.4700, 0_bbox_mAP_75: 0.3200, 0_bbox_mAP_s: 0.2800, 0_bbox_mAP_m: 0.4660, 0_bbox_mAP_l: -1.0000, 0_bbox_mAP_copypaste: 0.285 0.470 0.320 0.280 0.466 -1.000\n"
     ]
    },
    {
     "name": "stdout",
     "output_type": "stream",
     "text": [
      "DONE (t=1.01s).\n",
      "Average Precision  (AP) @[ IoU=0.50:0.95 | area=   all | maxDets=100 ] = 0.285\n",
      "Average Precision  (AP) @[ IoU=0.50      | area=   all | maxDets=1000 ] = 0.470\n",
      "Average Precision  (AP) @[ IoU=0.75      | area=   all | maxDets=1000 ] = 0.320\n",
      "Average Precision  (AP) @[ IoU=0.50:0.95 | area= small | maxDets=1000 ] = 0.280\n",
      "Average Precision  (AP) @[ IoU=0.50:0.95 | area=medium | maxDets=1000 ] = 0.466\n",
      "Average Precision  (AP) @[ IoU=0.50:0.95 | area= large | maxDets=1000 ] = -1.000\n",
      "Average Recall     (AR) @[ IoU=0.50:0.95 | area=   all | maxDets=100 ] = 0.353\n",
      "Average Recall     (AR) @[ IoU=0.50:0.95 | area=   all | maxDets=300 ] = 0.353\n",
      "Average Recall     (AR) @[ IoU=0.50:0.95 | area=   all | maxDets=1000 ] = 0.353\n",
      "Average Recall     (AR) @[ IoU=0.50:0.95 | area= small | maxDets=1000 ] = 0.349\n",
      "Average Recall     (AR) @[ IoU=0.50:0.95 | area=medium | maxDets=1000 ] = 0.515\n",
      "Average Recall     (AR) @[ IoU=0.50:0.95 | area= large | maxDets=1000 ] = -1.000\n"
     ]
    },
    {
     "name": "stderr",
     "output_type": "stream",
     "text": [
      "2021-01-04 09:48:17,088 - mmdet - INFO - Epoch [24][50/2001]\tlr: 5.000e-05, eta: 20:22:30, time: 1.039, data_time: 0.060, memory: 6189, loss_rpn_cls: 0.0026, loss_rpn_bbox: 0.0275, loss_cls: 0.0808, acc: 96.6445, loss_bbox: 0.2144, loss: 0.3253\n",
      "2021-01-04 09:49:11,790 - mmdet - INFO - Epoch [24][100/2001]\tlr: 5.000e-05, eta: 20:21:07, time: 1.100, data_time: 0.019, memory: 6189, loss_rpn_cls: 0.0021, loss_rpn_bbox: 0.0299, loss_cls: 0.0775, acc: 96.8145, loss_bbox: 0.2098, loss: 0.3193\n",
      "2021-01-04 09:50:08,925 - mmdet - INFO - Epoch [24][150/2001]\tlr: 5.000e-05, eta: 20:19:46, time: 1.143, data_time: 0.013, memory: 6189, loss_rpn_cls: 0.0017, loss_rpn_bbox: 0.0251, loss_cls: 0.0774, acc: 96.7969, loss_bbox: 0.2079, loss: 0.3121\n",
      "2021-01-04 09:51:06,778 - mmdet - INFO - Epoch [24][200/2001]\tlr: 5.000e-05, eta: 20:18:27, time: 1.157, data_time: 0.013, memory: 6189, loss_rpn_cls: 0.0028, loss_rpn_bbox: 0.0318, loss_cls: 0.0833, acc: 96.5703, loss_bbox: 0.2226, loss: 0.3404\n",
      "2021-01-04 09:52:04,646 - mmdet - INFO - Epoch [24][250/2001]\tlr: 5.000e-05, eta: 20:17:07, time: 1.157, data_time: 0.013, memory: 6189, loss_rpn_cls: 0.0023, loss_rpn_bbox: 0.0285, loss_cls: 0.0791, acc: 96.7705, loss_bbox: 0.2187, loss: 0.3287\n",
      "2021-01-04 09:53:03,891 - mmdet - INFO - Epoch [24][300/2001]\tlr: 5.000e-05, eta: 20:15:49, time: 1.184, data_time: 0.013, memory: 6189, loss_rpn_cls: 0.0020, loss_rpn_bbox: 0.0300, loss_cls: 0.0819, acc: 96.6250, loss_bbox: 0.2156, loss: 0.3295\n",
      "2021-01-04 09:54:00,578 - mmdet - INFO - Epoch [24][350/2001]\tlr: 5.000e-05, eta: 20:14:28, time: 1.135, data_time: 0.013, memory: 6189, loss_rpn_cls: 0.0023, loss_rpn_bbox: 0.0261, loss_cls: 0.0778, acc: 96.7803, loss_bbox: 0.2090, loss: 0.3153\n",
      "2021-01-04 09:54:56,081 - mmdet - INFO - Epoch [24][400/2001]\tlr: 5.000e-05, eta: 20:13:06, time: 1.110, data_time: 0.013, memory: 6189, loss_rpn_cls: 0.0022, loss_rpn_bbox: 0.0286, loss_cls: 0.0786, acc: 96.7646, loss_bbox: 0.2120, loss: 0.3214\n",
      "2021-01-04 09:55:56,070 - mmdet - INFO - Epoch [24][450/2001]\tlr: 5.000e-05, eta: 20:11:49, time: 1.193, data_time: 0.013, memory: 6189, loss_rpn_cls: 0.0024, loss_rpn_bbox: 0.0301, loss_cls: 0.0789, acc: 96.6943, loss_bbox: 0.2203, loss: 0.3317\n",
      "2021-01-04 09:56:53,421 - mmdet - INFO - Epoch [24][500/2001]\tlr: 5.000e-05, eta: 20:10:29, time: 1.154, data_time: 0.020, memory: 6189, loss_rpn_cls: 0.0021, loss_rpn_bbox: 0.0287, loss_cls: 0.0767, acc: 96.8174, loss_bbox: 0.2095, loss: 0.3171\n",
      "2021-01-04 09:57:50,512 - mmdet - INFO - Epoch [24][550/2001]\tlr: 5.000e-05, eta: 20:09:09, time: 1.142, data_time: 0.013, memory: 6189, loss_rpn_cls: 0.0022, loss_rpn_bbox: 0.0281, loss_cls: 0.0790, acc: 96.7021, loss_bbox: 0.2142, loss: 0.3235\n",
      "2021-01-04 09:58:49,895 - mmdet - INFO - Epoch [24][600/2001]\tlr: 5.000e-05, eta: 20:07:51, time: 1.188, data_time: 0.013, memory: 6189, loss_rpn_cls: 0.0029, loss_rpn_bbox: 0.0278, loss_cls: 0.0844, acc: 96.5029, loss_bbox: 0.2220, loss: 0.3371\n",
      "2021-01-04 09:59:46,847 - mmdet - INFO - Epoch [24][650/2001]\tlr: 5.000e-05, eta: 20:06:31, time: 1.139, data_time: 0.013, memory: 6189, loss_rpn_cls: 0.0021, loss_rpn_bbox: 0.0268, loss_cls: 0.0803, acc: 96.7031, loss_bbox: 0.2166, loss: 0.3258\n",
      "2021-01-04 10:00:45,600 - mmdet - INFO - Epoch [24][700/2001]\tlr: 5.000e-05, eta: 20:05:13, time: 1.174, data_time: 0.013, memory: 6189, loss_rpn_cls: 0.0017, loss_rpn_bbox: 0.0270, loss_cls: 0.0750, acc: 96.8877, loss_bbox: 0.2083, loss: 0.3119\n",
      "2021-01-04 10:01:45,381 - mmdet - INFO - Epoch [24][750/2001]\tlr: 5.000e-05, eta: 20:03:56, time: 1.191, data_time: 0.014, memory: 6189, loss_rpn_cls: 0.0023, loss_rpn_bbox: 0.0284, loss_cls: 0.0786, acc: 96.7432, loss_bbox: 0.2184, loss: 0.3276\n",
      "2021-01-04 10:02:43,084 - mmdet - INFO - Epoch [24][800/2001]\tlr: 5.000e-05, eta: 20:02:37, time: 1.160, data_time: 0.019, memory: 6189, loss_rpn_cls: 0.0017, loss_rpn_bbox: 0.0262, loss_cls: 0.0785, acc: 96.7061, loss_bbox: 0.2093, loss: 0.3156\n",
      "2021-01-04 10:03:41,572 - mmdet - INFO - Epoch [24][850/2001]\tlr: 5.000e-05, eta: 20:01:18, time: 1.169, data_time: 0.013, memory: 6189, loss_rpn_cls: 0.0025, loss_rpn_bbox: 0.0281, loss_cls: 0.0805, acc: 96.6191, loss_bbox: 0.2162, loss: 0.3273\n",
      "2021-01-04 10:04:39,924 - mmdet - INFO - Epoch [24][900/2001]\tlr: 5.000e-05, eta: 20:00:00, time: 1.167, data_time: 0.014, memory: 6189, loss_rpn_cls: 0.0025, loss_rpn_bbox: 0.0269, loss_cls: 0.0788, acc: 96.7842, loss_bbox: 0.2122, loss: 0.3204\n",
      "2021-01-04 10:05:36,723 - mmdet - INFO - Epoch [24][950/2001]\tlr: 5.000e-05, eta: 19:58:40, time: 1.137, data_time: 0.014, memory: 6189, loss_rpn_cls: 0.0022, loss_rpn_bbox: 0.0262, loss_cls: 0.0786, acc: 96.7295, loss_bbox: 0.2129, loss: 0.3199\n",
      "2021-01-04 10:06:33,234 - mmdet - INFO - Epoch [24][1000/2001]\tlr: 5.000e-05, eta: 19:57:19, time: 1.130, data_time: 0.013, memory: 6189, loss_rpn_cls: 0.0026, loss_rpn_bbox: 0.0276, loss_cls: 0.0785, acc: 96.7881, loss_bbox: 0.2143, loss: 0.3230\n",
      "2021-01-04 10:07:30,253 - mmdet - INFO - Epoch [24][1050/2001]\tlr: 5.000e-05, eta: 19:56:00, time: 1.141, data_time: 0.014, memory: 6189, loss_rpn_cls: 0.0021, loss_rpn_bbox: 0.0296, loss_cls: 0.0828, acc: 96.5889, loss_bbox: 0.2183, loss: 0.3328\n",
      "2021-01-04 10:08:30,617 - mmdet - INFO - Epoch [24][1100/2001]\tlr: 5.000e-05, eta: 19:54:44, time: 1.207, data_time: 0.014, memory: 6189, loss_rpn_cls: 0.0026, loss_rpn_bbox: 0.0280, loss_cls: 0.0826, acc: 96.6055, loss_bbox: 0.2232, loss: 0.3364\n",
      "2021-01-04 10:09:29,159 - mmdet - INFO - Epoch [24][1150/2001]\tlr: 5.000e-05, eta: 19:53:26, time: 1.171, data_time: 0.013, memory: 6189, loss_rpn_cls: 0.0024, loss_rpn_bbox: 0.0272, loss_cls: 0.0803, acc: 96.6670, loss_bbox: 0.2146, loss: 0.3245\n",
      "2021-01-04 10:10:29,557 - mmdet - INFO - Epoch [24][1200/2001]\tlr: 5.000e-05, eta: 19:52:10, time: 1.208, data_time: 0.013, memory: 6189, loss_rpn_cls: 0.0022, loss_rpn_bbox: 0.0277, loss_cls: 0.0792, acc: 96.7109, loss_bbox: 0.2127, loss: 0.3217\n",
      "2021-01-04 10:11:25,727 - mmdet - INFO - Epoch [24][1250/2001]\tlr: 5.000e-05, eta: 19:50:49, time: 1.124, data_time: 0.013, memory: 6189, loss_rpn_cls: 0.0017, loss_rpn_bbox: 0.0262, loss_cls: 0.0813, acc: 96.5947, loss_bbox: 0.2159, loss: 0.3251\n",
      "2021-01-04 10:12:26,440 - mmdet - INFO - Epoch [24][1300/2001]\tlr: 5.000e-05, eta: 19:49:34, time: 1.214, data_time: 0.013, memory: 6189, loss_rpn_cls: 0.0015, loss_rpn_bbox: 0.0228, loss_cls: 0.0818, acc: 96.5674, loss_bbox: 0.2110, loss: 0.3171\n",
      "2021-01-04 10:13:24,917 - mmdet - INFO - Epoch [24][1350/2001]\tlr: 5.000e-05, eta: 19:48:16, time: 1.169, data_time: 0.013, memory: 6189, loss_rpn_cls: 0.0027, loss_rpn_bbox: 0.0287, loss_cls: 0.0814, acc: 96.6143, loss_bbox: 0.2159, loss: 0.3286\n",
      "2021-01-04 10:14:23,667 - mmdet - INFO - Epoch [24][1400/2001]\tlr: 5.000e-05, eta: 19:46:58, time: 1.175, data_time: 0.013, memory: 6189, loss_rpn_cls: 0.0021, loss_rpn_bbox: 0.0290, loss_cls: 0.0814, acc: 96.6172, loss_bbox: 0.2176, loss: 0.3301\n",
      "2021-01-04 10:15:18,848 - mmdet - INFO - Epoch [24][1450/2001]\tlr: 5.000e-05, eta: 19:45:37, time: 1.103, data_time: 0.013, memory: 6189, loss_rpn_cls: 0.0026, loss_rpn_bbox: 0.0294, loss_cls: 0.0810, acc: 96.7148, loss_bbox: 0.2146, loss: 0.3276\n",
      "2021-01-04 10:16:10,367 - mmdet - INFO - Epoch [24][1500/2001]\tlr: 5.000e-05, eta: 19:44:11, time: 1.031, data_time: 0.012, memory: 6189, loss_rpn_cls: 0.0028, loss_rpn_bbox: 0.0284, loss_cls: 0.0817, acc: 96.5615, loss_bbox: 0.2209, loss: 0.3339\n",
      "2021-01-04 10:16:59,762 - mmdet - INFO - Epoch [24][1550/2001]\tlr: 5.000e-05, eta: 19:42:44, time: 0.988, data_time: 0.012, memory: 6189, loss_rpn_cls: 0.0013, loss_rpn_bbox: 0.0262, loss_cls: 0.0782, acc: 96.7754, loss_bbox: 0.2117, loss: 0.3175\n",
      "2021-01-04 10:17:48,203 - mmdet - INFO - Epoch [24][1600/2001]\tlr: 5.000e-05, eta: 19:41:15, time: 0.969, data_time: 0.012, memory: 6189, loss_rpn_cls: 0.0020, loss_rpn_bbox: 0.0277, loss_cls: 0.0809, acc: 96.6309, loss_bbox: 0.2186, loss: 0.3291\n",
      "2021-01-04 10:18:40,552 - mmdet - INFO - Epoch [24][1650/2001]\tlr: 5.000e-05, eta: 19:39:50, time: 1.046, data_time: 0.012, memory: 6189, loss_rpn_cls: 0.0024, loss_rpn_bbox: 0.0298, loss_cls: 0.0812, acc: 96.6689, loss_bbox: 0.2188, loss: 0.3321\n",
      "2021-01-04 10:19:32,388 - mmdet - INFO - Epoch [24][1700/2001]\tlr: 5.000e-05, eta: 19:38:26, time: 1.038, data_time: 0.014, memory: 6189, loss_rpn_cls: 0.0025, loss_rpn_bbox: 0.0306, loss_cls: 0.0786, acc: 96.7412, loss_bbox: 0.2181, loss: 0.3299\n"
     ]
    },
    {
     "name": "stderr",
     "output_type": "stream",
     "text": [
      "2021-01-04 10:20:25,845 - mmdet - INFO - Epoch [24][1750/2001]\tlr: 5.000e-05, eta: 19:37:02, time: 1.064, data_time: 0.013, memory: 6189, loss_rpn_cls: 0.0021, loss_rpn_bbox: 0.0288, loss_cls: 0.0820, acc: 96.5732, loss_bbox: 0.2214, loss: 0.3343\n",
      "2021-01-04 10:21:24,222 - mmdet - INFO - Epoch [24][1800/2001]\tlr: 5.000e-05, eta: 19:35:45, time: 1.173, data_time: 0.018, memory: 6189, loss_rpn_cls: 0.0028, loss_rpn_bbox: 0.0288, loss_cls: 0.0784, acc: 96.7676, loss_bbox: 0.2153, loss: 0.3253\n",
      "2021-01-04 10:22:22,019 - mmdet - INFO - Epoch [24][1850/2001]\tlr: 5.000e-05, eta: 19:34:27, time: 1.157, data_time: 0.013, memory: 6189, loss_rpn_cls: 0.0029, loss_rpn_bbox: 0.0291, loss_cls: 0.0835, acc: 96.5332, loss_bbox: 0.2190, loss: 0.3345\n",
      "2021-01-04 10:23:22,178 - mmdet - INFO - Epoch [24][1900/2001]\tlr: 5.000e-05, eta: 19:33:11, time: 1.203, data_time: 0.012, memory: 6189, loss_rpn_cls: 0.0024, loss_rpn_bbox: 0.0301, loss_cls: 0.0793, acc: 96.7754, loss_bbox: 0.2204, loss: 0.3322\n",
      "2021-01-04 10:24:21,463 - mmdet - INFO - Epoch [24][1950/2001]\tlr: 5.000e-05, eta: 19:31:55, time: 1.185, data_time: 0.013, memory: 6189, loss_rpn_cls: 0.0025, loss_rpn_bbox: 0.0279, loss_cls: 0.0794, acc: 96.7646, loss_bbox: 0.2130, loss: 0.3229\n",
      "2021-01-04 10:25:20,299 - mmdet - INFO - Epoch [24][2000/2001]\tlr: 5.000e-05, eta: 19:30:38, time: 1.178, data_time: 0.014, memory: 6189, loss_rpn_cls: 0.0025, loss_rpn_bbox: 0.0292, loss_cls: 0.0824, acc: 96.5410, loss_bbox: 0.2173, loss: 0.3315\n",
      "2021-01-04 10:25:21,237 - mmdet - INFO - Saving checkpoint at 24 epochs\n"
     ]
    },
    {
     "name": "stdout",
     "output_type": "stream",
     "text": [
      "[>>>>>>>>>>>>>>>>>>>>>>>>>>>] 2013/2013, 8.4 task/s, elapsed: 239s, ETA:     0s"
     ]
    },
    {
     "name": "stderr",
     "output_type": "stream",
     "text": [
      "2021-01-04 10:29:20,773 - mmdet - INFO - \n",
      "Evaluateing valid_44.json with 2013 images now\n",
      "2021-01-04 10:29:21,669 - mmdet - INFO - Evaluating bbox...\n"
     ]
    },
    {
     "name": "stdout",
     "output_type": "stream",
     "text": [
      "Loading and preparing results...\n",
      "DONE (t=0.18s)\n",
      "creating index...\n",
      "index created!\n",
      "Running per image evaluation...\n",
      "Evaluate annotation type *bbox*\n",
      "DONE (t=19.10s).\n",
      "Accumulating evaluation results...\n"
     ]
    },
    {
     "name": "stderr",
     "output_type": "stream",
     "text": [
      "2021-01-04 10:29:41,982 - mmdet - INFO - Epoch(val) [24][2001]\t0_bbox_mAP: 0.2860, 0_bbox_mAP_50: 0.4690, 0_bbox_mAP_75: 0.3190, 0_bbox_mAP_s: 0.2800, 0_bbox_mAP_m: 0.4640, 0_bbox_mAP_l: -1.0000, 0_bbox_mAP_copypaste: 0.286 0.469 0.319 0.280 0.464 -1.000\n"
     ]
    },
    {
     "name": "stdout",
     "output_type": "stream",
     "text": [
      "DONE (t=0.94s).\n",
      "Average Precision  (AP) @[ IoU=0.50:0.95 | area=   all | maxDets=100 ] = 0.286\n",
      "Average Precision  (AP) @[ IoU=0.50      | area=   all | maxDets=1000 ] = 0.469\n",
      "Average Precision  (AP) @[ IoU=0.75      | area=   all | maxDets=1000 ] = 0.319\n",
      "Average Precision  (AP) @[ IoU=0.50:0.95 | area= small | maxDets=1000 ] = 0.280\n",
      "Average Precision  (AP) @[ IoU=0.50:0.95 | area=medium | maxDets=1000 ] = 0.464\n",
      "Average Precision  (AP) @[ IoU=0.50:0.95 | area= large | maxDets=1000 ] = -1.000\n",
      "Average Recall     (AR) @[ IoU=0.50:0.95 | area=   all | maxDets=100 ] = 0.354\n",
      "Average Recall     (AR) @[ IoU=0.50:0.95 | area=   all | maxDets=300 ] = 0.354\n",
      "Average Recall     (AR) @[ IoU=0.50:0.95 | area=   all | maxDets=1000 ] = 0.354\n",
      "Average Recall     (AR) @[ IoU=0.50:0.95 | area= small | maxDets=1000 ] = 0.350\n",
      "Average Recall     (AR) @[ IoU=0.50:0.95 | area=medium | maxDets=1000 ] = 0.515\n",
      "Average Recall     (AR) @[ IoU=0.50:0.95 | area= large | maxDets=1000 ] = -1.000\n"
     ]
    },
    {
     "name": "stderr",
     "output_type": "stream",
     "text": [
      "2021-01-04 10:30:35,610 - mmdet - INFO - Epoch [25][50/2001]\tlr: 5.000e-05, eta: 19:29:12, time: 1.063, data_time: 0.058, memory: 6189, loss_rpn_cls: 0.0020, loss_rpn_bbox: 0.0285, loss_cls: 0.0808, acc: 96.6318, loss_bbox: 0.2129, loss: 0.3242\n",
      "2021-01-04 10:31:32,347 - mmdet - INFO - Epoch [25][100/2001]\tlr: 5.000e-05, eta: 19:27:53, time: 1.140, data_time: 0.018, memory: 6189, loss_rpn_cls: 0.0024, loss_rpn_bbox: 0.0297, loss_cls: 0.0781, acc: 96.7979, loss_bbox: 0.2174, loss: 0.3276\n",
      "2021-01-04 10:32:31,039 - mmdet - INFO - Epoch [25][150/2001]\tlr: 5.000e-05, eta: 19:26:36, time: 1.174, data_time: 0.013, memory: 6189, loss_rpn_cls: 0.0026, loss_rpn_bbox: 0.0272, loss_cls: 0.0794, acc: 96.6934, loss_bbox: 0.2109, loss: 0.3201\n",
      "2021-01-04 10:33:28,377 - mmdet - INFO - Epoch [25][200/2001]\tlr: 5.000e-05, eta: 19:25:18, time: 1.146, data_time: 0.013, memory: 6189, loss_rpn_cls: 0.0021, loss_rpn_bbox: 0.0300, loss_cls: 0.0784, acc: 96.7432, loss_bbox: 0.2133, loss: 0.3238\n",
      "2021-01-04 10:34:28,442 - mmdet - INFO - Epoch [25][250/2001]\tlr: 5.000e-05, eta: 19:24:03, time: 1.202, data_time: 0.014, memory: 6189, loss_rpn_cls: 0.0026, loss_rpn_bbox: 0.0274, loss_cls: 0.0813, acc: 96.6904, loss_bbox: 0.2190, loss: 0.3302\n",
      "2021-01-04 10:35:30,084 - mmdet - INFO - Epoch [25][300/2001]\tlr: 5.000e-05, eta: 19:22:49, time: 1.226, data_time: 0.013, memory: 6189, loss_rpn_cls: 0.0020, loss_rpn_bbox: 0.0257, loss_cls: 0.0781, acc: 96.7764, loss_bbox: 0.2102, loss: 0.3159\n",
      "2021-01-04 10:36:25,542 - mmdet - INFO - Epoch [25][350/2001]\tlr: 5.000e-05, eta: 19:21:29, time: 1.116, data_time: 0.020, memory: 6189, loss_rpn_cls: 0.0024, loss_rpn_bbox: 0.0279, loss_cls: 0.0773, acc: 96.8027, loss_bbox: 0.2119, loss: 0.3195\n",
      "2021-01-04 10:37:25,540 - mmdet - INFO - Epoch [25][400/2001]\tlr: 5.000e-05, eta: 19:20:13, time: 1.200, data_time: 0.013, memory: 6189, loss_rpn_cls: 0.0023, loss_rpn_bbox: 0.0280, loss_cls: 0.0810, acc: 96.6299, loss_bbox: 0.2159, loss: 0.3271\n",
      "2021-01-04 10:38:24,420 - mmdet - INFO - Epoch [25][450/2001]\tlr: 5.000e-05, eta: 19:18:57, time: 1.178, data_time: 0.013, memory: 6189, loss_rpn_cls: 0.0023, loss_rpn_bbox: 0.0280, loss_cls: 0.0810, acc: 96.6162, loss_bbox: 0.2125, loss: 0.3239\n",
      "2021-01-04 10:39:24,857 - mmdet - INFO - Epoch [25][500/2001]\tlr: 5.000e-05, eta: 19:17:42, time: 1.209, data_time: 0.013, memory: 6189, loss_rpn_cls: 0.0021, loss_rpn_bbox: 0.0279, loss_cls: 0.0798, acc: 96.7002, loss_bbox: 0.2183, loss: 0.3282\n",
      "2021-01-04 10:40:22,171 - mmdet - INFO - Epoch [25][550/2001]\tlr: 5.000e-05, eta: 19:16:24, time: 1.146, data_time: 0.013, memory: 6189, loss_rpn_cls: 0.0017, loss_rpn_bbox: 0.0271, loss_cls: 0.0765, acc: 96.8105, loss_bbox: 0.2089, loss: 0.3142\n",
      "2021-01-04 10:41:19,777 - mmdet - INFO - Epoch [25][600/2001]\tlr: 5.000e-05, eta: 19:15:06, time: 1.152, data_time: 0.012, memory: 6189, loss_rpn_cls: 0.0026, loss_rpn_bbox: 0.0285, loss_cls: 0.0810, acc: 96.6387, loss_bbox: 0.2182, loss: 0.3303\n",
      "2021-01-04 10:42:20,668 - mmdet - INFO - Epoch [25][650/2001]\tlr: 5.000e-05, eta: 19:13:52, time: 1.218, data_time: 0.013, memory: 6189, loss_rpn_cls: 0.0028, loss_rpn_bbox: 0.0265, loss_cls: 0.0778, acc: 96.8105, loss_bbox: 0.2111, loss: 0.3182\n",
      "2021-01-04 10:43:20,023 - mmdet - INFO - Epoch [25][700/2001]\tlr: 5.000e-05, eta: 19:12:36, time: 1.181, data_time: 0.013, memory: 6189, loss_rpn_cls: 0.0019, loss_rpn_bbox: 0.0291, loss_cls: 0.0819, acc: 96.6221, loss_bbox: 0.2189, loss: 0.3319\n",
      "2021-01-04 10:44:18,379 - mmdet - INFO - Epoch [25][750/2001]\tlr: 5.000e-05, eta: 19:11:19, time: 1.172, data_time: 0.019, memory: 6189, loss_rpn_cls: 0.0021, loss_rpn_bbox: 0.0273, loss_cls: 0.0803, acc: 96.6279, loss_bbox: 0.2128, loss: 0.3225\n",
      "2021-01-04 10:45:18,597 - mmdet - INFO - Epoch [25][800/2001]\tlr: 5.000e-05, eta: 19:10:04, time: 1.206, data_time: 0.015, memory: 6189, loss_rpn_cls: 0.0024, loss_rpn_bbox: 0.0293, loss_cls: 0.0797, acc: 96.6318, loss_bbox: 0.2159, loss: 0.3272\n",
      "2021-01-04 10:46:17,667 - mmdet - INFO - Epoch [25][850/2001]\tlr: 5.000e-05, eta: 19:08:48, time: 1.180, data_time: 0.013, memory: 6189, loss_rpn_cls: 0.0023, loss_rpn_bbox: 0.0291, loss_cls: 0.0818, acc: 96.5244, loss_bbox: 0.2192, loss: 0.3323\n",
      "2021-01-04 10:47:14,044 - mmdet - INFO - Epoch [25][900/2001]\tlr: 5.000e-05, eta: 19:07:30, time: 1.127, data_time: 0.014, memory: 6189, loss_rpn_cls: 0.0028, loss_rpn_bbox: 0.0302, loss_cls: 0.0805, acc: 96.7197, loss_bbox: 0.2202, loss: 0.3338\n",
      "2021-01-04 10:48:12,401 - mmdet - INFO - Epoch [25][950/2001]\tlr: 5.000e-05, eta: 19:06:13, time: 1.168, data_time: 0.015, memory: 6189, loss_rpn_cls: 0.0023, loss_rpn_bbox: 0.0295, loss_cls: 0.0787, acc: 96.6992, loss_bbox: 0.2150, loss: 0.3256\n",
      "2021-01-04 10:49:10,898 - mmdet - INFO - Epoch [25][1000/2001]\tlr: 5.000e-05, eta: 19:04:56, time: 1.168, data_time: 0.013, memory: 6189, loss_rpn_cls: 0.0027, loss_rpn_bbox: 0.0269, loss_cls: 0.0809, acc: 96.7139, loss_bbox: 0.2173, loss: 0.3278\n",
      "2021-01-04 10:50:07,182 - mmdet - INFO - Epoch [25][1050/2001]\tlr: 5.000e-05, eta: 19:03:38, time: 1.127, data_time: 0.015, memory: 6189, loss_rpn_cls: 0.0032, loss_rpn_bbox: 0.0288, loss_cls: 0.0802, acc: 96.6885, loss_bbox: 0.2198, loss: 0.3320\n",
      "2021-01-04 10:51:05,278 - mmdet - INFO - Epoch [25][1100/2001]\tlr: 5.000e-05, eta: 19:02:21, time: 1.163, data_time: 0.013, memory: 6189, loss_rpn_cls: 0.0027, loss_rpn_bbox: 0.0272, loss_cls: 0.0802, acc: 96.6680, loss_bbox: 0.2168, loss: 0.3270\n",
      "2021-01-04 10:52:05,910 - mmdet - INFO - Epoch [25][1150/2001]\tlr: 5.000e-05, eta: 19:01:07, time: 1.213, data_time: 0.013, memory: 6189, loss_rpn_cls: 0.0022, loss_rpn_bbox: 0.0290, loss_cls: 0.0793, acc: 96.7637, loss_bbox: 0.2143, loss: 0.3248\n",
      "2021-01-04 10:53:03,983 - mmdet - INFO - Epoch [25][1200/2001]\tlr: 5.000e-05, eta: 18:59:50, time: 1.158, data_time: 0.013, memory: 6189, loss_rpn_cls: 0.0018, loss_rpn_bbox: 0.0286, loss_cls: 0.0803, acc: 96.6689, loss_bbox: 0.2159, loss: 0.3266\n",
      "2021-01-04 10:53:54,583 - mmdet - INFO - Epoch [25][1250/2001]\tlr: 5.000e-05, eta: 18:58:25, time: 1.016, data_time: 0.016, memory: 6189, loss_rpn_cls: 0.0023, loss_rpn_bbox: 0.0284, loss_cls: 0.0808, acc: 96.6250, loss_bbox: 0.2207, loss: 0.3323\n",
      "2021-01-04 10:54:43,930 - mmdet - INFO - Epoch [25][1300/2001]\tlr: 5.000e-05, eta: 18:57:00, time: 0.987, data_time: 0.013, memory: 6189, loss_rpn_cls: 0.0022, loss_rpn_bbox: 0.0291, loss_cls: 0.0782, acc: 96.7217, loss_bbox: 0.2149, loss: 0.3245\n",
      "2021-01-04 10:55:33,512 - mmdet - INFO - Epoch [25][1350/2001]\tlr: 5.000e-05, eta: 18:55:34, time: 0.991, data_time: 0.012, memory: 6189, loss_rpn_cls: 0.0030, loss_rpn_bbox: 0.0293, loss_cls: 0.0807, acc: 96.6162, loss_bbox: 0.2166, loss: 0.3295\n",
      "2021-01-04 10:56:26,007 - mmdet - INFO - Epoch [25][1400/2001]\tlr: 5.000e-05, eta: 18:54:12, time: 1.050, data_time: 0.013, memory: 6189, loss_rpn_cls: 0.0027, loss_rpn_bbox: 0.0260, loss_cls: 0.0785, acc: 96.7783, loss_bbox: 0.2130, loss: 0.3202\n",
      "2021-01-04 10:57:20,483 - mmdet - INFO - Epoch [25][1450/2001]\tlr: 5.000e-05, eta: 18:52:52, time: 1.089, data_time: 0.013, memory: 6189, loss_rpn_cls: 0.0024, loss_rpn_bbox: 0.0280, loss_cls: 0.0802, acc: 96.6348, loss_bbox: 0.2082, loss: 0.3187\n",
      "2021-01-04 10:58:18,044 - mmdet - INFO - Epoch [25][1500/2001]\tlr: 5.000e-05, eta: 18:51:35, time: 1.152, data_time: 0.013, memory: 6189, loss_rpn_cls: 0.0024, loss_rpn_bbox: 0.0294, loss_cls: 0.0784, acc: 96.7646, loss_bbox: 0.2162, loss: 0.3264\n",
      "2021-01-04 10:59:16,118 - mmdet - INFO - Epoch [25][1550/2001]\tlr: 5.000e-05, eta: 18:50:18, time: 1.159, data_time: 0.012, memory: 6189, loss_rpn_cls: 0.0023, loss_rpn_bbox: 0.0286, loss_cls: 0.0816, acc: 96.6064, loss_bbox: 0.2154, loss: 0.3279\n",
      "2021-01-04 11:00:18,115 - mmdet - INFO - Epoch [25][1600/2001]\tlr: 5.000e-05, eta: 18:49:06, time: 1.241, data_time: 0.015, memory: 6189, loss_rpn_cls: 0.0021, loss_rpn_bbox: 0.0266, loss_cls: 0.0808, acc: 96.6680, loss_bbox: 0.2172, loss: 0.3267\n",
      "2021-01-04 11:01:18,491 - mmdet - INFO - Epoch [25][1650/2001]\tlr: 5.000e-05, eta: 18:47:52, time: 1.210, data_time: 0.015, memory: 6189, loss_rpn_cls: 0.0022, loss_rpn_bbox: 0.0266, loss_cls: 0.0797, acc: 96.7012, loss_bbox: 0.2121, loss: 0.3206\n",
      "2021-01-04 11:02:19,621 - mmdet - INFO - Epoch [25][1700/2001]\tlr: 5.000e-05, eta: 18:46:38, time: 1.218, data_time: 0.012, memory: 6189, loss_rpn_cls: 0.0021, loss_rpn_bbox: 0.0263, loss_cls: 0.0771, acc: 96.8008, loss_bbox: 0.2085, loss: 0.3140\n"
     ]
    },
    {
     "name": "stderr",
     "output_type": "stream",
     "text": [
      "2021-01-04 11:03:15,659 - mmdet - INFO - Epoch [25][1750/2001]\tlr: 5.000e-05, eta: 18:45:20, time: 1.125, data_time: 0.017, memory: 6189, loss_rpn_cls: 0.0017, loss_rpn_bbox: 0.0264, loss_cls: 0.0810, acc: 96.6973, loss_bbox: 0.2152, loss: 0.3243\n",
      "2021-01-04 11:04:15,098 - mmdet - INFO - Epoch [25][1800/2001]\tlr: 5.000e-05, eta: 18:44:05, time: 1.187, data_time: 0.013, memory: 6189, loss_rpn_cls: 0.0021, loss_rpn_bbox: 0.0289, loss_cls: 0.0795, acc: 96.6533, loss_bbox: 0.2191, loss: 0.3297\n",
      "2021-01-04 11:05:14,072 - mmdet - INFO - Epoch [25][1850/2001]\tlr: 5.000e-05, eta: 18:42:50, time: 1.177, data_time: 0.015, memory: 6189, loss_rpn_cls: 0.0026, loss_rpn_bbox: 0.0259, loss_cls: 0.0818, acc: 96.6455, loss_bbox: 0.2155, loss: 0.3258\n",
      "2021-01-04 11:06:16,444 - mmdet - INFO - Epoch [25][1900/2001]\tlr: 5.000e-05, eta: 18:41:38, time: 1.251, data_time: 0.016, memory: 6189, loss_rpn_cls: 0.0026, loss_rpn_bbox: 0.0282, loss_cls: 0.0814, acc: 96.6836, loss_bbox: 0.2175, loss: 0.3297\n",
      "2021-01-04 11:07:15,258 - mmdet - INFO - Epoch [25][1950/2001]\tlr: 5.000e-05, eta: 18:40:22, time: 1.176, data_time: 0.013, memory: 6189, loss_rpn_cls: 0.0022, loss_rpn_bbox: 0.0264, loss_cls: 0.0778, acc: 96.7305, loss_bbox: 0.2115, loss: 0.3180\n",
      "2021-01-04 11:08:17,256 - mmdet - INFO - Epoch [25][2000/2001]\tlr: 5.000e-05, eta: 18:39:10, time: 1.240, data_time: 0.013, memory: 6189, loss_rpn_cls: 0.0024, loss_rpn_bbox: 0.0278, loss_cls: 0.0813, acc: 96.6279, loss_bbox: 0.2198, loss: 0.3313\n",
      "2021-01-04 11:08:18,054 - mmdet - INFO - Saving checkpoint at 25 epochs\n"
     ]
    },
    {
     "name": "stdout",
     "output_type": "stream",
     "text": [
      "[>>>>>>>>>>>>>>>>>>>>>>>>>>>] 2013/2013, 8.4 task/s, elapsed: 241s, ETA:     0s"
     ]
    },
    {
     "name": "stderr",
     "output_type": "stream",
     "text": [
      "2021-01-04 11:12:19,754 - mmdet - INFO - \n",
      "Evaluateing valid_44.json with 2013 images now\n",
      "2021-01-04 11:12:20,296 - mmdet - INFO - Evaluating bbox...\n"
     ]
    },
    {
     "name": "stdout",
     "output_type": "stream",
     "text": [
      "Loading and preparing results...\n",
      "DONE (t=0.27s)\n",
      "creating index...\n",
      "index created!\n",
      "Running per image evaluation...\n",
      "Evaluate annotation type *bbox*\n",
      "DONE (t=20.32s).\n",
      "Accumulating evaluation results...\n"
     ]
    },
    {
     "name": "stderr",
     "output_type": "stream",
     "text": [
      "2021-01-04 11:12:41,902 - mmdet - INFO - Epoch(val) [25][2001]\t0_bbox_mAP: 0.2840, 0_bbox_mAP_50: 0.4670, 0_bbox_mAP_75: 0.3190, 0_bbox_mAP_s: 0.2790, 0_bbox_mAP_m: 0.4610, 0_bbox_mAP_l: -1.0000, 0_bbox_mAP_copypaste: 0.284 0.467 0.319 0.279 0.461 -1.000\n"
     ]
    },
    {
     "name": "stdout",
     "output_type": "stream",
     "text": [
      "DONE (t=0.92s).\n",
      "Average Precision  (AP) @[ IoU=0.50:0.95 | area=   all | maxDets=100 ] = 0.284\n",
      "Average Precision  (AP) @[ IoU=0.50      | area=   all | maxDets=1000 ] = 0.467\n",
      "Average Precision  (AP) @[ IoU=0.75      | area=   all | maxDets=1000 ] = 0.319\n",
      "Average Precision  (AP) @[ IoU=0.50:0.95 | area= small | maxDets=1000 ] = 0.279\n",
      "Average Precision  (AP) @[ IoU=0.50:0.95 | area=medium | maxDets=1000 ] = 0.461\n",
      "Average Precision  (AP) @[ IoU=0.50:0.95 | area= large | maxDets=1000 ] = -1.000\n",
      "Average Recall     (AR) @[ IoU=0.50:0.95 | area=   all | maxDets=100 ] = 0.351\n",
      "Average Recall     (AR) @[ IoU=0.50:0.95 | area=   all | maxDets=300 ] = 0.351\n",
      "Average Recall     (AR) @[ IoU=0.50:0.95 | area=   all | maxDets=1000 ] = 0.351\n",
      "Average Recall     (AR) @[ IoU=0.50:0.95 | area= small | maxDets=1000 ] = 0.347\n",
      "Average Recall     (AR) @[ IoU=0.50:0.95 | area=medium | maxDets=1000 ] = 0.515\n",
      "Average Recall     (AR) @[ IoU=0.50:0.95 | area= large | maxDets=1000 ] = -1.000\n"
     ]
    },
    {
     "name": "stderr",
     "output_type": "stream",
     "text": [
      "2021-01-04 11:13:35,226 - mmdet - INFO - Epoch [26][50/2001]\tlr: 5.000e-05, eta: 18:37:46, time: 1.062, data_time: 0.061, memory: 6189, loss_rpn_cls: 0.0029, loss_rpn_bbox: 0.0293, loss_cls: 0.0773, acc: 96.8145, loss_bbox: 0.2172, loss: 0.3267\n",
      "2021-01-04 11:14:31,479 - mmdet - INFO - Epoch [26][100/2001]\tlr: 5.000e-05, eta: 18:36:28, time: 1.123, data_time: 0.012, memory: 6189, loss_rpn_cls: 0.0022, loss_rpn_bbox: 0.0277, loss_cls: 0.0777, acc: 96.8018, loss_bbox: 0.2150, loss: 0.3226\n",
      "2021-01-04 11:15:28,586 - mmdet - INFO - Epoch [26][150/2001]\tlr: 5.000e-05, eta: 18:35:11, time: 1.143, data_time: 0.014, memory: 6189, loss_rpn_cls: 0.0025, loss_rpn_bbox: 0.0268, loss_cls: 0.0785, acc: 96.7148, loss_bbox: 0.2123, loss: 0.3201\n",
      "2021-01-04 11:16:27,579 - mmdet - INFO - Epoch [26][200/2001]\tlr: 5.000e-05, eta: 18:33:56, time: 1.179, data_time: 0.013, memory: 6189, loss_rpn_cls: 0.0021, loss_rpn_bbox: 0.0284, loss_cls: 0.0806, acc: 96.6133, loss_bbox: 0.2154, loss: 0.3265\n",
      "2021-01-04 11:17:24,732 - mmdet - INFO - Epoch [26][250/2001]\tlr: 5.000e-05, eta: 18:32:39, time: 1.144, data_time: 0.014, memory: 6189, loss_rpn_cls: 0.0022, loss_rpn_bbox: 0.0284, loss_cls: 0.0815, acc: 96.6152, loss_bbox: 0.2186, loss: 0.3306\n",
      "2021-01-04 11:18:25,928 - mmdet - INFO - Epoch [26][300/2001]\tlr: 5.000e-05, eta: 18:31:27, time: 1.223, data_time: 0.014, memory: 6189, loss_rpn_cls: 0.0024, loss_rpn_bbox: 0.0283, loss_cls: 0.0761, acc: 96.8281, loss_bbox: 0.2108, loss: 0.3176\n",
      "2021-01-04 11:19:25,771 - mmdet - INFO - Epoch [26][350/2001]\tlr: 5.000e-05, eta: 18:30:12, time: 1.198, data_time: 0.014, memory: 6189, loss_rpn_cls: 0.0025, loss_rpn_bbox: 0.0277, loss_cls: 0.0828, acc: 96.5840, loss_bbox: 0.2216, loss: 0.3346\n",
      "2021-01-04 11:20:21,861 - mmdet - INFO - Epoch [26][400/2001]\tlr: 5.000e-05, eta: 18:28:55, time: 1.121, data_time: 0.013, memory: 6189, loss_rpn_cls: 0.0018, loss_rpn_bbox: 0.0253, loss_cls: 0.0807, acc: 96.6836, loss_bbox: 0.2102, loss: 0.3179\n",
      "2021-01-04 11:21:22,406 - mmdet - INFO - Epoch [26][450/2001]\tlr: 5.000e-05, eta: 18:27:41, time: 1.209, data_time: 0.013, memory: 6189, loss_rpn_cls: 0.0023, loss_rpn_bbox: 0.0281, loss_cls: 0.0803, acc: 96.6348, loss_bbox: 0.2140, loss: 0.3248\n",
      "2021-01-04 11:22:22,787 - mmdet - INFO - Epoch [26][500/2001]\tlr: 5.000e-05, eta: 18:26:28, time: 1.209, data_time: 0.015, memory: 6189, loss_rpn_cls: 0.0023, loss_rpn_bbox: 0.0271, loss_cls: 0.0771, acc: 96.7793, loss_bbox: 0.2059, loss: 0.3125\n",
      "2021-01-04 11:23:23,910 - mmdet - INFO - Epoch [26][550/2001]\tlr: 5.000e-05, eta: 18:25:15, time: 1.222, data_time: 0.014, memory: 6189, loss_rpn_cls: 0.0024, loss_rpn_bbox: 0.0257, loss_cls: 0.0787, acc: 96.7588, loss_bbox: 0.2101, loss: 0.3169\n",
      "2021-01-04 11:24:18,616 - mmdet - INFO - Epoch [26][600/2001]\tlr: 5.000e-05, eta: 18:23:56, time: 1.093, data_time: 0.014, memory: 6189, loss_rpn_cls: 0.0031, loss_rpn_bbox: 0.0265, loss_cls: 0.0814, acc: 96.5918, loss_bbox: 0.2146, loss: 0.3256\n",
      "2021-01-04 11:25:19,630 - mmdet - INFO - Epoch [26][650/2001]\tlr: 5.000e-05, eta: 18:22:43, time: 1.222, data_time: 0.015, memory: 6189, loss_rpn_cls: 0.0031, loss_rpn_bbox: 0.0281, loss_cls: 0.0803, acc: 96.6543, loss_bbox: 0.2146, loss: 0.3261\n",
      "2021-01-04 11:26:14,912 - mmdet - INFO - Epoch [26][700/2001]\tlr: 5.000e-05, eta: 18:21:24, time: 1.104, data_time: 0.013, memory: 6189, loss_rpn_cls: 0.0034, loss_rpn_bbox: 0.0283, loss_cls: 0.0805, acc: 96.6270, loss_bbox: 0.2104, loss: 0.3226\n",
      "2021-01-04 11:27:17,924 - mmdet - INFO - Epoch [26][750/2001]\tlr: 5.000e-05, eta: 18:20:14, time: 1.261, data_time: 0.015, memory: 6189, loss_rpn_cls: 0.0021, loss_rpn_bbox: 0.0292, loss_cls: 0.0820, acc: 96.6064, loss_bbox: 0.2196, loss: 0.3328\n",
      "2021-01-04 11:28:17,802 - mmdet - INFO - Epoch [26][800/2001]\tlr: 5.000e-05, eta: 18:19:00, time: 1.198, data_time: 0.014, memory: 6189, loss_rpn_cls: 0.0028, loss_rpn_bbox: 0.0265, loss_cls: 0.0788, acc: 96.7334, loss_bbox: 0.2129, loss: 0.3209\n",
      "2021-01-04 11:29:16,775 - mmdet - INFO - Epoch [26][850/2001]\tlr: 5.000e-05, eta: 18:17:45, time: 1.179, data_time: 0.013, memory: 6189, loss_rpn_cls: 0.0020, loss_rpn_bbox: 0.0281, loss_cls: 0.0814, acc: 96.5898, loss_bbox: 0.2126, loss: 0.3241\n",
      "2021-01-04 11:30:14,757 - mmdet - INFO - Epoch [26][900/2001]\tlr: 5.000e-05, eta: 18:16:29, time: 1.160, data_time: 0.013, memory: 6189, loss_rpn_cls: 0.0017, loss_rpn_bbox: 0.0302, loss_cls: 0.0823, acc: 96.5811, loss_bbox: 0.2170, loss: 0.3312\n",
      "2021-01-04 11:31:15,406 - mmdet - INFO - Epoch [26][950/2001]\tlr: 5.000e-05, eta: 18:15:16, time: 1.212, data_time: 0.014, memory: 6189, loss_rpn_cls: 0.0023, loss_rpn_bbox: 0.0285, loss_cls: 0.0768, acc: 96.7754, loss_bbox: 0.2099, loss: 0.3175\n",
      "2021-01-04 11:32:11,653 - mmdet - INFO - Epoch [26][1000/2001]\tlr: 5.000e-05, eta: 18:13:59, time: 1.126, data_time: 0.015, memory: 6189, loss_rpn_cls: 0.0027, loss_rpn_bbox: 0.0310, loss_cls: 0.0771, acc: 96.8447, loss_bbox: 0.2170, loss: 0.3277\n",
      "2021-01-04 11:33:12,580 - mmdet - INFO - Epoch [26][1050/2001]\tlr: 5.000e-05, eta: 18:12:46, time: 1.219, data_time: 0.014, memory: 6189, loss_rpn_cls: 0.0028, loss_rpn_bbox: 0.0298, loss_cls: 0.0789, acc: 96.7080, loss_bbox: 0.2159, loss: 0.3275\n",
      "2021-01-04 11:34:14,241 - mmdet - INFO - Epoch [26][1100/2001]\tlr: 5.000e-05, eta: 18:11:34, time: 1.233, data_time: 0.013, memory: 6189, loss_rpn_cls: 0.0021, loss_rpn_bbox: 0.0286, loss_cls: 0.0795, acc: 96.7969, loss_bbox: 0.2142, loss: 0.3245\n",
      "2021-01-04 11:35:12,658 - mmdet - INFO - Epoch [26][1150/2001]\tlr: 5.000e-05, eta: 18:10:19, time: 1.167, data_time: 0.013, memory: 6189, loss_rpn_cls: 0.0028, loss_rpn_bbox: 0.0264, loss_cls: 0.0802, acc: 96.6670, loss_bbox: 0.2095, loss: 0.3189\n",
      "2021-01-04 11:36:10,880 - mmdet - INFO - Epoch [26][1200/2001]\tlr: 5.000e-05, eta: 18:09:04, time: 1.164, data_time: 0.014, memory: 6189, loss_rpn_cls: 0.0025, loss_rpn_bbox: 0.0279, loss_cls: 0.0827, acc: 96.5928, loss_bbox: 0.2138, loss: 0.3269\n",
      "2021-01-04 11:37:09,345 - mmdet - INFO - Epoch [26][1250/2001]\tlr: 5.000e-05, eta: 18:07:49, time: 1.170, data_time: 0.015, memory: 6189, loss_rpn_cls: 0.0028, loss_rpn_bbox: 0.0291, loss_cls: 0.0821, acc: 96.6904, loss_bbox: 0.2184, loss: 0.3324\n",
      "2021-01-04 11:38:11,259 - mmdet - INFO - Epoch [26][1300/2001]\tlr: 5.000e-05, eta: 18:06:37, time: 1.237, data_time: 0.013, memory: 6189, loss_rpn_cls: 0.0024, loss_rpn_bbox: 0.0280, loss_cls: 0.0797, acc: 96.7314, loss_bbox: 0.2131, loss: 0.3232\n",
      "2021-01-04 11:39:12,636 - mmdet - INFO - Epoch [26][1350/2001]\tlr: 5.000e-05, eta: 18:05:25, time: 1.228, data_time: 0.015, memory: 6189, loss_rpn_cls: 0.0027, loss_rpn_bbox: 0.0286, loss_cls: 0.0790, acc: 96.7520, loss_bbox: 0.2213, loss: 0.3316\n",
      "2021-01-04 11:40:14,169 - mmdet - INFO - Epoch [26][1400/2001]\tlr: 5.000e-05, eta: 18:04:13, time: 1.226, data_time: 0.015, memory: 6189, loss_rpn_cls: 0.0027, loss_rpn_bbox: 0.0296, loss_cls: 0.0811, acc: 96.6611, loss_bbox: 0.2192, loss: 0.3327\n",
      "2021-01-04 11:41:12,217 - mmdet - INFO - Epoch [26][1450/2001]\tlr: 5.000e-05, eta: 18:02:58, time: 1.166, data_time: 0.019, memory: 6189, loss_rpn_cls: 0.0021, loss_rpn_bbox: 0.0296, loss_cls: 0.0802, acc: 96.6523, loss_bbox: 0.2141, loss: 0.3260\n",
      "2021-01-04 11:42:10,421 - mmdet - INFO - Epoch [26][1500/2001]\tlr: 5.000e-05, eta: 18:01:43, time: 1.164, data_time: 0.013, memory: 6189, loss_rpn_cls: 0.0025, loss_rpn_bbox: 0.0265, loss_cls: 0.0835, acc: 96.4971, loss_bbox: 0.2191, loss: 0.3317\n",
      "2021-01-04 11:43:10,137 - mmdet - INFO - Epoch [26][1550/2001]\tlr: 5.000e-05, eta: 18:00:29, time: 1.191, data_time: 0.013, memory: 6189, loss_rpn_cls: 0.0021, loss_rpn_bbox: 0.0272, loss_cls: 0.0819, acc: 96.6162, loss_bbox: 0.2138, loss: 0.3250\n",
      "2021-01-04 11:44:06,723 - mmdet - INFO - Epoch [26][1600/2001]\tlr: 5.000e-05, eta: 17:59:13, time: 1.135, data_time: 0.017, memory: 6189, loss_rpn_cls: 0.0031, loss_rpn_bbox: 0.0274, loss_cls: 0.0796, acc: 96.7393, loss_bbox: 0.2169, loss: 0.3268\n",
      "2021-01-04 11:45:06,980 - mmdet - INFO - Epoch [26][1650/2001]\tlr: 5.000e-05, eta: 17:58:00, time: 1.196, data_time: 0.013, memory: 6189, loss_rpn_cls: 0.0021, loss_rpn_bbox: 0.0268, loss_cls: 0.0783, acc: 96.7061, loss_bbox: 0.2113, loss: 0.3185\n",
      "2021-01-04 11:46:05,351 - mmdet - INFO - Epoch [26][1700/2001]\tlr: 5.000e-05, eta: 17:56:45, time: 1.175, data_time: 0.021, memory: 6189, loss_rpn_cls: 0.0019, loss_rpn_bbox: 0.0273, loss_cls: 0.0820, acc: 96.6514, loss_bbox: 0.2175, loss: 0.3287\n"
     ]
    },
    {
     "name": "stderr",
     "output_type": "stream",
     "text": [
      "2021-01-04 11:47:04,968 - mmdet - INFO - Epoch [26][1750/2001]\tlr: 5.000e-05, eta: 17:55:32, time: 1.191, data_time: 0.014, memory: 6189, loss_rpn_cls: 0.0026, loss_rpn_bbox: 0.0287, loss_cls: 0.0790, acc: 96.7568, loss_bbox: 0.2174, loss: 0.3278\n",
      "2021-01-04 11:48:04,443 - mmdet - INFO - Epoch [26][1800/2001]\tlr: 5.000e-05, eta: 17:54:18, time: 1.192, data_time: 0.015, memory: 6189, loss_rpn_cls: 0.0026, loss_rpn_bbox: 0.0285, loss_cls: 0.0812, acc: 96.6543, loss_bbox: 0.2217, loss: 0.3340\n",
      "2021-01-04 11:49:03,273 - mmdet - INFO - Epoch [26][1850/2001]\tlr: 5.000e-05, eta: 17:53:04, time: 1.176, data_time: 0.012, memory: 6189, loss_rpn_cls: 0.0026, loss_rpn_bbox: 0.0297, loss_cls: 0.0793, acc: 96.7051, loss_bbox: 0.2140, loss: 0.3255\n",
      "2021-01-04 11:50:01,225 - mmdet - INFO - Epoch [26][1900/2001]\tlr: 5.000e-05, eta: 17:51:49, time: 1.158, data_time: 0.013, memory: 6189, loss_rpn_cls: 0.0017, loss_rpn_bbox: 0.0267, loss_cls: 0.0807, acc: 96.6465, loss_bbox: 0.2138, loss: 0.3228\n",
      "2021-01-04 11:50:59,295 - mmdet - INFO - Epoch [26][1950/2001]\tlr: 5.000e-05, eta: 17:50:34, time: 1.162, data_time: 0.015, memory: 6189, loss_rpn_cls: 0.0028, loss_rpn_bbox: 0.0253, loss_cls: 0.0805, acc: 96.6348, loss_bbox: 0.2137, loss: 0.3223\n",
      "2021-01-04 11:51:58,118 - mmdet - INFO - Epoch [26][2000/2001]\tlr: 5.000e-05, eta: 17:49:19, time: 1.176, data_time: 0.014, memory: 6189, loss_rpn_cls: 0.0025, loss_rpn_bbox: 0.0294, loss_cls: 0.0775, acc: 96.7402, loss_bbox: 0.2158, loss: 0.3253\n",
      "2021-01-04 11:51:59,927 - mmdet - INFO - Saving checkpoint at 26 epochs\n"
     ]
    },
    {
     "name": "stdout",
     "output_type": "stream",
     "text": [
      "[>>>>>>>>>>>>>>>>>>>>>>>>>>>] 2013/2013, 8.4 task/s, elapsed: 239s, ETA:     0s"
     ]
    },
    {
     "name": "stderr",
     "output_type": "stream",
     "text": [
      "2021-01-04 11:56:00,393 - mmdet - INFO - \n",
      "Evaluateing valid_44.json with 2013 images now\n",
      "2021-01-04 11:56:01,140 - mmdet - INFO - Evaluating bbox...\n"
     ]
    },
    {
     "name": "stdout",
     "output_type": "stream",
     "text": [
      "Loading and preparing results...\n",
      "DONE (t=0.12s)\n",
      "creating index...\n",
      "index created!\n",
      "Running per image evaluation...\n",
      "Evaluate annotation type *bbox*\n",
      "DONE (t=19.21s).\n",
      "Accumulating evaluation results...\n"
     ]
    },
    {
     "name": "stderr",
     "output_type": "stream",
     "text": [
      "2021-01-04 11:56:21,510 - mmdet - INFO - Epoch(val) [26][2001]\t0_bbox_mAP: 0.2850, 0_bbox_mAP_50: 0.4700, 0_bbox_mAP_75: 0.3200, 0_bbox_mAP_s: 0.2800, 0_bbox_mAP_m: 0.4640, 0_bbox_mAP_l: -1.0000, 0_bbox_mAP_copypaste: 0.285 0.470 0.320 0.280 0.464 -1.000\n"
     ]
    },
    {
     "name": "stdout",
     "output_type": "stream",
     "text": [
      "DONE (t=0.95s).\n",
      "Average Precision  (AP) @[ IoU=0.50:0.95 | area=   all | maxDets=100 ] = 0.285\n",
      "Average Precision  (AP) @[ IoU=0.50      | area=   all | maxDets=1000 ] = 0.470\n",
      "Average Precision  (AP) @[ IoU=0.75      | area=   all | maxDets=1000 ] = 0.320\n",
      "Average Precision  (AP) @[ IoU=0.50:0.95 | area= small | maxDets=1000 ] = 0.280\n",
      "Average Precision  (AP) @[ IoU=0.50:0.95 | area=medium | maxDets=1000 ] = 0.464\n",
      "Average Precision  (AP) @[ IoU=0.50:0.95 | area= large | maxDets=1000 ] = -1.000\n",
      "Average Recall     (AR) @[ IoU=0.50:0.95 | area=   all | maxDets=100 ] = 0.354\n",
      "Average Recall     (AR) @[ IoU=0.50:0.95 | area=   all | maxDets=300 ] = 0.354\n",
      "Average Recall     (AR) @[ IoU=0.50:0.95 | area=   all | maxDets=1000 ] = 0.354\n",
      "Average Recall     (AR) @[ IoU=0.50:0.95 | area= small | maxDets=1000 ] = 0.350\n",
      "Average Recall     (AR) @[ IoU=0.50:0.95 | area=medium | maxDets=1000 ] = 0.512\n",
      "Average Recall     (AR) @[ IoU=0.50:0.95 | area= large | maxDets=1000 ] = -1.000\n"
     ]
    },
    {
     "name": "stderr",
     "output_type": "stream",
     "text": [
      "2021-01-04 11:57:15,346 - mmdet - INFO - Epoch [27][50/2001]\tlr: 5.000e-05, eta: 17:47:58, time: 1.072, data_time: 0.060, memory: 6189, loss_rpn_cls: 0.0025, loss_rpn_bbox: 0.0272, loss_cls: 0.0815, acc: 96.6748, loss_bbox: 0.2145, loss: 0.3256\n",
      "2021-01-04 11:58:13,797 - mmdet - INFO - Epoch [27][100/2001]\tlr: 5.000e-05, eta: 17:46:44, time: 1.169, data_time: 0.013, memory: 6189, loss_rpn_cls: 0.0018, loss_rpn_bbox: 0.0287, loss_cls: 0.0820, acc: 96.5469, loss_bbox: 0.2210, loss: 0.3335\n",
      "2021-01-04 11:59:12,081 - mmdet - INFO - Epoch [27][150/2001]\tlr: 5.000e-05, eta: 17:45:29, time: 1.166, data_time: 0.014, memory: 6189, loss_rpn_cls: 0.0026, loss_rpn_bbox: 0.0278, loss_cls: 0.0782, acc: 96.7783, loss_bbox: 0.2142, loss: 0.3228\n",
      "2021-01-04 12:00:10,291 - mmdet - INFO - Epoch [27][200/2001]\tlr: 5.000e-05, eta: 17:44:14, time: 1.164, data_time: 0.013, memory: 6189, loss_rpn_cls: 0.0027, loss_rpn_bbox: 0.0275, loss_cls: 0.0805, acc: 96.6924, loss_bbox: 0.2192, loss: 0.3299\n",
      "2021-01-04 12:01:10,723 - mmdet - INFO - Epoch [27][250/2001]\tlr: 5.000e-05, eta: 17:43:02, time: 1.209, data_time: 0.013, memory: 6189, loss_rpn_cls: 0.0019, loss_rpn_bbox: 0.0293, loss_cls: 0.0780, acc: 96.7627, loss_bbox: 0.2155, loss: 0.3248\n",
      "2021-01-04 12:02:10,170 - mmdet - INFO - Epoch [27][300/2001]\tlr: 5.000e-05, eta: 17:41:48, time: 1.187, data_time: 0.013, memory: 6189, loss_rpn_cls: 0.0021, loss_rpn_bbox: 0.0266, loss_cls: 0.0787, acc: 96.7510, loss_bbox: 0.2097, loss: 0.3171\n",
      "2021-01-04 12:03:09,522 - mmdet - INFO - Epoch [27][350/2001]\tlr: 5.000e-05, eta: 17:40:35, time: 1.185, data_time: 0.015, memory: 6189, loss_rpn_cls: 0.0022, loss_rpn_bbox: 0.0273, loss_cls: 0.0776, acc: 96.8057, loss_bbox: 0.2135, loss: 0.3206\n",
      "2021-01-04 12:04:07,609 - mmdet - INFO - Epoch [27][400/2001]\tlr: 5.000e-05, eta: 17:39:20, time: 1.165, data_time: 0.017, memory: 6189, loss_rpn_cls: 0.0018, loss_rpn_bbox: 0.0288, loss_cls: 0.0810, acc: 96.6445, loss_bbox: 0.2173, loss: 0.3289\n",
      "2021-01-04 12:05:07,579 - mmdet - INFO - Epoch [27][450/2001]\tlr: 5.000e-05, eta: 17:38:07, time: 1.197, data_time: 0.013, memory: 6189, loss_rpn_cls: 0.0022, loss_rpn_bbox: 0.0283, loss_cls: 0.0811, acc: 96.6455, loss_bbox: 0.2186, loss: 0.3302\n",
      "2021-01-04 12:06:08,986 - mmdet - INFO - Epoch [27][500/2001]\tlr: 5.000e-05, eta: 17:36:56, time: 1.230, data_time: 0.016, memory: 6189, loss_rpn_cls: 0.0020, loss_rpn_bbox: 0.0264, loss_cls: 0.0796, acc: 96.7031, loss_bbox: 0.2110, loss: 0.3189\n",
      "2021-01-04 12:07:06,963 - mmdet - INFO - Epoch [27][550/2001]\tlr: 5.000e-05, eta: 17:35:41, time: 1.154, data_time: 0.013, memory: 6189, loss_rpn_cls: 0.0019, loss_rpn_bbox: 0.0252, loss_cls: 0.0773, acc: 96.7520, loss_bbox: 0.2087, loss: 0.3131\n",
      "2021-01-04 12:08:02,785 - mmdet - INFO - Epoch [27][600/2001]\tlr: 5.000e-05, eta: 17:34:25, time: 1.122, data_time: 0.019, memory: 6189, loss_rpn_cls: 0.0023, loss_rpn_bbox: 0.0291, loss_cls: 0.0797, acc: 96.6973, loss_bbox: 0.2182, loss: 0.3293\n",
      "2021-01-04 12:09:00,819 - mmdet - INFO - Epoch [27][650/2001]\tlr: 5.000e-05, eta: 17:33:10, time: 1.160, data_time: 0.013, memory: 6189, loss_rpn_cls: 0.0026, loss_rpn_bbox: 0.0265, loss_cls: 0.0795, acc: 96.7627, loss_bbox: 0.2144, loss: 0.3230\n",
      "2021-01-04 12:09:59,061 - mmdet - INFO - Epoch [27][700/2001]\tlr: 5.000e-05, eta: 17:31:56, time: 1.166, data_time: 0.014, memory: 6189, loss_rpn_cls: 0.0027, loss_rpn_bbox: 0.0283, loss_cls: 0.0761, acc: 96.8848, loss_bbox: 0.2119, loss: 0.3190\n",
      "2021-01-04 12:10:57,052 - mmdet - INFO - Epoch [27][750/2001]\tlr: 5.000e-05, eta: 17:30:42, time: 1.159, data_time: 0.013, memory: 6189, loss_rpn_cls: 0.0030, loss_rpn_bbox: 0.0265, loss_cls: 0.0779, acc: 96.7363, loss_bbox: 0.2094, loss: 0.3167\n",
      "2021-01-04 12:11:54,820 - mmdet - INFO - Epoch [27][800/2001]\tlr: 5.000e-05, eta: 17:29:27, time: 1.155, data_time: 0.014, memory: 6189, loss_rpn_cls: 0.0024, loss_rpn_bbox: 0.0279, loss_cls: 0.0803, acc: 96.6318, loss_bbox: 0.2164, loss: 0.3271\n",
      "2021-01-04 12:12:54,107 - mmdet - INFO - Epoch [27][850/2001]\tlr: 5.000e-05, eta: 17:28:14, time: 1.185, data_time: 0.014, memory: 6189, loss_rpn_cls: 0.0022, loss_rpn_bbox: 0.0252, loss_cls: 0.0779, acc: 96.7627, loss_bbox: 0.2052, loss: 0.3104\n",
      "2021-01-04 12:13:55,125 - mmdet - INFO - Epoch [27][900/2001]\tlr: 5.000e-05, eta: 17:27:02, time: 1.221, data_time: 0.014, memory: 6189, loss_rpn_cls: 0.0024, loss_rpn_bbox: 0.0252, loss_cls: 0.0818, acc: 96.6465, loss_bbox: 0.2114, loss: 0.3207\n",
      "2021-01-04 12:14:54,253 - mmdet - INFO - Epoch [27][950/2001]\tlr: 5.000e-05, eta: 17:25:49, time: 1.182, data_time: 0.013, memory: 6189, loss_rpn_cls: 0.0025, loss_rpn_bbox: 0.0290, loss_cls: 0.0837, acc: 96.5000, loss_bbox: 0.2255, loss: 0.3407\n",
      "2021-01-04 12:15:55,880 - mmdet - INFO - Epoch [27][1000/2001]\tlr: 5.000e-05, eta: 17:24:37, time: 1.231, data_time: 0.014, memory: 6189, loss_rpn_cls: 0.0020, loss_rpn_bbox: 0.0290, loss_cls: 0.0816, acc: 96.6201, loss_bbox: 0.2172, loss: 0.3299\n",
      "2021-01-04 12:16:57,679 - mmdet - INFO - Epoch [27][1050/2001]\tlr: 5.000e-05, eta: 17:23:26, time: 1.235, data_time: 0.014, memory: 6189, loss_rpn_cls: 0.0020, loss_rpn_bbox: 0.0272, loss_cls: 0.0819, acc: 96.6006, loss_bbox: 0.2142, loss: 0.3253\n",
      "2021-01-04 12:17:56,546 - mmdet - INFO - Epoch [27][1100/2001]\tlr: 5.000e-05, eta: 17:22:13, time: 1.177, data_time: 0.015, memory: 6189, loss_rpn_cls: 0.0025, loss_rpn_bbox: 0.0274, loss_cls: 0.0784, acc: 96.7266, loss_bbox: 0.2136, loss: 0.3219\n",
      "2021-01-04 12:18:55,748 - mmdet - INFO - Epoch [27][1150/2001]\tlr: 5.000e-05, eta: 17:21:00, time: 1.186, data_time: 0.015, memory: 6189, loss_rpn_cls: 0.0029, loss_rpn_bbox: 0.0288, loss_cls: 0.0785, acc: 96.7939, loss_bbox: 0.2159, loss: 0.3260\n",
      "2021-01-04 12:19:57,930 - mmdet - INFO - Epoch [27][1200/2001]\tlr: 5.000e-05, eta: 17:19:49, time: 1.245, data_time: 0.014, memory: 6189, loss_rpn_cls: 0.0025, loss_rpn_bbox: 0.0277, loss_cls: 0.0835, acc: 96.5244, loss_bbox: 0.2178, loss: 0.3315\n",
      "2021-01-04 12:20:54,703 - mmdet - INFO - Epoch [27][1250/2001]\tlr: 5.000e-05, eta: 17:18:34, time: 1.135, data_time: 0.014, memory: 6189, loss_rpn_cls: 0.0026, loss_rpn_bbox: 0.0297, loss_cls: 0.0808, acc: 96.6055, loss_bbox: 0.2153, loss: 0.3284\n",
      "2021-01-04 12:21:53,442 - mmdet - INFO - Epoch [27][1300/2001]\tlr: 5.000e-05, eta: 17:17:21, time: 1.175, data_time: 0.014, memory: 6189, loss_rpn_cls: 0.0033, loss_rpn_bbox: 0.0267, loss_cls: 0.0800, acc: 96.6377, loss_bbox: 0.2150, loss: 0.3249\n",
      "2021-01-04 12:22:57,467 - mmdet - INFO - Epoch [27][1350/2001]\tlr: 5.000e-05, eta: 17:16:12, time: 1.277, data_time: 0.014, memory: 6189, loss_rpn_cls: 0.0019, loss_rpn_bbox: 0.0306, loss_cls: 0.0785, acc: 96.7617, loss_bbox: 0.2150, loss: 0.3259\n",
      "2021-01-04 12:24:36,095 - mmdet - INFO - Epoch [27][1400/2001]\tlr: 5.000e-05, eta: 17:15:33, time: 1.974, data_time: 0.019, memory: 6189, loss_rpn_cls: 0.0028, loss_rpn_bbox: 0.0279, loss_cls: 0.0816, acc: 96.6367, loss_bbox: 0.2179, loss: 0.3302\n",
      "2021-01-04 12:26:14,508 - mmdet - INFO - Epoch [27][1450/2001]\tlr: 5.000e-05, eta: 17:14:54, time: 1.966, data_time: 0.017, memory: 6189, loss_rpn_cls: 0.0023, loss_rpn_bbox: 0.0283, loss_cls: 0.0776, acc: 96.8301, loss_bbox: 0.2167, loss: 0.3249\n",
      "2021-01-04 12:27:52,276 - mmdet - INFO - Epoch [27][1500/2001]\tlr: 5.000e-05, eta: 17:14:14, time: 1.956, data_time: 0.019, memory: 6189, loss_rpn_cls: 0.0020, loss_rpn_bbox: 0.0270, loss_cls: 0.0810, acc: 96.6328, loss_bbox: 0.2137, loss: 0.3238\n",
      "2021-01-04 12:29:31,514 - mmdet - INFO - Epoch [27][1550/2001]\tlr: 5.000e-05, eta: 17:13:36, time: 1.985, data_time: 0.019, memory: 6189, loss_rpn_cls: 0.0024, loss_rpn_bbox: 0.0282, loss_cls: 0.0793, acc: 96.6885, loss_bbox: 0.2156, loss: 0.3255\n",
      "2021-01-04 12:31:12,677 - mmdet - INFO - Epoch [27][1600/2001]\tlr: 5.000e-05, eta: 17:12:59, time: 2.024, data_time: 0.019, memory: 6189, loss_rpn_cls: 0.0031, loss_rpn_bbox: 0.0304, loss_cls: 0.0779, acc: 96.6943, loss_bbox: 0.2161, loss: 0.3274\n",
      "2021-01-04 12:32:50,047 - mmdet - INFO - Epoch [27][1650/2001]\tlr: 5.000e-05, eta: 17:12:19, time: 1.947, data_time: 0.018, memory: 6189, loss_rpn_cls: 0.0024, loss_rpn_bbox: 0.0285, loss_cls: 0.0797, acc: 96.6943, loss_bbox: 0.2152, loss: 0.3258\n",
      "2021-01-04 12:34:29,261 - mmdet - INFO - Epoch [27][1700/2001]\tlr: 5.000e-05, eta: 17:11:40, time: 1.984, data_time: 0.020, memory: 6189, loss_rpn_cls: 0.0029, loss_rpn_bbox: 0.0275, loss_cls: 0.0821, acc: 96.5898, loss_bbox: 0.2149, loss: 0.3274\n"
     ]
    },
    {
     "name": "stderr",
     "output_type": "stream",
     "text": [
      "2021-01-04 12:36:08,347 - mmdet - INFO - Epoch [27][1750/2001]\tlr: 5.000e-05, eta: 17:11:01, time: 1.982, data_time: 0.019, memory: 6189, loss_rpn_cls: 0.0028, loss_rpn_bbox: 0.0293, loss_cls: 0.0809, acc: 96.5723, loss_bbox: 0.2195, loss: 0.3325\n",
      "2021-01-04 12:37:49,514 - mmdet - INFO - Epoch [27][1800/2001]\tlr: 5.000e-05, eta: 17:10:23, time: 2.025, data_time: 0.019, memory: 6189, loss_rpn_cls: 0.0023, loss_rpn_bbox: 0.0296, loss_cls: 0.0796, acc: 96.7188, loss_bbox: 0.2200, loss: 0.3314\n",
      "2021-01-04 12:39:30,072 - mmdet - INFO - Epoch [27][1850/2001]\tlr: 5.000e-05, eta: 17:09:45, time: 2.012, data_time: 0.018, memory: 6189, loss_rpn_cls: 0.0021, loss_rpn_bbox: 0.0303, loss_cls: 0.0786, acc: 96.7275, loss_bbox: 0.2134, loss: 0.3244\n",
      "2021-01-04 12:41:10,580 - mmdet - INFO - Epoch [27][1900/2001]\tlr: 5.000e-05, eta: 17:09:07, time: 2.009, data_time: 0.017, memory: 6189, loss_rpn_cls: 0.0031, loss_rpn_bbox: 0.0295, loss_cls: 0.0802, acc: 96.6875, loss_bbox: 0.2151, loss: 0.3280\n",
      "2021-01-04 12:42:49,604 - mmdet - INFO - Epoch [27][1950/2001]\tlr: 5.000e-05, eta: 17:08:28, time: 1.981, data_time: 0.019, memory: 6189, loss_rpn_cls: 0.0024, loss_rpn_bbox: 0.0280, loss_cls: 0.0774, acc: 96.7676, loss_bbox: 0.2069, loss: 0.3147\n",
      "2021-01-04 12:44:29,806 - mmdet - INFO - Epoch [27][2000/2001]\tlr: 5.000e-05, eta: 17:07:49, time: 2.005, data_time: 0.019, memory: 6189, loss_rpn_cls: 0.0019, loss_rpn_bbox: 0.0265, loss_cls: 0.0797, acc: 96.6621, loss_bbox: 0.2130, loss: 0.3212\n",
      "2021-01-04 12:44:31,336 - mmdet - INFO - Saving checkpoint at 27 epochs\n"
     ]
    },
    {
     "name": "stdout",
     "output_type": "stream",
     "text": [
      "[>>>>>>>>>>>>>>>>>>>>>>>>>>>] 2013/2013, 4.3 task/s, elapsed: 471s, ETA:     0s"
     ]
    },
    {
     "name": "stderr",
     "output_type": "stream",
     "text": [
      "2021-01-04 12:52:23,073 - mmdet - INFO - \n",
      "Evaluateing valid_44.json with 2013 images now\n",
      "2021-01-04 12:52:23,788 - mmdet - INFO - Evaluating bbox...\n"
     ]
    },
    {
     "name": "stdout",
     "output_type": "stream",
     "text": [
      "Loading and preparing results...\n",
      "DONE (t=0.33s)\n",
      "creating index...\n",
      "index created!\n",
      "Running per image evaluation...\n",
      "Evaluate annotation type *bbox*\n",
      "DONE (t=22.49s).\n",
      "Accumulating evaluation results...\n"
     ]
    },
    {
     "name": "stderr",
     "output_type": "stream",
     "text": [
      "2021-01-04 12:52:47,837 - mmdet - INFO - Epoch(val) [27][2001]\t0_bbox_mAP: 0.2850, 0_bbox_mAP_50: 0.4670, 0_bbox_mAP_75: 0.3200, 0_bbox_mAP_s: 0.2790, 0_bbox_mAP_m: 0.4640, 0_bbox_mAP_l: -1.0000, 0_bbox_mAP_copypaste: 0.285 0.467 0.320 0.279 0.464 -1.000\n"
     ]
    },
    {
     "name": "stdout",
     "output_type": "stream",
     "text": [
      "DONE (t=1.13s).\n",
      "Average Precision  (AP) @[ IoU=0.50:0.95 | area=   all | maxDets=100 ] = 0.285\n",
      "Average Precision  (AP) @[ IoU=0.50      | area=   all | maxDets=1000 ] = 0.467\n",
      "Average Precision  (AP) @[ IoU=0.75      | area=   all | maxDets=1000 ] = 0.320\n",
      "Average Precision  (AP) @[ IoU=0.50:0.95 | area= small | maxDets=1000 ] = 0.279\n",
      "Average Precision  (AP) @[ IoU=0.50:0.95 | area=medium | maxDets=1000 ] = 0.464\n",
      "Average Precision  (AP) @[ IoU=0.50:0.95 | area= large | maxDets=1000 ] = -1.000\n",
      "Average Recall     (AR) @[ IoU=0.50:0.95 | area=   all | maxDets=100 ] = 0.353\n",
      "Average Recall     (AR) @[ IoU=0.50:0.95 | area=   all | maxDets=300 ] = 0.353\n",
      "Average Recall     (AR) @[ IoU=0.50:0.95 | area=   all | maxDets=1000 ] = 0.353\n",
      "Average Recall     (AR) @[ IoU=0.50:0.95 | area= small | maxDets=1000 ] = 0.349\n",
      "Average Recall     (AR) @[ IoU=0.50:0.95 | area=medium | maxDets=1000 ] = 0.516\n",
      "Average Recall     (AR) @[ IoU=0.50:0.95 | area= large | maxDets=1000 ] = -1.000\n"
     ]
    },
    {
     "name": "stderr",
     "output_type": "stream",
     "text": [
      "2021-01-04 12:54:26,605 - mmdet - INFO - Epoch [28][50/2001]\tlr: 5.000e-05, eta: 17:07:06, time: 1.964, data_time: 0.064, memory: 6189, loss_rpn_cls: 0.0026, loss_rpn_bbox: 0.0280, loss_cls: 0.0784, acc: 96.7295, loss_bbox: 0.2164, loss: 0.3254\n",
      "2021-01-04 12:56:06,258 - mmdet - INFO - Epoch [28][100/2001]\tlr: 5.000e-05, eta: 17:06:27, time: 1.996, data_time: 0.022, memory: 6189, loss_rpn_cls: 0.0021, loss_rpn_bbox: 0.0275, loss_cls: 0.0809, acc: 96.6826, loss_bbox: 0.2133, loss: 0.3238\n",
      "2021-01-04 12:57:45,411 - mmdet - INFO - Epoch [28][150/2001]\tlr: 5.000e-05, eta: 17:05:47, time: 1.984, data_time: 0.018, memory: 6189, loss_rpn_cls: 0.0024, loss_rpn_bbox: 0.0279, loss_cls: 0.0771, acc: 96.7549, loss_bbox: 0.2130, loss: 0.3204\n",
      "2021-01-04 12:59:26,447 - mmdet - INFO - Epoch [28][200/2001]\tlr: 5.000e-05, eta: 17:05:09, time: 2.017, data_time: 0.017, memory: 6189, loss_rpn_cls: 0.0019, loss_rpn_bbox: 0.0271, loss_cls: 0.0817, acc: 96.6514, loss_bbox: 0.2162, loss: 0.3268\n",
      "2021-01-04 13:01:04,703 - mmdet - INFO - Epoch [28][250/2001]\tlr: 5.000e-05, eta: 17:04:28, time: 1.966, data_time: 0.021, memory: 6189, loss_rpn_cls: 0.0024, loss_rpn_bbox: 0.0276, loss_cls: 0.0771, acc: 96.7695, loss_bbox: 0.2103, loss: 0.3174\n",
      "2021-01-04 13:02:43,162 - mmdet - INFO - Epoch [28][300/2001]\tlr: 5.000e-05, eta: 17:03:47, time: 1.970, data_time: 0.019, memory: 6189, loss_rpn_cls: 0.0018, loss_rpn_bbox: 0.0259, loss_cls: 0.0767, acc: 96.8262, loss_bbox: 0.2088, loss: 0.3133\n",
      "2021-01-04 13:04:23,449 - mmdet - INFO - Epoch [28][350/2001]\tlr: 5.000e-05, eta: 17:03:08, time: 2.005, data_time: 0.019, memory: 6189, loss_rpn_cls: 0.0028, loss_rpn_bbox: 0.0279, loss_cls: 0.0780, acc: 96.7812, loss_bbox: 0.2140, loss: 0.3228\n",
      "2021-01-04 13:05:51,409 - mmdet - INFO - Epoch [28][400/2001]\tlr: 5.000e-05, eta: 17:02:18, time: 1.764, data_time: 0.018, memory: 6189, loss_rpn_cls: 0.0033, loss_rpn_bbox: 0.0265, loss_cls: 0.0763, acc: 96.8223, loss_bbox: 0.2096, loss: 0.3157\n",
      "2021-01-04 13:06:53,251 - mmdet - INFO - Epoch [28][450/2001]\tlr: 5.000e-05, eta: 17:01:06, time: 1.235, data_time: 0.013, memory: 6189, loss_rpn_cls: 0.0025, loss_rpn_bbox: 0.0274, loss_cls: 0.0773, acc: 96.8730, loss_bbox: 0.2092, loss: 0.3163\n",
      "2021-01-04 13:08:13,278 - mmdet - INFO - Epoch [28][500/2001]\tlr: 5.000e-05, eta: 17:00:10, time: 1.599, data_time: 0.017, memory: 6189, loss_rpn_cls: 0.0019, loss_rpn_bbox: 0.0294, loss_cls: 0.0762, acc: 96.8262, loss_bbox: 0.2159, loss: 0.3233\n",
      "2021-01-04 13:09:52,329 - mmdet - INFO - Epoch [28][550/2001]\tlr: 5.000e-05, eta: 16:59:29, time: 1.981, data_time: 0.019, memory: 6189, loss_rpn_cls: 0.0020, loss_rpn_bbox: 0.0247, loss_cls: 0.0766, acc: 96.7549, loss_bbox: 0.2048, loss: 0.3081\n",
      "2021-01-04 13:11:29,845 - mmdet - INFO - Epoch [28][600/2001]\tlr: 5.000e-05, eta: 16:58:47, time: 1.951, data_time: 0.018, memory: 6189, loss_rpn_cls: 0.0022, loss_rpn_bbox: 0.0246, loss_cls: 0.0799, acc: 96.6963, loss_bbox: 0.2086, loss: 0.3154\n",
      "2021-01-04 13:13:08,174 - mmdet - INFO - Epoch [28][650/2001]\tlr: 5.000e-05, eta: 16:58:05, time: 1.964, data_time: 0.017, memory: 6189, loss_rpn_cls: 0.0024, loss_rpn_bbox: 0.0282, loss_cls: 0.0802, acc: 96.6982, loss_bbox: 0.2172, loss: 0.3280\n",
      "2021-01-04 13:14:48,840 - mmdet - INFO - Epoch [28][700/2001]\tlr: 5.000e-05, eta: 16:57:25, time: 2.014, data_time: 0.020, memory: 6189, loss_rpn_cls: 0.0024, loss_rpn_bbox: 0.0271, loss_cls: 0.0805, acc: 96.6504, loss_bbox: 0.2127, loss: 0.3226\n",
      "2021-01-04 13:16:27,151 - mmdet - INFO - Epoch [28][750/2001]\tlr: 5.000e-05, eta: 16:56:44, time: 1.966, data_time: 0.019, memory: 6189, loss_rpn_cls: 0.0026, loss_rpn_bbox: 0.0267, loss_cls: 0.0782, acc: 96.7725, loss_bbox: 0.2123, loss: 0.3198\n",
      "2021-01-04 13:18:04,362 - mmdet - INFO - Epoch [28][800/2001]\tlr: 5.000e-05, eta: 16:56:01, time: 1.946, data_time: 0.019, memory: 6189, loss_rpn_cls: 0.0022, loss_rpn_bbox: 0.0276, loss_cls: 0.0824, acc: 96.6143, loss_bbox: 0.2181, loss: 0.3304\n",
      "2021-01-04 13:19:41,699 - mmdet - INFO - Epoch [28][850/2001]\tlr: 5.000e-05, eta: 16:55:18, time: 1.946, data_time: 0.016, memory: 6189, loss_rpn_cls: 0.0018, loss_rpn_bbox: 0.0286, loss_cls: 0.0809, acc: 96.5732, loss_bbox: 0.2175, loss: 0.3289\n",
      "2021-01-04 13:21:20,330 - mmdet - INFO - Epoch [28][900/2001]\tlr: 5.000e-05, eta: 16:54:36, time: 1.972, data_time: 0.018, memory: 6189, loss_rpn_cls: 0.0020, loss_rpn_bbox: 0.0295, loss_cls: 0.0810, acc: 96.6729, loss_bbox: 0.2212, loss: 0.3337\n",
      "2021-01-04 13:22:58,614 - mmdet - INFO - Epoch [28][950/2001]\tlr: 5.000e-05, eta: 16:53:54, time: 1.965, data_time: 0.018, memory: 6189, loss_rpn_cls: 0.0022, loss_rpn_bbox: 0.0254, loss_cls: 0.0812, acc: 96.6279, loss_bbox: 0.2122, loss: 0.3211\n",
      "2021-01-04 13:24:36,601 - mmdet - INFO - Epoch [28][1000/2001]\tlr: 5.000e-05, eta: 16:53:12, time: 1.961, data_time: 0.018, memory: 6189, loss_rpn_cls: 0.0027, loss_rpn_bbox: 0.0269, loss_cls: 0.0785, acc: 96.7627, loss_bbox: 0.2118, loss: 0.3199\n",
      "2021-01-04 13:26:18,806 - mmdet - INFO - Epoch [28][1050/2001]\tlr: 5.000e-05, eta: 16:52:33, time: 2.043, data_time: 0.018, memory: 6189, loss_rpn_cls: 0.0026, loss_rpn_bbox: 0.0286, loss_cls: 0.0800, acc: 96.6758, loss_bbox: 0.2164, loss: 0.3276\n",
      "2021-01-04 13:27:58,636 - mmdet - INFO - Epoch [28][1100/2001]\tlr: 5.000e-05, eta: 16:51:51, time: 1.997, data_time: 0.019, memory: 6189, loss_rpn_cls: 0.0020, loss_rpn_bbox: 0.0304, loss_cls: 0.0780, acc: 96.7695, loss_bbox: 0.2176, loss: 0.3280\n",
      "2021-01-04 13:29:37,534 - mmdet - INFO - Epoch [28][1150/2001]\tlr: 5.000e-05, eta: 16:51:09, time: 1.976, data_time: 0.018, memory: 6189, loss_rpn_cls: 0.0025, loss_rpn_bbox: 0.0289, loss_cls: 0.0777, acc: 96.7881, loss_bbox: 0.2166, loss: 0.3257\n",
      "2021-01-04 13:31:15,010 - mmdet - INFO - Epoch [28][1200/2001]\tlr: 5.000e-05, eta: 16:50:26, time: 1.947, data_time: 0.019, memory: 6189, loss_rpn_cls: 0.0020, loss_rpn_bbox: 0.0298, loss_cls: 0.0790, acc: 96.7871, loss_bbox: 0.2101, loss: 0.3209\n",
      "2021-01-04 13:32:55,458 - mmdet - INFO - Epoch [28][1250/2001]\tlr: 5.000e-05, eta: 16:49:45, time: 2.012, data_time: 0.022, memory: 6189, loss_rpn_cls: 0.0028, loss_rpn_bbox: 0.0283, loss_cls: 0.0808, acc: 96.6445, loss_bbox: 0.2151, loss: 0.3269\n",
      "2021-01-04 13:34:36,350 - mmdet - INFO - Epoch [28][1300/2001]\tlr: 5.000e-05, eta: 16:49:04, time: 2.018, data_time: 0.020, memory: 6189, loss_rpn_cls: 0.0025, loss_rpn_bbox: 0.0269, loss_cls: 0.0805, acc: 96.6406, loss_bbox: 0.2150, loss: 0.3249\n",
      "2021-01-04 13:36:17,036 - mmdet - INFO - Epoch [28][1350/2001]\tlr: 5.000e-05, eta: 16:48:23, time: 2.016, data_time: 0.020, memory: 6189, loss_rpn_cls: 0.0016, loss_rpn_bbox: 0.0287, loss_cls: 0.0796, acc: 96.7314, loss_bbox: 0.2148, loss: 0.3247\n",
      "2021-01-04 13:37:55,690 - mmdet - INFO - Epoch [28][1400/2001]\tlr: 5.000e-05, eta: 16:47:40, time: 1.972, data_time: 0.017, memory: 6189, loss_rpn_cls: 0.0028, loss_rpn_bbox: 0.0306, loss_cls: 0.0812, acc: 96.6836, loss_bbox: 0.2173, loss: 0.3320\n",
      "2021-01-04 13:39:35,839 - mmdet - INFO - Epoch [28][1450/2001]\tlr: 5.000e-05, eta: 16:46:58, time: 2.003, data_time: 0.018, memory: 6189, loss_rpn_cls: 0.0023, loss_rpn_bbox: 0.0262, loss_cls: 0.0804, acc: 96.6191, loss_bbox: 0.2188, loss: 0.3277\n",
      "2021-01-04 13:41:16,325 - mmdet - INFO - Epoch [28][1500/2001]\tlr: 5.000e-05, eta: 16:46:17, time: 2.010, data_time: 0.018, memory: 6189, loss_rpn_cls: 0.0019, loss_rpn_bbox: 0.0280, loss_cls: 0.0808, acc: 96.6895, loss_bbox: 0.2175, loss: 0.3283\n",
      "2021-01-04 13:42:53,796 - mmdet - INFO - Epoch [28][1550/2001]\tlr: 5.000e-05, eta: 16:45:33, time: 1.950, data_time: 0.018, memory: 6189, loss_rpn_cls: 0.0024, loss_rpn_bbox: 0.0277, loss_cls: 0.0779, acc: 96.7998, loss_bbox: 0.2092, loss: 0.3172\n",
      "2021-01-04 13:44:31,250 - mmdet - INFO - Epoch [28][1600/2001]\tlr: 5.000e-05, eta: 16:44:49, time: 1.949, data_time: 0.017, memory: 6189, loss_rpn_cls: 0.0020, loss_rpn_bbox: 0.0275, loss_cls: 0.0782, acc: 96.7383, loss_bbox: 0.2145, loss: 0.3221\n",
      "2021-01-04 13:46:10,999 - mmdet - INFO - Epoch [28][1650/2001]\tlr: 5.000e-05, eta: 16:44:06, time: 1.993, data_time: 0.017, memory: 6189, loss_rpn_cls: 0.0020, loss_rpn_bbox: 0.0294, loss_cls: 0.0787, acc: 96.6826, loss_bbox: 0.2172, loss: 0.3273\n",
      "2021-01-04 13:47:50,797 - mmdet - INFO - Epoch [28][1700/2001]\tlr: 5.000e-05, eta: 16:43:24, time: 1.997, data_time: 0.019, memory: 6189, loss_rpn_cls: 0.0024, loss_rpn_bbox: 0.0306, loss_cls: 0.0803, acc: 96.6699, loss_bbox: 0.2200, loss: 0.3333\n"
     ]
    },
    {
     "name": "stderr",
     "output_type": "stream",
     "text": [
      "2021-01-04 13:49:30,942 - mmdet - INFO - Epoch [28][1750/2001]\tlr: 5.000e-05, eta: 16:42:41, time: 2.002, data_time: 0.018, memory: 6189, loss_rpn_cls: 0.0016, loss_rpn_bbox: 0.0280, loss_cls: 0.0817, acc: 96.6133, loss_bbox: 0.2154, loss: 0.3267\n",
      "2021-01-04 13:51:08,478 - mmdet - INFO - Epoch [28][1800/2001]\tlr: 5.000e-05, eta: 16:41:57, time: 1.950, data_time: 0.019, memory: 6189, loss_rpn_cls: 0.0024, loss_rpn_bbox: 0.0289, loss_cls: 0.0816, acc: 96.6787, loss_bbox: 0.2176, loss: 0.3305\n",
      "2021-01-04 13:52:09,276 - mmdet - INFO - Epoch [28][1850/2001]\tlr: 5.000e-05, eta: 16:40:43, time: 1.219, data_time: 0.018, memory: 6189, loss_rpn_cls: 0.0022, loss_rpn_bbox: 0.0291, loss_cls: 0.0830, acc: 96.6426, loss_bbox: 0.2175, loss: 0.3318\n",
      "2021-01-04 13:53:18,101 - mmdet - INFO - Epoch [28][1900/2001]\tlr: 5.000e-05, eta: 16:39:36, time: 1.375, data_time: 0.016, memory: 6189, loss_rpn_cls: 0.0029, loss_rpn_bbox: 0.0267, loss_cls: 0.0811, acc: 96.6279, loss_bbox: 0.2164, loss: 0.3270\n",
      "2021-01-04 13:54:57,959 - mmdet - INFO - Epoch [28][1950/2001]\tlr: 5.000e-05, eta: 16:38:53, time: 1.995, data_time: 0.018, memory: 6189, loss_rpn_cls: 0.0027, loss_rpn_bbox: 0.0294, loss_cls: 0.0811, acc: 96.5957, loss_bbox: 0.2180, loss: 0.3312\n",
      "2021-01-04 13:56:36,593 - mmdet - INFO - Epoch [28][2000/2001]\tlr: 5.000e-05, eta: 16:38:09, time: 1.970, data_time: 0.019, memory: 6189, loss_rpn_cls: 0.0024, loss_rpn_bbox: 0.0276, loss_cls: 0.0807, acc: 96.6475, loss_bbox: 0.2143, loss: 0.3251\n",
      "2021-01-04 13:56:38,380 - mmdet - INFO - Saving checkpoint at 28 epochs\n"
     ]
    },
    {
     "name": "stdout",
     "output_type": "stream",
     "text": [
      "[>>>>>>>>>>>>>>>>>>>>>>>>>>>] 2013/2013, 5.3 task/s, elapsed: 378s, ETA:     0s"
     ]
    },
    {
     "name": "stderr",
     "output_type": "stream",
     "text": [
      "2021-01-04 14:02:57,267 - mmdet - INFO - \n",
      "Evaluateing valid_44.json with 2013 images now\n",
      "2021-01-04 14:02:58,005 - mmdet - INFO - Evaluating bbox...\n"
     ]
    },
    {
     "name": "stdout",
     "output_type": "stream",
     "text": [
      "Loading and preparing results...\n",
      "DONE (t=0.13s)\n",
      "creating index...\n",
      "index created!\n",
      "Running per image evaluation...\n",
      "Evaluate annotation type *bbox*\n",
      "DONE (t=18.28s).\n",
      "Accumulating evaluation results...\n"
     ]
    },
    {
     "name": "stderr",
     "output_type": "stream",
     "text": [
      "2021-01-04 14:03:17,315 - mmdet - INFO - Epoch(val) [28][2001]\t0_bbox_mAP: 0.2850, 0_bbox_mAP_50: 0.4700, 0_bbox_mAP_75: 0.3190, 0_bbox_mAP_s: 0.2800, 0_bbox_mAP_m: 0.4670, 0_bbox_mAP_l: -1.0000, 0_bbox_mAP_copypaste: 0.285 0.470 0.319 0.280 0.467 -1.000\n"
     ]
    },
    {
     "name": "stdout",
     "output_type": "stream",
     "text": [
      "DONE (t=0.81s).\n",
      "Average Precision  (AP) @[ IoU=0.50:0.95 | area=   all | maxDets=100 ] = 0.285\n",
      "Average Precision  (AP) @[ IoU=0.50      | area=   all | maxDets=1000 ] = 0.470\n",
      "Average Precision  (AP) @[ IoU=0.75      | area=   all | maxDets=1000 ] = 0.319\n",
      "Average Precision  (AP) @[ IoU=0.50:0.95 | area= small | maxDets=1000 ] = 0.280\n",
      "Average Precision  (AP) @[ IoU=0.50:0.95 | area=medium | maxDets=1000 ] = 0.467\n",
      "Average Precision  (AP) @[ IoU=0.50:0.95 | area= large | maxDets=1000 ] = -1.000\n",
      "Average Recall     (AR) @[ IoU=0.50:0.95 | area=   all | maxDets=100 ] = 0.354\n",
      "Average Recall     (AR) @[ IoU=0.50:0.95 | area=   all | maxDets=300 ] = 0.354\n",
      "Average Recall     (AR) @[ IoU=0.50:0.95 | area=   all | maxDets=1000 ] = 0.354\n",
      "Average Recall     (AR) @[ IoU=0.50:0.95 | area= small | maxDets=1000 ] = 0.350\n",
      "Average Recall     (AR) @[ IoU=0.50:0.95 | area=medium | maxDets=1000 ] = 0.516\n",
      "Average Recall     (AR) @[ IoU=0.50:0.95 | area= large | maxDets=1000 ] = -1.000\n"
     ]
    },
    {
     "name": "stderr",
     "output_type": "stream",
     "text": [
      "2021-01-04 14:04:27,967 - mmdet - INFO - Epoch [29][50/2001]\tlr: 5.000e-05, eta: 16:37:00, time: 1.407, data_time: 0.058, memory: 6189, loss_rpn_cls: 0.0019, loss_rpn_bbox: 0.0270, loss_cls: 0.0779, acc: 96.7939, loss_bbox: 0.2104, loss: 0.3171\n",
      "2021-01-04 14:05:36,721 - mmdet - INFO - Epoch [29][100/2001]\tlr: 5.000e-05, eta: 16:35:53, time: 1.375, data_time: 0.014, memory: 6189, loss_rpn_cls: 0.0026, loss_rpn_bbox: 0.0282, loss_cls: 0.0814, acc: 96.6113, loss_bbox: 0.2197, loss: 0.3319\n",
      "2021-01-04 14:06:45,511 - mmdet - INFO - Epoch [29][150/2001]\tlr: 5.000e-05, eta: 16:34:46, time: 1.376, data_time: 0.014, memory: 6189, loss_rpn_cls: 0.0033, loss_rpn_bbox: 0.0275, loss_cls: 0.0757, acc: 96.8809, loss_bbox: 0.2087, loss: 0.3153\n",
      "2021-01-04 14:07:53,522 - mmdet - INFO - Epoch [29][200/2001]\tlr: 5.000e-05, eta: 16:33:37, time: 1.360, data_time: 0.014, memory: 6189, loss_rpn_cls: 0.0022, loss_rpn_bbox: 0.0261, loss_cls: 0.0787, acc: 96.7412, loss_bbox: 0.2089, loss: 0.3159\n",
      "2021-01-04 14:09:01,782 - mmdet - INFO - Epoch [29][250/2001]\tlr: 5.000e-05, eta: 16:32:30, time: 1.365, data_time: 0.014, memory: 6189, loss_rpn_cls: 0.0028, loss_rpn_bbox: 0.0284, loss_cls: 0.0778, acc: 96.7607, loss_bbox: 0.2144, loss: 0.3234\n",
      "2021-01-04 14:10:09,876 - mmdet - INFO - Epoch [29][300/2001]\tlr: 5.000e-05, eta: 16:31:22, time: 1.363, data_time: 0.014, memory: 6189, loss_rpn_cls: 0.0019, loss_rpn_bbox: 0.0257, loss_cls: 0.0789, acc: 96.6719, loss_bbox: 0.2112, loss: 0.3177\n",
      "2021-01-04 14:11:18,166 - mmdet - INFO - Epoch [29][350/2001]\tlr: 5.000e-05, eta: 16:30:14, time: 1.365, data_time: 0.014, memory: 6189, loss_rpn_cls: 0.0020, loss_rpn_bbox: 0.0295, loss_cls: 0.0803, acc: 96.6826, loss_bbox: 0.2200, loss: 0.3318\n",
      "2021-01-04 14:12:25,484 - mmdet - INFO - Epoch [29][400/2001]\tlr: 5.000e-05, eta: 16:29:05, time: 1.347, data_time: 0.018, memory: 6189, loss_rpn_cls: 0.0023, loss_rpn_bbox: 0.0298, loss_cls: 0.0793, acc: 96.7148, loss_bbox: 0.2162, loss: 0.3277\n",
      "2021-01-04 14:13:37,148 - mmdet - INFO - Epoch [29][450/2001]\tlr: 5.000e-05, eta: 16:28:00, time: 1.432, data_time: 0.016, memory: 6189, loss_rpn_cls: 0.0024, loss_rpn_bbox: 0.0284, loss_cls: 0.0789, acc: 96.7930, loss_bbox: 0.2147, loss: 0.3244\n",
      "2021-01-04 14:14:55,965 - mmdet - INFO - Epoch [29][500/2001]\tlr: 5.000e-05, eta: 16:27:00, time: 1.577, data_time: 0.016, memory: 6189, loss_rpn_cls: 0.0023, loss_rpn_bbox: 0.0280, loss_cls: 0.0799, acc: 96.6816, loss_bbox: 0.2136, loss: 0.3238\n",
      "2021-01-04 14:16:23,125 - mmdet - INFO - Epoch [29][550/2001]\tlr: 5.000e-05, eta: 16:26:07, time: 1.743, data_time: 0.015, memory: 6189, loss_rpn_cls: 0.0023, loss_rpn_bbox: 0.0245, loss_cls: 0.0782, acc: 96.7871, loss_bbox: 0.2074, loss: 0.3123\n",
      "2021-01-04 14:17:54,906 - mmdet - INFO - Epoch [29][600/2001]\tlr: 5.000e-05, eta: 16:25:17, time: 1.833, data_time: 0.016, memory: 6189, loss_rpn_cls: 0.0023, loss_rpn_bbox: 0.0284, loss_cls: 0.0799, acc: 96.6416, loss_bbox: 0.2187, loss: 0.3293\n",
      "2021-01-04 14:19:31,936 - mmdet - INFO - Epoch [29][650/2001]\tlr: 5.000e-05, eta: 16:24:31, time: 1.942, data_time: 0.019, memory: 6189, loss_rpn_cls: 0.0025, loss_rpn_bbox: 0.0308, loss_cls: 0.0792, acc: 96.7051, loss_bbox: 0.2168, loss: 0.3293\n",
      "2021-01-04 14:21:11,641 - mmdet - INFO - Epoch [29][700/2001]\tlr: 5.000e-05, eta: 16:23:47, time: 1.994, data_time: 0.018, memory: 6189, loss_rpn_cls: 0.0025, loss_rpn_bbox: 0.0272, loss_cls: 0.0783, acc: 96.7979, loss_bbox: 0.2112, loss: 0.3191\n",
      "2021-01-04 14:22:49,687 - mmdet - INFO - Epoch [29][750/2001]\tlr: 5.000e-05, eta: 16:23:02, time: 1.961, data_time: 0.018, memory: 6189, loss_rpn_cls: 0.0028, loss_rpn_bbox: 0.0287, loss_cls: 0.0788, acc: 96.6680, loss_bbox: 0.2121, loss: 0.3224\n",
      "2021-01-04 14:24:25,084 - mmdet - INFO - Epoch [29][800/2001]\tlr: 5.000e-05, eta: 16:22:14, time: 1.905, data_time: 0.018, memory: 6189, loss_rpn_cls: 0.0021, loss_rpn_bbox: 0.0240, loss_cls: 0.0777, acc: 96.7637, loss_bbox: 0.2074, loss: 0.3113\n",
      "2021-01-04 14:26:03,928 - mmdet - INFO - Epoch [29][850/2001]\tlr: 5.000e-05, eta: 16:21:30, time: 1.980, data_time: 0.021, memory: 6189, loss_rpn_cls: 0.0025, loss_rpn_bbox: 0.0275, loss_cls: 0.0805, acc: 96.7051, loss_bbox: 0.2136, loss: 0.3241\n",
      "2021-01-04 14:27:42,480 - mmdet - INFO - Epoch [29][900/2001]\tlr: 5.000e-05, eta: 16:20:44, time: 1.971, data_time: 0.018, memory: 6189, loss_rpn_cls: 0.0020, loss_rpn_bbox: 0.0264, loss_cls: 0.0755, acc: 96.8320, loss_bbox: 0.2080, loss: 0.3119\n",
      "2021-01-04 14:29:21,491 - mmdet - INFO - Epoch [29][950/2001]\tlr: 5.000e-05, eta: 16:19:59, time: 1.979, data_time: 0.018, memory: 6189, loss_rpn_cls: 0.0033, loss_rpn_bbox: 0.0305, loss_cls: 0.0776, acc: 96.8213, loss_bbox: 0.2168, loss: 0.3282\n",
      "2021-01-04 14:30:34,885 - mmdet - INFO - Epoch [29][1000/2001]\tlr: 5.000e-05, eta: 16:18:55, time: 1.472, data_time: 0.018, memory: 6189, loss_rpn_cls: 0.0025, loss_rpn_bbox: 0.0271, loss_cls: 0.0776, acc: 96.8066, loss_bbox: 0.2171, loss: 0.3243\n",
      "2021-01-04 14:31:35,275 - mmdet - INFO - Epoch [29][1050/2001]\tlr: 5.000e-05, eta: 16:17:41, time: 1.206, data_time: 0.013, memory: 6189, loss_rpn_cls: 0.0021, loss_rpn_bbox: 0.0260, loss_cls: 0.0819, acc: 96.6025, loss_bbox: 0.2200, loss: 0.3299\n",
      "2021-01-04 14:32:36,732 - mmdet - INFO - Epoch [29][1100/2001]\tlr: 5.000e-05, eta: 16:16:28, time: 1.230, data_time: 0.016, memory: 6189, loss_rpn_cls: 0.0023, loss_rpn_bbox: 0.0269, loss_cls: 0.0783, acc: 96.7734, loss_bbox: 0.2154, loss: 0.3229\n",
      "2021-01-04 14:33:37,398 - mmdet - INFO - Epoch [29][1150/2001]\tlr: 5.000e-05, eta: 16:15:14, time: 1.215, data_time: 0.015, memory: 6189, loss_rpn_cls: 0.0024, loss_rpn_bbox: 0.0304, loss_cls: 0.0801, acc: 96.6904, loss_bbox: 0.2231, loss: 0.3360\n",
      "2021-01-04 14:34:35,466 - mmdet - INFO - Epoch [29][1200/2001]\tlr: 5.000e-05, eta: 16:13:58, time: 1.159, data_time: 0.014, memory: 6189, loss_rpn_cls: 0.0027, loss_rpn_bbox: 0.0312, loss_cls: 0.0782, acc: 96.7686, loss_bbox: 0.2138, loss: 0.3259\n",
      "2021-01-04 14:36:03,880 - mmdet - INFO - Epoch [29][1250/2001]\tlr: 5.000e-05, eta: 16:13:04, time: 1.767, data_time: 0.016, memory: 6189, loss_rpn_cls: 0.0023, loss_rpn_bbox: 0.0281, loss_cls: 0.0797, acc: 96.6416, loss_bbox: 0.2171, loss: 0.3272\n",
      "2021-01-04 14:37:41,127 - mmdet - INFO - Epoch [29][1300/2001]\tlr: 5.000e-05, eta: 16:12:18, time: 1.946, data_time: 0.018, memory: 6189, loss_rpn_cls: 0.0026, loss_rpn_bbox: 0.0302, loss_cls: 0.0810, acc: 96.6348, loss_bbox: 0.2193, loss: 0.3331\n",
      "2021-01-04 14:39:21,607 - mmdet - INFO - Epoch [29][1350/2001]\tlr: 5.000e-05, eta: 16:11:33, time: 2.008, data_time: 0.016, memory: 6189, loss_rpn_cls: 0.0023, loss_rpn_bbox: 0.0275, loss_cls: 0.0763, acc: 96.8164, loss_bbox: 0.2108, loss: 0.3168\n",
      "2021-01-04 14:41:03,859 - mmdet - INFO - Epoch [29][1400/2001]\tlr: 5.000e-05, eta: 16:10:50, time: 2.045, data_time: 0.019, memory: 6189, loss_rpn_cls: 0.0023, loss_rpn_bbox: 0.0290, loss_cls: 0.0838, acc: 96.5166, loss_bbox: 0.2176, loss: 0.3328\n",
      "2021-01-04 14:42:44,765 - mmdet - INFO - Epoch [29][1450/2001]\tlr: 5.000e-05, eta: 16:10:06, time: 2.017, data_time: 0.019, memory: 6189, loss_rpn_cls: 0.0021, loss_rpn_bbox: 0.0273, loss_cls: 0.0791, acc: 96.6953, loss_bbox: 0.2072, loss: 0.3157\n",
      "2021-01-04 14:44:24,042 - mmdet - INFO - Epoch [29][1500/2001]\tlr: 5.000e-05, eta: 16:09:21, time: 1.987, data_time: 0.020, memory: 6189, loss_rpn_cls: 0.0024, loss_rpn_bbox: 0.0293, loss_cls: 0.0787, acc: 96.6514, loss_bbox: 0.2143, loss: 0.3248\n",
      "2021-01-04 14:46:03,830 - mmdet - INFO - Epoch [29][1550/2001]\tlr: 5.000e-05, eta: 16:08:35, time: 1.994, data_time: 0.019, memory: 6189, loss_rpn_cls: 0.0021, loss_rpn_bbox: 0.0269, loss_cls: 0.0791, acc: 96.7812, loss_bbox: 0.2141, loss: 0.3221\n",
      "2021-01-04 14:47:42,179 - mmdet - INFO - Epoch [29][1600/2001]\tlr: 5.000e-05, eta: 16:07:49, time: 1.970, data_time: 0.020, memory: 6189, loss_rpn_cls: 0.0027, loss_rpn_bbox: 0.0287, loss_cls: 0.0812, acc: 96.6592, loss_bbox: 0.2146, loss: 0.3272\n",
      "2021-01-04 14:49:20,385 - mmdet - INFO - Epoch [29][1650/2001]\tlr: 5.000e-05, eta: 16:07:02, time: 1.961, data_time: 0.018, memory: 6189, loss_rpn_cls: 0.0030, loss_rpn_bbox: 0.0276, loss_cls: 0.0816, acc: 96.6143, loss_bbox: 0.2186, loss: 0.3308\n",
      "2021-01-04 14:50:59,048 - mmdet - INFO - Epoch [29][1700/2001]\tlr: 5.000e-05, eta: 16:06:16, time: 1.977, data_time: 0.021, memory: 6189, loss_rpn_cls: 0.0033, loss_rpn_bbox: 0.0282, loss_cls: 0.0788, acc: 96.6895, loss_bbox: 0.2155, loss: 0.3257\n"
     ]
    },
    {
     "name": "stderr",
     "output_type": "stream",
     "text": [
      "2021-01-04 14:52:40,648 - mmdet - INFO - Epoch [29][1750/2001]\tlr: 5.000e-05, eta: 16:05:32, time: 2.026, data_time: 0.017, memory: 6189, loss_rpn_cls: 0.0023, loss_rpn_bbox: 0.0277, loss_cls: 0.0794, acc: 96.7744, loss_bbox: 0.2112, loss: 0.3207\n",
      "2021-01-04 14:54:19,817 - mmdet - INFO - Epoch [29][1800/2001]\tlr: 5.000e-05, eta: 16:04:46, time: 1.988, data_time: 0.022, memory: 6189, loss_rpn_cls: 0.0020, loss_rpn_bbox: 0.0265, loss_cls: 0.0770, acc: 96.7871, loss_bbox: 0.2128, loss: 0.3183\n",
      "2021-01-04 14:56:00,873 - mmdet - INFO - Epoch [29][1850/2001]\tlr: 5.000e-05, eta: 16:04:01, time: 2.020, data_time: 0.019, memory: 6189, loss_rpn_cls: 0.0025, loss_rpn_bbox: 0.0283, loss_cls: 0.0783, acc: 96.6943, loss_bbox: 0.2122, loss: 0.3212\n",
      "2021-01-04 14:57:40,038 - mmdet - INFO - Epoch [29][1900/2001]\tlr: 5.000e-05, eta: 16:03:15, time: 1.985, data_time: 0.020, memory: 6189, loss_rpn_cls: 0.0020, loss_rpn_bbox: 0.0302, loss_cls: 0.0813, acc: 96.6426, loss_bbox: 0.2217, loss: 0.3351\n",
      "2021-01-04 14:59:19,563 - mmdet - INFO - Epoch [29][1950/2001]\tlr: 5.000e-05, eta: 16:02:28, time: 1.989, data_time: 0.019, memory: 6189, loss_rpn_cls: 0.0021, loss_rpn_bbox: 0.0256, loss_cls: 0.0804, acc: 96.7109, loss_bbox: 0.2152, loss: 0.3233\n",
      "2021-01-04 15:00:59,682 - mmdet - INFO - Epoch [29][2000/2001]\tlr: 5.000e-05, eta: 16:01:42, time: 2.001, data_time: 0.019, memory: 6189, loss_rpn_cls: 0.0027, loss_rpn_bbox: 0.0281, loss_cls: 0.0797, acc: 96.7217, loss_bbox: 0.2167, loss: 0.3273\n",
      "2021-01-04 15:01:02,164 - mmdet - INFO - Saving checkpoint at 29 epochs\n"
     ]
    },
    {
     "name": "stdout",
     "output_type": "stream",
     "text": [
      "[>>>>>>>>>>>>>>>>>>>>>>>>>>>] 2013/2013, 4.2 task/s, elapsed: 479s, ETA:     0s"
     ]
    },
    {
     "name": "stderr",
     "output_type": "stream",
     "text": [
      "2021-01-04 15:09:02,373 - mmdet - INFO - \n",
      "Evaluateing valid_44.json with 2013 images now\n",
      "2021-01-04 15:09:03,062 - mmdet - INFO - Evaluating bbox...\n"
     ]
    },
    {
     "name": "stdout",
     "output_type": "stream",
     "text": [
      "Loading and preparing results...\n",
      "DONE (t=0.32s)\n",
      "creating index...\n",
      "index created!\n",
      "Running per image evaluation...\n",
      "Evaluate annotation type *bbox*\n",
      "DONE (t=23.19s).\n",
      "Accumulating evaluation results...\n"
     ]
    },
    {
     "name": "stderr",
     "output_type": "stream",
     "text": [
      "2021-01-04 15:09:27,830 - mmdet - INFO - Epoch(val) [29][2001]\t0_bbox_mAP: 0.2850, 0_bbox_mAP_50: 0.4680, 0_bbox_mAP_75: 0.3210, 0_bbox_mAP_s: 0.2790, 0_bbox_mAP_m: 0.4630, 0_bbox_mAP_l: -1.0000, 0_bbox_mAP_copypaste: 0.285 0.468 0.321 0.279 0.463 -1.000\n"
     ]
    },
    {
     "name": "stdout",
     "output_type": "stream",
     "text": [
      "DONE (t=1.10s).\n",
      "Average Precision  (AP) @[ IoU=0.50:0.95 | area=   all | maxDets=100 ] = 0.285\n",
      "Average Precision  (AP) @[ IoU=0.50      | area=   all | maxDets=1000 ] = 0.468\n",
      "Average Precision  (AP) @[ IoU=0.75      | area=   all | maxDets=1000 ] = 0.321\n",
      "Average Precision  (AP) @[ IoU=0.50:0.95 | area= small | maxDets=1000 ] = 0.279\n",
      "Average Precision  (AP) @[ IoU=0.50:0.95 | area=medium | maxDets=1000 ] = 0.463\n",
      "Average Precision  (AP) @[ IoU=0.50:0.95 | area= large | maxDets=1000 ] = -1.000\n",
      "Average Recall     (AR) @[ IoU=0.50:0.95 | area=   all | maxDets=100 ] = 0.353\n",
      "Average Recall     (AR) @[ IoU=0.50:0.95 | area=   all | maxDets=300 ] = 0.353\n",
      "Average Recall     (AR) @[ IoU=0.50:0.95 | area=   all | maxDets=1000 ] = 0.353\n",
      "Average Recall     (AR) @[ IoU=0.50:0.95 | area= small | maxDets=1000 ] = 0.349\n",
      "Average Recall     (AR) @[ IoU=0.50:0.95 | area=medium | maxDets=1000 ] = 0.512\n",
      "Average Recall     (AR) @[ IoU=0.50:0.95 | area= large | maxDets=1000 ] = -1.000\n"
     ]
    },
    {
     "name": "stderr",
     "output_type": "stream",
     "text": [
      "2021-01-04 15:11:08,699 - mmdet - INFO - Epoch [30][50/2001]\tlr: 5.000e-05, eta: 16:00:54, time: 2.011, data_time: 0.063, memory: 6189, loss_rpn_cls: 0.0023, loss_rpn_bbox: 0.0272, loss_cls: 0.0820, acc: 96.6182, loss_bbox: 0.2130, loss: 0.3245\n",
      "2021-01-04 15:12:48,648 - mmdet - INFO - Epoch [30][100/2001]\tlr: 5.000e-05, eta: 16:00:08, time: 1.994, data_time: 0.017, memory: 6189, loss_rpn_cls: 0.0020, loss_rpn_bbox: 0.0274, loss_cls: 0.0784, acc: 96.7373, loss_bbox: 0.2133, loss: 0.3212\n",
      "2021-01-04 15:14:28,898 - mmdet - INFO - Epoch [30][150/2001]\tlr: 5.000e-05, eta: 15:59:22, time: 2.005, data_time: 0.021, memory: 6189, loss_rpn_cls: 0.0023, loss_rpn_bbox: 0.0271, loss_cls: 0.0774, acc: 96.7959, loss_bbox: 0.2111, loss: 0.3180\n"
     ]
    },
    {
     "ename": "KeyboardInterrupt",
     "evalue": "",
     "output_type": "error",
     "traceback": [
      "\u001b[0;31m---------------------------------------------------------------------------\u001b[0m",
      "\u001b[0;31mKeyboardInterrupt\u001b[0m                         Traceback (most recent call last)",
      "\u001b[0;32m<ipython-input-13-7fda92e82ad4>\u001b[0m in \u001b[0;36m<module>\u001b[0;34m\u001b[0m\n\u001b[1;32m     10\u001b[0m \u001b[0;31m# Create work_dir\u001b[0m\u001b[0;34m\u001b[0m\u001b[0;34m\u001b[0m\u001b[0;34m\u001b[0m\u001b[0m\n\u001b[1;32m     11\u001b[0m \u001b[0mmmcv\u001b[0m\u001b[0;34m.\u001b[0m\u001b[0mmkdir_or_exist\u001b[0m\u001b[0;34m(\u001b[0m\u001b[0mosp\u001b[0m\u001b[0;34m.\u001b[0m\u001b[0mabspath\u001b[0m\u001b[0;34m(\u001b[0m\u001b[0mcfg\u001b[0m\u001b[0;34m.\u001b[0m\u001b[0mwork_dir\u001b[0m\u001b[0;34m)\u001b[0m\u001b[0;34m)\u001b[0m\u001b[0;34m\u001b[0m\u001b[0;34m\u001b[0m\u001b[0m\n\u001b[0;32m---> 12\u001b[0;31m \u001b[0mtrain_detector\u001b[0m\u001b[0;34m(\u001b[0m\u001b[0mmodel\u001b[0m\u001b[0;34m,\u001b[0m \u001b[0mdatasets\u001b[0m\u001b[0;34m,\u001b[0m \u001b[0mcfg\u001b[0m\u001b[0;34m,\u001b[0m \u001b[0mdistributed\u001b[0m\u001b[0;34m=\u001b[0m\u001b[0;32mFalse\u001b[0m\u001b[0;34m,\u001b[0m \u001b[0mvalidate\u001b[0m\u001b[0;34m=\u001b[0m\u001b[0;32mTrue\u001b[0m\u001b[0;34m)\u001b[0m\u001b[0;34m\u001b[0m\u001b[0;34m\u001b[0m\u001b[0m\n\u001b[0m",
      "\u001b[0;32m~/nfl/mmdetection/mmdet/apis/train.py\u001b[0m in \u001b[0;36mtrain_detector\u001b[0;34m(model, dataset, cfg, distributed, validate, timestamp, meta)\u001b[0m\n\u001b[1;32m    148\u001b[0m     \u001b[0;32melif\u001b[0m \u001b[0mcfg\u001b[0m\u001b[0;34m.\u001b[0m\u001b[0mload_from\u001b[0m\u001b[0;34m:\u001b[0m\u001b[0;34m\u001b[0m\u001b[0;34m\u001b[0m\u001b[0m\n\u001b[1;32m    149\u001b[0m         \u001b[0mrunner\u001b[0m\u001b[0;34m.\u001b[0m\u001b[0mload_checkpoint\u001b[0m\u001b[0;34m(\u001b[0m\u001b[0mcfg\u001b[0m\u001b[0;34m.\u001b[0m\u001b[0mload_from\u001b[0m\u001b[0;34m)\u001b[0m\u001b[0;34m\u001b[0m\u001b[0;34m\u001b[0m\u001b[0m\n\u001b[0;32m--> 150\u001b[0;31m     \u001b[0mrunner\u001b[0m\u001b[0;34m.\u001b[0m\u001b[0mrun\u001b[0m\u001b[0;34m(\u001b[0m\u001b[0mdata_loaders\u001b[0m\u001b[0;34m,\u001b[0m \u001b[0mcfg\u001b[0m\u001b[0;34m.\u001b[0m\u001b[0mworkflow\u001b[0m\u001b[0;34m,\u001b[0m \u001b[0mcfg\u001b[0m\u001b[0;34m.\u001b[0m\u001b[0mtotal_epochs\u001b[0m\u001b[0;34m)\u001b[0m\u001b[0;34m\u001b[0m\u001b[0;34m\u001b[0m\u001b[0m\n\u001b[0m",
      "\u001b[0;32m~/anaconda3/lib/python3.7/site-packages/mmcv/runner/epoch_based_runner.py\u001b[0m in \u001b[0;36mrun\u001b[0;34m(self, data_loaders, workflow, max_epochs, **kwargs)\u001b[0m\n\u001b[1;32m    123\u001b[0m                     \u001b[0;32mif\u001b[0m \u001b[0mmode\u001b[0m \u001b[0;34m==\u001b[0m \u001b[0;34m'train'\u001b[0m \u001b[0;32mand\u001b[0m \u001b[0mself\u001b[0m\u001b[0;34m.\u001b[0m\u001b[0mepoch\u001b[0m \u001b[0;34m>=\u001b[0m \u001b[0mself\u001b[0m\u001b[0;34m.\u001b[0m\u001b[0m_max_epochs\u001b[0m\u001b[0;34m:\u001b[0m\u001b[0;34m\u001b[0m\u001b[0;34m\u001b[0m\u001b[0m\n\u001b[1;32m    124\u001b[0m                         \u001b[0;32mbreak\u001b[0m\u001b[0;34m\u001b[0m\u001b[0;34m\u001b[0m\u001b[0m\n\u001b[0;32m--> 125\u001b[0;31m                     \u001b[0mepoch_runner\u001b[0m\u001b[0;34m(\u001b[0m\u001b[0mdata_loaders\u001b[0m\u001b[0;34m[\u001b[0m\u001b[0mi\u001b[0m\u001b[0;34m]\u001b[0m\u001b[0;34m,\u001b[0m \u001b[0;34m**\u001b[0m\u001b[0mkwargs\u001b[0m\u001b[0;34m)\u001b[0m\u001b[0;34m\u001b[0m\u001b[0;34m\u001b[0m\u001b[0m\n\u001b[0m\u001b[1;32m    126\u001b[0m \u001b[0;34m\u001b[0m\u001b[0m\n\u001b[1;32m    127\u001b[0m         \u001b[0mtime\u001b[0m\u001b[0;34m.\u001b[0m\u001b[0msleep\u001b[0m\u001b[0;34m(\u001b[0m\u001b[0;36m1\u001b[0m\u001b[0;34m)\u001b[0m  \u001b[0;31m# wait for some hooks like loggers to finish\u001b[0m\u001b[0;34m\u001b[0m\u001b[0;34m\u001b[0m\u001b[0m\n",
      "\u001b[0;32m~/anaconda3/lib/python3.7/site-packages/mmcv/runner/epoch_based_runner.py\u001b[0m in \u001b[0;36mtrain\u001b[0;34m(self, data_loader, **kwargs)\u001b[0m\n\u001b[1;32m     49\u001b[0m             \u001b[0mself\u001b[0m\u001b[0;34m.\u001b[0m\u001b[0mcall_hook\u001b[0m\u001b[0;34m(\u001b[0m\u001b[0;34m'before_train_iter'\u001b[0m\u001b[0;34m)\u001b[0m\u001b[0;34m\u001b[0m\u001b[0;34m\u001b[0m\u001b[0m\n\u001b[1;32m     50\u001b[0m             \u001b[0mself\u001b[0m\u001b[0;34m.\u001b[0m\u001b[0mrun_iter\u001b[0m\u001b[0;34m(\u001b[0m\u001b[0mdata_batch\u001b[0m\u001b[0;34m,\u001b[0m \u001b[0mtrain_mode\u001b[0m\u001b[0;34m=\u001b[0m\u001b[0;32mTrue\u001b[0m\u001b[0;34m)\u001b[0m\u001b[0;34m\u001b[0m\u001b[0;34m\u001b[0m\u001b[0m\n\u001b[0;32m---> 51\u001b[0;31m             \u001b[0mself\u001b[0m\u001b[0;34m.\u001b[0m\u001b[0mcall_hook\u001b[0m\u001b[0;34m(\u001b[0m\u001b[0;34m'after_train_iter'\u001b[0m\u001b[0;34m)\u001b[0m\u001b[0;34m\u001b[0m\u001b[0;34m\u001b[0m\u001b[0m\n\u001b[0m\u001b[1;32m     52\u001b[0m             \u001b[0mself\u001b[0m\u001b[0;34m.\u001b[0m\u001b[0m_iter\u001b[0m \u001b[0;34m+=\u001b[0m \u001b[0;36m1\u001b[0m\u001b[0;34m\u001b[0m\u001b[0;34m\u001b[0m\u001b[0m\n\u001b[1;32m     53\u001b[0m \u001b[0;34m\u001b[0m\u001b[0m\n",
      "\u001b[0;32m~/anaconda3/lib/python3.7/site-packages/mmcv/runner/base_runner.py\u001b[0m in \u001b[0;36mcall_hook\u001b[0;34m(self, fn_name)\u001b[0m\n\u001b[1;32m    305\u001b[0m         \"\"\"\n\u001b[1;32m    306\u001b[0m         \u001b[0;32mfor\u001b[0m \u001b[0mhook\u001b[0m \u001b[0;32min\u001b[0m \u001b[0mself\u001b[0m\u001b[0;34m.\u001b[0m\u001b[0m_hooks\u001b[0m\u001b[0;34m:\u001b[0m\u001b[0;34m\u001b[0m\u001b[0;34m\u001b[0m\u001b[0m\n\u001b[0;32m--> 307\u001b[0;31m             \u001b[0mgetattr\u001b[0m\u001b[0;34m(\u001b[0m\u001b[0mhook\u001b[0m\u001b[0;34m,\u001b[0m \u001b[0mfn_name\u001b[0m\u001b[0;34m)\u001b[0m\u001b[0;34m(\u001b[0m\u001b[0mself\u001b[0m\u001b[0;34m)\u001b[0m\u001b[0;34m\u001b[0m\u001b[0;34m\u001b[0m\u001b[0m\n\u001b[0m\u001b[1;32m    308\u001b[0m \u001b[0;34m\u001b[0m\u001b[0m\n\u001b[1;32m    309\u001b[0m     \u001b[0;32mdef\u001b[0m \u001b[0mload_checkpoint\u001b[0m\u001b[0;34m(\u001b[0m\u001b[0mself\u001b[0m\u001b[0;34m,\u001b[0m \u001b[0mfilename\u001b[0m\u001b[0;34m,\u001b[0m \u001b[0mmap_location\u001b[0m\u001b[0;34m=\u001b[0m\u001b[0;34m'cpu'\u001b[0m\u001b[0;34m,\u001b[0m \u001b[0mstrict\u001b[0m\u001b[0;34m=\u001b[0m\u001b[0;32mFalse\u001b[0m\u001b[0;34m)\u001b[0m\u001b[0;34m:\u001b[0m\u001b[0;34m\u001b[0m\u001b[0;34m\u001b[0m\u001b[0m\n",
      "\u001b[0;32m~/anaconda3/lib/python3.7/site-packages/mmcv/runner/hooks/optimizer.py\u001b[0m in \u001b[0;36mafter_train_iter\u001b[0;34m(self, runner)\u001b[0m\n\u001b[1;32m     32\u001b[0m                 runner.log_buffer.update({'grad_norm': float(grad_norm)},\n\u001b[1;32m     33\u001b[0m                                          runner.outputs['num_samples'])\n\u001b[0;32m---> 34\u001b[0;31m         \u001b[0mrunner\u001b[0m\u001b[0;34m.\u001b[0m\u001b[0moptimizer\u001b[0m\u001b[0;34m.\u001b[0m\u001b[0mstep\u001b[0m\u001b[0;34m(\u001b[0m\u001b[0;34m)\u001b[0m\u001b[0;34m\u001b[0m\u001b[0;34m\u001b[0m\u001b[0m\n\u001b[0m\u001b[1;32m     35\u001b[0m \u001b[0;34m\u001b[0m\u001b[0m\n\u001b[1;32m     36\u001b[0m \u001b[0;34m\u001b[0m\u001b[0m\n",
      "\u001b[0;32m~/anaconda3/lib/python3.7/site-packages/torch/autograd/grad_mode.py\u001b[0m in \u001b[0;36mdecorate_context\u001b[0;34m(*args, **kwargs)\u001b[0m\n\u001b[1;32m     24\u001b[0m         \u001b[0;32mdef\u001b[0m \u001b[0mdecorate_context\u001b[0m\u001b[0;34m(\u001b[0m\u001b[0;34m*\u001b[0m\u001b[0margs\u001b[0m\u001b[0;34m,\u001b[0m \u001b[0;34m**\u001b[0m\u001b[0mkwargs\u001b[0m\u001b[0;34m)\u001b[0m\u001b[0;34m:\u001b[0m\u001b[0;34m\u001b[0m\u001b[0;34m\u001b[0m\u001b[0m\n\u001b[1;32m     25\u001b[0m             \u001b[0;32mwith\u001b[0m \u001b[0mself\u001b[0m\u001b[0;34m.\u001b[0m\u001b[0m__class__\u001b[0m\u001b[0;34m(\u001b[0m\u001b[0;34m)\u001b[0m\u001b[0;34m:\u001b[0m\u001b[0;34m\u001b[0m\u001b[0;34m\u001b[0m\u001b[0m\n\u001b[0;32m---> 26\u001b[0;31m                 \u001b[0;32mreturn\u001b[0m \u001b[0mfunc\u001b[0m\u001b[0;34m(\u001b[0m\u001b[0;34m*\u001b[0m\u001b[0margs\u001b[0m\u001b[0;34m,\u001b[0m \u001b[0;34m**\u001b[0m\u001b[0mkwargs\u001b[0m\u001b[0;34m)\u001b[0m\u001b[0;34m\u001b[0m\u001b[0;34m\u001b[0m\u001b[0m\n\u001b[0m\u001b[1;32m     27\u001b[0m         \u001b[0;32mreturn\u001b[0m \u001b[0mcast\u001b[0m\u001b[0;34m(\u001b[0m\u001b[0mF\u001b[0m\u001b[0;34m,\u001b[0m \u001b[0mdecorate_context\u001b[0m\u001b[0;34m)\u001b[0m\u001b[0;34m\u001b[0m\u001b[0;34m\u001b[0m\u001b[0m\n\u001b[1;32m     28\u001b[0m \u001b[0;34m\u001b[0m\u001b[0m\n",
      "\u001b[0;32m~/anaconda3/lib/python3.7/site-packages/torch/optim/sgd.py\u001b[0m in \u001b[0;36mstep\u001b[0;34m(self, closure)\u001b[0m\n\u001b[1;32m     97\u001b[0m                 \u001b[0md_p\u001b[0m \u001b[0;34m=\u001b[0m \u001b[0mp\u001b[0m\u001b[0;34m.\u001b[0m\u001b[0mgrad\u001b[0m\u001b[0;34m\u001b[0m\u001b[0;34m\u001b[0m\u001b[0m\n\u001b[1;32m     98\u001b[0m                 \u001b[0;32mif\u001b[0m \u001b[0mweight_decay\u001b[0m \u001b[0;34m!=\u001b[0m \u001b[0;36m0\u001b[0m\u001b[0;34m:\u001b[0m\u001b[0;34m\u001b[0m\u001b[0;34m\u001b[0m\u001b[0m\n\u001b[0;32m---> 99\u001b[0;31m                     \u001b[0md_p\u001b[0m \u001b[0;34m=\u001b[0m \u001b[0md_p\u001b[0m\u001b[0;34m.\u001b[0m\u001b[0madd\u001b[0m\u001b[0;34m(\u001b[0m\u001b[0mp\u001b[0m\u001b[0;34m,\u001b[0m \u001b[0malpha\u001b[0m\u001b[0;34m=\u001b[0m\u001b[0mweight_decay\u001b[0m\u001b[0;34m)\u001b[0m\u001b[0;34m\u001b[0m\u001b[0;34m\u001b[0m\u001b[0m\n\u001b[0m\u001b[1;32m    100\u001b[0m                 \u001b[0;32mif\u001b[0m \u001b[0mmomentum\u001b[0m \u001b[0;34m!=\u001b[0m \u001b[0;36m0\u001b[0m\u001b[0;34m:\u001b[0m\u001b[0;34m\u001b[0m\u001b[0;34m\u001b[0m\u001b[0m\n\u001b[1;32m    101\u001b[0m                     \u001b[0mparam_state\u001b[0m \u001b[0;34m=\u001b[0m \u001b[0mself\u001b[0m\u001b[0;34m.\u001b[0m\u001b[0mstate\u001b[0m\u001b[0;34m[\u001b[0m\u001b[0mp\u001b[0m\u001b[0;34m]\u001b[0m\u001b[0;34m\u001b[0m\u001b[0;34m\u001b[0m\u001b[0m\n",
      "\u001b[0;31mKeyboardInterrupt\u001b[0m: "
     ]
    }
   ],
   "source": [
    "# Build dataset\n",
    "datasets = [build_dataset(cfg.data.train)]\n",
    "\n",
    "# Build the detector\n",
    "model = build_detector(\n",
    "    cfg.model, train_cfg=cfg.train_cfg, test_cfg=cfg.test_cfg)\n",
    "# Add an attribute for visualization convenience\n",
    "model.CLASSES = datasets[0].CLASSES\n",
    "\n",
    "# Create work_dir\n",
    "mmcv.mkdir_or_exist(osp.abspath(cfg.work_dir))\n",
    "train_detector(model, datasets, cfg, distributed=False, validate=True)"
   ]
  },
  {
   "cell_type": "code",
   "execution_count": null,
   "metadata": {},
   "outputs": [],
   "source": []
  }
 ],
 "metadata": {
  "kernelspec": {
   "display_name": "Python 3",
   "language": "python",
   "name": "python3"
  },
  "language_info": {
   "codemirror_mode": {
    "name": "ipython",
    "version": 3
   },
   "file_extension": ".py",
   "mimetype": "text/x-python",
   "name": "python",
   "nbconvert_exporter": "python",
   "pygments_lexer": "ipython3",
   "version": "3.7.6"
  }
 },
 "nbformat": 4,
 "nbformat_minor": 4
}
