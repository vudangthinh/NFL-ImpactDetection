{
 "cells": [
  {
   "cell_type": "markdown",
   "metadata": {},
   "source": [
    "# Import"
   ]
  },
  {
   "cell_type": "code",
   "execution_count": 1,
   "metadata": {},
   "outputs": [
    {
     "name": "stdout",
     "output_type": "stream",
     "text": [
      "1.7.0+cu101 True\n",
      "2.7.0\n",
      "10.1\n",
      "GCC 7.3\n"
     ]
    }
   ],
   "source": [
    "import os\n",
    "import copy\n",
    "import json\n",
    "import random\n",
    "import os.path as osp\n",
    "from glob import glob\n",
    "from tqdm import tqdm\n",
    "\n",
    "# Check Pytorch installation\n",
    "import torch, torchvision\n",
    "print(torch.__version__, torch.cuda.is_available())\n",
    "\n",
    "from sklearn.model_selection import train_test_split\n",
    "\n",
    "# Check MMDetection installation\n",
    "import mmdet\n",
    "print(mmdet.__version__)\n",
    "\n",
    "# Check mmcv installation\n",
    "import mmcv\n",
    "from mmcv.ops import get_compiling_cuda_version, get_compiler_version\n",
    "from mmcv import Config\n",
    "print(get_compiling_cuda_version())\n",
    "print(get_compiler_version())\n",
    "\n",
    "from mmdet.datasets import build_dataset, CocoDataset\n",
    "from mmdet.models import build_detector\n",
    "from mmdet.datasets.builder import DATASETS\n",
    "from mmdet.datasets.custom import CustomDataset\n",
    "from mmdet.apis import train_detector, set_random_seed, init_detector, inference_detector\n",
    "\n",
    "from pycocotools.coco import COCO\n",
    "from pycocotools.cocoeval import COCOeval\n",
    "\n",
    "import pandas as pd # data processing, CSV file I/O (e.g. pd.read_csv)\n",
    "import numpy as np\n",
    "import matplotlib.pyplot as plt\n",
    "import matplotlib.animation as animation\n",
    "\n",
    "SEED = 42\n",
    "\n",
    "def seed_everything(seed):\n",
    "    random.seed(seed)\n",
    "    os.environ['PYTHONHASHSEED'] = str(seed)\n",
    "    np.random.seed(seed)\n",
    "    torch.manual_seed(seed)\n",
    "    torch.cuda.manual_seed(seed)\n",
    "    torch.backends.cudnn.deterministic = True\n",
    "    torch.backends.cudnn.benchmark = False\n",
    "\n",
    "seed_everything(SEED)"
   ]
  },
  {
   "cell_type": "markdown",
   "metadata": {},
   "source": [
    "# Data Preparation"
   ]
  },
  {
   "cell_type": "code",
   "execution_count": 2,
   "metadata": {},
   "outputs": [
    {
     "name": "stderr",
     "output_type": "stream",
     "text": [
      "100%|██████████| 2291/2291 [03:48<00:00, 10.03it/s]\n"
     ]
    },
    {
     "data": {
      "text/html": [
       "<div>\n",
       "<style scoped>\n",
       "    .dataframe tbody tr th:only-of-type {\n",
       "        vertical-align: middle;\n",
       "    }\n",
       "\n",
       "    .dataframe tbody tr th {\n",
       "        vertical-align: top;\n",
       "    }\n",
       "\n",
       "    .dataframe thead th {\n",
       "        text-align: right;\n",
       "    }\n",
       "</style>\n",
       "<table border=\"1\" class=\"dataframe\">\n",
       "  <thead>\n",
       "    <tr style=\"text-align: right;\">\n",
       "      <th></th>\n",
       "      <th>gameKey</th>\n",
       "      <th>playID</th>\n",
       "      <th>view</th>\n",
       "      <th>video</th>\n",
       "      <th>frame</th>\n",
       "      <th>label</th>\n",
       "      <th>left</th>\n",
       "      <th>width</th>\n",
       "      <th>top</th>\n",
       "      <th>height</th>\n",
       "      <th>impact</th>\n",
       "      <th>impactType</th>\n",
       "      <th>confidence</th>\n",
       "      <th>visibility</th>\n",
       "      <th>video_name</th>\n",
       "      <th>image_name</th>\n",
       "    </tr>\n",
       "  </thead>\n",
       "  <tbody>\n",
       "    <tr>\n",
       "      <th>0</th>\n",
       "      <td>57583</td>\n",
       "      <td>82</td>\n",
       "      <td>Endzone</td>\n",
       "      <td>57583_000082_Endzone.mp4</td>\n",
       "      <td>34</td>\n",
       "      <td>V73</td>\n",
       "      <td>655</td>\n",
       "      <td>21</td>\n",
       "      <td>331</td>\n",
       "      <td>15</td>\n",
       "      <td>2.0</td>\n",
       "      <td>NaN</td>\n",
       "      <td>NaN</td>\n",
       "      <td>NaN</td>\n",
       "      <td>57583_000082</td>\n",
       "      <td>57583_000082_Endzone_34.png</td>\n",
       "    </tr>\n",
       "    <tr>\n",
       "      <th>1</th>\n",
       "      <td>57583</td>\n",
       "      <td>82</td>\n",
       "      <td>Endzone</td>\n",
       "      <td>57583_000082_Endzone.mp4</td>\n",
       "      <td>34</td>\n",
       "      <td>H99</td>\n",
       "      <td>583</td>\n",
       "      <td>21</td>\n",
       "      <td>312</td>\n",
       "      <td>30</td>\n",
       "      <td>1.0</td>\n",
       "      <td>NaN</td>\n",
       "      <td>NaN</td>\n",
       "      <td>NaN</td>\n",
       "      <td>57583_000082</td>\n",
       "      <td>57583_000082_Endzone_34.png</td>\n",
       "    </tr>\n",
       "    <tr>\n",
       "      <th>2</th>\n",
       "      <td>57583</td>\n",
       "      <td>82</td>\n",
       "      <td>Endzone</td>\n",
       "      <td>57583_000082_Endzone.mp4</td>\n",
       "      <td>34</td>\n",
       "      <td>V15</td>\n",
       "      <td>1069</td>\n",
       "      <td>22</td>\n",
       "      <td>301</td>\n",
       "      <td>20</td>\n",
       "      <td>2.0</td>\n",
       "      <td>NaN</td>\n",
       "      <td>NaN</td>\n",
       "      <td>NaN</td>\n",
       "      <td>57583_000082</td>\n",
       "      <td>57583_000082_Endzone_34.png</td>\n",
       "    </tr>\n",
       "    <tr>\n",
       "      <th>3</th>\n",
       "      <td>57583</td>\n",
       "      <td>82</td>\n",
       "      <td>Endzone</td>\n",
       "      <td>57583_000082_Endzone.mp4</td>\n",
       "      <td>34</td>\n",
       "      <td>H97</td>\n",
       "      <td>402</td>\n",
       "      <td>21</td>\n",
       "      <td>313</td>\n",
       "      <td>29</td>\n",
       "      <td>2.0</td>\n",
       "      <td>NaN</td>\n",
       "      <td>NaN</td>\n",
       "      <td>NaN</td>\n",
       "      <td>57583_000082</td>\n",
       "      <td>57583_000082_Endzone_34.png</td>\n",
       "    </tr>\n",
       "    <tr>\n",
       "      <th>4</th>\n",
       "      <td>57583</td>\n",
       "      <td>82</td>\n",
       "      <td>Endzone</td>\n",
       "      <td>57583_000082_Endzone.mp4</td>\n",
       "      <td>34</td>\n",
       "      <td>V72</td>\n",
       "      <td>445</td>\n",
       "      <td>21</td>\n",
       "      <td>328</td>\n",
       "      <td>16</td>\n",
       "      <td>2.0</td>\n",
       "      <td>NaN</td>\n",
       "      <td>NaN</td>\n",
       "      <td>NaN</td>\n",
       "      <td>57583_000082</td>\n",
       "      <td>57583_000082_Endzone_34.png</td>\n",
       "    </tr>\n",
       "  </tbody>\n",
       "</table>\n",
       "</div>"
      ],
      "text/plain": [
       "   gameKey  playID     view                     video  frame label  left  \\\n",
       "0    57583      82  Endzone  57583_000082_Endzone.mp4     34   V73   655   \n",
       "1    57583      82  Endzone  57583_000082_Endzone.mp4     34   H99   583   \n",
       "2    57583      82  Endzone  57583_000082_Endzone.mp4     34   V15  1069   \n",
       "3    57583      82  Endzone  57583_000082_Endzone.mp4     34   H97   402   \n",
       "4    57583      82  Endzone  57583_000082_Endzone.mp4     34   V72   445   \n",
       "\n",
       "   width  top  height  impact impactType  confidence  visibility  \\\n",
       "0     21  331      15     2.0        NaN         NaN         NaN   \n",
       "1     21  312      30     1.0        NaN         NaN         NaN   \n",
       "2     22  301      20     2.0        NaN         NaN         NaN   \n",
       "3     21  313      29     2.0        NaN         NaN         NaN   \n",
       "4     21  328      16     2.0        NaN         NaN         NaN   \n",
       "\n",
       "     video_name                   image_name  \n",
       "0  57583_000082  57583_000082_Endzone_34.png  \n",
       "1  57583_000082  57583_000082_Endzone_34.png  \n",
       "2  57583_000082  57583_000082_Endzone_34.png  \n",
       "3  57583_000082  57583_000082_Endzone_34.png  \n",
       "4  57583_000082  57583_000082_Endzone_34.png  "
      ]
     },
     "execution_count": 2,
     "metadata": {},
     "output_type": "execute_result"
    }
   ],
   "source": [
    "video_labels = pd.read_csv('/home/thinh/nfl/train_labels.csv')\n",
    "video_labels = video_labels[video_labels['frame'] != 0].reset_index(drop=True)\n",
    "\n",
    "video_labels_with_impact = video_labels[video_labels['impact'] > 0]\n",
    "for row in tqdm(video_labels_with_impact[['video','frame','label']].values):\n",
    "    frames = np.array([-4, -3, -2, -1, 1, 2, 3, 4])+row[1]\n",
    "    video_labels.loc[(video_labels['video'] == row[0]) \n",
    "                                 & (video_labels['frame'].isin(frames))\n",
    "                                 & (video_labels['label'] == row[2]), 'impact'] = 1\n",
    "\n",
    "video_labels['video_name'] = video_labels['video'].apply(lambda x: \"_\".join(x.split(\"_\")[:2]))\n",
    "video_labels['image_name'] = video_labels['video'].str.replace('.mp4', '') + '_' + video_labels['frame'].astype(str) + '.png'\n",
    "video_labels = video_labels[video_labels.groupby('image_name')['impact'].transform(\"sum\") > 0].reset_index(drop=True)\n",
    "video_labels.fillna({'impact': 2}, inplace=True)\n",
    "video_labels.head()"
   ]
  },
  {
   "cell_type": "code",
   "execution_count": 3,
   "metadata": {},
   "outputs": [],
   "source": [
    "# video_names = np.random.permutation(video_labels.video_name.unique())\n",
    "# valid_video_len = int(len(video_names)*0.2)\n",
    "# video_valid = video_names[:valid_video_len]\n",
    "# video_train = video_names[valid_video_len:]\n",
    "video_valid = ['57583_000082', '57586_004152', '57911_000147', '57997_003691', '57680_002206', '58095_004022', '57906_000718', '58005_001254', '57679_003316', '58103_003494', '57998_002181', '58048_000086']\n",
    "\n",
    "valid_df = video_labels[ video_labels.video_name.isin(video_valid)].reset_index(drop=True)\n",
    "train_df = video_labels[~video_labels.video_name.isin(video_valid)].reset_index(drop=True)"
   ]
  },
  {
   "cell_type": "code",
   "execution_count": 4,
   "metadata": {},
   "outputs": [],
   "source": [
    "with open('mmdet/video_valid_44.txt', 'w') as writer:\n",
    "    writer.write(str(video_valid.tolist()))"
   ]
  },
  {
   "cell_type": "markdown",
   "metadata": {},
   "source": [
    "# Generate COCO Format Json"
   ]
  },
  {
   "cell_type": "code",
   "execution_count": 5,
   "metadata": {},
   "outputs": [],
   "source": [
    "def gen_classes(CLASSES):\n",
    "    classes = list()      \n",
    "    \n",
    "    for i, CLASS in enumerate(CLASSES):\n",
    "        single_class = {} \n",
    "        single_class['id'] = i + 1\n",
    "        single_class['name'] = CLASS\n",
    "        classes.append(single_class)\n",
    "    return classes\n",
    "\n",
    "def gen_objs(df, debug = False):\n",
    "    \n",
    "    if debug:\n",
    "        \n",
    "        df = df[:int(len(df)*0.05)]\n",
    "        \n",
    "    \n",
    "    img_lists = list(df['image_name'].unique())\n",
    "    imgs = list()\n",
    "    objs = list()   \n",
    "    \n",
    "    ## gen images information\n",
    "    for i in tqdm(range(len(img_lists))):\n",
    "        '''\n",
    "        \n",
    "        I just notice that all images were preprocessed image size 720x1280\n",
    "        If you want to check real image size, use this code below\n",
    "        \n",
    "        img = cv2.imread(os.path.join(data_path, img_lists[i]))\n",
    "        \n",
    "        single_img_obj = {}\n",
    "        single_img_obj['file_name'] = img_lists[i]\n",
    "        single_img_obj['height'] = img.shape[0]\n",
    "        single_img_obj['width'] = img.shape[1]\n",
    "        single_img_obj['id'] = i + 1\n",
    "        '''\n",
    "        \n",
    "        single_img_obj = {}\n",
    "        single_img_obj['file_name'] = img_lists[i]\n",
    "        single_img_obj['height'] = 720 \n",
    "        single_img_obj['width'] = 1280\n",
    "        single_img_obj['id'] = i + 1        \n",
    "        \n",
    "        imgs.append(single_img_obj)\n",
    "        \n",
    "  \n",
    "    ## gen objs information    \n",
    "    for j in tqdm(range(len(df))):\n",
    "        single_obj = {}\n",
    "        single_obj['id'] = j + 1\n",
    "        single_obj['image_id'] = img_lists.index(df['image_name'][j]) + 1\n",
    "        single_obj['category_id'] = int(df['impact'][j] ) ## You need to customize if you want to add some 'impact' class\n",
    "        single_obj['area'] = float(df['width'][j]*df['height'][j])\n",
    "        single_obj['bbox'] = [int(df['left'][j]), int(df['top'][j]), int(df['width'][j]), int(df['height'][j])]\n",
    "        single_obj['iscrowd'] = 0        \n",
    "        \n",
    "        objs.append(single_obj)\n",
    "    \n",
    "    print(f'images: {len(imgs)}, objs: {len(objs)}')\n",
    "    \n",
    "    return imgs, objs\n",
    "\n",
    "def gen_coco(outpath, classes, objs, imgs, train=True):\n",
    "    if train:\n",
    "        data_dict = {}\n",
    "        data_dict['images'] = []\n",
    "        data_dict['annotations'] = []\n",
    "        data_dict['categories'] = []\n",
    "        data_dict['images'].extend(imgs)\n",
    "        data_dict['annotations'].extend(objs)\n",
    "        data_dict['categories'].extend(classes)\n",
    "        \n",
    "    else:\n",
    "        data_dict = {}\n",
    "        data_dict['images'] = []\n",
    "        data_dict['categories'] = []\n",
    "        \n",
    "        data_dict['images'].extend(imgs)\n",
    "        data_dict['categories'].extend(classes)   \n",
    "\n",
    "    with open(outpath, 'w') as f_out:\n",
    "        json.dump(data_dict, f_out)"
   ]
  },
  {
   "cell_type": "code",
   "execution_count": 6,
   "metadata": {},
   "outputs": [
    {
     "data": {
      "text/plain": [
       "[{'id': 1, 'name': 'impact'}, {'id': 2, 'name': 'helmet'}]"
      ]
     },
     "execution_count": 6,
     "metadata": {},
     "output_type": "execute_result"
    }
   ],
   "source": [
    "CLASSES = ['impact', 'helmet']\n",
    "classes = gen_classes(CLASSES)\n",
    "classes"
   ]
  },
  {
   "cell_type": "code",
   "execution_count": 7,
   "metadata": {},
   "outputs": [
    {
     "name": "stderr",
     "output_type": "stream",
     "text": [
      "100%|██████████| 8004/8004 [00:00<00:00, 606416.35it/s]\n",
      "100%|██████████| 158215/158215 [00:28<00:00, 5627.87it/s]\n",
      "100%|██████████| 2013/2013 [00:00<00:00, 1325452.74it/s]\n",
      "  3%|▎         | 1058/39623 [00:00<00:03, 10577.39it/s]"
     ]
    },
    {
     "name": "stdout",
     "output_type": "stream",
     "text": [
      "images: 8004, objs: 158215\n"
     ]
    },
    {
     "name": "stderr",
     "output_type": "stream",
     "text": [
      "100%|██████████| 39623/39623 [00:04<00:00, 8313.87it/s]"
     ]
    },
    {
     "name": "stdout",
     "output_type": "stream",
     "text": [
      "images: 2013, objs: 39623\n"
     ]
    },
    {
     "name": "stderr",
     "output_type": "stream",
     "text": [
      "\n"
     ]
    }
   ],
   "source": [
    "train_imgs, train_objs = gen_objs(train_df)\n",
    "valid_imgs, valid_objs = gen_objs(valid_df)"
   ]
  },
  {
   "cell_type": "code",
   "execution_count": 8,
   "metadata": {},
   "outputs": [],
   "source": [
    "gen_coco('mmdet/train_44.json', classes, train_objs, train_imgs, train=True)\n",
    "gen_coco('mmdet/valid_44.json', classes, valid_objs, valid_imgs, train=True)"
   ]
  },
  {
   "cell_type": "markdown",
   "metadata": {},
   "source": [
    "# Dataset"
   ]
  },
  {
   "cell_type": "code",
   "execution_count": 9,
   "metadata": {},
   "outputs": [],
   "source": [
    "@DATASETS.register_module()\n",
    "class ImpactDataset(CocoDataset):\n",
    "    CLASSES = set(CLASSES)"
   ]
  },
  {
   "cell_type": "markdown",
   "metadata": {},
   "source": [
    "# Model build"
   ]
  },
  {
   "cell_type": "code",
   "execution_count": 10,
   "metadata": {},
   "outputs": [],
   "source": [
    "config_file = 'mmdet/cascade_rcnn_r50_fpn.py'\n",
    "cfg = Config.fromfile(config_file)"
   ]
  },
  {
   "cell_type": "code",
   "execution_count": 11,
   "metadata": {},
   "outputs": [],
   "source": [
    "cfg.total_epochs = 30\n",
    "cfg.work_dir = './mmdet'\n",
    "cfg.seed = 0\n",
    "set_random_seed(0, deterministic=False)\n",
    "cfg.gpu_ids = range(1)\n",
    "cfg.data.samples_per_gpu = 4\n",
    "\n",
    "cfg.data_root = '/home/thinh/nfl/train_images/'\n",
    "\n",
    "cfg.data.train.ann_file='mmdet/train_44.json'\n",
    "cfg.data.train.img_prefix= cfg.data_root\n",
    "\n",
    "cfg.data.val.ann_file='mmdet/valid_44.json',\n",
    "cfg.data.val.img_prefix= cfg.data_root\n",
    "\n",
    "cfg.data.test.ann_file='mmdet/valid_44.json', ## I just set validation data for test because it's not our main purpose\n",
    "cfg.data.test.img_prefix= cfg.data_root"
   ]
  },
  {
   "cell_type": "code",
   "execution_count": 12,
   "metadata": {
    "scrolled": true
   },
   "outputs": [
    {
     "name": "stdout",
     "output_type": "stream",
     "text": [
      "Config:\n",
      "model = dict(\n",
      "    type='FasterRCNN',\n",
      "    pretrained='torchvision://resnet50',\n",
      "    backbone=dict(\n",
      "        type='ResNet',\n",
      "        depth=50,\n",
      "        num_stages=4,\n",
      "        out_indices=(0, 1, 2, 3),\n",
      "        frozen_stages=1,\n",
      "        norm_cfg=dict(type='BN', requires_grad=True),\n",
      "        norm_eval=True,\n",
      "        style='pytorch'),\n",
      "    neck=dict(\n",
      "        type='FPN',\n",
      "        in_channels=[256, 512, 1024, 2048],\n",
      "        out_channels=256,\n",
      "        num_outs=5),\n",
      "    rpn_head=dict(\n",
      "        type='RPNHead',\n",
      "        in_channels=256,\n",
      "        feat_channels=256,\n",
      "        anchor_generator=dict(\n",
      "            type='AnchorGenerator',\n",
      "            scales=[8],\n",
      "            ratios=[0.5, 1.0, 2.0],\n",
      "            strides=[4, 8, 16, 32, 64]),\n",
      "        bbox_coder=dict(\n",
      "            type='DeltaXYWHBBoxCoder',\n",
      "            target_means=[0.0, 0.0, 0.0, 0.0],\n",
      "            target_stds=[1.0, 1.0, 1.0, 1.0]),\n",
      "        loss_cls=dict(\n",
      "            type='CrossEntropyLoss', use_sigmoid=True, loss_weight=1.0),\n",
      "        loss_bbox=dict(type='L1Loss', loss_weight=1.0)),\n",
      "    roi_head=dict(\n",
      "        type='StandardRoIHead',\n",
      "        bbox_roi_extractor=dict(\n",
      "            type='SingleRoIExtractor',\n",
      "            roi_layer=dict(type='RoIAlign', output_size=7, sampling_ratio=0),\n",
      "            out_channels=256,\n",
      "            featmap_strides=[4, 8, 16, 32]),\n",
      "        bbox_head=dict(\n",
      "            type='Shared2FCBBoxHead',\n",
      "            in_channels=256,\n",
      "            fc_out_channels=1024,\n",
      "            roi_feat_size=7,\n",
      "            num_classes=80,\n",
      "            bbox_coder=dict(\n",
      "                type='DeltaXYWHBBoxCoder',\n",
      "                target_means=[0.0, 0.0, 0.0, 0.0],\n",
      "                target_stds=[0.1, 0.1, 0.2, 0.2]),\n",
      "            reg_class_agnostic=False,\n",
      "            loss_cls=dict(\n",
      "                type='CrossEntropyLoss', use_sigmoid=False, loss_weight=1.0),\n",
      "            loss_bbox=dict(type='L1Loss', loss_weight=1.0))))\n",
      "train_cfg = dict(\n",
      "    rpn=dict(\n",
      "        assigner=dict(\n",
      "            type='MaxIoUAssigner',\n",
      "            pos_iou_thr=0.7,\n",
      "            neg_iou_thr=0.3,\n",
      "            min_pos_iou=0.3,\n",
      "            match_low_quality=True,\n",
      "            ignore_iof_thr=-1),\n",
      "        sampler=dict(\n",
      "            type='RandomSampler',\n",
      "            num=256,\n",
      "            pos_fraction=0.5,\n",
      "            neg_pos_ub=-1,\n",
      "            add_gt_as_proposals=False),\n",
      "        allowed_border=-1,\n",
      "        pos_weight=-1,\n",
      "        debug=False),\n",
      "    rpn_proposal=dict(\n",
      "        nms_across_levels=False,\n",
      "        nms_pre=2000,\n",
      "        nms_post=1000,\n",
      "        max_num=1000,\n",
      "        nms_thr=0.7,\n",
      "        min_bbox_size=0),\n",
      "    rcnn=dict(\n",
      "        assigner=dict(\n",
      "            type='MaxIoUAssigner',\n",
      "            pos_iou_thr=0.5,\n",
      "            neg_iou_thr=0.5,\n",
      "            min_pos_iou=0.5,\n",
      "            match_low_quality=False,\n",
      "            ignore_iof_thr=-1),\n",
      "        sampler=dict(\n",
      "            type='RandomSampler',\n",
      "            num=512,\n",
      "            pos_fraction=0.25,\n",
      "            neg_pos_ub=-1,\n",
      "            add_gt_as_proposals=True),\n",
      "        pos_weight=-1,\n",
      "        debug=False))\n",
      "test_cfg = dict(\n",
      "    rpn=dict(\n",
      "        nms_across_levels=False,\n",
      "        nms_pre=1000,\n",
      "        nms_post=1000,\n",
      "        max_num=1000,\n",
      "        nms_thr=0.7,\n",
      "        min_bbox_size=0),\n",
      "    rcnn=dict(\n",
      "        score_thr=0.4,\n",
      "        nms=dict(type='nms', iou_threshold=0.5),\n",
      "        max_per_img=100))\n",
      "dataset_type = 'ImpactDataset'\n",
      "data_root = '/home/thinh/nfl/train_images/'\n",
      "img_norm_cfg = dict(\n",
      "    mean=[123.675, 116.28, 103.53], std=[58.395, 57.12, 57.375], to_rgb=True)\n",
      "train_pipeline = [\n",
      "    dict(type='LoadImageFromFile'),\n",
      "    dict(type='LoadAnnotations', with_bbox=True),\n",
      "    dict(type='Resize', img_scale=(1333, 800), keep_ratio=True),\n",
      "    dict(type='RandomFlip', flip_ratio=0.5),\n",
      "    dict(\n",
      "        type='Normalize',\n",
      "        mean=[123.675, 116.28, 103.53],\n",
      "        std=[58.395, 57.12, 57.375],\n",
      "        to_rgb=True),\n",
      "    dict(type='Pad', size_divisor=32),\n",
      "    dict(type='DefaultFormatBundle'),\n",
      "    dict(type='Collect', keys=['img', 'gt_bboxes', 'gt_labels'])\n",
      "]\n",
      "test_pipeline = [\n",
      "    dict(type='LoadImageFromFile'),\n",
      "    dict(\n",
      "        type='MultiScaleFlipAug',\n",
      "        img_scale=(1333, 800),\n",
      "        flip=False,\n",
      "        transforms=[\n",
      "            dict(type='Resize', keep_ratio=True),\n",
      "            dict(type='RandomFlip'),\n",
      "            dict(\n",
      "                type='Normalize',\n",
      "                mean=[123.675, 116.28, 103.53],\n",
      "                std=[58.395, 57.12, 57.375],\n",
      "                to_rgb=True),\n",
      "            dict(type='Pad', size_divisor=32),\n",
      "            dict(type='ImageToTensor', keys=['img']),\n",
      "            dict(type='Collect', keys=['img'])\n",
      "        ])\n",
      "]\n",
      "data = dict(\n",
      "    samples_per_gpu=4,\n",
      "    workers_per_gpu=4,\n",
      "    train=dict(\n",
      "        type='ImpactDataset',\n",
      "        ann_file='mmdet/train_44.json',\n",
      "        img_prefix='/home/thinh/nfl/train_images/',\n",
      "        pipeline=[\n",
      "            dict(type='LoadImageFromFile'),\n",
      "            dict(type='LoadAnnotations', with_bbox=True),\n",
      "            dict(type='Resize', img_scale=(1333, 800), keep_ratio=True),\n",
      "            dict(type='RandomFlip', flip_ratio=0.5),\n",
      "            dict(\n",
      "                type='Normalize',\n",
      "                mean=[123.675, 116.28, 103.53],\n",
      "                std=[58.395, 57.12, 57.375],\n",
      "                to_rgb=True),\n",
      "            dict(type='Pad', size_divisor=32),\n",
      "            dict(type='DefaultFormatBundle'),\n",
      "            dict(type='Collect', keys=['img', 'gt_bboxes', 'gt_labels'])\n",
      "        ]),\n",
      "    val=dict(\n",
      "        type='ImpactDataset',\n",
      "        ann_file=('mmdet/valid_44.json', ),\n",
      "        img_prefix='/home/thinh/nfl/train_images/',\n",
      "        pipeline=[\n",
      "            dict(type='LoadImageFromFile'),\n",
      "            dict(\n",
      "                type='MultiScaleFlipAug',\n",
      "                img_scale=(1333, 800),\n",
      "                flip=False,\n",
      "                transforms=[\n",
      "                    dict(type='Resize', keep_ratio=True),\n",
      "                    dict(type='RandomFlip'),\n",
      "                    dict(\n",
      "                        type='Normalize',\n",
      "                        mean=[123.675, 116.28, 103.53],\n",
      "                        std=[58.395, 57.12, 57.375],\n",
      "                        to_rgb=True),\n",
      "                    dict(type='Pad', size_divisor=32),\n",
      "                    dict(type='ImageToTensor', keys=['img']),\n",
      "                    dict(type='Collect', keys=['img'])\n",
      "                ])\n",
      "        ]),\n",
      "    test=dict(\n",
      "        type='ImpactDataset',\n",
      "        ann_file=('mmdet/valid_44.json', ),\n",
      "        img_prefix='/home/thinh/nfl/train_images/',\n",
      "        pipeline=[\n",
      "            dict(type='LoadImageFromFile'),\n",
      "            dict(\n",
      "                type='MultiScaleFlipAug',\n",
      "                img_scale=(1333, 800),\n",
      "                flip=False,\n",
      "                transforms=[\n",
      "                    dict(type='Resize', keep_ratio=True),\n",
      "                    dict(type='RandomFlip'),\n",
      "                    dict(\n",
      "                        type='Normalize',\n",
      "                        mean=[123.675, 116.28, 103.53],\n",
      "                        std=[58.395, 57.12, 57.375],\n",
      "                        to_rgb=True),\n",
      "                    dict(type='Pad', size_divisor=32),\n",
      "                    dict(type='ImageToTensor', keys=['img']),\n",
      "                    dict(type='Collect', keys=['img'])\n",
      "                ])\n",
      "        ]))\n",
      "evaluation = dict(metric=['bbox'], interval=1)\n",
      "optimizer = dict(type='SGD', lr=0.005, momentum=0.9, weight_decay=0.0001)\n",
      "optimizer_config = dict(grad_clip=None)\n",
      "lr_config = dict(\n",
      "    policy='step',\n",
      "    warmup='linear',\n",
      "    warmup_iters=500,\n",
      "    warmup_ratio=0.001,\n",
      "    step=[8, 11])\n",
      "total_epochs = 30\n",
      "checkpoint_config = dict(interval=1)\n",
      "log_config = dict(interval=50, hooks=[dict(type='TextLoggerHook')])\n",
      "dist_params = dict(backend='nccl')\n",
      "log_level = 'INFO'\n",
      "load_from = 'http://download.openmmlab.com/mmdetection/v2.0/cascade_rcnn/cascade_rcnn_r50_fpn_1x_coco/cascade_rcnn_r50_fpn_1x_coco_20200316-3dc56deb.pth'\n",
      "resume_from = None\n",
      "workflow = [('train', 1)]\n",
      "work_dir = './mmdet'\n",
      "gpu_ids = range(0, 1)\n",
      "seed = 0\n",
      "\n"
     ]
    }
   ],
   "source": [
    "print(f'Config:\\n{cfg.pretty_text}')"
   ]
  },
  {
   "cell_type": "markdown",
   "metadata": {},
   "source": [
    "# Train model"
   ]
  },
  {
   "cell_type": "code",
   "execution_count": 13,
   "metadata": {
    "scrolled": false
   },
   "outputs": [
    {
     "name": "stdout",
     "output_type": "stream",
     "text": [
      "loading annotations into memory...\n",
      "Done (t=0.38s)\n",
      "creating index...\n",
      "index created!\n"
     ]
    },
    {
     "name": "stderr",
     "output_type": "stream",
     "text": [
      "2020-12-30 10:04:03,178 - mmdet - INFO - load model from: torchvision://resnet50\n",
      "2020-12-30 10:04:03,357 - mmdet - WARNING - The model and loaded state dict do not match exactly\n",
      "\n",
      "unexpected key in source state_dict: fc.weight, fc.bias\n",
      "\n"
     ]
    },
    {
     "name": "stdout",
     "output_type": "stream",
     "text": [
      "loading annotations into memory...\n"
     ]
    },
    {
     "name": "stderr",
     "output_type": "stream",
     "text": [
      "2020-12-30 10:04:07,595 - mmdet - INFO - load checkpoint from http://download.openmmlab.com/mmdetection/v2.0/cascade_rcnn/cascade_rcnn_r50_fpn_1x_coco/cascade_rcnn_r50_fpn_1x_coco_20200316-3dc56deb.pth\n"
     ]
    },
    {
     "name": "stdout",
     "output_type": "stream",
     "text": [
      "Done (t=0.23s)\n",
      "creating index...\n",
      "index created!\n"
     ]
    },
    {
     "name": "stderr",
     "output_type": "stream",
     "text": [
      "2020-12-30 10:04:07,892 - mmdet - WARNING - The model and loaded state dict do not match exactly\n",
      "\n",
      "unexpected key in source state_dict: roi_head.bbox_head.0.fc_cls.weight, roi_head.bbox_head.0.fc_cls.bias, roi_head.bbox_head.0.fc_reg.weight, roi_head.bbox_head.0.fc_reg.bias, roi_head.bbox_head.0.shared_fcs.0.weight, roi_head.bbox_head.0.shared_fcs.0.bias, roi_head.bbox_head.0.shared_fcs.1.weight, roi_head.bbox_head.0.shared_fcs.1.bias, roi_head.bbox_head.1.fc_cls.weight, roi_head.bbox_head.1.fc_cls.bias, roi_head.bbox_head.1.fc_reg.weight, roi_head.bbox_head.1.fc_reg.bias, roi_head.bbox_head.1.shared_fcs.0.weight, roi_head.bbox_head.1.shared_fcs.0.bias, roi_head.bbox_head.1.shared_fcs.1.weight, roi_head.bbox_head.1.shared_fcs.1.bias, roi_head.bbox_head.2.fc_cls.weight, roi_head.bbox_head.2.fc_cls.bias, roi_head.bbox_head.2.fc_reg.weight, roi_head.bbox_head.2.fc_reg.bias, roi_head.bbox_head.2.shared_fcs.0.weight, roi_head.bbox_head.2.shared_fcs.0.bias, roi_head.bbox_head.2.shared_fcs.1.weight, roi_head.bbox_head.2.shared_fcs.1.bias\n",
      "\n",
      "missing keys in source state_dict: roi_head.bbox_head.fc_cls.weight, roi_head.bbox_head.fc_cls.bias, roi_head.bbox_head.fc_reg.weight, roi_head.bbox_head.fc_reg.bias, roi_head.bbox_head.shared_fcs.0.weight, roi_head.bbox_head.shared_fcs.0.bias, roi_head.bbox_head.shared_fcs.1.weight, roi_head.bbox_head.shared_fcs.1.bias\n",
      "\n",
      "2020-12-30 10:04:07,900 - mmdet - INFO - Start running, host: thinh@kelab-Z270X-Ultra-Gaming, work_dir: /home/thinh/notebooks/nfl/mmdet\n",
      "2020-12-30 10:04:07,900 - mmdet - INFO - workflow: [('train', 1)], max: 30 epochs\n",
      "2020-12-30 10:05:15,968 - mmdet - INFO - Epoch [1][50/2001]\tlr: 4.945e-04, eta: 22:35:08, time: 1.356, data_time: 0.057, memory: 6189, loss_rpn_cls: 0.1096, loss_rpn_bbox: 0.0892, loss_cls: 1.5791, acc: 71.8398, loss_bbox: 0.3791, loss: 2.1570\n",
      "2020-12-30 10:06:21,848 - mmdet - INFO - Epoch [1][100/2001]\tlr: 9.940e-04, eta: 22:14:57, time: 1.317, data_time: 0.013, memory: 6189, loss_rpn_cls: 0.0450, loss_rpn_bbox: 0.0784, loss_cls: 0.3654, acc: 87.4824, loss_bbox: 0.5450, loss: 1.0338\n",
      "2020-12-30 10:07:27,599 - mmdet - INFO - Epoch [1][150/2001]\tlr: 1.494e-03, eta: 22:06:50, time: 1.315, data_time: 0.013, memory: 6189, loss_rpn_cls: 0.0289, loss_rpn_bbox: 0.0752, loss_cls: 0.3160, acc: 87.9951, loss_bbox: 0.5449, loss: 0.9649\n",
      "2020-12-30 10:08:33,237 - mmdet - INFO - Epoch [1][200/2001]\tlr: 1.993e-03, eta: 22:01:28, time: 1.312, data_time: 0.013, memory: 6189, loss_rpn_cls: 0.0200, loss_rpn_bbox: 0.0630, loss_cls: 0.2841, acc: 89.3184, loss_bbox: 0.4883, loss: 0.8554\n",
      "2020-12-30 10:09:38,811 - mmdet - INFO - Epoch [1][250/2001]\tlr: 2.493e-03, eta: 21:57:37, time: 1.311, data_time: 0.014, memory: 6189, loss_rpn_cls: 0.0200, loss_rpn_bbox: 0.0644, loss_cls: 0.2795, acc: 89.4414, loss_bbox: 0.4799, loss: 0.8438\n",
      "2020-12-30 10:10:45,331 - mmdet - INFO - Epoch [1][300/2001]\tlr: 2.992e-03, eta: 21:57:48, time: 1.330, data_time: 0.015, memory: 6189, loss_rpn_cls: 0.0158, loss_rpn_bbox: 0.0756, loss_cls: 0.2826, acc: 89.2266, loss_bbox: 0.4778, loss: 0.8518\n",
      "2020-12-30 10:11:51,696 - mmdet - INFO - Epoch [1][350/2001]\tlr: 3.492e-03, eta: 21:57:13, time: 1.327, data_time: 0.014, memory: 6189, loss_rpn_cls: 0.0162, loss_rpn_bbox: 0.0600, loss_cls: 0.2583, acc: 90.1738, loss_bbox: 0.4433, loss: 0.7778\n",
      "2020-12-30 10:12:57,715 - mmdet - INFO - Epoch [1][400/2001]\tlr: 3.991e-03, eta: 21:55:36, time: 1.320, data_time: 0.013, memory: 6189, loss_rpn_cls: 0.0159, loss_rpn_bbox: 0.0705, loss_cls: 0.2852, acc: 89.0898, loss_bbox: 0.4655, loss: 0.8371\n",
      "2020-12-30 10:14:04,043 - mmdet - INFO - Epoch [1][450/2001]\tlr: 4.491e-03, eta: 21:54:52, time: 1.327, data_time: 0.014, memory: 6189, loss_rpn_cls: 0.0136, loss_rpn_bbox: 0.0657, loss_cls: 0.2401, acc: 90.9248, loss_bbox: 0.4078, loss: 0.7273\n",
      "2020-12-30 10:14:53,641 - mmdet - INFO - Epoch [1][500/2001]\tlr: 4.990e-03, eta: 21:20:58, time: 0.994, data_time: 0.013, memory: 6189, loss_rpn_cls: 0.0160, loss_rpn_bbox: 0.0615, loss_cls: 0.2613, acc: 90.1172, loss_bbox: 0.4233, loss: 0.7620\n",
      "2020-12-30 10:15:33,817 - mmdet - INFO - Epoch [1][550/2001]\tlr: 5.000e-03, eta: 20:35:56, time: 0.803, data_time: 0.011, memory: 6189, loss_rpn_cls: 0.0125, loss_rpn_bbox: 0.0572, loss_cls: 0.2329, acc: 90.9971, loss_bbox: 0.4129, loss: 0.7155\n",
      "2020-12-30 10:16:13,970 - mmdet - INFO - Epoch [1][600/2001]\tlr: 5.000e-03, eta: 19:58:17, time: 0.803, data_time: 0.011, memory: 6189, loss_rpn_cls: 0.0123, loss_rpn_bbox: 0.0613, loss_cls: 0.2376, acc: 90.8945, loss_bbox: 0.4022, loss: 0.7134\n",
      "2020-12-30 10:16:54,605 - mmdet - INFO - Epoch [1][650/2001]\tlr: 5.000e-03, eta: 19:27:03, time: 0.813, data_time: 0.011, memory: 6189, loss_rpn_cls: 0.0126, loss_rpn_bbox: 0.0537, loss_cls: 0.2288, acc: 91.0977, loss_bbox: 0.3912, loss: 0.6863\n",
      "2020-12-30 10:17:34,865 - mmdet - INFO - Epoch [1][700/2001]\tlr: 5.000e-03, eta: 18:59:38, time: 0.805, data_time: 0.011, memory: 6189, loss_rpn_cls: 0.0104, loss_rpn_bbox: 0.0567, loss_cls: 0.2099, acc: 92.1084, loss_bbox: 0.3942, loss: 0.6713\n",
      "2020-12-30 10:18:15,118 - mmdet - INFO - Epoch [1][750/2001]\tlr: 5.000e-03, eta: 18:35:48, time: 0.805, data_time: 0.011, memory: 6189, loss_rpn_cls: 0.0127, loss_rpn_bbox: 0.0513, loss_cls: 0.2264, acc: 91.2510, loss_bbox: 0.3808, loss: 0.6711\n",
      "2020-12-30 10:18:54,953 - mmdet - INFO - Epoch [1][800/2001]\tlr: 5.000e-03, eta: 18:14:20, time: 0.796, data_time: 0.011, memory: 6189, loss_rpn_cls: 0.0139, loss_rpn_bbox: 0.0536, loss_cls: 0.2140, acc: 91.8975, loss_bbox: 0.3679, loss: 0.6494\n",
      "2020-12-30 10:19:35,010 - mmdet - INFO - Epoch [1][850/2001]\tlr: 5.000e-03, eta: 17:55:34, time: 0.801, data_time: 0.011, memory: 6189, loss_rpn_cls: 0.0094, loss_rpn_bbox: 0.0495, loss_cls: 0.2102, acc: 92.0752, loss_bbox: 0.3696, loss: 0.6388\n",
      "2020-12-30 10:20:15,216 - mmdet - INFO - Epoch [1][900/2001]\tlr: 5.000e-03, eta: 17:38:59, time: 0.804, data_time: 0.011, memory: 6189, loss_rpn_cls: 0.0139, loss_rpn_bbox: 0.0563, loss_cls: 0.2070, acc: 92.1074, loss_bbox: 0.3642, loss: 0.6415\n",
      "2020-12-30 10:20:55,771 - mmdet - INFO - Epoch [1][950/2001]\tlr: 5.000e-03, eta: 17:24:26, time: 0.811, data_time: 0.011, memory: 6189, loss_rpn_cls: 0.0105, loss_rpn_bbox: 0.0541, loss_cls: 0.2070, acc: 92.1104, loss_bbox: 0.3662, loss: 0.6377\n",
      "2020-12-30 10:21:36,143 - mmdet - INFO - Epoch [1][1000/2001]\tlr: 5.000e-03, eta: 17:11:05, time: 0.807, data_time: 0.011, memory: 6189, loss_rpn_cls: 0.0098, loss_rpn_bbox: 0.0565, loss_cls: 0.2196, acc: 91.4668, loss_bbox: 0.3789, loss: 0.6647\n",
      "2020-12-30 10:22:16,839 - mmdet - INFO - Epoch [1][1050/2001]\tlr: 5.000e-03, eta: 16:59:16, time: 0.814, data_time: 0.011, memory: 6189, loss_rpn_cls: 0.0107, loss_rpn_bbox: 0.0516, loss_cls: 0.2100, acc: 91.9688, loss_bbox: 0.3473, loss: 0.6196\n",
      "2020-12-30 10:22:57,242 - mmdet - INFO - Epoch [1][1100/2001]\tlr: 5.000e-03, eta: 16:48:10, time: 0.808, data_time: 0.011, memory: 6189, loss_rpn_cls: 0.0092, loss_rpn_bbox: 0.0507, loss_cls: 0.2113, acc: 91.8271, loss_bbox: 0.3607, loss: 0.6319\n",
      "2020-12-30 10:23:37,782 - mmdet - INFO - Epoch [1][1150/2001]\tlr: 5.000e-03, eta: 16:38:07, time: 0.811, data_time: 0.011, memory: 6189, loss_rpn_cls: 0.0092, loss_rpn_bbox: 0.0501, loss_cls: 0.2086, acc: 91.8682, loss_bbox: 0.3499, loss: 0.6178\n",
      "2020-12-30 10:24:17,928 - mmdet - INFO - Epoch [1][1200/2001]\tlr: 5.000e-03, eta: 16:28:31, time: 0.803, data_time: 0.011, memory: 6189, loss_rpn_cls: 0.0107, loss_rpn_bbox: 0.0484, loss_cls: 0.1964, acc: 92.3779, loss_bbox: 0.3412, loss: 0.5967\n",
      "2020-12-30 10:24:58,254 - mmdet - INFO - Epoch [1][1250/2001]\tlr: 5.000e-03, eta: 16:19:46, time: 0.806, data_time: 0.011, memory: 6189, loss_rpn_cls: 0.0093, loss_rpn_bbox: 0.0517, loss_cls: 0.2024, acc: 92.1855, loss_bbox: 0.3490, loss: 0.6123\n",
      "2020-12-30 10:25:38,555 - mmdet - INFO - Epoch [1][1300/2001]\tlr: 5.000e-03, eta: 16:11:38, time: 0.806, data_time: 0.011, memory: 6189, loss_rpn_cls: 0.0085, loss_rpn_bbox: 0.0528, loss_cls: 0.2011, acc: 92.1875, loss_bbox: 0.3485, loss: 0.6110\n",
      "2020-12-30 10:26:19,170 - mmdet - INFO - Epoch [1][1350/2001]\tlr: 5.000e-03, eta: 16:04:16, time: 0.812, data_time: 0.011, memory: 6189, loss_rpn_cls: 0.0097, loss_rpn_bbox: 0.0487, loss_cls: 0.1917, acc: 92.5752, loss_bbox: 0.3403, loss: 0.5904\n"
     ]
    },
    {
     "name": "stderr",
     "output_type": "stream",
     "text": [
      "2020-12-30 10:26:59,530 - mmdet - INFO - Epoch [1][1400/2001]\tlr: 5.000e-03, eta: 15:57:13, time: 0.807, data_time: 0.011, memory: 6189, loss_rpn_cls: 0.0098, loss_rpn_bbox: 0.0496, loss_cls: 0.1965, acc: 92.3535, loss_bbox: 0.3420, loss: 0.5979\n",
      "2020-12-30 10:27:40,334 - mmdet - INFO - Epoch [1][1450/2001]\tlr: 5.000e-03, eta: 15:50:54, time: 0.816, data_time: 0.011, memory: 6189, loss_rpn_cls: 0.0089, loss_rpn_bbox: 0.0493, loss_cls: 0.1929, acc: 92.5469, loss_bbox: 0.3441, loss: 0.5952\n",
      "2020-12-30 10:28:21,043 - mmdet - INFO - Epoch [1][1500/2001]\tlr: 5.000e-03, eta: 15:44:53, time: 0.814, data_time: 0.011, memory: 6189, loss_rpn_cls: 0.0092, loss_rpn_bbox: 0.0490, loss_cls: 0.2021, acc: 92.4727, loss_bbox: 0.3306, loss: 0.5909\n",
      "2020-12-30 10:29:01,381 - mmdet - INFO - Epoch [1][1550/2001]\tlr: 5.000e-03, eta: 15:38:59, time: 0.807, data_time: 0.011, memory: 6189, loss_rpn_cls: 0.0113, loss_rpn_bbox: 0.0490, loss_cls: 0.1915, acc: 92.6455, loss_bbox: 0.3288, loss: 0.5806\n",
      "2020-12-30 10:29:41,713 - mmdet - INFO - Epoch [1][1600/2001]\tlr: 5.000e-03, eta: 15:33:25, time: 0.807, data_time: 0.011, memory: 6189, loss_rpn_cls: 0.0082, loss_rpn_bbox: 0.0515, loss_cls: 0.1922, acc: 92.5264, loss_bbox: 0.3337, loss: 0.5855\n",
      "2020-12-30 10:30:22,189 - mmdet - INFO - Epoch [1][1650/2001]\tlr: 5.000e-03, eta: 15:28:14, time: 0.810, data_time: 0.011, memory: 6189, loss_rpn_cls: 0.0074, loss_rpn_bbox: 0.0465, loss_cls: 0.1870, acc: 92.7861, loss_bbox: 0.3370, loss: 0.5780\n",
      "2020-12-30 10:31:02,450 - mmdet - INFO - Epoch [1][1700/2001]\tlr: 5.000e-03, eta: 15:23:11, time: 0.805, data_time: 0.011, memory: 6189, loss_rpn_cls: 0.0083, loss_rpn_bbox: 0.0461, loss_cls: 0.1863, acc: 92.8682, loss_bbox: 0.3354, loss: 0.5762\n",
      "2020-12-30 10:31:42,949 - mmdet - INFO - Epoch [1][1750/2001]\tlr: 5.000e-03, eta: 15:18:31, time: 0.810, data_time: 0.011, memory: 6189, loss_rpn_cls: 0.0097, loss_rpn_bbox: 0.0473, loss_cls: 0.1874, acc: 92.7070, loss_bbox: 0.3216, loss: 0.5660\n",
      "2020-12-30 10:32:23,506 - mmdet - INFO - Epoch [1][1800/2001]\tlr: 5.000e-03, eta: 15:14:06, time: 0.811, data_time: 0.011, memory: 6189, loss_rpn_cls: 0.0083, loss_rpn_bbox: 0.0471, loss_cls: 0.1827, acc: 93.0127, loss_bbox: 0.3271, loss: 0.5653\n",
      "2020-12-30 10:33:04,473 - mmdet - INFO - Epoch [1][1850/2001]\tlr: 5.000e-03, eta: 15:10:06, time: 0.819, data_time: 0.011, memory: 6189, loss_rpn_cls: 0.0082, loss_rpn_bbox: 0.0498, loss_cls: 0.1883, acc: 92.7129, loss_bbox: 0.3362, loss: 0.5825\n",
      "2020-12-30 10:33:45,226 - mmdet - INFO - Epoch [1][1900/2001]\tlr: 5.000e-03, eta: 15:06:10, time: 0.815, data_time: 0.011, memory: 6189, loss_rpn_cls: 0.0095, loss_rpn_bbox: 0.0464, loss_cls: 0.1918, acc: 92.6270, loss_bbox: 0.3382, loss: 0.5859\n",
      "2020-12-30 10:34:25,990 - mmdet - INFO - Epoch [1][1950/2001]\tlr: 5.000e-03, eta: 15:02:25, time: 0.815, data_time: 0.011, memory: 6189, loss_rpn_cls: 0.0080, loss_rpn_bbox: 0.0437, loss_cls: 0.1822, acc: 92.8857, loss_bbox: 0.3153, loss: 0.5493\n",
      "2020-12-30 10:35:06,724 - mmdet - INFO - Epoch [1][2000/2001]\tlr: 5.000e-03, eta: 14:58:47, time: 0.814, data_time: 0.010, memory: 6189, loss_rpn_cls: 0.0094, loss_rpn_bbox: 0.0456, loss_cls: 0.1850, acc: 93.1758, loss_bbox: 0.3234, loss: 0.5635\n",
      "2020-12-30 10:35:07,428 - mmdet - INFO - Saving checkpoint at 1 epochs\n"
     ]
    },
    {
     "name": "stdout",
     "output_type": "stream",
     "text": [
      "[>>>>>>>>>>>>>>>>>>>>>>>>>>] 2013/2013, 11.3 task/s, elapsed: 179s, ETA:     0s"
     ]
    },
    {
     "name": "stderr",
     "output_type": "stream",
     "text": [
      "2020-12-30 10:38:06,662 - mmdet - INFO - \n",
      "Evaluateing mmdet/valid_44.json with 2013 images now\n",
      "2020-12-30 10:38:07,353 - mmdet - INFO - Evaluating bbox...\n"
     ]
    },
    {
     "name": "stdout",
     "output_type": "stream",
     "text": [
      "Loading and preparing results...\n",
      "DONE (t=0.40s)\n",
      "creating index...\n",
      "index created!\n",
      "Running per image evaluation...\n",
      "Evaluate annotation type *bbox*\n",
      "DONE (t=16.66s).\n",
      "Accumulating evaluation results...\n"
     ]
    },
    {
     "name": "stderr",
     "output_type": "stream",
     "text": [
      "2020-12-30 10:38:25,234 - mmdet - INFO - Epoch(val) [1][2001]\t0_bbox_mAP: 0.2720, 0_bbox_mAP_50: 0.4760, 0_bbox_mAP_75: 0.2890, 0_bbox_mAP_s: 0.2670, 0_bbox_mAP_m: 0.4970, 0_bbox_mAP_l: -1.0000, 0_bbox_mAP_copypaste: 0.272 0.476 0.289 0.267 0.497 -1.000\n"
     ]
    },
    {
     "name": "stdout",
     "output_type": "stream",
     "text": [
      "DONE (t=0.74s).\n",
      "Average Precision  (AP) @[ IoU=0.50:0.95 | area=   all | maxDets=100 ] = 0.272\n",
      "Average Precision  (AP) @[ IoU=0.50      | area=   all | maxDets=1000 ] = 0.476\n",
      "Average Precision  (AP) @[ IoU=0.75      | area=   all | maxDets=1000 ] = 0.289\n",
      "Average Precision  (AP) @[ IoU=0.50:0.95 | area= small | maxDets=1000 ] = 0.267\n",
      "Average Precision  (AP) @[ IoU=0.50:0.95 | area=medium | maxDets=1000 ] = 0.497\n",
      "Average Precision  (AP) @[ IoU=0.50:0.95 | area= large | maxDets=1000 ] = -1.000\n",
      "Average Recall     (AR) @[ IoU=0.50:0.95 | area=   all | maxDets=100 ] = 0.353\n",
      "Average Recall     (AR) @[ IoU=0.50:0.95 | area=   all | maxDets=300 ] = 0.353\n",
      "Average Recall     (AR) @[ IoU=0.50:0.95 | area=   all | maxDets=1000 ] = 0.353\n",
      "Average Recall     (AR) @[ IoU=0.50:0.95 | area= small | maxDets=1000 ] = 0.348\n",
      "Average Recall     (AR) @[ IoU=0.50:0.95 | area=medium | maxDets=1000 ] = 0.535\n",
      "Average Recall     (AR) @[ IoU=0.50:0.95 | area= large | maxDets=1000 ] = -1.000\n"
     ]
    },
    {
     "name": "stderr",
     "output_type": "stream",
     "text": [
      "2020-12-30 10:39:08,198 - mmdet - INFO - Epoch [2][50/2001]\tlr: 5.000e-03, eta: 14:55:48, time: 0.855, data_time: 0.055, memory: 6189, loss_rpn_cls: 0.0082, loss_rpn_bbox: 0.0455, loss_cls: 0.1844, acc: 92.9541, loss_bbox: 0.3316, loss: 0.5697\n",
      "2020-12-30 10:39:48,783 - mmdet - INFO - Epoch [2][100/2001]\tlr: 5.000e-03, eta: 14:52:23, time: 0.812, data_time: 0.010, memory: 6189, loss_rpn_cls: 0.0077, loss_rpn_bbox: 0.0409, loss_cls: 0.1841, acc: 92.9482, loss_bbox: 0.3245, loss: 0.5572\n",
      "2020-12-30 10:40:29,545 - mmdet - INFO - Epoch [2][150/2001]\tlr: 5.000e-03, eta: 14:49:10, time: 0.815, data_time: 0.010, memory: 6189, loss_rpn_cls: 0.0065, loss_rpn_bbox: 0.0450, loss_cls: 0.1861, acc: 93.0410, loss_bbox: 0.3346, loss: 0.5722\n",
      "2020-12-30 10:41:10,103 - mmdet - INFO - Epoch [2][200/2001]\tlr: 5.000e-03, eta: 14:45:59, time: 0.811, data_time: 0.010, memory: 6189, loss_rpn_cls: 0.0061, loss_rpn_bbox: 0.0454, loss_cls: 0.1833, acc: 92.9023, loss_bbox: 0.3304, loss: 0.5652\n",
      "2020-12-30 10:41:50,535 - mmdet - INFO - Epoch [2][250/2001]\tlr: 5.000e-03, eta: 14:42:51, time: 0.809, data_time: 0.010, memory: 6189, loss_rpn_cls: 0.0076, loss_rpn_bbox: 0.0423, loss_cls: 0.1820, acc: 93.0664, loss_bbox: 0.3263, loss: 0.5582\n",
      "2020-12-30 10:42:30,971 - mmdet - INFO - Epoch [2][300/2001]\tlr: 5.000e-03, eta: 14:39:49, time: 0.808, data_time: 0.010, memory: 6189, loss_rpn_cls: 0.0083, loss_rpn_bbox: 0.0438, loss_cls: 0.1797, acc: 93.0908, loss_bbox: 0.3145, loss: 0.5463\n",
      "2020-12-30 10:43:11,745 - mmdet - INFO - Epoch [2][350/2001]\tlr: 5.000e-03, eta: 14:37:03, time: 0.816, data_time: 0.011, memory: 6189, loss_rpn_cls: 0.0064, loss_rpn_bbox: 0.0423, loss_cls: 0.1855, acc: 92.9375, loss_bbox: 0.3223, loss: 0.5565\n",
      "2020-12-30 10:43:52,460 - mmdet - INFO - Epoch [2][400/2001]\tlr: 5.000e-03, eta: 14:34:19, time: 0.814, data_time: 0.010, memory: 6189, loss_rpn_cls: 0.0076, loss_rpn_bbox: 0.0438, loss_cls: 0.1829, acc: 92.9727, loss_bbox: 0.3209, loss: 0.5552\n",
      "2020-12-30 10:44:32,975 - mmdet - INFO - Epoch [2][450/2001]\tlr: 5.000e-03, eta: 14:31:36, time: 0.811, data_time: 0.010, memory: 6189, loss_rpn_cls: 0.0073, loss_rpn_bbox: 0.0450, loss_cls: 0.1796, acc: 93.1973, loss_bbox: 0.3137, loss: 0.5456\n",
      "2020-12-30 10:45:13,365 - mmdet - INFO - Epoch [2][500/2001]\tlr: 5.000e-03, eta: 14:28:55, time: 0.808, data_time: 0.010, memory: 6189, loss_rpn_cls: 0.0067, loss_rpn_bbox: 0.0427, loss_cls: 0.1791, acc: 93.1152, loss_bbox: 0.3019, loss: 0.5304\n",
      "2020-12-30 10:45:54,126 - mmdet - INFO - Epoch [2][550/2001]\tlr: 5.000e-03, eta: 14:26:27, time: 0.815, data_time: 0.011, memory: 6189, loss_rpn_cls: 0.0071, loss_rpn_bbox: 0.0460, loss_cls: 0.1744, acc: 93.3936, loss_bbox: 0.3089, loss: 0.5364\n",
      "2020-12-30 10:46:34,924 - mmdet - INFO - Epoch [2][600/2001]\tlr: 5.000e-03, eta: 14:24:05, time: 0.816, data_time: 0.010, memory: 6189, loss_rpn_cls: 0.0063, loss_rpn_bbox: 0.0439, loss_cls: 0.1806, acc: 93.1279, loss_bbox: 0.3042, loss: 0.5350\n",
      "2020-12-30 10:47:15,846 - mmdet - INFO - Epoch [2][650/2001]\tlr: 5.000e-03, eta: 14:21:48, time: 0.818, data_time: 0.010, memory: 6189, loss_rpn_cls: 0.0077, loss_rpn_bbox: 0.0463, loss_cls: 0.1706, acc: 93.5078, loss_bbox: 0.3069, loss: 0.5315\n",
      "2020-12-30 10:47:56,636 - mmdet - INFO - Epoch [2][700/2001]\tlr: 5.000e-03, eta: 14:19:32, time: 0.816, data_time: 0.010, memory: 6189, loss_rpn_cls: 0.0076, loss_rpn_bbox: 0.0482, loss_cls: 0.1751, acc: 93.2500, loss_bbox: 0.3230, loss: 0.5539\n",
      "2020-12-30 10:48:37,397 - mmdet - INFO - Epoch [2][750/2001]\tlr: 5.000e-03, eta: 14:17:20, time: 0.815, data_time: 0.011, memory: 6189, loss_rpn_cls: 0.0063, loss_rpn_bbox: 0.0439, loss_cls: 0.1773, acc: 93.3770, loss_bbox: 0.3076, loss: 0.5351\n",
      "2020-12-30 10:49:18,117 - mmdet - INFO - Epoch [2][800/2001]\tlr: 5.000e-03, eta: 14:15:09, time: 0.814, data_time: 0.010, memory: 6189, loss_rpn_cls: 0.0066, loss_rpn_bbox: 0.0464, loss_cls: 0.1726, acc: 93.6436, loss_bbox: 0.3003, loss: 0.5259\n",
      "2020-12-30 10:49:59,080 - mmdet - INFO - Epoch [2][850/2001]\tlr: 5.000e-03, eta: 14:13:07, time: 0.819, data_time: 0.010, memory: 6189, loss_rpn_cls: 0.0066, loss_rpn_bbox: 0.0418, loss_cls: 0.1919, acc: 93.4395, loss_bbox: 0.3029, loss: 0.5432\n",
      "2020-12-30 10:50:39,355 - mmdet - INFO - Epoch [2][900/2001]\tlr: 5.000e-03, eta: 14:10:54, time: 0.806, data_time: 0.011, memory: 6189, loss_rpn_cls: 0.0074, loss_rpn_bbox: 0.0437, loss_cls: 0.1776, acc: 93.5879, loss_bbox: 0.2969, loss: 0.5256\n",
      "2020-12-30 10:51:19,970 - mmdet - INFO - Epoch [2][950/2001]\tlr: 5.000e-03, eta: 14:08:50, time: 0.812, data_time: 0.010, memory: 6189, loss_rpn_cls: 0.0067, loss_rpn_bbox: 0.0480, loss_cls: 0.1736, acc: 93.7305, loss_bbox: 0.3005, loss: 0.5288\n",
      "2020-12-30 10:52:00,871 - mmdet - INFO - Epoch [2][1000/2001]\tlr: 5.000e-03, eta: 14:06:55, time: 0.818, data_time: 0.010, memory: 6189, loss_rpn_cls: 0.0057, loss_rpn_bbox: 0.0430, loss_cls: 0.1764, acc: 93.5225, loss_bbox: 0.3007, loss: 0.5257\n",
      "2020-12-30 10:52:41,681 - mmdet - INFO - Epoch [2][1050/2001]\tlr: 5.000e-03, eta: 14:05:01, time: 0.816, data_time: 0.010, memory: 6189, loss_rpn_cls: 0.0064, loss_rpn_bbox: 0.0416, loss_cls: 0.1812, acc: 93.2139, loss_bbox: 0.3043, loss: 0.5335\n",
      "2020-12-30 10:53:22,449 - mmdet - INFO - Epoch [2][1100/2001]\tlr: 5.000e-03, eta: 14:03:08, time: 0.815, data_time: 0.010, memory: 6189, loss_rpn_cls: 0.0059, loss_rpn_bbox: 0.0447, loss_cls: 0.1940, acc: 92.9902, loss_bbox: 0.3187, loss: 0.5633\n",
      "2020-12-30 10:54:02,791 - mmdet - INFO - Epoch [2][1150/2001]\tlr: 5.000e-03, eta: 14:01:10, time: 0.807, data_time: 0.010, memory: 6189, loss_rpn_cls: 0.0065, loss_rpn_bbox: 0.0444, loss_cls: 0.1943, acc: 93.4502, loss_bbox: 0.3012, loss: 0.5464\n",
      "2020-12-30 10:54:43,560 - mmdet - INFO - Epoch [2][1200/2001]\tlr: 5.000e-03, eta: 13:59:21, time: 0.815, data_time: 0.011, memory: 6189, loss_rpn_cls: 0.0070, loss_rpn_bbox: 0.0456, loss_cls: 0.1797, acc: 93.2490, loss_bbox: 0.3058, loss: 0.5381\n",
      "2020-12-30 10:55:24,095 - mmdet - INFO - Epoch [2][1250/2001]\tlr: 5.000e-03, eta: 13:57:31, time: 0.811, data_time: 0.011, memory: 6189, loss_rpn_cls: 0.0063, loss_rpn_bbox: 0.0456, loss_cls: 0.1729, acc: 93.4033, loss_bbox: 0.3143, loss: 0.5391\n",
      "2020-12-30 10:56:05,062 - mmdet - INFO - Epoch [2][1300/2001]\tlr: 5.000e-03, eta: 13:55:50, time: 0.819, data_time: 0.011, memory: 6189, loss_rpn_cls: 0.0055, loss_rpn_bbox: 0.0435, loss_cls: 0.1772, acc: 93.4316, loss_bbox: 0.3063, loss: 0.5325\n",
      "2020-12-30 10:56:45,801 - mmdet - INFO - Epoch [2][1350/2001]\tlr: 5.000e-03, eta: 13:54:08, time: 0.815, data_time: 0.011, memory: 6189, loss_rpn_cls: 0.0060, loss_rpn_bbox: 0.0408, loss_cls: 0.1841, acc: 93.6289, loss_bbox: 0.2986, loss: 0.5295\n",
      "2020-12-30 10:57:26,391 - mmdet - INFO - Epoch [2][1400/2001]\tlr: 5.000e-03, eta: 13:52:24, time: 0.812, data_time: 0.011, memory: 6189, loss_rpn_cls: 0.0062, loss_rpn_bbox: 0.0459, loss_cls: 0.1733, acc: 93.5869, loss_bbox: 0.3073, loss: 0.5327\n",
      "2020-12-30 10:58:07,336 - mmdet - INFO - Epoch [2][1450/2001]\tlr: 5.000e-03, eta: 13:50:48, time: 0.819, data_time: 0.011, memory: 6189, loss_rpn_cls: 0.0058, loss_rpn_bbox: 0.0433, loss_cls: 0.1713, acc: 93.6162, loss_bbox: 0.2928, loss: 0.5132\n",
      "2020-12-30 10:58:48,106 - mmdet - INFO - Epoch [2][1500/2001]\tlr: 5.000e-03, eta: 13:49:11, time: 0.815, data_time: 0.010, memory: 6189, loss_rpn_cls: 0.0060, loss_rpn_bbox: 0.0416, loss_cls: 0.1742, acc: 93.5098, loss_bbox: 0.2932, loss: 0.5149\n",
      "2020-12-30 10:59:28,858 - mmdet - INFO - Epoch [2][1550/2001]\tlr: 5.000e-03, eta: 13:47:36, time: 0.815, data_time: 0.010, memory: 6189, loss_rpn_cls: 0.0064, loss_rpn_bbox: 0.0415, loss_cls: 0.1665, acc: 93.6465, loss_bbox: 0.2930, loss: 0.5073\n",
      "2020-12-30 11:00:09,520 - mmdet - INFO - Epoch [2][1600/2001]\tlr: 5.000e-03, eta: 13:46:00, time: 0.813, data_time: 0.011, memory: 6189, loss_rpn_cls: 0.0067, loss_rpn_bbox: 0.0392, loss_cls: 0.1739, acc: 93.6680, loss_bbox: 0.2897, loss: 0.5095\n",
      "2020-12-30 11:00:50,175 - mmdet - INFO - Epoch [2][1650/2001]\tlr: 5.000e-03, eta: 13:44:26, time: 0.813, data_time: 0.011, memory: 6189, loss_rpn_cls: 0.0059, loss_rpn_bbox: 0.0388, loss_cls: 0.1675, acc: 93.5527, loss_bbox: 0.3026, loss: 0.5148\n",
      "2020-12-30 11:01:30,919 - mmdet - INFO - Epoch [2][1700/2001]\tlr: 5.000e-03, eta: 13:42:54, time: 0.815, data_time: 0.011, memory: 6189, loss_rpn_cls: 0.0073, loss_rpn_bbox: 0.0434, loss_cls: 0.1814, acc: 93.7715, loss_bbox: 0.2967, loss: 0.5288\n"
     ]
    },
    {
     "name": "stderr",
     "output_type": "stream",
     "text": [
      "2020-12-30 11:02:11,602 - mmdet - INFO - Epoch [2][1750/2001]\tlr: 5.000e-03, eta: 13:41:23, time: 0.814, data_time: 0.010, memory: 6189, loss_rpn_cls: 0.0065, loss_rpn_bbox: 0.0424, loss_cls: 0.1836, acc: 93.9482, loss_bbox: 0.2904, loss: 0.5230\n",
      "2020-12-30 11:02:52,224 - mmdet - INFO - Epoch [2][1800/2001]\tlr: 5.000e-03, eta: 13:39:53, time: 0.812, data_time: 0.011, memory: 6189, loss_rpn_cls: 0.0089, loss_rpn_bbox: 0.0434, loss_cls: 0.1660, acc: 93.7627, loss_bbox: 0.2949, loss: 0.5133\n",
      "2020-12-30 11:03:33,076 - mmdet - INFO - Epoch [2][1850/2001]\tlr: 5.000e-03, eta: 13:38:27, time: 0.817, data_time: 0.011, memory: 6189, loss_rpn_cls: 0.0064, loss_rpn_bbox: 0.0425, loss_cls: 0.1654, acc: 93.7314, loss_bbox: 0.2986, loss: 0.5130\n",
      "2020-12-30 11:04:13,560 - mmdet - INFO - Epoch [2][1900/2001]\tlr: 5.000e-03, eta: 13:36:57, time: 0.810, data_time: 0.010, memory: 6189, loss_rpn_cls: 0.0062, loss_rpn_bbox: 0.0417, loss_cls: 0.1715, acc: 93.7432, loss_bbox: 0.2905, loss: 0.5098\n",
      "2020-12-30 11:04:54,256 - mmdet - INFO - Epoch [2][1950/2001]\tlr: 5.000e-03, eta: 13:35:31, time: 0.814, data_time: 0.010, memory: 6189, loss_rpn_cls: 0.0052, loss_rpn_bbox: 0.0424, loss_cls: 0.1833, acc: 93.6758, loss_bbox: 0.2953, loss: 0.5263\n",
      "2020-12-30 11:05:35,211 - mmdet - INFO - Epoch [2][2000/2001]\tlr: 5.000e-03, eta: 13:34:10, time: 0.819, data_time: 0.011, memory: 6189, loss_rpn_cls: 0.0056, loss_rpn_bbox: 0.0415, loss_cls: 0.1821, acc: 93.3398, loss_bbox: 0.2954, loss: 0.5246\n",
      "2020-12-30 11:05:35,917 - mmdet - INFO - Saving checkpoint at 2 epochs\n"
     ]
    },
    {
     "name": "stdout",
     "output_type": "stream",
     "text": [
      "[>>>>>>>>>>>>>>>>>>>>>>>>>>] 2013/2013, 11.2 task/s, elapsed: 179s, ETA:     0s"
     ]
    },
    {
     "name": "stderr",
     "output_type": "stream",
     "text": [
      "2020-12-30 11:08:35,662 - mmdet - INFO - \n",
      "Evaluateing mmdet/valid_44.json with 2013 images now\n",
      "2020-12-30 11:08:36,215 - mmdet - INFO - Evaluating bbox...\n"
     ]
    },
    {
     "name": "stdout",
     "output_type": "stream",
     "text": [
      "Loading and preparing results...\n",
      "DONE (t=0.33s)\n",
      "creating index...\n",
      "index created!\n",
      "Running per image evaluation...\n",
      "Evaluate annotation type *bbox*\n",
      "DONE (t=16.26s).\n",
      "Accumulating evaluation results...\n"
     ]
    },
    {
     "name": "stderr",
     "output_type": "stream",
     "text": [
      "2020-12-30 11:08:53,632 - mmdet - INFO - Epoch(val) [2][2001]\t0_bbox_mAP: 0.2600, 0_bbox_mAP_50: 0.4520, 0_bbox_mAP_75: 0.2870, 0_bbox_mAP_s: 0.2550, 0_bbox_mAP_m: 0.4570, 0_bbox_mAP_l: -1.0000, 0_bbox_mAP_copypaste: 0.260 0.452 0.287 0.255 0.457 -1.000\n"
     ]
    },
    {
     "name": "stdout",
     "output_type": "stream",
     "text": [
      "DONE (t=0.74s).\n",
      "Average Precision  (AP) @[ IoU=0.50:0.95 | area=   all | maxDets=100 ] = 0.260\n",
      "Average Precision  (AP) @[ IoU=0.50      | area=   all | maxDets=1000 ] = 0.452\n",
      "Average Precision  (AP) @[ IoU=0.75      | area=   all | maxDets=1000 ] = 0.287\n",
      "Average Precision  (AP) @[ IoU=0.50:0.95 | area= small | maxDets=1000 ] = 0.255\n",
      "Average Precision  (AP) @[ IoU=0.50:0.95 | area=medium | maxDets=1000 ] = 0.457\n",
      "Average Precision  (AP) @[ IoU=0.50:0.95 | area= large | maxDets=1000 ] = -1.000\n",
      "Average Recall     (AR) @[ IoU=0.50:0.95 | area=   all | maxDets=100 ] = 0.326\n",
      "Average Recall     (AR) @[ IoU=0.50:0.95 | area=   all | maxDets=300 ] = 0.326\n",
      "Average Recall     (AR) @[ IoU=0.50:0.95 | area=   all | maxDets=1000 ] = 0.326\n",
      "Average Recall     (AR) @[ IoU=0.50:0.95 | area= small | maxDets=1000 ] = 0.321\n",
      "Average Recall     (AR) @[ IoU=0.50:0.95 | area=medium | maxDets=1000 ] = 0.555\n",
      "Average Recall     (AR) @[ IoU=0.50:0.95 | area= large | maxDets=1000 ] = -1.000\n"
     ]
    },
    {
     "name": "stderr",
     "output_type": "stream",
     "text": [
      "2020-12-30 11:09:36,506 - mmdet - INFO - Epoch [3][50/2001]\tlr: 5.000e-03, eta: 13:33:01, time: 0.853, data_time: 0.056, memory: 6189, loss_rpn_cls: 0.0058, loss_rpn_bbox: 0.0387, loss_cls: 0.1865, acc: 94.0781, loss_bbox: 0.2813, loss: 0.5123\n",
      "2020-12-30 11:10:17,254 - mmdet - INFO - Epoch [3][100/2001]\tlr: 5.000e-03, eta: 13:31:38, time: 0.815, data_time: 0.010, memory: 6189, loss_rpn_cls: 0.0046, loss_rpn_bbox: 0.0369, loss_cls: 0.1809, acc: 93.6172, loss_bbox: 0.2947, loss: 0.5170\n",
      "2020-12-30 11:10:58,203 - mmdet - INFO - Epoch [3][150/2001]\tlr: 5.000e-03, eta: 13:30:20, time: 0.819, data_time: 0.011, memory: 6189, loss_rpn_cls: 0.0063, loss_rpn_bbox: 0.0405, loss_cls: 0.1640, acc: 94.0078, loss_bbox: 0.2855, loss: 0.4964\n",
      "2020-12-30 11:11:38,861 - mmdet - INFO - Epoch [3][200/2001]\tlr: 5.000e-03, eta: 13:28:59, time: 0.813, data_time: 0.010, memory: 6189, loss_rpn_cls: 0.0060, loss_rpn_bbox: 0.0409, loss_cls: 0.1703, acc: 94.1562, loss_bbox: 0.2852, loss: 0.5022\n",
      "2020-12-30 11:12:19,531 - mmdet - INFO - Epoch [3][250/2001]\tlr: 5.000e-03, eta: 13:27:39, time: 0.813, data_time: 0.011, memory: 6189, loss_rpn_cls: 0.0056, loss_rpn_bbox: 0.0422, loss_cls: 0.1743, acc: 93.9102, loss_bbox: 0.2964, loss: 0.5184\n",
      "2020-12-30 11:13:00,473 - mmdet - INFO - Epoch [3][300/2001]\tlr: 5.000e-03, eta: 13:26:23, time: 0.819, data_time: 0.010, memory: 6189, loss_rpn_cls: 0.0058, loss_rpn_bbox: 0.0416, loss_cls: 0.1570, acc: 93.9287, loss_bbox: 0.2931, loss: 0.4975\n",
      "2020-12-30 11:13:41,444 - mmdet - INFO - Epoch [3][350/2001]\tlr: 5.000e-03, eta: 13:25:08, time: 0.819, data_time: 0.011, memory: 6189, loss_rpn_cls: 0.0062, loss_rpn_bbox: 0.0420, loss_cls: 0.1606, acc: 93.8496, loss_bbox: 0.3006, loss: 0.5094\n",
      "2020-12-30 11:14:22,225 - mmdet - INFO - Epoch [3][400/2001]\tlr: 5.000e-03, eta: 13:23:52, time: 0.816, data_time: 0.011, memory: 6189, loss_rpn_cls: 0.0061, loss_rpn_bbox: 0.0432, loss_cls: 0.1565, acc: 94.1104, loss_bbox: 0.2874, loss: 0.4933\n",
      "2020-12-30 11:15:03,157 - mmdet - INFO - Epoch [3][450/2001]\tlr: 5.000e-03, eta: 13:22:38, time: 0.818, data_time: 0.010, memory: 6189, loss_rpn_cls: 0.0054, loss_rpn_bbox: 0.0395, loss_cls: 0.1686, acc: 93.9355, loss_bbox: 0.2928, loss: 0.5062\n",
      "2020-12-30 11:15:44,107 - mmdet - INFO - Epoch [3][500/2001]\tlr: 5.000e-03, eta: 13:21:26, time: 0.819, data_time: 0.010, memory: 6189, loss_rpn_cls: 0.0070, loss_rpn_bbox: 0.0400, loss_cls: 0.1594, acc: 94.1807, loss_bbox: 0.2849, loss: 0.4913\n",
      "2020-12-30 11:16:24,864 - mmdet - INFO - Epoch [3][550/2001]\tlr: 5.000e-03, eta: 13:20:11, time: 0.815, data_time: 0.010, memory: 6189, loss_rpn_cls: 0.0058, loss_rpn_bbox: 0.0407, loss_cls: 0.1579, acc: 94.3115, loss_bbox: 0.2777, loss: 0.4821\n",
      "2020-12-30 11:17:05,638 - mmdet - INFO - Epoch [3][600/2001]\tlr: 5.000e-03, eta: 13:18:58, time: 0.816, data_time: 0.010, memory: 6189, loss_rpn_cls: 0.0054, loss_rpn_bbox: 0.0376, loss_cls: 0.1566, acc: 94.0420, loss_bbox: 0.2827, loss: 0.4823\n",
      "2020-12-30 11:17:46,397 - mmdet - INFO - Epoch [3][650/2001]\tlr: 5.000e-03, eta: 13:17:45, time: 0.815, data_time: 0.010, memory: 6189, loss_rpn_cls: 0.0045, loss_rpn_bbox: 0.0408, loss_cls: 0.1554, acc: 93.8564, loss_bbox: 0.2986, loss: 0.4993\n",
      "2020-12-30 11:18:27,338 - mmdet - INFO - Epoch [3][700/2001]\tlr: 5.000e-03, eta: 13:16:35, time: 0.819, data_time: 0.011, memory: 6189, loss_rpn_cls: 0.0048, loss_rpn_bbox: 0.0411, loss_cls: 0.1538, acc: 94.0293, loss_bbox: 0.2898, loss: 0.4896\n",
      "2020-12-30 11:19:08,323 - mmdet - INFO - Epoch [3][750/2001]\tlr: 5.000e-03, eta: 13:15:26, time: 0.820, data_time: 0.011, memory: 6189, loss_rpn_cls: 0.0057, loss_rpn_bbox: 0.0368, loss_cls: 0.1524, acc: 94.1455, loss_bbox: 0.2801, loss: 0.4750\n",
      "2020-12-30 11:19:49,276 - mmdet - INFO - Epoch [3][800/2001]\tlr: 5.000e-03, eta: 13:14:18, time: 0.819, data_time: 0.010, memory: 6189, loss_rpn_cls: 0.0050, loss_rpn_bbox: 0.0419, loss_cls: 0.1584, acc: 93.9297, loss_bbox: 0.2978, loss: 0.5031\n",
      "2020-12-30 11:20:30,044 - mmdet - INFO - Epoch [3][850/2001]\tlr: 5.000e-03, eta: 13:13:07, time: 0.815, data_time: 0.010, memory: 6189, loss_rpn_cls: 0.0057, loss_rpn_bbox: 0.0396, loss_cls: 0.1533, acc: 94.3770, loss_bbox: 0.2747, loss: 0.4732\n",
      "2020-12-30 11:21:10,988 - mmdet - INFO - Epoch [3][900/2001]\tlr: 5.000e-03, eta: 13:12:00, time: 0.819, data_time: 0.010, memory: 6189, loss_rpn_cls: 0.0065, loss_rpn_bbox: 0.0412, loss_cls: 0.1517, acc: 94.0371, loss_bbox: 0.2854, loss: 0.4848\n",
      "2020-12-30 11:21:51,979 - mmdet - INFO - Epoch [3][950/2001]\tlr: 5.000e-03, eta: 13:10:53, time: 0.820, data_time: 0.010, memory: 6189, loss_rpn_cls: 0.0052, loss_rpn_bbox: 0.0408, loss_cls: 0.1488, acc: 94.1318, loss_bbox: 0.2873, loss: 0.4821\n",
      "2020-12-30 11:22:32,938 - mmdet - INFO - Epoch [3][1000/2001]\tlr: 5.000e-03, eta: 13:09:47, time: 0.819, data_time: 0.011, memory: 6189, loss_rpn_cls: 0.0052, loss_rpn_bbox: 0.0412, loss_cls: 0.1510, acc: 94.1240, loss_bbox: 0.2876, loss: 0.4850\n",
      "2020-12-30 11:23:13,875 - mmdet - INFO - Epoch [3][1050/2001]\tlr: 5.000e-03, eta: 13:08:41, time: 0.819, data_time: 0.010, memory: 6189, loss_rpn_cls: 0.0053, loss_rpn_bbox: 0.0434, loss_cls: 0.1525, acc: 94.0264, loss_bbox: 0.2910, loss: 0.4921\n",
      "2020-12-30 11:23:54,838 - mmdet - INFO - Epoch [3][1100/2001]\tlr: 5.000e-03, eta: 13:07:35, time: 0.819, data_time: 0.010, memory: 6189, loss_rpn_cls: 0.0047, loss_rpn_bbox: 0.0437, loss_cls: 0.1475, acc: 94.2354, loss_bbox: 0.2892, loss: 0.4851\n",
      "2020-12-30 11:24:35,426 - mmdet - INFO - Epoch [3][1150/2001]\tlr: 5.000e-03, eta: 13:06:26, time: 0.812, data_time: 0.011, memory: 6189, loss_rpn_cls: 0.0043, loss_rpn_bbox: 0.0374, loss_cls: 0.1465, acc: 94.4297, loss_bbox: 0.2756, loss: 0.4638\n",
      "2020-12-30 11:25:16,335 - mmdet - INFO - Epoch [3][1200/2001]\tlr: 5.000e-03, eta: 13:05:22, time: 0.818, data_time: 0.010, memory: 6189, loss_rpn_cls: 0.0047, loss_rpn_bbox: 0.0410, loss_cls: 0.1500, acc: 94.0811, loss_bbox: 0.2795, loss: 0.4751\n",
      "2020-12-30 11:25:57,319 - mmdet - INFO - Epoch [3][1250/2001]\tlr: 5.000e-03, eta: 13:04:18, time: 0.820, data_time: 0.010, memory: 6189, loss_rpn_cls: 0.0056, loss_rpn_bbox: 0.0400, loss_cls: 0.1487, acc: 94.2275, loss_bbox: 0.2812, loss: 0.4756\n",
      "2020-12-30 11:26:38,273 - mmdet - INFO - Epoch [3][1300/2001]\tlr: 5.000e-03, eta: 13:03:14, time: 0.819, data_time: 0.010, memory: 6189, loss_rpn_cls: 0.0064, loss_rpn_bbox: 0.0430, loss_cls: 0.1441, acc: 94.2881, loss_bbox: 0.2828, loss: 0.4763\n",
      "2020-12-30 11:27:19,223 - mmdet - INFO - Epoch [3][1350/2001]\tlr: 5.000e-03, eta: 13:02:11, time: 0.819, data_time: 0.011, memory: 6189, loss_rpn_cls: 0.0056, loss_rpn_bbox: 0.0366, loss_cls: 0.1466, acc: 94.2471, loss_bbox: 0.2680, loss: 0.4567\n",
      "2020-12-30 11:28:00,199 - mmdet - INFO - Epoch [3][1400/2001]\tlr: 5.000e-03, eta: 13:01:08, time: 0.819, data_time: 0.011, memory: 6189, loss_rpn_cls: 0.0047, loss_rpn_bbox: 0.0421, loss_cls: 0.1550, acc: 94.1787, loss_bbox: 0.2764, loss: 0.4782\n",
      "2020-12-30 11:28:41,141 - mmdet - INFO - Epoch [3][1450/2001]\tlr: 5.000e-03, eta: 13:00:06, time: 0.819, data_time: 0.011, memory: 6189, loss_rpn_cls: 0.0050, loss_rpn_bbox: 0.0388, loss_cls: 0.1434, acc: 94.4922, loss_bbox: 0.2678, loss: 0.4550\n",
      "2020-12-30 11:29:22,123 - mmdet - INFO - Epoch [3][1500/2001]\tlr: 5.000e-03, eta: 12:59:04, time: 0.820, data_time: 0.011, memory: 6189, loss_rpn_cls: 0.0046, loss_rpn_bbox: 0.0416, loss_cls: 0.1449, acc: 94.4619, loss_bbox: 0.2738, loss: 0.4649\n",
      "2020-12-30 11:30:03,086 - mmdet - INFO - Epoch [3][1550/2001]\tlr: 5.000e-03, eta: 12:58:03, time: 0.819, data_time: 0.010, memory: 6189, loss_rpn_cls: 0.0054, loss_rpn_bbox: 0.0378, loss_cls: 0.1385, acc: 94.5527, loss_bbox: 0.2743, loss: 0.4560\n",
      "2020-12-30 11:30:44,029 - mmdet - INFO - Epoch [3][1600/2001]\tlr: 5.000e-03, eta: 12:57:01, time: 0.819, data_time: 0.011, memory: 6189, loss_rpn_cls: 0.0047, loss_rpn_bbox: 0.0355, loss_cls: 0.1467, acc: 94.2051, loss_bbox: 0.2695, loss: 0.4564\n",
      "2020-12-30 11:31:24,805 - mmdet - INFO - Epoch [3][1650/2001]\tlr: 5.000e-03, eta: 12:55:59, time: 0.815, data_time: 0.010, memory: 6189, loss_rpn_cls: 0.0046, loss_rpn_bbox: 0.0366, loss_cls: 0.1495, acc: 94.0654, loss_bbox: 0.2743, loss: 0.4652\n",
      "2020-12-30 11:32:05,759 - mmdet - INFO - Epoch [3][1700/2001]\tlr: 5.000e-03, eta: 12:54:58, time: 0.819, data_time: 0.011, memory: 6189, loss_rpn_cls: 0.0055, loss_rpn_bbox: 0.0402, loss_cls: 0.1458, acc: 94.2373, loss_bbox: 0.2814, loss: 0.4729\n"
     ]
    },
    {
     "name": "stderr",
     "output_type": "stream",
     "text": [
      "2020-12-30 11:32:46,726 - mmdet - INFO - Epoch [3][1750/2001]\tlr: 5.000e-03, eta: 12:53:58, time: 0.819, data_time: 0.010, memory: 6189, loss_rpn_cls: 0.0051, loss_rpn_bbox: 0.0398, loss_cls: 0.1444, acc: 94.2510, loss_bbox: 0.2848, loss: 0.4741\n",
      "2020-12-30 11:33:27,675 - mmdet - INFO - Epoch [3][1800/2001]\tlr: 5.000e-03, eta: 12:52:58, time: 0.819, data_time: 0.011, memory: 6189, loss_rpn_cls: 0.0043, loss_rpn_bbox: 0.0388, loss_cls: 0.1398, acc: 94.4482, loss_bbox: 0.2729, loss: 0.4559\n",
      "2020-12-30 11:34:08,654 - mmdet - INFO - Epoch [3][1850/2001]\tlr: 5.000e-03, eta: 12:51:59, time: 0.820, data_time: 0.010, memory: 6189, loss_rpn_cls: 0.0055, loss_rpn_bbox: 0.0397, loss_cls: 0.1484, acc: 94.1221, loss_bbox: 0.2833, loss: 0.4769\n",
      "2020-12-30 11:34:49,577 - mmdet - INFO - Epoch [3][1900/2001]\tlr: 5.000e-03, eta: 12:51:00, time: 0.818, data_time: 0.010, memory: 6189, loss_rpn_cls: 0.0047, loss_rpn_bbox: 0.0400, loss_cls: 0.1464, acc: 94.2510, loss_bbox: 0.2891, loss: 0.4803\n",
      "2020-12-30 11:35:30,521 - mmdet - INFO - Epoch [3][1950/2001]\tlr: 5.000e-03, eta: 12:50:01, time: 0.819, data_time: 0.011, memory: 6189, loss_rpn_cls: 0.0047, loss_rpn_bbox: 0.0382, loss_cls: 0.1412, acc: 94.3809, loss_bbox: 0.2783, loss: 0.4624\n",
      "2020-12-30 11:36:11,370 - mmdet - INFO - Epoch [3][2000/2001]\tlr: 5.000e-03, eta: 12:49:01, time: 0.817, data_time: 0.011, memory: 6189, loss_rpn_cls: 0.0056, loss_rpn_bbox: 0.0402, loss_cls: 0.1441, acc: 94.3770, loss_bbox: 0.2795, loss: 0.4695\n",
      "2020-12-30 11:36:12,088 - mmdet - INFO - Saving checkpoint at 3 epochs\n"
     ]
    },
    {
     "name": "stdout",
     "output_type": "stream",
     "text": [
      "[>>>>>>>>>>>>>>>>>>>>>>>>>>] 2013/2013, 11.1 task/s, elapsed: 181s, ETA:     0s"
     ]
    },
    {
     "name": "stderr",
     "output_type": "stream",
     "text": [
      "2020-12-30 11:39:13,748 - mmdet - INFO - \n",
      "Evaluateing mmdet/valid_44.json with 2013 images now\n",
      "2020-12-30 11:39:14,267 - mmdet - INFO - Evaluating bbox...\n"
     ]
    },
    {
     "name": "stdout",
     "output_type": "stream",
     "text": [
      "Loading and preparing results...\n",
      "DONE (t=0.31s)\n",
      "creating index...\n",
      "index created!\n",
      "Running per image evaluation...\n",
      "Evaluate annotation type *bbox*\n",
      "DONE (t=14.49s).\n",
      "Accumulating evaluation results...\n"
     ]
    },
    {
     "name": "stderr",
     "output_type": "stream",
     "text": [
      "2020-12-30 11:39:29,924 - mmdet - INFO - Epoch(val) [3][2001]\t0_bbox_mAP: 0.2740, 0_bbox_mAP_50: 0.4690, 0_bbox_mAP_75: 0.2970, 0_bbox_mAP_s: 0.2690, 0_bbox_mAP_m: 0.4470, 0_bbox_mAP_l: -1.0000, 0_bbox_mAP_copypaste: 0.274 0.469 0.297 0.269 0.447 -1.000\n"
     ]
    },
    {
     "name": "stdout",
     "output_type": "stream",
     "text": [
      "DONE (t=0.77s).\n",
      "Average Precision  (AP) @[ IoU=0.50:0.95 | area=   all | maxDets=100 ] = 0.274\n",
      "Average Precision  (AP) @[ IoU=0.50      | area=   all | maxDets=1000 ] = 0.469\n",
      "Average Precision  (AP) @[ IoU=0.75      | area=   all | maxDets=1000 ] = 0.297\n",
      "Average Precision  (AP) @[ IoU=0.50:0.95 | area= small | maxDets=1000 ] = 0.269\n",
      "Average Precision  (AP) @[ IoU=0.50:0.95 | area=medium | maxDets=1000 ] = 0.447\n",
      "Average Precision  (AP) @[ IoU=0.50:0.95 | area= large | maxDets=1000 ] = -1.000\n",
      "Average Recall     (AR) @[ IoU=0.50:0.95 | area=   all | maxDets=100 ] = 0.354\n",
      "Average Recall     (AR) @[ IoU=0.50:0.95 | area=   all | maxDets=300 ] = 0.354\n",
      "Average Recall     (AR) @[ IoU=0.50:0.95 | area=   all | maxDets=1000 ] = 0.354\n",
      "Average Recall     (AR) @[ IoU=0.50:0.95 | area= small | maxDets=1000 ] = 0.350\n",
      "Average Recall     (AR) @[ IoU=0.50:0.95 | area=medium | maxDets=1000 ] = 0.496\n",
      "Average Recall     (AR) @[ IoU=0.50:0.95 | area= large | maxDets=1000 ] = -1.000\n"
     ]
    },
    {
     "name": "stderr",
     "output_type": "stream",
     "text": [
      "2020-12-30 11:40:13,198 - mmdet - INFO - Epoch [4][50/2001]\tlr: 5.000e-03, eta: 12:48:13, time: 0.861, data_time: 0.056, memory: 6189, loss_rpn_cls: 0.0055, loss_rpn_bbox: 0.0364, loss_cls: 0.1389, acc: 94.6104, loss_bbox: 0.2684, loss: 0.4492\n",
      "2020-12-30 11:40:53,934 - mmdet - INFO - Epoch [4][100/2001]\tlr: 5.000e-03, eta: 12:47:13, time: 0.815, data_time: 0.011, memory: 6189, loss_rpn_cls: 0.0053, loss_rpn_bbox: 0.0362, loss_cls: 0.1388, acc: 94.6035, loss_bbox: 0.2654, loss: 0.4457\n",
      "2020-12-30 11:41:34,908 - mmdet - INFO - Epoch [4][150/2001]\tlr: 5.000e-03, eta: 12:46:16, time: 0.820, data_time: 0.010, memory: 6189, loss_rpn_cls: 0.0048, loss_rpn_bbox: 0.0409, loss_cls: 0.1401, acc: 94.4814, loss_bbox: 0.2812, loss: 0.4669\n",
      "2020-12-30 11:42:15,722 - mmdet - INFO - Epoch [4][200/2001]\tlr: 5.000e-03, eta: 12:45:17, time: 0.816, data_time: 0.010, memory: 6189, loss_rpn_cls: 0.0041, loss_rpn_bbox: 0.0396, loss_cls: 0.1413, acc: 94.4863, loss_bbox: 0.2757, loss: 0.4607\n",
      "2020-12-30 11:42:56,625 - mmdet - INFO - Epoch [4][250/2001]\tlr: 5.000e-03, eta: 12:44:19, time: 0.818, data_time: 0.010, memory: 6189, loss_rpn_cls: 0.0039, loss_rpn_bbox: 0.0382, loss_cls: 0.1339, acc: 94.5127, loss_bbox: 0.2735, loss: 0.4495\n",
      "2020-12-30 11:43:37,544 - mmdet - INFO - Epoch [4][300/2001]\tlr: 5.000e-03, eta: 12:43:22, time: 0.818, data_time: 0.010, memory: 6189, loss_rpn_cls: 0.0039, loss_rpn_bbox: 0.0379, loss_cls: 0.1424, acc: 94.2764, loss_bbox: 0.2876, loss: 0.4717\n",
      "2020-12-30 11:44:18,533 - mmdet - INFO - Epoch [4][350/2001]\tlr: 5.000e-03, eta: 12:42:25, time: 0.820, data_time: 0.010, memory: 6189, loss_rpn_cls: 0.0045, loss_rpn_bbox: 0.0381, loss_cls: 0.1379, acc: 94.5156, loss_bbox: 0.2806, loss: 0.4612\n",
      "2020-12-30 11:44:59,490 - mmdet - INFO - Epoch [4][400/2001]\tlr: 5.000e-03, eta: 12:41:29, time: 0.819, data_time: 0.010, memory: 6189, loss_rpn_cls: 0.0051, loss_rpn_bbox: 0.0369, loss_cls: 0.1370, acc: 94.5459, loss_bbox: 0.2804, loss: 0.4594\n",
      "2020-12-30 11:45:40,463 - mmdet - INFO - Epoch [4][450/2001]\tlr: 5.000e-03, eta: 12:40:33, time: 0.819, data_time: 0.010, memory: 6189, loss_rpn_cls: 0.0050, loss_rpn_bbox: 0.0388, loss_cls: 0.1317, acc: 94.7627, loss_bbox: 0.2816, loss: 0.4571\n",
      "2020-12-30 11:46:21,430 - mmdet - INFO - Epoch [4][500/2001]\tlr: 5.000e-03, eta: 12:39:37, time: 0.819, data_time: 0.011, memory: 6189, loss_rpn_cls: 0.0039, loss_rpn_bbox: 0.0368, loss_cls: 0.1324, acc: 94.7275, loss_bbox: 0.2713, loss: 0.4443\n",
      "2020-12-30 11:47:02,409 - mmdet - INFO - Epoch [4][550/2001]\tlr: 5.000e-03, eta: 12:38:41, time: 0.820, data_time: 0.011, memory: 6189, loss_rpn_cls: 0.0051, loss_rpn_bbox: 0.0394, loss_cls: 0.1298, acc: 94.8740, loss_bbox: 0.2760, loss: 0.4504\n",
      "2020-12-30 11:47:43,341 - mmdet - INFO - Epoch [4][600/2001]\tlr: 5.000e-03, eta: 12:37:46, time: 0.819, data_time: 0.010, memory: 6189, loss_rpn_cls: 0.0039, loss_rpn_bbox: 0.0361, loss_cls: 0.1314, acc: 94.6807, loss_bbox: 0.2705, loss: 0.4419\n",
      "2020-12-30 11:48:24,319 - mmdet - INFO - Epoch [4][650/2001]\tlr: 5.000e-03, eta: 12:36:50, time: 0.820, data_time: 0.010, memory: 6189, loss_rpn_cls: 0.0054, loss_rpn_bbox: 0.0397, loss_cls: 0.1301, acc: 94.8232, loss_bbox: 0.2739, loss: 0.4491\n",
      "2020-12-30 11:49:05,257 - mmdet - INFO - Epoch [4][700/2001]\tlr: 5.000e-03, eta: 12:35:55, time: 0.819, data_time: 0.010, memory: 6189, loss_rpn_cls: 0.0048, loss_rpn_bbox: 0.0341, loss_cls: 0.1314, acc: 94.7344, loss_bbox: 0.2661, loss: 0.4364\n",
      "2020-12-30 11:49:46,228 - mmdet - INFO - Epoch [4][750/2001]\tlr: 5.000e-03, eta: 12:35:00, time: 0.819, data_time: 0.010, memory: 6189, loss_rpn_cls: 0.0044, loss_rpn_bbox: 0.0382, loss_cls: 0.1189, acc: 95.1934, loss_bbox: 0.2682, loss: 0.4297\n",
      "2020-12-30 11:50:27,186 - mmdet - INFO - Epoch [4][800/2001]\tlr: 5.000e-03, eta: 12:34:06, time: 0.819, data_time: 0.011, memory: 6189, loss_rpn_cls: 0.0060, loss_rpn_bbox: 0.0376, loss_cls: 0.1303, acc: 94.7910, loss_bbox: 0.2691, loss: 0.4430\n",
      "2020-12-30 11:51:08,161 - mmdet - INFO - Epoch [4][850/2001]\tlr: 5.000e-03, eta: 12:33:11, time: 0.820, data_time: 0.011, memory: 6189, loss_rpn_cls: 0.0051, loss_rpn_bbox: 0.0349, loss_cls: 0.1299, acc: 94.8682, loss_bbox: 0.2565, loss: 0.4264\n",
      "2020-12-30 11:51:49,121 - mmdet - INFO - Epoch [4][900/2001]\tlr: 5.000e-03, eta: 12:32:17, time: 0.819, data_time: 0.010, memory: 6189, loss_rpn_cls: 0.0049, loss_rpn_bbox: 0.0374, loss_cls: 0.1271, acc: 94.9150, loss_bbox: 0.2669, loss: 0.4364\n",
      "2020-12-30 11:52:30,069 - mmdet - INFO - Epoch [4][950/2001]\tlr: 5.000e-03, eta: 12:31:23, time: 0.819, data_time: 0.011, memory: 6189, loss_rpn_cls: 0.0044, loss_rpn_bbox: 0.0359, loss_cls: 0.1252, acc: 94.9834, loss_bbox: 0.2648, loss: 0.4303\n",
      "2020-12-30 11:53:11,042 - mmdet - INFO - Epoch [4][1000/2001]\tlr: 5.000e-03, eta: 12:30:29, time: 0.819, data_time: 0.010, memory: 6189, loss_rpn_cls: 0.0045, loss_rpn_bbox: 0.0390, loss_cls: 0.1305, acc: 94.7441, loss_bbox: 0.2677, loss: 0.4417\n",
      "2020-12-30 11:53:52,016 - mmdet - INFO - Epoch [4][1050/2001]\tlr: 5.000e-03, eta: 12:29:35, time: 0.820, data_time: 0.011, memory: 6189, loss_rpn_cls: 0.0057, loss_rpn_bbox: 0.0391, loss_cls: 0.1298, acc: 94.8477, loss_bbox: 0.2692, loss: 0.4438\n",
      "2020-12-30 11:54:32,967 - mmdet - INFO - Epoch [4][1100/2001]\tlr: 5.000e-03, eta: 12:28:42, time: 0.819, data_time: 0.010, memory: 6189, loss_rpn_cls: 0.0052, loss_rpn_bbox: 0.0393, loss_cls: 0.1349, acc: 94.6035, loss_bbox: 0.2779, loss: 0.4574\n",
      "2020-12-30 11:55:13,702 - mmdet - INFO - Epoch [4][1150/2001]\tlr: 5.000e-03, eta: 12:27:47, time: 0.815, data_time: 0.010, memory: 6189, loss_rpn_cls: 0.0044, loss_rpn_bbox: 0.0377, loss_cls: 0.1301, acc: 94.8496, loss_bbox: 0.2640, loss: 0.4362\n",
      "2020-12-30 11:55:54,654 - mmdet - INFO - Epoch [4][1200/2001]\tlr: 5.000e-03, eta: 12:26:54, time: 0.819, data_time: 0.010, memory: 6189, loss_rpn_cls: 0.0050, loss_rpn_bbox: 0.0353, loss_cls: 0.1311, acc: 94.6797, loss_bbox: 0.2528, loss: 0.4242\n",
      "2020-12-30 11:56:35,625 - mmdet - INFO - Epoch [4][1250/2001]\tlr: 5.000e-03, eta: 12:26:01, time: 0.819, data_time: 0.010, memory: 6189, loss_rpn_cls: 0.0047, loss_rpn_bbox: 0.0346, loss_cls: 0.1199, acc: 95.2100, loss_bbox: 0.2475, loss: 0.4067\n",
      "2020-12-30 11:57:16,588 - mmdet - INFO - Epoch [4][1300/2001]\tlr: 5.000e-03, eta: 12:25:08, time: 0.819, data_time: 0.011, memory: 6189, loss_rpn_cls: 0.0045, loss_rpn_bbox: 0.0371, loss_cls: 0.1210, acc: 95.2041, loss_bbox: 0.2552, loss: 0.4178\n",
      "2020-12-30 11:57:57,565 - mmdet - INFO - Epoch [4][1350/2001]\tlr: 5.000e-03, eta: 12:24:15, time: 0.820, data_time: 0.011, memory: 6189, loss_rpn_cls: 0.0041, loss_rpn_bbox: 0.0388, loss_cls: 0.1309, acc: 94.7207, loss_bbox: 0.2699, loss: 0.4437\n",
      "2020-12-30 11:58:38,540 - mmdet - INFO - Epoch [4][1400/2001]\tlr: 5.000e-03, eta: 12:23:23, time: 0.819, data_time: 0.011, memory: 6189, loss_rpn_cls: 0.0045, loss_rpn_bbox: 0.0382, loss_cls: 0.1300, acc: 94.7070, loss_bbox: 0.2611, loss: 0.4339\n",
      "2020-12-30 11:59:19,477 - mmdet - INFO - Epoch [4][1450/2001]\tlr: 5.000e-03, eta: 12:22:30, time: 0.819, data_time: 0.011, memory: 6189, loss_rpn_cls: 0.0036, loss_rpn_bbox: 0.0367, loss_cls: 0.1277, acc: 94.9365, loss_bbox: 0.2643, loss: 0.4323\n",
      "2020-12-30 12:00:00,420 - mmdet - INFO - Epoch [4][1500/2001]\tlr: 5.000e-03, eta: 12:21:38, time: 0.819, data_time: 0.010, memory: 6189, loss_rpn_cls: 0.0051, loss_rpn_bbox: 0.0402, loss_cls: 0.1332, acc: 94.6523, loss_bbox: 0.2737, loss: 0.4521\n",
      "2020-12-30 12:00:41,181 - mmdet - INFO - Epoch [4][1550/2001]\tlr: 5.000e-03, eta: 12:20:44, time: 0.815, data_time: 0.011, memory: 6189, loss_rpn_cls: 0.0047, loss_rpn_bbox: 0.0383, loss_cls: 0.1262, acc: 95.0000, loss_bbox: 0.2668, loss: 0.4360\n",
      "2020-12-30 12:01:22,171 - mmdet - INFO - Epoch [4][1600/2001]\tlr: 5.000e-03, eta: 12:19:53, time: 0.820, data_time: 0.010, memory: 6189, loss_rpn_cls: 0.0037, loss_rpn_bbox: 0.0341, loss_cls: 0.1285, acc: 94.7979, loss_bbox: 0.2580, loss: 0.4243\n",
      "2020-12-30 12:02:03,117 - mmdet - INFO - Epoch [4][1650/2001]\tlr: 5.000e-03, eta: 12:19:01, time: 0.819, data_time: 0.011, memory: 6189, loss_rpn_cls: 0.0048, loss_rpn_bbox: 0.0397, loss_cls: 0.1285, acc: 94.8398, loss_bbox: 0.2664, loss: 0.4395\n",
      "2020-12-30 12:02:44,068 - mmdet - INFO - Epoch [4][1700/2001]\tlr: 5.000e-03, eta: 12:18:09, time: 0.819, data_time: 0.011, memory: 6189, loss_rpn_cls: 0.0045, loss_rpn_bbox: 0.0377, loss_cls: 0.1247, acc: 94.9521, loss_bbox: 0.2713, loss: 0.4382\n"
     ]
    },
    {
     "name": "stderr",
     "output_type": "stream",
     "text": [
      "2020-12-30 12:03:25,075 - mmdet - INFO - Epoch [4][1750/2001]\tlr: 5.000e-03, eta: 12:17:18, time: 0.820, data_time: 0.010, memory: 6189, loss_rpn_cls: 0.0050, loss_rpn_bbox: 0.0398, loss_cls: 0.1311, acc: 94.6826, loss_bbox: 0.2718, loss: 0.4477\n",
      "2020-12-30 12:04:06,002 - mmdet - INFO - Epoch [4][1800/2001]\tlr: 5.000e-03, eta: 12:16:26, time: 0.819, data_time: 0.011, memory: 6189, loss_rpn_cls: 0.0037, loss_rpn_bbox: 0.0421, loss_cls: 0.1274, acc: 94.9395, loss_bbox: 0.2733, loss: 0.4466\n",
      "2020-12-30 12:04:46,775 - mmdet - INFO - Epoch [4][1850/2001]\tlr: 5.000e-03, eta: 12:15:34, time: 0.815, data_time: 0.010, memory: 6189, loss_rpn_cls: 0.0044, loss_rpn_bbox: 0.0385, loss_cls: 0.1286, acc: 94.8086, loss_bbox: 0.2676, loss: 0.4391\n",
      "2020-12-30 12:05:27,729 - mmdet - INFO - Epoch [4][1900/2001]\tlr: 5.000e-03, eta: 12:14:43, time: 0.819, data_time: 0.010, memory: 6189, loss_rpn_cls: 0.0044, loss_rpn_bbox: 0.0397, loss_cls: 0.1293, acc: 94.7568, loss_bbox: 0.2750, loss: 0.4485\n",
      "2020-12-30 12:06:08,691 - mmdet - INFO - Epoch [4][1950/2001]\tlr: 5.000e-03, eta: 12:13:52, time: 0.819, data_time: 0.010, memory: 6189, loss_rpn_cls: 0.0039, loss_rpn_bbox: 0.0353, loss_cls: 0.1312, acc: 94.7129, loss_bbox: 0.2752, loss: 0.4457\n",
      "2020-12-30 12:06:49,645 - mmdet - INFO - Epoch [4][2000/2001]\tlr: 5.000e-03, eta: 12:13:01, time: 0.819, data_time: 0.011, memory: 6189, loss_rpn_cls: 0.0040, loss_rpn_bbox: 0.0382, loss_cls: 0.1344, acc: 94.6514, loss_bbox: 0.2704, loss: 0.4470\n",
      "2020-12-30 12:06:50,335 - mmdet - INFO - Saving checkpoint at 4 epochs\n"
     ]
    },
    {
     "name": "stdout",
     "output_type": "stream",
     "text": [
      "[>>>>>>>>>>>>>>>>>>>>>>>>>>] 2013/2013, 11.1 task/s, elapsed: 181s, ETA:     0s"
     ]
    },
    {
     "name": "stderr",
     "output_type": "stream",
     "text": [
      "2020-12-30 12:09:52,171 - mmdet - INFO - \n",
      "Evaluateing mmdet/valid_44.json with 2013 images now\n",
      "2020-12-30 12:09:52,824 - mmdet - INFO - Evaluating bbox...\n"
     ]
    },
    {
     "name": "stdout",
     "output_type": "stream",
     "text": [
      "Loading and preparing results...\n",
      "DONE (t=0.38s)\n",
      "creating index...\n",
      "index created!\n",
      "Running per image evaluation...\n",
      "Evaluate annotation type *bbox*\n",
      "DONE (t=15.96s).\n",
      "Accumulating evaluation results...\n"
     ]
    },
    {
     "name": "stderr",
     "output_type": "stream",
     "text": [
      "2020-12-30 12:10:09,957 - mmdet - INFO - Epoch(val) [4][2001]\t0_bbox_mAP: 0.2700, 0_bbox_mAP_50: 0.4510, 0_bbox_mAP_75: 0.3060, 0_bbox_mAP_s: 0.2660, 0_bbox_mAP_m: 0.4460, 0_bbox_mAP_l: -1.0000, 0_bbox_mAP_copypaste: 0.270 0.451 0.306 0.266 0.446 -1.000\n"
     ]
    },
    {
     "name": "stdout",
     "output_type": "stream",
     "text": [
      "DONE (t=0.70s).\n",
      "Average Precision  (AP) @[ IoU=0.50:0.95 | area=   all | maxDets=100 ] = 0.270\n",
      "Average Precision  (AP) @[ IoU=0.50      | area=   all | maxDets=1000 ] = 0.451\n",
      "Average Precision  (AP) @[ IoU=0.75      | area=   all | maxDets=1000 ] = 0.306\n",
      "Average Precision  (AP) @[ IoU=0.50:0.95 | area= small | maxDets=1000 ] = 0.266\n",
      "Average Precision  (AP) @[ IoU=0.50:0.95 | area=medium | maxDets=1000 ] = 0.446\n",
      "Average Precision  (AP) @[ IoU=0.50:0.95 | area= large | maxDets=1000 ] = -1.000\n",
      "Average Recall     (AR) @[ IoU=0.50:0.95 | area=   all | maxDets=100 ] = 0.334\n",
      "Average Recall     (AR) @[ IoU=0.50:0.95 | area=   all | maxDets=300 ] = 0.334\n",
      "Average Recall     (AR) @[ IoU=0.50:0.95 | area=   all | maxDets=1000 ] = 0.334\n",
      "Average Recall     (AR) @[ IoU=0.50:0.95 | area= small | maxDets=1000 ] = 0.330\n",
      "Average Recall     (AR) @[ IoU=0.50:0.95 | area=medium | maxDets=1000 ] = 0.509\n",
      "Average Recall     (AR) @[ IoU=0.50:0.95 | area= large | maxDets=1000 ] = -1.000\n"
     ]
    },
    {
     "name": "stderr",
     "output_type": "stream",
     "text": [
      "2020-12-30 12:10:53,363 - mmdet - INFO - Epoch [5][50/2001]\tlr: 5.000e-03, eta: 12:12:19, time: 0.864, data_time: 0.056, memory: 6189, loss_rpn_cls: 0.0045, loss_rpn_bbox: 0.0336, loss_cls: 0.1204, acc: 95.1270, loss_bbox: 0.2643, loss: 0.4228\n",
      "2020-12-30 12:11:34,313 - mmdet - INFO - Epoch [5][100/2001]\tlr: 5.000e-03, eta: 12:11:28, time: 0.819, data_time: 0.010, memory: 6189, loss_rpn_cls: 0.0037, loss_rpn_bbox: 0.0368, loss_cls: 0.1242, acc: 94.9775, loss_bbox: 0.2673, loss: 0.4320\n",
      "2020-12-30 12:12:15,274 - mmdet - INFO - Epoch [5][150/2001]\tlr: 5.000e-03, eta: 12:10:37, time: 0.819, data_time: 0.010, memory: 6189, loss_rpn_cls: 0.0048, loss_rpn_bbox: 0.0333, loss_cls: 0.1245, acc: 94.9521, loss_bbox: 0.2629, loss: 0.4256\n",
      "2020-12-30 12:12:56,234 - mmdet - INFO - Epoch [5][200/2001]\tlr: 5.000e-03, eta: 12:09:47, time: 0.819, data_time: 0.010, memory: 6189, loss_rpn_cls: 0.0040, loss_rpn_bbox: 0.0330, loss_cls: 0.1204, acc: 95.0820, loss_bbox: 0.2504, loss: 0.4079\n",
      "2020-12-30 12:13:38,026 - mmdet - INFO - Epoch [5][250/2001]\tlr: 5.000e-03, eta: 12:09:02, time: 0.836, data_time: 0.010, memory: 6189, loss_rpn_cls: 0.0033, loss_rpn_bbox: 0.0348, loss_cls: 0.1154, acc: 95.4082, loss_bbox: 0.2561, loss: 0.4096\n",
      "2020-12-30 12:14:18,997 - mmdet - INFO - Epoch [5][300/2001]\tlr: 5.000e-03, eta: 12:08:12, time: 0.819, data_time: 0.010, memory: 6189, loss_rpn_cls: 0.0038, loss_rpn_bbox: 0.0364, loss_cls: 0.1155, acc: 95.3057, loss_bbox: 0.2613, loss: 0.4170\n",
      "2020-12-30 12:15:00,325 - mmdet - INFO - Epoch [5][350/2001]\tlr: 5.000e-03, eta: 12:07:24, time: 0.827, data_time: 0.011, memory: 6189, loss_rpn_cls: 0.0034, loss_rpn_bbox: 0.0319, loss_cls: 0.1152, acc: 95.3379, loss_bbox: 0.2524, loss: 0.4029\n",
      "2020-12-30 12:15:41,301 - mmdet - INFO - Epoch [5][400/2001]\tlr: 5.000e-03, eta: 12:06:34, time: 0.819, data_time: 0.010, memory: 6189, loss_rpn_cls: 0.0045, loss_rpn_bbox: 0.0369, loss_cls: 0.1186, acc: 95.0693, loss_bbox: 0.2643, loss: 0.4242\n",
      "2020-12-30 12:16:22,290 - mmdet - INFO - Epoch [5][450/2001]\tlr: 5.000e-03, eta: 12:05:44, time: 0.820, data_time: 0.010, memory: 6189, loss_rpn_cls: 0.0046, loss_rpn_bbox: 0.0362, loss_cls: 0.1214, acc: 94.9648, loss_bbox: 0.2622, loss: 0.4244\n",
      "2020-12-30 12:17:03,269 - mmdet - INFO - Epoch [5][500/2001]\tlr: 5.000e-03, eta: 12:04:54, time: 0.820, data_time: 0.010, memory: 6189, loss_rpn_cls: 0.0042, loss_rpn_bbox: 0.0346, loss_cls: 0.1174, acc: 95.1885, loss_bbox: 0.2591, loss: 0.4153\n",
      "2020-12-30 12:17:44,211 - mmdet - INFO - Epoch [5][550/2001]\tlr: 5.000e-03, eta: 12:04:05, time: 0.819, data_time: 0.010, memory: 6189, loss_rpn_cls: 0.0037, loss_rpn_bbox: 0.0361, loss_cls: 0.1202, acc: 95.1436, loss_bbox: 0.2582, loss: 0.4182\n",
      "2020-12-30 12:18:25,152 - mmdet - INFO - Epoch [5][600/2001]\tlr: 5.000e-03, eta: 12:03:15, time: 0.819, data_time: 0.010, memory: 6189, loss_rpn_cls: 0.0036, loss_rpn_bbox: 0.0363, loss_cls: 0.1227, acc: 95.0146, loss_bbox: 0.2617, loss: 0.4243\n",
      "2020-12-30 12:19:06,114 - mmdet - INFO - Epoch [5][650/2001]\tlr: 5.000e-03, eta: 12:02:25, time: 0.819, data_time: 0.010, memory: 6189, loss_rpn_cls: 0.0042, loss_rpn_bbox: 0.0351, loss_cls: 0.1185, acc: 95.2100, loss_bbox: 0.2607, loss: 0.4186\n",
      "2020-12-30 12:19:47,090 - mmdet - INFO - Epoch [5][700/2001]\tlr: 5.000e-03, eta: 12:01:36, time: 0.819, data_time: 0.010, memory: 6189, loss_rpn_cls: 0.0044, loss_rpn_bbox: 0.0380, loss_cls: 0.1158, acc: 95.3975, loss_bbox: 0.2503, loss: 0.4086\n",
      "2020-12-30 12:20:28,044 - mmdet - INFO - Epoch [5][750/2001]\tlr: 5.000e-03, eta: 12:00:47, time: 0.819, data_time: 0.011, memory: 6189, loss_rpn_cls: 0.0040, loss_rpn_bbox: 0.0387, loss_cls: 0.1182, acc: 95.1729, loss_bbox: 0.2580, loss: 0.4189\n",
      "2020-12-30 12:21:09,000 - mmdet - INFO - Epoch [5][800/2001]\tlr: 5.000e-03, eta: 11:59:57, time: 0.819, data_time: 0.010, memory: 6189, loss_rpn_cls: 0.0041, loss_rpn_bbox: 0.0349, loss_cls: 0.1178, acc: 95.2266, loss_bbox: 0.2475, loss: 0.4043\n",
      "2020-12-30 12:21:49,987 - mmdet - INFO - Epoch [5][850/2001]\tlr: 5.000e-03, eta: 11:59:09, time: 0.820, data_time: 0.010, memory: 6189, loss_rpn_cls: 0.0051, loss_rpn_bbox: 0.0392, loss_cls: 0.1161, acc: 95.1875, loss_bbox: 0.2632, loss: 0.4236\n",
      "2020-12-30 12:22:30,921 - mmdet - INFO - Epoch [5][900/2001]\tlr: 5.000e-03, eta: 11:58:19, time: 0.819, data_time: 0.010, memory: 6189, loss_rpn_cls: 0.0034, loss_rpn_bbox: 0.0355, loss_cls: 0.1203, acc: 95.1299, loss_bbox: 0.2536, loss: 0.4129\n",
      "2020-12-30 12:23:11,891 - mmdet - INFO - Epoch [5][950/2001]\tlr: 5.000e-03, eta: 11:57:30, time: 0.819, data_time: 0.010, memory: 6189, loss_rpn_cls: 0.0032, loss_rpn_bbox: 0.0345, loss_cls: 0.1223, acc: 95.0215, loss_bbox: 0.2573, loss: 0.4173\n",
      "2020-12-30 12:23:52,832 - mmdet - INFO - Epoch [5][1000/2001]\tlr: 5.000e-03, eta: 11:56:41, time: 0.819, data_time: 0.010, memory: 6189, loss_rpn_cls: 0.0052, loss_rpn_bbox: 0.0395, loss_cls: 0.1222, acc: 95.0195, loss_bbox: 0.2651, loss: 0.4320\n",
      "2020-12-30 12:24:33,820 - mmdet - INFO - Epoch [5][1050/2001]\tlr: 5.000e-03, eta: 11:55:53, time: 0.820, data_time: 0.010, memory: 6189, loss_rpn_cls: 0.0033, loss_rpn_bbox: 0.0343, loss_cls: 0.1160, acc: 95.2998, loss_bbox: 0.2457, loss: 0.3994\n",
      "2020-12-30 12:25:14,759 - mmdet - INFO - Epoch [5][1100/2001]\tlr: 5.000e-03, eta: 11:55:04, time: 0.819, data_time: 0.011, memory: 6189, loss_rpn_cls: 0.0050, loss_rpn_bbox: 0.0352, loss_cls: 0.1147, acc: 95.3408, loss_bbox: 0.2573, loss: 0.4122\n",
      "2020-12-30 12:25:55,756 - mmdet - INFO - Epoch [5][1150/2001]\tlr: 5.000e-03, eta: 11:54:16, time: 0.820, data_time: 0.011, memory: 6189, loss_rpn_cls: 0.0031, loss_rpn_bbox: 0.0345, loss_cls: 0.1164, acc: 95.2734, loss_bbox: 0.2531, loss: 0.4072\n",
      "2020-12-30 12:26:36,901 - mmdet - INFO - Epoch [5][1200/2001]\tlr: 5.000e-03, eta: 11:53:28, time: 0.823, data_time: 0.011, memory: 6189, loss_rpn_cls: 0.0040, loss_rpn_bbox: 0.0375, loss_cls: 0.1173, acc: 95.1943, loss_bbox: 0.2624, loss: 0.4213\n",
      "2020-12-30 12:27:17,850 - mmdet - INFO - Epoch [5][1250/2001]\tlr: 5.000e-03, eta: 11:52:40, time: 0.819, data_time: 0.011, memory: 6189, loss_rpn_cls: 0.0036, loss_rpn_bbox: 0.0337, loss_cls: 0.1163, acc: 95.3076, loss_bbox: 0.2605, loss: 0.4141\n",
      "2020-12-30 12:27:58,817 - mmdet - INFO - Epoch [5][1300/2001]\tlr: 5.000e-03, eta: 11:51:51, time: 0.819, data_time: 0.010, memory: 6189, loss_rpn_cls: 0.0043, loss_rpn_bbox: 0.0387, loss_cls: 0.1169, acc: 95.2529, loss_bbox: 0.2569, loss: 0.4167\n",
      "2020-12-30 12:28:39,746 - mmdet - INFO - Epoch [5][1350/2001]\tlr: 5.000e-03, eta: 11:51:03, time: 0.819, data_time: 0.010, memory: 6189, loss_rpn_cls: 0.0039, loss_rpn_bbox: 0.0357, loss_cls: 0.1124, acc: 95.5078, loss_bbox: 0.2454, loss: 0.3973\n",
      "2020-12-30 12:29:20,729 - mmdet - INFO - Epoch [5][1400/2001]\tlr: 5.000e-03, eta: 11:50:15, time: 0.820, data_time: 0.011, memory: 6189, loss_rpn_cls: 0.0039, loss_rpn_bbox: 0.0353, loss_cls: 0.1132, acc: 95.4199, loss_bbox: 0.2531, loss: 0.4055\n",
      "2020-12-30 12:30:01,762 - mmdet - INFO - Epoch [5][1450/2001]\tlr: 5.000e-03, eta: 11:49:27, time: 0.821, data_time: 0.011, memory: 6189, loss_rpn_cls: 0.0042, loss_rpn_bbox: 0.0390, loss_cls: 0.1212, acc: 95.0869, loss_bbox: 0.2645, loss: 0.4287\n",
      "2020-12-30 12:30:42,669 - mmdet - INFO - Epoch [5][1500/2001]\tlr: 5.000e-03, eta: 11:48:39, time: 0.818, data_time: 0.011, memory: 6189, loss_rpn_cls: 0.0041, loss_rpn_bbox: 0.0334, loss_cls: 0.1141, acc: 95.3965, loss_bbox: 0.2530, loss: 0.4046\n",
      "2020-12-30 12:31:23,605 - mmdet - INFO - Epoch [5][1550/2001]\tlr: 5.000e-03, eta: 11:47:51, time: 0.819, data_time: 0.010, memory: 6189, loss_rpn_cls: 0.0036, loss_rpn_bbox: 0.0377, loss_cls: 0.1140, acc: 95.3643, loss_bbox: 0.2534, loss: 0.4087\n",
      "2020-12-30 12:32:04,584 - mmdet - INFO - Epoch [5][1600/2001]\tlr: 5.000e-03, eta: 11:47:03, time: 0.820, data_time: 0.010, memory: 6189, loss_rpn_cls: 0.0044, loss_rpn_bbox: 0.0360, loss_cls: 0.1122, acc: 95.3115, loss_bbox: 0.2583, loss: 0.4109\n",
      "2020-12-30 12:32:45,575 - mmdet - INFO - Epoch [5][1650/2001]\tlr: 5.000e-03, eta: 11:46:15, time: 0.820, data_time: 0.011, memory: 6189, loss_rpn_cls: 0.0045, loss_rpn_bbox: 0.0366, loss_cls: 0.1167, acc: 95.2119, loss_bbox: 0.2520, loss: 0.4099\n",
      "2020-12-30 12:33:26,497 - mmdet - INFO - Epoch [5][1700/2001]\tlr: 5.000e-03, eta: 11:45:27, time: 0.818, data_time: 0.011, memory: 6189, loss_rpn_cls: 0.0043, loss_rpn_bbox: 0.0373, loss_cls: 0.1116, acc: 95.5459, loss_bbox: 0.2544, loss: 0.4076\n"
     ]
    },
    {
     "name": "stderr",
     "output_type": "stream",
     "text": [
      "2020-12-30 12:34:07,490 - mmdet - INFO - Epoch [5][1750/2001]\tlr: 5.000e-03, eta: 11:44:40, time: 0.820, data_time: 0.011, memory: 6189, loss_rpn_cls: 0.0039, loss_rpn_bbox: 0.0368, loss_cls: 0.1148, acc: 95.3369, loss_bbox: 0.2585, loss: 0.4140\n",
      "2020-12-30 12:34:48,503 - mmdet - INFO - Epoch [5][1800/2001]\tlr: 5.000e-03, eta: 11:43:52, time: 0.820, data_time: 0.011, memory: 6189, loss_rpn_cls: 0.0041, loss_rpn_bbox: 0.0352, loss_cls: 0.1140, acc: 95.4521, loss_bbox: 0.2527, loss: 0.4060\n",
      "2020-12-30 12:35:29,463 - mmdet - INFO - Epoch [5][1850/2001]\tlr: 5.000e-03, eta: 11:43:05, time: 0.819, data_time: 0.010, memory: 6189, loss_rpn_cls: 0.0036, loss_rpn_bbox: 0.0367, loss_cls: 0.1124, acc: 95.4297, loss_bbox: 0.2539, loss: 0.4066\n",
      "2020-12-30 12:36:10,537 - mmdet - INFO - Epoch [5][1900/2001]\tlr: 5.000e-03, eta: 11:42:18, time: 0.822, data_time: 0.011, memory: 6189, loss_rpn_cls: 0.0031, loss_rpn_bbox: 0.0342, loss_cls: 0.1138, acc: 95.3730, loss_bbox: 0.2505, loss: 0.4016\n",
      "2020-12-30 12:36:51,496 - mmdet - INFO - Epoch [5][1950/2001]\tlr: 5.000e-03, eta: 11:41:30, time: 0.819, data_time: 0.011, memory: 6189, loss_rpn_cls: 0.0034, loss_rpn_bbox: 0.0386, loss_cls: 0.1155, acc: 95.2930, loss_bbox: 0.2600, loss: 0.4175\n",
      "2020-12-30 12:37:32,476 - mmdet - INFO - Epoch [5][2000/2001]\tlr: 5.000e-03, eta: 11:40:43, time: 0.820, data_time: 0.010, memory: 6189, loss_rpn_cls: 0.0038, loss_rpn_bbox: 0.0350, loss_cls: 0.1088, acc: 95.6484, loss_bbox: 0.2469, loss: 0.3944\n",
      "2020-12-30 12:37:33,210 - mmdet - INFO - Saving checkpoint at 5 epochs\n"
     ]
    },
    {
     "name": "stdout",
     "output_type": "stream",
     "text": [
      "[>>>>>>>>>>>>>>>>>>>>>>>>>>] 2013/2013, 11.0 task/s, elapsed: 183s, ETA:     0s"
     ]
    },
    {
     "name": "stderr",
     "output_type": "stream",
     "text": [
      "2020-12-30 12:40:36,543 - mmdet - INFO - \n",
      "Evaluateing mmdet/valid_44.json with 2013 images now\n",
      "2020-12-30 12:40:37,027 - mmdet - INFO - Evaluating bbox...\n"
     ]
    },
    {
     "name": "stdout",
     "output_type": "stream",
     "text": [
      "Loading and preparing results...\n",
      "DONE (t=0.30s)\n",
      "creating index...\n",
      "index created!\n",
      "Running per image evaluation...\n",
      "Evaluate annotation type *bbox*\n",
      "DONE (t=15.92s).\n",
      "Accumulating evaluation results...\n"
     ]
    },
    {
     "name": "stderr",
     "output_type": "stream",
     "text": [
      "2020-12-30 12:40:54,046 - mmdet - INFO - Epoch(val) [5][2001]\t0_bbox_mAP: 0.2820, 0_bbox_mAP_50: 0.4720, 0_bbox_mAP_75: 0.3110, 0_bbox_mAP_s: 0.2770, 0_bbox_mAP_m: 0.4680, 0_bbox_mAP_l: -1.0000, 0_bbox_mAP_copypaste: 0.282 0.472 0.311 0.277 0.468 -1.000\n"
     ]
    },
    {
     "name": "stdout",
     "output_type": "stream",
     "text": [
      "DONE (t=0.72s).\n",
      "Average Precision  (AP) @[ IoU=0.50:0.95 | area=   all | maxDets=100 ] = 0.282\n",
      "Average Precision  (AP) @[ IoU=0.50      | area=   all | maxDets=1000 ] = 0.472\n",
      "Average Precision  (AP) @[ IoU=0.75      | area=   all | maxDets=1000 ] = 0.311\n",
      "Average Precision  (AP) @[ IoU=0.50:0.95 | area= small | maxDets=1000 ] = 0.277\n",
      "Average Precision  (AP) @[ IoU=0.50:0.95 | area=medium | maxDets=1000 ] = 0.468\n",
      "Average Precision  (AP) @[ IoU=0.50:0.95 | area= large | maxDets=1000 ] = -1.000\n",
      "Average Recall     (AR) @[ IoU=0.50:0.95 | area=   all | maxDets=100 ] = 0.347\n",
      "Average Recall     (AR) @[ IoU=0.50:0.95 | area=   all | maxDets=300 ] = 0.347\n",
      "Average Recall     (AR) @[ IoU=0.50:0.95 | area=   all | maxDets=1000 ] = 0.347\n",
      "Average Recall     (AR) @[ IoU=0.50:0.95 | area= small | maxDets=1000 ] = 0.343\n",
      "Average Recall     (AR) @[ IoU=0.50:0.95 | area=medium | maxDets=1000 ] = 0.516\n",
      "Average Recall     (AR) @[ IoU=0.50:0.95 | area= large | maxDets=1000 ] = -1.000\n"
     ]
    },
    {
     "name": "stderr",
     "output_type": "stream",
     "text": [
      "2020-12-30 12:41:37,412 - mmdet - INFO - Epoch [6][50/2001]\tlr: 5.000e-03, eta: 11:40:02, time: 0.863, data_time: 0.056, memory: 6189, loss_rpn_cls: 0.0036, loss_rpn_bbox: 0.0357, loss_cls: 0.1068, acc: 95.6680, loss_bbox: 0.2452, loss: 0.3914\n",
      "2020-12-30 12:42:18,388 - mmdet - INFO - Epoch [6][100/2001]\tlr: 5.000e-03, eta: 11:39:15, time: 0.819, data_time: 0.010, memory: 6189, loss_rpn_cls: 0.0030, loss_rpn_bbox: 0.0347, loss_cls: 0.1098, acc: 95.5459, loss_bbox: 0.2504, loss: 0.3980\n",
      "2020-12-30 12:42:59,324 - mmdet - INFO - Epoch [6][150/2001]\tlr: 5.000e-03, eta: 11:38:27, time: 0.819, data_time: 0.010, memory: 6189, loss_rpn_cls: 0.0033, loss_rpn_bbox: 0.0375, loss_cls: 0.1069, acc: 95.6299, loss_bbox: 0.2485, loss: 0.3962\n",
      "2020-12-30 12:43:40,297 - mmdet - INFO - Epoch [6][200/2001]\tlr: 5.000e-03, eta: 11:37:40, time: 0.819, data_time: 0.010, memory: 6189, loss_rpn_cls: 0.0033, loss_rpn_bbox: 0.0327, loss_cls: 0.1051, acc: 95.6982, loss_bbox: 0.2528, loss: 0.3938\n",
      "2020-12-30 12:44:22,080 - mmdet - INFO - Epoch [6][250/2001]\tlr: 5.000e-03, eta: 11:36:57, time: 0.835, data_time: 0.010, memory: 6189, loss_rpn_cls: 0.0038, loss_rpn_bbox: 0.0355, loss_cls: 0.1099, acc: 95.4150, loss_bbox: 0.2520, loss: 0.4011\n",
      "2020-12-30 12:45:15,977 - mmdet - INFO - Epoch [6][300/2001]\tlr: 5.000e-03, eta: 11:37:12, time: 1.076, data_time: 0.011, memory: 6189, loss_rpn_cls: 0.0035, loss_rpn_bbox: 0.0347, loss_cls: 0.1073, acc: 95.6406, loss_bbox: 0.2473, loss: 0.3928\n",
      "2020-12-30 12:46:23,902 - mmdet - INFO - Epoch [6][350/2001]\tlr: 5.000e-03, eta: 11:38:34, time: 1.358, data_time: 0.013, memory: 6189, loss_rpn_cls: 0.0037, loss_rpn_bbox: 0.0343, loss_cls: 0.1078, acc: 95.5996, loss_bbox: 0.2454, loss: 0.3912\n",
      "2020-12-30 12:47:32,603 - mmdet - INFO - Epoch [6][400/2001]\tlr: 5.000e-03, eta: 11:39:58, time: 1.374, data_time: 0.014, memory: 6189, loss_rpn_cls: 0.0040, loss_rpn_bbox: 0.0311, loss_cls: 0.1143, acc: 95.3799, loss_bbox: 0.2473, loss: 0.3967\n",
      "2020-12-30 12:48:40,036 - mmdet - INFO - Epoch [6][450/2001]\tlr: 5.000e-03, eta: 11:41:15, time: 1.349, data_time: 0.014, memory: 6189, loss_rpn_cls: 0.0039, loss_rpn_bbox: 0.0321, loss_cls: 0.1076, acc: 95.6084, loss_bbox: 0.2437, loss: 0.3873\n",
      "2020-12-30 12:49:48,272 - mmdet - INFO - Epoch [6][500/2001]\tlr: 5.000e-03, eta: 11:42:34, time: 1.365, data_time: 0.014, memory: 6189, loss_rpn_cls: 0.0040, loss_rpn_bbox: 0.0352, loss_cls: 0.1103, acc: 95.5068, loss_bbox: 0.2469, loss: 0.3964\n",
      "2020-12-30 12:50:56,071 - mmdet - INFO - Epoch [6][550/2001]\tlr: 5.000e-03, eta: 11:43:50, time: 1.356, data_time: 0.014, memory: 6189, loss_rpn_cls: 0.0036, loss_rpn_bbox: 0.0329, loss_cls: 0.1073, acc: 95.6602, loss_bbox: 0.2413, loss: 0.3850\n",
      "2020-12-30 12:52:04,084 - mmdet - INFO - Epoch [6][600/2001]\tlr: 5.000e-03, eta: 11:45:05, time: 1.360, data_time: 0.014, memory: 6189, loss_rpn_cls: 0.0041, loss_rpn_bbox: 0.0366, loss_cls: 0.1079, acc: 95.5459, loss_bbox: 0.2433, loss: 0.3920\n",
      "2020-12-30 12:53:12,497 - mmdet - INFO - Epoch [6][650/2001]\tlr: 5.000e-03, eta: 11:46:21, time: 1.369, data_time: 0.014, memory: 6189, loss_rpn_cls: 0.0032, loss_rpn_bbox: 0.0335, loss_cls: 0.1072, acc: 95.5889, loss_bbox: 0.2374, loss: 0.3814\n",
      "2020-12-30 12:54:20,567 - mmdet - INFO - Epoch [6][700/2001]\tlr: 5.000e-03, eta: 11:47:34, time: 1.360, data_time: 0.013, memory: 6189, loss_rpn_cls: 0.0031, loss_rpn_bbox: 0.0329, loss_cls: 0.1101, acc: 95.5420, loss_bbox: 0.2548, loss: 0.4009\n",
      "2020-12-30 12:55:28,688 - mmdet - INFO - Epoch [6][750/2001]\tlr: 5.000e-03, eta: 11:48:46, time: 1.363, data_time: 0.015, memory: 6189, loss_rpn_cls: 0.0033, loss_rpn_bbox: 0.0360, loss_cls: 0.1054, acc: 95.7139, loss_bbox: 0.2493, loss: 0.3940\n",
      "2020-12-30 12:56:36,978 - mmdet - INFO - Epoch [6][800/2001]\tlr: 5.000e-03, eta: 11:49:58, time: 1.366, data_time: 0.014, memory: 6189, loss_rpn_cls: 0.0040, loss_rpn_bbox: 0.0342, loss_cls: 0.1110, acc: 95.5117, loss_bbox: 0.2458, loss: 0.3950\n",
      "2020-12-30 12:57:45,359 - mmdet - INFO - Epoch [6][850/2001]\tlr: 5.000e-03, eta: 11:51:08, time: 1.367, data_time: 0.013, memory: 6189, loss_rpn_cls: 0.0046, loss_rpn_bbox: 0.0356, loss_cls: 0.1107, acc: 95.5068, loss_bbox: 0.2536, loss: 0.4045\n",
      "2020-12-30 12:58:53,179 - mmdet - INFO - Epoch [6][900/2001]\tlr: 5.000e-03, eta: 11:52:15, time: 1.356, data_time: 0.015, memory: 6189, loss_rpn_cls: 0.0036, loss_rpn_bbox: 0.0365, loss_cls: 0.1151, acc: 95.3867, loss_bbox: 0.2562, loss: 0.4114\n",
      "2020-12-30 13:00:01,068 - mmdet - INFO - Epoch [6][950/2001]\tlr: 5.000e-03, eta: 11:53:21, time: 1.359, data_time: 0.015, memory: 6189, loss_rpn_cls: 0.0042, loss_rpn_bbox: 0.0354, loss_cls: 0.1091, acc: 95.5088, loss_bbox: 0.2443, loss: 0.3931\n",
      "2020-12-30 13:01:09,726 - mmdet - INFO - Epoch [6][1000/2001]\tlr: 5.000e-03, eta: 11:54:28, time: 1.372, data_time: 0.013, memory: 6189, loss_rpn_cls: 0.0032, loss_rpn_bbox: 0.0348, loss_cls: 0.1056, acc: 95.6611, loss_bbox: 0.2397, loss: 0.3833\n",
      "2020-12-30 13:02:18,014 - mmdet - INFO - Epoch [6][1050/2001]\tlr: 5.000e-03, eta: 11:55:33, time: 1.366, data_time: 0.015, memory: 6189, loss_rpn_cls: 0.0045, loss_rpn_bbox: 0.0365, loss_cls: 0.1116, acc: 95.4297, loss_bbox: 0.2477, loss: 0.4003\n",
      "2020-12-30 13:03:25,939 - mmdet - INFO - Epoch [6][1100/2001]\tlr: 5.000e-03, eta: 11:56:36, time: 1.359, data_time: 0.014, memory: 6189, loss_rpn_cls: 0.0044, loss_rpn_bbox: 0.0356, loss_cls: 0.1082, acc: 95.5654, loss_bbox: 0.2468, loss: 0.3950\n",
      "2020-12-30 13:04:33,851 - mmdet - INFO - Epoch [6][1150/2001]\tlr: 5.000e-03, eta: 11:57:37, time: 1.358, data_time: 0.014, memory: 6189, loss_rpn_cls: 0.0039, loss_rpn_bbox: 0.0359, loss_cls: 0.1093, acc: 95.5361, loss_bbox: 0.2556, loss: 0.4047\n",
      "2020-12-30 13:05:42,260 - mmdet - INFO - Epoch [6][1200/2001]\tlr: 5.000e-03, eta: 11:58:39, time: 1.369, data_time: 0.014, memory: 6189, loss_rpn_cls: 0.0037, loss_rpn_bbox: 0.0355, loss_cls: 0.1028, acc: 95.8037, loss_bbox: 0.2411, loss: 0.3831\n",
      "2020-12-30 13:06:50,205 - mmdet - INFO - Epoch [6][1250/2001]\tlr: 5.000e-03, eta: 11:59:38, time: 1.358, data_time: 0.014, memory: 6189, loss_rpn_cls: 0.0038, loss_rpn_bbox: 0.0314, loss_cls: 0.1111, acc: 95.4658, loss_bbox: 0.2398, loss: 0.3862\n",
      "2020-12-30 13:07:58,348 - mmdet - INFO - Epoch [6][1300/2001]\tlr: 5.000e-03, eta: 12:00:37, time: 1.363, data_time: 0.015, memory: 6189, loss_rpn_cls: 0.0032, loss_rpn_bbox: 0.0342, loss_cls: 0.1070, acc: 95.7256, loss_bbox: 0.2452, loss: 0.3896\n",
      "2020-12-30 13:09:06,211 - mmdet - INFO - Epoch [6][1350/2001]\tlr: 5.000e-03, eta: 12:01:33, time: 1.357, data_time: 0.014, memory: 6189, loss_rpn_cls: 0.0043, loss_rpn_bbox: 0.0333, loss_cls: 0.1088, acc: 95.5684, loss_bbox: 0.2511, loss: 0.3976\n",
      "2020-12-30 13:10:14,560 - mmdet - INFO - Epoch [6][1400/2001]\tlr: 5.000e-03, eta: 12:02:30, time: 1.367, data_time: 0.014, memory: 6189, loss_rpn_cls: 0.0029, loss_rpn_bbox: 0.0324, loss_cls: 0.1089, acc: 95.5312, loss_bbox: 0.2417, loss: 0.3860\n",
      "2020-12-30 13:11:22,890 - mmdet - INFO - Epoch [6][1450/2001]\tlr: 5.000e-03, eta: 12:03:26, time: 1.367, data_time: 0.014, memory: 6189, loss_rpn_cls: 0.0033, loss_rpn_bbox: 0.0325, loss_cls: 0.1025, acc: 95.8457, loss_bbox: 0.2396, loss: 0.3779\n",
      "2020-12-30 13:12:30,804 - mmdet - INFO - Epoch [6][1500/2001]\tlr: 5.000e-03, eta: 12:04:20, time: 1.359, data_time: 0.014, memory: 6189, loss_rpn_cls: 0.0033, loss_rpn_bbox: 0.0320, loss_cls: 0.1064, acc: 95.6250, loss_bbox: 0.2395, loss: 0.3813\n",
      "2020-12-30 13:13:39,470 - mmdet - INFO - Epoch [6][1550/2001]\tlr: 5.000e-03, eta: 12:05:15, time: 1.373, data_time: 0.014, memory: 6189, loss_rpn_cls: 0.0040, loss_rpn_bbox: 0.0357, loss_cls: 0.1018, acc: 95.8438, loss_bbox: 0.2391, loss: 0.3806\n",
      "2020-12-30 13:14:47,390 - mmdet - INFO - Epoch [6][1600/2001]\tlr: 5.000e-03, eta: 12:06:07, time: 1.358, data_time: 0.014, memory: 6189, loss_rpn_cls: 0.0031, loss_rpn_bbox: 0.0302, loss_cls: 0.1046, acc: 95.7500, loss_bbox: 0.2406, loss: 0.3786\n",
      "2020-12-30 13:15:55,523 - mmdet - INFO - Epoch [6][1650/2001]\tlr: 5.000e-03, eta: 12:06:58, time: 1.363, data_time: 0.013, memory: 6189, loss_rpn_cls: 0.0039, loss_rpn_bbox: 0.0388, loss_cls: 0.1041, acc: 95.7666, loss_bbox: 0.2509, loss: 0.3977\n",
      "2020-12-30 13:17:04,130 - mmdet - INFO - Epoch [6][1700/2001]\tlr: 5.000e-03, eta: 12:07:49, time: 1.371, data_time: 0.014, memory: 6189, loss_rpn_cls: 0.0030, loss_rpn_bbox: 0.0332, loss_cls: 0.1049, acc: 95.6562, loss_bbox: 0.2421, loss: 0.3832\n"
     ]
    },
    {
     "name": "stderr",
     "output_type": "stream",
     "text": [
      "2020-12-30 13:17:49,978 - mmdet - INFO - Epoch [6][1750/2001]\tlr: 5.000e-03, eta: 12:07:08, time: 0.919, data_time: 0.014, memory: 6189, loss_rpn_cls: 0.0033, loss_rpn_bbox: 0.0331, loss_cls: 0.1052, acc: 95.7363, loss_bbox: 0.2431, loss: 0.3847\n",
      "2020-12-30 13:18:30,923 - mmdet - INFO - Epoch [6][1800/2001]\tlr: 5.000e-03, eta: 12:06:05, time: 0.819, data_time: 0.011, memory: 6189, loss_rpn_cls: 0.0034, loss_rpn_bbox: 0.0363, loss_cls: 0.1091, acc: 95.5801, loss_bbox: 0.2531, loss: 0.4019\n",
      "2020-12-30 13:19:11,867 - mmdet - INFO - Epoch [6][1850/2001]\tlr: 5.000e-03, eta: 12:05:03, time: 0.819, data_time: 0.011, memory: 6189, loss_rpn_cls: 0.0038, loss_rpn_bbox: 0.0336, loss_cls: 0.1064, acc: 95.6963, loss_bbox: 0.2470, loss: 0.3908\n",
      "2020-12-30 13:19:52,857 - mmdet - INFO - Epoch [6][1900/2001]\tlr: 5.000e-03, eta: 12:04:01, time: 0.820, data_time: 0.011, memory: 6189, loss_rpn_cls: 0.0036, loss_rpn_bbox: 0.0342, loss_cls: 0.1013, acc: 95.8467, loss_bbox: 0.2508, loss: 0.3898\n",
      "2020-12-30 13:20:33,794 - mmdet - INFO - Epoch [6][1950/2001]\tlr: 5.000e-03, eta: 12:02:59, time: 0.819, data_time: 0.011, memory: 6189, loss_rpn_cls: 0.0032, loss_rpn_bbox: 0.0337, loss_cls: 0.1042, acc: 95.7266, loss_bbox: 0.2406, loss: 0.3817\n",
      "2020-12-30 13:21:14,749 - mmdet - INFO - Epoch [6][2000/2001]\tlr: 5.000e-03, eta: 12:01:57, time: 0.819, data_time: 0.011, memory: 6189, loss_rpn_cls: 0.0030, loss_rpn_bbox: 0.0366, loss_cls: 0.1060, acc: 95.6357, loss_bbox: 0.2478, loss: 0.3935\n",
      "2020-12-30 13:21:15,459 - mmdet - INFO - Saving checkpoint at 6 epochs\n"
     ]
    },
    {
     "name": "stdout",
     "output_type": "stream",
     "text": [
      "[>>>>>>>>>>>>>>>>>>>>>>>>>>] 2013/2013, 11.0 task/s, elapsed: 183s, ETA:     0s"
     ]
    },
    {
     "name": "stderr",
     "output_type": "stream",
     "text": [
      "2020-12-30 13:24:19,115 - mmdet - INFO - \n",
      "Evaluateing mmdet/valid_44.json with 2013 images now\n",
      "2020-12-30 13:24:19,653 - mmdet - INFO - Evaluating bbox...\n"
     ]
    },
    {
     "name": "stdout",
     "output_type": "stream",
     "text": [
      "Loading and preparing results...\n",
      "DONE (t=0.32s)\n",
      "creating index...\n",
      "index created!\n",
      "Running per image evaluation...\n",
      "Evaluate annotation type *bbox*\n",
      "DONE (t=15.34s).\n",
      "Accumulating evaluation results...\n"
     ]
    },
    {
     "name": "stderr",
     "output_type": "stream",
     "text": [
      "2020-12-30 13:24:36,200 - mmdet - INFO - Epoch(val) [6][2001]\t0_bbox_mAP: 0.2750, 0_bbox_mAP_50: 0.4590, 0_bbox_mAP_75: 0.3060, 0_bbox_mAP_s: 0.2700, 0_bbox_mAP_m: 0.4760, 0_bbox_mAP_l: -1.0000, 0_bbox_mAP_copypaste: 0.275 0.459 0.306 0.270 0.476 -1.000\n"
     ]
    },
    {
     "name": "stdout",
     "output_type": "stream",
     "text": [
      "DONE (t=0.81s).\n",
      "Average Precision  (AP) @[ IoU=0.50:0.95 | area=   all | maxDets=100 ] = 0.275\n",
      "Average Precision  (AP) @[ IoU=0.50      | area=   all | maxDets=1000 ] = 0.459\n",
      "Average Precision  (AP) @[ IoU=0.75      | area=   all | maxDets=1000 ] = 0.306\n",
      "Average Precision  (AP) @[ IoU=0.50:0.95 | area= small | maxDets=1000 ] = 0.270\n",
      "Average Precision  (AP) @[ IoU=0.50:0.95 | area=medium | maxDets=1000 ] = 0.476\n",
      "Average Precision  (AP) @[ IoU=0.50:0.95 | area= large | maxDets=1000 ] = -1.000\n",
      "Average Recall     (AR) @[ IoU=0.50:0.95 | area=   all | maxDets=100 ] = 0.352\n",
      "Average Recall     (AR) @[ IoU=0.50:0.95 | area=   all | maxDets=300 ] = 0.352\n",
      "Average Recall     (AR) @[ IoU=0.50:0.95 | area=   all | maxDets=1000 ] = 0.352\n",
      "Average Recall     (AR) @[ IoU=0.50:0.95 | area= small | maxDets=1000 ] = 0.347\n",
      "Average Recall     (AR) @[ IoU=0.50:0.95 | area=medium | maxDets=1000 ] = 0.533\n",
      "Average Recall     (AR) @[ IoU=0.50:0.95 | area= large | maxDets=1000 ] = -1.000\n"
     ]
    },
    {
     "name": "stderr",
     "output_type": "stream",
     "text": [
      "2020-12-30 13:25:19,707 - mmdet - INFO - Epoch [7][50/2001]\tlr: 5.000e-03, eta: 12:01:00, time: 0.866, data_time: 0.056, memory: 6189, loss_rpn_cls: 0.0026, loss_rpn_bbox: 0.0331, loss_cls: 0.0977, acc: 96.0625, loss_bbox: 0.2414, loss: 0.3747\n",
      "2020-12-30 13:26:00,661 - mmdet - INFO - Epoch [7][100/2001]\tlr: 5.000e-03, eta: 11:59:59, time: 0.819, data_time: 0.010, memory: 6189, loss_rpn_cls: 0.0030, loss_rpn_bbox: 0.0329, loss_cls: 0.0986, acc: 95.9004, loss_bbox: 0.2382, loss: 0.3728\n",
      "2020-12-30 13:26:41,611 - mmdet - INFO - Epoch [7][150/2001]\tlr: 5.000e-03, eta: 11:58:57, time: 0.819, data_time: 0.010, memory: 6189, loss_rpn_cls: 0.0043, loss_rpn_bbox: 0.0351, loss_cls: 0.1028, acc: 95.7852, loss_bbox: 0.2446, loss: 0.3869\n",
      "2020-12-30 13:27:22,605 - mmdet - INFO - Epoch [7][200/2001]\tlr: 5.000e-03, eta: 11:57:56, time: 0.820, data_time: 0.010, memory: 6189, loss_rpn_cls: 0.0037, loss_rpn_bbox: 0.0358, loss_cls: 0.1038, acc: 95.7344, loss_bbox: 0.2458, loss: 0.3891\n",
      "2020-12-30 13:28:03,534 - mmdet - INFO - Epoch [7][250/2001]\tlr: 5.000e-03, eta: 11:56:55, time: 0.819, data_time: 0.010, memory: 6189, loss_rpn_cls: 0.0040, loss_rpn_bbox: 0.0323, loss_cls: 0.1036, acc: 95.8242, loss_bbox: 0.2428, loss: 0.3826\n",
      "2020-12-30 13:28:44,950 - mmdet - INFO - Epoch [7][300/2001]\tlr: 5.000e-03, eta: 11:55:56, time: 0.828, data_time: 0.011, memory: 6189, loss_rpn_cls: 0.0028, loss_rpn_bbox: 0.0328, loss_cls: 0.1029, acc: 95.7539, loss_bbox: 0.2424, loss: 0.3809\n",
      "2020-12-30 13:29:26,063 - mmdet - INFO - Epoch [7][350/2001]\tlr: 5.000e-03, eta: 11:54:56, time: 0.822, data_time: 0.011, memory: 6189, loss_rpn_cls: 0.0044, loss_rpn_bbox: 0.0315, loss_cls: 0.0949, acc: 96.1133, loss_bbox: 0.2263, loss: 0.3571\n",
      "2020-12-30 13:30:07,031 - mmdet - INFO - Epoch [7][400/2001]\tlr: 5.000e-03, eta: 11:53:56, time: 0.819, data_time: 0.011, memory: 6189, loss_rpn_cls: 0.0027, loss_rpn_bbox: 0.0319, loss_cls: 0.0979, acc: 96.0010, loss_bbox: 0.2312, loss: 0.3637\n",
      "2020-12-30 13:30:48,008 - mmdet - INFO - Epoch [7][450/2001]\tlr: 5.000e-03, eta: 11:52:56, time: 0.820, data_time: 0.011, memory: 6189, loss_rpn_cls: 0.0030, loss_rpn_bbox: 0.0312, loss_cls: 0.1028, acc: 95.7734, loss_bbox: 0.2452, loss: 0.3822\n",
      "2020-12-30 13:31:28,945 - mmdet - INFO - Epoch [7][500/2001]\tlr: 5.000e-03, eta: 11:51:55, time: 0.819, data_time: 0.011, memory: 6189, loss_rpn_cls: 0.0031, loss_rpn_bbox: 0.0337, loss_cls: 0.1063, acc: 95.5820, loss_bbox: 0.2441, loss: 0.3871\n",
      "2020-12-30 13:32:09,930 - mmdet - INFO - Epoch [7][550/2001]\tlr: 5.000e-03, eta: 11:50:56, time: 0.820, data_time: 0.011, memory: 6189, loss_rpn_cls: 0.0032, loss_rpn_bbox: 0.0355, loss_cls: 0.1041, acc: 95.7500, loss_bbox: 0.2516, loss: 0.3943\n",
      "2020-12-30 13:32:50,886 - mmdet - INFO - Epoch [7][600/2001]\tlr: 5.000e-03, eta: 11:49:56, time: 0.819, data_time: 0.011, memory: 6189, loss_rpn_cls: 0.0030, loss_rpn_bbox: 0.0326, loss_cls: 0.0984, acc: 95.9824, loss_bbox: 0.2353, loss: 0.3692\n",
      "2020-12-30 13:33:31,843 - mmdet - INFO - Epoch [7][650/2001]\tlr: 5.000e-03, eta: 11:48:56, time: 0.819, data_time: 0.011, memory: 6189, loss_rpn_cls: 0.0035, loss_rpn_bbox: 0.0345, loss_cls: 0.1045, acc: 95.6729, loss_bbox: 0.2453, loss: 0.3878\n",
      "2020-12-30 13:34:12,812 - mmdet - INFO - Epoch [7][700/2001]\tlr: 5.000e-03, eta: 11:47:56, time: 0.819, data_time: 0.011, memory: 6189, loss_rpn_cls: 0.0029, loss_rpn_bbox: 0.0337, loss_cls: 0.0998, acc: 95.9902, loss_bbox: 0.2468, loss: 0.3832\n",
      "2020-12-30 13:34:53,984 - mmdet - INFO - Epoch [7][750/2001]\tlr: 5.000e-03, eta: 11:46:58, time: 0.823, data_time: 0.011, memory: 6189, loss_rpn_cls: 0.0034, loss_rpn_bbox: 0.0335, loss_cls: 0.0955, acc: 96.1377, loss_bbox: 0.2398, loss: 0.3722\n",
      "2020-12-30 13:35:34,932 - mmdet - INFO - Epoch [7][800/2001]\tlr: 5.000e-03, eta: 11:45:59, time: 0.819, data_time: 0.011, memory: 6189, loss_rpn_cls: 0.0036, loss_rpn_bbox: 0.0370, loss_cls: 0.0992, acc: 96.0264, loss_bbox: 0.2469, loss: 0.3867\n",
      "2020-12-30 13:36:15,894 - mmdet - INFO - Epoch [7][850/2001]\tlr: 5.000e-03, eta: 11:44:59, time: 0.819, data_time: 0.011, memory: 6189, loss_rpn_cls: 0.0033, loss_rpn_bbox: 0.0324, loss_cls: 0.0981, acc: 95.9883, loss_bbox: 0.2366, loss: 0.3704\n",
      "2020-12-30 13:36:56,851 - mmdet - INFO - Epoch [7][900/2001]\tlr: 5.000e-03, eta: 11:44:00, time: 0.819, data_time: 0.011, memory: 6189, loss_rpn_cls: 0.0036, loss_rpn_bbox: 0.0327, loss_cls: 0.1014, acc: 95.8193, loss_bbox: 0.2378, loss: 0.3756\n",
      "2020-12-30 13:37:37,866 - mmdet - INFO - Epoch [7][950/2001]\tlr: 5.000e-03, eta: 11:43:02, time: 0.820, data_time: 0.011, memory: 6189, loss_rpn_cls: 0.0029, loss_rpn_bbox: 0.0298, loss_cls: 0.1047, acc: 95.7324, loss_bbox: 0.2453, loss: 0.3827\n",
      "2020-12-30 13:38:18,791 - mmdet - INFO - Epoch [7][1000/2001]\tlr: 5.000e-03, eta: 11:42:03, time: 0.818, data_time: 0.011, memory: 6189, loss_rpn_cls: 0.0030, loss_rpn_bbox: 0.0319, loss_cls: 0.1005, acc: 95.8281, loss_bbox: 0.2383, loss: 0.3737\n",
      "2020-12-30 13:38:59,734 - mmdet - INFO - Epoch [7][1050/2001]\tlr: 5.000e-03, eta: 11:41:04, time: 0.819, data_time: 0.011, memory: 6189, loss_rpn_cls: 0.0032, loss_rpn_bbox: 0.0335, loss_cls: 0.1046, acc: 95.6982, loss_bbox: 0.2461, loss: 0.3875\n",
      "2020-12-30 13:39:41,316 - mmdet - INFO - Epoch [7][1100/2001]\tlr: 5.000e-03, eta: 11:40:08, time: 0.832, data_time: 0.011, memory: 6189, loss_rpn_cls: 0.0034, loss_rpn_bbox: 0.0378, loss_cls: 0.1010, acc: 95.8945, loss_bbox: 0.2498, loss: 0.3920\n",
      "2020-12-30 13:40:22,337 - mmdet - INFO - Epoch [7][1150/2001]\tlr: 5.000e-03, eta: 11:39:10, time: 0.820, data_time: 0.011, memory: 6189, loss_rpn_cls: 0.0034, loss_rpn_bbox: 0.0333, loss_cls: 0.0991, acc: 95.9346, loss_bbox: 0.2376, loss: 0.3733\n",
      "2020-12-30 13:41:03,230 - mmdet - INFO - Epoch [7][1200/2001]\tlr: 5.000e-03, eta: 11:38:12, time: 0.818, data_time: 0.011, memory: 6189, loss_rpn_cls: 0.0030, loss_rpn_bbox: 0.0309, loss_cls: 0.0998, acc: 95.9082, loss_bbox: 0.2310, loss: 0.3647\n",
      "2020-12-30 13:41:44,396 - mmdet - INFO - Epoch [7][1250/2001]\tlr: 5.000e-03, eta: 11:37:14, time: 0.823, data_time: 0.011, memory: 6189, loss_rpn_cls: 0.0033, loss_rpn_bbox: 0.0337, loss_cls: 0.0997, acc: 95.9033, loss_bbox: 0.2423, loss: 0.3790\n",
      "2020-12-30 13:42:25,348 - mmdet - INFO - Epoch [7][1300/2001]\tlr: 5.000e-03, eta: 11:36:16, time: 0.819, data_time: 0.011, memory: 6189, loss_rpn_cls: 0.0031, loss_rpn_bbox: 0.0351, loss_cls: 0.1051, acc: 95.6836, loss_bbox: 0.2462, loss: 0.3895\n",
      "2020-12-30 13:43:06,324 - mmdet - INFO - Epoch [7][1350/2001]\tlr: 5.000e-03, eta: 11:35:19, time: 0.820, data_time: 0.011, memory: 6189, loss_rpn_cls: 0.0029, loss_rpn_bbox: 0.0342, loss_cls: 0.0981, acc: 95.9648, loss_bbox: 0.2438, loss: 0.3790\n",
      "2020-12-30 13:43:47,317 - mmdet - INFO - Epoch [7][1400/2001]\tlr: 5.000e-03, eta: 11:34:21, time: 0.820, data_time: 0.011, memory: 6189, loss_rpn_cls: 0.0027, loss_rpn_bbox: 0.0342, loss_cls: 0.1010, acc: 95.8691, loss_bbox: 0.2404, loss: 0.3783\n",
      "2020-12-30 13:44:28,291 - mmdet - INFO - Epoch [7][1450/2001]\tlr: 5.000e-03, eta: 11:33:24, time: 0.819, data_time: 0.011, memory: 6189, loss_rpn_cls: 0.0034, loss_rpn_bbox: 0.0336, loss_cls: 0.1003, acc: 95.8877, loss_bbox: 0.2443, loss: 0.3816\n",
      "2020-12-30 13:45:09,443 - mmdet - INFO - Epoch [7][1500/2001]\tlr: 5.000e-03, eta: 11:32:27, time: 0.823, data_time: 0.011, memory: 6189, loss_rpn_cls: 0.0032, loss_rpn_bbox: 0.0321, loss_cls: 0.1017, acc: 95.8389, loss_bbox: 0.2480, loss: 0.3851\n",
      "2020-12-30 13:45:50,974 - mmdet - INFO - Epoch [7][1550/2001]\tlr: 5.000e-03, eta: 11:31:31, time: 0.831, data_time: 0.011, memory: 6189, loss_rpn_cls: 0.0029, loss_rpn_bbox: 0.0320, loss_cls: 0.1003, acc: 95.8691, loss_bbox: 0.2339, loss: 0.3690\n",
      "2020-12-30 13:46:31,940 - mmdet - INFO - Epoch [7][1600/2001]\tlr: 5.000e-03, eta: 11:30:34, time: 0.819, data_time: 0.011, memory: 6189, loss_rpn_cls: 0.0026, loss_rpn_bbox: 0.0303, loss_cls: 0.1005, acc: 95.9062, loss_bbox: 0.2405, loss: 0.3739\n",
      "2020-12-30 13:47:12,973 - mmdet - INFO - Epoch [7][1650/2001]\tlr: 5.000e-03, eta: 11:29:37, time: 0.821, data_time: 0.011, memory: 6189, loss_rpn_cls: 0.0040, loss_rpn_bbox: 0.0352, loss_cls: 0.1004, acc: 95.8340, loss_bbox: 0.2536, loss: 0.3932\n",
      "2020-12-30 13:47:53,855 - mmdet - INFO - Epoch [7][1700/2001]\tlr: 5.000e-03, eta: 11:28:40, time: 0.818, data_time: 0.011, memory: 6189, loss_rpn_cls: 0.0036, loss_rpn_bbox: 0.0338, loss_cls: 0.0991, acc: 95.9150, loss_bbox: 0.2452, loss: 0.3816\n"
     ]
    },
    {
     "name": "stderr",
     "output_type": "stream",
     "text": [
      "2020-12-30 13:48:34,832 - mmdet - INFO - Epoch [7][1750/2001]\tlr: 5.000e-03, eta: 11:27:43, time: 0.819, data_time: 0.011, memory: 6189, loss_rpn_cls: 0.0037, loss_rpn_bbox: 0.0336, loss_cls: 0.0981, acc: 96.0244, loss_bbox: 0.2441, loss: 0.3795\n",
      "2020-12-30 13:49:15,793 - mmdet - INFO - Epoch [7][1800/2001]\tlr: 5.000e-03, eta: 11:26:47, time: 0.819, data_time: 0.011, memory: 6189, loss_rpn_cls: 0.0035, loss_rpn_bbox: 0.0319, loss_cls: 0.0996, acc: 95.8564, loss_bbox: 0.2400, loss: 0.3750\n",
      "2020-12-30 13:49:56,762 - mmdet - INFO - Epoch [7][1850/2001]\tlr: 5.000e-03, eta: 11:25:50, time: 0.820, data_time: 0.011, memory: 6189, loss_rpn_cls: 0.0040, loss_rpn_bbox: 0.0329, loss_cls: 0.0974, acc: 95.9824, loss_bbox: 0.2379, loss: 0.3722\n",
      "2020-12-30 13:50:37,805 - mmdet - INFO - Epoch [7][1900/2001]\tlr: 5.000e-03, eta: 11:24:54, time: 0.821, data_time: 0.011, memory: 6189, loss_rpn_cls: 0.0040, loss_rpn_bbox: 0.0315, loss_cls: 0.1007, acc: 95.8730, loss_bbox: 0.2471, loss: 0.3833\n",
      "2020-12-30 13:51:18,656 - mmdet - INFO - Epoch [7][1950/2001]\tlr: 5.000e-03, eta: 11:23:57, time: 0.817, data_time: 0.011, memory: 6189, loss_rpn_cls: 0.0030, loss_rpn_bbox: 0.0328, loss_cls: 0.1007, acc: 95.9023, loss_bbox: 0.2398, loss: 0.3762\n",
      "2020-12-30 13:51:59,645 - mmdet - INFO - Epoch [7][2000/2001]\tlr: 5.000e-03, eta: 11:23:01, time: 0.820, data_time: 0.011, memory: 6189, loss_rpn_cls: 0.0030, loss_rpn_bbox: 0.0343, loss_cls: 0.0970, acc: 96.0352, loss_bbox: 0.2432, loss: 0.3775\n",
      "2020-12-30 13:52:00,338 - mmdet - INFO - Saving checkpoint at 7 epochs\n"
     ]
    },
    {
     "name": "stdout",
     "output_type": "stream",
     "text": [
      "[>>>>>>>>>>>>>>>>>>>>>>>>>>] 2013/2013, 11.1 task/s, elapsed: 182s, ETA:     0s"
     ]
    },
    {
     "name": "stderr",
     "output_type": "stream",
     "text": [
      "2020-12-30 13:55:03,188 - mmdet - INFO - \n",
      "Evaluateing mmdet/valid_44.json with 2013 images now\n",
      "2020-12-30 13:55:03,744 - mmdet - INFO - Evaluating bbox...\n"
     ]
    },
    {
     "name": "stdout",
     "output_type": "stream",
     "text": [
      "Loading and preparing results...\n",
      "DONE (t=0.40s)\n",
      "creating index...\n",
      "index created!\n",
      "Running per image evaluation...\n",
      "Evaluate annotation type *bbox*\n",
      "DONE (t=15.97s).\n",
      "Accumulating evaluation results...\n"
     ]
    },
    {
     "name": "stderr",
     "output_type": "stream",
     "text": [
      "2020-12-30 13:55:20,895 - mmdet - INFO - Epoch(val) [7][2001]\t0_bbox_mAP: 0.2770, 0_bbox_mAP_50: 0.4690, 0_bbox_mAP_75: 0.3020, 0_bbox_mAP_s: 0.2730, 0_bbox_mAP_m: 0.4630, 0_bbox_mAP_l: -1.0000, 0_bbox_mAP_copypaste: 0.277 0.469 0.302 0.273 0.463 -1.000\n"
     ]
    },
    {
     "name": "stdout",
     "output_type": "stream",
     "text": [
      "DONE (t=0.70s).\n",
      "Average Precision  (AP) @[ IoU=0.50:0.95 | area=   all | maxDets=100 ] = 0.277\n",
      "Average Precision  (AP) @[ IoU=0.50      | area=   all | maxDets=1000 ] = 0.469\n",
      "Average Precision  (AP) @[ IoU=0.75      | area=   all | maxDets=1000 ] = 0.302\n",
      "Average Precision  (AP) @[ IoU=0.50:0.95 | area= small | maxDets=1000 ] = 0.273\n",
      "Average Precision  (AP) @[ IoU=0.50:0.95 | area=medium | maxDets=1000 ] = 0.463\n",
      "Average Precision  (AP) @[ IoU=0.50:0.95 | area= large | maxDets=1000 ] = -1.000\n",
      "Average Recall     (AR) @[ IoU=0.50:0.95 | area=   all | maxDets=100 ] = 0.351\n",
      "Average Recall     (AR) @[ IoU=0.50:0.95 | area=   all | maxDets=300 ] = 0.351\n",
      "Average Recall     (AR) @[ IoU=0.50:0.95 | area=   all | maxDets=1000 ] = 0.351\n",
      "Average Recall     (AR) @[ IoU=0.50:0.95 | area= small | maxDets=1000 ] = 0.347\n",
      "Average Recall     (AR) @[ IoU=0.50:0.95 | area=medium | maxDets=1000 ] = 0.527\n",
      "Average Recall     (AR) @[ IoU=0.50:0.95 | area= large | maxDets=1000 ] = -1.000\n"
     ]
    },
    {
     "name": "stderr",
     "output_type": "stream",
     "text": [
      "2020-12-30 13:56:04,366 - mmdet - INFO - Epoch [8][50/2001]\tlr: 5.000e-03, eta: 11:22:09, time: 0.865, data_time: 0.056, memory: 6189, loss_rpn_cls: 0.0028, loss_rpn_bbox: 0.0309, loss_cls: 0.0924, acc: 96.1934, loss_bbox: 0.2350, loss: 0.3611\n",
      "2020-12-30 13:56:45,286 - mmdet - INFO - Epoch [8][100/2001]\tlr: 5.000e-03, eta: 11:21:12, time: 0.818, data_time: 0.010, memory: 6189, loss_rpn_cls: 0.0025, loss_rpn_bbox: 0.0310, loss_cls: 0.0923, acc: 96.2354, loss_bbox: 0.2371, loss: 0.3628\n",
      "2020-12-30 13:57:26,295 - mmdet - INFO - Epoch [8][150/2001]\tlr: 5.000e-03, eta: 11:20:16, time: 0.820, data_time: 0.010, memory: 6189, loss_rpn_cls: 0.0032, loss_rpn_bbox: 0.0336, loss_cls: 0.1009, acc: 95.8037, loss_bbox: 0.2371, loss: 0.3748\n",
      "2020-12-30 13:58:07,376 - mmdet - INFO - Epoch [8][200/2001]\tlr: 5.000e-03, eta: 11:19:21, time: 0.822, data_time: 0.011, memory: 6189, loss_rpn_cls: 0.0027, loss_rpn_bbox: 0.0300, loss_cls: 0.0942, acc: 96.1211, loss_bbox: 0.2264, loss: 0.3533\n",
      "2020-12-30 13:58:48,255 - mmdet - INFO - Epoch [8][250/2001]\tlr: 5.000e-03, eta: 11:18:25, time: 0.818, data_time: 0.010, memory: 6189, loss_rpn_cls: 0.0024, loss_rpn_bbox: 0.0322, loss_cls: 0.0956, acc: 96.0527, loss_bbox: 0.2355, loss: 0.3658\n",
      "2020-12-30 13:59:29,446 - mmdet - INFO - Epoch [8][300/2001]\tlr: 5.000e-03, eta: 11:17:30, time: 0.824, data_time: 0.010, memory: 6189, loss_rpn_cls: 0.0036, loss_rpn_bbox: 0.0316, loss_cls: 0.0929, acc: 96.2041, loss_bbox: 0.2343, loss: 0.3624\n",
      "2020-12-30 14:00:10,399 - mmdet - INFO - Epoch [8][350/2001]\tlr: 5.000e-03, eta: 11:16:34, time: 0.819, data_time: 0.010, memory: 6189, loss_rpn_cls: 0.0029, loss_rpn_bbox: 0.0303, loss_cls: 0.0938, acc: 96.1357, loss_bbox: 0.2400, loss: 0.3669\n",
      "2020-12-30 14:00:51,596 - mmdet - INFO - Epoch [8][400/2001]\tlr: 5.000e-03, eta: 11:15:40, time: 0.824, data_time: 0.011, memory: 6189, loss_rpn_cls: 0.0032, loss_rpn_bbox: 0.0304, loss_cls: 0.0991, acc: 95.9111, loss_bbox: 0.2452, loss: 0.3779\n",
      "2020-12-30 14:01:32,671 - mmdet - INFO - Epoch [8][450/2001]\tlr: 5.000e-03, eta: 11:14:45, time: 0.821, data_time: 0.010, memory: 6189, loss_rpn_cls: 0.0025, loss_rpn_bbox: 0.0329, loss_cls: 0.0945, acc: 96.0840, loss_bbox: 0.2391, loss: 0.3691\n",
      "2020-12-30 14:02:13,872 - mmdet - INFO - Epoch [8][500/2001]\tlr: 5.000e-03, eta: 11:13:50, time: 0.824, data_time: 0.010, memory: 6189, loss_rpn_cls: 0.0030, loss_rpn_bbox: 0.0342, loss_cls: 0.0926, acc: 96.1875, loss_bbox: 0.2362, loss: 0.3661\n",
      "2020-12-30 14:02:55,022 - mmdet - INFO - Epoch [8][550/2001]\tlr: 5.000e-03, eta: 11:12:56, time: 0.823, data_time: 0.011, memory: 6189, loss_rpn_cls: 0.0031, loss_rpn_bbox: 0.0327, loss_cls: 0.0953, acc: 96.0615, loss_bbox: 0.2366, loss: 0.3678\n",
      "2020-12-30 14:03:36,356 - mmdet - INFO - Epoch [8][600/2001]\tlr: 5.000e-03, eta: 11:12:02, time: 0.827, data_time: 0.010, memory: 6189, loss_rpn_cls: 0.0026, loss_rpn_bbox: 0.0320, loss_cls: 0.0980, acc: 95.9697, loss_bbox: 0.2411, loss: 0.3737\n",
      "2020-12-30 14:04:17,360 - mmdet - INFO - Epoch [8][650/2001]\tlr: 5.000e-03, eta: 11:11:07, time: 0.820, data_time: 0.010, memory: 6189, loss_rpn_cls: 0.0027, loss_rpn_bbox: 0.0308, loss_cls: 0.0928, acc: 96.1816, loss_bbox: 0.2356, loss: 0.3620\n",
      "2020-12-30 14:04:58,484 - mmdet - INFO - Epoch [8][700/2001]\tlr: 5.000e-03, eta: 11:10:13, time: 0.823, data_time: 0.011, memory: 6189, loss_rpn_cls: 0.0037, loss_rpn_bbox: 0.0355, loss_cls: 0.0953, acc: 96.0469, loss_bbox: 0.2433, loss: 0.3778\n",
      "2020-12-30 14:05:39,465 - mmdet - INFO - Epoch [8][750/2001]\tlr: 5.000e-03, eta: 11:09:18, time: 0.820, data_time: 0.010, memory: 6189, loss_rpn_cls: 0.0029, loss_rpn_bbox: 0.0326, loss_cls: 0.0938, acc: 96.0967, loss_bbox: 0.2383, loss: 0.3676\n",
      "2020-12-30 14:06:20,445 - mmdet - INFO - Epoch [8][800/2001]\tlr: 5.000e-03, eta: 11:08:23, time: 0.820, data_time: 0.010, memory: 6189, loss_rpn_cls: 0.0032, loss_rpn_bbox: 0.0323, loss_cls: 0.0918, acc: 96.2080, loss_bbox: 0.2315, loss: 0.3588\n",
      "2020-12-30 14:07:01,382 - mmdet - INFO - Epoch [8][850/2001]\tlr: 5.000e-03, eta: 11:07:28, time: 0.819, data_time: 0.011, memory: 6189, loss_rpn_cls: 0.0033, loss_rpn_bbox: 0.0291, loss_cls: 0.0952, acc: 96.1191, loss_bbox: 0.2334, loss: 0.3611\n",
      "2020-12-30 14:07:42,323 - mmdet - INFO - Epoch [8][900/2001]\tlr: 5.000e-03, eta: 11:06:34, time: 0.819, data_time: 0.010, memory: 6189, loss_rpn_cls: 0.0036, loss_rpn_bbox: 0.0310, loss_cls: 0.0933, acc: 96.1562, loss_bbox: 0.2281, loss: 0.3560\n",
      "2020-12-30 14:08:23,298 - mmdet - INFO - Epoch [8][950/2001]\tlr: 5.000e-03, eta: 11:05:39, time: 0.819, data_time: 0.010, memory: 6189, loss_rpn_cls: 0.0030, loss_rpn_bbox: 0.0352, loss_cls: 0.0978, acc: 96.0205, loss_bbox: 0.2363, loss: 0.3723\n",
      "2020-12-30 14:09:04,253 - mmdet - INFO - Epoch [8][1000/2001]\tlr: 5.000e-03, eta: 11:04:45, time: 0.819, data_time: 0.010, memory: 6189, loss_rpn_cls: 0.0035, loss_rpn_bbox: 0.0340, loss_cls: 0.0963, acc: 96.1074, loss_bbox: 0.2359, loss: 0.3696\n",
      "2020-12-30 14:09:45,223 - mmdet - INFO - Epoch [8][1050/2001]\tlr: 5.000e-03, eta: 11:03:51, time: 0.819, data_time: 0.010, memory: 6189, loss_rpn_cls: 0.0028, loss_rpn_bbox: 0.0306, loss_cls: 0.0950, acc: 96.1660, loss_bbox: 0.2328, loss: 0.3612\n",
      "2020-12-30 14:10:26,182 - mmdet - INFO - Epoch [8][1100/2001]\tlr: 5.000e-03, eta: 11:02:57, time: 0.819, data_time: 0.011, memory: 6189, loss_rpn_cls: 0.0028, loss_rpn_bbox: 0.0341, loss_cls: 0.0934, acc: 96.1699, loss_bbox: 0.2285, loss: 0.3589\n",
      "2020-12-30 14:11:07,149 - mmdet - INFO - Epoch [8][1150/2001]\tlr: 5.000e-03, eta: 11:02:03, time: 0.819, data_time: 0.011, memory: 6189, loss_rpn_cls: 0.0030, loss_rpn_bbox: 0.0290, loss_cls: 0.0976, acc: 95.9961, loss_bbox: 0.2329, loss: 0.3625\n",
      "2020-12-30 14:11:48,114 - mmdet - INFO - Epoch [8][1200/2001]\tlr: 5.000e-03, eta: 11:01:09, time: 0.819, data_time: 0.010, memory: 6189, loss_rpn_cls: 0.0027, loss_rpn_bbox: 0.0308, loss_cls: 0.0955, acc: 96.0459, loss_bbox: 0.2320, loss: 0.3610\n",
      "2020-12-30 14:12:29,080 - mmdet - INFO - Epoch [8][1250/2001]\tlr: 5.000e-03, eta: 11:00:15, time: 0.819, data_time: 0.010, memory: 6189, loss_rpn_cls: 0.0026, loss_rpn_bbox: 0.0335, loss_cls: 0.0939, acc: 96.1152, loss_bbox: 0.2484, loss: 0.3784\n",
      "2020-12-30 14:13:10,011 - mmdet - INFO - Epoch [8][1300/2001]\tlr: 5.000e-03, eta: 10:59:21, time: 0.819, data_time: 0.011, memory: 6189, loss_rpn_cls: 0.0030, loss_rpn_bbox: 0.0329, loss_cls: 0.0975, acc: 96.0479, loss_bbox: 0.2413, loss: 0.3747\n",
      "2020-12-30 14:13:51,009 - mmdet - INFO - Epoch [8][1350/2001]\tlr: 5.000e-03, eta: 10:58:27, time: 0.820, data_time: 0.010, memory: 6189, loss_rpn_cls: 0.0032, loss_rpn_bbox: 0.0319, loss_cls: 0.0947, acc: 96.0508, loss_bbox: 0.2366, loss: 0.3664\n",
      "2020-12-30 14:14:31,940 - mmdet - INFO - Epoch [8][1400/2001]\tlr: 5.000e-03, eta: 10:57:34, time: 0.819, data_time: 0.011, memory: 6189, loss_rpn_cls: 0.0030, loss_rpn_bbox: 0.0300, loss_cls: 0.0896, acc: 96.3477, loss_bbox: 0.2269, loss: 0.3495\n",
      "2020-12-30 14:15:13,118 - mmdet - INFO - Epoch [8][1450/2001]\tlr: 5.000e-03, eta: 10:56:41, time: 0.824, data_time: 0.011, memory: 6189, loss_rpn_cls: 0.0032, loss_rpn_bbox: 0.0329, loss_cls: 0.0920, acc: 96.1621, loss_bbox: 0.2304, loss: 0.3585\n",
      "2020-12-30 14:15:54,059 - mmdet - INFO - Epoch [8][1500/2001]\tlr: 5.000e-03, eta: 10:55:47, time: 0.819, data_time: 0.011, memory: 6189, loss_rpn_cls: 0.0030, loss_rpn_bbox: 0.0295, loss_cls: 0.0915, acc: 96.1934, loss_bbox: 0.2259, loss: 0.3498\n",
      "2020-12-30 14:16:35,219 - mmdet - INFO - Epoch [8][1550/2001]\tlr: 5.000e-03, eta: 10:54:54, time: 0.823, data_time: 0.010, memory: 6189, loss_rpn_cls: 0.0023, loss_rpn_bbox: 0.0320, loss_cls: 0.0899, acc: 96.3086, loss_bbox: 0.2300, loss: 0.3542\n",
      "2020-12-30 14:17:16,198 - mmdet - INFO - Epoch [8][1600/2001]\tlr: 5.000e-03, eta: 10:54:01, time: 0.819, data_time: 0.011, memory: 6189, loss_rpn_cls: 0.0033, loss_rpn_bbox: 0.0331, loss_cls: 0.0941, acc: 96.0947, loss_bbox: 0.2333, loss: 0.3638\n",
      "2020-12-30 14:17:57,158 - mmdet - INFO - Epoch [8][1650/2001]\tlr: 5.000e-03, eta: 10:53:08, time: 0.819, data_time: 0.011, memory: 6189, loss_rpn_cls: 0.0027, loss_rpn_bbox: 0.0341, loss_cls: 0.0928, acc: 96.1621, loss_bbox: 0.2307, loss: 0.3603\n",
      "2020-12-30 14:18:38,136 - mmdet - INFO - Epoch [8][1700/2001]\tlr: 5.000e-03, eta: 10:52:14, time: 0.820, data_time: 0.011, memory: 6189, loss_rpn_cls: 0.0025, loss_rpn_bbox: 0.0300, loss_cls: 0.0912, acc: 96.2266, loss_bbox: 0.2336, loss: 0.3574\n"
     ]
    },
    {
     "name": "stderr",
     "output_type": "stream",
     "text": [
      "2020-12-30 14:19:19,081 - mmdet - INFO - Epoch [8][1750/2001]\tlr: 5.000e-03, eta: 10:51:21, time: 0.819, data_time: 0.011, memory: 6189, loss_rpn_cls: 0.0027, loss_rpn_bbox: 0.0349, loss_cls: 0.0934, acc: 96.2021, loss_bbox: 0.2334, loss: 0.3644\n",
      "2020-12-30 14:20:00,054 - mmdet - INFO - Epoch [8][1800/2001]\tlr: 5.000e-03, eta: 10:50:28, time: 0.819, data_time: 0.011, memory: 6189, loss_rpn_cls: 0.0027, loss_rpn_bbox: 0.0321, loss_cls: 0.0927, acc: 96.1816, loss_bbox: 0.2322, loss: 0.3597\n",
      "2020-12-30 14:20:41,011 - mmdet - INFO - Epoch [8][1850/2001]\tlr: 5.000e-03, eta: 10:49:35, time: 0.819, data_time: 0.011, memory: 6189, loss_rpn_cls: 0.0029, loss_rpn_bbox: 0.0305, loss_cls: 0.0913, acc: 96.2920, loss_bbox: 0.2282, loss: 0.3529\n",
      "2020-12-30 14:21:21,946 - mmdet - INFO - Epoch [8][1900/2001]\tlr: 5.000e-03, eta: 10:48:42, time: 0.819, data_time: 0.011, memory: 6189, loss_rpn_cls: 0.0024, loss_rpn_bbox: 0.0310, loss_cls: 0.0874, acc: 96.3721, loss_bbox: 0.2261, loss: 0.3470\n",
      "2020-12-30 14:22:02,925 - mmdet - INFO - Epoch [8][1950/2001]\tlr: 5.000e-03, eta: 10:47:50, time: 0.819, data_time: 0.011, memory: 6189, loss_rpn_cls: 0.0035, loss_rpn_bbox: 0.0312, loss_cls: 0.0960, acc: 96.0332, loss_bbox: 0.2302, loss: 0.3609\n",
      "2020-12-30 14:22:43,960 - mmdet - INFO - Epoch [8][2000/2001]\tlr: 5.000e-03, eta: 10:46:57, time: 0.821, data_time: 0.011, memory: 6189, loss_rpn_cls: 0.0037, loss_rpn_bbox: 0.0322, loss_cls: 0.0963, acc: 96.0273, loss_bbox: 0.2419, loss: 0.3740\n",
      "2020-12-30 14:22:44,677 - mmdet - INFO - Saving checkpoint at 8 epochs\n"
     ]
    },
    {
     "name": "stdout",
     "output_type": "stream",
     "text": [
      "[>>>>>>>>>>>>>>>>>>>>>>>>>>] 2013/2013, 11.0 task/s, elapsed: 183s, ETA:     0s"
     ]
    },
    {
     "name": "stderr",
     "output_type": "stream",
     "text": [
      "2020-12-30 14:25:48,143 - mmdet - INFO - \n",
      "Evaluateing mmdet/valid_44.json with 2013 images now\n",
      "2020-12-30 14:25:48,605 - mmdet - INFO - Evaluating bbox...\n"
     ]
    },
    {
     "name": "stdout",
     "output_type": "stream",
     "text": [
      "Loading and preparing results...\n",
      "DONE (t=0.29s)\n",
      "creating index...\n",
      "index created!\n",
      "Running per image evaluation...\n",
      "Evaluate annotation type *bbox*\n",
      "DONE (t=15.58s).\n",
      "Accumulating evaluation results...\n"
     ]
    },
    {
     "name": "stderr",
     "output_type": "stream",
     "text": [
      "2020-12-30 14:26:05,258 - mmdet - INFO - Epoch(val) [8][2001]\t0_bbox_mAP: 0.2780, 0_bbox_mAP_50: 0.4710, 0_bbox_mAP_75: 0.3050, 0_bbox_mAP_s: 0.2740, 0_bbox_mAP_m: 0.4580, 0_bbox_mAP_l: -1.0000, 0_bbox_mAP_copypaste: 0.278 0.471 0.305 0.274 0.458 -1.000\n"
     ]
    },
    {
     "name": "stdout",
     "output_type": "stream",
     "text": [
      "DONE (t=0.71s).\n",
      "Average Precision  (AP) @[ IoU=0.50:0.95 | area=   all | maxDets=100 ] = 0.278\n",
      "Average Precision  (AP) @[ IoU=0.50      | area=   all | maxDets=1000 ] = 0.471\n",
      "Average Precision  (AP) @[ IoU=0.75      | area=   all | maxDets=1000 ] = 0.305\n",
      "Average Precision  (AP) @[ IoU=0.50:0.95 | area= small | maxDets=1000 ] = 0.274\n",
      "Average Precision  (AP) @[ IoU=0.50:0.95 | area=medium | maxDets=1000 ] = 0.458\n",
      "Average Precision  (AP) @[ IoU=0.50:0.95 | area= large | maxDets=1000 ] = -1.000\n",
      "Average Recall     (AR) @[ IoU=0.50:0.95 | area=   all | maxDets=100 ] = 0.356\n",
      "Average Recall     (AR) @[ IoU=0.50:0.95 | area=   all | maxDets=300 ] = 0.356\n",
      "Average Recall     (AR) @[ IoU=0.50:0.95 | area=   all | maxDets=1000 ] = 0.356\n",
      "Average Recall     (AR) @[ IoU=0.50:0.95 | area= small | maxDets=1000 ] = 0.352\n",
      "Average Recall     (AR) @[ IoU=0.50:0.95 | area=medium | maxDets=1000 ] = 0.522\n",
      "Average Recall     (AR) @[ IoU=0.50:0.95 | area= large | maxDets=1000 ] = -1.000\n"
     ]
    },
    {
     "name": "stderr",
     "output_type": "stream",
     "text": [
      "2020-12-30 14:26:48,663 - mmdet - INFO - Epoch [9][50/2001]\tlr: 5.000e-04, eta: 10:46:07, time: 0.864, data_time: 0.056, memory: 6189, loss_rpn_cls: 0.0033, loss_rpn_bbox: 0.0271, loss_cls: 0.0826, acc: 96.6504, loss_bbox: 0.2094, loss: 0.3224\n",
      "2020-12-30 14:27:29,811 - mmdet - INFO - Epoch [9][100/2001]\tlr: 5.000e-04, eta: 10:45:15, time: 0.823, data_time: 0.011, memory: 6189, loss_rpn_cls: 0.0021, loss_rpn_bbox: 0.0270, loss_cls: 0.0821, acc: 96.6074, loss_bbox: 0.2073, loss: 0.3184\n",
      "2020-12-30 14:28:10,761 - mmdet - INFO - Epoch [9][150/2001]\tlr: 5.000e-04, eta: 10:44:23, time: 0.819, data_time: 0.010, memory: 6189, loss_rpn_cls: 0.0020, loss_rpn_bbox: 0.0285, loss_cls: 0.0777, acc: 96.8271, loss_bbox: 0.2051, loss: 0.3134\n",
      "2020-12-30 14:28:56,277 - mmdet - INFO - Epoch [9][200/2001]\tlr: 5.000e-04, eta: 10:43:42, time: 0.909, data_time: 0.011, memory: 6189, loss_rpn_cls: 0.0023, loss_rpn_bbox: 0.0302, loss_cls: 0.0841, acc: 96.5469, loss_bbox: 0.2173, loss: 0.3339\n",
      "2020-12-30 14:30:04,997 - mmdet - INFO - Epoch [9][250/2001]\tlr: 5.000e-04, eta: 10:44:05, time: 1.374, data_time: 0.014, memory: 6189, loss_rpn_cls: 0.0023, loss_rpn_bbox: 0.0278, loss_cls: 0.0830, acc: 96.4961, loss_bbox: 0.2096, loss: 0.3227\n",
      "2020-12-30 14:31:13,495 - mmdet - INFO - Epoch [9][300/2001]\tlr: 5.000e-04, eta: 10:44:26, time: 1.371, data_time: 0.014, memory: 6189, loss_rpn_cls: 0.0031, loss_rpn_bbox: 0.0267, loss_cls: 0.0784, acc: 96.7627, loss_bbox: 0.2091, loss: 0.3172\n",
      "2020-12-30 14:32:22,036 - mmdet - INFO - Epoch [9][350/2001]\tlr: 5.000e-04, eta: 10:44:47, time: 1.371, data_time: 0.014, memory: 6189, loss_rpn_cls: 0.0027, loss_rpn_bbox: 0.0278, loss_cls: 0.0798, acc: 96.7510, loss_bbox: 0.2096, loss: 0.3198\n",
      "2020-12-30 14:33:30,893 - mmdet - INFO - Epoch [9][400/2001]\tlr: 5.000e-04, eta: 10:45:08, time: 1.377, data_time: 0.013, memory: 6189, loss_rpn_cls: 0.0024, loss_rpn_bbox: 0.0286, loss_cls: 0.0807, acc: 96.6865, loss_bbox: 0.2100, loss: 0.3216\n",
      "2020-12-30 14:34:39,397 - mmdet - INFO - Epoch [9][450/2001]\tlr: 5.000e-04, eta: 10:45:27, time: 1.370, data_time: 0.013, memory: 6189, loss_rpn_cls: 0.0028, loss_rpn_bbox: 0.0292, loss_cls: 0.0806, acc: 96.6582, loss_bbox: 0.2110, loss: 0.3235\n",
      "2020-12-30 14:35:47,749 - mmdet - INFO - Epoch [9][500/2001]\tlr: 5.000e-04, eta: 10:45:46, time: 1.367, data_time: 0.014, memory: 6189, loss_rpn_cls: 0.0024, loss_rpn_bbox: 0.0295, loss_cls: 0.0787, acc: 96.6865, loss_bbox: 0.2070, loss: 0.3176\n",
      "2020-12-30 14:36:56,734 - mmdet - INFO - Epoch [9][550/2001]\tlr: 5.000e-04, eta: 10:46:05, time: 1.380, data_time: 0.013, memory: 6189, loss_rpn_cls: 0.0024, loss_rpn_bbox: 0.0273, loss_cls: 0.0777, acc: 96.8145, loss_bbox: 0.2089, loss: 0.3164\n",
      "2020-12-30 14:38:05,045 - mmdet - INFO - Epoch [9][600/2001]\tlr: 5.000e-04, eta: 10:46:23, time: 1.366, data_time: 0.013, memory: 6189, loss_rpn_cls: 0.0023, loss_rpn_bbox: 0.0288, loss_cls: 0.0802, acc: 96.6543, loss_bbox: 0.2175, loss: 0.3289\n",
      "2020-12-30 14:39:13,317 - mmdet - INFO - Epoch [9][650/2001]\tlr: 5.000e-04, eta: 10:46:40, time: 1.365, data_time: 0.013, memory: 6189, loss_rpn_cls: 0.0021, loss_rpn_bbox: 0.0269, loss_cls: 0.0776, acc: 96.8389, loss_bbox: 0.2087, loss: 0.3154\n",
      "2020-12-30 14:40:21,492 - mmdet - INFO - Epoch [9][700/2001]\tlr: 5.000e-04, eta: 10:46:56, time: 1.363, data_time: 0.014, memory: 6189, loss_rpn_cls: 0.0024, loss_rpn_bbox: 0.0264, loss_cls: 0.0778, acc: 96.8213, loss_bbox: 0.2069, loss: 0.3135\n",
      "2020-12-30 14:41:30,080 - mmdet - INFO - Epoch [9][750/2001]\tlr: 5.000e-04, eta: 10:47:12, time: 1.372, data_time: 0.014, memory: 6189, loss_rpn_cls: 0.0026, loss_rpn_bbox: 0.0269, loss_cls: 0.0805, acc: 96.7012, loss_bbox: 0.2152, loss: 0.3252\n",
      "2020-12-30 14:42:38,861 - mmdet - INFO - Epoch [9][800/2001]\tlr: 5.000e-04, eta: 10:47:29, time: 1.376, data_time: 0.013, memory: 6189, loss_rpn_cls: 0.0023, loss_rpn_bbox: 0.0260, loss_cls: 0.0790, acc: 96.7129, loss_bbox: 0.2092, loss: 0.3165\n",
      "2020-12-30 14:43:46,944 - mmdet - INFO - Epoch [9][850/2001]\tlr: 5.000e-04, eta: 10:47:43, time: 1.361, data_time: 0.013, memory: 6189, loss_rpn_cls: 0.0021, loss_rpn_bbox: 0.0280, loss_cls: 0.0796, acc: 96.7188, loss_bbox: 0.2156, loss: 0.3252\n",
      "2020-12-30 14:44:55,581 - mmdet - INFO - Epoch [9][900/2001]\tlr: 5.000e-04, eta: 10:47:59, time: 1.374, data_time: 0.014, memory: 6189, loss_rpn_cls: 0.0024, loss_rpn_bbox: 0.0271, loss_cls: 0.0778, acc: 96.7646, loss_bbox: 0.2107, loss: 0.3181\n",
      "2020-12-30 14:46:04,056 - mmdet - INFO - Epoch [9][950/2001]\tlr: 5.000e-04, eta: 10:48:13, time: 1.369, data_time: 0.013, memory: 6189, loss_rpn_cls: 0.0021, loss_rpn_bbox: 0.0287, loss_cls: 0.0785, acc: 96.7100, loss_bbox: 0.2086, loss: 0.3179\n",
      "2020-12-30 14:47:12,588 - mmdet - INFO - Epoch [9][1000/2001]\tlr: 5.000e-04, eta: 10:48:27, time: 1.370, data_time: 0.014, memory: 6189, loss_rpn_cls: 0.0023, loss_rpn_bbox: 0.0275, loss_cls: 0.0820, acc: 96.6035, loss_bbox: 0.2128, loss: 0.3246\n",
      "2020-12-30 14:48:21,118 - mmdet - INFO - Epoch [9][1050/2001]\tlr: 5.000e-04, eta: 10:48:40, time: 1.371, data_time: 0.014, memory: 6189, loss_rpn_cls: 0.0022, loss_rpn_bbox: 0.0280, loss_cls: 0.0790, acc: 96.7129, loss_bbox: 0.2135, loss: 0.3227\n",
      "2020-12-30 14:49:29,865 - mmdet - INFO - Epoch [9][1100/2001]\tlr: 5.000e-04, eta: 10:48:54, time: 1.375, data_time: 0.014, memory: 6189, loss_rpn_cls: 0.0025, loss_rpn_bbox: 0.0271, loss_cls: 0.0781, acc: 96.8779, loss_bbox: 0.2084, loss: 0.3161\n",
      "2020-12-30 14:50:38,371 - mmdet - INFO - Epoch [9][1150/2001]\tlr: 5.000e-04, eta: 10:49:06, time: 1.370, data_time: 0.014, memory: 6189, loss_rpn_cls: 0.0020, loss_rpn_bbox: 0.0267, loss_cls: 0.0782, acc: 96.7119, loss_bbox: 0.2082, loss: 0.3150\n",
      "2020-12-30 14:51:46,981 - mmdet - INFO - Epoch [9][1200/2001]\tlr: 5.000e-04, eta: 10:49:19, time: 1.373, data_time: 0.014, memory: 6189, loss_rpn_cls: 0.0023, loss_rpn_bbox: 0.0286, loss_cls: 0.0765, acc: 96.8535, loss_bbox: 0.2119, loss: 0.3194\n",
      "2020-12-30 14:52:55,986 - mmdet - INFO - Epoch [9][1250/2001]\tlr: 5.000e-04, eta: 10:49:31, time: 1.379, data_time: 0.014, memory: 6189, loss_rpn_cls: 0.0024, loss_rpn_bbox: 0.0271, loss_cls: 0.0778, acc: 96.8252, loss_bbox: 0.2089, loss: 0.3162\n",
      "2020-12-30 14:54:04,860 - mmdet - INFO - Epoch [9][1300/2001]\tlr: 5.000e-04, eta: 10:49:43, time: 1.378, data_time: 0.014, memory: 6189, loss_rpn_cls: 0.0022, loss_rpn_bbox: 0.0291, loss_cls: 0.0798, acc: 96.7705, loss_bbox: 0.2109, loss: 0.3220\n",
      "2020-12-30 14:55:13,937 - mmdet - INFO - Epoch [9][1350/2001]\tlr: 5.000e-04, eta: 10:49:55, time: 1.381, data_time: 0.014, memory: 6189, loss_rpn_cls: 0.0027, loss_rpn_bbox: 0.0249, loss_cls: 0.0750, acc: 96.9424, loss_bbox: 0.2078, loss: 0.3103\n",
      "2020-12-30 14:56:22,441 - mmdet - INFO - Epoch [9][1400/2001]\tlr: 5.000e-04, eta: 10:50:06, time: 1.371, data_time: 0.014, memory: 6189, loss_rpn_cls: 0.0027, loss_rpn_bbox: 0.0278, loss_cls: 0.0812, acc: 96.6221, loss_bbox: 0.2113, loss: 0.3231\n",
      "2020-12-30 14:57:31,099 - mmdet - INFO - Epoch [9][1450/2001]\tlr: 5.000e-04, eta: 10:50:16, time: 1.373, data_time: 0.013, memory: 6189, loss_rpn_cls: 0.0029, loss_rpn_bbox: 0.0295, loss_cls: 0.0810, acc: 96.6328, loss_bbox: 0.2201, loss: 0.3336\n",
      "2020-12-30 14:58:40,089 - mmdet - INFO - Epoch [9][1500/2001]\tlr: 5.000e-04, eta: 10:50:26, time: 1.379, data_time: 0.014, memory: 6189, loss_rpn_cls: 0.0023, loss_rpn_bbox: 0.0265, loss_cls: 0.0753, acc: 96.9033, loss_bbox: 0.2084, loss: 0.3125\n",
      "2020-12-30 14:59:48,351 - mmdet - INFO - Epoch [9][1550/2001]\tlr: 5.000e-04, eta: 10:50:34, time: 1.365, data_time: 0.014, memory: 6189, loss_rpn_cls: 0.0018, loss_rpn_bbox: 0.0262, loss_cls: 0.0790, acc: 96.7734, loss_bbox: 0.2153, loss: 0.3223\n",
      "2020-12-30 15:00:57,012 - mmdet - INFO - Epoch [9][1600/2001]\tlr: 5.000e-04, eta: 10:50:43, time: 1.374, data_time: 0.014, memory: 6189, loss_rpn_cls: 0.0025, loss_rpn_bbox: 0.0291, loss_cls: 0.0791, acc: 96.7480, loss_bbox: 0.2117, loss: 0.3225\n",
      "2020-12-30 15:01:44,627 - mmdet - INFO - Epoch [9][1650/2001]\tlr: 5.000e-04, eta: 10:50:01, time: 0.954, data_time: 0.013, memory: 6189, loss_rpn_cls: 0.0015, loss_rpn_bbox: 0.0260, loss_cls: 0.0773, acc: 96.8232, loss_bbox: 0.2067, loss: 0.3116\n",
      "2020-12-30 15:02:26,142 - mmdet - INFO - Epoch [9][1700/2001]\tlr: 5.000e-04, eta: 10:49:04, time: 0.830, data_time: 0.011, memory: 6189, loss_rpn_cls: 0.0023, loss_rpn_bbox: 0.0266, loss_cls: 0.0776, acc: 96.7324, loss_bbox: 0.2152, loss: 0.3217\n"
     ]
    },
    {
     "name": "stderr",
     "output_type": "stream",
     "text": [
      "2020-12-30 15:03:07,124 - mmdet - INFO - Epoch [9][1750/2001]\tlr: 5.000e-04, eta: 10:48:06, time: 0.820, data_time: 0.011, memory: 6189, loss_rpn_cls: 0.0026, loss_rpn_bbox: 0.0263, loss_cls: 0.0795, acc: 96.7461, loss_bbox: 0.2127, loss: 0.3211\n",
      "2020-12-30 15:03:48,085 - mmdet - INFO - Epoch [9][1800/2001]\tlr: 5.000e-04, eta: 10:47:09, time: 0.819, data_time: 0.011, memory: 6189, loss_rpn_cls: 0.0022, loss_rpn_bbox: 0.0246, loss_cls: 0.0789, acc: 96.7754, loss_bbox: 0.2083, loss: 0.3140\n",
      "2020-12-30 15:04:29,244 - mmdet - INFO - Epoch [9][1850/2001]\tlr: 5.000e-04, eta: 10:46:11, time: 0.823, data_time: 0.011, memory: 6189, loss_rpn_cls: 0.0016, loss_rpn_bbox: 0.0264, loss_cls: 0.0759, acc: 96.8896, loss_bbox: 0.2061, loss: 0.3100\n",
      "2020-12-30 15:05:10,222 - mmdet - INFO - Epoch [9][1900/2001]\tlr: 5.000e-04, eta: 10:45:13, time: 0.820, data_time: 0.011, memory: 6189, loss_rpn_cls: 0.0019, loss_rpn_bbox: 0.0266, loss_cls: 0.0781, acc: 96.7480, loss_bbox: 0.2113, loss: 0.3179\n",
      "2020-12-30 15:05:51,269 - mmdet - INFO - Epoch [9][1950/2001]\tlr: 5.000e-04, eta: 10:44:16, time: 0.821, data_time: 0.011, memory: 6189, loss_rpn_cls: 0.0025, loss_rpn_bbox: 0.0283, loss_cls: 0.0781, acc: 96.7324, loss_bbox: 0.2120, loss: 0.3207\n",
      "2020-12-30 15:06:32,338 - mmdet - INFO - Epoch [9][2000/2001]\tlr: 5.000e-04, eta: 10:43:19, time: 0.821, data_time: 0.011, memory: 6189, loss_rpn_cls: 0.0029, loss_rpn_bbox: 0.0268, loss_cls: 0.0782, acc: 96.7744, loss_bbox: 0.2121, loss: 0.3198\n",
      "2020-12-30 15:06:33,049 - mmdet - INFO - Saving checkpoint at 9 epochs\n"
     ]
    },
    {
     "name": "stdout",
     "output_type": "stream",
     "text": [
      "[>>>>>>>>>>>>>>>>>>>>>>>>>>] 2013/2013, 11.0 task/s, elapsed: 183s, ETA:     0s"
     ]
    },
    {
     "name": "stderr",
     "output_type": "stream",
     "text": [
      "2020-12-30 15:09:36,429 - mmdet - INFO - \n",
      "Evaluateing mmdet/valid_44.json with 2013 images now\n",
      "2020-12-30 15:09:36,917 - mmdet - INFO - Evaluating bbox...\n"
     ]
    },
    {
     "name": "stdout",
     "output_type": "stream",
     "text": [
      "Loading and preparing results...\n",
      "DONE (t=0.30s)\n",
      "creating index...\n",
      "index created!\n",
      "Running per image evaluation...\n",
      "Evaluate annotation type *bbox*\n",
      "DONE (t=16.05s).\n",
      "Accumulating evaluation results...\n"
     ]
    },
    {
     "name": "stderr",
     "output_type": "stream",
     "text": [
      "2020-12-30 15:09:54,069 - mmdet - INFO - Epoch(val) [9][2001]\t0_bbox_mAP: 0.2890, 0_bbox_mAP_50: 0.4790, 0_bbox_mAP_75: 0.3220, 0_bbox_mAP_s: 0.2840, 0_bbox_mAP_m: 0.4760, 0_bbox_mAP_l: -1.0000, 0_bbox_mAP_copypaste: 0.289 0.479 0.322 0.284 0.476 -1.000\n"
     ]
    },
    {
     "name": "stdout",
     "output_type": "stream",
     "text": [
      "DONE (t=0.73s).\n",
      "Average Precision  (AP) @[ IoU=0.50:0.95 | area=   all | maxDets=100 ] = 0.289\n",
      "Average Precision  (AP) @[ IoU=0.50      | area=   all | maxDets=1000 ] = 0.479\n",
      "Average Precision  (AP) @[ IoU=0.75      | area=   all | maxDets=1000 ] = 0.322\n",
      "Average Precision  (AP) @[ IoU=0.50:0.95 | area= small | maxDets=1000 ] = 0.284\n",
      "Average Precision  (AP) @[ IoU=0.50:0.95 | area=medium | maxDets=1000 ] = 0.476\n",
      "Average Precision  (AP) @[ IoU=0.50:0.95 | area= large | maxDets=1000 ] = -1.000\n",
      "Average Recall     (AR) @[ IoU=0.50:0.95 | area=   all | maxDets=100 ] = 0.362\n",
      "Average Recall     (AR) @[ IoU=0.50:0.95 | area=   all | maxDets=300 ] = 0.362\n",
      "Average Recall     (AR) @[ IoU=0.50:0.95 | area=   all | maxDets=1000 ] = 0.362\n",
      "Average Recall     (AR) @[ IoU=0.50:0.95 | area= small | maxDets=1000 ] = 0.358\n",
      "Average Recall     (AR) @[ IoU=0.50:0.95 | area=medium | maxDets=1000 ] = 0.528\n",
      "Average Recall     (AR) @[ IoU=0.50:0.95 | area= large | maxDets=1000 ] = -1.000\n"
     ]
    },
    {
     "name": "stderr",
     "output_type": "stream",
     "text": [
      "2020-12-30 15:10:37,478 - mmdet - INFO - Epoch [10][50/2001]\tlr: 5.000e-04, eta: 10:42:23, time: 0.864, data_time: 0.056, memory: 6189, loss_rpn_cls: 0.0021, loss_rpn_bbox: 0.0262, loss_cls: 0.0764, acc: 96.8613, loss_bbox: 0.2116, loss: 0.3163\n",
      "2020-12-30 15:11:18,442 - mmdet - INFO - Epoch [10][100/2001]\tlr: 5.000e-04, eta: 10:41:26, time: 0.819, data_time: 0.010, memory: 6189, loss_rpn_cls: 0.0028, loss_rpn_bbox: 0.0283, loss_cls: 0.0761, acc: 96.8818, loss_bbox: 0.2107, loss: 0.3179\n",
      "2020-12-30 15:11:59,403 - mmdet - INFO - Epoch [10][150/2001]\tlr: 5.000e-04, eta: 10:40:29, time: 0.819, data_time: 0.011, memory: 6189, loss_rpn_cls: 0.0021, loss_rpn_bbox: 0.0266, loss_cls: 0.0769, acc: 96.8105, loss_bbox: 0.2134, loss: 0.3190\n",
      "2020-12-30 15:12:40,339 - mmdet - INFO - Epoch [10][200/2001]\tlr: 5.000e-04, eta: 10:39:31, time: 0.819, data_time: 0.011, memory: 6189, loss_rpn_cls: 0.0019, loss_rpn_bbox: 0.0250, loss_cls: 0.0770, acc: 96.8105, loss_bbox: 0.2076, loss: 0.3115\n",
      "2020-12-30 15:13:21,944 - mmdet - INFO - Epoch [10][250/2001]\tlr: 5.000e-04, eta: 10:38:36, time: 0.832, data_time: 0.011, memory: 6189, loss_rpn_cls: 0.0022, loss_rpn_bbox: 0.0260, loss_cls: 0.0741, acc: 96.9395, loss_bbox: 0.2028, loss: 0.3051\n",
      "2020-12-30 15:14:03,145 - mmdet - INFO - Epoch [10][300/2001]\tlr: 5.000e-04, eta: 10:37:39, time: 0.824, data_time: 0.011, memory: 6189, loss_rpn_cls: 0.0016, loss_rpn_bbox: 0.0290, loss_cls: 0.0769, acc: 96.7930, loss_bbox: 0.2120, loss: 0.3196\n",
      "2020-12-30 15:14:44,133 - mmdet - INFO - Epoch [10][350/2001]\tlr: 5.000e-04, eta: 10:36:42, time: 0.820, data_time: 0.011, memory: 6189, loss_rpn_cls: 0.0023, loss_rpn_bbox: 0.0268, loss_cls: 0.0760, acc: 96.8760, loss_bbox: 0.2088, loss: 0.3139\n",
      "2020-12-30 15:15:25,252 - mmdet - INFO - Epoch [10][400/2001]\tlr: 5.000e-04, eta: 10:35:46, time: 0.822, data_time: 0.011, memory: 6189, loss_rpn_cls: 0.0019, loss_rpn_bbox: 0.0276, loss_cls: 0.0778, acc: 96.7373, loss_bbox: 0.2069, loss: 0.3142\n",
      "2020-12-30 15:16:06,591 - mmdet - INFO - Epoch [10][450/2001]\tlr: 5.000e-04, eta: 10:34:50, time: 0.827, data_time: 0.011, memory: 6189, loss_rpn_cls: 0.0023, loss_rpn_bbox: 0.0270, loss_cls: 0.0741, acc: 96.9238, loss_bbox: 0.2018, loss: 0.3051\n",
      "2020-12-30 15:16:47,775 - mmdet - INFO - Epoch [10][500/2001]\tlr: 5.000e-04, eta: 10:33:54, time: 0.824, data_time: 0.011, memory: 6189, loss_rpn_cls: 0.0022, loss_rpn_bbox: 0.0266, loss_cls: 0.0757, acc: 96.8691, loss_bbox: 0.2079, loss: 0.3125\n",
      "2020-12-30 15:17:28,722 - mmdet - INFO - Epoch [10][550/2001]\tlr: 5.000e-04, eta: 10:32:57, time: 0.819, data_time: 0.011, memory: 6189, loss_rpn_cls: 0.0030, loss_rpn_bbox: 0.0279, loss_cls: 0.0741, acc: 96.9121, loss_bbox: 0.2098, loss: 0.3148\n",
      "2020-12-30 15:18:09,895 - mmdet - INFO - Epoch [10][600/2001]\tlr: 5.000e-04, eta: 10:32:01, time: 0.823, data_time: 0.011, memory: 6189, loss_rpn_cls: 0.0025, loss_rpn_bbox: 0.0274, loss_cls: 0.0733, acc: 96.9658, loss_bbox: 0.2038, loss: 0.3071\n",
      "2020-12-30 15:18:51,491 - mmdet - INFO - Epoch [10][650/2001]\tlr: 5.000e-04, eta: 10:31:06, time: 0.832, data_time: 0.011, memory: 6189, loss_rpn_cls: 0.0019, loss_rpn_bbox: 0.0261, loss_cls: 0.0757, acc: 96.8691, loss_bbox: 0.2115, loss: 0.3152\n",
      "2020-12-30 15:19:32,408 - mmdet - INFO - Epoch [10][700/2001]\tlr: 5.000e-04, eta: 10:30:10, time: 0.818, data_time: 0.011, memory: 6189, loss_rpn_cls: 0.0022, loss_rpn_bbox: 0.0243, loss_cls: 0.0740, acc: 96.9111, loss_bbox: 0.2004, loss: 0.3008\n",
      "2020-12-30 15:20:13,595 - mmdet - INFO - Epoch [10][750/2001]\tlr: 5.000e-04, eta: 10:29:14, time: 0.824, data_time: 0.010, memory: 6189, loss_rpn_cls: 0.0017, loss_rpn_bbox: 0.0243, loss_cls: 0.0764, acc: 96.8320, loss_bbox: 0.2090, loss: 0.3114\n",
      "2020-12-30 15:20:54,775 - mmdet - INFO - Epoch [10][800/2001]\tlr: 5.000e-04, eta: 10:28:18, time: 0.824, data_time: 0.011, memory: 6189, loss_rpn_cls: 0.0024, loss_rpn_bbox: 0.0288, loss_cls: 0.0752, acc: 96.8701, loss_bbox: 0.2098, loss: 0.3163\n",
      "2020-12-30 15:21:35,739 - mmdet - INFO - Epoch [10][850/2001]\tlr: 5.000e-04, eta: 10:27:22, time: 0.819, data_time: 0.011, memory: 6189, loss_rpn_cls: 0.0020, loss_rpn_bbox: 0.0253, loss_cls: 0.0733, acc: 96.9414, loss_bbox: 0.2045, loss: 0.3052\n",
      "2020-12-30 15:22:16,993 - mmdet - INFO - Epoch [10][900/2001]\tlr: 5.000e-04, eta: 10:26:26, time: 0.825, data_time: 0.011, memory: 6189, loss_rpn_cls: 0.0023, loss_rpn_bbox: 0.0279, loss_cls: 0.0776, acc: 96.7412, loss_bbox: 0.2151, loss: 0.3230\n",
      "2020-12-30 15:22:57,956 - mmdet - INFO - Epoch [10][950/2001]\tlr: 5.000e-04, eta: 10:25:30, time: 0.819, data_time: 0.011, memory: 6189, loss_rpn_cls: 0.0023, loss_rpn_bbox: 0.0278, loss_cls: 0.0748, acc: 96.9131, loss_bbox: 0.2106, loss: 0.3155\n",
      "2020-12-30 15:23:39,013 - mmdet - INFO - Epoch [10][1000/2001]\tlr: 5.000e-04, eta: 10:24:35, time: 0.821, data_time: 0.011, memory: 6189, loss_rpn_cls: 0.0024, loss_rpn_bbox: 0.0272, loss_cls: 0.0770, acc: 96.7715, loss_bbox: 0.2069, loss: 0.3135\n",
      "2020-12-30 15:24:19,976 - mmdet - INFO - Epoch [10][1050/2001]\tlr: 5.000e-04, eta: 10:23:39, time: 0.819, data_time: 0.011, memory: 6189, loss_rpn_cls: 0.0021, loss_rpn_bbox: 0.0255, loss_cls: 0.0738, acc: 96.9316, loss_bbox: 0.2064, loss: 0.3078\n",
      "2020-12-30 15:25:01,119 - mmdet - INFO - Epoch [10][1100/2001]\tlr: 5.000e-04, eta: 10:22:44, time: 0.823, data_time: 0.011, memory: 6189, loss_rpn_cls: 0.0021, loss_rpn_bbox: 0.0275, loss_cls: 0.0766, acc: 96.8379, loss_bbox: 0.2090, loss: 0.3152\n",
      "2020-12-30 15:25:42,106 - mmdet - INFO - Epoch [10][1150/2001]\tlr: 5.000e-04, eta: 10:21:48, time: 0.820, data_time: 0.011, memory: 6189, loss_rpn_cls: 0.0020, loss_rpn_bbox: 0.0252, loss_cls: 0.0737, acc: 96.9365, loss_bbox: 0.2028, loss: 0.3036\n",
      "2020-12-30 15:26:23,062 - mmdet - INFO - Epoch [10][1200/2001]\tlr: 5.000e-04, eta: 10:20:52, time: 0.819, data_time: 0.011, memory: 6189, loss_rpn_cls: 0.0026, loss_rpn_bbox: 0.0267, loss_cls: 0.0737, acc: 96.9512, loss_bbox: 0.2082, loss: 0.3111\n",
      "2020-12-30 15:27:04,050 - mmdet - INFO - Epoch [10][1250/2001]\tlr: 5.000e-04, eta: 10:19:57, time: 0.820, data_time: 0.011, memory: 6189, loss_rpn_cls: 0.0018, loss_rpn_bbox: 0.0273, loss_cls: 0.0754, acc: 96.8643, loss_bbox: 0.2074, loss: 0.3119\n",
      "2020-12-30 15:27:45,197 - mmdet - INFO - Epoch [10][1300/2001]\tlr: 5.000e-04, eta: 10:19:02, time: 0.823, data_time: 0.011, memory: 6189, loss_rpn_cls: 0.0028, loss_rpn_bbox: 0.0269, loss_cls: 0.0727, acc: 97.0322, loss_bbox: 0.2039, loss: 0.3063\n",
      "2020-12-30 15:28:26,143 - mmdet - INFO - Epoch [10][1350/2001]\tlr: 5.000e-04, eta: 10:18:07, time: 0.819, data_time: 0.011, memory: 6189, loss_rpn_cls: 0.0025, loss_rpn_bbox: 0.0253, loss_cls: 0.0733, acc: 97.0000, loss_bbox: 0.2070, loss: 0.3081\n",
      "2020-12-30 15:29:07,123 - mmdet - INFO - Epoch [10][1400/2001]\tlr: 5.000e-04, eta: 10:17:11, time: 0.820, data_time: 0.011, memory: 6189, loss_rpn_cls: 0.0016, loss_rpn_bbox: 0.0261, loss_cls: 0.0793, acc: 96.7354, loss_bbox: 0.2125, loss: 0.3194\n",
      "2020-12-30 15:29:48,273 - mmdet - INFO - Epoch [10][1450/2001]\tlr: 5.000e-04, eta: 10:16:16, time: 0.823, data_time: 0.011, memory: 6189, loss_rpn_cls: 0.0021, loss_rpn_bbox: 0.0284, loss_cls: 0.0766, acc: 96.8066, loss_bbox: 0.2093, loss: 0.3165\n",
      "2020-12-30 15:30:29,220 - mmdet - INFO - Epoch [10][1500/2001]\tlr: 5.000e-04, eta: 10:15:21, time: 0.819, data_time: 0.011, memory: 6189, loss_rpn_cls: 0.0020, loss_rpn_bbox: 0.0248, loss_cls: 0.0718, acc: 97.0195, loss_bbox: 0.2007, loss: 0.2993\n",
      "2020-12-30 15:31:10,174 - mmdet - INFO - Epoch [10][1550/2001]\tlr: 5.000e-04, eta: 10:14:26, time: 0.819, data_time: 0.011, memory: 6189, loss_rpn_cls: 0.0019, loss_rpn_bbox: 0.0261, loss_cls: 0.0734, acc: 96.9092, loss_bbox: 0.2042, loss: 0.3055\n",
      "2020-12-30 15:31:51,162 - mmdet - INFO - Epoch [10][1600/2001]\tlr: 5.000e-04, eta: 10:13:31, time: 0.820, data_time: 0.011, memory: 6189, loss_rpn_cls: 0.0019, loss_rpn_bbox: 0.0257, loss_cls: 0.0725, acc: 96.9717, loss_bbox: 0.2048, loss: 0.3049\n",
      "2020-12-30 15:32:32,311 - mmdet - INFO - Epoch [10][1650/2001]\tlr: 5.000e-04, eta: 10:12:37, time: 0.823, data_time: 0.011, memory: 6189, loss_rpn_cls: 0.0025, loss_rpn_bbox: 0.0260, loss_cls: 0.0737, acc: 96.9658, loss_bbox: 0.2064, loss: 0.3086\n",
      "2020-12-30 15:33:13,290 - mmdet - INFO - Epoch [10][1700/2001]\tlr: 5.000e-04, eta: 10:11:42, time: 0.820, data_time: 0.011, memory: 6189, loss_rpn_cls: 0.0022, loss_rpn_bbox: 0.0272, loss_cls: 0.0792, acc: 96.7178, loss_bbox: 0.2083, loss: 0.3170\n"
     ]
    },
    {
     "name": "stderr",
     "output_type": "stream",
     "text": [
      "2020-12-30 15:33:54,493 - mmdet - INFO - Epoch [10][1750/2001]\tlr: 5.000e-04, eta: 10:10:48, time: 0.824, data_time: 0.011, memory: 6189, loss_rpn_cls: 0.0016, loss_rpn_bbox: 0.0258, loss_cls: 0.0734, acc: 96.9834, loss_bbox: 0.2051, loss: 0.3059\n",
      "2020-12-30 15:34:35,476 - mmdet - INFO - Epoch [10][1800/2001]\tlr: 5.000e-04, eta: 10:09:53, time: 0.820, data_time: 0.011, memory: 6189, loss_rpn_cls: 0.0018, loss_rpn_bbox: 0.0259, loss_cls: 0.0752, acc: 96.8721, loss_bbox: 0.2095, loss: 0.3125\n",
      "2020-12-30 15:35:16,563 - mmdet - INFO - Epoch [10][1850/2001]\tlr: 5.000e-04, eta: 10:08:58, time: 0.822, data_time: 0.011, memory: 6189, loss_rpn_cls: 0.0023, loss_rpn_bbox: 0.0271, loss_cls: 0.0740, acc: 96.9600, loss_bbox: 0.2083, loss: 0.3118\n",
      "2020-12-30 15:35:57,739 - mmdet - INFO - Epoch [10][1900/2001]\tlr: 5.000e-04, eta: 10:08:04, time: 0.824, data_time: 0.011, memory: 6189, loss_rpn_cls: 0.0024, loss_rpn_bbox: 0.0276, loss_cls: 0.0740, acc: 96.9395, loss_bbox: 0.2080, loss: 0.3120\n",
      "2020-12-30 15:36:38,691 - mmdet - INFO - Epoch [10][1950/2001]\tlr: 5.000e-04, eta: 10:07:10, time: 0.819, data_time: 0.011, memory: 6189, loss_rpn_cls: 0.0022, loss_rpn_bbox: 0.0303, loss_cls: 0.0770, acc: 96.7939, loss_bbox: 0.2122, loss: 0.3218\n",
      "2020-12-30 15:37:19,654 - mmdet - INFO - Epoch [10][2000/2001]\tlr: 5.000e-04, eta: 10:06:15, time: 0.819, data_time: 0.011, memory: 6189, loss_rpn_cls: 0.0022, loss_rpn_bbox: 0.0282, loss_cls: 0.0756, acc: 96.8730, loss_bbox: 0.2105, loss: 0.3164\n",
      "2020-12-30 15:37:20,377 - mmdet - INFO - Saving checkpoint at 10 epochs\n"
     ]
    },
    {
     "name": "stdout",
     "output_type": "stream",
     "text": [
      "[>>>>>>>>>>>>>>>>>>>>>>>>>>] 2013/2013, 11.0 task/s, elapsed: 183s, ETA:     0s"
     ]
    },
    {
     "name": "stderr",
     "output_type": "stream",
     "text": [
      "2020-12-30 15:40:24,322 - mmdet - INFO - \n",
      "Evaluateing mmdet/valid_44.json with 2013 images now\n",
      "2020-12-30 15:40:25,080 - mmdet - INFO - Evaluating bbox...\n"
     ]
    },
    {
     "name": "stdout",
     "output_type": "stream",
     "text": [
      "Loading and preparing results...\n",
      "DONE (t=0.12s)\n",
      "creating index...\n",
      "index created!\n",
      "Running per image evaluation...\n",
      "Evaluate annotation type *bbox*\n",
      "DONE (t=16.80s).\n",
      "Accumulating evaluation results...\n"
     ]
    },
    {
     "name": "stderr",
     "output_type": "stream",
     "text": [
      "2020-12-30 15:40:42,795 - mmdet - INFO - Epoch(val) [10][2001]\t0_bbox_mAP: 0.2860, 0_bbox_mAP_50: 0.4780, 0_bbox_mAP_75: 0.3160, 0_bbox_mAP_s: 0.2820, 0_bbox_mAP_m: 0.4720, 0_bbox_mAP_l: -1.0000, 0_bbox_mAP_copypaste: 0.286 0.478 0.316 0.282 0.472 -1.000\n"
     ]
    },
    {
     "name": "stdout",
     "output_type": "stream",
     "text": [
      "DONE (t=0.72s).\n",
      "Average Precision  (AP) @[ IoU=0.50:0.95 | area=   all | maxDets=100 ] = 0.286\n",
      "Average Precision  (AP) @[ IoU=0.50      | area=   all | maxDets=1000 ] = 0.478\n",
      "Average Precision  (AP) @[ IoU=0.75      | area=   all | maxDets=1000 ] = 0.316\n",
      "Average Precision  (AP) @[ IoU=0.50:0.95 | area= small | maxDets=1000 ] = 0.282\n",
      "Average Precision  (AP) @[ IoU=0.50:0.95 | area=medium | maxDets=1000 ] = 0.472\n",
      "Average Precision  (AP) @[ IoU=0.50:0.95 | area= large | maxDets=1000 ] = -1.000\n",
      "Average Recall     (AR) @[ IoU=0.50:0.95 | area=   all | maxDets=100 ] = 0.357\n",
      "Average Recall     (AR) @[ IoU=0.50:0.95 | area=   all | maxDets=300 ] = 0.357\n",
      "Average Recall     (AR) @[ IoU=0.50:0.95 | area=   all | maxDets=1000 ] = 0.357\n",
      "Average Recall     (AR) @[ IoU=0.50:0.95 | area= small | maxDets=1000 ] = 0.353\n",
      "Average Recall     (AR) @[ IoU=0.50:0.95 | area=medium | maxDets=1000 ] = 0.525\n",
      "Average Recall     (AR) @[ IoU=0.50:0.95 | area= large | maxDets=1000 ] = -1.000\n"
     ]
    },
    {
     "name": "stderr",
     "output_type": "stream",
     "text": [
      "2020-12-30 15:41:26,244 - mmdet - INFO - Epoch [11][50/2001]\tlr: 5.000e-04, eta: 10:05:23, time: 0.865, data_time: 0.056, memory: 6189, loss_rpn_cls: 0.0018, loss_rpn_bbox: 0.0244, loss_cls: 0.0751, acc: 96.8408, loss_bbox: 0.2031, loss: 0.3044\n",
      "2020-12-30 15:42:07,188 - mmdet - INFO - Epoch [11][100/2001]\tlr: 5.000e-04, eta: 10:04:28, time: 0.819, data_time: 0.011, memory: 6189, loss_rpn_cls: 0.0022, loss_rpn_bbox: 0.0242, loss_cls: 0.0719, acc: 97.0576, loss_bbox: 0.2034, loss: 0.3017\n",
      "2020-12-30 15:42:48,151 - mmdet - INFO - Epoch [11][150/2001]\tlr: 5.000e-04, eta: 10:03:34, time: 0.819, data_time: 0.010, memory: 6189, loss_rpn_cls: 0.0025, loss_rpn_bbox: 0.0277, loss_cls: 0.0748, acc: 96.8115, loss_bbox: 0.2113, loss: 0.3162\n",
      "2020-12-30 15:43:29,186 - mmdet - INFO - Epoch [11][200/2001]\tlr: 5.000e-04, eta: 10:02:40, time: 0.821, data_time: 0.011, memory: 6189, loss_rpn_cls: 0.0023, loss_rpn_bbox: 0.0267, loss_cls: 0.0713, acc: 97.0244, loss_bbox: 0.2034, loss: 0.3037\n",
      "2020-12-30 15:44:10,152 - mmdet - INFO - Epoch [11][250/2001]\tlr: 5.000e-04, eta: 10:01:46, time: 0.819, data_time: 0.011, memory: 6189, loss_rpn_cls: 0.0020, loss_rpn_bbox: 0.0259, loss_cls: 0.0751, acc: 96.8652, loss_bbox: 0.2083, loss: 0.3114\n",
      "2020-12-30 15:44:51,518 - mmdet - INFO - Epoch [11][300/2001]\tlr: 5.000e-04, eta: 10:00:53, time: 0.827, data_time: 0.011, memory: 6189, loss_rpn_cls: 0.0023, loss_rpn_bbox: 0.0264, loss_cls: 0.0737, acc: 96.9443, loss_bbox: 0.2062, loss: 0.3085\n",
      "2020-12-30 15:45:32,828 - mmdet - INFO - Epoch [11][350/2001]\tlr: 5.000e-04, eta: 9:59:59, time: 0.827, data_time: 0.011, memory: 6189, loss_rpn_cls: 0.0021, loss_rpn_bbox: 0.0283, loss_cls: 0.0746, acc: 96.9141, loss_bbox: 0.2105, loss: 0.3154\n",
      "2020-12-30 15:46:13,804 - mmdet - INFO - Epoch [11][400/2001]\tlr: 5.000e-04, eta: 9:59:06, time: 0.820, data_time: 0.011, memory: 6189, loss_rpn_cls: 0.0021, loss_rpn_bbox: 0.0262, loss_cls: 0.0748, acc: 96.9395, loss_bbox: 0.2075, loss: 0.3107\n",
      "2020-12-30 15:46:54,803 - mmdet - INFO - Epoch [11][450/2001]\tlr: 5.000e-04, eta: 9:58:12, time: 0.820, data_time: 0.011, memory: 6189, loss_rpn_cls: 0.0023, loss_rpn_bbox: 0.0243, loss_cls: 0.0742, acc: 96.9189, loss_bbox: 0.2020, loss: 0.3027\n",
      "2020-12-30 15:47:35,783 - mmdet - INFO - Epoch [11][500/2001]\tlr: 5.000e-04, eta: 9:57:18, time: 0.820, data_time: 0.010, memory: 6189, loss_rpn_cls: 0.0020, loss_rpn_bbox: 0.0269, loss_cls: 0.0730, acc: 96.9697, loss_bbox: 0.2033, loss: 0.3052\n",
      "2020-12-30 15:48:17,014 - mmdet - INFO - Epoch [11][550/2001]\tlr: 5.000e-04, eta: 9:56:25, time: 0.824, data_time: 0.011, memory: 6189, loss_rpn_cls: 0.0022, loss_rpn_bbox: 0.0270, loss_cls: 0.0741, acc: 96.8877, loss_bbox: 0.2055, loss: 0.3088\n",
      "2020-12-30 15:48:58,109 - mmdet - INFO - Epoch [11][600/2001]\tlr: 5.000e-04, eta: 9:55:31, time: 0.822, data_time: 0.011, memory: 6189, loss_rpn_cls: 0.0023, loss_rpn_bbox: 0.0267, loss_cls: 0.0690, acc: 97.1729, loss_bbox: 0.2039, loss: 0.3019\n",
      "2020-12-30 15:49:39,062 - mmdet - INFO - Epoch [11][650/2001]\tlr: 5.000e-04, eta: 9:54:38, time: 0.819, data_time: 0.010, memory: 6189, loss_rpn_cls: 0.0021, loss_rpn_bbox: 0.0253, loss_cls: 0.0733, acc: 96.9707, loss_bbox: 0.2053, loss: 0.3059\n",
      "2020-12-30 15:50:20,033 - mmdet - INFO - Epoch [11][700/2001]\tlr: 5.000e-04, eta: 9:53:44, time: 0.819, data_time: 0.010, memory: 6189, loss_rpn_cls: 0.0014, loss_rpn_bbox: 0.0241, loss_cls: 0.0700, acc: 97.0830, loss_bbox: 0.2037, loss: 0.2992\n",
      "2020-12-30 15:51:01,204 - mmdet - INFO - Epoch [11][750/2001]\tlr: 5.000e-04, eta: 9:52:51, time: 0.823, data_time: 0.011, memory: 6189, loss_rpn_cls: 0.0019, loss_rpn_bbox: 0.0268, loss_cls: 0.0745, acc: 96.8906, loss_bbox: 0.2091, loss: 0.3123\n",
      "2020-12-30 15:51:42,546 - mmdet - INFO - Epoch [11][800/2001]\tlr: 5.000e-04, eta: 9:51:58, time: 0.827, data_time: 0.011, memory: 6189, loss_rpn_cls: 0.0022, loss_rpn_bbox: 0.0273, loss_cls: 0.0752, acc: 96.9580, loss_bbox: 0.2105, loss: 0.3152\n",
      "2020-12-30 15:52:23,570 - mmdet - INFO - Epoch [11][850/2001]\tlr: 5.000e-04, eta: 9:51:05, time: 0.821, data_time: 0.011, memory: 6189, loss_rpn_cls: 0.0020, loss_rpn_bbox: 0.0259, loss_cls: 0.0742, acc: 96.8691, loss_bbox: 0.2038, loss: 0.3059\n",
      "2020-12-30 15:53:04,510 - mmdet - INFO - Epoch [11][900/2001]\tlr: 5.000e-04, eta: 9:50:12, time: 0.819, data_time: 0.011, memory: 6189, loss_rpn_cls: 0.0017, loss_rpn_bbox: 0.0274, loss_cls: 0.0727, acc: 96.9805, loss_bbox: 0.2052, loss: 0.3069\n",
      "2020-12-30 15:53:45,469 - mmdet - INFO - Epoch [11][950/2001]\tlr: 5.000e-04, eta: 9:49:18, time: 0.819, data_time: 0.011, memory: 6189, loss_rpn_cls: 0.0020, loss_rpn_bbox: 0.0289, loss_cls: 0.0728, acc: 96.9775, loss_bbox: 0.2081, loss: 0.3118\n",
      "2020-12-30 15:54:26,437 - mmdet - INFO - Epoch [11][1000/2001]\tlr: 5.000e-04, eta: 9:48:25, time: 0.819, data_time: 0.011, memory: 6189, loss_rpn_cls: 0.0016, loss_rpn_bbox: 0.0262, loss_cls: 0.0760, acc: 96.8359, loss_bbox: 0.2035, loss: 0.3073\n",
      "2020-12-30 15:55:21,654 - mmdet - INFO - Epoch [11][1050/2001]\tlr: 5.000e-04, eta: 9:47:58, time: 1.102, data_time: 0.011, memory: 6189, loss_rpn_cls: 0.0017, loss_rpn_bbox: 0.0260, loss_cls: 0.0717, acc: 97.0674, loss_bbox: 0.2018, loss: 0.3012\n",
      "2020-12-30 15:56:30,086 - mmdet - INFO - Epoch [11][1100/2001]\tlr: 5.000e-04, eta: 9:47:56, time: 1.369, data_time: 0.014, memory: 6189, loss_rpn_cls: 0.0025, loss_rpn_bbox: 0.0269, loss_cls: 0.0734, acc: 96.9727, loss_bbox: 0.2031, loss: 0.3058\n",
      "2020-12-30 15:57:39,323 - mmdet - INFO - Epoch [11][1150/2001]\tlr: 5.000e-04, eta: 9:47:54, time: 1.385, data_time: 0.014, memory: 6189, loss_rpn_cls: 0.0020, loss_rpn_bbox: 0.0247, loss_cls: 0.0765, acc: 96.8174, loss_bbox: 0.2083, loss: 0.3116\n",
      "2020-12-30 15:58:47,438 - mmdet - INFO - Epoch [11][1200/2001]\tlr: 5.000e-04, eta: 9:47:50, time: 1.363, data_time: 0.014, memory: 6189, loss_rpn_cls: 0.0019, loss_rpn_bbox: 0.0270, loss_cls: 0.0736, acc: 96.9160, loss_bbox: 0.2082, loss: 0.3106\n",
      "2020-12-30 15:59:55,791 - mmdet - INFO - Epoch [11][1250/2001]\tlr: 5.000e-04, eta: 9:47:47, time: 1.366, data_time: 0.014, memory: 6189, loss_rpn_cls: 0.0024, loss_rpn_bbox: 0.0269, loss_cls: 0.0710, acc: 97.0703, loss_bbox: 0.2019, loss: 0.3023\n",
      "2020-12-30 16:01:04,137 - mmdet - INFO - Epoch [11][1300/2001]\tlr: 5.000e-04, eta: 9:47:43, time: 1.368, data_time: 0.014, memory: 6189, loss_rpn_cls: 0.0024, loss_rpn_bbox: 0.0275, loss_cls: 0.0727, acc: 96.9707, loss_bbox: 0.2085, loss: 0.3111\n",
      "2020-12-30 16:02:12,665 - mmdet - INFO - Epoch [11][1350/2001]\tlr: 5.000e-04, eta: 9:47:39, time: 1.371, data_time: 0.014, memory: 6189, loss_rpn_cls: 0.0020, loss_rpn_bbox: 0.0258, loss_cls: 0.0743, acc: 96.8965, loss_bbox: 0.2060, loss: 0.3082\n",
      "2020-12-30 16:03:21,396 - mmdet - INFO - Epoch [11][1400/2001]\tlr: 5.000e-04, eta: 9:47:35, time: 1.374, data_time: 0.013, memory: 6189, loss_rpn_cls: 0.0024, loss_rpn_bbox: 0.0274, loss_cls: 0.0732, acc: 96.9795, loss_bbox: 0.2089, loss: 0.3119\n",
      "2020-12-30 16:04:29,772 - mmdet - INFO - Epoch [11][1450/2001]\tlr: 5.000e-04, eta: 9:47:30, time: 1.368, data_time: 0.014, memory: 6189, loss_rpn_cls: 0.0017, loss_rpn_bbox: 0.0243, loss_cls: 0.0719, acc: 97.0508, loss_bbox: 0.2026, loss: 0.3006\n",
      "2020-12-30 16:05:38,351 - mmdet - INFO - Epoch [11][1500/2001]\tlr: 5.000e-04, eta: 9:47:26, time: 1.372, data_time: 0.014, memory: 6189, loss_rpn_cls: 0.0024, loss_rpn_bbox: 0.0276, loss_cls: 0.0740, acc: 96.9199, loss_bbox: 0.2119, loss: 0.3159\n",
      "2020-12-30 16:06:47,057 - mmdet - INFO - Epoch [11][1550/2001]\tlr: 5.000e-04, eta: 9:47:21, time: 1.374, data_time: 0.013, memory: 6189, loss_rpn_cls: 0.0025, loss_rpn_bbox: 0.0269, loss_cls: 0.0734, acc: 96.9619, loss_bbox: 0.2076, loss: 0.3104\n",
      "2020-12-30 16:07:55,507 - mmdet - INFO - Epoch [11][1600/2001]\tlr: 5.000e-04, eta: 9:47:15, time: 1.369, data_time: 0.013, memory: 6189, loss_rpn_cls: 0.0021, loss_rpn_bbox: 0.0264, loss_cls: 0.0733, acc: 96.9482, loss_bbox: 0.2029, loss: 0.3047\n",
      "2020-12-30 16:09:04,433 - mmdet - INFO - Epoch [11][1650/2001]\tlr: 5.000e-04, eta: 9:47:10, time: 1.378, data_time: 0.014, memory: 6189, loss_rpn_cls: 0.0023, loss_rpn_bbox: 0.0275, loss_cls: 0.0717, acc: 97.1045, loss_bbox: 0.2053, loss: 0.3068\n",
      "2020-12-30 16:10:12,932 - mmdet - INFO - Epoch [11][1700/2001]\tlr: 5.000e-04, eta: 9:47:04, time: 1.370, data_time: 0.014, memory: 6189, loss_rpn_cls: 0.0025, loss_rpn_bbox: 0.0257, loss_cls: 0.0725, acc: 96.9336, loss_bbox: 0.2012, loss: 0.3019\n"
     ]
    },
    {
     "name": "stderr",
     "output_type": "stream",
     "text": [
      "2020-12-30 16:11:21,220 - mmdet - INFO - Epoch [11][1750/2001]\tlr: 5.000e-04, eta: 9:46:57, time: 1.366, data_time: 0.014, memory: 6189, loss_rpn_cls: 0.0020, loss_rpn_bbox: 0.0254, loss_cls: 0.0731, acc: 96.9756, loss_bbox: 0.2031, loss: 0.3036\n",
      "2020-12-30 16:12:29,632 - mmdet - INFO - Epoch [11][1800/2001]\tlr: 5.000e-04, eta: 9:46:51, time: 1.369, data_time: 0.014, memory: 6189, loss_rpn_cls: 0.0024, loss_rpn_bbox: 0.0269, loss_cls: 0.0727, acc: 96.9980, loss_bbox: 0.2043, loss: 0.3062\n",
      "2020-12-30 16:13:38,120 - mmdet - INFO - Epoch [11][1850/2001]\tlr: 5.000e-04, eta: 9:46:44, time: 1.370, data_time: 0.014, memory: 6189, loss_rpn_cls: 0.0014, loss_rpn_bbox: 0.0260, loss_cls: 0.0739, acc: 96.9531, loss_bbox: 0.2056, loss: 0.3069\n",
      "2020-12-30 16:14:46,749 - mmdet - INFO - Epoch [11][1900/2001]\tlr: 5.000e-04, eta: 9:46:37, time: 1.373, data_time: 0.013, memory: 6189, loss_rpn_cls: 0.0024, loss_rpn_bbox: 0.0260, loss_cls: 0.0743, acc: 96.8848, loss_bbox: 0.2091, loss: 0.3118\n",
      "2020-12-30 16:15:55,119 - mmdet - INFO - Epoch [11][1950/2001]\tlr: 5.000e-04, eta: 9:46:29, time: 1.367, data_time: 0.013, memory: 6189, loss_rpn_cls: 0.0019, loss_rpn_bbox: 0.0247, loss_cls: 0.0739, acc: 96.9717, loss_bbox: 0.2105, loss: 0.3110\n",
      "2020-12-30 16:17:03,718 - mmdet - INFO - Epoch [11][2000/2001]\tlr: 5.000e-04, eta: 9:46:22, time: 1.371, data_time: 0.014, memory: 6189, loss_rpn_cls: 0.0017, loss_rpn_bbox: 0.0279, loss_cls: 0.0729, acc: 97.0020, loss_bbox: 0.2045, loss: 0.3069\n",
      "2020-12-30 16:17:04,900 - mmdet - INFO - Saving checkpoint at 11 epochs\n"
     ]
    },
    {
     "name": "stdout",
     "output_type": "stream",
     "text": [
      "[>>>>>>>>>>>>>>>>>>>>>>>>>>>] 2013/2013, 5.8 task/s, elapsed: 345s, ETA:     0s"
     ]
    },
    {
     "name": "stderr",
     "output_type": "stream",
     "text": [
      "2020-12-30 16:22:51,195 - mmdet - INFO - \n",
      "Evaluateing mmdet/valid_44.json with 2013 images now\n",
      "2020-12-30 16:22:52,028 - mmdet - INFO - Evaluating bbox...\n"
     ]
    },
    {
     "name": "stdout",
     "output_type": "stream",
     "text": [
      "Loading and preparing results...\n",
      "DONE (t=0.12s)\n",
      "creating index...\n",
      "index created!\n",
      "Running per image evaluation...\n",
      "Evaluate annotation type *bbox*\n",
      "DONE (t=19.07s).\n",
      "Accumulating evaluation results...\n"
     ]
    },
    {
     "name": "stderr",
     "output_type": "stream",
     "text": [
      "2020-12-30 16:23:12,131 - mmdet - INFO - Epoch(val) [11][2001]\t0_bbox_mAP: 0.2890, 0_bbox_mAP_50: 0.4770, 0_bbox_mAP_75: 0.3240, 0_bbox_mAP_s: 0.2860, 0_bbox_mAP_m: 0.4820, 0_bbox_mAP_l: -1.0000, 0_bbox_mAP_copypaste: 0.289 0.477 0.324 0.286 0.482 -1.000\n"
     ]
    },
    {
     "name": "stdout",
     "output_type": "stream",
     "text": [
      "DONE (t=0.82s).\n",
      "Average Precision  (AP) @[ IoU=0.50:0.95 | area=   all | maxDets=100 ] = 0.289\n",
      "Average Precision  (AP) @[ IoU=0.50      | area=   all | maxDets=1000 ] = 0.477\n",
      "Average Precision  (AP) @[ IoU=0.75      | area=   all | maxDets=1000 ] = 0.324\n",
      "Average Precision  (AP) @[ IoU=0.50:0.95 | area= small | maxDets=1000 ] = 0.286\n",
      "Average Precision  (AP) @[ IoU=0.50:0.95 | area=medium | maxDets=1000 ] = 0.482\n",
      "Average Precision  (AP) @[ IoU=0.50:0.95 | area= large | maxDets=1000 ] = -1.000\n",
      "Average Recall     (AR) @[ IoU=0.50:0.95 | area=   all | maxDets=100 ] = 0.358\n",
      "Average Recall     (AR) @[ IoU=0.50:0.95 | area=   all | maxDets=300 ] = 0.358\n",
      "Average Recall     (AR) @[ IoU=0.50:0.95 | area=   all | maxDets=1000 ] = 0.358\n",
      "Average Recall     (AR) @[ IoU=0.50:0.95 | area= small | maxDets=1000 ] = 0.354\n",
      "Average Recall     (AR) @[ IoU=0.50:0.95 | area=medium | maxDets=1000 ] = 0.529\n",
      "Average Recall     (AR) @[ IoU=0.50:0.95 | area= large | maxDets=1000 ] = -1.000\n"
     ]
    },
    {
     "name": "stderr",
     "output_type": "stream",
     "text": [
      "2020-12-30 16:24:22,890 - mmdet - INFO - Epoch [12][50/2001]\tlr: 5.000e-05, eta: 9:46:15, time: 1.409, data_time: 0.058, memory: 6189, loss_rpn_cls: 0.0025, loss_rpn_bbox: 0.0263, loss_cls: 0.0719, acc: 97.0361, loss_bbox: 0.2013, loss: 0.3020\n",
      "2020-12-30 16:25:32,113 - mmdet - INFO - Epoch [12][100/2001]\tlr: 5.000e-05, eta: 9:46:07, time: 1.384, data_time: 0.013, memory: 6189, loss_rpn_cls: 0.0019, loss_rpn_bbox: 0.0280, loss_cls: 0.0704, acc: 97.1152, loss_bbox: 0.2012, loss: 0.3016\n",
      "2020-12-30 16:26:31,544 - mmdet - INFO - Epoch [12][150/2001]\tlr: 5.000e-05, eta: 9:45:44, time: 1.191, data_time: 0.013, memory: 6189, loss_rpn_cls: 0.0022, loss_rpn_bbox: 0.0262, loss_cls: 0.0727, acc: 96.9580, loss_bbox: 0.2025, loss: 0.3035\n",
      "2020-12-30 16:27:13,468 - mmdet - INFO - Epoch [12][200/2001]\tlr: 5.000e-05, eta: 9:44:50, time: 0.838, data_time: 0.011, memory: 6189, loss_rpn_cls: 0.0018, loss_rpn_bbox: 0.0242, loss_cls: 0.0696, acc: 97.0742, loss_bbox: 0.2008, loss: 0.2964\n",
      "2020-12-30 16:27:54,445 - mmdet - INFO - Epoch [12][250/2001]\tlr: 5.000e-05, eta: 9:43:54, time: 0.819, data_time: 0.011, memory: 6189, loss_rpn_cls: 0.0022, loss_rpn_bbox: 0.0251, loss_cls: 0.0697, acc: 97.1094, loss_bbox: 0.2011, loss: 0.2981\n",
      "2020-12-30 16:28:35,418 - mmdet - INFO - Epoch [12][300/2001]\tlr: 5.000e-05, eta: 9:42:58, time: 0.820, data_time: 0.011, memory: 6189, loss_rpn_cls: 0.0022, loss_rpn_bbox: 0.0252, loss_cls: 0.0719, acc: 97.0479, loss_bbox: 0.2019, loss: 0.3011\n",
      "2020-12-30 16:29:17,586 - mmdet - INFO - Epoch [12][350/2001]\tlr: 5.000e-05, eta: 9:42:05, time: 0.843, data_time: 0.010, memory: 6189, loss_rpn_cls: 0.0020, loss_rpn_bbox: 0.0278, loss_cls: 0.0702, acc: 97.0723, loss_bbox: 0.2047, loss: 0.3048\n",
      "2020-12-30 16:29:58,660 - mmdet - INFO - Epoch [12][400/2001]\tlr: 5.000e-05, eta: 9:41:10, time: 0.822, data_time: 0.011, memory: 6189, loss_rpn_cls: 0.0020, loss_rpn_bbox: 0.0252, loss_cls: 0.0700, acc: 97.1396, loss_bbox: 0.2007, loss: 0.2978\n",
      "2020-12-30 16:30:39,707 - mmdet - INFO - Epoch [12][450/2001]\tlr: 5.000e-05, eta: 9:40:15, time: 0.821, data_time: 0.011, memory: 6189, loss_rpn_cls: 0.0014, loss_rpn_bbox: 0.0278, loss_cls: 0.0733, acc: 96.9658, loss_bbox: 0.2011, loss: 0.3036\n",
      "2020-12-30 16:31:44,025 - mmdet - INFO - Epoch [12][500/2001]\tlr: 5.000e-05, eta: 9:39:58, time: 1.284, data_time: 0.011, memory: 6189, loss_rpn_cls: 0.0024, loss_rpn_bbox: 0.0262, loss_cls: 0.0689, acc: 97.1406, loss_bbox: 0.2018, loss: 0.2994\n",
      "2020-12-30 16:32:52,332 - mmdet - INFO - Epoch [12][550/2001]\tlr: 5.000e-05, eta: 9:39:48, time: 1.366, data_time: 0.014, memory: 6189, loss_rpn_cls: 0.0025, loss_rpn_bbox: 0.0279, loss_cls: 0.0716, acc: 96.9971, loss_bbox: 0.2023, loss: 0.3044\n",
      "2020-12-30 16:34:00,799 - mmdet - INFO - Epoch [12][600/2001]\tlr: 5.000e-05, eta: 9:39:38, time: 1.370, data_time: 0.014, memory: 6189, loss_rpn_cls: 0.0021, loss_rpn_bbox: 0.0277, loss_cls: 0.0726, acc: 97.0518, loss_bbox: 0.2087, loss: 0.3111\n",
      "2020-12-30 16:35:08,897 - mmdet - INFO - Epoch [12][650/2001]\tlr: 5.000e-05, eta: 9:39:27, time: 1.362, data_time: 0.014, memory: 6189, loss_rpn_cls: 0.0020, loss_rpn_bbox: 0.0265, loss_cls: 0.0709, acc: 97.0488, loss_bbox: 0.2036, loss: 0.3030\n",
      "2020-12-30 16:36:16,946 - mmdet - INFO - Epoch [12][700/2001]\tlr: 5.000e-05, eta: 9:39:16, time: 1.360, data_time: 0.015, memory: 6189, loss_rpn_cls: 0.0019, loss_rpn_bbox: 0.0260, loss_cls: 0.0742, acc: 96.9395, loss_bbox: 0.2060, loss: 0.3081\n",
      "2020-12-30 16:37:25,219 - mmdet - INFO - Epoch [12][750/2001]\tlr: 5.000e-05, eta: 9:39:05, time: 1.366, data_time: 0.015, memory: 6189, loss_rpn_cls: 0.0016, loss_rpn_bbox: 0.0262, loss_cls: 0.0698, acc: 97.1182, loss_bbox: 0.1994, loss: 0.2971\n",
      "2020-12-30 16:38:34,001 - mmdet - INFO - Epoch [12][800/2001]\tlr: 5.000e-05, eta: 9:38:55, time: 1.375, data_time: 0.013, memory: 6189, loss_rpn_cls: 0.0019, loss_rpn_bbox: 0.0246, loss_cls: 0.0720, acc: 96.9658, loss_bbox: 0.2056, loss: 0.3041\n",
      "2020-12-30 16:39:42,430 - mmdet - INFO - Epoch [12][850/2001]\tlr: 5.000e-05, eta: 9:38:43, time: 1.368, data_time: 0.014, memory: 6189, loss_rpn_cls: 0.0019, loss_rpn_bbox: 0.0259, loss_cls: 0.0698, acc: 97.1367, loss_bbox: 0.2020, loss: 0.2997\n",
      "2020-12-30 16:40:50,854 - mmdet - INFO - Epoch [12][900/2001]\tlr: 5.000e-05, eta: 9:38:32, time: 1.369, data_time: 0.014, memory: 6189, loss_rpn_cls: 0.0019, loss_rpn_bbox: 0.0250, loss_cls: 0.0691, acc: 97.1094, loss_bbox: 0.1981, loss: 0.2941\n",
      "2020-12-30 16:41:59,582 - mmdet - INFO - Epoch [12][950/2001]\tlr: 5.000e-05, eta: 9:38:21, time: 1.375, data_time: 0.014, memory: 6189, loss_rpn_cls: 0.0028, loss_rpn_bbox: 0.0260, loss_cls: 0.0700, acc: 97.0762, loss_bbox: 0.1989, loss: 0.2977\n",
      "2020-12-30 16:43:07,678 - mmdet - INFO - Epoch [12][1000/2001]\tlr: 5.000e-05, eta: 9:38:08, time: 1.362, data_time: 0.014, memory: 6189, loss_rpn_cls: 0.0017, loss_rpn_bbox: 0.0256, loss_cls: 0.0732, acc: 97.0156, loss_bbox: 0.2022, loss: 0.3026\n",
      "2020-12-30 16:44:16,370 - mmdet - INFO - Epoch [12][1050/2001]\tlr: 5.000e-05, eta: 9:37:56, time: 1.374, data_time: 0.013, memory: 6189, loss_rpn_cls: 0.0028, loss_rpn_bbox: 0.0275, loss_cls: 0.0719, acc: 97.0098, loss_bbox: 0.2050, loss: 0.3071\n",
      "2020-12-30 16:45:24,257 - mmdet - INFO - Epoch [12][1100/2001]\tlr: 5.000e-05, eta: 9:37:43, time: 1.358, data_time: 0.013, memory: 6189, loss_rpn_cls: 0.0021, loss_rpn_bbox: 0.0261, loss_cls: 0.0714, acc: 97.0645, loss_bbox: 0.2011, loss: 0.3007\n",
      "2020-12-30 16:46:32,067 - mmdet - INFO - Epoch [12][1150/2001]\tlr: 5.000e-05, eta: 9:37:29, time: 1.356, data_time: 0.013, memory: 6189, loss_rpn_cls: 0.0019, loss_rpn_bbox: 0.0243, loss_cls: 0.0676, acc: 97.1670, loss_bbox: 0.1958, loss: 0.2895\n",
      "2020-12-30 16:47:40,516 - mmdet - INFO - Epoch [12][1200/2001]\tlr: 5.000e-05, eta: 9:37:16, time: 1.369, data_time: 0.013, memory: 6189, loss_rpn_cls: 0.0018, loss_rpn_bbox: 0.0245, loss_cls: 0.0719, acc: 97.0332, loss_bbox: 0.1998, loss: 0.2980\n",
      "2020-12-30 16:48:48,642 - mmdet - INFO - Epoch [12][1250/2001]\tlr: 5.000e-05, eta: 9:37:02, time: 1.362, data_time: 0.013, memory: 6189, loss_rpn_cls: 0.0019, loss_rpn_bbox: 0.0241, loss_cls: 0.0719, acc: 97.0156, loss_bbox: 0.2032, loss: 0.3011\n",
      "2020-12-30 16:49:56,924 - mmdet - INFO - Epoch [12][1300/2001]\tlr: 5.000e-05, eta: 9:36:49, time: 1.366, data_time: 0.014, memory: 6189, loss_rpn_cls: 0.0024, loss_rpn_bbox: 0.0287, loss_cls: 0.0735, acc: 96.9453, loss_bbox: 0.2066, loss: 0.3112\n",
      "2020-12-30 16:51:05,473 - mmdet - INFO - Epoch [12][1350/2001]\tlr: 5.000e-05, eta: 9:36:35, time: 1.370, data_time: 0.014, memory: 6189, loss_rpn_cls: 0.0016, loss_rpn_bbox: 0.0256, loss_cls: 0.0716, acc: 97.0322, loss_bbox: 0.2043, loss: 0.3032\n",
      "2020-12-30 16:52:13,448 - mmdet - INFO - Epoch [12][1400/2001]\tlr: 5.000e-05, eta: 9:36:21, time: 1.360, data_time: 0.014, memory: 6189, loss_rpn_cls: 0.0032, loss_rpn_bbox: 0.0247, loss_cls: 0.0736, acc: 96.9492, loss_bbox: 0.2031, loss: 0.3046\n",
      "2020-12-30 16:53:21,791 - mmdet - INFO - Epoch [12][1450/2001]\tlr: 5.000e-05, eta: 9:36:06, time: 1.368, data_time: 0.014, memory: 6189, loss_rpn_cls: 0.0025, loss_rpn_bbox: 0.0246, loss_cls: 0.0714, acc: 97.1094, loss_bbox: 0.1990, loss: 0.2975\n",
      "2020-12-30 16:54:30,273 - mmdet - INFO - Epoch [12][1500/2001]\tlr: 5.000e-05, eta: 9:35:52, time: 1.369, data_time: 0.013, memory: 6189, loss_rpn_cls: 0.0021, loss_rpn_bbox: 0.0254, loss_cls: 0.0721, acc: 97.0312, loss_bbox: 0.2022, loss: 0.3019\n",
      "2020-12-30 16:55:38,784 - mmdet - INFO - Epoch [12][1550/2001]\tlr: 5.000e-05, eta: 9:35:38, time: 1.371, data_time: 0.014, memory: 6189, loss_rpn_cls: 0.0019, loss_rpn_bbox: 0.0271, loss_cls: 0.0712, acc: 97.0430, loss_bbox: 0.2040, loss: 0.3042\n",
      "2020-12-30 16:56:47,121 - mmdet - INFO - Epoch [12][1600/2001]\tlr: 5.000e-05, eta: 9:35:22, time: 1.366, data_time: 0.013, memory: 6189, loss_rpn_cls: 0.0018, loss_rpn_bbox: 0.0234, loss_cls: 0.0741, acc: 96.9219, loss_bbox: 0.2003, loss: 0.2996\n",
      "2020-12-30 16:57:55,916 - mmdet - INFO - Epoch [12][1650/2001]\tlr: 5.000e-05, eta: 9:35:08, time: 1.376, data_time: 0.014, memory: 6189, loss_rpn_cls: 0.0021, loss_rpn_bbox: 0.0258, loss_cls: 0.0705, acc: 97.0674, loss_bbox: 0.1988, loss: 0.2973\n",
      "2020-12-30 16:59:04,015 - mmdet - INFO - Epoch [12][1700/2001]\tlr: 5.000e-05, eta: 9:34:52, time: 1.363, data_time: 0.014, memory: 6189, loss_rpn_cls: 0.0022, loss_rpn_bbox: 0.0250, loss_cls: 0.0712, acc: 96.9951, loss_bbox: 0.2001, loss: 0.2985\n"
     ]
    },
    {
     "name": "stderr",
     "output_type": "stream",
     "text": [
      "2020-12-30 17:00:12,498 - mmdet - INFO - Epoch [12][1750/2001]\tlr: 5.000e-05, eta: 9:34:37, time: 1.369, data_time: 0.014, memory: 6189, loss_rpn_cls: 0.0017, loss_rpn_bbox: 0.0266, loss_cls: 0.0736, acc: 96.9932, loss_bbox: 0.2029, loss: 0.3049\n",
      "2020-12-30 17:01:20,916 - mmdet - INFO - Epoch [12][1800/2001]\tlr: 5.000e-05, eta: 9:34:21, time: 1.368, data_time: 0.014, memory: 6189, loss_rpn_cls: 0.0019, loss_rpn_bbox: 0.0255, loss_cls: 0.0698, acc: 97.1748, loss_bbox: 0.1975, loss: 0.2947\n",
      "2020-12-30 17:02:28,949 - mmdet - INFO - Epoch [12][1850/2001]\tlr: 5.000e-05, eta: 9:34:04, time: 1.361, data_time: 0.014, memory: 6189, loss_rpn_cls: 0.0017, loss_rpn_bbox: 0.0255, loss_cls: 0.0723, acc: 97.0625, loss_bbox: 0.2031, loss: 0.3027\n",
      "2020-12-30 17:03:17,080 - mmdet - INFO - Epoch [12][1900/2001]\tlr: 5.000e-05, eta: 9:33:18, time: 0.965, data_time: 0.013, memory: 6189, loss_rpn_cls: 0.0022, loss_rpn_bbox: 0.0268, loss_cls: 0.0713, acc: 97.0078, loss_bbox: 0.2014, loss: 0.3017\n",
      "2020-12-30 17:03:58,398 - mmdet - INFO - Epoch [12][1950/2001]\tlr: 5.000e-05, eta: 9:32:21, time: 0.826, data_time: 0.011, memory: 6189, loss_rpn_cls: 0.0018, loss_rpn_bbox: 0.0258, loss_cls: 0.0723, acc: 97.0039, loss_bbox: 0.2013, loss: 0.3013\n",
      "2020-12-30 17:04:40,152 - mmdet - INFO - Epoch [12][2000/2001]\tlr: 5.000e-05, eta: 9:31:24, time: 0.835, data_time: 0.011, memory: 6189, loss_rpn_cls: 0.0019, loss_rpn_bbox: 0.0244, loss_cls: 0.0743, acc: 96.9365, loss_bbox: 0.2070, loss: 0.3076\n",
      "2020-12-30 17:04:40,855 - mmdet - INFO - Saving checkpoint at 12 epochs\n"
     ]
    },
    {
     "name": "stdout",
     "output_type": "stream",
     "text": [
      "[>>>>>>>>>>>>>>>>>>>>>>>>>>] 2013/2013, 11.0 task/s, elapsed: 183s, ETA:     0s"
     ]
    },
    {
     "name": "stderr",
     "output_type": "stream",
     "text": [
      "2020-12-30 17:07:44,367 - mmdet - INFO - \n",
      "Evaluateing mmdet/valid_44.json with 2013 images now\n",
      "2020-12-30 17:07:45,109 - mmdet - INFO - Evaluating bbox...\n"
     ]
    },
    {
     "name": "stdout",
     "output_type": "stream",
     "text": [
      "Loading and preparing results...\n",
      "DONE (t=0.12s)\n",
      "creating index...\n",
      "index created!\n",
      "Running per image evaluation...\n",
      "Evaluate annotation type *bbox*\n",
      "DONE (t=16.83s).\n",
      "Accumulating evaluation results...\n"
     ]
    },
    {
     "name": "stderr",
     "output_type": "stream",
     "text": [
      "2020-12-30 17:08:02,990 - mmdet - INFO - Epoch(val) [12][2001]\t0_bbox_mAP: 0.2890, 0_bbox_mAP_50: 0.4770, 0_bbox_mAP_75: 0.3200, 0_bbox_mAP_s: 0.2850, 0_bbox_mAP_m: 0.4780, 0_bbox_mAP_l: -1.0000, 0_bbox_mAP_copypaste: 0.289 0.477 0.320 0.285 0.478 -1.000\n"
     ]
    },
    {
     "name": "stdout",
     "output_type": "stream",
     "text": [
      "DONE (t=0.85s).\n",
      "Average Precision  (AP) @[ IoU=0.50:0.95 | area=   all | maxDets=100 ] = 0.289\n",
      "Average Precision  (AP) @[ IoU=0.50      | area=   all | maxDets=1000 ] = 0.477\n",
      "Average Precision  (AP) @[ IoU=0.75      | area=   all | maxDets=1000 ] = 0.320\n",
      "Average Precision  (AP) @[ IoU=0.50:0.95 | area= small | maxDets=1000 ] = 0.285\n",
      "Average Precision  (AP) @[ IoU=0.50:0.95 | area=medium | maxDets=1000 ] = 0.478\n",
      "Average Precision  (AP) @[ IoU=0.50:0.95 | area= large | maxDets=1000 ] = -1.000\n",
      "Average Recall     (AR) @[ IoU=0.50:0.95 | area=   all | maxDets=100 ] = 0.357\n",
      "Average Recall     (AR) @[ IoU=0.50:0.95 | area=   all | maxDets=300 ] = 0.357\n",
      "Average Recall     (AR) @[ IoU=0.50:0.95 | area=   all | maxDets=1000 ] = 0.357\n",
      "Average Recall     (AR) @[ IoU=0.50:0.95 | area= small | maxDets=1000 ] = 0.353\n",
      "Average Recall     (AR) @[ IoU=0.50:0.95 | area=medium | maxDets=1000 ] = 0.528\n",
      "Average Recall     (AR) @[ IoU=0.50:0.95 | area= large | maxDets=1000 ] = -1.000\n"
     ]
    },
    {
     "name": "stderr",
     "output_type": "stream",
     "text": [
      "2020-12-30 17:08:46,364 - mmdet - INFO - Epoch [13][50/2001]\tlr: 5.000e-05, eta: 9:30:28, time: 0.864, data_time: 0.056, memory: 6189, loss_rpn_cls: 0.0020, loss_rpn_bbox: 0.0250, loss_cls: 0.0733, acc: 96.9629, loss_bbox: 0.2033, loss: 0.3035\n",
      "2020-12-30 17:09:27,291 - mmdet - INFO - Epoch [13][100/2001]\tlr: 5.000e-05, eta: 9:29:30, time: 0.818, data_time: 0.011, memory: 6189, loss_rpn_cls: 0.0018, loss_rpn_bbox: 0.0265, loss_cls: 0.0741, acc: 96.9209, loss_bbox: 0.2032, loss: 0.3056\n",
      "2020-12-30 17:10:08,265 - mmdet - INFO - Epoch [13][150/2001]\tlr: 5.000e-05, eta: 9:28:33, time: 0.819, data_time: 0.011, memory: 6189, loss_rpn_cls: 0.0021, loss_rpn_bbox: 0.0246, loss_cls: 0.0719, acc: 97.0430, loss_bbox: 0.2032, loss: 0.3019\n",
      "2020-12-30 17:10:49,226 - mmdet - INFO - Epoch [13][200/2001]\tlr: 5.000e-05, eta: 9:27:36, time: 0.819, data_time: 0.011, memory: 6189, loss_rpn_cls: 0.0020, loss_rpn_bbox: 0.0281, loss_cls: 0.0728, acc: 96.9707, loss_bbox: 0.2067, loss: 0.3095\n",
      "2020-12-30 17:11:30,232 - mmdet - INFO - Epoch [13][250/2001]\tlr: 5.000e-05, eta: 9:26:38, time: 0.820, data_time: 0.011, memory: 6189, loss_rpn_cls: 0.0018, loss_rpn_bbox: 0.0246, loss_cls: 0.0689, acc: 97.1025, loss_bbox: 0.1977, loss: 0.2930\n",
      "2020-12-30 17:12:11,873 - mmdet - INFO - Epoch [13][300/2001]\tlr: 5.000e-05, eta: 9:25:42, time: 0.832, data_time: 0.011, memory: 6189, loss_rpn_cls: 0.0020, loss_rpn_bbox: 0.0256, loss_cls: 0.0720, acc: 97.0469, loss_bbox: 0.2055, loss: 0.3050\n",
      "2020-12-30 17:12:53,052 - mmdet - INFO - Epoch [13][350/2001]\tlr: 5.000e-05, eta: 9:24:45, time: 0.825, data_time: 0.012, memory: 6189, loss_rpn_cls: 0.0019, loss_rpn_bbox: 0.0245, loss_cls: 0.0703, acc: 97.0762, loss_bbox: 0.2004, loss: 0.2970\n",
      "2020-12-30 17:13:34,291 - mmdet - INFO - Epoch [13][400/2001]\tlr: 5.000e-05, eta: 9:23:49, time: 0.825, data_time: 0.011, memory: 6189, loss_rpn_cls: 0.0019, loss_rpn_bbox: 0.0248, loss_cls: 0.0716, acc: 96.9844, loss_bbox: 0.1980, loss: 0.2964\n",
      "2020-12-30 17:14:15,531 - mmdet - INFO - Epoch [13][450/2001]\tlr: 5.000e-05, eta: 9:22:52, time: 0.825, data_time: 0.010, memory: 6189, loss_rpn_cls: 0.0021, loss_rpn_bbox: 0.0262, loss_cls: 0.0702, acc: 97.0605, loss_bbox: 0.1985, loss: 0.2970\n",
      "2020-12-30 17:14:56,553 - mmdet - INFO - Epoch [13][500/2001]\tlr: 5.000e-05, eta: 9:21:55, time: 0.821, data_time: 0.011, memory: 6189, loss_rpn_cls: 0.0026, loss_rpn_bbox: 0.0268, loss_cls: 0.0740, acc: 96.9355, loss_bbox: 0.2042, loss: 0.3076\n",
      "2020-12-30 17:15:37,670 - mmdet - INFO - Epoch [13][550/2001]\tlr: 5.000e-05, eta: 9:20:59, time: 0.822, data_time: 0.011, memory: 6189, loss_rpn_cls: 0.0023, loss_rpn_bbox: 0.0242, loss_cls: 0.0707, acc: 97.0801, loss_bbox: 0.2026, loss: 0.2997\n",
      "2020-12-30 17:16:19,069 - mmdet - INFO - Epoch [13][600/2001]\tlr: 5.000e-05, eta: 9:20:03, time: 0.828, data_time: 0.011, memory: 6189, loss_rpn_cls: 0.0023, loss_rpn_bbox: 0.0274, loss_cls: 0.0680, acc: 97.2021, loss_bbox: 0.2001, loss: 0.2978\n",
      "2020-12-30 17:17:00,130 - mmdet - INFO - Epoch [13][650/2001]\tlr: 5.000e-05, eta: 9:19:06, time: 0.821, data_time: 0.011, memory: 6189, loss_rpn_cls: 0.0025, loss_rpn_bbox: 0.0233, loss_cls: 0.0701, acc: 97.0918, loss_bbox: 0.1985, loss: 0.2944\n",
      "2020-12-30 17:17:41,179 - mmdet - INFO - Epoch [13][700/2001]\tlr: 5.000e-05, eta: 9:18:10, time: 0.821, data_time: 0.011, memory: 6189, loss_rpn_cls: 0.0018, loss_rpn_bbox: 0.0273, loss_cls: 0.0702, acc: 97.0664, loss_bbox: 0.1975, loss: 0.2968\n",
      "2020-12-30 17:18:22,149 - mmdet - INFO - Epoch [13][750/2001]\tlr: 5.000e-05, eta: 9:17:13, time: 0.819, data_time: 0.011, memory: 6189, loss_rpn_cls: 0.0019, loss_rpn_bbox: 0.0270, loss_cls: 0.0691, acc: 97.1338, loss_bbox: 0.2004, loss: 0.2984\n",
      "2020-12-30 17:19:03,841 - mmdet - INFO - Epoch [13][800/2001]\tlr: 5.000e-05, eta: 9:16:17, time: 0.834, data_time: 0.011, memory: 6189, loss_rpn_cls: 0.0016, loss_rpn_bbox: 0.0261, loss_cls: 0.0720, acc: 97.0117, loss_bbox: 0.2017, loss: 0.3014\n",
      "2020-12-30 17:19:44,782 - mmdet - INFO - Epoch [13][850/2001]\tlr: 5.000e-05, eta: 9:15:21, time: 0.819, data_time: 0.011, memory: 6189, loss_rpn_cls: 0.0030, loss_rpn_bbox: 0.0271, loss_cls: 0.0737, acc: 96.9531, loss_bbox: 0.2073, loss: 0.3110\n",
      "2020-12-30 17:20:25,933 - mmdet - INFO - Epoch [13][900/2001]\tlr: 5.000e-05, eta: 9:14:25, time: 0.823, data_time: 0.011, memory: 6189, loss_rpn_cls: 0.0019, loss_rpn_bbox: 0.0281, loss_cls: 0.0724, acc: 97.0264, loss_bbox: 0.2015, loss: 0.3038\n",
      "2020-12-30 17:21:07,106 - mmdet - INFO - Epoch [13][950/2001]\tlr: 5.000e-05, eta: 9:13:29, time: 0.823, data_time: 0.011, memory: 6189, loss_rpn_cls: 0.0023, loss_rpn_bbox: 0.0267, loss_cls: 0.0711, acc: 97.1387, loss_bbox: 0.2030, loss: 0.3031\n",
      "2020-12-30 17:21:48,056 - mmdet - INFO - Epoch [13][1000/2001]\tlr: 5.000e-05, eta: 9:12:32, time: 0.819, data_time: 0.011, memory: 6189, loss_rpn_cls: 0.0017, loss_rpn_bbox: 0.0239, loss_cls: 0.0715, acc: 97.0498, loss_bbox: 0.1975, loss: 0.2946\n",
      "2020-12-30 17:22:29,250 - mmdet - INFO - Epoch [13][1050/2001]\tlr: 5.000e-05, eta: 9:11:36, time: 0.824, data_time: 0.011, memory: 6189, loss_rpn_cls: 0.0021, loss_rpn_bbox: 0.0262, loss_cls: 0.0738, acc: 96.8945, loss_bbox: 0.2057, loss: 0.3078\n",
      "2020-12-30 17:23:10,414 - mmdet - INFO - Epoch [13][1100/2001]\tlr: 5.000e-05, eta: 9:10:41, time: 0.823, data_time: 0.011, memory: 6189, loss_rpn_cls: 0.0016, loss_rpn_bbox: 0.0262, loss_cls: 0.0686, acc: 97.1846, loss_bbox: 0.2027, loss: 0.2990\n",
      "2020-12-30 17:24:10,249 - mmdet - INFO - Epoch [13][1150/2001]\tlr: 5.000e-05, eta: 9:10:11, time: 1.195, data_time: 0.012, memory: 6189, loss_rpn_cls: 0.0017, loss_rpn_bbox: 0.0268, loss_cls: 0.0729, acc: 97.0225, loss_bbox: 0.2050, loss: 0.3064\n",
      "2020-12-30 17:25:18,535 - mmdet - INFO - Epoch [13][1200/2001]\tlr: 5.000e-05, eta: 9:09:52, time: 1.365, data_time: 0.014, memory: 6189, loss_rpn_cls: 0.0024, loss_rpn_bbox: 0.0256, loss_cls: 0.0705, acc: 97.0322, loss_bbox: 0.2011, loss: 0.2996\n",
      "2020-12-30 17:26:27,341 - mmdet - INFO - Epoch [13][1250/2001]\tlr: 5.000e-05, eta: 9:09:34, time: 1.376, data_time: 0.014, memory: 6189, loss_rpn_cls: 0.0017, loss_rpn_bbox: 0.0281, loss_cls: 0.0733, acc: 96.9365, loss_bbox: 0.2056, loss: 0.3086\n",
      "2020-12-30 17:27:35,867 - mmdet - INFO - Epoch [13][1300/2001]\tlr: 5.000e-05, eta: 9:09:16, time: 1.371, data_time: 0.014, memory: 6189, loss_rpn_cls: 0.0019, loss_rpn_bbox: 0.0253, loss_cls: 0.0683, acc: 97.1416, loss_bbox: 0.1998, loss: 0.2953\n",
      "2020-12-30 17:28:44,449 - mmdet - INFO - Epoch [13][1350/2001]\tlr: 5.000e-05, eta: 9:08:57, time: 1.371, data_time: 0.014, memory: 6189, loss_rpn_cls: 0.0017, loss_rpn_bbox: 0.0259, loss_cls: 0.0720, acc: 97.0254, loss_bbox: 0.2063, loss: 0.3059\n",
      "2020-12-30 17:29:53,374 - mmdet - INFO - Epoch [13][1400/2001]\tlr: 5.000e-05, eta: 9:08:39, time: 1.379, data_time: 0.014, memory: 6189, loss_rpn_cls: 0.0014, loss_rpn_bbox: 0.0248, loss_cls: 0.0705, acc: 97.0986, loss_bbox: 0.2047, loss: 0.3015\n",
      "2020-12-30 17:31:02,102 - mmdet - INFO - Epoch [13][1450/2001]\tlr: 5.000e-05, eta: 9:08:20, time: 1.374, data_time: 0.013, memory: 6189, loss_rpn_cls: 0.0023, loss_rpn_bbox: 0.0246, loss_cls: 0.0712, acc: 97.0762, loss_bbox: 0.1985, loss: 0.2967\n",
      "2020-12-30 17:32:10,953 - mmdet - INFO - Epoch [13][1500/2001]\tlr: 5.000e-05, eta: 9:08:01, time: 1.378, data_time: 0.014, memory: 6189, loss_rpn_cls: 0.0019, loss_rpn_bbox: 0.0241, loss_cls: 0.0693, acc: 97.1406, loss_bbox: 0.2011, loss: 0.2964\n",
      "2020-12-30 17:33:19,838 - mmdet - INFO - Epoch [13][1550/2001]\tlr: 5.000e-05, eta: 9:07:42, time: 1.378, data_time: 0.014, memory: 6189, loss_rpn_cls: 0.0020, loss_rpn_bbox: 0.0236, loss_cls: 0.0729, acc: 97.0068, loss_bbox: 0.2017, loss: 0.3002\n",
      "2020-12-30 17:34:28,385 - mmdet - INFO - Epoch [13][1600/2001]\tlr: 5.000e-05, eta: 9:07:23, time: 1.370, data_time: 0.013, memory: 6189, loss_rpn_cls: 0.0025, loss_rpn_bbox: 0.0258, loss_cls: 0.0710, acc: 97.0479, loss_bbox: 0.1975, loss: 0.2968\n",
      "2020-12-30 17:35:37,147 - mmdet - INFO - Epoch [13][1650/2001]\tlr: 5.000e-05, eta: 9:07:03, time: 1.375, data_time: 0.015, memory: 6189, loss_rpn_cls: 0.0030, loss_rpn_bbox: 0.0271, loss_cls: 0.0732, acc: 96.9561, loss_bbox: 0.2031, loss: 0.3064\n",
      "2020-12-30 17:36:45,977 - mmdet - INFO - Epoch [13][1700/2001]\tlr: 5.000e-05, eta: 9:06:43, time: 1.378, data_time: 0.015, memory: 6189, loss_rpn_cls: 0.0017, loss_rpn_bbox: 0.0239, loss_cls: 0.0719, acc: 97.0156, loss_bbox: 0.2033, loss: 0.3008\n"
     ]
    },
    {
     "name": "stderr",
     "output_type": "stream",
     "text": [
      "2020-12-30 17:37:54,770 - mmdet - INFO - Epoch [13][1750/2001]\tlr: 5.000e-05, eta: 9:06:24, time: 1.375, data_time: 0.014, memory: 6189, loss_rpn_cls: 0.0020, loss_rpn_bbox: 0.0253, loss_cls: 0.0707, acc: 97.0762, loss_bbox: 0.1997, loss: 0.2978\n",
      "2020-12-30 17:39:03,430 - mmdet - INFO - Epoch [13][1800/2001]\tlr: 5.000e-05, eta: 9:06:03, time: 1.374, data_time: 0.014, memory: 6189, loss_rpn_cls: 0.0016, loss_rpn_bbox: 0.0259, loss_cls: 0.0696, acc: 97.1162, loss_bbox: 0.2001, loss: 0.2972\n",
      "2020-12-30 17:40:11,866 - mmdet - INFO - Epoch [13][1850/2001]\tlr: 5.000e-05, eta: 9:05:43, time: 1.369, data_time: 0.013, memory: 6189, loss_rpn_cls: 0.0020, loss_rpn_bbox: 0.0252, loss_cls: 0.0710, acc: 97.0967, loss_bbox: 0.1985, loss: 0.2967\n",
      "2020-12-30 17:41:20,213 - mmdet - INFO - Epoch [13][1900/2001]\tlr: 5.000e-05, eta: 9:05:22, time: 1.367, data_time: 0.014, memory: 6189, loss_rpn_cls: 0.0021, loss_rpn_bbox: 0.0267, loss_cls: 0.0727, acc: 97.0020, loss_bbox: 0.2062, loss: 0.3077\n",
      "2020-12-30 17:42:28,535 - mmdet - INFO - Epoch [13][1950/2001]\tlr: 5.000e-05, eta: 9:05:00, time: 1.366, data_time: 0.013, memory: 6189, loss_rpn_cls: 0.0020, loss_rpn_bbox: 0.0269, loss_cls: 0.0698, acc: 97.0957, loss_bbox: 0.2027, loss: 0.3013\n",
      "2020-12-30 17:43:37,387 - mmdet - INFO - Epoch [13][2000/2001]\tlr: 5.000e-05, eta: 9:04:40, time: 1.378, data_time: 0.014, memory: 6189, loss_rpn_cls: 0.0017, loss_rpn_bbox: 0.0254, loss_cls: 0.0735, acc: 96.9814, loss_bbox: 0.2046, loss: 0.3052\n",
      "2020-12-30 17:43:38,509 - mmdet - INFO - Saving checkpoint at 13 epochs\n"
     ]
    },
    {
     "name": "stdout",
     "output_type": "stream",
     "text": [
      "[>>>>>>>>>>>>>>>>>>>>>>>>>>>] 2013/2013, 5.8 task/s, elapsed: 346s, ETA:     0s"
     ]
    },
    {
     "name": "stderr",
     "output_type": "stream",
     "text": [
      "2020-12-30 17:49:25,562 - mmdet - INFO - \n",
      "Evaluateing mmdet/valid_44.json with 2013 images now\n",
      "2020-12-30 17:49:26,142 - mmdet - INFO - Evaluating bbox...\n"
     ]
    },
    {
     "name": "stdout",
     "output_type": "stream",
     "text": [
      "Loading and preparing results...\n",
      "DONE (t=0.12s)\n",
      "creating index...\n",
      "index created!\n",
      "Running per image evaluation...\n",
      "Evaluate annotation type *bbox*\n",
      "DONE (t=18.15s).\n",
      "Accumulating evaluation results...\n"
     ]
    },
    {
     "name": "stderr",
     "output_type": "stream",
     "text": [
      "2020-12-30 17:49:45,463 - mmdet - INFO - Epoch(val) [13][2001]\t0_bbox_mAP: 0.2880, 0_bbox_mAP_50: 0.4750, 0_bbox_mAP_75: 0.3210, 0_bbox_mAP_s: 0.2840, 0_bbox_mAP_m: 0.4770, 0_bbox_mAP_l: -1.0000, 0_bbox_mAP_copypaste: 0.288 0.475 0.321 0.284 0.477 -1.000\n"
     ]
    },
    {
     "name": "stdout",
     "output_type": "stream",
     "text": [
      "DONE (t=0.95s).\n",
      "Average Precision  (AP) @[ IoU=0.50:0.95 | area=   all | maxDets=100 ] = 0.288\n",
      "Average Precision  (AP) @[ IoU=0.50      | area=   all | maxDets=1000 ] = 0.475\n",
      "Average Precision  (AP) @[ IoU=0.75      | area=   all | maxDets=1000 ] = 0.321\n",
      "Average Precision  (AP) @[ IoU=0.50:0.95 | area= small | maxDets=1000 ] = 0.284\n",
      "Average Precision  (AP) @[ IoU=0.50:0.95 | area=medium | maxDets=1000 ] = 0.477\n",
      "Average Precision  (AP) @[ IoU=0.50:0.95 | area= large | maxDets=1000 ] = -1.000\n",
      "Average Recall     (AR) @[ IoU=0.50:0.95 | area=   all | maxDets=100 ] = 0.355\n",
      "Average Recall     (AR) @[ IoU=0.50:0.95 | area=   all | maxDets=300 ] = 0.355\n",
      "Average Recall     (AR) @[ IoU=0.50:0.95 | area=   all | maxDets=1000 ] = 0.355\n",
      "Average Recall     (AR) @[ IoU=0.50:0.95 | area= small | maxDets=1000 ] = 0.351\n",
      "Average Recall     (AR) @[ IoU=0.50:0.95 | area=medium | maxDets=1000 ] = 0.528\n",
      "Average Recall     (AR) @[ IoU=0.50:0.95 | area= large | maxDets=1000 ] = -1.000\n"
     ]
    },
    {
     "name": "stderr",
     "output_type": "stream",
     "text": [
      "2020-12-30 17:50:56,833 - mmdet - INFO - Epoch [14][50/2001]\tlr: 5.000e-05, eta: 9:04:19, time: 1.422, data_time: 0.058, memory: 6189, loss_rpn_cls: 0.0015, loss_rpn_bbox: 0.0268, loss_cls: 0.0704, acc: 97.0674, loss_bbox: 0.1977, loss: 0.2963\n",
      "2020-12-30 17:52:05,660 - mmdet - INFO - Epoch [14][100/2001]\tlr: 5.000e-05, eta: 9:03:58, time: 1.377, data_time: 0.013, memory: 6189, loss_rpn_cls: 0.0024, loss_rpn_bbox: 0.0259, loss_cls: 0.0737, acc: 96.9033, loss_bbox: 0.2069, loss: 0.3089\n",
      "2020-12-30 17:53:14,478 - mmdet - INFO - Epoch [14][150/2001]\tlr: 5.000e-05, eta: 9:03:37, time: 1.376, data_time: 0.013, memory: 6189, loss_rpn_cls: 0.0021, loss_rpn_bbox: 0.0288, loss_cls: 0.0722, acc: 97.0068, loss_bbox: 0.2068, loss: 0.3099\n",
      "2020-12-30 17:54:23,266 - mmdet - INFO - Epoch [14][200/2001]\tlr: 5.000e-05, eta: 9:03:15, time: 1.375, data_time: 0.014, memory: 6189, loss_rpn_cls: 0.0015, loss_rpn_bbox: 0.0249, loss_cls: 0.0706, acc: 97.1211, loss_bbox: 0.2044, loss: 0.3014\n",
      "2020-12-30 17:55:21,349 - mmdet - INFO - Epoch [14][250/2001]\tlr: 5.000e-05, eta: 9:02:40, time: 1.165, data_time: 0.014, memory: 6189, loss_rpn_cls: 0.0014, loss_rpn_bbox: 0.0251, loss_cls: 0.0693, acc: 97.0996, loss_bbox: 0.1952, loss: 0.2911\n",
      "2020-12-30 17:56:02,445 - mmdet - INFO - Epoch [14][300/2001]\tlr: 5.000e-05, eta: 9:01:43, time: 0.822, data_time: 0.010, memory: 6189, loss_rpn_cls: 0.0016, loss_rpn_bbox: 0.0251, loss_cls: 0.0700, acc: 97.0615, loss_bbox: 0.2042, loss: 0.3009\n",
      "2020-12-30 17:56:43,619 - mmdet - INFO - Epoch [14][350/2001]\tlr: 5.000e-05, eta: 9:00:46, time: 0.823, data_time: 0.010, memory: 6189, loss_rpn_cls: 0.0019, loss_rpn_bbox: 0.0266, loss_cls: 0.0715, acc: 96.9854, loss_bbox: 0.1983, loss: 0.2983\n",
      "2020-12-30 17:57:25,209 - mmdet - INFO - Epoch [14][400/2001]\tlr: 5.000e-05, eta: 8:59:49, time: 0.832, data_time: 0.010, memory: 6189, loss_rpn_cls: 0.0022, loss_rpn_bbox: 0.0247, loss_cls: 0.0730, acc: 96.9854, loss_bbox: 0.2008, loss: 0.3007\n",
      "2020-12-30 17:58:06,163 - mmdet - INFO - Epoch [14][450/2001]\tlr: 5.000e-05, eta: 8:58:52, time: 0.819, data_time: 0.011, memory: 6189, loss_rpn_cls: 0.0015, loss_rpn_bbox: 0.0256, loss_cls: 0.0719, acc: 97.0312, loss_bbox: 0.2019, loss: 0.3009\n",
      "2020-12-30 17:58:47,106 - mmdet - INFO - Epoch [14][500/2001]\tlr: 5.000e-05, eta: 8:57:54, time: 0.819, data_time: 0.010, memory: 6189, loss_rpn_cls: 0.0023, loss_rpn_bbox: 0.0253, loss_cls: 0.0670, acc: 97.2275, loss_bbox: 0.1968, loss: 0.2914\n",
      "2020-12-30 17:59:28,073 - mmdet - INFO - Epoch [14][550/2001]\tlr: 5.000e-05, eta: 8:56:57, time: 0.819, data_time: 0.010, memory: 6189, loss_rpn_cls: 0.0021, loss_rpn_bbox: 0.0256, loss_cls: 0.0715, acc: 97.0059, loss_bbox: 0.2010, loss: 0.3002\n",
      "2020-12-30 18:00:09,076 - mmdet - INFO - Epoch [14][600/2001]\tlr: 5.000e-05, eta: 8:56:00, time: 0.820, data_time: 0.010, memory: 6189, loss_rpn_cls: 0.0019, loss_rpn_bbox: 0.0255, loss_cls: 0.0691, acc: 97.1484, loss_bbox: 0.1997, loss: 0.2963\n",
      "2020-12-30 18:00:50,148 - mmdet - INFO - Epoch [14][650/2001]\tlr: 5.000e-05, eta: 8:55:03, time: 0.821, data_time: 0.010, memory: 6189, loss_rpn_cls: 0.0019, loss_rpn_bbox: 0.0261, loss_cls: 0.0722, acc: 97.0049, loss_bbox: 0.2080, loss: 0.3083\n",
      "2020-12-30 18:01:31,254 - mmdet - INFO - Epoch [14][700/2001]\tlr: 5.000e-05, eta: 8:54:06, time: 0.823, data_time: 0.011, memory: 6189, loss_rpn_cls: 0.0017, loss_rpn_bbox: 0.0268, loss_cls: 0.0715, acc: 97.0225, loss_bbox: 0.2028, loss: 0.3028\n",
      "2020-12-30 18:02:12,116 - mmdet - INFO - Epoch [14][750/2001]\tlr: 5.000e-05, eta: 8:53:09, time: 0.817, data_time: 0.010, memory: 6189, loss_rpn_cls: 0.0023, loss_rpn_bbox: 0.0227, loss_cls: 0.0709, acc: 97.0625, loss_bbox: 0.2012, loss: 0.2971\n",
      "2020-12-30 18:02:53,311 - mmdet - INFO - Epoch [14][800/2001]\tlr: 5.000e-05, eta: 8:52:13, time: 0.824, data_time: 0.011, memory: 6189, loss_rpn_cls: 0.0017, loss_rpn_bbox: 0.0269, loss_cls: 0.0711, acc: 97.0107, loss_bbox: 0.2040, loss: 0.3037\n",
      "2020-12-30 18:03:34,227 - mmdet - INFO - Epoch [14][850/2001]\tlr: 5.000e-05, eta: 8:51:16, time: 0.818, data_time: 0.011, memory: 6189, loss_rpn_cls: 0.0019, loss_rpn_bbox: 0.0257, loss_cls: 0.0714, acc: 97.0684, loss_bbox: 0.1989, loss: 0.2978\n",
      "2020-12-30 18:04:15,587 - mmdet - INFO - Epoch [14][900/2001]\tlr: 5.000e-05, eta: 8:50:19, time: 0.827, data_time: 0.010, memory: 6189, loss_rpn_cls: 0.0024, loss_rpn_bbox: 0.0257, loss_cls: 0.0675, acc: 97.2266, loss_bbox: 0.1970, loss: 0.2925\n",
      "2020-12-30 18:04:56,588 - mmdet - INFO - Epoch [14][950/2001]\tlr: 5.000e-05, eta: 8:49:23, time: 0.820, data_time: 0.010, memory: 6189, loss_rpn_cls: 0.0016, loss_rpn_bbox: 0.0251, loss_cls: 0.0740, acc: 96.9170, loss_bbox: 0.2059, loss: 0.3067\n",
      "2020-12-30 18:05:37,560 - mmdet - INFO - Epoch [14][1000/2001]\tlr: 5.000e-05, eta: 8:48:26, time: 0.819, data_time: 0.010, memory: 6189, loss_rpn_cls: 0.0024, loss_rpn_bbox: 0.0260, loss_cls: 0.0735, acc: 96.9219, loss_bbox: 0.2035, loss: 0.3053\n",
      "2020-12-30 18:06:18,476 - mmdet - INFO - Epoch [14][1050/2001]\tlr: 5.000e-05, eta: 8:47:29, time: 0.818, data_time: 0.010, memory: 6189, loss_rpn_cls: 0.0021, loss_rpn_bbox: 0.0254, loss_cls: 0.0704, acc: 97.0947, loss_bbox: 0.2025, loss: 0.3003\n",
      "2020-12-30 18:06:59,666 - mmdet - INFO - Epoch [14][1100/2001]\tlr: 5.000e-05, eta: 8:46:33, time: 0.824, data_time: 0.010, memory: 6189, loss_rpn_cls: 0.0027, loss_rpn_bbox: 0.0254, loss_cls: 0.0716, acc: 96.9932, loss_bbox: 0.2024, loss: 0.3021\n",
      "2020-12-30 18:07:52,533 - mmdet - INFO - Epoch [14][1150/2001]\tlr: 5.000e-05, eta: 8:45:51, time: 1.056, data_time: 0.012, memory: 6189, loss_rpn_cls: 0.0022, loss_rpn_bbox: 0.0257, loss_cls: 0.0730, acc: 96.9795, loss_bbox: 0.2053, loss: 0.3062\n",
      "2020-12-30 18:09:00,866 - mmdet - INFO - Epoch [14][1200/2001]\tlr: 5.000e-05, eta: 8:45:27, time: 1.366, data_time: 0.013, memory: 6189, loss_rpn_cls: 0.0021, loss_rpn_bbox: 0.0254, loss_cls: 0.0710, acc: 97.0215, loss_bbox: 0.1980, loss: 0.2965\n",
      "2020-12-30 18:10:09,560 - mmdet - INFO - Epoch [14][1250/2001]\tlr: 5.000e-05, eta: 8:45:04, time: 1.375, data_time: 0.015, memory: 6189, loss_rpn_cls: 0.0023, loss_rpn_bbox: 0.0237, loss_cls: 0.0714, acc: 97.0527, loss_bbox: 0.2023, loss: 0.2997\n",
      "2020-12-30 18:11:17,932 - mmdet - INFO - Epoch [14][1300/2001]\tlr: 5.000e-05, eta: 8:44:41, time: 1.367, data_time: 0.013, memory: 6189, loss_rpn_cls: 0.0020, loss_rpn_bbox: 0.0249, loss_cls: 0.0699, acc: 97.1025, loss_bbox: 0.1967, loss: 0.2934\n",
      "2020-12-30 18:12:27,099 - mmdet - INFO - Epoch [14][1350/2001]\tlr: 5.000e-05, eta: 8:44:18, time: 1.383, data_time: 0.014, memory: 6189, loss_rpn_cls: 0.0022, loss_rpn_bbox: 0.0253, loss_cls: 0.0691, acc: 97.1709, loss_bbox: 0.2009, loss: 0.2975\n",
      "2020-12-30 18:13:35,484 - mmdet - INFO - Epoch [14][1400/2001]\tlr: 5.000e-05, eta: 8:43:53, time: 1.368, data_time: 0.015, memory: 6189, loss_rpn_cls: 0.0017, loss_rpn_bbox: 0.0273, loss_cls: 0.0679, acc: 97.2139, loss_bbox: 0.1979, loss: 0.2949\n",
      "2020-12-30 18:14:44,393 - mmdet - INFO - Epoch [14][1450/2001]\tlr: 5.000e-05, eta: 8:43:30, time: 1.378, data_time: 0.015, memory: 6189, loss_rpn_cls: 0.0017, loss_rpn_bbox: 0.0252, loss_cls: 0.0723, acc: 97.0342, loss_bbox: 0.1995, loss: 0.2986\n",
      "2020-12-30 18:15:53,296 - mmdet - INFO - Epoch [14][1500/2001]\tlr: 5.000e-05, eta: 8:43:06, time: 1.379, data_time: 0.015, memory: 6189, loss_rpn_cls: 0.0019, loss_rpn_bbox: 0.0239, loss_cls: 0.0688, acc: 97.1631, loss_bbox: 0.1947, loss: 0.2892\n",
      "2020-12-30 18:17:02,042 - mmdet - INFO - Epoch [14][1550/2001]\tlr: 5.000e-05, eta: 8:42:42, time: 1.375, data_time: 0.014, memory: 6189, loss_rpn_cls: 0.0015, loss_rpn_bbox: 0.0248, loss_cls: 0.0694, acc: 97.1748, loss_bbox: 0.1967, loss: 0.2924\n",
      "2020-12-30 18:18:10,643 - mmdet - INFO - Epoch [14][1600/2001]\tlr: 5.000e-05, eta: 8:42:18, time: 1.372, data_time: 0.014, memory: 6189, loss_rpn_cls: 0.0023, loss_rpn_bbox: 0.0263, loss_cls: 0.0710, acc: 97.0410, loss_bbox: 0.1985, loss: 0.2982\n",
      "2020-12-30 18:19:19,269 - mmdet - INFO - Epoch [14][1650/2001]\tlr: 5.000e-05, eta: 8:41:53, time: 1.372, data_time: 0.014, memory: 6189, loss_rpn_cls: 0.0029, loss_rpn_bbox: 0.0288, loss_cls: 0.0725, acc: 97.0049, loss_bbox: 0.2069, loss: 0.3112\n",
      "2020-12-30 18:20:28,275 - mmdet - INFO - Epoch [14][1700/2001]\tlr: 5.000e-05, eta: 8:41:29, time: 1.380, data_time: 0.014, memory: 6189, loss_rpn_cls: 0.0019, loss_rpn_bbox: 0.0269, loss_cls: 0.0724, acc: 96.9756, loss_bbox: 0.2027, loss: 0.3038\n"
     ]
    },
    {
     "name": "stderr",
     "output_type": "stream",
     "text": [
      "2020-12-30 18:21:36,929 - mmdet - INFO - Epoch [14][1750/2001]\tlr: 5.000e-05, eta: 8:41:04, time: 1.373, data_time: 0.014, memory: 6189, loss_rpn_cls: 0.0024, loss_rpn_bbox: 0.0263, loss_cls: 0.0719, acc: 97.0781, loss_bbox: 0.2036, loss: 0.3043\n",
      "2020-12-30 18:22:45,587 - mmdet - INFO - Epoch [14][1800/2001]\tlr: 5.000e-05, eta: 8:40:39, time: 1.374, data_time: 0.015, memory: 6189, loss_rpn_cls: 0.0019, loss_rpn_bbox: 0.0248, loss_cls: 0.0752, acc: 96.8857, loss_bbox: 0.2037, loss: 0.3056\n",
      "2020-12-30 18:23:54,176 - mmdet - INFO - Epoch [14][1850/2001]\tlr: 5.000e-05, eta: 8:40:13, time: 1.372, data_time: 0.014, memory: 6189, loss_rpn_cls: 0.0023, loss_rpn_bbox: 0.0267, loss_cls: 0.0739, acc: 96.9316, loss_bbox: 0.2052, loss: 0.3081\n",
      "2020-12-30 18:25:02,812 - mmdet - INFO - Epoch [14][1900/2001]\tlr: 5.000e-05, eta: 8:39:48, time: 1.373, data_time: 0.014, memory: 6189, loss_rpn_cls: 0.0015, loss_rpn_bbox: 0.0269, loss_cls: 0.0715, acc: 97.0283, loss_bbox: 0.2056, loss: 0.3054\n",
      "2020-12-30 18:26:11,756 - mmdet - INFO - Epoch [14][1950/2001]\tlr: 5.000e-05, eta: 8:39:23, time: 1.378, data_time: 0.014, memory: 6189, loss_rpn_cls: 0.0022, loss_rpn_bbox: 0.0280, loss_cls: 0.0707, acc: 97.0684, loss_bbox: 0.2050, loss: 0.3058\n",
      "2020-12-30 18:27:20,241 - mmdet - INFO - Epoch [14][2000/2001]\tlr: 5.000e-05, eta: 8:38:57, time: 1.369, data_time: 0.014, memory: 6189, loss_rpn_cls: 0.0020, loss_rpn_bbox: 0.0252, loss_cls: 0.0733, acc: 96.9697, loss_bbox: 0.2023, loss: 0.3028\n",
      "2020-12-30 18:27:21,508 - mmdet - INFO - Saving checkpoint at 14 epochs\n"
     ]
    },
    {
     "name": "stdout",
     "output_type": "stream",
     "text": [
      "[>>>>>>>>>>>>>>>>>>>>>>>>>>>] 2013/2013, 5.8 task/s, elapsed: 346s, ETA:     0s"
     ]
    },
    {
     "name": "stderr",
     "output_type": "stream",
     "text": [
      "2020-12-30 18:33:07,873 - mmdet - INFO - \n",
      "Evaluateing mmdet/valid_44.json with 2013 images now\n",
      "2020-12-30 18:33:08,678 - mmdet - INFO - Evaluating bbox...\n"
     ]
    },
    {
     "name": "stdout",
     "output_type": "stream",
     "text": [
      "Loading and preparing results...\n",
      "DONE (t=0.12s)\n",
      "creating index...\n",
      "index created!\n",
      "Running per image evaluation...\n",
      "Evaluate annotation type *bbox*\n",
      "DONE (t=17.29s).\n",
      "Accumulating evaluation results...\n"
     ]
    },
    {
     "name": "stderr",
     "output_type": "stream",
     "text": [
      "2020-12-30 18:33:27,001 - mmdet - INFO - Epoch(val) [14][2001]\t0_bbox_mAP: 0.2880, 0_bbox_mAP_50: 0.4770, 0_bbox_mAP_75: 0.3210, 0_bbox_mAP_s: 0.2840, 0_bbox_mAP_m: 0.4780, 0_bbox_mAP_l: -1.0000, 0_bbox_mAP_copypaste: 0.288 0.477 0.321 0.284 0.478 -1.000\n"
     ]
    },
    {
     "name": "stdout",
     "output_type": "stream",
     "text": [
      "DONE (t=0.82s).\n",
      "Average Precision  (AP) @[ IoU=0.50:0.95 | area=   all | maxDets=100 ] = 0.288\n",
      "Average Precision  (AP) @[ IoU=0.50      | area=   all | maxDets=1000 ] = 0.477\n",
      "Average Precision  (AP) @[ IoU=0.75      | area=   all | maxDets=1000 ] = 0.321\n",
      "Average Precision  (AP) @[ IoU=0.50:0.95 | area= small | maxDets=1000 ] = 0.284\n",
      "Average Precision  (AP) @[ IoU=0.50:0.95 | area=medium | maxDets=1000 ] = 0.478\n",
      "Average Precision  (AP) @[ IoU=0.50:0.95 | area= large | maxDets=1000 ] = -1.000\n",
      "Average Recall     (AR) @[ IoU=0.50:0.95 | area=   all | maxDets=100 ] = 0.356\n",
      "Average Recall     (AR) @[ IoU=0.50:0.95 | area=   all | maxDets=300 ] = 0.356\n",
      "Average Recall     (AR) @[ IoU=0.50:0.95 | area=   all | maxDets=1000 ] = 0.356\n",
      "Average Recall     (AR) @[ IoU=0.50:0.95 | area= small | maxDets=1000 ] = 0.352\n",
      "Average Recall     (AR) @[ IoU=0.50:0.95 | area=medium | maxDets=1000 ] = 0.529\n",
      "Average Recall     (AR) @[ IoU=0.50:0.95 | area= large | maxDets=1000 ] = -1.000\n"
     ]
    },
    {
     "name": "stderr",
     "output_type": "stream",
     "text": [
      "2020-12-30 18:34:37,864 - mmdet - INFO - Epoch [15][50/2001]\tlr: 5.000e-05, eta: 8:38:31, time: 1.411, data_time: 0.058, memory: 6189, loss_rpn_cls: 0.0020, loss_rpn_bbox: 0.0258, loss_cls: 0.0710, acc: 97.1045, loss_bbox: 0.2009, loss: 0.2997\n",
      "2020-12-30 18:35:46,425 - mmdet - INFO - Epoch [15][100/2001]\tlr: 5.000e-05, eta: 8:38:05, time: 1.372, data_time: 0.013, memory: 6189, loss_rpn_cls: 0.0014, loss_rpn_bbox: 0.0246, loss_cls: 0.0729, acc: 96.9941, loss_bbox: 0.2032, loss: 0.3021\n",
      "2020-12-30 18:36:55,023 - mmdet - INFO - Epoch [15][150/2001]\tlr: 5.000e-05, eta: 8:37:39, time: 1.372, data_time: 0.013, memory: 6189, loss_rpn_cls: 0.0020, loss_rpn_bbox: 0.0243, loss_cls: 0.0705, acc: 97.0771, loss_bbox: 0.1982, loss: 0.2950\n",
      "2020-12-30 18:38:04,043 - mmdet - INFO - Epoch [15][200/2001]\tlr: 5.000e-05, eta: 8:37:13, time: 1.380, data_time: 0.013, memory: 6189, loss_rpn_cls: 0.0026, loss_rpn_bbox: 0.0253, loss_cls: 0.0739, acc: 96.9463, loss_bbox: 0.2065, loss: 0.3084\n",
      "2020-12-30 18:39:11,406 - mmdet - INFO - Epoch [15][250/2001]\tlr: 5.000e-05, eta: 8:36:45, time: 1.350, data_time: 0.014, memory: 6189, loss_rpn_cls: 0.0019, loss_rpn_bbox: 0.0261, loss_cls: 0.0711, acc: 97.1201, loss_bbox: 0.2021, loss: 0.3012\n",
      "2020-12-30 18:39:52,388 - mmdet - INFO - Epoch [15][300/2001]\tlr: 5.000e-05, eta: 8:35:48, time: 0.820, data_time: 0.011, memory: 6189, loss_rpn_cls: 0.0024, loss_rpn_bbox: 0.0257, loss_cls: 0.0729, acc: 97.0361, loss_bbox: 0.2049, loss: 0.3058\n",
      "2020-12-30 18:40:34,098 - mmdet - INFO - Epoch [15][350/2001]\tlr: 5.000e-05, eta: 8:34:51, time: 0.834, data_time: 0.011, memory: 6189, loss_rpn_cls: 0.0015, loss_rpn_bbox: 0.0251, loss_cls: 0.0697, acc: 97.0723, loss_bbox: 0.1972, loss: 0.2934\n",
      "2020-12-30 18:41:41,412 - mmdet - INFO - Epoch [15][400/2001]\tlr: 5.000e-05, eta: 8:34:23, time: 1.345, data_time: 0.012, memory: 6189, loss_rpn_cls: 0.0016, loss_rpn_bbox: 0.0255, loss_cls: 0.0718, acc: 97.0557, loss_bbox: 0.2012, loss: 0.3002\n",
      "2020-12-30 18:42:50,322 - mmdet - INFO - Epoch [15][450/2001]\tlr: 5.000e-05, eta: 8:33:56, time: 1.378, data_time: 0.014, memory: 6189, loss_rpn_cls: 0.0025, loss_rpn_bbox: 0.0254, loss_cls: 0.0703, acc: 97.0830, loss_bbox: 0.1974, loss: 0.2955\n",
      "2020-12-30 18:43:58,961 - mmdet - INFO - Epoch [15][500/2001]\tlr: 5.000e-05, eta: 8:33:29, time: 1.373, data_time: 0.014, memory: 6189, loss_rpn_cls: 0.0020, loss_rpn_bbox: 0.0249, loss_cls: 0.0721, acc: 96.9775, loss_bbox: 0.1990, loss: 0.2979\n",
      "2020-12-30 18:45:07,287 - mmdet - INFO - Epoch [15][550/2001]\tlr: 5.000e-05, eta: 8:33:02, time: 1.367, data_time: 0.015, memory: 6189, loss_rpn_cls: 0.0021, loss_rpn_bbox: 0.0248, loss_cls: 0.0705, acc: 97.1055, loss_bbox: 0.2012, loss: 0.2985\n",
      "2020-12-30 18:46:15,985 - mmdet - INFO - Epoch [15][600/2001]\tlr: 5.000e-05, eta: 8:32:35, time: 1.374, data_time: 0.014, memory: 6189, loss_rpn_cls: 0.0017, loss_rpn_bbox: 0.0250, loss_cls: 0.0720, acc: 97.0410, loss_bbox: 0.1996, loss: 0.2983\n",
      "2020-12-30 18:47:25,224 - mmdet - INFO - Epoch [15][650/2001]\tlr: 5.000e-05, eta: 8:32:08, time: 1.385, data_time: 0.014, memory: 6189, loss_rpn_cls: 0.0022, loss_rpn_bbox: 0.0261, loss_cls: 0.0704, acc: 97.0234, loss_bbox: 0.2000, loss: 0.2986\n",
      "2020-12-30 18:48:33,937 - mmdet - INFO - Epoch [15][700/2001]\tlr: 5.000e-05, eta: 8:31:40, time: 1.374, data_time: 0.014, memory: 6189, loss_rpn_cls: 0.0020, loss_rpn_bbox: 0.0259, loss_cls: 0.0710, acc: 97.0645, loss_bbox: 0.2008, loss: 0.2996\n",
      "2020-12-30 18:49:42,642 - mmdet - INFO - Epoch [15][750/2001]\tlr: 5.000e-05, eta: 8:31:13, time: 1.375, data_time: 0.014, memory: 6189, loss_rpn_cls: 0.0019, loss_rpn_bbox: 0.0272, loss_cls: 0.0719, acc: 96.9658, loss_bbox: 0.2032, loss: 0.3041\n",
      "2020-12-30 18:50:51,177 - mmdet - INFO - Epoch [15][800/2001]\tlr: 5.000e-05, eta: 8:30:45, time: 1.371, data_time: 0.014, memory: 6189, loss_rpn_cls: 0.0016, loss_rpn_bbox: 0.0230, loss_cls: 0.0697, acc: 97.1104, loss_bbox: 0.1978, loss: 0.2919\n",
      "2020-12-30 18:52:00,647 - mmdet - INFO - Epoch [15][850/2001]\tlr: 5.000e-05, eta: 8:30:18, time: 1.390, data_time: 0.014, memory: 6189, loss_rpn_cls: 0.0020, loss_rpn_bbox: 0.0251, loss_cls: 0.0692, acc: 97.1562, loss_bbox: 0.2012, loss: 0.2975\n",
      "2020-12-30 18:53:09,282 - mmdet - INFO - Epoch [15][900/2001]\tlr: 5.000e-05, eta: 8:29:50, time: 1.372, data_time: 0.014, memory: 6189, loss_rpn_cls: 0.0021, loss_rpn_bbox: 0.0249, loss_cls: 0.0719, acc: 97.0146, loss_bbox: 0.2040, loss: 0.3029\n",
      "2020-12-30 18:54:18,058 - mmdet - INFO - Epoch [15][950/2001]\tlr: 5.000e-05, eta: 8:29:22, time: 1.375, data_time: 0.014, memory: 6189, loss_rpn_cls: 0.0023, loss_rpn_bbox: 0.0245, loss_cls: 0.0709, acc: 97.0908, loss_bbox: 0.2012, loss: 0.2989\n",
      "2020-12-30 18:55:26,507 - mmdet - INFO - Epoch [15][1000/2001]\tlr: 5.000e-05, eta: 8:28:53, time: 1.370, data_time: 0.015, memory: 6189, loss_rpn_cls: 0.0022, loss_rpn_bbox: 0.0258, loss_cls: 0.0705, acc: 97.1035, loss_bbox: 0.2056, loss: 0.3040\n",
      "2020-12-30 18:56:35,374 - mmdet - INFO - Epoch [15][1050/2001]\tlr: 5.000e-05, eta: 8:28:25, time: 1.376, data_time: 0.014, memory: 6189, loss_rpn_cls: 0.0013, loss_rpn_bbox: 0.0245, loss_cls: 0.0700, acc: 97.0723, loss_bbox: 0.1992, loss: 0.2950\n",
      "2020-12-30 18:57:44,060 - mmdet - INFO - Epoch [15][1100/2001]\tlr: 5.000e-05, eta: 8:27:56, time: 1.375, data_time: 0.015, memory: 6189, loss_rpn_cls: 0.0021, loss_rpn_bbox: 0.0276, loss_cls: 0.0722, acc: 97.0215, loss_bbox: 0.2044, loss: 0.3063\n",
      "2020-12-30 18:58:52,796 - mmdet - INFO - Epoch [15][1150/2001]\tlr: 5.000e-05, eta: 8:27:27, time: 1.374, data_time: 0.014, memory: 6189, loss_rpn_cls: 0.0019, loss_rpn_bbox: 0.0282, loss_cls: 0.0689, acc: 97.1875, loss_bbox: 0.2043, loss: 0.3032\n",
      "2020-12-30 19:00:01,027 - mmdet - INFO - Epoch [15][1200/2001]\tlr: 5.000e-05, eta: 8:26:58, time: 1.365, data_time: 0.014, memory: 6189, loss_rpn_cls: 0.0019, loss_rpn_bbox: 0.0273, loss_cls: 0.0726, acc: 96.9551, loss_bbox: 0.2021, loss: 0.3039\n",
      "2020-12-30 19:01:09,876 - mmdet - INFO - Epoch [15][1250/2001]\tlr: 5.000e-05, eta: 8:26:29, time: 1.377, data_time: 0.014, memory: 6189, loss_rpn_cls: 0.0015, loss_rpn_bbox: 0.0247, loss_cls: 0.0699, acc: 97.1250, loss_bbox: 0.2010, loss: 0.2972\n",
      "2020-12-30 19:02:17,836 - mmdet - INFO - Epoch [15][1300/2001]\tlr: 5.000e-05, eta: 8:25:59, time: 1.358, data_time: 0.014, memory: 6189, loss_rpn_cls: 0.0020, loss_rpn_bbox: 0.0253, loss_cls: 0.0703, acc: 97.1240, loss_bbox: 0.2003, loss: 0.2979\n",
      "2020-12-30 19:03:26,144 - mmdet - INFO - Epoch [15][1350/2001]\tlr: 5.000e-05, eta: 8:25:30, time: 1.367, data_time: 0.015, memory: 6189, loss_rpn_cls: 0.0019, loss_rpn_bbox: 0.0254, loss_cls: 0.0693, acc: 97.1133, loss_bbox: 0.1994, loss: 0.2961\n",
      "2020-12-30 19:04:34,637 - mmdet - INFO - Epoch [15][1400/2001]\tlr: 5.000e-05, eta: 8:25:00, time: 1.370, data_time: 0.014, memory: 6189, loss_rpn_cls: 0.0025, loss_rpn_bbox: 0.0270, loss_cls: 0.0711, acc: 97.0264, loss_bbox: 0.2052, loss: 0.3058\n",
      "2020-12-30 19:05:43,183 - mmdet - INFO - Epoch [15][1450/2001]\tlr: 5.000e-05, eta: 8:24:30, time: 1.370, data_time: 0.014, memory: 6189, loss_rpn_cls: 0.0018, loss_rpn_bbox: 0.0259, loss_cls: 0.0702, acc: 97.0850, loss_bbox: 0.1987, loss: 0.2966\n",
      "2020-12-30 19:06:52,213 - mmdet - INFO - Epoch [15][1500/2001]\tlr: 5.000e-05, eta: 8:24:01, time: 1.380, data_time: 0.014, memory: 6189, loss_rpn_cls: 0.0024, loss_rpn_bbox: 0.0242, loss_cls: 0.0720, acc: 97.0332, loss_bbox: 0.2019, loss: 0.3005\n",
      "2020-12-30 19:08:01,369 - mmdet - INFO - Epoch [15][1550/2001]\tlr: 5.000e-05, eta: 8:23:31, time: 1.383, data_time: 0.015, memory: 6189, loss_rpn_cls: 0.0019, loss_rpn_bbox: 0.0281, loss_cls: 0.0695, acc: 97.1221, loss_bbox: 0.2037, loss: 0.3033\n",
      "2020-12-30 19:09:09,934 - mmdet - INFO - Epoch [15][1600/2001]\tlr: 5.000e-05, eta: 8:23:01, time: 1.371, data_time: 0.014, memory: 6189, loss_rpn_cls: 0.0019, loss_rpn_bbox: 0.0261, loss_cls: 0.0720, acc: 97.0684, loss_bbox: 0.2052, loss: 0.3052\n",
      "2020-12-30 19:10:18,710 - mmdet - INFO - Epoch [15][1650/2001]\tlr: 5.000e-05, eta: 8:22:31, time: 1.376, data_time: 0.014, memory: 6189, loss_rpn_cls: 0.0018, loss_rpn_bbox: 0.0264, loss_cls: 0.0711, acc: 97.0488, loss_bbox: 0.2027, loss: 0.3020\n",
      "2020-12-30 19:11:27,032 - mmdet - INFO - Epoch [15][1700/2001]\tlr: 5.000e-05, eta: 8:22:01, time: 1.366, data_time: 0.013, memory: 6189, loss_rpn_cls: 0.0016, loss_rpn_bbox: 0.0281, loss_cls: 0.0733, acc: 96.9600, loss_bbox: 0.2044, loss: 0.3074\n"
     ]
    },
    {
     "name": "stderr",
     "output_type": "stream",
     "text": [
      "2020-12-30 19:12:35,698 - mmdet - INFO - Epoch [15][1750/2001]\tlr: 5.000e-05, eta: 8:21:30, time: 1.373, data_time: 0.014, memory: 6189, loss_rpn_cls: 0.0019, loss_rpn_bbox: 0.0259, loss_cls: 0.0728, acc: 96.9619, loss_bbox: 0.2030, loss: 0.3037\n",
      "2020-12-30 19:13:33,208 - mmdet - INFO - Epoch [15][1800/2001]\tlr: 5.000e-05, eta: 8:20:49, time: 1.153, data_time: 0.014, memory: 6189, loss_rpn_cls: 0.0017, loss_rpn_bbox: 0.0259, loss_cls: 0.0685, acc: 97.1797, loss_bbox: 0.1993, loss: 0.2955\n",
      "2020-12-30 19:14:14,535 - mmdet - INFO - Epoch [15][1850/2001]\tlr: 5.000e-05, eta: 8:19:51, time: 0.827, data_time: 0.011, memory: 6189, loss_rpn_cls: 0.0018, loss_rpn_bbox: 0.0258, loss_cls: 0.0692, acc: 97.1309, loss_bbox: 0.1989, loss: 0.2957\n",
      "2020-12-30 19:14:55,473 - mmdet - INFO - Epoch [15][1900/2001]\tlr: 5.000e-05, eta: 8:18:52, time: 0.819, data_time: 0.011, memory: 6189, loss_rpn_cls: 0.0026, loss_rpn_bbox: 0.0287, loss_cls: 0.0699, acc: 97.0967, loss_bbox: 0.2037, loss: 0.3049\n",
      "2020-12-30 19:15:36,416 - mmdet - INFO - Epoch [15][1950/2001]\tlr: 5.000e-05, eta: 8:17:54, time: 0.819, data_time: 0.011, memory: 6189, loss_rpn_cls: 0.0019, loss_rpn_bbox: 0.0236, loss_cls: 0.0701, acc: 97.1367, loss_bbox: 0.2004, loss: 0.2960\n",
      "2020-12-30 19:16:17,386 - mmdet - INFO - Epoch [15][2000/2001]\tlr: 5.000e-05, eta: 8:16:55, time: 0.819, data_time: 0.011, memory: 6189, loss_rpn_cls: 0.0019, loss_rpn_bbox: 0.0250, loss_cls: 0.0693, acc: 97.1250, loss_bbox: 0.1981, loss: 0.2943\n",
      "2020-12-30 19:16:18,098 - mmdet - INFO - Saving checkpoint at 15 epochs\n"
     ]
    },
    {
     "name": "stdout",
     "output_type": "stream",
     "text": [
      "[>>>>>>>>>>>>>>>>>>>>>>>>>>] 2013/2013, 11.0 task/s, elapsed: 184s, ETA:     0s"
     ]
    },
    {
     "name": "stderr",
     "output_type": "stream",
     "text": [
      "2020-12-30 19:19:22,408 - mmdet - INFO - \n",
      "Evaluateing mmdet/valid_44.json with 2013 images now\n",
      "2020-12-30 19:19:23,057 - mmdet - INFO - Evaluating bbox...\n"
     ]
    },
    {
     "name": "stdout",
     "output_type": "stream",
     "text": [
      "Loading and preparing results...\n",
      "DONE (t=0.15s)\n",
      "creating index...\n",
      "index created!\n",
      "Running per image evaluation...\n",
      "Evaluate annotation type *bbox*\n",
      "DONE (t=16.54s).\n",
      "Accumulating evaluation results...\n"
     ]
    },
    {
     "name": "stderr",
     "output_type": "stream",
     "text": [
      "2020-12-30 19:19:40,551 - mmdet - INFO - Epoch(val) [15][2001]\t0_bbox_mAP: 0.2880, 0_bbox_mAP_50: 0.4770, 0_bbox_mAP_75: 0.3190, 0_bbox_mAP_s: 0.2840, 0_bbox_mAP_m: 0.4770, 0_bbox_mAP_l: -1.0000, 0_bbox_mAP_copypaste: 0.288 0.477 0.319 0.284 0.477 -1.000\n"
     ]
    },
    {
     "name": "stdout",
     "output_type": "stream",
     "text": [
      "DONE (t=0.72s).\n",
      "Average Precision  (AP) @[ IoU=0.50:0.95 | area=   all | maxDets=100 ] = 0.288\n",
      "Average Precision  (AP) @[ IoU=0.50      | area=   all | maxDets=1000 ] = 0.477\n",
      "Average Precision  (AP) @[ IoU=0.75      | area=   all | maxDets=1000 ] = 0.319\n",
      "Average Precision  (AP) @[ IoU=0.50:0.95 | area= small | maxDets=1000 ] = 0.284\n",
      "Average Precision  (AP) @[ IoU=0.50:0.95 | area=medium | maxDets=1000 ] = 0.477\n",
      "Average Precision  (AP) @[ IoU=0.50:0.95 | area= large | maxDets=1000 ] = -1.000\n",
      "Average Recall     (AR) @[ IoU=0.50:0.95 | area=   all | maxDets=100 ] = 0.356\n",
      "Average Recall     (AR) @[ IoU=0.50:0.95 | area=   all | maxDets=300 ] = 0.356\n",
      "Average Recall     (AR) @[ IoU=0.50:0.95 | area=   all | maxDets=1000 ] = 0.356\n",
      "Average Recall     (AR) @[ IoU=0.50:0.95 | area= small | maxDets=1000 ] = 0.352\n",
      "Average Recall     (AR) @[ IoU=0.50:0.95 | area=medium | maxDets=1000 ] = 0.529\n",
      "Average Recall     (AR) @[ IoU=0.50:0.95 | area= large | maxDets=1000 ] = -1.000\n"
     ]
    },
    {
     "name": "stderr",
     "output_type": "stream",
     "text": [
      "2020-12-30 19:20:23,953 - mmdet - INFO - Epoch [16][50/2001]\tlr: 5.000e-05, eta: 8:15:57, time: 0.864, data_time: 0.056, memory: 6189, loss_rpn_cls: 0.0018, loss_rpn_bbox: 0.0236, loss_cls: 0.0689, acc: 97.1416, loss_bbox: 0.1985, loss: 0.2928\n",
      "2020-12-30 19:21:04,918 - mmdet - INFO - Epoch [16][100/2001]\tlr: 5.000e-05, eta: 8:14:59, time: 0.819, data_time: 0.010, memory: 6189, loss_rpn_cls: 0.0016, loss_rpn_bbox: 0.0265, loss_cls: 0.0695, acc: 97.1143, loss_bbox: 0.1951, loss: 0.2927\n",
      "2020-12-30 19:21:45,893 - mmdet - INFO - Epoch [16][150/2001]\tlr: 5.000e-05, eta: 8:14:01, time: 0.820, data_time: 0.011, memory: 6189, loss_rpn_cls: 0.0019, loss_rpn_bbox: 0.0256, loss_cls: 0.0715, acc: 97.0283, loss_bbox: 0.1960, loss: 0.2949\n",
      "2020-12-30 19:22:27,235 - mmdet - INFO - Epoch [16][200/2001]\tlr: 5.000e-05, eta: 8:13:03, time: 0.827, data_time: 0.011, memory: 6189, loss_rpn_cls: 0.0029, loss_rpn_bbox: 0.0267, loss_cls: 0.0706, acc: 97.1035, loss_bbox: 0.1990, loss: 0.2992\n",
      "2020-12-30 19:23:08,481 - mmdet - INFO - Epoch [16][250/2001]\tlr: 5.000e-05, eta: 8:12:05, time: 0.825, data_time: 0.011, memory: 6189, loss_rpn_cls: 0.0023, loss_rpn_bbox: 0.0262, loss_cls: 0.0738, acc: 96.9434, loss_bbox: 0.2095, loss: 0.3118\n",
      "2020-12-30 19:23:49,439 - mmdet - INFO - Epoch [16][300/2001]\tlr: 5.000e-05, eta: 8:11:07, time: 0.819, data_time: 0.011, memory: 6189, loss_rpn_cls: 0.0021, loss_rpn_bbox: 0.0261, loss_cls: 0.0697, acc: 97.0820, loss_bbox: 0.2031, loss: 0.3010\n",
      "2020-12-30 19:24:30,612 - mmdet - INFO - Epoch [16][350/2001]\tlr: 5.000e-05, eta: 8:10:09, time: 0.823, data_time: 0.011, memory: 6189, loss_rpn_cls: 0.0022, loss_rpn_bbox: 0.0272, loss_cls: 0.0687, acc: 97.1533, loss_bbox: 0.2004, loss: 0.2986\n",
      "2020-12-30 19:25:11,706 - mmdet - INFO - Epoch [16][400/2001]\tlr: 5.000e-05, eta: 8:09:11, time: 0.822, data_time: 0.011, memory: 6189, loss_rpn_cls: 0.0011, loss_rpn_bbox: 0.0246, loss_cls: 0.0704, acc: 97.0674, loss_bbox: 0.1994, loss: 0.2955\n",
      "2020-12-30 19:25:52,656 - mmdet - INFO - Epoch [16][450/2001]\tlr: 5.000e-05, eta: 8:08:13, time: 0.819, data_time: 0.011, memory: 6189, loss_rpn_cls: 0.0019, loss_rpn_bbox: 0.0253, loss_cls: 0.0728, acc: 96.9775, loss_bbox: 0.2057, loss: 0.3058\n",
      "2020-12-30 19:26:33,821 - mmdet - INFO - Epoch [16][500/2001]\tlr: 5.000e-05, eta: 8:07:16, time: 0.823, data_time: 0.011, memory: 6189, loss_rpn_cls: 0.0019, loss_rpn_bbox: 0.0255, loss_cls: 0.0714, acc: 97.0098, loss_bbox: 0.2009, loss: 0.2998\n",
      "2020-12-30 19:27:14,786 - mmdet - INFO - Epoch [16][550/2001]\tlr: 5.000e-05, eta: 8:06:18, time: 0.819, data_time: 0.011, memory: 6189, loss_rpn_cls: 0.0019, loss_rpn_bbox: 0.0243, loss_cls: 0.0711, acc: 97.0449, loss_bbox: 0.2010, loss: 0.2983\n",
      "2020-12-30 19:27:55,760 - mmdet - INFO - Epoch [16][600/2001]\tlr: 5.000e-05, eta: 8:05:20, time: 0.819, data_time: 0.011, memory: 6189, loss_rpn_cls: 0.0013, loss_rpn_bbox: 0.0250, loss_cls: 0.0697, acc: 97.1465, loss_bbox: 0.1994, loss: 0.2953\n",
      "2020-12-30 19:28:36,945 - mmdet - INFO - Epoch [16][650/2001]\tlr: 5.000e-05, eta: 8:04:23, time: 0.824, data_time: 0.011, memory: 6189, loss_rpn_cls: 0.0023, loss_rpn_bbox: 0.0261, loss_cls: 0.0700, acc: 97.1445, loss_bbox: 0.1952, loss: 0.2937\n",
      "2020-12-30 19:29:17,894 - mmdet - INFO - Epoch [16][700/2001]\tlr: 5.000e-05, eta: 8:03:25, time: 0.819, data_time: 0.011, memory: 6189, loss_rpn_cls: 0.0023, loss_rpn_bbox: 0.0260, loss_cls: 0.0710, acc: 97.0596, loss_bbox: 0.2028, loss: 0.3022\n",
      "2020-12-30 19:29:58,853 - mmdet - INFO - Epoch [16][750/2001]\tlr: 5.000e-05, eta: 8:02:27, time: 0.819, data_time: 0.011, memory: 6189, loss_rpn_cls: 0.0017, loss_rpn_bbox: 0.0278, loss_cls: 0.0697, acc: 97.0938, loss_bbox: 0.2036, loss: 0.3027\n",
      "2020-12-30 19:30:39,812 - mmdet - INFO - Epoch [16][800/2001]\tlr: 5.000e-05, eta: 8:01:30, time: 0.819, data_time: 0.011, memory: 6189, loss_rpn_cls: 0.0020, loss_rpn_bbox: 0.0260, loss_cls: 0.0704, acc: 97.0957, loss_bbox: 0.1998, loss: 0.2982\n",
      "2020-12-30 19:31:20,964 - mmdet - INFO - Epoch [16][850/2001]\tlr: 5.000e-05, eta: 8:00:33, time: 0.823, data_time: 0.011, memory: 6189, loss_rpn_cls: 0.0019, loss_rpn_bbox: 0.0243, loss_cls: 0.0711, acc: 97.0684, loss_bbox: 0.1995, loss: 0.2968\n",
      "2020-12-30 19:32:01,923 - mmdet - INFO - Epoch [16][900/2001]\tlr: 5.000e-05, eta: 7:59:35, time: 0.819, data_time: 0.011, memory: 6189, loss_rpn_cls: 0.0024, loss_rpn_bbox: 0.0262, loss_cls: 0.0722, acc: 97.0586, loss_bbox: 0.2044, loss: 0.3053\n",
      "2020-12-30 19:32:42,958 - mmdet - INFO - Epoch [16][950/2001]\tlr: 5.000e-05, eta: 7:58:38, time: 0.821, data_time: 0.011, memory: 6189, loss_rpn_cls: 0.0021, loss_rpn_bbox: 0.0250, loss_cls: 0.0704, acc: 97.0449, loss_bbox: 0.2005, loss: 0.2979\n",
      "2020-12-30 19:33:23,850 - mmdet - INFO - Epoch [16][1000/2001]\tlr: 5.000e-05, eta: 7:57:41, time: 0.818, data_time: 0.011, memory: 6189, loss_rpn_cls: 0.0024, loss_rpn_bbox: 0.0262, loss_cls: 0.0728, acc: 96.9727, loss_bbox: 0.2028, loss: 0.3042\n",
      "2020-12-30 19:34:04,803 - mmdet - INFO - Epoch [16][1050/2001]\tlr: 5.000e-05, eta: 7:56:43, time: 0.819, data_time: 0.011, memory: 6189, loss_rpn_cls: 0.0027, loss_rpn_bbox: 0.0251, loss_cls: 0.0707, acc: 97.1357, loss_bbox: 0.2038, loss: 0.3022\n",
      "2020-12-30 19:34:45,979 - mmdet - INFO - Epoch [16][1100/2001]\tlr: 5.000e-05, eta: 7:55:46, time: 0.824, data_time: 0.011, memory: 6189, loss_rpn_cls: 0.0021, loss_rpn_bbox: 0.0270, loss_cls: 0.0732, acc: 97.0293, loss_bbox: 0.2103, loss: 0.3126\n",
      "2020-12-30 19:35:26,947 - mmdet - INFO - Epoch [16][1150/2001]\tlr: 5.000e-05, eta: 7:54:49, time: 0.819, data_time: 0.011, memory: 6189, loss_rpn_cls: 0.0025, loss_rpn_bbox: 0.0251, loss_cls: 0.0683, acc: 97.1367, loss_bbox: 0.1984, loss: 0.2944\n",
      "2020-12-30 19:36:07,916 - mmdet - INFO - Epoch [16][1200/2001]\tlr: 5.000e-05, eta: 7:53:52, time: 0.819, data_time: 0.011, memory: 6189, loss_rpn_cls: 0.0015, loss_rpn_bbox: 0.0263, loss_cls: 0.0716, acc: 97.0420, loss_bbox: 0.2053, loss: 0.3046\n",
      "2020-12-30 19:36:49,045 - mmdet - INFO - Epoch [16][1250/2001]\tlr: 5.000e-05, eta: 7:52:55, time: 0.822, data_time: 0.011, memory: 6189, loss_rpn_cls: 0.0015, loss_rpn_bbox: 0.0267, loss_cls: 0.0727, acc: 97.0283, loss_bbox: 0.2047, loss: 0.3055\n",
      "2020-12-30 19:37:30,015 - mmdet - INFO - Epoch [16][1300/2001]\tlr: 5.000e-05, eta: 7:51:58, time: 0.820, data_time: 0.011, memory: 6189, loss_rpn_cls: 0.0016, loss_rpn_bbox: 0.0242, loss_cls: 0.0715, acc: 97.0645, loss_bbox: 0.2024, loss: 0.2997\n",
      "2020-12-30 19:38:10,992 - mmdet - INFO - Epoch [16][1350/2001]\tlr: 5.000e-05, eta: 7:51:01, time: 0.820, data_time: 0.011, memory: 6189, loss_rpn_cls: 0.0018, loss_rpn_bbox: 0.0263, loss_cls: 0.0706, acc: 97.0186, loss_bbox: 0.2019, loss: 0.3006\n",
      "2020-12-30 19:38:51,988 - mmdet - INFO - Epoch [16][1400/2001]\tlr: 5.000e-05, eta: 7:50:04, time: 0.820, data_time: 0.011, memory: 6189, loss_rpn_cls: 0.0020, loss_rpn_bbox: 0.0262, loss_cls: 0.0667, acc: 97.2119, loss_bbox: 0.1993, loss: 0.2942\n",
      "2020-12-30 19:39:33,137 - mmdet - INFO - Epoch [16][1450/2001]\tlr: 5.000e-05, eta: 7:49:08, time: 0.823, data_time: 0.011, memory: 6189, loss_rpn_cls: 0.0026, loss_rpn_bbox: 0.0250, loss_cls: 0.0713, acc: 96.9746, loss_bbox: 0.2008, loss: 0.2998\n",
      "2020-12-30 19:40:14,072 - mmdet - INFO - Epoch [16][1500/2001]\tlr: 5.000e-05, eta: 7:48:11, time: 0.819, data_time: 0.011, memory: 6189, loss_rpn_cls: 0.0024, loss_rpn_bbox: 0.0256, loss_cls: 0.0701, acc: 97.1133, loss_bbox: 0.1960, loss: 0.2940\n",
      "2020-12-30 19:40:55,237 - mmdet - INFO - Epoch [16][1550/2001]\tlr: 5.000e-05, eta: 7:47:14, time: 0.823, data_time: 0.011, memory: 6189, loss_rpn_cls: 0.0020, loss_rpn_bbox: 0.0255, loss_cls: 0.0693, acc: 97.1416, loss_bbox: 0.2019, loss: 0.2988\n",
      "2020-12-30 19:41:36,399 - mmdet - INFO - Epoch [16][1600/2001]\tlr: 5.000e-05, eta: 7:46:18, time: 0.823, data_time: 0.011, memory: 6189, loss_rpn_cls: 0.0024, loss_rpn_bbox: 0.0250, loss_cls: 0.0726, acc: 96.9639, loss_bbox: 0.2044, loss: 0.3043\n",
      "2020-12-30 19:42:17,363 - mmdet - INFO - Epoch [16][1650/2001]\tlr: 5.000e-05, eta: 7:45:21, time: 0.819, data_time: 0.011, memory: 6189, loss_rpn_cls: 0.0019, loss_rpn_bbox: 0.0266, loss_cls: 0.0708, acc: 97.0449, loss_bbox: 0.2031, loss: 0.3023\n",
      "2020-12-30 19:42:58,385 - mmdet - INFO - Epoch [16][1700/2001]\tlr: 5.000e-05, eta: 7:44:25, time: 0.820, data_time: 0.011, memory: 6189, loss_rpn_cls: 0.0027, loss_rpn_bbox: 0.0266, loss_cls: 0.0695, acc: 97.1162, loss_bbox: 0.1996, loss: 0.2984\n"
     ]
    },
    {
     "name": "stderr",
     "output_type": "stream",
     "text": [
      "2020-12-30 19:43:39,481 - mmdet - INFO - Epoch [16][1750/2001]\tlr: 5.000e-05, eta: 7:43:28, time: 0.822, data_time: 0.011, memory: 6189, loss_rpn_cls: 0.0020, loss_rpn_bbox: 0.0237, loss_cls: 0.0713, acc: 97.0586, loss_bbox: 0.2004, loss: 0.2973\n",
      "2020-12-30 19:44:20,463 - mmdet - INFO - Epoch [16][1800/2001]\tlr: 5.000e-05, eta: 7:42:32, time: 0.820, data_time: 0.011, memory: 6189, loss_rpn_cls: 0.0022, loss_rpn_bbox: 0.0282, loss_cls: 0.0688, acc: 97.1416, loss_bbox: 0.1957, loss: 0.2949\n",
      "2020-12-30 19:45:01,611 - mmdet - INFO - Epoch [16][1850/2001]\tlr: 5.000e-05, eta: 7:41:36, time: 0.823, data_time: 0.011, memory: 6189, loss_rpn_cls: 0.0017, loss_rpn_bbox: 0.0263, loss_cls: 0.0672, acc: 97.2354, loss_bbox: 0.1947, loss: 0.2900\n",
      "2020-12-30 19:45:42,593 - mmdet - INFO - Epoch [16][1900/2001]\tlr: 5.000e-05, eta: 7:40:39, time: 0.820, data_time: 0.011, memory: 6189, loss_rpn_cls: 0.0018, loss_rpn_bbox: 0.0233, loss_cls: 0.0746, acc: 96.9658, loss_bbox: 0.2073, loss: 0.3071\n",
      "2020-12-30 19:46:23,726 - mmdet - INFO - Epoch [16][1950/2001]\tlr: 5.000e-05, eta: 7:39:43, time: 0.823, data_time: 0.011, memory: 6189, loss_rpn_cls: 0.0017, loss_rpn_bbox: 0.0266, loss_cls: 0.0693, acc: 97.1611, loss_bbox: 0.2011, loss: 0.2987\n",
      "2020-12-30 19:47:04,909 - mmdet - INFO - Epoch [16][2000/2001]\tlr: 5.000e-05, eta: 7:38:47, time: 0.824, data_time: 0.011, memory: 6189, loss_rpn_cls: 0.0022, loss_rpn_bbox: 0.0250, loss_cls: 0.0714, acc: 97.0215, loss_bbox: 0.2004, loss: 0.2990\n",
      "2020-12-30 19:47:05,614 - mmdet - INFO - Saving checkpoint at 16 epochs\n"
     ]
    },
    {
     "name": "stdout",
     "output_type": "stream",
     "text": [
      "[>>>>>>>>>>>>>>>>>>>>>>>>>>] 2013/2013, 11.0 task/s, elapsed: 183s, ETA:     0s"
     ]
    },
    {
     "name": "stderr",
     "output_type": "stream",
     "text": [
      "2020-12-30 19:50:09,499 - mmdet - INFO - \n",
      "Evaluateing mmdet/valid_44.json with 2013 images now\n",
      "2020-12-30 19:50:10,237 - mmdet - INFO - Evaluating bbox...\n"
     ]
    },
    {
     "name": "stdout",
     "output_type": "stream",
     "text": [
      "Loading and preparing results...\n",
      "DONE (t=0.12s)\n",
      "creating index...\n",
      "index created!\n",
      "Running per image evaluation...\n",
      "Evaluate annotation type *bbox*\n",
      "DONE (t=16.86s).\n",
      "Accumulating evaluation results...\n"
     ]
    },
    {
     "name": "stderr",
     "output_type": "stream",
     "text": [
      "2020-12-30 19:50:28,095 - mmdet - INFO - Epoch(val) [16][2001]\t0_bbox_mAP: 0.2880, 0_bbox_mAP_50: 0.4770, 0_bbox_mAP_75: 0.3190, 0_bbox_mAP_s: 0.2850, 0_bbox_mAP_m: 0.4800, 0_bbox_mAP_l: -1.0000, 0_bbox_mAP_copypaste: 0.288 0.477 0.319 0.285 0.480 -1.000\n"
     ]
    },
    {
     "name": "stdout",
     "output_type": "stream",
     "text": [
      "DONE (t=0.80s).\n",
      "Average Precision  (AP) @[ IoU=0.50:0.95 | area=   all | maxDets=100 ] = 0.288\n",
      "Average Precision  (AP) @[ IoU=0.50      | area=   all | maxDets=1000 ] = 0.477\n",
      "Average Precision  (AP) @[ IoU=0.75      | area=   all | maxDets=1000 ] = 0.319\n",
      "Average Precision  (AP) @[ IoU=0.50:0.95 | area= small | maxDets=1000 ] = 0.285\n",
      "Average Precision  (AP) @[ IoU=0.50:0.95 | area=medium | maxDets=1000 ] = 0.480\n",
      "Average Precision  (AP) @[ IoU=0.50:0.95 | area= large | maxDets=1000 ] = -1.000\n",
      "Average Recall     (AR) @[ IoU=0.50:0.95 | area=   all | maxDets=100 ] = 0.356\n",
      "Average Recall     (AR) @[ IoU=0.50:0.95 | area=   all | maxDets=300 ] = 0.356\n",
      "Average Recall     (AR) @[ IoU=0.50:0.95 | area=   all | maxDets=1000 ] = 0.356\n",
      "Average Recall     (AR) @[ IoU=0.50:0.95 | area= small | maxDets=1000 ] = 0.351\n",
      "Average Recall     (AR) @[ IoU=0.50:0.95 | area=medium | maxDets=1000 ] = 0.530\n",
      "Average Recall     (AR) @[ IoU=0.50:0.95 | area= large | maxDets=1000 ] = -1.000\n"
     ]
    },
    {
     "name": "stderr",
     "output_type": "stream",
     "text": [
      "2020-12-30 19:51:11,490 - mmdet - INFO - Epoch [17][50/2001]\tlr: 5.000e-05, eta: 7:37:51, time: 0.864, data_time: 0.056, memory: 6189, loss_rpn_cls: 0.0019, loss_rpn_bbox: 0.0263, loss_cls: 0.0684, acc: 97.1426, loss_bbox: 0.1922, loss: 0.2888\n",
      "2020-12-30 19:51:52,443 - mmdet - INFO - Epoch [17][100/2001]\tlr: 5.000e-05, eta: 7:36:55, time: 0.819, data_time: 0.010, memory: 6189, loss_rpn_cls: 0.0017, loss_rpn_bbox: 0.0264, loss_cls: 0.0691, acc: 97.1631, loss_bbox: 0.2022, loss: 0.2994\n",
      "2020-12-30 19:52:33,437 - mmdet - INFO - Epoch [17][150/2001]\tlr: 5.000e-05, eta: 7:35:58, time: 0.820, data_time: 0.010, memory: 6189, loss_rpn_cls: 0.0024, loss_rpn_bbox: 0.0259, loss_cls: 0.0692, acc: 97.1621, loss_bbox: 0.2028, loss: 0.3002\n",
      "2020-12-30 19:53:14,693 - mmdet - INFO - Epoch [17][200/2001]\tlr: 5.000e-05, eta: 7:35:03, time: 0.825, data_time: 0.010, memory: 6189, loss_rpn_cls: 0.0026, loss_rpn_bbox: 0.0254, loss_cls: 0.0706, acc: 97.0654, loss_bbox: 0.2074, loss: 0.3060\n",
      "2020-12-30 19:53:56,011 - mmdet - INFO - Epoch [17][250/2001]\tlr: 5.000e-05, eta: 7:34:07, time: 0.826, data_time: 0.010, memory: 6189, loss_rpn_cls: 0.0015, loss_rpn_bbox: 0.0242, loss_cls: 0.0723, acc: 97.0117, loss_bbox: 0.1986, loss: 0.2966\n",
      "2020-12-30 19:54:37,034 - mmdet - INFO - Epoch [17][300/2001]\tlr: 5.000e-05, eta: 7:33:11, time: 0.821, data_time: 0.011, memory: 6189, loss_rpn_cls: 0.0017, loss_rpn_bbox: 0.0247, loss_cls: 0.0692, acc: 97.1064, loss_bbox: 0.1987, loss: 0.2944\n",
      "2020-12-30 19:55:18,329 - mmdet - INFO - Epoch [17][350/2001]\tlr: 5.000e-05, eta: 7:32:15, time: 0.826, data_time: 0.011, memory: 6189, loss_rpn_cls: 0.0023, loss_rpn_bbox: 0.0266, loss_cls: 0.0697, acc: 97.0664, loss_bbox: 0.2024, loss: 0.3011\n",
      "2020-12-30 19:55:59,336 - mmdet - INFO - Epoch [17][400/2001]\tlr: 5.000e-05, eta: 7:31:19, time: 0.820, data_time: 0.011, memory: 6189, loss_rpn_cls: 0.0023, loss_rpn_bbox: 0.0248, loss_cls: 0.0713, acc: 97.1318, loss_bbox: 0.2000, loss: 0.2984\n",
      "2020-12-30 19:56:41,640 - mmdet - INFO - Epoch [17][450/2001]\tlr: 5.000e-05, eta: 7:30:24, time: 0.846, data_time: 0.011, memory: 6189, loss_rpn_cls: 0.0022, loss_rpn_bbox: 0.0230, loss_cls: 0.0693, acc: 97.1201, loss_bbox: 0.1985, loss: 0.2930\n",
      "2020-12-30 19:57:22,852 - mmdet - INFO - Epoch [17][500/2001]\tlr: 5.000e-05, eta: 7:29:29, time: 0.824, data_time: 0.011, memory: 6189, loss_rpn_cls: 0.0022, loss_rpn_bbox: 0.0261, loss_cls: 0.0698, acc: 97.0879, loss_bbox: 0.2055, loss: 0.3037\n",
      "2020-12-30 19:58:03,791 - mmdet - INFO - Epoch [17][550/2001]\tlr: 5.000e-05, eta: 7:28:33, time: 0.819, data_time: 0.011, memory: 6189, loss_rpn_cls: 0.0017, loss_rpn_bbox: 0.0257, loss_cls: 0.0693, acc: 97.1699, loss_bbox: 0.2022, loss: 0.2989\n",
      "2020-12-30 19:58:44,763 - mmdet - INFO - Epoch [17][600/2001]\tlr: 5.000e-05, eta: 7:27:37, time: 0.819, data_time: 0.011, memory: 6189, loss_rpn_cls: 0.0015, loss_rpn_bbox: 0.0254, loss_cls: 0.0697, acc: 97.0625, loss_bbox: 0.1989, loss: 0.2955\n",
      "2020-12-30 19:59:25,895 - mmdet - INFO - Epoch [17][650/2001]\tlr: 5.000e-05, eta: 7:26:42, time: 0.823, data_time: 0.010, memory: 6189, loss_rpn_cls: 0.0021, loss_rpn_bbox: 0.0227, loss_cls: 0.0692, acc: 97.1611, loss_bbox: 0.1951, loss: 0.2891\n",
      "2020-12-30 20:00:06,900 - mmdet - INFO - Epoch [17][700/2001]\tlr: 5.000e-05, eta: 7:25:46, time: 0.820, data_time: 0.011, memory: 6189, loss_rpn_cls: 0.0019, loss_rpn_bbox: 0.0268, loss_cls: 0.0699, acc: 97.2100, loss_bbox: 0.1973, loss: 0.2958\n",
      "2020-12-30 20:00:48,029 - mmdet - INFO - Epoch [17][750/2001]\tlr: 5.000e-05, eta: 7:24:51, time: 0.823, data_time: 0.011, memory: 6189, loss_rpn_cls: 0.0025, loss_rpn_bbox: 0.0268, loss_cls: 0.0706, acc: 97.0654, loss_bbox: 0.2004, loss: 0.3003\n",
      "2020-12-30 20:01:29,193 - mmdet - INFO - Epoch [17][800/2001]\tlr: 5.000e-05, eta: 7:23:55, time: 0.823, data_time: 0.011, memory: 6189, loss_rpn_cls: 0.0015, loss_rpn_bbox: 0.0263, loss_cls: 0.0695, acc: 97.0381, loss_bbox: 0.2011, loss: 0.2984\n",
      "2020-12-30 20:02:10,144 - mmdet - INFO - Epoch [17][850/2001]\tlr: 5.000e-05, eta: 7:23:00, time: 0.819, data_time: 0.011, memory: 6189, loss_rpn_cls: 0.0021, loss_rpn_bbox: 0.0267, loss_cls: 0.0693, acc: 97.1172, loss_bbox: 0.2045, loss: 0.3026\n",
      "2020-12-30 20:02:51,552 - mmdet - INFO - Epoch [17][900/2001]\tlr: 5.000e-05, eta: 7:22:05, time: 0.828, data_time: 0.011, memory: 6189, loss_rpn_cls: 0.0020, loss_rpn_bbox: 0.0267, loss_cls: 0.0732, acc: 96.9375, loss_bbox: 0.2038, loss: 0.3058\n",
      "2020-12-30 20:03:32,689 - mmdet - INFO - Epoch [17][950/2001]\tlr: 5.000e-05, eta: 7:21:09, time: 0.823, data_time: 0.011, memory: 6189, loss_rpn_cls: 0.0024, loss_rpn_bbox: 0.0267, loss_cls: 0.0718, acc: 97.0293, loss_bbox: 0.2088, loss: 0.3097\n",
      "2020-12-30 20:04:13,851 - mmdet - INFO - Epoch [17][1000/2001]\tlr: 5.000e-05, eta: 7:20:14, time: 0.823, data_time: 0.011, memory: 6189, loss_rpn_cls: 0.0021, loss_rpn_bbox: 0.0276, loss_cls: 0.0721, acc: 97.0205, loss_bbox: 0.2018, loss: 0.3037\n",
      "2020-12-30 20:04:54,790 - mmdet - INFO - Epoch [17][1050/2001]\tlr: 5.000e-05, eta: 7:19:19, time: 0.819, data_time: 0.011, memory: 6189, loss_rpn_cls: 0.0018, loss_rpn_bbox: 0.0241, loss_cls: 0.0702, acc: 97.0674, loss_bbox: 0.1972, loss: 0.2933\n",
      "2020-12-30 20:05:35,967 - mmdet - INFO - Epoch [17][1100/2001]\tlr: 5.000e-05, eta: 7:18:24, time: 0.824, data_time: 0.011, memory: 6189, loss_rpn_cls: 0.0021, loss_rpn_bbox: 0.0252, loss_cls: 0.0702, acc: 97.0742, loss_bbox: 0.2038, loss: 0.3013\n",
      "2020-12-30 20:06:17,162 - mmdet - INFO - Epoch [17][1150/2001]\tlr: 5.000e-05, eta: 7:17:28, time: 0.824, data_time: 0.011, memory: 6189, loss_rpn_cls: 0.0021, loss_rpn_bbox: 0.0284, loss_cls: 0.0677, acc: 97.2344, loss_bbox: 0.1982, loss: 0.2964\n",
      "2020-12-30 20:06:58,193 - mmdet - INFO - Epoch [17][1200/2001]\tlr: 5.000e-05, eta: 7:16:33, time: 0.821, data_time: 0.011, memory: 6189, loss_rpn_cls: 0.0025, loss_rpn_bbox: 0.0252, loss_cls: 0.0744, acc: 96.9707, loss_bbox: 0.2036, loss: 0.3056\n",
      "2020-12-30 20:07:39,255 - mmdet - INFO - Epoch [17][1250/2001]\tlr: 5.000e-05, eta: 7:15:38, time: 0.821, data_time: 0.011, memory: 6189, loss_rpn_cls: 0.0018, loss_rpn_bbox: 0.0268, loss_cls: 0.0706, acc: 97.0664, loss_bbox: 0.1984, loss: 0.2976\n",
      "2020-12-30 20:08:20,324 - mmdet - INFO - Epoch [17][1300/2001]\tlr: 5.000e-05, eta: 7:14:43, time: 0.821, data_time: 0.011, memory: 6189, loss_rpn_cls: 0.0022, loss_rpn_bbox: 0.0257, loss_cls: 0.0683, acc: 97.1650, loss_bbox: 0.1968, loss: 0.2929\n",
      "2020-12-30 20:09:01,607 - mmdet - INFO - Epoch [17][1350/2001]\tlr: 5.000e-05, eta: 7:13:48, time: 0.826, data_time: 0.011, memory: 6189, loss_rpn_cls: 0.0021, loss_rpn_bbox: 0.0279, loss_cls: 0.0678, acc: 97.2100, loss_bbox: 0.1988, loss: 0.2966\n",
      "2020-12-30 20:09:42,997 - mmdet - INFO - Epoch [17][1400/2001]\tlr: 5.000e-05, eta: 7:12:54, time: 0.828, data_time: 0.011, memory: 6189, loss_rpn_cls: 0.0021, loss_rpn_bbox: 0.0258, loss_cls: 0.0700, acc: 97.0889, loss_bbox: 0.2025, loss: 0.3004\n",
      "2020-12-30 20:10:23,969 - mmdet - INFO - Epoch [17][1450/2001]\tlr: 5.000e-05, eta: 7:11:59, time: 0.819, data_time: 0.011, memory: 6189, loss_rpn_cls: 0.0020, loss_rpn_bbox: 0.0246, loss_cls: 0.0721, acc: 97.0127, loss_bbox: 0.2034, loss: 0.3021\n",
      "2020-12-30 20:11:05,125 - mmdet - INFO - Epoch [17][1500/2001]\tlr: 5.000e-05, eta: 7:11:04, time: 0.823, data_time: 0.011, memory: 6189, loss_rpn_cls: 0.0021, loss_rpn_bbox: 0.0272, loss_cls: 0.0667, acc: 97.2188, loss_bbox: 0.1980, loss: 0.2941\n",
      "2020-12-30 20:11:46,042 - mmdet - INFO - Epoch [17][1550/2001]\tlr: 5.000e-05, eta: 7:10:09, time: 0.818, data_time: 0.011, memory: 6189, loss_rpn_cls: 0.0018, loss_rpn_bbox: 0.0258, loss_cls: 0.0722, acc: 96.9492, loss_bbox: 0.2048, loss: 0.3046\n",
      "2020-12-30 20:12:27,205 - mmdet - INFO - Epoch [17][1600/2001]\tlr: 5.000e-05, eta: 7:09:14, time: 0.823, data_time: 0.011, memory: 6189, loss_rpn_cls: 0.0021, loss_rpn_bbox: 0.0235, loss_cls: 0.0710, acc: 97.1045, loss_bbox: 0.1980, loss: 0.2945\n",
      "2020-12-30 20:13:08,187 - mmdet - INFO - Epoch [17][1650/2001]\tlr: 5.000e-05, eta: 7:08:19, time: 0.820, data_time: 0.011, memory: 6189, loss_rpn_cls: 0.0019, loss_rpn_bbox: 0.0243, loss_cls: 0.0703, acc: 97.1182, loss_bbox: 0.1991, loss: 0.2955\n",
      "2020-12-30 20:13:49,320 - mmdet - INFO - Epoch [17][1700/2001]\tlr: 5.000e-05, eta: 7:07:24, time: 0.823, data_time: 0.011, memory: 6189, loss_rpn_cls: 0.0016, loss_rpn_bbox: 0.0234, loss_cls: 0.0713, acc: 97.0830, loss_bbox: 0.2033, loss: 0.2996\n"
     ]
    },
    {
     "name": "stderr",
     "output_type": "stream",
     "text": [
      "2020-12-30 20:14:30,304 - mmdet - INFO - Epoch [17][1750/2001]\tlr: 5.000e-05, eta: 7:06:30, time: 0.820, data_time: 0.011, memory: 6189, loss_rpn_cls: 0.0021, loss_rpn_bbox: 0.0245, loss_cls: 0.0706, acc: 97.0811, loss_bbox: 0.2029, loss: 0.3001\n",
      "2020-12-30 20:15:11,273 - mmdet - INFO - Epoch [17][1800/2001]\tlr: 5.000e-05, eta: 7:05:35, time: 0.819, data_time: 0.011, memory: 6189, loss_rpn_cls: 0.0024, loss_rpn_bbox: 0.0278, loss_cls: 0.0716, acc: 97.0254, loss_bbox: 0.2086, loss: 0.3104\n",
      "2020-12-30 20:15:52,288 - mmdet - INFO - Epoch [17][1850/2001]\tlr: 5.000e-05, eta: 7:04:40, time: 0.820, data_time: 0.011, memory: 6189, loss_rpn_cls: 0.0025, loss_rpn_bbox: 0.0279, loss_cls: 0.0692, acc: 97.1416, loss_bbox: 0.2022, loss: 0.3018\n",
      "2020-12-30 20:16:33,264 - mmdet - INFO - Epoch [17][1900/2001]\tlr: 5.000e-05, eta: 7:03:46, time: 0.819, data_time: 0.011, memory: 6189, loss_rpn_cls: 0.0018, loss_rpn_bbox: 0.0257, loss_cls: 0.0710, acc: 97.0615, loss_bbox: 0.2062, loss: 0.3047\n",
      "2020-12-30 20:17:14,228 - mmdet - INFO - Epoch [17][1950/2001]\tlr: 5.000e-05, eta: 7:02:51, time: 0.819, data_time: 0.011, memory: 6189, loss_rpn_cls: 0.0016, loss_rpn_bbox: 0.0235, loss_cls: 0.0718, acc: 97.0488, loss_bbox: 0.2008, loss: 0.2977\n",
      "2020-12-30 20:17:55,515 - mmdet - INFO - Epoch [17][2000/2001]\tlr: 5.000e-05, eta: 7:01:57, time: 0.826, data_time: 0.011, memory: 6189, loss_rpn_cls: 0.0026, loss_rpn_bbox: 0.0239, loss_cls: 0.0713, acc: 97.0078, loss_bbox: 0.1961, loss: 0.2939\n",
      "2020-12-30 20:17:56,217 - mmdet - INFO - Saving checkpoint at 17 epochs\n"
     ]
    },
    {
     "name": "stdout",
     "output_type": "stream",
     "text": [
      "[>>>>>>>>>>>>>>>>>>>>>>>>>>] 2013/2013, 11.0 task/s, elapsed: 184s, ETA:     0s"
     ]
    },
    {
     "name": "stderr",
     "output_type": "stream",
     "text": [
      "2020-12-30 20:21:00,682 - mmdet - INFO - \n",
      "Evaluateing mmdet/valid_44.json with 2013 images now\n",
      "2020-12-30 20:21:01,221 - mmdet - INFO - Evaluating bbox...\n"
     ]
    },
    {
     "name": "stdout",
     "output_type": "stream",
     "text": [
      "Loading and preparing results...\n",
      "DONE (t=0.12s)\n",
      "creating index...\n",
      "index created!\n",
      "Running per image evaluation...\n",
      "Evaluate annotation type *bbox*\n",
      "DONE (t=17.16s).\n",
      "Accumulating evaluation results...\n"
     ]
    },
    {
     "name": "stderr",
     "output_type": "stream",
     "text": [
      "2020-12-30 20:21:19,306 - mmdet - INFO - Epoch(val) [17][2001]\t0_bbox_mAP: 0.2870, 0_bbox_mAP_50: 0.4770, 0_bbox_mAP_75: 0.3180, 0_bbox_mAP_s: 0.2840, 0_bbox_mAP_m: 0.4790, 0_bbox_mAP_l: -1.0000, 0_bbox_mAP_copypaste: 0.287 0.477 0.318 0.284 0.479 -1.000\n"
     ]
    },
    {
     "name": "stdout",
     "output_type": "stream",
     "text": [
      "DONE (t=0.73s).\n",
      "Average Precision  (AP) @[ IoU=0.50:0.95 | area=   all | maxDets=100 ] = 0.287\n",
      "Average Precision  (AP) @[ IoU=0.50      | area=   all | maxDets=1000 ] = 0.477\n",
      "Average Precision  (AP) @[ IoU=0.75      | area=   all | maxDets=1000 ] = 0.318\n",
      "Average Precision  (AP) @[ IoU=0.50:0.95 | area= small | maxDets=1000 ] = 0.284\n",
      "Average Precision  (AP) @[ IoU=0.50:0.95 | area=medium | maxDets=1000 ] = 0.479\n",
      "Average Precision  (AP) @[ IoU=0.50:0.95 | area= large | maxDets=1000 ] = -1.000\n",
      "Average Recall     (AR) @[ IoU=0.50:0.95 | area=   all | maxDets=100 ] = 0.355\n",
      "Average Recall     (AR) @[ IoU=0.50:0.95 | area=   all | maxDets=300 ] = 0.355\n",
      "Average Recall     (AR) @[ IoU=0.50:0.95 | area=   all | maxDets=1000 ] = 0.355\n",
      "Average Recall     (AR) @[ IoU=0.50:0.95 | area= small | maxDets=1000 ] = 0.351\n",
      "Average Recall     (AR) @[ IoU=0.50:0.95 | area=medium | maxDets=1000 ] = 0.531\n",
      "Average Recall     (AR) @[ IoU=0.50:0.95 | area= large | maxDets=1000 ] = -1.000\n"
     ]
    },
    {
     "name": "stderr",
     "output_type": "stream",
     "text": [
      "2020-12-30 20:22:02,729 - mmdet - INFO - Epoch [18][50/2001]\tlr: 5.000e-05, eta: 7:01:02, time: 0.864, data_time: 0.056, memory: 6189, loss_rpn_cls: 0.0024, loss_rpn_bbox: 0.0258, loss_cls: 0.0706, acc: 97.0889, loss_bbox: 0.2006, loss: 0.2995\n",
      "2020-12-30 20:22:43,659 - mmdet - INFO - Epoch [18][100/2001]\tlr: 5.000e-05, eta: 7:00:08, time: 0.819, data_time: 0.010, memory: 6189, loss_rpn_cls: 0.0023, loss_rpn_bbox: 0.0241, loss_cls: 0.0688, acc: 97.1309, loss_bbox: 0.1977, loss: 0.2928\n",
      "2020-12-30 20:23:24,656 - mmdet - INFO - Epoch [18][150/2001]\tlr: 5.000e-05, eta: 6:59:13, time: 0.820, data_time: 0.010, memory: 6189, loss_rpn_cls: 0.0017, loss_rpn_bbox: 0.0244, loss_cls: 0.0707, acc: 97.1357, loss_bbox: 0.2006, loss: 0.2974\n",
      "2020-12-30 20:24:05,640 - mmdet - INFO - Epoch [18][200/2001]\tlr: 5.000e-05, eta: 6:58:19, time: 0.820, data_time: 0.010, memory: 6189, loss_rpn_cls: 0.0016, loss_rpn_bbox: 0.0240, loss_cls: 0.0676, acc: 97.2266, loss_bbox: 0.1945, loss: 0.2877\n",
      "2020-12-30 20:24:46,867 - mmdet - INFO - Epoch [18][250/2001]\tlr: 5.000e-05, eta: 6:57:25, time: 0.825, data_time: 0.010, memory: 6189, loss_rpn_cls: 0.0018, loss_rpn_bbox: 0.0240, loss_cls: 0.0709, acc: 97.0742, loss_bbox: 0.2000, loss: 0.2967\n",
      "2020-12-30 20:25:28,231 - mmdet - INFO - Epoch [18][300/2001]\tlr: 5.000e-05, eta: 6:56:31, time: 0.827, data_time: 0.010, memory: 6189, loss_rpn_cls: 0.0023, loss_rpn_bbox: 0.0238, loss_cls: 0.0694, acc: 97.0703, loss_bbox: 0.1990, loss: 0.2944\n",
      "2020-12-30 20:26:09,519 - mmdet - INFO - Epoch [18][350/2001]\tlr: 5.000e-05, eta: 6:55:37, time: 0.826, data_time: 0.010, memory: 6189, loss_rpn_cls: 0.0026, loss_rpn_bbox: 0.0272, loss_cls: 0.0701, acc: 97.0693, loss_bbox: 0.2024, loss: 0.3023\n",
      "2020-12-30 20:26:50,574 - mmdet - INFO - Epoch [18][400/2001]\tlr: 5.000e-05, eta: 6:54:42, time: 0.821, data_time: 0.010, memory: 6189, loss_rpn_cls: 0.0019, loss_rpn_bbox: 0.0240, loss_cls: 0.0680, acc: 97.1514, loss_bbox: 0.1922, loss: 0.2860\n",
      "2020-12-30 20:27:31,689 - mmdet - INFO - Epoch [18][450/2001]\tlr: 5.000e-05, eta: 6:53:48, time: 0.822, data_time: 0.010, memory: 6189, loss_rpn_cls: 0.0023, loss_rpn_bbox: 0.0260, loss_cls: 0.0680, acc: 97.1641, loss_bbox: 0.1974, loss: 0.2936\n",
      "2020-12-30 20:28:12,637 - mmdet - INFO - Epoch [18][500/2001]\tlr: 5.000e-05, eta: 6:52:54, time: 0.819, data_time: 0.010, memory: 6189, loss_rpn_cls: 0.0018, loss_rpn_bbox: 0.0245, loss_cls: 0.0720, acc: 96.9561, loss_bbox: 0.2021, loss: 0.3004\n",
      "2020-12-30 20:28:53,600 - mmdet - INFO - Epoch [18][550/2001]\tlr: 5.000e-05, eta: 6:52:00, time: 0.819, data_time: 0.010, memory: 6189, loss_rpn_cls: 0.0020, loss_rpn_bbox: 0.0258, loss_cls: 0.0706, acc: 97.0840, loss_bbox: 0.2016, loss: 0.3000\n",
      "2020-12-30 20:29:34,580 - mmdet - INFO - Epoch [18][600/2001]\tlr: 5.000e-05, eta: 6:51:06, time: 0.820, data_time: 0.010, memory: 6189, loss_rpn_cls: 0.0020, loss_rpn_bbox: 0.0273, loss_cls: 0.0716, acc: 97.0371, loss_bbox: 0.2013, loss: 0.3021\n",
      "2020-12-30 20:30:15,542 - mmdet - INFO - Epoch [18][650/2001]\tlr: 5.000e-05, eta: 6:50:12, time: 0.819, data_time: 0.010, memory: 6189, loss_rpn_cls: 0.0019, loss_rpn_bbox: 0.0251, loss_cls: 0.0685, acc: 97.1445, loss_bbox: 0.1964, loss: 0.2919\n",
      "2020-12-30 20:30:56,536 - mmdet - INFO - Epoch [18][700/2001]\tlr: 5.000e-05, eta: 6:49:18, time: 0.820, data_time: 0.010, memory: 6189, loss_rpn_cls: 0.0017, loss_rpn_bbox: 0.0249, loss_cls: 0.0710, acc: 97.0557, loss_bbox: 0.2034, loss: 0.3010\n",
      "2020-12-30 20:31:37,900 - mmdet - INFO - Epoch [18][750/2001]\tlr: 5.000e-05, eta: 6:48:24, time: 0.827, data_time: 0.011, memory: 6189, loss_rpn_cls: 0.0023, loss_rpn_bbox: 0.0264, loss_cls: 0.0709, acc: 97.0908, loss_bbox: 0.2019, loss: 0.3015\n",
      "2020-12-30 20:32:19,187 - mmdet - INFO - Epoch [18][800/2001]\tlr: 5.000e-05, eta: 6:47:30, time: 0.826, data_time: 0.010, memory: 6189, loss_rpn_cls: 0.0023, loss_rpn_bbox: 0.0263, loss_cls: 0.0695, acc: 97.0996, loss_bbox: 0.1949, loss: 0.2930\n",
      "2020-12-30 20:33:00,164 - mmdet - INFO - Epoch [18][850/2001]\tlr: 5.000e-05, eta: 6:46:37, time: 0.819, data_time: 0.010, memory: 6189, loss_rpn_cls: 0.0017, loss_rpn_bbox: 0.0264, loss_cls: 0.0688, acc: 97.1318, loss_bbox: 0.1992, loss: 0.2961\n",
      "2020-12-30 20:33:41,298 - mmdet - INFO - Epoch [18][900/2001]\tlr: 5.000e-05, eta: 6:45:43, time: 0.823, data_time: 0.010, memory: 6189, loss_rpn_cls: 0.0015, loss_rpn_bbox: 0.0230, loss_cls: 0.0731, acc: 96.9824, loss_bbox: 0.1983, loss: 0.2959\n",
      "2020-12-30 20:34:22,260 - mmdet - INFO - Epoch [18][950/2001]\tlr: 5.000e-05, eta: 6:44:49, time: 0.819, data_time: 0.010, memory: 6189, loss_rpn_cls: 0.0016, loss_rpn_bbox: 0.0249, loss_cls: 0.0690, acc: 97.1650, loss_bbox: 0.2051, loss: 0.3006\n",
      "2020-12-30 20:35:03,207 - mmdet - INFO - Epoch [18][1000/2001]\tlr: 5.000e-05, eta: 6:43:55, time: 0.819, data_time: 0.010, memory: 6189, loss_rpn_cls: 0.0025, loss_rpn_bbox: 0.0232, loss_cls: 0.0697, acc: 97.1348, loss_bbox: 0.2010, loss: 0.2963\n",
      "2020-12-30 20:35:44,424 - mmdet - INFO - Epoch [18][1050/2001]\tlr: 5.000e-05, eta: 6:43:02, time: 0.824, data_time: 0.010, memory: 6189, loss_rpn_cls: 0.0017, loss_rpn_bbox: 0.0272, loss_cls: 0.0701, acc: 97.1123, loss_bbox: 0.2046, loss: 0.3036\n",
      "2020-12-30 20:36:25,398 - mmdet - INFO - Epoch [18][1100/2001]\tlr: 5.000e-05, eta: 6:42:08, time: 0.820, data_time: 0.010, memory: 6189, loss_rpn_cls: 0.0018, loss_rpn_bbox: 0.0271, loss_cls: 0.0711, acc: 97.0566, loss_bbox: 0.2047, loss: 0.3047\n",
      "2020-12-30 20:37:06,311 - mmdet - INFO - Epoch [18][1150/2001]\tlr: 5.000e-05, eta: 6:41:14, time: 0.818, data_time: 0.010, memory: 6189, loss_rpn_cls: 0.0024, loss_rpn_bbox: 0.0229, loss_cls: 0.0713, acc: 97.0732, loss_bbox: 0.2025, loss: 0.2992\n",
      "2020-12-30 20:37:47,477 - mmdet - INFO - Epoch [18][1200/2001]\tlr: 5.000e-05, eta: 6:40:21, time: 0.823, data_time: 0.011, memory: 6189, loss_rpn_cls: 0.0022, loss_rpn_bbox: 0.0245, loss_cls: 0.0707, acc: 97.0811, loss_bbox: 0.1993, loss: 0.2967\n",
      "2020-12-30 20:38:28,689 - mmdet - INFO - Epoch [18][1250/2001]\tlr: 5.000e-05, eta: 6:39:27, time: 0.824, data_time: 0.011, memory: 6189, loss_rpn_cls: 0.0015, loss_rpn_bbox: 0.0271, loss_cls: 0.0696, acc: 97.1025, loss_bbox: 0.1997, loss: 0.2979\n",
      "2020-12-30 20:39:09,610 - mmdet - INFO - Epoch [18][1300/2001]\tlr: 5.000e-05, eta: 6:38:33, time: 0.818, data_time: 0.011, memory: 6189, loss_rpn_cls: 0.0017, loss_rpn_bbox: 0.0256, loss_cls: 0.0689, acc: 97.1582, loss_bbox: 0.2015, loss: 0.2976\n",
      "2020-12-30 20:39:50,669 - mmdet - INFO - Epoch [18][1350/2001]\tlr: 5.000e-05, eta: 6:37:40, time: 0.821, data_time: 0.011, memory: 6189, loss_rpn_cls: 0.0015, loss_rpn_bbox: 0.0257, loss_cls: 0.0697, acc: 97.0684, loss_bbox: 0.1983, loss: 0.2952\n",
      "2020-12-30 20:40:31,964 - mmdet - INFO - Epoch [18][1400/2001]\tlr: 5.000e-05, eta: 6:36:47, time: 0.826, data_time: 0.011, memory: 6189, loss_rpn_cls: 0.0015, loss_rpn_bbox: 0.0265, loss_cls: 0.0694, acc: 97.0762, loss_bbox: 0.1990, loss: 0.2965\n",
      "2020-12-30 20:41:13,096 - mmdet - INFO - Epoch [18][1450/2001]\tlr: 5.000e-05, eta: 6:35:53, time: 0.823, data_time: 0.011, memory: 6189, loss_rpn_cls: 0.0026, loss_rpn_bbox: 0.0270, loss_cls: 0.0686, acc: 97.1426, loss_bbox: 0.2003, loss: 0.2984\n",
      "2020-12-30 20:41:54,127 - mmdet - INFO - Epoch [18][1500/2001]\tlr: 5.000e-05, eta: 6:35:00, time: 0.821, data_time: 0.011, memory: 6189, loss_rpn_cls: 0.0020, loss_rpn_bbox: 0.0259, loss_cls: 0.0712, acc: 97.0586, loss_bbox: 0.2020, loss: 0.3011\n",
      "2020-12-30 20:42:35,482 - mmdet - INFO - Epoch [18][1550/2001]\tlr: 5.000e-05, eta: 6:34:07, time: 0.827, data_time: 0.011, memory: 6189, loss_rpn_cls: 0.0020, loss_rpn_bbox: 0.0284, loss_cls: 0.0716, acc: 97.0967, loss_bbox: 0.2032, loss: 0.3051\n",
      "2020-12-30 20:43:16,412 - mmdet - INFO - Epoch [18][1600/2001]\tlr: 5.000e-05, eta: 6:33:13, time: 0.819, data_time: 0.011, memory: 6189, loss_rpn_cls: 0.0019, loss_rpn_bbox: 0.0265, loss_cls: 0.0720, acc: 97.0225, loss_bbox: 0.2050, loss: 0.3054\n",
      "2020-12-30 20:43:57,363 - mmdet - INFO - Epoch [18][1650/2001]\tlr: 5.000e-05, eta: 6:32:20, time: 0.819, data_time: 0.011, memory: 6189, loss_rpn_cls: 0.0019, loss_rpn_bbox: 0.0254, loss_cls: 0.0700, acc: 97.0898, loss_bbox: 0.2025, loss: 0.2998\n",
      "2020-12-30 20:44:38,534 - mmdet - INFO - Epoch [18][1700/2001]\tlr: 5.000e-05, eta: 6:31:27, time: 0.823, data_time: 0.011, memory: 6189, loss_rpn_cls: 0.0024, loss_rpn_bbox: 0.0256, loss_cls: 0.0707, acc: 97.0566, loss_bbox: 0.1999, loss: 0.2987\n"
     ]
    },
    {
     "name": "stderr",
     "output_type": "stream",
     "text": [
      "2020-12-30 20:45:19,541 - mmdet - INFO - Epoch [18][1750/2001]\tlr: 5.000e-05, eta: 6:30:34, time: 0.820, data_time: 0.011, memory: 6189, loss_rpn_cls: 0.0017, loss_rpn_bbox: 0.0252, loss_cls: 0.0685, acc: 97.1846, loss_bbox: 0.2051, loss: 0.3005\n",
      "2020-12-30 20:46:00,700 - mmdet - INFO - Epoch [18][1800/2001]\tlr: 5.000e-05, eta: 6:29:40, time: 0.823, data_time: 0.011, memory: 6189, loss_rpn_cls: 0.0020, loss_rpn_bbox: 0.0262, loss_cls: 0.0685, acc: 97.1973, loss_bbox: 0.2004, loss: 0.2971\n",
      "2020-12-30 20:46:41,897 - mmdet - INFO - Epoch [18][1850/2001]\tlr: 5.000e-05, eta: 6:28:47, time: 0.824, data_time: 0.011, memory: 6189, loss_rpn_cls: 0.0018, loss_rpn_bbox: 0.0276, loss_cls: 0.0713, acc: 97.0000, loss_bbox: 0.2005, loss: 0.3012\n",
      "2020-12-30 20:47:22,841 - mmdet - INFO - Epoch [18][1900/2001]\tlr: 5.000e-05, eta: 6:27:54, time: 0.819, data_time: 0.011, memory: 6189, loss_rpn_cls: 0.0022, loss_rpn_bbox: 0.0272, loss_cls: 0.0711, acc: 97.0312, loss_bbox: 0.2006, loss: 0.3011\n",
      "2020-12-30 20:48:03,819 - mmdet - INFO - Epoch [18][1950/2001]\tlr: 5.000e-05, eta: 6:27:01, time: 0.820, data_time: 0.011, memory: 6189, loss_rpn_cls: 0.0016, loss_rpn_bbox: 0.0267, loss_cls: 0.0718, acc: 97.0664, loss_bbox: 0.2033, loss: 0.3035\n",
      "2020-12-30 20:48:45,705 - mmdet - INFO - Epoch [18][2000/2001]\tlr: 5.000e-05, eta: 6:26:09, time: 0.838, data_time: 0.011, memory: 6189, loss_rpn_cls: 0.0021, loss_rpn_bbox: 0.0270, loss_cls: 0.0693, acc: 97.1377, loss_bbox: 0.2003, loss: 0.2987\n",
      "2020-12-30 20:48:46,425 - mmdet - INFO - Saving checkpoint at 18 epochs\n"
     ]
    },
    {
     "name": "stdout",
     "output_type": "stream",
     "text": [
      "[>>>>>>>>>>>>>>>>>>>>>>>>>>] 2013/2013, 11.0 task/s, elapsed: 183s, ETA:     0s"
     ]
    },
    {
     "name": "stderr",
     "output_type": "stream",
     "text": [
      "2020-12-30 20:51:50,607 - mmdet - INFO - \n",
      "Evaluateing mmdet/valid_44.json with 2013 images now\n",
      "2020-12-30 20:51:51,084 - mmdet - INFO - Evaluating bbox...\n"
     ]
    },
    {
     "name": "stdout",
     "output_type": "stream",
     "text": [
      "Loading and preparing results...\n",
      "DONE (t=0.10s)\n",
      "creating index...\n",
      "index created!\n",
      "Running per image evaluation...\n",
      "Evaluate annotation type *bbox*\n",
      "DONE (t=16.33s).\n",
      "Accumulating evaluation results...\n"
     ]
    },
    {
     "name": "stderr",
     "output_type": "stream",
     "text": [
      "2020-12-30 20:52:08,319 - mmdet - INFO - Epoch(val) [18][2001]\t0_bbox_mAP: 0.2870, 0_bbox_mAP_50: 0.4770, 0_bbox_mAP_75: 0.3180, 0_bbox_mAP_s: 0.2830, 0_bbox_mAP_m: 0.4790, 0_bbox_mAP_l: -1.0000, 0_bbox_mAP_copypaste: 0.287 0.477 0.318 0.283 0.479 -1.000\n"
     ]
    },
    {
     "name": "stdout",
     "output_type": "stream",
     "text": [
      "DONE (t=0.73s).\n",
      "Average Precision  (AP) @[ IoU=0.50:0.95 | area=   all | maxDets=100 ] = 0.287\n",
      "Average Precision  (AP) @[ IoU=0.50      | area=   all | maxDets=1000 ] = 0.477\n",
      "Average Precision  (AP) @[ IoU=0.75      | area=   all | maxDets=1000 ] = 0.318\n",
      "Average Precision  (AP) @[ IoU=0.50:0.95 | area= small | maxDets=1000 ] = 0.283\n",
      "Average Precision  (AP) @[ IoU=0.50:0.95 | area=medium | maxDets=1000 ] = 0.479\n",
      "Average Precision  (AP) @[ IoU=0.50:0.95 | area= large | maxDets=1000 ] = -1.000\n",
      "Average Recall     (AR) @[ IoU=0.50:0.95 | area=   all | maxDets=100 ] = 0.354\n",
      "Average Recall     (AR) @[ IoU=0.50:0.95 | area=   all | maxDets=300 ] = 0.354\n",
      "Average Recall     (AR) @[ IoU=0.50:0.95 | area=   all | maxDets=1000 ] = 0.354\n",
      "Average Recall     (AR) @[ IoU=0.50:0.95 | area= small | maxDets=1000 ] = 0.350\n",
      "Average Recall     (AR) @[ IoU=0.50:0.95 | area=medium | maxDets=1000 ] = 0.528\n",
      "Average Recall     (AR) @[ IoU=0.50:0.95 | area= large | maxDets=1000 ] = -1.000\n"
     ]
    },
    {
     "name": "stderr",
     "output_type": "stream",
     "text": [
      "2020-12-30 20:52:51,879 - mmdet - INFO - Epoch [19][50/2001]\tlr: 5.000e-05, eta: 6:25:15, time: 0.867, data_time: 0.057, memory: 6189, loss_rpn_cls: 0.0020, loss_rpn_bbox: 0.0258, loss_cls: 0.0717, acc: 97.0332, loss_bbox: 0.1978, loss: 0.2973\n",
      "2020-12-30 20:53:32,856 - mmdet - INFO - Epoch [19][100/2001]\tlr: 5.000e-05, eta: 6:24:22, time: 0.819, data_time: 0.011, memory: 6189, loss_rpn_cls: 0.0018, loss_rpn_bbox: 0.0257, loss_cls: 0.0699, acc: 97.1318, loss_bbox: 0.1938, loss: 0.2912\n",
      "2020-12-30 20:54:13,813 - mmdet - INFO - Epoch [19][150/2001]\tlr: 5.000e-05, eta: 6:23:29, time: 0.819, data_time: 0.011, memory: 6189, loss_rpn_cls: 0.0017, loss_rpn_bbox: 0.0236, loss_cls: 0.0709, acc: 97.0840, loss_bbox: 0.1974, loss: 0.2937\n",
      "2020-12-30 20:54:55,005 - mmdet - INFO - Epoch [19][200/2001]\tlr: 5.000e-05, eta: 6:22:37, time: 0.824, data_time: 0.011, memory: 6189, loss_rpn_cls: 0.0016, loss_rpn_bbox: 0.0250, loss_cls: 0.0690, acc: 97.1719, loss_bbox: 0.1975, loss: 0.2931\n",
      "2020-12-30 20:55:36,202 - mmdet - INFO - Epoch [19][250/2001]\tlr: 5.000e-05, eta: 6:21:44, time: 0.824, data_time: 0.011, memory: 6189, loss_rpn_cls: 0.0017, loss_rpn_bbox: 0.0236, loss_cls: 0.0681, acc: 97.1777, loss_bbox: 0.1982, loss: 0.2916\n",
      "2020-12-30 20:56:17,394 - mmdet - INFO - Epoch [19][300/2001]\tlr: 5.000e-05, eta: 6:20:51, time: 0.824, data_time: 0.011, memory: 6189, loss_rpn_cls: 0.0016, loss_rpn_bbox: 0.0256, loss_cls: 0.0682, acc: 97.1963, loss_bbox: 0.1936, loss: 0.2890\n",
      "2020-12-30 20:56:58,332 - mmdet - INFO - Epoch [19][350/2001]\tlr: 5.000e-05, eta: 6:19:58, time: 0.819, data_time: 0.011, memory: 6189, loss_rpn_cls: 0.0023, loss_rpn_bbox: 0.0257, loss_cls: 0.0694, acc: 97.1406, loss_bbox: 0.1990, loss: 0.2964\n",
      "2020-12-30 20:57:39,304 - mmdet - INFO - Epoch [19][400/2001]\tlr: 5.000e-05, eta: 6:19:05, time: 0.819, data_time: 0.011, memory: 6189, loss_rpn_cls: 0.0017, loss_rpn_bbox: 0.0277, loss_cls: 0.0736, acc: 96.9082, loss_bbox: 0.2033, loss: 0.3063\n",
      "2020-12-30 20:58:20,247 - mmdet - INFO - Epoch [19][450/2001]\tlr: 5.000e-05, eta: 6:18:12, time: 0.819, data_time: 0.011, memory: 6189, loss_rpn_cls: 0.0024, loss_rpn_bbox: 0.0254, loss_cls: 0.0721, acc: 96.9980, loss_bbox: 0.2074, loss: 0.3073\n",
      "2020-12-30 20:59:01,335 - mmdet - INFO - Epoch [19][500/2001]\tlr: 5.000e-05, eta: 6:17:20, time: 0.822, data_time: 0.011, memory: 6189, loss_rpn_cls: 0.0013, loss_rpn_bbox: 0.0251, loss_cls: 0.0682, acc: 97.1924, loss_bbox: 0.1968, loss: 0.2914\n",
      "2020-12-30 20:59:42,369 - mmdet - INFO - Epoch [19][550/2001]\tlr: 5.000e-05, eta: 6:16:27, time: 0.821, data_time: 0.011, memory: 6189, loss_rpn_cls: 0.0017, loss_rpn_bbox: 0.0267, loss_cls: 0.0685, acc: 97.1533, loss_bbox: 0.2012, loss: 0.2982\n",
      "2020-12-30 21:00:23,287 - mmdet - INFO - Epoch [19][600/2001]\tlr: 5.000e-05, eta: 6:15:34, time: 0.818, data_time: 0.011, memory: 6189, loss_rpn_cls: 0.0019, loss_rpn_bbox: 0.0255, loss_cls: 0.0709, acc: 97.0361, loss_bbox: 0.2000, loss: 0.2984\n",
      "2020-12-30 21:01:04,489 - mmdet - INFO - Epoch [19][650/2001]\tlr: 5.000e-05, eta: 6:14:42, time: 0.824, data_time: 0.011, memory: 6189, loss_rpn_cls: 0.0022, loss_rpn_bbox: 0.0256, loss_cls: 0.0705, acc: 96.9863, loss_bbox: 0.2037, loss: 0.3020\n",
      "2020-12-30 21:01:45,434 - mmdet - INFO - Epoch [19][700/2001]\tlr: 5.000e-05, eta: 6:13:49, time: 0.819, data_time: 0.011, memory: 6189, loss_rpn_cls: 0.0024, loss_rpn_bbox: 0.0259, loss_cls: 0.0691, acc: 97.1611, loss_bbox: 0.2022, loss: 0.2996\n",
      "2020-12-30 21:02:26,360 - mmdet - INFO - Epoch [19][750/2001]\tlr: 5.000e-05, eta: 6:12:56, time: 0.818, data_time: 0.011, memory: 6189, loss_rpn_cls: 0.0020, loss_rpn_bbox: 0.0256, loss_cls: 0.0684, acc: 97.1279, loss_bbox: 0.1963, loss: 0.2923\n",
      "2020-12-30 21:03:07,523 - mmdet - INFO - Epoch [19][800/2001]\tlr: 5.000e-05, eta: 6:12:04, time: 0.823, data_time: 0.011, memory: 6189, loss_rpn_cls: 0.0023, loss_rpn_bbox: 0.0254, loss_cls: 0.0710, acc: 97.0664, loss_bbox: 0.2055, loss: 0.3043\n",
      "2020-12-30 21:03:48,523 - mmdet - INFO - Epoch [19][850/2001]\tlr: 5.000e-05, eta: 6:11:11, time: 0.820, data_time: 0.011, memory: 6189, loss_rpn_cls: 0.0017, loss_rpn_bbox: 0.0243, loss_cls: 0.0677, acc: 97.1924, loss_bbox: 0.1977, loss: 0.2914\n",
      "2020-12-30 21:04:29,453 - mmdet - INFO - Epoch [19][900/2001]\tlr: 5.000e-05, eta: 6:10:19, time: 0.819, data_time: 0.011, memory: 6189, loss_rpn_cls: 0.0018, loss_rpn_bbox: 0.0268, loss_cls: 0.0737, acc: 96.9424, loss_bbox: 0.2029, loss: 0.3052\n",
      "2020-12-30 21:05:10,626 - mmdet - INFO - Epoch [19][950/2001]\tlr: 5.000e-05, eta: 6:09:26, time: 0.823, data_time: 0.011, memory: 6189, loss_rpn_cls: 0.0020, loss_rpn_bbox: 0.0230, loss_cls: 0.0681, acc: 97.1641, loss_bbox: 0.1948, loss: 0.2879\n",
      "2020-12-30 21:05:51,588 - mmdet - INFO - Epoch [19][1000/2001]\tlr: 5.000e-05, eta: 6:08:34, time: 0.819, data_time: 0.011, memory: 6189, loss_rpn_cls: 0.0029, loss_rpn_bbox: 0.0271, loss_cls: 0.0709, acc: 97.0625, loss_bbox: 0.2060, loss: 0.3069\n",
      "2020-12-30 21:06:32,527 - mmdet - INFO - Epoch [19][1050/2001]\tlr: 5.000e-05, eta: 6:07:42, time: 0.819, data_time: 0.011, memory: 6189, loss_rpn_cls: 0.0021, loss_rpn_bbox: 0.0258, loss_cls: 0.0721, acc: 96.9717, loss_bbox: 0.2044, loss: 0.3043\n",
      "2020-12-30 21:07:13,510 - mmdet - INFO - Epoch [19][1100/2001]\tlr: 5.000e-05, eta: 6:06:49, time: 0.820, data_time: 0.011, memory: 6189, loss_rpn_cls: 0.0019, loss_rpn_bbox: 0.0260, loss_cls: 0.0719, acc: 97.0020, loss_bbox: 0.2015, loss: 0.3012\n",
      "2020-12-30 21:07:54,694 - mmdet - INFO - Epoch [19][1150/2001]\tlr: 5.000e-05, eta: 6:05:57, time: 0.823, data_time: 0.011, memory: 6189, loss_rpn_cls: 0.0020, loss_rpn_bbox: 0.0268, loss_cls: 0.0687, acc: 97.1143, loss_bbox: 0.1989, loss: 0.2964\n",
      "2020-12-30 21:08:35,633 - mmdet - INFO - Epoch [19][1200/2001]\tlr: 5.000e-05, eta: 6:05:05, time: 0.819, data_time: 0.011, memory: 6189, loss_rpn_cls: 0.0015, loss_rpn_bbox: 0.0247, loss_cls: 0.0691, acc: 97.1504, loss_bbox: 0.1939, loss: 0.2892\n",
      "2020-12-30 21:09:16,575 - mmdet - INFO - Epoch [19][1250/2001]\tlr: 5.000e-05, eta: 6:04:12, time: 0.819, data_time: 0.011, memory: 6189, loss_rpn_cls: 0.0017, loss_rpn_bbox: 0.0263, loss_cls: 0.0671, acc: 97.2832, loss_bbox: 0.1947, loss: 0.2899\n",
      "2020-12-30 21:09:57,733 - mmdet - INFO - Epoch [19][1300/2001]\tlr: 5.000e-05, eta: 6:03:20, time: 0.823, data_time: 0.011, memory: 6189, loss_rpn_cls: 0.0025, loss_rpn_bbox: 0.0266, loss_cls: 0.0712, acc: 97.0898, loss_bbox: 0.2006, loss: 0.3009\n",
      "2020-12-30 21:10:38,733 - mmdet - INFO - Epoch [19][1350/2001]\tlr: 5.000e-05, eta: 6:02:28, time: 0.820, data_time: 0.011, memory: 6189, loss_rpn_cls: 0.0021, loss_rpn_bbox: 0.0262, loss_cls: 0.0707, acc: 97.1533, loss_bbox: 0.2027, loss: 0.3016\n",
      "2020-12-30 21:11:19,676 - mmdet - INFO - Epoch [19][1400/2001]\tlr: 5.000e-05, eta: 6:01:36, time: 0.819, data_time: 0.011, memory: 6189, loss_rpn_cls: 0.0019, loss_rpn_bbox: 0.0256, loss_cls: 0.0714, acc: 97.0488, loss_bbox: 0.2045, loss: 0.3034\n",
      "2020-12-30 21:12:00,646 - mmdet - INFO - Epoch [19][1450/2001]\tlr: 5.000e-05, eta: 6:00:43, time: 0.819, data_time: 0.011, memory: 6189, loss_rpn_cls: 0.0022, loss_rpn_bbox: 0.0254, loss_cls: 0.0728, acc: 96.9570, loss_bbox: 0.2055, loss: 0.3059\n",
      "2020-12-30 21:12:41,656 - mmdet - INFO - Epoch [19][1500/2001]\tlr: 5.000e-05, eta: 5:59:51, time: 0.820, data_time: 0.011, memory: 6189, loss_rpn_cls: 0.0019, loss_rpn_bbox: 0.0246, loss_cls: 0.0698, acc: 97.0713, loss_bbox: 0.1988, loss: 0.2950\n",
      "2020-12-30 21:13:22,746 - mmdet - INFO - Epoch [19][1550/2001]\tlr: 5.000e-05, eta: 5:58:59, time: 0.822, data_time: 0.011, memory: 6189, loss_rpn_cls: 0.0020, loss_rpn_bbox: 0.0249, loss_cls: 0.0713, acc: 97.0488, loss_bbox: 0.2049, loss: 0.3032\n",
      "2020-12-30 21:14:03,751 - mmdet - INFO - Epoch [19][1600/2001]\tlr: 5.000e-05, eta: 5:58:07, time: 0.820, data_time: 0.011, memory: 6189, loss_rpn_cls: 0.0024, loss_rpn_bbox: 0.0265, loss_cls: 0.0697, acc: 97.1504, loss_bbox: 0.2007, loss: 0.2992\n",
      "2020-12-30 21:14:44,871 - mmdet - INFO - Epoch [19][1650/2001]\tlr: 5.000e-05, eta: 5:57:15, time: 0.822, data_time: 0.011, memory: 6189, loss_rpn_cls: 0.0019, loss_rpn_bbox: 0.0259, loss_cls: 0.0701, acc: 97.1553, loss_bbox: 0.2005, loss: 0.2984\n",
      "2020-12-30 21:15:26,033 - mmdet - INFO - Epoch [19][1700/2001]\tlr: 5.000e-05, eta: 5:56:23, time: 0.823, data_time: 0.011, memory: 6189, loss_rpn_cls: 0.0024, loss_rpn_bbox: 0.0271, loss_cls: 0.0708, acc: 97.0400, loss_bbox: 0.2031, loss: 0.3034\n"
     ]
    },
    {
     "name": "stderr",
     "output_type": "stream",
     "text": [
      "2020-12-30 21:16:06,998 - mmdet - INFO - Epoch [19][1750/2001]\tlr: 5.000e-05, eta: 5:55:31, time: 0.819, data_time: 0.011, memory: 6189, loss_rpn_cls: 0.0029, loss_rpn_bbox: 0.0246, loss_cls: 0.0690, acc: 97.1885, loss_bbox: 0.2034, loss: 0.2999\n",
      "2020-12-30 21:16:47,967 - mmdet - INFO - Epoch [19][1800/2001]\tlr: 5.000e-05, eta: 5:54:39, time: 0.819, data_time: 0.011, memory: 6189, loss_rpn_cls: 0.0020, loss_rpn_bbox: 0.0250, loss_cls: 0.0688, acc: 97.1426, loss_bbox: 0.1963, loss: 0.2921\n",
      "2020-12-30 21:17:29,116 - mmdet - INFO - Epoch [19][1850/2001]\tlr: 5.000e-05, eta: 5:53:47, time: 0.823, data_time: 0.011, memory: 6189, loss_rpn_cls: 0.0021, loss_rpn_bbox: 0.0254, loss_cls: 0.0690, acc: 97.2139, loss_bbox: 0.1934, loss: 0.2898\n",
      "2020-12-30 21:18:10,133 - mmdet - INFO - Epoch [19][1900/2001]\tlr: 5.000e-05, eta: 5:52:55, time: 0.820, data_time: 0.011, memory: 6189, loss_rpn_cls: 0.0028, loss_rpn_bbox: 0.0256, loss_cls: 0.0682, acc: 97.1729, loss_bbox: 0.1996, loss: 0.2961\n",
      "2020-12-30 21:18:51,249 - mmdet - INFO - Epoch [19][1950/2001]\tlr: 5.000e-05, eta: 5:52:04, time: 0.822, data_time: 0.011, memory: 6189, loss_rpn_cls: 0.0014, loss_rpn_bbox: 0.0234, loss_cls: 0.0699, acc: 97.1035, loss_bbox: 0.1951, loss: 0.2899\n",
      "2020-12-30 21:19:32,231 - mmdet - INFO - Epoch [19][2000/2001]\tlr: 5.000e-05, eta: 5:51:12, time: 0.820, data_time: 0.010, memory: 6189, loss_rpn_cls: 0.0020, loss_rpn_bbox: 0.0259, loss_cls: 0.0721, acc: 96.9424, loss_bbox: 0.2028, loss: 0.3028\n",
      "2020-12-30 21:19:32,923 - mmdet - INFO - Saving checkpoint at 19 epochs\n"
     ]
    },
    {
     "name": "stdout",
     "output_type": "stream",
     "text": [
      "[>>>>>>>>>>>>>>>>>>>>>>>>>>] 2013/2013, 11.0 task/s, elapsed: 183s, ETA:     0s"
     ]
    },
    {
     "name": "stderr",
     "output_type": "stream",
     "text": [
      "2020-12-30 21:22:36,928 - mmdet - INFO - \n",
      "Evaluateing mmdet/valid_44.json with 2013 images now\n",
      "2020-12-30 21:22:37,592 - mmdet - INFO - Evaluating bbox...\n"
     ]
    },
    {
     "name": "stdout",
     "output_type": "stream",
     "text": [
      "Loading and preparing results...\n",
      "DONE (t=0.10s)\n",
      "creating index...\n",
      "index created!\n",
      "Running per image evaluation...\n",
      "Evaluate annotation type *bbox*\n",
      "DONE (t=16.62s).\n",
      "Accumulating evaluation results...\n"
     ]
    },
    {
     "name": "stderr",
     "output_type": "stream",
     "text": [
      "2020-12-30 21:22:55,240 - mmdet - INFO - Epoch(val) [19][2001]\t0_bbox_mAP: 0.2880, 0_bbox_mAP_50: 0.4750, 0_bbox_mAP_75: 0.3190, 0_bbox_mAP_s: 0.2850, 0_bbox_mAP_m: 0.4780, 0_bbox_mAP_l: -1.0000, 0_bbox_mAP_copypaste: 0.288 0.475 0.319 0.285 0.478 -1.000\n"
     ]
    },
    {
     "name": "stdout",
     "output_type": "stream",
     "text": [
      "DONE (t=0.84s).\n",
      "Average Precision  (AP) @[ IoU=0.50:0.95 | area=   all | maxDets=100 ] = 0.288\n",
      "Average Precision  (AP) @[ IoU=0.50      | area=   all | maxDets=1000 ] = 0.475\n",
      "Average Precision  (AP) @[ IoU=0.75      | area=   all | maxDets=1000 ] = 0.319\n",
      "Average Precision  (AP) @[ IoU=0.50:0.95 | area= small | maxDets=1000 ] = 0.285\n",
      "Average Precision  (AP) @[ IoU=0.50:0.95 | area=medium | maxDets=1000 ] = 0.478\n",
      "Average Precision  (AP) @[ IoU=0.50:0.95 | area= large | maxDets=1000 ] = -1.000\n",
      "Average Recall     (AR) @[ IoU=0.50:0.95 | area=   all | maxDets=100 ] = 0.355\n",
      "Average Recall     (AR) @[ IoU=0.50:0.95 | area=   all | maxDets=300 ] = 0.355\n",
      "Average Recall     (AR) @[ IoU=0.50:0.95 | area=   all | maxDets=1000 ] = 0.355\n",
      "Average Recall     (AR) @[ IoU=0.50:0.95 | area= small | maxDets=1000 ] = 0.351\n",
      "Average Recall     (AR) @[ IoU=0.50:0.95 | area=medium | maxDets=1000 ] = 0.528\n",
      "Average Recall     (AR) @[ IoU=0.50:0.95 | area= large | maxDets=1000 ] = -1.000\n"
     ]
    },
    {
     "name": "stderr",
     "output_type": "stream",
     "text": [
      "2020-12-30 21:23:38,795 - mmdet - INFO - Epoch [20][50/2001]\tlr: 5.000e-05, eta: 5:50:20, time: 0.867, data_time: 0.057, memory: 6189, loss_rpn_cls: 0.0019, loss_rpn_bbox: 0.0243, loss_cls: 0.0731, acc: 96.9346, loss_bbox: 0.2002, loss: 0.2995\n",
      "2020-12-30 21:24:19,777 - mmdet - INFO - Epoch [20][100/2001]\tlr: 5.000e-05, eta: 5:49:28, time: 0.820, data_time: 0.010, memory: 6189, loss_rpn_cls: 0.0011, loss_rpn_bbox: 0.0255, loss_cls: 0.0734, acc: 96.9346, loss_bbox: 0.2020, loss: 0.3021\n",
      "2020-12-30 21:25:00,723 - mmdet - INFO - Epoch [20][150/2001]\tlr: 5.000e-05, eta: 5:48:36, time: 0.819, data_time: 0.011, memory: 6189, loss_rpn_cls: 0.0025, loss_rpn_bbox: 0.0258, loss_cls: 0.0680, acc: 97.1953, loss_bbox: 0.1998, loss: 0.2961\n",
      "2020-12-30 21:25:41,757 - mmdet - INFO - Epoch [20][200/2001]\tlr: 5.000e-05, eta: 5:47:44, time: 0.821, data_time: 0.011, memory: 6189, loss_rpn_cls: 0.0013, loss_rpn_bbox: 0.0237, loss_cls: 0.0709, acc: 97.0146, loss_bbox: 0.2003, loss: 0.2962\n",
      "2020-12-30 21:26:23,121 - mmdet - INFO - Epoch [20][250/2001]\tlr: 5.000e-05, eta: 5:46:53, time: 0.827, data_time: 0.010, memory: 6189, loss_rpn_cls: 0.0015, loss_rpn_bbox: 0.0242, loss_cls: 0.0680, acc: 97.2168, loss_bbox: 0.2005, loss: 0.2941\n",
      "2020-12-30 21:27:04,287 - mmdet - INFO - Epoch [20][300/2001]\tlr: 5.000e-05, eta: 5:46:01, time: 0.823, data_time: 0.010, memory: 6189, loss_rpn_cls: 0.0026, loss_rpn_bbox: 0.0297, loss_cls: 0.0712, acc: 97.1211, loss_bbox: 0.2034, loss: 0.3068\n",
      "2020-12-30 21:27:45,221 - mmdet - INFO - Epoch [20][350/2001]\tlr: 5.000e-05, eta: 5:45:10, time: 0.819, data_time: 0.011, memory: 6189, loss_rpn_cls: 0.0023, loss_rpn_bbox: 0.0241, loss_cls: 0.0681, acc: 97.2041, loss_bbox: 0.1981, loss: 0.2925\n",
      "2020-12-30 21:28:26,213 - mmdet - INFO - Epoch [20][400/2001]\tlr: 5.000e-05, eta: 5:44:18, time: 0.820, data_time: 0.010, memory: 6189, loss_rpn_cls: 0.0027, loss_rpn_bbox: 0.0273, loss_cls: 0.0722, acc: 96.9336, loss_bbox: 0.2042, loss: 0.3064\n",
      "2020-12-30 21:29:07,308 - mmdet - INFO - Epoch [20][450/2001]\tlr: 5.000e-05, eta: 5:43:26, time: 0.822, data_time: 0.011, memory: 6189, loss_rpn_cls: 0.0020, loss_rpn_bbox: 0.0268, loss_cls: 0.0716, acc: 97.0352, loss_bbox: 0.2059, loss: 0.3063\n",
      "2020-12-30 21:29:48,326 - mmdet - INFO - Epoch [20][500/2001]\tlr: 5.000e-05, eta: 5:42:35, time: 0.820, data_time: 0.011, memory: 6189, loss_rpn_cls: 0.0014, loss_rpn_bbox: 0.0258, loss_cls: 0.0708, acc: 97.0479, loss_bbox: 0.2008, loss: 0.2987\n",
      "2020-12-30 21:30:29,323 - mmdet - INFO - Epoch [20][550/2001]\tlr: 5.000e-05, eta: 5:41:43, time: 0.820, data_time: 0.011, memory: 6189, loss_rpn_cls: 0.0021, loss_rpn_bbox: 0.0273, loss_cls: 0.0722, acc: 97.0127, loss_bbox: 0.2025, loss: 0.3042\n",
      "2020-12-30 21:31:10,273 - mmdet - INFO - Epoch [20][600/2001]\tlr: 5.000e-05, eta: 5:40:52, time: 0.819, data_time: 0.010, memory: 6189, loss_rpn_cls: 0.0018, loss_rpn_bbox: 0.0261, loss_cls: 0.0699, acc: 97.0654, loss_bbox: 0.1988, loss: 0.2966\n",
      "2020-12-30 21:31:51,221 - mmdet - INFO - Epoch [20][650/2001]\tlr: 5.000e-05, eta: 5:40:00, time: 0.819, data_time: 0.011, memory: 6189, loss_rpn_cls: 0.0009, loss_rpn_bbox: 0.0234, loss_cls: 0.0720, acc: 97.0430, loss_bbox: 0.1985, loss: 0.2947\n",
      "2020-12-30 21:32:32,358 - mmdet - INFO - Epoch [20][700/2001]\tlr: 5.000e-05, eta: 5:39:09, time: 0.823, data_time: 0.011, memory: 6189, loss_rpn_cls: 0.0019, loss_rpn_bbox: 0.0256, loss_cls: 0.0686, acc: 97.1250, loss_bbox: 0.1958, loss: 0.2919\n",
      "2020-12-30 21:33:13,338 - mmdet - INFO - Epoch [20][750/2001]\tlr: 5.000e-05, eta: 5:38:17, time: 0.820, data_time: 0.011, memory: 6189, loss_rpn_cls: 0.0020, loss_rpn_bbox: 0.0271, loss_cls: 0.0717, acc: 97.0801, loss_bbox: 0.2026, loss: 0.3034\n",
      "2020-12-30 21:33:54,291 - mmdet - INFO - Epoch [20][800/2001]\tlr: 5.000e-05, eta: 5:37:26, time: 0.819, data_time: 0.011, memory: 6189, loss_rpn_cls: 0.0017, loss_rpn_bbox: 0.0250, loss_cls: 0.0698, acc: 97.0596, loss_bbox: 0.2029, loss: 0.2994\n",
      "2020-12-30 21:34:35,416 - mmdet - INFO - Epoch [20][850/2001]\tlr: 5.000e-05, eta: 5:36:35, time: 0.823, data_time: 0.011, memory: 6189, loss_rpn_cls: 0.0027, loss_rpn_bbox: 0.0274, loss_cls: 0.0674, acc: 97.1816, loss_bbox: 0.1971, loss: 0.2947\n",
      "2020-12-30 21:35:16,366 - mmdet - INFO - Epoch [20][900/2001]\tlr: 5.000e-05, eta: 5:35:43, time: 0.819, data_time: 0.011, memory: 6189, loss_rpn_cls: 0.0019, loss_rpn_bbox: 0.0231, loss_cls: 0.0719, acc: 97.0957, loss_bbox: 0.1947, loss: 0.2916\n",
      "2020-12-30 21:35:57,729 - mmdet - INFO - Epoch [20][950/2001]\tlr: 5.000e-05, eta: 5:34:52, time: 0.827, data_time: 0.011, memory: 6189, loss_rpn_cls: 0.0020, loss_rpn_bbox: 0.0249, loss_cls: 0.0711, acc: 97.0508, loss_bbox: 0.1973, loss: 0.2952\n",
      "2020-12-30 21:36:38,682 - mmdet - INFO - Epoch [20][1000/2001]\tlr: 5.000e-05, eta: 5:34:01, time: 0.819, data_time: 0.011, memory: 6189, loss_rpn_cls: 0.0017, loss_rpn_bbox: 0.0296, loss_cls: 0.0697, acc: 97.1182, loss_bbox: 0.2041, loss: 0.3051\n",
      "2020-12-30 21:37:19,646 - mmdet - INFO - Epoch [20][1050/2001]\tlr: 5.000e-05, eta: 5:33:09, time: 0.819, data_time: 0.011, memory: 6189, loss_rpn_cls: 0.0024, loss_rpn_bbox: 0.0257, loss_cls: 0.0719, acc: 97.0488, loss_bbox: 0.2012, loss: 0.3011\n",
      "2020-12-30 21:38:00,608 - mmdet - INFO - Epoch [20][1100/2001]\tlr: 5.000e-05, eta: 5:32:18, time: 0.819, data_time: 0.011, memory: 6189, loss_rpn_cls: 0.0021, loss_rpn_bbox: 0.0260, loss_cls: 0.0699, acc: 97.0557, loss_bbox: 0.2007, loss: 0.2986\n",
      "2020-12-30 21:38:41,771 - mmdet - INFO - Epoch [20][1150/2001]\tlr: 5.000e-05, eta: 5:31:27, time: 0.823, data_time: 0.011, memory: 6189, loss_rpn_cls: 0.0018, loss_rpn_bbox: 0.0272, loss_cls: 0.0723, acc: 96.9688, loss_bbox: 0.2030, loss: 0.3044\n",
      "2020-12-30 21:39:22,736 - mmdet - INFO - Epoch [20][1200/2001]\tlr: 5.000e-05, eta: 5:30:36, time: 0.819, data_time: 0.011, memory: 6189, loss_rpn_cls: 0.0024, loss_rpn_bbox: 0.0261, loss_cls: 0.0708, acc: 97.0596, loss_bbox: 0.2010, loss: 0.3003\n",
      "2020-12-30 21:40:03,908 - mmdet - INFO - Epoch [20][1250/2001]\tlr: 5.000e-05, eta: 5:29:45, time: 0.823, data_time: 0.011, memory: 6189, loss_rpn_cls: 0.0021, loss_rpn_bbox: 0.0255, loss_cls: 0.0668, acc: 97.1904, loss_bbox: 0.1979, loss: 0.2924\n",
      "2020-12-30 21:40:44,868 - mmdet - INFO - Epoch [20][1300/2001]\tlr: 5.000e-05, eta: 5:28:54, time: 0.819, data_time: 0.011, memory: 6189, loss_rpn_cls: 0.0018, loss_rpn_bbox: 0.0269, loss_cls: 0.0683, acc: 97.2354, loss_bbox: 0.1951, loss: 0.2920\n",
      "2020-12-30 21:41:25,838 - mmdet - INFO - Epoch [20][1350/2001]\tlr: 5.000e-05, eta: 5:28:02, time: 0.819, data_time: 0.011, memory: 6189, loss_rpn_cls: 0.0019, loss_rpn_bbox: 0.0251, loss_cls: 0.0680, acc: 97.1553, loss_bbox: 0.1984, loss: 0.2934\n",
      "2020-12-30 21:42:06,801 - mmdet - INFO - Epoch [20][1400/2001]\tlr: 5.000e-05, eta: 5:27:11, time: 0.819, data_time: 0.011, memory: 6189, loss_rpn_cls: 0.0018, loss_rpn_bbox: 0.0240, loss_cls: 0.0702, acc: 97.0547, loss_bbox: 0.1991, loss: 0.2950\n",
      "2020-12-30 21:42:47,853 - mmdet - INFO - Epoch [20][1450/2001]\tlr: 5.000e-05, eta: 5:26:20, time: 0.821, data_time: 0.011, memory: 6189, loss_rpn_cls: 0.0026, loss_rpn_bbox: 0.0236, loss_cls: 0.0713, acc: 97.0146, loss_bbox: 0.2045, loss: 0.3020\n",
      "2020-12-30 21:43:28,965 - mmdet - INFO - Epoch [20][1500/2001]\tlr: 5.000e-05, eta: 5:25:29, time: 0.822, data_time: 0.011, memory: 6189, loss_rpn_cls: 0.0020, loss_rpn_bbox: 0.0266, loss_cls: 0.0683, acc: 97.2051, loss_bbox: 0.2008, loss: 0.2977\n",
      "2020-12-30 21:44:09,904 - mmdet - INFO - Epoch [20][1550/2001]\tlr: 5.000e-05, eta: 5:24:38, time: 0.819, data_time: 0.011, memory: 6189, loss_rpn_cls: 0.0013, loss_rpn_bbox: 0.0235, loss_cls: 0.0696, acc: 97.1279, loss_bbox: 0.1965, loss: 0.2908\n",
      "2020-12-30 21:44:50,834 - mmdet - INFO - Epoch [20][1600/2001]\tlr: 5.000e-05, eta: 5:23:47, time: 0.819, data_time: 0.011, memory: 6189, loss_rpn_cls: 0.0019, loss_rpn_bbox: 0.0266, loss_cls: 0.0708, acc: 97.0840, loss_bbox: 0.2029, loss: 0.3021\n",
      "2020-12-30 21:45:31,881 - mmdet - INFO - Epoch [20][1650/2001]\tlr: 5.000e-05, eta: 5:22:56, time: 0.821, data_time: 0.011, memory: 6189, loss_rpn_cls: 0.0018, loss_rpn_bbox: 0.0246, loss_cls: 0.0701, acc: 97.0713, loss_bbox: 0.2002, loss: 0.2967\n",
      "2020-12-30 21:46:13,197 - mmdet - INFO - Epoch [20][1700/2001]\tlr: 5.000e-05, eta: 5:22:05, time: 0.826, data_time: 0.011, memory: 6189, loss_rpn_cls: 0.0020, loss_rpn_bbox: 0.0265, loss_cls: 0.0720, acc: 96.9814, loss_bbox: 0.2013, loss: 0.3017\n"
     ]
    },
    {
     "name": "stderr",
     "output_type": "stream",
     "text": [
      "2020-12-30 21:46:54,153 - mmdet - INFO - Epoch [20][1750/2001]\tlr: 5.000e-05, eta: 5:21:14, time: 0.819, data_time: 0.011, memory: 6189, loss_rpn_cls: 0.0016, loss_rpn_bbox: 0.0267, loss_cls: 0.0670, acc: 97.1758, loss_bbox: 0.1945, loss: 0.2899\n",
      "2020-12-30 21:47:35,205 - mmdet - INFO - Epoch [20][1800/2001]\tlr: 5.000e-05, eta: 5:20:24, time: 0.821, data_time: 0.011, memory: 6189, loss_rpn_cls: 0.0020, loss_rpn_bbox: 0.0247, loss_cls: 0.0705, acc: 97.0703, loss_bbox: 0.2024, loss: 0.2996\n",
      "2020-12-30 21:48:16,249 - mmdet - INFO - Epoch [20][1850/2001]\tlr: 5.000e-05, eta: 5:19:33, time: 0.821, data_time: 0.011, memory: 6189, loss_rpn_cls: 0.0022, loss_rpn_bbox: 0.0242, loss_cls: 0.0686, acc: 97.1348, loss_bbox: 0.1975, loss: 0.2925\n",
      "2020-12-30 21:48:57,472 - mmdet - INFO - Epoch [20][1900/2001]\tlr: 5.000e-05, eta: 5:18:42, time: 0.824, data_time: 0.011, memory: 6189, loss_rpn_cls: 0.0015, loss_rpn_bbox: 0.0251, loss_cls: 0.0696, acc: 97.0928, loss_bbox: 0.1972, loss: 0.2933\n",
      "2020-12-30 21:49:38,473 - mmdet - INFO - Epoch [20][1950/2001]\tlr: 5.000e-05, eta: 5:17:51, time: 0.820, data_time: 0.011, memory: 6189, loss_rpn_cls: 0.0018, loss_rpn_bbox: 0.0250, loss_cls: 0.0676, acc: 97.2256, loss_bbox: 0.1951, loss: 0.2895\n",
      "2020-12-30 21:50:19,554 - mmdet - INFO - Epoch [20][2000/2001]\tlr: 5.000e-05, eta: 5:17:00, time: 0.822, data_time: 0.011, memory: 6189, loss_rpn_cls: 0.0024, loss_rpn_bbox: 0.0226, loss_cls: 0.0691, acc: 97.1729, loss_bbox: 0.1965, loss: 0.2905\n",
      "2020-12-30 21:50:20,259 - mmdet - INFO - Saving checkpoint at 20 epochs\n"
     ]
    },
    {
     "name": "stdout",
     "output_type": "stream",
     "text": [
      "[>>>>>>>>>>>>>>>>>>>>>>>>>>] 2013/2013, 11.0 task/s, elapsed: 184s, ETA:     0s"
     ]
    },
    {
     "name": "stderr",
     "output_type": "stream",
     "text": [
      "2020-12-30 21:53:24,593 - mmdet - INFO - \n",
      "Evaluateing mmdet/valid_44.json with 2013 images now\n",
      "2020-12-30 21:53:25,067 - mmdet - INFO - Evaluating bbox...\n"
     ]
    },
    {
     "name": "stdout",
     "output_type": "stream",
     "text": [
      "Loading and preparing results...\n",
      "DONE (t=0.10s)\n",
      "creating index...\n",
      "index created!\n",
      "Running per image evaluation...\n",
      "Evaluate annotation type *bbox*\n",
      "DONE (t=15.92s).\n",
      "Accumulating evaluation results...\n"
     ]
    },
    {
     "name": "stderr",
     "output_type": "stream",
     "text": [
      "2020-12-30 21:53:41,892 - mmdet - INFO - Epoch(val) [20][2001]\t0_bbox_mAP: 0.2870, 0_bbox_mAP_50: 0.4770, 0_bbox_mAP_75: 0.3180, 0_bbox_mAP_s: 0.2830, 0_bbox_mAP_m: 0.4770, 0_bbox_mAP_l: -1.0000, 0_bbox_mAP_copypaste: 0.287 0.477 0.318 0.283 0.477 -1.000\n"
     ]
    },
    {
     "name": "stdout",
     "output_type": "stream",
     "text": [
      "DONE (t=0.72s).\n",
      "Average Precision  (AP) @[ IoU=0.50:0.95 | area=   all | maxDets=100 ] = 0.287\n",
      "Average Precision  (AP) @[ IoU=0.50      | area=   all | maxDets=1000 ] = 0.477\n",
      "Average Precision  (AP) @[ IoU=0.75      | area=   all | maxDets=1000 ] = 0.318\n",
      "Average Precision  (AP) @[ IoU=0.50:0.95 | area= small | maxDets=1000 ] = 0.283\n",
      "Average Precision  (AP) @[ IoU=0.50:0.95 | area=medium | maxDets=1000 ] = 0.477\n",
      "Average Precision  (AP) @[ IoU=0.50:0.95 | area= large | maxDets=1000 ] = -1.000\n",
      "Average Recall     (AR) @[ IoU=0.50:0.95 | area=   all | maxDets=100 ] = 0.354\n",
      "Average Recall     (AR) @[ IoU=0.50:0.95 | area=   all | maxDets=300 ] = 0.354\n",
      "Average Recall     (AR) @[ IoU=0.50:0.95 | area=   all | maxDets=1000 ] = 0.354\n",
      "Average Recall     (AR) @[ IoU=0.50:0.95 | area= small | maxDets=1000 ] = 0.350\n",
      "Average Recall     (AR) @[ IoU=0.50:0.95 | area=medium | maxDets=1000 ] = 0.526\n",
      "Average Recall     (AR) @[ IoU=0.50:0.95 | area= large | maxDets=1000 ] = -1.000\n"
     ]
    },
    {
     "name": "stderr",
     "output_type": "stream",
     "text": [
      "2020-12-30 21:54:25,278 - mmdet - INFO - Epoch [21][50/2001]\tlr: 5.000e-05, eta: 5:16:09, time: 0.864, data_time: 0.055, memory: 6189, loss_rpn_cls: 0.0022, loss_rpn_bbox: 0.0264, loss_cls: 0.0717, acc: 97.0361, loss_bbox: 0.2058, loss: 0.3061\n",
      "2020-12-30 21:55:06,261 - mmdet - INFO - Epoch [21][100/2001]\tlr: 5.000e-05, eta: 5:15:19, time: 0.820, data_time: 0.010, memory: 6189, loss_rpn_cls: 0.0023, loss_rpn_bbox: 0.0270, loss_cls: 0.0695, acc: 97.1787, loss_bbox: 0.2001, loss: 0.2988\n",
      "2020-12-30 21:55:47,434 - mmdet - INFO - Epoch [21][150/2001]\tlr: 5.000e-05, eta: 5:14:28, time: 0.823, data_time: 0.011, memory: 6189, loss_rpn_cls: 0.0016, loss_rpn_bbox: 0.0267, loss_cls: 0.0670, acc: 97.2393, loss_bbox: 0.2014, loss: 0.2966\n",
      "2020-12-30 21:56:28,460 - mmdet - INFO - Epoch [21][200/2001]\tlr: 5.000e-05, eta: 5:13:37, time: 0.820, data_time: 0.010, memory: 6189, loss_rpn_cls: 0.0021, loss_rpn_bbox: 0.0235, loss_cls: 0.0687, acc: 97.1348, loss_bbox: 0.1992, loss: 0.2935\n",
      "2020-12-30 21:57:09,418 - mmdet - INFO - Epoch [21][250/2001]\tlr: 5.000e-05, eta: 5:12:47, time: 0.819, data_time: 0.011, memory: 6189, loss_rpn_cls: 0.0031, loss_rpn_bbox: 0.0282, loss_cls: 0.0705, acc: 97.0752, loss_bbox: 0.2053, loss: 0.3071\n",
      "2020-12-30 21:57:50,944 - mmdet - INFO - Epoch [21][300/2001]\tlr: 5.000e-05, eta: 5:11:56, time: 0.831, data_time: 0.011, memory: 6189, loss_rpn_cls: 0.0021, loss_rpn_bbox: 0.0230, loss_cls: 0.0728, acc: 96.9971, loss_bbox: 0.2003, loss: 0.2982\n",
      "2020-12-30 21:58:31,951 - mmdet - INFO - Epoch [21][350/2001]\tlr: 5.000e-05, eta: 5:11:05, time: 0.820, data_time: 0.011, memory: 6189, loss_rpn_cls: 0.0014, loss_rpn_bbox: 0.0276, loss_cls: 0.0688, acc: 97.1182, loss_bbox: 0.1968, loss: 0.2945\n",
      "2020-12-30 21:59:12,914 - mmdet - INFO - Epoch [21][400/2001]\tlr: 5.000e-05, eta: 5:10:15, time: 0.819, data_time: 0.011, memory: 6189, loss_rpn_cls: 0.0023, loss_rpn_bbox: 0.0272, loss_cls: 0.0699, acc: 97.0889, loss_bbox: 0.2051, loss: 0.3045\n",
      "2020-12-30 21:59:53,873 - mmdet - INFO - Epoch [21][450/2001]\tlr: 5.000e-05, eta: 5:09:24, time: 0.819, data_time: 0.010, memory: 6189, loss_rpn_cls: 0.0022, loss_rpn_bbox: 0.0263, loss_cls: 0.0692, acc: 97.1484, loss_bbox: 0.1990, loss: 0.2967\n",
      "2020-12-30 22:00:34,854 - mmdet - INFO - Epoch [21][500/2001]\tlr: 5.000e-05, eta: 5:08:34, time: 0.820, data_time: 0.011, memory: 6189, loss_rpn_cls: 0.0016, loss_rpn_bbox: 0.0260, loss_cls: 0.0722, acc: 96.9766, loss_bbox: 0.2041, loss: 0.3040\n",
      "2020-12-30 22:01:15,945 - mmdet - INFO - Epoch [21][550/2001]\tlr: 5.000e-05, eta: 5:07:43, time: 0.822, data_time: 0.010, memory: 6189, loss_rpn_cls: 0.0023, loss_rpn_bbox: 0.0255, loss_cls: 0.0680, acc: 97.2061, loss_bbox: 0.2017, loss: 0.2975\n",
      "2020-12-30 22:01:57,110 - mmdet - INFO - Epoch [21][600/2001]\tlr: 5.000e-05, eta: 5:06:53, time: 0.823, data_time: 0.010, memory: 6189, loss_rpn_cls: 0.0023, loss_rpn_bbox: 0.0264, loss_cls: 0.0709, acc: 97.0410, loss_bbox: 0.1999, loss: 0.2995\n",
      "2020-12-30 22:02:38,098 - mmdet - INFO - Epoch [21][650/2001]\tlr: 5.000e-05, eta: 5:06:02, time: 0.820, data_time: 0.010, memory: 6189, loss_rpn_cls: 0.0013, loss_rpn_bbox: 0.0268, loss_cls: 0.0685, acc: 97.1738, loss_bbox: 0.1977, loss: 0.2943\n",
      "2020-12-30 22:03:19,081 - mmdet - INFO - Epoch [21][700/2001]\tlr: 5.000e-05, eta: 5:05:12, time: 0.820, data_time: 0.011, memory: 6189, loss_rpn_cls: 0.0019, loss_rpn_bbox: 0.0239, loss_cls: 0.0693, acc: 97.1221, loss_bbox: 0.1972, loss: 0.2924\n",
      "2020-12-30 22:04:00,048 - mmdet - INFO - Epoch [21][750/2001]\tlr: 5.000e-05, eta: 5:04:21, time: 0.819, data_time: 0.011, memory: 6189, loss_rpn_cls: 0.0024, loss_rpn_bbox: 0.0264, loss_cls: 0.0699, acc: 97.0986, loss_bbox: 0.2026, loss: 0.3012\n",
      "2020-12-30 22:04:41,040 - mmdet - INFO - Epoch [21][800/2001]\tlr: 5.000e-05, eta: 5:03:31, time: 0.820, data_time: 0.011, memory: 6189, loss_rpn_cls: 0.0020, loss_rpn_bbox: 0.0274, loss_cls: 0.0694, acc: 97.1533, loss_bbox: 0.1980, loss: 0.2968\n",
      "2020-12-30 22:05:22,139 - mmdet - INFO - Epoch [21][850/2001]\tlr: 5.000e-05, eta: 5:02:41, time: 0.822, data_time: 0.011, memory: 6189, loss_rpn_cls: 0.0024, loss_rpn_bbox: 0.0257, loss_cls: 0.0679, acc: 97.1592, loss_bbox: 0.1981, loss: 0.2941\n",
      "2020-12-30 22:06:03,345 - mmdet - INFO - Epoch [21][900/2001]\tlr: 5.000e-05, eta: 5:01:50, time: 0.824, data_time: 0.011, memory: 6189, loss_rpn_cls: 0.0022, loss_rpn_bbox: 0.0232, loss_cls: 0.0698, acc: 97.0312, loss_bbox: 0.1975, loss: 0.2928\n",
      "2020-12-30 22:06:44,485 - mmdet - INFO - Epoch [21][950/2001]\tlr: 5.000e-05, eta: 5:01:00, time: 0.823, data_time: 0.011, memory: 6189, loss_rpn_cls: 0.0016, loss_rpn_bbox: 0.0248, loss_cls: 0.0686, acc: 97.1533, loss_bbox: 0.1929, loss: 0.2879\n",
      "2020-12-30 22:07:25,413 - mmdet - INFO - Epoch [21][1000/2001]\tlr: 5.000e-05, eta: 5:00:10, time: 0.819, data_time: 0.011, memory: 6189, loss_rpn_cls: 0.0023, loss_rpn_bbox: 0.0268, loss_cls: 0.0702, acc: 97.1094, loss_bbox: 0.1987, loss: 0.2979\n",
      "2020-12-30 22:08:06,405 - mmdet - INFO - Epoch [21][1050/2001]\tlr: 5.000e-05, eta: 4:59:19, time: 0.820, data_time: 0.011, memory: 6189, loss_rpn_cls: 0.0019, loss_rpn_bbox: 0.0246, loss_cls: 0.0693, acc: 97.1182, loss_bbox: 0.1968, loss: 0.2926\n",
      "2020-12-30 22:08:47,398 - mmdet - INFO - Epoch [21][1100/2001]\tlr: 5.000e-05, eta: 4:58:29, time: 0.820, data_time: 0.011, memory: 6189, loss_rpn_cls: 0.0020, loss_rpn_bbox: 0.0269, loss_cls: 0.0734, acc: 96.9170, loss_bbox: 0.2040, loss: 0.3062\n",
      "2020-12-30 22:09:28,463 - mmdet - INFO - Epoch [21][1150/2001]\tlr: 5.000e-05, eta: 4:57:39, time: 0.821, data_time: 0.011, memory: 6189, loss_rpn_cls: 0.0021, loss_rpn_bbox: 0.0255, loss_cls: 0.0691, acc: 97.1367, loss_bbox: 0.1961, loss: 0.2928\n",
      "2020-12-30 22:10:09,444 - mmdet - INFO - Epoch [21][1200/2001]\tlr: 5.000e-05, eta: 4:56:48, time: 0.820, data_time: 0.011, memory: 6189, loss_rpn_cls: 0.0017, loss_rpn_bbox: 0.0246, loss_cls: 0.0708, acc: 97.0225, loss_bbox: 0.2023, loss: 0.2994\n",
      "2020-12-30 22:10:50,434 - mmdet - INFO - Epoch [21][1250/2001]\tlr: 5.000e-05, eta: 4:55:58, time: 0.820, data_time: 0.011, memory: 6189, loss_rpn_cls: 0.0024, loss_rpn_bbox: 0.0261, loss_cls: 0.0701, acc: 97.0830, loss_bbox: 0.1988, loss: 0.2974\n",
      "2020-12-30 22:11:31,375 - mmdet - INFO - Epoch [21][1300/2001]\tlr: 5.000e-05, eta: 4:55:08, time: 0.819, data_time: 0.011, memory: 6189, loss_rpn_cls: 0.0023, loss_rpn_bbox: 0.0240, loss_cls: 0.0697, acc: 97.1416, loss_bbox: 0.2011, loss: 0.2971\n",
      "2020-12-30 22:12:12,380 - mmdet - INFO - Epoch [21][1350/2001]\tlr: 5.000e-05, eta: 4:54:18, time: 0.820, data_time: 0.011, memory: 6189, loss_rpn_cls: 0.0019, loss_rpn_bbox: 0.0233, loss_cls: 0.0689, acc: 97.0850, loss_bbox: 0.1934, loss: 0.2876\n",
      "2020-12-30 22:12:53,516 - mmdet - INFO - Epoch [21][1400/2001]\tlr: 5.000e-05, eta: 4:53:28, time: 0.823, data_time: 0.011, memory: 6189, loss_rpn_cls: 0.0015, loss_rpn_bbox: 0.0241, loss_cls: 0.0683, acc: 97.1699, loss_bbox: 0.1947, loss: 0.2887\n",
      "2020-12-30 22:13:34,464 - mmdet - INFO - Epoch [21][1450/2001]\tlr: 5.000e-05, eta: 4:52:38, time: 0.819, data_time: 0.011, memory: 6189, loss_rpn_cls: 0.0023, loss_rpn_bbox: 0.0261, loss_cls: 0.0698, acc: 97.1113, loss_bbox: 0.1985, loss: 0.2967\n",
      "2020-12-30 22:14:15,454 - mmdet - INFO - Epoch [21][1500/2001]\tlr: 5.000e-05, eta: 4:51:47, time: 0.820, data_time: 0.011, memory: 6189, loss_rpn_cls: 0.0015, loss_rpn_bbox: 0.0246, loss_cls: 0.0685, acc: 97.2021, loss_bbox: 0.1956, loss: 0.2902\n",
      "2020-12-30 22:14:56,779 - mmdet - INFO - Epoch [21][1550/2001]\tlr: 5.000e-05, eta: 4:50:58, time: 0.827, data_time: 0.011, memory: 6189, loss_rpn_cls: 0.0023, loss_rpn_bbox: 0.0254, loss_cls: 0.0684, acc: 97.1768, loss_bbox: 0.1991, loss: 0.2952\n",
      "2020-12-30 22:15:37,774 - mmdet - INFO - Epoch [21][1600/2001]\tlr: 5.000e-05, eta: 4:50:07, time: 0.820, data_time: 0.011, memory: 6189, loss_rpn_cls: 0.0021, loss_rpn_bbox: 0.0265, loss_cls: 0.0712, acc: 97.0869, loss_bbox: 0.1990, loss: 0.2989\n",
      "2020-12-30 22:16:18,788 - mmdet - INFO - Epoch [21][1650/2001]\tlr: 5.000e-05, eta: 4:49:17, time: 0.820, data_time: 0.011, memory: 6189, loss_rpn_cls: 0.0016, loss_rpn_bbox: 0.0243, loss_cls: 0.0723, acc: 96.9941, loss_bbox: 0.2048, loss: 0.3031\n",
      "2020-12-30 22:16:59,856 - mmdet - INFO - Epoch [21][1700/2001]\tlr: 5.000e-05, eta: 4:48:27, time: 0.821, data_time: 0.011, memory: 6189, loss_rpn_cls: 0.0017, loss_rpn_bbox: 0.0245, loss_cls: 0.0677, acc: 97.1592, loss_bbox: 0.1966, loss: 0.2905\n"
     ]
    },
    {
     "name": "stderr",
     "output_type": "stream",
     "text": [
      "2020-12-30 22:17:40,933 - mmdet - INFO - Epoch [21][1750/2001]\tlr: 5.000e-05, eta: 4:47:37, time: 0.821, data_time: 0.011, memory: 6189, loss_rpn_cls: 0.0023, loss_rpn_bbox: 0.0266, loss_cls: 0.0673, acc: 97.2480, loss_bbox: 0.1977, loss: 0.2939\n",
      "2020-12-30 22:18:21,846 - mmdet - INFO - Epoch [21][1800/2001]\tlr: 5.000e-05, eta: 4:46:47, time: 0.818, data_time: 0.011, memory: 6189, loss_rpn_cls: 0.0021, loss_rpn_bbox: 0.0226, loss_cls: 0.0678, acc: 97.2354, loss_bbox: 0.1954, loss: 0.2880\n",
      "2020-12-30 22:19:02,971 - mmdet - INFO - Epoch [21][1850/2001]\tlr: 5.000e-05, eta: 4:45:58, time: 0.822, data_time: 0.011, memory: 6189, loss_rpn_cls: 0.0016, loss_rpn_bbox: 0.0257, loss_cls: 0.0677, acc: 97.2041, loss_bbox: 0.1959, loss: 0.2909\n",
      "2020-12-30 22:19:44,169 - mmdet - INFO - Epoch [21][1900/2001]\tlr: 5.000e-05, eta: 4:45:08, time: 0.824, data_time: 0.011, memory: 6189, loss_rpn_cls: 0.0019, loss_rpn_bbox: 0.0260, loss_cls: 0.0680, acc: 97.1660, loss_bbox: 0.1984, loss: 0.2943\n",
      "2020-12-30 22:20:25,136 - mmdet - INFO - Epoch [21][1950/2001]\tlr: 5.000e-05, eta: 4:44:18, time: 0.819, data_time: 0.011, memory: 6189, loss_rpn_cls: 0.0019, loss_rpn_bbox: 0.0247, loss_cls: 0.0727, acc: 97.0254, loss_bbox: 0.2033, loss: 0.3026\n",
      "2020-12-30 22:21:06,093 - mmdet - INFO - Epoch [21][2000/2001]\tlr: 5.000e-05, eta: 4:43:28, time: 0.819, data_time: 0.011, memory: 6189, loss_rpn_cls: 0.0016, loss_rpn_bbox: 0.0258, loss_cls: 0.0681, acc: 97.2090, loss_bbox: 0.2001, loss: 0.2956\n",
      "2020-12-30 22:21:06,800 - mmdet - INFO - Saving checkpoint at 21 epochs\n"
     ]
    },
    {
     "name": "stdout",
     "output_type": "stream",
     "text": [
      "[>>>>>>>>>>>>>>>>>>>>>>>>>>] 2013/2013, 11.0 task/s, elapsed: 183s, ETA:     0s"
     ]
    },
    {
     "name": "stderr",
     "output_type": "stream",
     "text": [
      "2020-12-30 22:24:10,539 - mmdet - INFO - \n",
      "Evaluateing mmdet/valid_44.json with 2013 images now\n",
      "2020-12-30 22:24:11,015 - mmdet - INFO - Evaluating bbox...\n"
     ]
    },
    {
     "name": "stdout",
     "output_type": "stream",
     "text": [
      "Loading and preparing results...\n",
      "DONE (t=0.10s)\n",
      "creating index...\n",
      "index created!\n",
      "Running per image evaluation...\n",
      "Evaluate annotation type *bbox*\n",
      "DONE (t=16.16s).\n",
      "Accumulating evaluation results...\n"
     ]
    },
    {
     "name": "stderr",
     "output_type": "stream",
     "text": [
      "2020-12-30 22:24:28,075 - mmdet - INFO - Epoch(val) [21][2001]\t0_bbox_mAP: 0.2870, 0_bbox_mAP_50: 0.4770, 0_bbox_mAP_75: 0.3180, 0_bbox_mAP_s: 0.2830, 0_bbox_mAP_m: 0.4790, 0_bbox_mAP_l: -1.0000, 0_bbox_mAP_copypaste: 0.287 0.477 0.318 0.283 0.479 -1.000\n"
     ]
    },
    {
     "name": "stdout",
     "output_type": "stream",
     "text": [
      "DONE (t=0.72s).\n",
      "Average Precision  (AP) @[ IoU=0.50:0.95 | area=   all | maxDets=100 ] = 0.287\n",
      "Average Precision  (AP) @[ IoU=0.50      | area=   all | maxDets=1000 ] = 0.477\n",
      "Average Precision  (AP) @[ IoU=0.75      | area=   all | maxDets=1000 ] = 0.318\n",
      "Average Precision  (AP) @[ IoU=0.50:0.95 | area= small | maxDets=1000 ] = 0.283\n",
      "Average Precision  (AP) @[ IoU=0.50:0.95 | area=medium | maxDets=1000 ] = 0.479\n",
      "Average Precision  (AP) @[ IoU=0.50:0.95 | area= large | maxDets=1000 ] = -1.000\n",
      "Average Recall     (AR) @[ IoU=0.50:0.95 | area=   all | maxDets=100 ] = 0.355\n",
      "Average Recall     (AR) @[ IoU=0.50:0.95 | area=   all | maxDets=300 ] = 0.355\n",
      "Average Recall     (AR) @[ IoU=0.50:0.95 | area=   all | maxDets=1000 ] = 0.355\n",
      "Average Recall     (AR) @[ IoU=0.50:0.95 | area= small | maxDets=1000 ] = 0.351\n",
      "Average Recall     (AR) @[ IoU=0.50:0.95 | area=medium | maxDets=1000 ] = 0.528\n",
      "Average Recall     (AR) @[ IoU=0.50:0.95 | area= large | maxDets=1000 ] = -1.000\n"
     ]
    },
    {
     "name": "stderr",
     "output_type": "stream",
     "text": [
      "2020-12-30 22:25:11,585 - mmdet - INFO - Epoch [22][50/2001]\tlr: 5.000e-05, eta: 4:42:38, time: 0.866, data_time: 0.056, memory: 6189, loss_rpn_cls: 0.0024, loss_rpn_bbox: 0.0262, loss_cls: 0.0697, acc: 97.0781, loss_bbox: 0.2084, loss: 0.3067\n",
      "2020-12-30 22:25:52,557 - mmdet - INFO - Epoch [22][100/2001]\tlr: 5.000e-05, eta: 4:41:48, time: 0.819, data_time: 0.010, memory: 6189, loss_rpn_cls: 0.0019, loss_rpn_bbox: 0.0246, loss_cls: 0.0700, acc: 97.0801, loss_bbox: 0.2008, loss: 0.2973\n",
      "2020-12-30 22:26:33,544 - mmdet - INFO - Epoch [22][150/2001]\tlr: 5.000e-05, eta: 4:40:58, time: 0.820, data_time: 0.010, memory: 6189, loss_rpn_cls: 0.0016, loss_rpn_bbox: 0.0261, loss_cls: 0.0706, acc: 97.0830, loss_bbox: 0.2010, loss: 0.2994\n",
      "2020-12-30 22:27:14,550 - mmdet - INFO - Epoch [22][200/2001]\tlr: 5.000e-05, eta: 4:40:08, time: 0.820, data_time: 0.011, memory: 6189, loss_rpn_cls: 0.0021, loss_rpn_bbox: 0.0255, loss_cls: 0.0717, acc: 97.0186, loss_bbox: 0.1999, loss: 0.2992\n",
      "2020-12-30 22:27:55,615 - mmdet - INFO - Epoch [22][250/2001]\tlr: 5.000e-05, eta: 4:39:18, time: 0.821, data_time: 0.011, memory: 6189, loss_rpn_cls: 0.0025, loss_rpn_bbox: 0.0259, loss_cls: 0.0672, acc: 97.2197, loss_bbox: 0.1951, loss: 0.2907\n",
      "2020-12-30 22:28:36,979 - mmdet - INFO - Epoch [22][300/2001]\tlr: 5.000e-05, eta: 4:38:29, time: 0.827, data_time: 0.011, memory: 6189, loss_rpn_cls: 0.0016, loss_rpn_bbox: 0.0242, loss_cls: 0.0691, acc: 97.1162, loss_bbox: 0.1997, loss: 0.2946\n",
      "2020-12-30 22:29:17,993 - mmdet - INFO - Epoch [22][350/2001]\tlr: 5.000e-05, eta: 4:37:39, time: 0.820, data_time: 0.011, memory: 6189, loss_rpn_cls: 0.0017, loss_rpn_bbox: 0.0271, loss_cls: 0.0694, acc: 97.1055, loss_bbox: 0.2024, loss: 0.3006\n",
      "2020-12-30 22:29:59,126 - mmdet - INFO - Epoch [22][400/2001]\tlr: 5.000e-05, eta: 4:36:49, time: 0.823, data_time: 0.011, memory: 6189, loss_rpn_cls: 0.0015, loss_rpn_bbox: 0.0260, loss_cls: 0.0680, acc: 97.1885, loss_bbox: 0.1951, loss: 0.2904\n",
      "2020-12-30 22:30:40,182 - mmdet - INFO - Epoch [22][450/2001]\tlr: 5.000e-05, eta: 4:36:00, time: 0.821, data_time: 0.011, memory: 6189, loss_rpn_cls: 0.0019, loss_rpn_bbox: 0.0242, loss_cls: 0.0677, acc: 97.1826, loss_bbox: 0.1939, loss: 0.2877\n",
      "2020-12-30 22:31:21,109 - mmdet - INFO - Epoch [22][500/2001]\tlr: 5.000e-05, eta: 4:35:10, time: 0.818, data_time: 0.011, memory: 6189, loss_rpn_cls: 0.0022, loss_rpn_bbox: 0.0268, loss_cls: 0.0725, acc: 97.0137, loss_bbox: 0.2029, loss: 0.3043\n",
      "2020-12-30 22:32:02,126 - mmdet - INFO - Epoch [22][550/2001]\tlr: 5.000e-05, eta: 4:34:20, time: 0.821, data_time: 0.011, memory: 6189, loss_rpn_cls: 0.0027, loss_rpn_bbox: 0.0238, loss_cls: 0.0716, acc: 97.0439, loss_bbox: 0.2065, loss: 0.3046\n",
      "2020-12-30 22:32:43,241 - mmdet - INFO - Epoch [22][600/2001]\tlr: 5.000e-05, eta: 4:33:31, time: 0.822, data_time: 0.011, memory: 6189, loss_rpn_cls: 0.0020, loss_rpn_bbox: 0.0269, loss_cls: 0.0677, acc: 97.1865, loss_bbox: 0.1978, loss: 0.2944\n",
      "2020-12-30 22:33:24,207 - mmdet - INFO - Epoch [22][650/2001]\tlr: 5.000e-05, eta: 4:32:41, time: 0.819, data_time: 0.011, memory: 6189, loss_rpn_cls: 0.0022, loss_rpn_bbox: 0.0268, loss_cls: 0.0665, acc: 97.2793, loss_bbox: 0.1959, loss: 0.2914\n",
      "2020-12-30 22:34:05,168 - mmdet - INFO - Epoch [22][700/2001]\tlr: 5.000e-05, eta: 4:31:51, time: 0.819, data_time: 0.011, memory: 6189, loss_rpn_cls: 0.0020, loss_rpn_bbox: 0.0234, loss_cls: 0.0673, acc: 97.2080, loss_bbox: 0.1953, loss: 0.2881\n",
      "2020-12-30 22:34:46,103 - mmdet - INFO - Epoch [22][750/2001]\tlr: 5.000e-05, eta: 4:31:02, time: 0.819, data_time: 0.011, memory: 6189, loss_rpn_cls: 0.0020, loss_rpn_bbox: 0.0266, loss_cls: 0.0703, acc: 97.1074, loss_bbox: 0.2012, loss: 0.3002\n",
      "2020-12-30 22:35:27,117 - mmdet - INFO - Epoch [22][800/2001]\tlr: 5.000e-05, eta: 4:30:12, time: 0.820, data_time: 0.011, memory: 6189, loss_rpn_cls: 0.0024, loss_rpn_bbox: 0.0249, loss_cls: 0.0683, acc: 97.1416, loss_bbox: 0.1955, loss: 0.2912\n",
      "2020-12-30 22:36:08,219 - mmdet - INFO - Epoch [22][850/2001]\tlr: 5.000e-05, eta: 4:29:23, time: 0.822, data_time: 0.011, memory: 6189, loss_rpn_cls: 0.0025, loss_rpn_bbox: 0.0268, loss_cls: 0.0685, acc: 97.1387, loss_bbox: 0.1968, loss: 0.2947\n",
      "2020-12-30 22:36:49,173 - mmdet - INFO - Epoch [22][900/2001]\tlr: 5.000e-05, eta: 4:28:33, time: 0.819, data_time: 0.011, memory: 6189, loss_rpn_cls: 0.0016, loss_rpn_bbox: 0.0256, loss_cls: 0.0700, acc: 97.1250, loss_bbox: 0.2007, loss: 0.2979\n",
      "2020-12-30 22:37:30,109 - mmdet - INFO - Epoch [22][950/2001]\tlr: 5.000e-05, eta: 4:27:44, time: 0.819, data_time: 0.011, memory: 6189, loss_rpn_cls: 0.0021, loss_rpn_bbox: 0.0244, loss_cls: 0.0685, acc: 97.1904, loss_bbox: 0.1970, loss: 0.2921\n",
      "2020-12-30 22:38:11,107 - mmdet - INFO - Epoch [22][1000/2001]\tlr: 5.000e-05, eta: 4:26:54, time: 0.820, data_time: 0.011, memory: 6189, loss_rpn_cls: 0.0022, loss_rpn_bbox: 0.0241, loss_cls: 0.0678, acc: 97.2363, loss_bbox: 0.2008, loss: 0.2949\n",
      "2020-12-30 22:38:52,115 - mmdet - INFO - Epoch [22][1050/2001]\tlr: 5.000e-05, eta: 4:26:05, time: 0.820, data_time: 0.011, memory: 6189, loss_rpn_cls: 0.0015, loss_rpn_bbox: 0.0251, loss_cls: 0.0713, acc: 97.0352, loss_bbox: 0.2006, loss: 0.2984\n",
      "2020-12-30 22:39:33,221 - mmdet - INFO - Epoch [22][1100/2001]\tlr: 5.000e-05, eta: 4:25:15, time: 0.822, data_time: 0.011, memory: 6189, loss_rpn_cls: 0.0027, loss_rpn_bbox: 0.0267, loss_cls: 0.0689, acc: 97.1465, loss_bbox: 0.2026, loss: 0.3009\n",
      "2020-12-30 22:40:14,237 - mmdet - INFO - Epoch [22][1150/2001]\tlr: 5.000e-05, eta: 4:24:26, time: 0.820, data_time: 0.011, memory: 6189, loss_rpn_cls: 0.0021, loss_rpn_bbox: 0.0244, loss_cls: 0.0700, acc: 97.1387, loss_bbox: 0.2000, loss: 0.2965\n",
      "2020-12-30 22:40:55,199 - mmdet - INFO - Epoch [22][1200/2001]\tlr: 5.000e-05, eta: 4:23:36, time: 0.819, data_time: 0.011, memory: 6189, loss_rpn_cls: 0.0021, loss_rpn_bbox: 0.0272, loss_cls: 0.0721, acc: 97.0527, loss_bbox: 0.2014, loss: 0.3028\n",
      "2020-12-30 22:41:36,168 - mmdet - INFO - Epoch [22][1250/2001]\tlr: 5.000e-05, eta: 4:22:47, time: 0.820, data_time: 0.011, memory: 6189, loss_rpn_cls: 0.0021, loss_rpn_bbox: 0.0246, loss_cls: 0.0695, acc: 97.1484, loss_bbox: 0.1989, loss: 0.2951\n",
      "2020-12-30 22:42:17,380 - mmdet - INFO - Epoch [22][1300/2001]\tlr: 5.000e-05, eta: 4:21:58, time: 0.824, data_time: 0.011, memory: 6189, loss_rpn_cls: 0.0016, loss_rpn_bbox: 0.0252, loss_cls: 0.0691, acc: 97.1904, loss_bbox: 0.1958, loss: 0.2917\n",
      "2020-12-30 22:42:58,464 - mmdet - INFO - Epoch [22][1350/2001]\tlr: 5.000e-05, eta: 4:21:08, time: 0.822, data_time: 0.011, memory: 6189, loss_rpn_cls: 0.0026, loss_rpn_bbox: 0.0253, loss_cls: 0.0677, acc: 97.1475, loss_bbox: 0.1974, loss: 0.2931\n",
      "2020-12-30 22:43:39,381 - mmdet - INFO - Epoch [22][1400/2001]\tlr: 5.000e-05, eta: 4:20:19, time: 0.818, data_time: 0.011, memory: 6189, loss_rpn_cls: 0.0012, loss_rpn_bbox: 0.0249, loss_cls: 0.0693, acc: 97.1533, loss_bbox: 0.1988, loss: 0.2942\n",
      "2020-12-30 22:44:20,447 - mmdet - INFO - Epoch [22][1450/2001]\tlr: 5.000e-05, eta: 4:19:30, time: 0.821, data_time: 0.011, memory: 6189, loss_rpn_cls: 0.0018, loss_rpn_bbox: 0.0230, loss_cls: 0.0723, acc: 96.9922, loss_bbox: 0.2044, loss: 0.3015\n",
      "2020-12-30 22:45:01,528 - mmdet - INFO - Epoch [22][1500/2001]\tlr: 5.000e-05, eta: 4:18:40, time: 0.822, data_time: 0.011, memory: 6189, loss_rpn_cls: 0.0019, loss_rpn_bbox: 0.0252, loss_cls: 0.0685, acc: 97.1611, loss_bbox: 0.1990, loss: 0.2946\n",
      "2020-12-30 22:45:42,502 - mmdet - INFO - Epoch [22][1550/2001]\tlr: 5.000e-05, eta: 4:17:51, time: 0.819, data_time: 0.011, memory: 6189, loss_rpn_cls: 0.0020, loss_rpn_bbox: 0.0263, loss_cls: 0.0690, acc: 97.1270, loss_bbox: 0.2003, loss: 0.2976\n",
      "2020-12-30 22:46:23,643 - mmdet - INFO - Epoch [22][1600/2001]\tlr: 5.000e-05, eta: 4:17:02, time: 0.823, data_time: 0.011, memory: 6189, loss_rpn_cls: 0.0021, loss_rpn_bbox: 0.0273, loss_cls: 0.0698, acc: 97.0820, loss_bbox: 0.2026, loss: 0.3018\n",
      "2020-12-30 22:47:04,660 - mmdet - INFO - Epoch [22][1650/2001]\tlr: 5.000e-05, eta: 4:16:13, time: 0.820, data_time: 0.011, memory: 6189, loss_rpn_cls: 0.0020, loss_rpn_bbox: 0.0257, loss_cls: 0.0711, acc: 97.0557, loss_bbox: 0.2005, loss: 0.2993\n",
      "2020-12-30 22:47:45,776 - mmdet - INFO - Epoch [22][1700/2001]\tlr: 5.000e-05, eta: 4:15:24, time: 0.822, data_time: 0.011, memory: 6189, loss_rpn_cls: 0.0025, loss_rpn_bbox: 0.0236, loss_cls: 0.0671, acc: 97.2607, loss_bbox: 0.1922, loss: 0.2853\n"
     ]
    },
    {
     "name": "stderr",
     "output_type": "stream",
     "text": [
      "2020-12-30 22:48:26,725 - mmdet - INFO - Epoch [22][1750/2001]\tlr: 5.000e-05, eta: 4:14:34, time: 0.819, data_time: 0.011, memory: 6189, loss_rpn_cls: 0.0025, loss_rpn_bbox: 0.0225, loss_cls: 0.0720, acc: 97.0166, loss_bbox: 0.2032, loss: 0.3002\n",
      "2020-12-30 22:49:07,793 - mmdet - INFO - Epoch [22][1800/2001]\tlr: 5.000e-05, eta: 4:13:45, time: 0.821, data_time: 0.011, memory: 6189, loss_rpn_cls: 0.0022, loss_rpn_bbox: 0.0282, loss_cls: 0.0678, acc: 97.1982, loss_bbox: 0.1978, loss: 0.2960\n",
      "2020-12-30 22:49:48,899 - mmdet - INFO - Epoch [22][1850/2001]\tlr: 5.000e-05, eta: 4:12:56, time: 0.822, data_time: 0.011, memory: 6189, loss_rpn_cls: 0.0016, loss_rpn_bbox: 0.0263, loss_cls: 0.0673, acc: 97.1855, loss_bbox: 0.1924, loss: 0.2876\n",
      "2020-12-30 22:50:29,839 - mmdet - INFO - Epoch [22][1900/2001]\tlr: 5.000e-05, eta: 4:12:07, time: 0.819, data_time: 0.011, memory: 6189, loss_rpn_cls: 0.0020, loss_rpn_bbox: 0.0283, loss_cls: 0.0691, acc: 97.1143, loss_bbox: 0.2015, loss: 0.3010\n",
      "2020-12-30 22:51:10,871 - mmdet - INFO - Epoch [22][1950/2001]\tlr: 5.000e-05, eta: 4:11:18, time: 0.821, data_time: 0.011, memory: 6189, loss_rpn_cls: 0.0018, loss_rpn_bbox: 0.0266, loss_cls: 0.0695, acc: 97.1592, loss_bbox: 0.1987, loss: 0.2966\n",
      "2020-12-30 22:51:51,944 - mmdet - INFO - Epoch [22][2000/2001]\tlr: 5.000e-05, eta: 4:10:29, time: 0.821, data_time: 0.011, memory: 6189, loss_rpn_cls: 0.0022, loss_rpn_bbox: 0.0242, loss_cls: 0.0700, acc: 97.1279, loss_bbox: 0.1980, loss: 0.2944\n",
      "2020-12-30 22:51:52,659 - mmdet - INFO - Saving checkpoint at 22 epochs\n"
     ]
    },
    {
     "name": "stdout",
     "output_type": "stream",
     "text": [
      "[>>>>>>>>>>>>>>>>>>>>>>>>>>] 2013/2013, 11.0 task/s, elapsed: 183s, ETA:     0s"
     ]
    },
    {
     "name": "stderr",
     "output_type": "stream",
     "text": [
      "2020-12-30 22:54:56,310 - mmdet - INFO - \n",
      "Evaluateing mmdet/valid_44.json with 2013 images now\n",
      "2020-12-30 22:54:56,847 - mmdet - INFO - Evaluating bbox...\n"
     ]
    },
    {
     "name": "stdout",
     "output_type": "stream",
     "text": [
      "Loading and preparing results...\n",
      "DONE (t=0.12s)\n",
      "creating index...\n",
      "index created!\n",
      "Running per image evaluation...\n",
      "Evaluate annotation type *bbox*\n",
      "DONE (t=17.32s).\n",
      "Accumulating evaluation results...\n"
     ]
    },
    {
     "name": "stderr",
     "output_type": "stream",
     "text": [
      "2020-12-30 22:55:15,168 - mmdet - INFO - Epoch(val) [22][2001]\t0_bbox_mAP: 0.2870, 0_bbox_mAP_50: 0.4750, 0_bbox_mAP_75: 0.3180, 0_bbox_mAP_s: 0.2830, 0_bbox_mAP_m: 0.4790, 0_bbox_mAP_l: -1.0000, 0_bbox_mAP_copypaste: 0.287 0.475 0.318 0.283 0.479 -1.000\n"
     ]
    },
    {
     "name": "stdout",
     "output_type": "stream",
     "text": [
      "DONE (t=0.80s).\n",
      "Average Precision  (AP) @[ IoU=0.50:0.95 | area=   all | maxDets=100 ] = 0.287\n",
      "Average Precision  (AP) @[ IoU=0.50      | area=   all | maxDets=1000 ] = 0.475\n",
      "Average Precision  (AP) @[ IoU=0.75      | area=   all | maxDets=1000 ] = 0.318\n",
      "Average Precision  (AP) @[ IoU=0.50:0.95 | area= small | maxDets=1000 ] = 0.283\n",
      "Average Precision  (AP) @[ IoU=0.50:0.95 | area=medium | maxDets=1000 ] = 0.479\n",
      "Average Precision  (AP) @[ IoU=0.50:0.95 | area= large | maxDets=1000 ] = -1.000\n",
      "Average Recall     (AR) @[ IoU=0.50:0.95 | area=   all | maxDets=100 ] = 0.354\n",
      "Average Recall     (AR) @[ IoU=0.50:0.95 | area=   all | maxDets=300 ] = 0.354\n",
      "Average Recall     (AR) @[ IoU=0.50:0.95 | area=   all | maxDets=1000 ] = 0.354\n",
      "Average Recall     (AR) @[ IoU=0.50:0.95 | area= small | maxDets=1000 ] = 0.350\n",
      "Average Recall     (AR) @[ IoU=0.50:0.95 | area=medium | maxDets=1000 ] = 0.528\n",
      "Average Recall     (AR) @[ IoU=0.50:0.95 | area= large | maxDets=1000 ] = -1.000\n"
     ]
    },
    {
     "name": "stderr",
     "output_type": "stream",
     "text": [
      "2020-12-30 22:55:58,711 - mmdet - INFO - Epoch [23][50/2001]\tlr: 5.000e-05, eta: 4:09:39, time: 0.867, data_time: 0.056, memory: 6189, loss_rpn_cls: 0.0019, loss_rpn_bbox: 0.0243, loss_cls: 0.0668, acc: 97.2354, loss_bbox: 0.1980, loss: 0.2910\n",
      "2020-12-30 22:56:39,688 - mmdet - INFO - Epoch [23][100/2001]\tlr: 5.000e-05, eta: 4:08:50, time: 0.820, data_time: 0.011, memory: 6189, loss_rpn_cls: 0.0022, loss_rpn_bbox: 0.0240, loss_cls: 0.0695, acc: 97.1240, loss_bbox: 0.1982, loss: 0.2939\n",
      "2020-12-30 22:57:20,691 - mmdet - INFO - Epoch [23][150/2001]\tlr: 5.000e-05, eta: 4:08:01, time: 0.820, data_time: 0.011, memory: 6189, loss_rpn_cls: 0.0019, loss_rpn_bbox: 0.0269, loss_cls: 0.0709, acc: 97.1719, loss_bbox: 0.2015, loss: 0.3012\n",
      "2020-12-30 22:58:01,655 - mmdet - INFO - Epoch [23][200/2001]\tlr: 5.000e-05, eta: 4:07:12, time: 0.819, data_time: 0.011, memory: 6189, loss_rpn_cls: 0.0022, loss_rpn_bbox: 0.0254, loss_cls: 0.0696, acc: 97.0459, loss_bbox: 0.1993, loss: 0.2965\n",
      "2020-12-30 22:58:42,845 - mmdet - INFO - Epoch [23][250/2001]\tlr: 5.000e-05, eta: 4:06:23, time: 0.824, data_time: 0.011, memory: 6189, loss_rpn_cls: 0.0019, loss_rpn_bbox: 0.0251, loss_cls: 0.0686, acc: 97.1309, loss_bbox: 0.1961, loss: 0.2917\n",
      "2020-12-30 22:59:23,836 - mmdet - INFO - Epoch [23][300/2001]\tlr: 5.000e-05, eta: 4:05:34, time: 0.820, data_time: 0.011, memory: 6189, loss_rpn_cls: 0.0021, loss_rpn_bbox: 0.0257, loss_cls: 0.0676, acc: 97.2090, loss_bbox: 0.1994, loss: 0.2948\n",
      "2020-12-30 23:00:05,754 - mmdet - INFO - Epoch [23][350/2001]\tlr: 5.000e-05, eta: 4:04:45, time: 0.838, data_time: 0.011, memory: 6189, loss_rpn_cls: 0.0028, loss_rpn_bbox: 0.0253, loss_cls: 0.0691, acc: 97.1709, loss_bbox: 0.1949, loss: 0.2921\n",
      "2020-12-30 23:00:46,683 - mmdet - INFO - Epoch [23][400/2001]\tlr: 5.000e-05, eta: 4:03:56, time: 0.819, data_time: 0.011, memory: 6189, loss_rpn_cls: 0.0018, loss_rpn_bbox: 0.0233, loss_cls: 0.0715, acc: 96.9971, loss_bbox: 0.1992, loss: 0.2958\n",
      "2020-12-30 23:01:27,862 - mmdet - INFO - Epoch [23][450/2001]\tlr: 5.000e-05, eta: 4:03:07, time: 0.824, data_time: 0.011, memory: 6189, loss_rpn_cls: 0.0023, loss_rpn_bbox: 0.0268, loss_cls: 0.0689, acc: 97.1055, loss_bbox: 0.1993, loss: 0.2974\n",
      "2020-12-30 23:02:08,896 - mmdet - INFO - Epoch [23][500/2001]\tlr: 5.000e-05, eta: 4:02:19, time: 0.821, data_time: 0.011, memory: 6189, loss_rpn_cls: 0.0017, loss_rpn_bbox: 0.0248, loss_cls: 0.0683, acc: 97.1348, loss_bbox: 0.1975, loss: 0.2923\n",
      "2020-12-30 23:02:50,014 - mmdet - INFO - Epoch [23][550/2001]\tlr: 5.000e-05, eta: 4:01:30, time: 0.822, data_time: 0.011, memory: 6189, loss_rpn_cls: 0.0017, loss_rpn_bbox: 0.0260, loss_cls: 0.0697, acc: 97.1270, loss_bbox: 0.1997, loss: 0.2972\n",
      "2020-12-30 23:03:30,998 - mmdet - INFO - Epoch [23][600/2001]\tlr: 5.000e-05, eta: 4:00:41, time: 0.820, data_time: 0.011, memory: 6189, loss_rpn_cls: 0.0019, loss_rpn_bbox: 0.0257, loss_cls: 0.0682, acc: 97.1787, loss_bbox: 0.1960, loss: 0.2917\n",
      "2020-12-30 23:04:12,114 - mmdet - INFO - Epoch [23][650/2001]\tlr: 5.000e-05, eta: 3:59:52, time: 0.822, data_time: 0.011, memory: 6189, loss_rpn_cls: 0.0021, loss_rpn_bbox: 0.0259, loss_cls: 0.0677, acc: 97.1797, loss_bbox: 0.1978, loss: 0.2936\n",
      "2020-12-30 23:04:53,116 - mmdet - INFO - Epoch [23][700/2001]\tlr: 5.000e-05, eta: 3:59:03, time: 0.820, data_time: 0.011, memory: 6189, loss_rpn_cls: 0.0022, loss_rpn_bbox: 0.0260, loss_cls: 0.0686, acc: 97.2373, loss_bbox: 0.2006, loss: 0.2974\n",
      "2020-12-30 23:05:34,061 - mmdet - INFO - Epoch [23][750/2001]\tlr: 5.000e-05, eta: 3:58:14, time: 0.819, data_time: 0.011, memory: 6189, loss_rpn_cls: 0.0022, loss_rpn_bbox: 0.0268, loss_cls: 0.0715, acc: 97.0684, loss_bbox: 0.2019, loss: 0.3023\n",
      "2020-12-30 23:06:15,040 - mmdet - INFO - Epoch [23][800/2001]\tlr: 5.000e-05, eta: 3:57:25, time: 0.820, data_time: 0.011, memory: 6189, loss_rpn_cls: 0.0020, loss_rpn_bbox: 0.0247, loss_cls: 0.0681, acc: 97.1797, loss_bbox: 0.1958, loss: 0.2906\n",
      "2020-12-30 23:06:56,182 - mmdet - INFO - Epoch [23][850/2001]\tlr: 5.000e-05, eta: 3:56:37, time: 0.823, data_time: 0.011, memory: 6189, loss_rpn_cls: 0.0019, loss_rpn_bbox: 0.0235, loss_cls: 0.0689, acc: 97.1611, loss_bbox: 0.1995, loss: 0.2938\n",
      "2020-12-30 23:07:37,188 - mmdet - INFO - Epoch [23][900/2001]\tlr: 5.000e-05, eta: 3:55:48, time: 0.820, data_time: 0.011, memory: 6189, loss_rpn_cls: 0.0020, loss_rpn_bbox: 0.0253, loss_cls: 0.0693, acc: 97.0869, loss_bbox: 0.2008, loss: 0.2974\n",
      "2020-12-30 23:08:18,289 - mmdet - INFO - Epoch [23][950/2001]\tlr: 5.000e-05, eta: 3:54:59, time: 0.822, data_time: 0.011, memory: 6189, loss_rpn_cls: 0.0017, loss_rpn_bbox: 0.0263, loss_cls: 0.0676, acc: 97.1670, loss_bbox: 0.1970, loss: 0.2927\n",
      "2020-12-30 23:08:59,226 - mmdet - INFO - Epoch [23][1000/2001]\tlr: 5.000e-05, eta: 3:54:10, time: 0.819, data_time: 0.011, memory: 6189, loss_rpn_cls: 0.0017, loss_rpn_bbox: 0.0241, loss_cls: 0.0718, acc: 97.0674, loss_bbox: 0.1999, loss: 0.2976\n",
      "2020-12-30 23:09:40,248 - mmdet - INFO - Epoch [23][1050/2001]\tlr: 5.000e-05, eta: 3:53:22, time: 0.820, data_time: 0.011, memory: 6189, loss_rpn_cls: 0.0017, loss_rpn_bbox: 0.0252, loss_cls: 0.0708, acc: 97.0732, loss_bbox: 0.1990, loss: 0.2968\n",
      "2020-12-30 23:10:21,184 - mmdet - INFO - Epoch [23][1100/2001]\tlr: 5.000e-05, eta: 3:52:33, time: 0.819, data_time: 0.011, memory: 6189, loss_rpn_cls: 0.0025, loss_rpn_bbox: 0.0254, loss_cls: 0.0662, acc: 97.2842, loss_bbox: 0.1991, loss: 0.2933\n",
      "2020-12-30 23:11:02,155 - mmdet - INFO - Epoch [23][1150/2001]\tlr: 5.000e-05, eta: 3:51:44, time: 0.819, data_time: 0.011, memory: 6189, loss_rpn_cls: 0.0018, loss_rpn_bbox: 0.0257, loss_cls: 0.0691, acc: 97.1592, loss_bbox: 0.1988, loss: 0.2954\n",
      "2020-12-30 23:11:43,116 - mmdet - INFO - Epoch [23][1200/2001]\tlr: 5.000e-05, eta: 3:50:55, time: 0.819, data_time: 0.011, memory: 6189, loss_rpn_cls: 0.0023, loss_rpn_bbox: 0.0261, loss_cls: 0.0692, acc: 97.1426, loss_bbox: 0.2002, loss: 0.2977\n",
      "2020-12-30 23:12:24,496 - mmdet - INFO - Epoch [23][1250/2001]\tlr: 5.000e-05, eta: 3:50:07, time: 0.828, data_time: 0.011, memory: 6189, loss_rpn_cls: 0.0014, loss_rpn_bbox: 0.0238, loss_cls: 0.0694, acc: 97.2090, loss_bbox: 0.1936, loss: 0.2882\n",
      "2020-12-30 23:13:05,469 - mmdet - INFO - Epoch [23][1300/2001]\tlr: 5.000e-05, eta: 3:49:18, time: 0.820, data_time: 0.011, memory: 6189, loss_rpn_cls: 0.0016, loss_rpn_bbox: 0.0258, loss_cls: 0.0700, acc: 97.1152, loss_bbox: 0.2003, loss: 0.2977\n",
      "2020-12-30 23:13:46,412 - mmdet - INFO - Epoch [23][1350/2001]\tlr: 5.000e-05, eta: 3:48:30, time: 0.819, data_time: 0.011, memory: 6189, loss_rpn_cls: 0.0017, loss_rpn_bbox: 0.0270, loss_cls: 0.0683, acc: 97.1641, loss_bbox: 0.1990, loss: 0.2961\n",
      "2020-12-30 23:14:27,367 - mmdet - INFO - Epoch [23][1400/2001]\tlr: 5.000e-05, eta: 3:47:41, time: 0.819, data_time: 0.011, memory: 6189, loss_rpn_cls: 0.0023, loss_rpn_bbox: 0.0250, loss_cls: 0.0676, acc: 97.2256, loss_bbox: 0.1993, loss: 0.2942\n",
      "2020-12-30 23:15:08,320 - mmdet - INFO - Epoch [23][1450/2001]\tlr: 5.000e-05, eta: 3:46:52, time: 0.819, data_time: 0.011, memory: 6189, loss_rpn_cls: 0.0023, loss_rpn_bbox: 0.0285, loss_cls: 0.0693, acc: 97.1436, loss_bbox: 0.2018, loss: 0.3019\n",
      "2020-12-30 23:15:49,291 - mmdet - INFO - Epoch [23][1500/2001]\tlr: 5.000e-05, eta: 3:46:04, time: 0.819, data_time: 0.011, memory: 6189, loss_rpn_cls: 0.0020, loss_rpn_bbox: 0.0256, loss_cls: 0.0700, acc: 97.0771, loss_bbox: 0.2002, loss: 0.2977\n",
      "2020-12-30 23:16:30,272 - mmdet - INFO - Epoch [23][1550/2001]\tlr: 5.000e-05, eta: 3:45:15, time: 0.820, data_time: 0.011, memory: 6189, loss_rpn_cls: 0.0015, loss_rpn_bbox: 0.0229, loss_cls: 0.0685, acc: 97.1777, loss_bbox: 0.1998, loss: 0.2927\n",
      "2020-12-30 23:17:11,260 - mmdet - INFO - Epoch [23][1600/2001]\tlr: 5.000e-05, eta: 3:44:27, time: 0.820, data_time: 0.011, memory: 6189, loss_rpn_cls: 0.0019, loss_rpn_bbox: 0.0248, loss_cls: 0.0693, acc: 97.0918, loss_bbox: 0.1962, loss: 0.2922\n",
      "2020-12-30 23:17:52,147 - mmdet - INFO - Epoch [23][1650/2001]\tlr: 5.000e-05, eta: 3:43:38, time: 0.818, data_time: 0.011, memory: 6189, loss_rpn_cls: 0.0020, loss_rpn_bbox: 0.0260, loss_cls: 0.0664, acc: 97.3047, loss_bbox: 0.2003, loss: 0.2947\n",
      "2020-12-30 23:18:33,148 - mmdet - INFO - Epoch [23][1700/2001]\tlr: 5.000e-05, eta: 3:42:49, time: 0.820, data_time: 0.011, memory: 6189, loss_rpn_cls: 0.0021, loss_rpn_bbox: 0.0266, loss_cls: 0.0688, acc: 97.1182, loss_bbox: 0.1980, loss: 0.2955\n"
     ]
    },
    {
     "name": "stderr",
     "output_type": "stream",
     "text": [
      "2020-12-30 23:19:14,162 - mmdet - INFO - Epoch [23][1750/2001]\tlr: 5.000e-05, eta: 3:42:01, time: 0.820, data_time: 0.011, memory: 6189, loss_rpn_cls: 0.0018, loss_rpn_bbox: 0.0266, loss_cls: 0.0709, acc: 97.0488, loss_bbox: 0.2015, loss: 0.3008\n",
      "2020-12-30 23:19:55,267 - mmdet - INFO - Epoch [23][1800/2001]\tlr: 5.000e-05, eta: 3:41:13, time: 0.822, data_time: 0.011, memory: 6189, loss_rpn_cls: 0.0019, loss_rpn_bbox: 0.0258, loss_cls: 0.0683, acc: 97.1504, loss_bbox: 0.2011, loss: 0.2972\n",
      "2020-12-30 23:20:36,246 - mmdet - INFO - Epoch [23][1850/2001]\tlr: 5.000e-05, eta: 3:40:24, time: 0.820, data_time: 0.011, memory: 6189, loss_rpn_cls: 0.0026, loss_rpn_bbox: 0.0265, loss_cls: 0.0684, acc: 97.1719, loss_bbox: 0.2001, loss: 0.2976\n",
      "2020-12-30 23:21:17,208 - mmdet - INFO - Epoch [23][1900/2001]\tlr: 5.000e-05, eta: 3:39:36, time: 0.819, data_time: 0.011, memory: 6189, loss_rpn_cls: 0.0026, loss_rpn_bbox: 0.0253, loss_cls: 0.0686, acc: 97.1426, loss_bbox: 0.1990, loss: 0.2957\n",
      "2020-12-30 23:21:58,305 - mmdet - INFO - Epoch [23][1950/2001]\tlr: 5.000e-05, eta: 3:38:47, time: 0.822, data_time: 0.011, memory: 6189, loss_rpn_cls: 0.0019, loss_rpn_bbox: 0.0248, loss_cls: 0.0703, acc: 97.0762, loss_bbox: 0.1975, loss: 0.2945\n",
      "2020-12-30 23:22:39,474 - mmdet - INFO - Epoch [23][2000/2001]\tlr: 5.000e-05, eta: 3:37:59, time: 0.823, data_time: 0.011, memory: 6189, loss_rpn_cls: 0.0022, loss_rpn_bbox: 0.0252, loss_cls: 0.0717, acc: 96.9873, loss_bbox: 0.2013, loss: 0.3004\n",
      "2020-12-30 23:22:40,190 - mmdet - INFO - Saving checkpoint at 23 epochs\n"
     ]
    },
    {
     "name": "stdout",
     "output_type": "stream",
     "text": [
      "[>>>>>>>>>>>>>>>>>>>>>>>>>>] 2013/2013, 11.0 task/s, elapsed: 183s, ETA:     0s"
     ]
    },
    {
     "name": "stderr",
     "output_type": "stream",
     "text": [
      "2020-12-30 23:25:44,297 - mmdet - INFO - \n",
      "Evaluateing mmdet/valid_44.json with 2013 images now\n",
      "2020-12-30 23:25:44,881 - mmdet - INFO - Evaluating bbox...\n"
     ]
    },
    {
     "name": "stdout",
     "output_type": "stream",
     "text": [
      "Loading and preparing results...\n",
      "DONE (t=0.17s)\n",
      "creating index...\n",
      "index created!\n",
      "Running per image evaluation...\n",
      "Evaluate annotation type *bbox*\n",
      "DONE (t=17.83s).\n",
      "Accumulating evaluation results...\n"
     ]
    },
    {
     "name": "stderr",
     "output_type": "stream",
     "text": [
      "2020-12-30 23:26:03,805 - mmdet - INFO - Epoch(val) [23][2001]\t0_bbox_mAP: 0.2860, 0_bbox_mAP_50: 0.4740, 0_bbox_mAP_75: 0.3170, 0_bbox_mAP_s: 0.2820, 0_bbox_mAP_m: 0.4800, 0_bbox_mAP_l: -1.0000, 0_bbox_mAP_copypaste: 0.286 0.474 0.317 0.282 0.480 -1.000\n"
     ]
    },
    {
     "name": "stdout",
     "output_type": "stream",
     "text": [
      "DONE (t=0.84s).\n",
      "Average Precision  (AP) @[ IoU=0.50:0.95 | area=   all | maxDets=100 ] = 0.286\n",
      "Average Precision  (AP) @[ IoU=0.50      | area=   all | maxDets=1000 ] = 0.474\n",
      "Average Precision  (AP) @[ IoU=0.75      | area=   all | maxDets=1000 ] = 0.317\n",
      "Average Precision  (AP) @[ IoU=0.50:0.95 | area= small | maxDets=1000 ] = 0.282\n",
      "Average Precision  (AP) @[ IoU=0.50:0.95 | area=medium | maxDets=1000 ] = 0.480\n",
      "Average Precision  (AP) @[ IoU=0.50:0.95 | area= large | maxDets=1000 ] = -1.000\n",
      "Average Recall     (AR) @[ IoU=0.50:0.95 | area=   all | maxDets=100 ] = 0.354\n",
      "Average Recall     (AR) @[ IoU=0.50:0.95 | area=   all | maxDets=300 ] = 0.354\n",
      "Average Recall     (AR) @[ IoU=0.50:0.95 | area=   all | maxDets=1000 ] = 0.354\n",
      "Average Recall     (AR) @[ IoU=0.50:0.95 | area= small | maxDets=1000 ] = 0.350\n",
      "Average Recall     (AR) @[ IoU=0.50:0.95 | area=medium | maxDets=1000 ] = 0.529\n",
      "Average Recall     (AR) @[ IoU=0.50:0.95 | area= large | maxDets=1000 ] = -1.000\n"
     ]
    },
    {
     "name": "stderr",
     "output_type": "stream",
     "text": [
      "2020-12-30 23:27:14,252 - mmdet - INFO - Epoch [24][50/2001]\tlr: 5.000e-05, eta: 3:37:18, time: 1.402, data_time: 0.058, memory: 6189, loss_rpn_cls: 0.0025, loss_rpn_bbox: 0.0250, loss_cls: 0.0688, acc: 97.1133, loss_bbox: 0.1971, loss: 0.2934\n",
      "2020-12-30 23:28:22,980 - mmdet - INFO - Epoch [24][100/2001]\tlr: 5.000e-05, eta: 3:36:38, time: 1.375, data_time: 0.014, memory: 6189, loss_rpn_cls: 0.0016, loss_rpn_bbox: 0.0274, loss_cls: 0.0657, acc: 97.3066, loss_bbox: 0.1929, loss: 0.2876\n",
      "2020-12-30 23:29:31,573 - mmdet - INFO - Epoch [24][150/2001]\tlr: 5.000e-05, eta: 3:35:58, time: 1.372, data_time: 0.013, memory: 6189, loss_rpn_cls: 0.0014, loss_rpn_bbox: 0.0229, loss_cls: 0.0671, acc: 97.2217, loss_bbox: 0.1914, loss: 0.2829\n",
      "2020-12-30 23:30:40,154 - mmdet - INFO - Epoch [24][200/2001]\tlr: 5.000e-05, eta: 3:35:18, time: 1.372, data_time: 0.014, memory: 6189, loss_rpn_cls: 0.0019, loss_rpn_bbox: 0.0288, loss_cls: 0.0711, acc: 97.0186, loss_bbox: 0.2026, loss: 0.3043\n",
      "2020-12-30 23:31:48,584 - mmdet - INFO - Epoch [24][250/2001]\tlr: 5.000e-05, eta: 3:34:37, time: 1.369, data_time: 0.014, memory: 6189, loss_rpn_cls: 0.0022, loss_rpn_bbox: 0.0253, loss_cls: 0.0692, acc: 97.1543, loss_bbox: 0.1973, loss: 0.2940\n",
      "2020-12-30 23:32:58,259 - mmdet - INFO - Epoch [24][300/2001]\tlr: 5.000e-05, eta: 3:33:57, time: 1.393, data_time: 0.014, memory: 6189, loss_rpn_cls: 0.0018, loss_rpn_bbox: 0.0272, loss_cls: 0.0727, acc: 96.9141, loss_bbox: 0.2004, loss: 0.3021\n",
      "2020-12-30 23:34:07,508 - mmdet - INFO - Epoch [24][350/2001]\tlr: 5.000e-05, eta: 3:33:17, time: 1.385, data_time: 0.014, memory: 6189, loss_rpn_cls: 0.0019, loss_rpn_bbox: 0.0237, loss_cls: 0.0665, acc: 97.2490, loss_bbox: 0.1898, loss: 0.2819\n",
      "2020-12-30 23:35:16,037 - mmdet - INFO - Epoch [24][400/2001]\tlr: 5.000e-05, eta: 3:32:36, time: 1.370, data_time: 0.014, memory: 6189, loss_rpn_cls: 0.0019, loss_rpn_bbox: 0.0263, loss_cls: 0.0692, acc: 97.1084, loss_bbox: 0.1938, loss: 0.2913\n",
      "2020-12-30 23:36:24,702 - mmdet - INFO - Epoch [24][450/2001]\tlr: 5.000e-05, eta: 3:31:56, time: 1.373, data_time: 0.015, memory: 6189, loss_rpn_cls: 0.0021, loss_rpn_bbox: 0.0274, loss_cls: 0.0694, acc: 97.1221, loss_bbox: 0.2013, loss: 0.3002\n",
      "2020-12-30 23:37:33,296 - mmdet - INFO - Epoch [24][500/2001]\tlr: 5.000e-05, eta: 3:31:15, time: 1.372, data_time: 0.015, memory: 6189, loss_rpn_cls: 0.0019, loss_rpn_bbox: 0.0262, loss_cls: 0.0676, acc: 97.1914, loss_bbox: 0.1953, loss: 0.2911\n",
      "2020-12-30 23:38:42,060 - mmdet - INFO - Epoch [24][550/2001]\tlr: 5.000e-05, eta: 3:30:35, time: 1.375, data_time: 0.015, memory: 6189, loss_rpn_cls: 0.0019, loss_rpn_bbox: 0.0253, loss_cls: 0.0678, acc: 97.2422, loss_bbox: 0.1975, loss: 0.2925\n",
      "2020-12-30 23:39:50,890 - mmdet - INFO - Epoch [24][600/2001]\tlr: 5.000e-05, eta: 3:29:54, time: 1.377, data_time: 0.015, memory: 6189, loss_rpn_cls: 0.0025, loss_rpn_bbox: 0.0250, loss_cls: 0.0704, acc: 97.0615, loss_bbox: 0.2041, loss: 0.3021\n",
      "2020-12-30 23:40:59,616 - mmdet - INFO - Epoch [24][650/2001]\tlr: 5.000e-05, eta: 3:29:13, time: 1.375, data_time: 0.015, memory: 6189, loss_rpn_cls: 0.0017, loss_rpn_bbox: 0.0240, loss_cls: 0.0686, acc: 97.1377, loss_bbox: 0.1997, loss: 0.2940\n",
      "2020-12-30 23:42:08,273 - mmdet - INFO - Epoch [24][700/2001]\tlr: 5.000e-05, eta: 3:28:32, time: 1.373, data_time: 0.014, memory: 6189, loss_rpn_cls: 0.0013, loss_rpn_bbox: 0.0246, loss_cls: 0.0659, acc: 97.2559, loss_bbox: 0.1926, loss: 0.2844\n",
      "2020-12-30 23:43:16,961 - mmdet - INFO - Epoch [24][750/2001]\tlr: 5.000e-05, eta: 3:27:52, time: 1.374, data_time: 0.015, memory: 6189, loss_rpn_cls: 0.0021, loss_rpn_bbox: 0.0260, loss_cls: 0.0683, acc: 97.1309, loss_bbox: 0.2002, loss: 0.2966\n",
      "2020-12-30 23:44:25,307 - mmdet - INFO - Epoch [24][800/2001]\tlr: 5.000e-05, eta: 3:27:11, time: 1.366, data_time: 0.014, memory: 6189, loss_rpn_cls: 0.0016, loss_rpn_bbox: 0.0238, loss_cls: 0.0687, acc: 97.1650, loss_bbox: 0.1927, loss: 0.2868\n",
      "2020-12-30 23:45:33,863 - mmdet - INFO - Epoch [24][850/2001]\tlr: 5.000e-05, eta: 3:26:29, time: 1.371, data_time: 0.015, memory: 6189, loss_rpn_cls: 0.0021, loss_rpn_bbox: 0.0253, loss_cls: 0.0690, acc: 97.1338, loss_bbox: 0.1967, loss: 0.2931\n",
      "2020-12-30 23:46:42,164 - mmdet - INFO - Epoch [24][900/2001]\tlr: 5.000e-05, eta: 3:25:48, time: 1.367, data_time: 0.015, memory: 6189, loss_rpn_cls: 0.0020, loss_rpn_bbox: 0.0240, loss_cls: 0.0691, acc: 97.1357, loss_bbox: 0.1949, loss: 0.2900\n",
      "2020-12-30 23:47:51,117 - mmdet - INFO - Epoch [24][950/2001]\tlr: 5.000e-05, eta: 3:25:07, time: 1.378, data_time: 0.014, memory: 6189, loss_rpn_cls: 0.0017, loss_rpn_bbox: 0.0237, loss_cls: 0.0692, acc: 97.1221, loss_bbox: 0.1997, loss: 0.2943\n",
      "2020-12-30 23:48:59,731 - mmdet - INFO - Epoch [24][1000/2001]\tlr: 5.000e-05, eta: 3:24:26, time: 1.373, data_time: 0.015, memory: 6189, loss_rpn_cls: 0.0022, loss_rpn_bbox: 0.0249, loss_cls: 0.0651, acc: 97.3086, loss_bbox: 0.1973, loss: 0.2896\n",
      "2020-12-30 23:50:08,396 - mmdet - INFO - Epoch [24][1050/2001]\tlr: 5.000e-05, eta: 3:23:45, time: 1.373, data_time: 0.014, memory: 6189, loss_rpn_cls: 0.0020, loss_rpn_bbox: 0.0267, loss_cls: 0.0705, acc: 97.0752, loss_bbox: 0.1981, loss: 0.2973\n",
      "2020-12-30 23:51:17,349 - mmdet - INFO - Epoch [24][1100/2001]\tlr: 5.000e-05, eta: 3:23:04, time: 1.379, data_time: 0.014, memory: 6189, loss_rpn_cls: 0.0019, loss_rpn_bbox: 0.0256, loss_cls: 0.0726, acc: 96.9932, loss_bbox: 0.2069, loss: 0.3070\n",
      "2020-12-30 23:52:26,226 - mmdet - INFO - Epoch [24][1150/2001]\tlr: 5.000e-05, eta: 3:22:22, time: 1.377, data_time: 0.014, memory: 6189, loss_rpn_cls: 0.0020, loss_rpn_bbox: 0.0247, loss_cls: 0.0686, acc: 97.1514, loss_bbox: 0.1988, loss: 0.2941\n",
      "2020-12-30 23:53:35,297 - mmdet - INFO - Epoch [24][1200/2001]\tlr: 5.000e-05, eta: 3:21:41, time: 1.381, data_time: 0.015, memory: 6189, loss_rpn_cls: 0.0018, loss_rpn_bbox: 0.0247, loss_cls: 0.0677, acc: 97.1621, loss_bbox: 0.1934, loss: 0.2876\n",
      "2020-12-30 23:54:43,923 - mmdet - INFO - Epoch [24][1250/2001]\tlr: 5.000e-05, eta: 3:21:00, time: 1.373, data_time: 0.014, memory: 6189, loss_rpn_cls: 0.0015, loss_rpn_bbox: 0.0237, loss_cls: 0.0689, acc: 97.1992, loss_bbox: 0.1960, loss: 0.2901\n",
      "2020-12-30 23:55:52,554 - mmdet - INFO - Epoch [24][1300/2001]\tlr: 5.000e-05, eta: 3:20:18, time: 1.374, data_time: 0.015, memory: 6189, loss_rpn_cls: 0.0012, loss_rpn_bbox: 0.0205, loss_cls: 0.0697, acc: 97.1465, loss_bbox: 0.1956, loss: 0.2871\n",
      "2020-12-30 23:57:01,301 - mmdet - INFO - Epoch [24][1350/2001]\tlr: 5.000e-05, eta: 3:19:37, time: 1.375, data_time: 0.013, memory: 6189, loss_rpn_cls: 0.0022, loss_rpn_bbox: 0.0261, loss_cls: 0.0700, acc: 97.1094, loss_bbox: 0.1989, loss: 0.2972\n",
      "2020-12-30 23:58:09,498 - mmdet - INFO - Epoch [24][1400/2001]\tlr: 5.000e-05, eta: 3:18:55, time: 1.365, data_time: 0.014, memory: 6189, loss_rpn_cls: 0.0018, loss_rpn_bbox: 0.0261, loss_cls: 0.0697, acc: 97.1172, loss_bbox: 0.2011, loss: 0.2987\n",
      "2020-12-30 23:58:50,719 - mmdet - INFO - Epoch [24][1450/2001]\tlr: 5.000e-05, eta: 3:18:06, time: 0.825, data_time: 0.012, memory: 6189, loss_rpn_cls: 0.0021, loss_rpn_bbox: 0.0266, loss_cls: 0.0718, acc: 97.0293, loss_bbox: 0.1986, loss: 0.2991\n",
      "2020-12-30 23:59:48,403 - mmdet - INFO - Epoch [24][1500/2001]\tlr: 5.000e-05, eta: 3:17:21, time: 1.151, data_time: 0.012, memory: 6189, loss_rpn_cls: 0.0024, loss_rpn_bbox: 0.0257, loss_cls: 0.0687, acc: 97.1885, loss_bbox: 0.2030, loss: 0.2997\n",
      "2020-12-31 00:00:56,924 - mmdet - INFO - Epoch [24][1550/2001]\tlr: 5.000e-05, eta: 3:16:39, time: 1.371, data_time: 0.014, memory: 6189, loss_rpn_cls: 0.0013, loss_rpn_bbox: 0.0240, loss_cls: 0.0686, acc: 97.1377, loss_bbox: 0.1968, loss: 0.2907\n",
      "2020-12-31 00:02:05,710 - mmdet - INFO - Epoch [24][1600/2001]\tlr: 5.000e-05, eta: 3:15:58, time: 1.375, data_time: 0.014, memory: 6189, loss_rpn_cls: 0.0016, loss_rpn_bbox: 0.0252, loss_cls: 0.0714, acc: 97.0156, loss_bbox: 0.2028, loss: 0.3010\n",
      "2020-12-31 00:03:14,084 - mmdet - INFO - Epoch [24][1650/2001]\tlr: 5.000e-05, eta: 3:15:16, time: 1.367, data_time: 0.014, memory: 6189, loss_rpn_cls: 0.0022, loss_rpn_bbox: 0.0269, loss_cls: 0.0689, acc: 97.1650, loss_bbox: 0.2014, loss: 0.2994\n",
      "2020-12-31 00:04:23,518 - mmdet - INFO - Epoch [24][1700/2001]\tlr: 5.000e-05, eta: 3:14:34, time: 1.389, data_time: 0.015, memory: 6189, loss_rpn_cls: 0.0019, loss_rpn_bbox: 0.0274, loss_cls: 0.0679, acc: 97.1670, loss_bbox: 0.1993, loss: 0.2966\n"
     ]
    },
    {
     "name": "stderr",
     "output_type": "stream",
     "text": [
      "2020-12-31 00:05:32,065 - mmdet - INFO - Epoch [24][1750/2001]\tlr: 5.000e-05, eta: 3:13:52, time: 1.371, data_time: 0.014, memory: 6189, loss_rpn_cls: 0.0019, loss_rpn_bbox: 0.0260, loss_cls: 0.0692, acc: 97.0918, loss_bbox: 0.2011, loss: 0.2982\n",
      "2020-12-31 00:06:40,893 - mmdet - INFO - Epoch [24][1800/2001]\tlr: 5.000e-05, eta: 3:13:10, time: 1.377, data_time: 0.014, memory: 6189, loss_rpn_cls: 0.0025, loss_rpn_bbox: 0.0261, loss_cls: 0.0686, acc: 97.1807, loss_bbox: 0.1974, loss: 0.2945\n",
      "2020-12-31 00:07:49,466 - mmdet - INFO - Epoch [24][1850/2001]\tlr: 5.000e-05, eta: 3:12:28, time: 1.371, data_time: 0.014, memory: 6189, loss_rpn_cls: 0.0022, loss_rpn_bbox: 0.0263, loss_cls: 0.0680, acc: 97.1895, loss_bbox: 0.2009, loss: 0.2974\n",
      "2020-12-31 00:08:57,990 - mmdet - INFO - Epoch [24][1900/2001]\tlr: 5.000e-05, eta: 3:11:46, time: 1.370, data_time: 0.014, memory: 6189, loss_rpn_cls: 0.0018, loss_rpn_bbox: 0.0273, loss_cls: 0.0689, acc: 97.1523, loss_bbox: 0.2021, loss: 0.3001\n",
      "2020-12-31 00:10:06,396 - mmdet - INFO - Epoch [24][1950/2001]\tlr: 5.000e-05, eta: 3:11:03, time: 1.368, data_time: 0.014, memory: 6189, loss_rpn_cls: 0.0019, loss_rpn_bbox: 0.0254, loss_cls: 0.0703, acc: 97.1006, loss_bbox: 0.1964, loss: 0.2940\n",
      "2020-12-31 00:11:14,880 - mmdet - INFO - Epoch [24][2000/2001]\tlr: 5.000e-05, eta: 3:10:21, time: 1.370, data_time: 0.014, memory: 6189, loss_rpn_cls: 0.0024, loss_rpn_bbox: 0.0264, loss_cls: 0.0683, acc: 97.2148, loss_bbox: 0.1986, loss: 0.2958\n",
      "2020-12-31 00:11:16,095 - mmdet - INFO - Saving checkpoint at 24 epochs\n"
     ]
    },
    {
     "name": "stdout",
     "output_type": "stream",
     "text": [
      "[>>>>>>>>>>>>>>>>>>>>>>>>>>>] 2013/2013, 5.8 task/s, elapsed: 346s, ETA:     0s"
     ]
    },
    {
     "name": "stderr",
     "output_type": "stream",
     "text": [
      "2020-12-31 00:17:02,406 - mmdet - INFO - \n",
      "Evaluateing mmdet/valid_44.json with 2013 images now\n",
      "2020-12-31 00:17:03,225 - mmdet - INFO - Evaluating bbox...\n"
     ]
    },
    {
     "name": "stdout",
     "output_type": "stream",
     "text": [
      "Loading and preparing results...\n",
      "DONE (t=0.14s)\n",
      "creating index...\n",
      "index created!\n",
      "Running per image evaluation...\n",
      "Evaluate annotation type *bbox*\n",
      "DONE (t=18.63s).\n",
      "Accumulating evaluation results...\n"
     ]
    },
    {
     "name": "stderr",
     "output_type": "stream",
     "text": [
      "2020-12-31 00:17:22,907 - mmdet - INFO - Epoch(val) [24][2001]\t0_bbox_mAP: 0.2880, 0_bbox_mAP_50: 0.4770, 0_bbox_mAP_75: 0.3200, 0_bbox_mAP_s: 0.2850, 0_bbox_mAP_m: 0.4780, 0_bbox_mAP_l: -1.0000, 0_bbox_mAP_copypaste: 0.288 0.477 0.320 0.285 0.478 -1.000\n"
     ]
    },
    {
     "name": "stdout",
     "output_type": "stream",
     "text": [
      "DONE (t=0.82s).\n",
      "Average Precision  (AP) @[ IoU=0.50:0.95 | area=   all | maxDets=100 ] = 0.288\n",
      "Average Precision  (AP) @[ IoU=0.50      | area=   all | maxDets=1000 ] = 0.477\n",
      "Average Precision  (AP) @[ IoU=0.75      | area=   all | maxDets=1000 ] = 0.320\n",
      "Average Precision  (AP) @[ IoU=0.50:0.95 | area= small | maxDets=1000 ] = 0.285\n",
      "Average Precision  (AP) @[ IoU=0.50:0.95 | area=medium | maxDets=1000 ] = 0.478\n",
      "Average Precision  (AP) @[ IoU=0.50:0.95 | area= large | maxDets=1000 ] = -1.000\n",
      "Average Recall     (AR) @[ IoU=0.50:0.95 | area=   all | maxDets=100 ] = 0.356\n",
      "Average Recall     (AR) @[ IoU=0.50:0.95 | area=   all | maxDets=300 ] = 0.356\n",
      "Average Recall     (AR) @[ IoU=0.50:0.95 | area=   all | maxDets=1000 ] = 0.356\n",
      "Average Recall     (AR) @[ IoU=0.50:0.95 | area= small | maxDets=1000 ] = 0.352\n",
      "Average Recall     (AR) @[ IoU=0.50:0.95 | area=medium | maxDets=1000 ] = 0.526\n",
      "Average Recall     (AR) @[ IoU=0.50:0.95 | area= large | maxDets=1000 ] = -1.000\n"
     ]
    },
    {
     "name": "stderr",
     "output_type": "stream",
     "text": [
      "2020-12-31 00:18:33,749 - mmdet - INFO - Epoch [25][50/2001]\tlr: 5.000e-05, eta: 3:09:38, time: 1.411, data_time: 0.057, memory: 6189, loss_rpn_cls: 0.0017, loss_rpn_bbox: 0.0261, loss_cls: 0.0695, acc: 97.1250, loss_bbox: 0.1972, loss: 0.2946\n",
      "2020-12-31 00:19:42,448 - mmdet - INFO - Epoch [25][100/2001]\tlr: 5.000e-05, eta: 3:08:56, time: 1.374, data_time: 0.014, memory: 6189, loss_rpn_cls: 0.0022, loss_rpn_bbox: 0.0268, loss_cls: 0.0691, acc: 97.1592, loss_bbox: 0.1984, loss: 0.2966\n",
      "2020-12-31 00:20:51,491 - mmdet - INFO - Epoch [25][150/2001]\tlr: 5.000e-05, eta: 3:08:13, time: 1.380, data_time: 0.014, memory: 6189, loss_rpn_cls: 0.0021, loss_rpn_bbox: 0.0245, loss_cls: 0.0668, acc: 97.2305, loss_bbox: 0.1916, loss: 0.2849\n",
      "2020-12-31 00:22:00,645 - mmdet - INFO - Epoch [25][200/2001]\tlr: 5.000e-05, eta: 3:07:31, time: 1.384, data_time: 0.015, memory: 6189, loss_rpn_cls: 0.0018, loss_rpn_bbox: 0.0272, loss_cls: 0.0679, acc: 97.1709, loss_bbox: 0.1950, loss: 0.2919\n",
      "2020-12-31 00:23:09,032 - mmdet - INFO - Epoch [25][250/2001]\tlr: 5.000e-05, eta: 3:06:48, time: 1.367, data_time: 0.014, memory: 6189, loss_rpn_cls: 0.0021, loss_rpn_bbox: 0.0245, loss_cls: 0.0688, acc: 97.1416, loss_bbox: 0.2013, loss: 0.2967\n",
      "2020-12-31 00:24:17,552 - mmdet - INFO - Epoch [25][300/2001]\tlr: 5.000e-05, eta: 3:06:06, time: 1.371, data_time: 0.014, memory: 6189, loss_rpn_cls: 0.0017, loss_rpn_bbox: 0.0236, loss_cls: 0.0686, acc: 97.1670, loss_bbox: 0.1952, loss: 0.2891\n",
      "2020-12-31 00:25:26,505 - mmdet - INFO - Epoch [25][350/2001]\tlr: 5.000e-05, eta: 3:05:23, time: 1.378, data_time: 0.013, memory: 6189, loss_rpn_cls: 0.0020, loss_rpn_bbox: 0.0255, loss_cls: 0.0667, acc: 97.2383, loss_bbox: 0.1954, loss: 0.2895\n",
      "2020-12-31 00:26:35,340 - mmdet - INFO - Epoch [25][400/2001]\tlr: 5.000e-05, eta: 3:04:41, time: 1.377, data_time: 0.014, memory: 6189, loss_rpn_cls: 0.0019, loss_rpn_bbox: 0.0255, loss_cls: 0.0682, acc: 97.2363, loss_bbox: 0.1975, loss: 0.2931\n",
      "2020-12-31 00:27:44,145 - mmdet - INFO - Epoch [25][450/2001]\tlr: 5.000e-05, eta: 3:03:58, time: 1.376, data_time: 0.013, memory: 6189, loss_rpn_cls: 0.0019, loss_rpn_bbox: 0.0255, loss_cls: 0.0693, acc: 97.0830, loss_bbox: 0.1970, loss: 0.2937\n",
      "2020-12-31 00:28:52,827 - mmdet - INFO - Epoch [25][500/2001]\tlr: 5.000e-05, eta: 3:03:15, time: 1.374, data_time: 0.014, memory: 6189, loss_rpn_cls: 0.0018, loss_rpn_bbox: 0.0256, loss_cls: 0.0695, acc: 97.1260, loss_bbox: 0.2033, loss: 0.3002\n",
      "2020-12-31 00:30:01,581 - mmdet - INFO - Epoch [25][550/2001]\tlr: 5.000e-05, eta: 3:02:32, time: 1.375, data_time: 0.013, memory: 6189, loss_rpn_cls: 0.0015, loss_rpn_bbox: 0.0248, loss_cls: 0.0655, acc: 97.2324, loss_bbox: 0.1920, loss: 0.2838\n",
      "2020-12-31 00:31:03,408 - mmdet - INFO - Epoch [25][600/2001]\tlr: 5.000e-05, eta: 3:01:48, time: 1.238, data_time: 0.014, memory: 6189, loss_rpn_cls: 0.0022, loss_rpn_bbox: 0.0260, loss_cls: 0.0706, acc: 97.0908, loss_bbox: 0.2032, loss: 0.3020\n",
      "2020-12-31 00:31:44,266 - mmdet - INFO - Epoch [25][650/2001]\tlr: 5.000e-05, eta: 3:00:58, time: 0.817, data_time: 0.011, memory: 6189, loss_rpn_cls: 0.0026, loss_rpn_bbox: 0.0242, loss_cls: 0.0672, acc: 97.2510, loss_bbox: 0.1968, loss: 0.2909\n",
      "2020-12-31 00:32:25,264 - mmdet - INFO - Epoch [25][700/2001]\tlr: 5.000e-05, eta: 3:00:09, time: 0.820, data_time: 0.011, memory: 6189, loss_rpn_cls: 0.0015, loss_rpn_bbox: 0.0262, loss_cls: 0.0702, acc: 97.0986, loss_bbox: 0.2010, loss: 0.2989\n",
      "2020-12-31 00:33:06,190 - mmdet - INFO - Epoch [25][750/2001]\tlr: 5.000e-05, eta: 2:59:19, time: 0.818, data_time: 0.011, memory: 6189, loss_rpn_cls: 0.0017, loss_rpn_bbox: 0.0249, loss_cls: 0.0693, acc: 97.1318, loss_bbox: 0.1984, loss: 0.2943\n",
      "2020-12-31 00:33:47,169 - mmdet - INFO - Epoch [25][800/2001]\tlr: 5.000e-05, eta: 2:58:30, time: 0.820, data_time: 0.011, memory: 6189, loss_rpn_cls: 0.0019, loss_rpn_bbox: 0.0266, loss_cls: 0.0691, acc: 97.1689, loss_bbox: 0.2000, loss: 0.2976\n",
      "2020-12-31 00:34:28,114 - mmdet - INFO - Epoch [25][850/2001]\tlr: 5.000e-05, eta: 2:57:41, time: 0.819, data_time: 0.011, memory: 6189, loss_rpn_cls: 0.0020, loss_rpn_bbox: 0.0264, loss_cls: 0.0704, acc: 97.0693, loss_bbox: 0.2007, loss: 0.2995\n",
      "2020-12-31 00:35:09,071 - mmdet - INFO - Epoch [25][900/2001]\tlr: 5.000e-05, eta: 2:56:51, time: 0.819, data_time: 0.011, memory: 6189, loss_rpn_cls: 0.0021, loss_rpn_bbox: 0.0270, loss_cls: 0.0694, acc: 97.1621, loss_bbox: 0.2030, loss: 0.3015\n",
      "2020-12-31 00:35:50,041 - mmdet - INFO - Epoch [25][950/2001]\tlr: 5.000e-05, eta: 2:56:02, time: 0.819, data_time: 0.011, memory: 6189, loss_rpn_cls: 0.0021, loss_rpn_bbox: 0.0269, loss_cls: 0.0687, acc: 97.1592, loss_bbox: 0.1966, loss: 0.2943\n",
      "2020-12-31 00:36:31,033 - mmdet - INFO - Epoch [25][1000/2001]\tlr: 5.000e-05, eta: 2:55:13, time: 0.820, data_time: 0.011, memory: 6189, loss_rpn_cls: 0.0021, loss_rpn_bbox: 0.0244, loss_cls: 0.0695, acc: 97.1172, loss_bbox: 0.2021, loss: 0.2981\n",
      "2020-12-31 00:37:11,947 - mmdet - INFO - Epoch [25][1050/2001]\tlr: 5.000e-05, eta: 2:54:24, time: 0.818, data_time: 0.011, memory: 6189, loss_rpn_cls: 0.0023, loss_rpn_bbox: 0.0259, loss_cls: 0.0685, acc: 97.1777, loss_bbox: 0.2023, loss: 0.2989\n",
      "2020-12-31 00:37:53,120 - mmdet - INFO - Epoch [25][1100/2001]\tlr: 5.000e-05, eta: 2:53:34, time: 0.823, data_time: 0.011, memory: 6189, loss_rpn_cls: 0.0021, loss_rpn_bbox: 0.0248, loss_cls: 0.0695, acc: 97.1221, loss_bbox: 0.2005, loss: 0.2969\n",
      "2020-12-31 00:38:34,087 - mmdet - INFO - Epoch [25][1150/2001]\tlr: 5.000e-05, eta: 2:52:45, time: 0.819, data_time: 0.011, memory: 6189, loss_rpn_cls: 0.0019, loss_rpn_bbox: 0.0262, loss_cls: 0.0685, acc: 97.1025, loss_bbox: 0.1963, loss: 0.2928\n",
      "2020-12-31 00:39:15,047 - mmdet - INFO - Epoch [25][1200/2001]\tlr: 5.000e-05, eta: 2:51:56, time: 0.819, data_time: 0.011, memory: 6189, loss_rpn_cls: 0.0015, loss_rpn_bbox: 0.0255, loss_cls: 0.0679, acc: 97.1934, loss_bbox: 0.1979, loss: 0.2928\n",
      "2020-12-31 00:39:55,997 - mmdet - INFO - Epoch [25][1250/2001]\tlr: 5.000e-05, eta: 2:51:07, time: 0.819, data_time: 0.011, memory: 6189, loss_rpn_cls: 0.0020, loss_rpn_bbox: 0.0253, loss_cls: 0.0699, acc: 97.1553, loss_bbox: 0.2010, loss: 0.2982\n",
      "2020-12-31 00:40:37,067 - mmdet - INFO - Epoch [25][1300/2001]\tlr: 5.000e-05, eta: 2:50:17, time: 0.821, data_time: 0.011, memory: 6189, loss_rpn_cls: 0.0018, loss_rpn_bbox: 0.0260, loss_cls: 0.0674, acc: 97.2520, loss_bbox: 0.1950, loss: 0.2902\n",
      "2020-12-31 00:41:18,126 - mmdet - INFO - Epoch [25][1350/2001]\tlr: 5.000e-05, eta: 2:49:28, time: 0.821, data_time: 0.011, memory: 6189, loss_rpn_cls: 0.0019, loss_rpn_bbox: 0.0267, loss_cls: 0.0684, acc: 97.1475, loss_bbox: 0.1991, loss: 0.2961\n",
      "2020-12-31 00:41:59,096 - mmdet - INFO - Epoch [25][1400/2001]\tlr: 5.000e-05, eta: 2:48:39, time: 0.819, data_time: 0.011, memory: 6189, loss_rpn_cls: 0.0021, loss_rpn_bbox: 0.0239, loss_cls: 0.0694, acc: 97.0957, loss_bbox: 0.1969, loss: 0.2924\n",
      "2020-12-31 00:42:40,057 - mmdet - INFO - Epoch [25][1450/2001]\tlr: 5.000e-05, eta: 2:47:50, time: 0.819, data_time: 0.011, memory: 6189, loss_rpn_cls: 0.0018, loss_rpn_bbox: 0.0255, loss_cls: 0.0681, acc: 97.2129, loss_bbox: 0.1922, loss: 0.2876\n",
      "2020-12-31 00:43:21,022 - mmdet - INFO - Epoch [25][1500/2001]\tlr: 5.000e-05, eta: 2:47:01, time: 0.819, data_time: 0.011, memory: 6189, loss_rpn_cls: 0.0021, loss_rpn_bbox: 0.0266, loss_cls: 0.0678, acc: 97.2119, loss_bbox: 0.1985, loss: 0.2950\n",
      "2020-12-31 00:44:01,963 - mmdet - INFO - Epoch [25][1550/2001]\tlr: 5.000e-05, eta: 2:46:12, time: 0.819, data_time: 0.011, memory: 6189, loss_rpn_cls: 0.0018, loss_rpn_bbox: 0.0259, loss_cls: 0.0702, acc: 97.1113, loss_bbox: 0.1989, loss: 0.2968\n",
      "2020-12-31 00:44:42,901 - mmdet - INFO - Epoch [25][1600/2001]\tlr: 5.000e-05, eta: 2:45:23, time: 0.819, data_time: 0.011, memory: 6189, loss_rpn_cls: 0.0019, loss_rpn_bbox: 0.0244, loss_cls: 0.0701, acc: 97.1055, loss_bbox: 0.2013, loss: 0.2978\n",
      "2020-12-31 00:45:23,898 - mmdet - INFO - Epoch [25][1650/2001]\tlr: 5.000e-05, eta: 2:44:34, time: 0.820, data_time: 0.011, memory: 6189, loss_rpn_cls: 0.0019, loss_rpn_bbox: 0.0243, loss_cls: 0.0684, acc: 97.1719, loss_bbox: 0.1963, loss: 0.2909\n",
      "2020-12-31 00:46:04,944 - mmdet - INFO - Epoch [25][1700/2001]\tlr: 5.000e-05, eta: 2:43:45, time: 0.821, data_time: 0.011, memory: 6189, loss_rpn_cls: 0.0019, loss_rpn_bbox: 0.0240, loss_cls: 0.0671, acc: 97.1846, loss_bbox: 0.1923, loss: 0.2854\n"
     ]
    },
    {
     "name": "stderr",
     "output_type": "stream",
     "text": [
      "2020-12-31 00:46:46,016 - mmdet - INFO - Epoch [25][1750/2001]\tlr: 5.000e-05, eta: 2:42:55, time: 0.821, data_time: 0.011, memory: 6189, loss_rpn_cls: 0.0014, loss_rpn_bbox: 0.0239, loss_cls: 0.0666, acc: 97.2461, loss_bbox: 0.1957, loss: 0.2876\n",
      "2020-12-31 00:47:26,980 - mmdet - INFO - Epoch [25][1800/2001]\tlr: 5.000e-05, eta: 2:42:06, time: 0.819, data_time: 0.011, memory: 6189, loss_rpn_cls: 0.0019, loss_rpn_bbox: 0.0265, loss_cls: 0.0693, acc: 97.1436, loss_bbox: 0.2012, loss: 0.2989\n",
      "2020-12-31 00:48:07,954 - mmdet - INFO - Epoch [25][1850/2001]\tlr: 5.000e-05, eta: 2:41:17, time: 0.819, data_time: 0.011, memory: 6189, loss_rpn_cls: 0.0020, loss_rpn_bbox: 0.0234, loss_cls: 0.0704, acc: 97.0986, loss_bbox: 0.1988, loss: 0.2946\n",
      "2020-12-31 00:48:48,912 - mmdet - INFO - Epoch [25][1900/2001]\tlr: 5.000e-05, eta: 2:40:28, time: 0.819, data_time: 0.011, memory: 6189, loss_rpn_cls: 0.0019, loss_rpn_bbox: 0.0254, loss_cls: 0.0670, acc: 97.2676, loss_bbox: 0.1974, loss: 0.2916\n",
      "2020-12-31 00:49:29,842 - mmdet - INFO - Epoch [25][1950/2001]\tlr: 5.000e-05, eta: 2:39:39, time: 0.819, data_time: 0.011, memory: 6189, loss_rpn_cls: 0.0019, loss_rpn_bbox: 0.0240, loss_cls: 0.0686, acc: 97.1172, loss_bbox: 0.1960, loss: 0.2905\n",
      "2020-12-31 00:50:10,825 - mmdet - INFO - Epoch [25][2000/2001]\tlr: 5.000e-05, eta: 2:38:50, time: 0.820, data_time: 0.011, memory: 6189, loss_rpn_cls: 0.0020, loss_rpn_bbox: 0.0254, loss_cls: 0.0705, acc: 97.0986, loss_bbox: 0.2058, loss: 0.3038\n",
      "2020-12-31 00:50:11,530 - mmdet - INFO - Saving checkpoint at 25 epochs\n"
     ]
    },
    {
     "name": "stdout",
     "output_type": "stream",
     "text": [
      "[>>>>>>>>>>>>>>>>>>>>>>>>>>] 2013/2013, 11.0 task/s, elapsed: 183s, ETA:     0s"
     ]
    },
    {
     "name": "stderr",
     "output_type": "stream",
     "text": [
      "2020-12-31 00:53:15,025 - mmdet - INFO - \n",
      "Evaluateing mmdet/valid_44.json with 2013 images now\n",
      "2020-12-31 00:53:15,601 - mmdet - INFO - Evaluating bbox...\n"
     ]
    },
    {
     "name": "stdout",
     "output_type": "stream",
     "text": [
      "Loading and preparing results...\n",
      "DONE (t=0.12s)\n",
      "creating index...\n",
      "index created!\n",
      "Running per image evaluation...\n",
      "Evaluate annotation type *bbox*\n",
      "DONE (t=16.51s).\n",
      "Accumulating evaluation results...\n"
     ]
    },
    {
     "name": "stderr",
     "output_type": "stream",
     "text": [
      "2020-12-31 00:53:33,361 - mmdet - INFO - Epoch(val) [25][2001]\t0_bbox_mAP: 0.2850, 0_bbox_mAP_50: 0.4730, 0_bbox_mAP_75: 0.3170, 0_bbox_mAP_s: 0.2810, 0_bbox_mAP_m: 0.4780, 0_bbox_mAP_l: -1.0000, 0_bbox_mAP_copypaste: 0.285 0.473 0.317 0.281 0.478 -1.000\n"
     ]
    },
    {
     "name": "stdout",
     "output_type": "stream",
     "text": [
      "DONE (t=1.05s).\n",
      "Average Precision  (AP) @[ IoU=0.50:0.95 | area=   all | maxDets=100 ] = 0.285\n",
      "Average Precision  (AP) @[ IoU=0.50      | area=   all | maxDets=1000 ] = 0.473\n",
      "Average Precision  (AP) @[ IoU=0.75      | area=   all | maxDets=1000 ] = 0.317\n",
      "Average Precision  (AP) @[ IoU=0.50:0.95 | area= small | maxDets=1000 ] = 0.281\n",
      "Average Precision  (AP) @[ IoU=0.50:0.95 | area=medium | maxDets=1000 ] = 0.478\n",
      "Average Precision  (AP) @[ IoU=0.50:0.95 | area= large | maxDets=1000 ] = -1.000\n",
      "Average Recall     (AR) @[ IoU=0.50:0.95 | area=   all | maxDets=100 ] = 0.353\n",
      "Average Recall     (AR) @[ IoU=0.50:0.95 | area=   all | maxDets=300 ] = 0.353\n",
      "Average Recall     (AR) @[ IoU=0.50:0.95 | area=   all | maxDets=1000 ] = 0.353\n",
      "Average Recall     (AR) @[ IoU=0.50:0.95 | area= small | maxDets=1000 ] = 0.349\n",
      "Average Recall     (AR) @[ IoU=0.50:0.95 | area=medium | maxDets=1000 ] = 0.527\n",
      "Average Recall     (AR) @[ IoU=0.50:0.95 | area= large | maxDets=1000 ] = -1.000\n"
     ]
    },
    {
     "name": "stderr",
     "output_type": "stream",
     "text": [
      "2020-12-31 00:54:16,782 - mmdet - INFO - Epoch [26][50/2001]\tlr: 5.000e-05, eta: 2:38:01, time: 0.864, data_time: 0.057, memory: 6189, loss_rpn_cls: 0.0023, loss_rpn_bbox: 0.0266, loss_cls: 0.0672, acc: 97.2510, loss_bbox: 0.2012, loss: 0.2973\n",
      "2020-12-31 00:54:57,739 - mmdet - INFO - Epoch [26][100/2001]\tlr: 5.000e-05, eta: 2:37:12, time: 0.819, data_time: 0.011, memory: 6189, loss_rpn_cls: 0.0016, loss_rpn_bbox: 0.0247, loss_cls: 0.0678, acc: 97.1689, loss_bbox: 0.1971, loss: 0.2913\n",
      "2020-12-31 00:55:38,719 - mmdet - INFO - Epoch [26][150/2001]\tlr: 5.000e-05, eta: 2:36:23, time: 0.820, data_time: 0.010, memory: 6189, loss_rpn_cls: 0.0022, loss_rpn_bbox: 0.0244, loss_cls: 0.0664, acc: 97.3047, loss_bbox: 0.1950, loss: 0.2880\n",
      "2020-12-31 00:56:19,700 - mmdet - INFO - Epoch [26][200/2001]\tlr: 5.000e-05, eta: 2:35:34, time: 0.820, data_time: 0.011, memory: 6189, loss_rpn_cls: 0.0013, loss_rpn_bbox: 0.0258, loss_cls: 0.0685, acc: 97.1992, loss_bbox: 0.1965, loss: 0.2921\n",
      "2020-12-31 00:57:00,829 - mmdet - INFO - Epoch [26][250/2001]\tlr: 5.000e-05, eta: 2:34:45, time: 0.823, data_time: 0.010, memory: 6189, loss_rpn_cls: 0.0019, loss_rpn_bbox: 0.0258, loss_cls: 0.0679, acc: 97.1826, loss_bbox: 0.1999, loss: 0.2955\n",
      "2020-12-31 00:57:41,887 - mmdet - INFO - Epoch [26][300/2001]\tlr: 5.000e-05, eta: 2:33:56, time: 0.821, data_time: 0.011, memory: 6189, loss_rpn_cls: 0.0022, loss_rpn_bbox: 0.0261, loss_cls: 0.0687, acc: 97.1436, loss_bbox: 0.1949, loss: 0.2919\n",
      "2020-12-31 00:58:22,791 - mmdet - INFO - Epoch [26][350/2001]\tlr: 5.000e-05, eta: 2:33:08, time: 0.818, data_time: 0.011, memory: 6189, loss_rpn_cls: 0.0021, loss_rpn_bbox: 0.0253, loss_cls: 0.0729, acc: 96.9775, loss_bbox: 0.2060, loss: 0.3063\n",
      "2020-12-31 00:59:04,030 - mmdet - INFO - Epoch [26][400/2001]\tlr: 5.000e-05, eta: 2:32:19, time: 0.825, data_time: 0.011, memory: 6189, loss_rpn_cls: 0.0013, loss_rpn_bbox: 0.0230, loss_cls: 0.0677, acc: 97.1943, loss_bbox: 0.1953, loss: 0.2873\n",
      "2020-12-31 00:59:44,885 - mmdet - INFO - Epoch [26][450/2001]\tlr: 5.000e-05, eta: 2:31:30, time: 0.817, data_time: 0.011, memory: 6189, loss_rpn_cls: 0.0021, loss_rpn_bbox: 0.0257, loss_cls: 0.0705, acc: 97.0742, loss_bbox: 0.1974, loss: 0.2957\n",
      "2020-12-31 01:00:25,865 - mmdet - INFO - Epoch [26][500/2001]\tlr: 5.000e-05, eta: 2:30:41, time: 0.820, data_time: 0.011, memory: 6189, loss_rpn_cls: 0.0015, loss_rpn_bbox: 0.0248, loss_cls: 0.0675, acc: 97.1934, loss_bbox: 0.1928, loss: 0.2866\n",
      "2020-12-31 01:01:06,815 - mmdet - INFO - Epoch [26][550/2001]\tlr: 5.000e-05, eta: 2:29:52, time: 0.819, data_time: 0.011, memory: 6189, loss_rpn_cls: 0.0019, loss_rpn_bbox: 0.0236, loss_cls: 0.0675, acc: 97.1934, loss_bbox: 0.1953, loss: 0.2883\n",
      "2020-12-31 01:01:47,767 - mmdet - INFO - Epoch [26][600/2001]\tlr: 5.000e-05, eta: 2:29:03, time: 0.819, data_time: 0.011, memory: 6189, loss_rpn_cls: 0.0024, loss_rpn_bbox: 0.0239, loss_cls: 0.0685, acc: 97.1553, loss_bbox: 0.1976, loss: 0.2925\n",
      "2020-12-31 01:02:28,724 - mmdet - INFO - Epoch [26][650/2001]\tlr: 5.000e-05, eta: 2:28:15, time: 0.819, data_time: 0.011, memory: 6189, loss_rpn_cls: 0.0025, loss_rpn_bbox: 0.0255, loss_cls: 0.0706, acc: 97.1348, loss_bbox: 0.1989, loss: 0.2975\n",
      "2020-12-31 01:03:09,705 - mmdet - INFO - Epoch [26][700/2001]\tlr: 5.000e-05, eta: 2:27:26, time: 0.820, data_time: 0.011, memory: 6189, loss_rpn_cls: 0.0023, loss_rpn_bbox: 0.0253, loss_cls: 0.0683, acc: 97.2256, loss_bbox: 0.1934, loss: 0.2894\n",
      "2020-12-31 01:03:50,654 - mmdet - INFO - Epoch [26][750/2001]\tlr: 5.000e-05, eta: 2:26:37, time: 0.819, data_time: 0.011, memory: 6189, loss_rpn_cls: 0.0020, loss_rpn_bbox: 0.0267, loss_cls: 0.0708, acc: 97.0889, loss_bbox: 0.2027, loss: 0.3022\n",
      "2020-12-31 01:04:31,611 - mmdet - INFO - Epoch [26][800/2001]\tlr: 5.000e-05, eta: 2:25:49, time: 0.819, data_time: 0.011, memory: 6189, loss_rpn_cls: 0.0024, loss_rpn_bbox: 0.0236, loss_cls: 0.0680, acc: 97.1514, loss_bbox: 0.1934, loss: 0.2875\n",
      "2020-12-31 01:05:12,608 - mmdet - INFO - Epoch [26][850/2001]\tlr: 5.000e-05, eta: 2:25:00, time: 0.820, data_time: 0.011, memory: 6189, loss_rpn_cls: 0.0019, loss_rpn_bbox: 0.0253, loss_cls: 0.0696, acc: 97.1357, loss_bbox: 0.1955, loss: 0.2923\n",
      "2020-12-31 01:05:53,536 - mmdet - INFO - Epoch [26][900/2001]\tlr: 5.000e-05, eta: 2:24:11, time: 0.819, data_time: 0.011, memory: 6189, loss_rpn_cls: 0.0016, loss_rpn_bbox: 0.0271, loss_cls: 0.0697, acc: 97.1826, loss_bbox: 0.1985, loss: 0.2968\n",
      "2020-12-31 01:06:34,714 - mmdet - INFO - Epoch [26][950/2001]\tlr: 5.000e-05, eta: 2:23:22, time: 0.824, data_time: 0.011, memory: 6189, loss_rpn_cls: 0.0021, loss_rpn_bbox: 0.0256, loss_cls: 0.0653, acc: 97.2676, loss_bbox: 0.1898, loss: 0.2828\n",
      "2020-12-31 01:07:15,705 - mmdet - INFO - Epoch [26][1000/2001]\tlr: 5.000e-05, eta: 2:22:34, time: 0.820, data_time: 0.011, memory: 6189, loss_rpn_cls: 0.0022, loss_rpn_bbox: 0.0279, loss_cls: 0.0658, acc: 97.1865, loss_bbox: 0.1985, loss: 0.2944\n",
      "2020-12-31 01:07:56,624 - mmdet - INFO - Epoch [26][1050/2001]\tlr: 5.000e-05, eta: 2:21:45, time: 0.818, data_time: 0.011, memory: 6189, loss_rpn_cls: 0.0023, loss_rpn_bbox: 0.0270, loss_cls: 0.0657, acc: 97.2754, loss_bbox: 0.1968, loss: 0.2918\n",
      "2020-12-31 01:08:37,571 - mmdet - INFO - Epoch [26][1100/2001]\tlr: 5.000e-05, eta: 2:20:57, time: 0.819, data_time: 0.011, memory: 6189, loss_rpn_cls: 0.0015, loss_rpn_bbox: 0.0261, loss_cls: 0.0670, acc: 97.2109, loss_bbox: 0.1949, loss: 0.2895\n",
      "2020-12-31 01:09:18,579 - mmdet - INFO - Epoch [26][1150/2001]\tlr: 5.000e-05, eta: 2:20:08, time: 0.820, data_time: 0.011, memory: 6189, loss_rpn_cls: 0.0024, loss_rpn_bbox: 0.0238, loss_cls: 0.0659, acc: 97.2695, loss_bbox: 0.1923, loss: 0.2844\n",
      "2020-12-31 01:09:59,513 - mmdet - INFO - Epoch [26][1200/2001]\tlr: 5.000e-05, eta: 2:19:19, time: 0.819, data_time: 0.011, memory: 6189, loss_rpn_cls: 0.0018, loss_rpn_bbox: 0.0251, loss_cls: 0.0687, acc: 97.1445, loss_bbox: 0.1967, loss: 0.2923\n",
      "2020-12-31 01:10:40,471 - mmdet - INFO - Epoch [26][1250/2001]\tlr: 5.000e-05, eta: 2:18:31, time: 0.819, data_time: 0.011, memory: 6189, loss_rpn_cls: 0.0023, loss_rpn_bbox: 0.0263, loss_cls: 0.0691, acc: 97.1660, loss_bbox: 0.2005, loss: 0.2981\n",
      "2020-12-31 01:11:21,432 - mmdet - INFO - Epoch [26][1300/2001]\tlr: 5.000e-05, eta: 2:17:42, time: 0.819, data_time: 0.011, memory: 6189, loss_rpn_cls: 0.0020, loss_rpn_bbox: 0.0254, loss_cls: 0.0680, acc: 97.1543, loss_bbox: 0.1959, loss: 0.2913\n",
      "2020-12-31 01:12:02,389 - mmdet - INFO - Epoch [26][1350/2001]\tlr: 5.000e-05, eta: 2:16:54, time: 0.819, data_time: 0.011, memory: 6189, loss_rpn_cls: 0.0023, loss_rpn_bbox: 0.0262, loss_cls: 0.0705, acc: 97.0840, loss_bbox: 0.2053, loss: 0.3043\n",
      "2020-12-31 01:12:46,573 - mmdet - INFO - Epoch [26][1400/2001]\tlr: 5.000e-05, eta: 2:16:06, time: 0.882, data_time: 0.011, memory: 6189, loss_rpn_cls: 0.0020, loss_rpn_bbox: 0.0269, loss_cls: 0.0692, acc: 97.1377, loss_bbox: 0.2012, loss: 0.2993\n",
      "2020-12-31 01:13:55,382 - mmdet - INFO - Epoch [26][1450/2001]\tlr: 5.000e-05, eta: 2:15:22, time: 1.376, data_time: 0.013, memory: 6189, loss_rpn_cls: 0.0018, loss_rpn_bbox: 0.0271, loss_cls: 0.0706, acc: 97.0205, loss_bbox: 0.1987, loss: 0.2981\n",
      "2020-12-31 01:15:04,013 - mmdet - INFO - Epoch [26][1500/2001]\tlr: 5.000e-05, eta: 2:14:38, time: 1.373, data_time: 0.014, memory: 6189, loss_rpn_cls: 0.0021, loss_rpn_bbox: 0.0239, loss_cls: 0.0705, acc: 97.0859, loss_bbox: 0.1989, loss: 0.2953\n",
      "2020-12-31 01:16:12,319 - mmdet - INFO - Epoch [26][1550/2001]\tlr: 5.000e-05, eta: 2:13:54, time: 1.365, data_time: 0.013, memory: 6189, loss_rpn_cls: 0.0019, loss_rpn_bbox: 0.0249, loss_cls: 0.0707, acc: 97.0820, loss_bbox: 0.2002, loss: 0.2976\n",
      "2020-12-31 01:17:20,542 - mmdet - INFO - Epoch [26][1600/2001]\tlr: 5.000e-05, eta: 2:13:10, time: 1.365, data_time: 0.014, memory: 6189, loss_rpn_cls: 0.0023, loss_rpn_bbox: 0.0247, loss_cls: 0.0688, acc: 97.1689, loss_bbox: 0.1993, loss: 0.2950\n",
      "2020-12-31 01:18:29,142 - mmdet - INFO - Epoch [26][1650/2001]\tlr: 5.000e-05, eta: 2:12:25, time: 1.372, data_time: 0.013, memory: 6189, loss_rpn_cls: 0.0018, loss_rpn_bbox: 0.0242, loss_cls: 0.0678, acc: 97.1299, loss_bbox: 0.1978, loss: 0.2915\n",
      "2020-12-31 01:19:38,266 - mmdet - INFO - Epoch [26][1700/2001]\tlr: 5.000e-05, eta: 2:11:41, time: 1.382, data_time: 0.014, memory: 6189, loss_rpn_cls: 0.0017, loss_rpn_bbox: 0.0248, loss_cls: 0.0713, acc: 96.9990, loss_bbox: 0.2006, loss: 0.2984\n"
     ]
    },
    {
     "name": "stderr",
     "output_type": "stream",
     "text": [
      "2020-12-31 01:20:46,963 - mmdet - INFO - Epoch [26][1750/2001]\tlr: 5.000e-05, eta: 2:10:57, time: 1.374, data_time: 0.014, memory: 6189, loss_rpn_cls: 0.0023, loss_rpn_bbox: 0.0263, loss_cls: 0.0685, acc: 97.2295, loss_bbox: 0.1994, loss: 0.2964\n",
      "2020-12-31 01:21:55,412 - mmdet - INFO - Epoch [26][1800/2001]\tlr: 5.000e-05, eta: 2:10:13, time: 1.369, data_time: 0.014, memory: 6189, loss_rpn_cls: 0.0022, loss_rpn_bbox: 0.0258, loss_cls: 0.0692, acc: 97.1465, loss_bbox: 0.2029, loss: 0.3001\n",
      "2020-12-31 01:23:03,994 - mmdet - INFO - Epoch [26][1850/2001]\tlr: 5.000e-05, eta: 2:09:28, time: 1.372, data_time: 0.014, memory: 6189, loss_rpn_cls: 0.0020, loss_rpn_bbox: 0.0269, loss_cls: 0.0679, acc: 97.1709, loss_bbox: 0.1960, loss: 0.2928\n",
      "2020-12-31 01:24:12,517 - mmdet - INFO - Epoch [26][1900/2001]\tlr: 5.000e-05, eta: 2:08:44, time: 1.371, data_time: 0.013, memory: 6189, loss_rpn_cls: 0.0012, loss_rpn_bbox: 0.0241, loss_cls: 0.0693, acc: 97.1348, loss_bbox: 0.1970, loss: 0.2916\n",
      "2020-12-31 01:25:20,698 - mmdet - INFO - Epoch [26][1950/2001]\tlr: 5.000e-05, eta: 2:08:00, time: 1.364, data_time: 0.013, memory: 6189, loss_rpn_cls: 0.0022, loss_rpn_bbox: 0.0233, loss_cls: 0.0704, acc: 97.1055, loss_bbox: 0.1997, loss: 0.2957\n",
      "2020-12-31 01:26:29,340 - mmdet - INFO - Epoch [26][2000/2001]\tlr: 5.000e-05, eta: 2:07:15, time: 1.372, data_time: 0.013, memory: 6189, loss_rpn_cls: 0.0020, loss_rpn_bbox: 0.0267, loss_cls: 0.0685, acc: 97.1494, loss_bbox: 0.1999, loss: 0.2971\n",
      "2020-12-31 01:26:30,525 - mmdet - INFO - Saving checkpoint at 26 epochs\n"
     ]
    },
    {
     "name": "stdout",
     "output_type": "stream",
     "text": [
      "[>>>>>>>>>>>>>>>>>>>>>>>>>>>] 2013/2013, 5.8 task/s, elapsed: 346s, ETA:     0s"
     ]
    },
    {
     "name": "stderr",
     "output_type": "stream",
     "text": [
      "2020-12-31 01:32:16,958 - mmdet - INFO - \n",
      "Evaluateing mmdet/valid_44.json with 2013 images now\n",
      "2020-12-31 01:32:17,574 - mmdet - INFO - Evaluating bbox...\n"
     ]
    },
    {
     "name": "stdout",
     "output_type": "stream",
     "text": [
      "Loading and preparing results...\n",
      "DONE (t=0.14s)\n",
      "creating index...\n",
      "index created!\n",
      "Running per image evaluation...\n",
      "Evaluate annotation type *bbox*\n",
      "DONE (t=18.05s).\n",
      "Accumulating evaluation results...\n"
     ]
    },
    {
     "name": "stderr",
     "output_type": "stream",
     "text": [
      "2020-12-31 01:32:36,719 - mmdet - INFO - Epoch(val) [26][2001]\t0_bbox_mAP: 0.2870, 0_bbox_mAP_50: 0.4760, 0_bbox_mAP_75: 0.3170, 0_bbox_mAP_s: 0.2830, 0_bbox_mAP_m: 0.4770, 0_bbox_mAP_l: -1.0000, 0_bbox_mAP_copypaste: 0.287 0.476 0.317 0.283 0.477 -1.000\n"
     ]
    },
    {
     "name": "stdout",
     "output_type": "stream",
     "text": [
      "DONE (t=0.87s).\n",
      "Average Precision  (AP) @[ IoU=0.50:0.95 | area=   all | maxDets=100 ] = 0.287\n",
      "Average Precision  (AP) @[ IoU=0.50      | area=   all | maxDets=1000 ] = 0.476\n",
      "Average Precision  (AP) @[ IoU=0.75      | area=   all | maxDets=1000 ] = 0.317\n",
      "Average Precision  (AP) @[ IoU=0.50:0.95 | area= small | maxDets=1000 ] = 0.283\n",
      "Average Precision  (AP) @[ IoU=0.50:0.95 | area=medium | maxDets=1000 ] = 0.477\n",
      "Average Precision  (AP) @[ IoU=0.50:0.95 | area= large | maxDets=1000 ] = -1.000\n",
      "Average Recall     (AR) @[ IoU=0.50:0.95 | area=   all | maxDets=100 ] = 0.355\n",
      "Average Recall     (AR) @[ IoU=0.50:0.95 | area=   all | maxDets=300 ] = 0.355\n",
      "Average Recall     (AR) @[ IoU=0.50:0.95 | area=   all | maxDets=1000 ] = 0.355\n",
      "Average Recall     (AR) @[ IoU=0.50:0.95 | area= small | maxDets=1000 ] = 0.351\n",
      "Average Recall     (AR) @[ IoU=0.50:0.95 | area=medium | maxDets=1000 ] = 0.525\n",
      "Average Recall     (AR) @[ IoU=0.50:0.95 | area= large | maxDets=1000 ] = -1.000\n"
     ]
    },
    {
     "name": "stderr",
     "output_type": "stream",
     "text": [
      "2020-12-31 01:33:47,756 - mmdet - INFO - Epoch [27][50/2001]\tlr: 5.000e-05, eta: 2:06:30, time: 1.415, data_time: 0.059, memory: 6189, loss_rpn_cls: 0.0020, loss_rpn_bbox: 0.0249, loss_cls: 0.0711, acc: 97.0244, loss_bbox: 0.2001, loss: 0.2982\n",
      "2020-12-31 01:34:56,696 - mmdet - INFO - Epoch [27][100/2001]\tlr: 5.000e-05, eta: 2:05:45, time: 1.379, data_time: 0.013, memory: 6189, loss_rpn_cls: 0.0015, loss_rpn_bbox: 0.0261, loss_cls: 0.0700, acc: 97.1084, loss_bbox: 0.2058, loss: 0.3034\n",
      "2020-12-31 01:36:05,346 - mmdet - INFO - Epoch [27][150/2001]\tlr: 5.000e-05, eta: 2:05:01, time: 1.373, data_time: 0.013, memory: 6189, loss_rpn_cls: 0.0023, loss_rpn_bbox: 0.0249, loss_cls: 0.0661, acc: 97.3203, loss_bbox: 0.1967, loss: 0.2901\n",
      "2020-12-31 01:37:13,939 - mmdet - INFO - Epoch [27][200/2001]\tlr: 5.000e-05, eta: 2:04:16, time: 1.371, data_time: 0.013, memory: 6189, loss_rpn_cls: 0.0024, loss_rpn_bbox: 0.0247, loss_cls: 0.0688, acc: 97.1885, loss_bbox: 0.2014, loss: 0.2972\n",
      "2020-12-31 01:38:22,912 - mmdet - INFO - Epoch [27][250/2001]\tlr: 5.000e-05, eta: 2:03:32, time: 1.380, data_time: 0.014, memory: 6189, loss_rpn_cls: 0.0015, loss_rpn_bbox: 0.0267, loss_cls: 0.0665, acc: 97.2432, loss_bbox: 0.1969, loss: 0.2915\n",
      "2020-12-31 01:39:31,637 - mmdet - INFO - Epoch [27][300/2001]\tlr: 5.000e-05, eta: 2:02:47, time: 1.374, data_time: 0.013, memory: 6189, loss_rpn_cls: 0.0019, loss_rpn_bbox: 0.0243, loss_cls: 0.0677, acc: 97.1533, loss_bbox: 0.1935, loss: 0.2874\n",
      "2020-12-31 01:40:40,174 - mmdet - INFO - Epoch [27][350/2001]\tlr: 5.000e-05, eta: 2:02:02, time: 1.370, data_time: 0.013, memory: 6189, loss_rpn_cls: 0.0017, loss_rpn_bbox: 0.0248, loss_cls: 0.0675, acc: 97.2568, loss_bbox: 0.1969, loss: 0.2909\n",
      "2020-12-31 01:41:48,721 - mmdet - INFO - Epoch [27][400/2001]\tlr: 5.000e-05, eta: 2:01:17, time: 1.371, data_time: 0.014, memory: 6189, loss_rpn_cls: 0.0016, loss_rpn_bbox: 0.0260, loss_cls: 0.0683, acc: 97.1963, loss_bbox: 0.1988, loss: 0.2948\n",
      "2020-12-31 01:42:57,325 - mmdet - INFO - Epoch [27][450/2001]\tlr: 5.000e-05, eta: 2:00:32, time: 1.373, data_time: 0.015, memory: 6189, loss_rpn_cls: 0.0018, loss_rpn_bbox: 0.0256, loss_cls: 0.0672, acc: 97.2764, loss_bbox: 0.1995, loss: 0.2940\n",
      "2020-12-31 01:44:06,172 - mmdet - INFO - Epoch [27][500/2001]\tlr: 5.000e-05, eta: 1:59:47, time: 1.377, data_time: 0.013, memory: 6189, loss_rpn_cls: 0.0016, loss_rpn_bbox: 0.0242, loss_cls: 0.0676, acc: 97.1670, loss_bbox: 0.1962, loss: 0.2896\n",
      "2020-12-31 01:44:50,334 - mmdet - INFO - Epoch [27][550/2001]\tlr: 5.000e-05, eta: 1:58:59, time: 0.885, data_time: 0.012, memory: 6189, loss_rpn_cls: 0.0018, loss_rpn_bbox: 0.0228, loss_cls: 0.0661, acc: 97.2471, loss_bbox: 0.1908, loss: 0.2816\n",
      "2020-12-31 01:45:31,390 - mmdet - INFO - Epoch [27][600/2001]\tlr: 5.000e-05, eta: 1:58:10, time: 0.821, data_time: 0.011, memory: 6189, loss_rpn_cls: 0.0018, loss_rpn_bbox: 0.0259, loss_cls: 0.0669, acc: 97.2256, loss_bbox: 0.1982, loss: 0.2928\n",
      "2020-12-31 01:46:12,515 - mmdet - INFO - Epoch [27][650/2001]\tlr: 5.000e-05, eta: 1:57:21, time: 0.823, data_time: 0.011, memory: 6189, loss_rpn_cls: 0.0021, loss_rpn_bbox: 0.0239, loss_cls: 0.0685, acc: 97.1914, loss_bbox: 0.1969, loss: 0.2914\n",
      "2020-12-31 01:46:53,424 - mmdet - INFO - Epoch [27][700/2001]\tlr: 5.000e-05, eta: 1:56:33, time: 0.818, data_time: 0.011, memory: 6189, loss_rpn_cls: 0.0023, loss_rpn_bbox: 0.0258, loss_cls: 0.0673, acc: 97.1943, loss_bbox: 0.1969, loss: 0.2922\n",
      "2020-12-31 01:47:34,407 - mmdet - INFO - Epoch [27][750/2001]\tlr: 5.000e-05, eta: 1:55:44, time: 0.820, data_time: 0.011, memory: 6189, loss_rpn_cls: 0.0021, loss_rpn_bbox: 0.0241, loss_cls: 0.0656, acc: 97.2529, loss_bbox: 0.1921, loss: 0.2838\n",
      "2020-12-31 01:48:15,332 - mmdet - INFO - Epoch [27][800/2001]\tlr: 5.000e-05, eta: 1:54:55, time: 0.818, data_time: 0.011, memory: 6189, loss_rpn_cls: 0.0020, loss_rpn_bbox: 0.0251, loss_cls: 0.0687, acc: 97.1670, loss_bbox: 0.1976, loss: 0.2934\n",
      "2020-12-31 01:48:56,298 - mmdet - INFO - Epoch [27][850/2001]\tlr: 5.000e-05, eta: 1:54:06, time: 0.819, data_time: 0.011, memory: 6189, loss_rpn_cls: 0.0020, loss_rpn_bbox: 0.0228, loss_cls: 0.0663, acc: 97.2441, loss_bbox: 0.1883, loss: 0.2794\n",
      "2020-12-31 01:49:37,255 - mmdet - INFO - Epoch [27][900/2001]\tlr: 5.000e-05, eta: 1:53:17, time: 0.819, data_time: 0.011, memory: 6189, loss_rpn_cls: 0.0020, loss_rpn_bbox: 0.0230, loss_cls: 0.0702, acc: 97.1475, loss_bbox: 0.1954, loss: 0.2907\n",
      "2020-12-31 01:50:18,236 - mmdet - INFO - Epoch [27][950/2001]\tlr: 5.000e-05, eta: 1:52:29, time: 0.820, data_time: 0.011, memory: 6189, loss_rpn_cls: 0.0021, loss_rpn_bbox: 0.0263, loss_cls: 0.0717, acc: 96.9814, loss_bbox: 0.2078, loss: 0.3078\n",
      "2020-12-31 01:50:59,224 - mmdet - INFO - Epoch [27][1000/2001]\tlr: 5.000e-05, eta: 1:51:40, time: 0.820, data_time: 0.011, memory: 6189, loss_rpn_cls: 0.0015, loss_rpn_bbox: 0.0260, loss_cls: 0.0690, acc: 97.1582, loss_bbox: 0.1997, loss: 0.2962\n",
      "2020-12-31 01:51:40,166 - mmdet - INFO - Epoch [27][1050/2001]\tlr: 5.000e-05, eta: 1:50:51, time: 0.819, data_time: 0.011, memory: 6189, loss_rpn_cls: 0.0016, loss_rpn_bbox: 0.0249, loss_cls: 0.0703, acc: 97.0635, loss_bbox: 0.1988, loss: 0.2956\n",
      "2020-12-31 01:52:21,116 - mmdet - INFO - Epoch [27][1100/2001]\tlr: 5.000e-05, eta: 1:50:02, time: 0.819, data_time: 0.011, memory: 6189, loss_rpn_cls: 0.0021, loss_rpn_bbox: 0.0252, loss_cls: 0.0690, acc: 97.1338, loss_bbox: 0.1966, loss: 0.2928\n",
      "2020-12-31 01:53:02,062 - mmdet - INFO - Epoch [27][1150/2001]\tlr: 5.000e-05, eta: 1:49:14, time: 0.819, data_time: 0.011, memory: 6189, loss_rpn_cls: 0.0021, loss_rpn_bbox: 0.0260, loss_cls: 0.0689, acc: 97.1338, loss_bbox: 0.1972, loss: 0.2942\n",
      "2020-12-31 01:53:43,029 - mmdet - INFO - Epoch [27][1200/2001]\tlr: 5.000e-05, eta: 1:48:25, time: 0.819, data_time: 0.011, memory: 6189, loss_rpn_cls: 0.0021, loss_rpn_bbox: 0.0248, loss_cls: 0.0707, acc: 97.0371, loss_bbox: 0.1994, loss: 0.2970\n",
      "2020-12-31 01:54:23,990 - mmdet - INFO - Epoch [27][1250/2001]\tlr: 5.000e-05, eta: 1:47:36, time: 0.819, data_time: 0.011, memory: 6189, loss_rpn_cls: 0.0023, loss_rpn_bbox: 0.0271, loss_cls: 0.0680, acc: 97.1709, loss_bbox: 0.2004, loss: 0.2978\n",
      "2020-12-31 01:55:05,007 - mmdet - INFO - Epoch [27][1300/2001]\tlr: 5.000e-05, eta: 1:46:48, time: 0.820, data_time: 0.011, memory: 6189, loss_rpn_cls: 0.0025, loss_rpn_bbox: 0.0240, loss_cls: 0.0680, acc: 97.1729, loss_bbox: 0.1949, loss: 0.2894\n",
      "2020-12-31 01:55:45,907 - mmdet - INFO - Epoch [27][1350/2001]\tlr: 5.000e-05, eta: 1:45:59, time: 0.818, data_time: 0.011, memory: 6189, loss_rpn_cls: 0.0016, loss_rpn_bbox: 0.0278, loss_cls: 0.0678, acc: 97.1367, loss_bbox: 0.1969, loss: 0.2940\n",
      "2020-12-31 01:56:26,874 - mmdet - INFO - Epoch [27][1400/2001]\tlr: 5.000e-05, eta: 1:45:10, time: 0.819, data_time: 0.011, memory: 6189, loss_rpn_cls: 0.0025, loss_rpn_bbox: 0.0255, loss_cls: 0.0709, acc: 97.0254, loss_bbox: 0.2026, loss: 0.3016\n",
      "2020-12-31 01:57:07,826 - mmdet - INFO - Epoch [27][1450/2001]\tlr: 5.000e-05, eta: 1:44:22, time: 0.819, data_time: 0.011, memory: 6189, loss_rpn_cls: 0.0018, loss_rpn_bbox: 0.0256, loss_cls: 0.0674, acc: 97.1924, loss_bbox: 0.1997, loss: 0.2945\n",
      "2020-12-31 01:57:48,830 - mmdet - INFO - Epoch [27][1500/2001]\tlr: 5.000e-05, eta: 1:43:33, time: 0.820, data_time: 0.011, memory: 6189, loss_rpn_cls: 0.0015, loss_rpn_bbox: 0.0245, loss_cls: 0.0667, acc: 97.2559, loss_bbox: 0.1951, loss: 0.2878\n",
      "2020-12-31 01:58:29,766 - mmdet - INFO - Epoch [27][1550/2001]\tlr: 5.000e-05, eta: 1:42:45, time: 0.819, data_time: 0.011, memory: 6189, loss_rpn_cls: 0.0018, loss_rpn_bbox: 0.0259, loss_cls: 0.0705, acc: 97.1016, loss_bbox: 0.2003, loss: 0.2984\n",
      "2020-12-31 01:59:10,705 - mmdet - INFO - Epoch [27][1600/2001]\tlr: 5.000e-05, eta: 1:41:56, time: 0.819, data_time: 0.011, memory: 6189, loss_rpn_cls: 0.0028, loss_rpn_bbox: 0.0277, loss_cls: 0.0671, acc: 97.2207, loss_bbox: 0.1954, loss: 0.2929\n",
      "2020-12-31 01:59:51,679 - mmdet - INFO - Epoch [27][1650/2001]\tlr: 5.000e-05, eta: 1:41:07, time: 0.819, data_time: 0.011, memory: 6189, loss_rpn_cls: 0.0020, loss_rpn_bbox: 0.0258, loss_cls: 0.0682, acc: 97.1836, loss_bbox: 0.1978, loss: 0.2938\n",
      "2020-12-31 02:00:32,633 - mmdet - INFO - Epoch [27][1700/2001]\tlr: 5.000e-05, eta: 1:40:19, time: 0.819, data_time: 0.011, memory: 6189, loss_rpn_cls: 0.0024, loss_rpn_bbox: 0.0250, loss_cls: 0.0690, acc: 97.1475, loss_bbox: 0.1973, loss: 0.2937\n"
     ]
    },
    {
     "name": "stderr",
     "output_type": "stream",
     "text": [
      "2020-12-31 02:01:13,605 - mmdet - INFO - Epoch [27][1750/2001]\tlr: 5.000e-05, eta: 1:39:30, time: 0.819, data_time: 0.011, memory: 6189, loss_rpn_cls: 0.0022, loss_rpn_bbox: 0.0265, loss_cls: 0.0691, acc: 97.1836, loss_bbox: 0.2005, loss: 0.2982\n",
      "2020-12-31 02:01:54,550 - mmdet - INFO - Epoch [27][1800/2001]\tlr: 5.000e-05, eta: 1:38:42, time: 0.819, data_time: 0.011, memory: 6189, loss_rpn_cls: 0.0018, loss_rpn_bbox: 0.0269, loss_cls: 0.0683, acc: 97.1621, loss_bbox: 0.2020, loss: 0.2990\n",
      "2020-12-31 02:02:35,529 - mmdet - INFO - Epoch [27][1850/2001]\tlr: 5.000e-05, eta: 1:37:53, time: 0.820, data_time: 0.011, memory: 6189, loss_rpn_cls: 0.0019, loss_rpn_bbox: 0.0274, loss_cls: 0.0670, acc: 97.2861, loss_bbox: 0.1958, loss: 0.2921\n",
      "2020-12-31 02:03:16,474 - mmdet - INFO - Epoch [27][1900/2001]\tlr: 5.000e-05, eta: 1:37:05, time: 0.819, data_time: 0.011, memory: 6189, loss_rpn_cls: 0.0023, loss_rpn_bbox: 0.0264, loss_cls: 0.0669, acc: 97.2549, loss_bbox: 0.1949, loss: 0.2905\n",
      "2020-12-31 02:03:57,430 - mmdet - INFO - Epoch [27][1950/2001]\tlr: 5.000e-05, eta: 1:36:16, time: 0.819, data_time: 0.011, memory: 6189, loss_rpn_cls: 0.0021, loss_rpn_bbox: 0.0259, loss_cls: 0.0677, acc: 97.2070, loss_bbox: 0.1924, loss: 0.2880\n",
      "2020-12-31 02:04:38,395 - mmdet - INFO - Epoch [27][2000/2001]\tlr: 5.000e-05, eta: 1:35:28, time: 0.819, data_time: 0.011, memory: 6189, loss_rpn_cls: 0.0017, loss_rpn_bbox: 0.0243, loss_cls: 0.0700, acc: 97.1016, loss_bbox: 0.1973, loss: 0.2933\n",
      "2020-12-31 02:04:39,107 - mmdet - INFO - Saving checkpoint at 27 epochs\n"
     ]
    },
    {
     "name": "stdout",
     "output_type": "stream",
     "text": [
      "[>>>>>>>>>>>>>>>>>>>>>>>>>>] 2013/2013, 11.0 task/s, elapsed: 183s, ETA:     0s"
     ]
    },
    {
     "name": "stderr",
     "output_type": "stream",
     "text": [
      "2020-12-31 02:07:42,340 - mmdet - INFO - \n",
      "Evaluateing mmdet/valid_44.json with 2013 images now\n",
      "2020-12-31 02:07:43,005 - mmdet - INFO - Evaluating bbox...\n"
     ]
    },
    {
     "name": "stdout",
     "output_type": "stream",
     "text": [
      "Loading and preparing results...\n",
      "DONE (t=0.10s)\n",
      "creating index...\n",
      "index created!\n",
      "Running per image evaluation...\n",
      "Evaluate annotation type *bbox*\n",
      "DONE (t=16.06s).\n",
      "Accumulating evaluation results...\n"
     ]
    },
    {
     "name": "stderr",
     "output_type": "stream",
     "text": [
      "2020-12-31 02:07:59,959 - mmdet - INFO - Epoch(val) [27][2001]\t0_bbox_mAP: 0.2860, 0_bbox_mAP_50: 0.4740, 0_bbox_mAP_75: 0.3170, 0_bbox_mAP_s: 0.2820, 0_bbox_mAP_m: 0.4780, 0_bbox_mAP_l: -1.0000, 0_bbox_mAP_copypaste: 0.286 0.474 0.317 0.282 0.478 -1.000\n"
     ]
    },
    {
     "name": "stdout",
     "output_type": "stream",
     "text": [
      "DONE (t=0.72s).\n",
      "Average Precision  (AP) @[ IoU=0.50:0.95 | area=   all | maxDets=100 ] = 0.286\n",
      "Average Precision  (AP) @[ IoU=0.50      | area=   all | maxDets=1000 ] = 0.474\n",
      "Average Precision  (AP) @[ IoU=0.75      | area=   all | maxDets=1000 ] = 0.317\n",
      "Average Precision  (AP) @[ IoU=0.50:0.95 | area= small | maxDets=1000 ] = 0.282\n",
      "Average Precision  (AP) @[ IoU=0.50:0.95 | area=medium | maxDets=1000 ] = 0.478\n",
      "Average Precision  (AP) @[ IoU=0.50:0.95 | area= large | maxDets=1000 ] = -1.000\n",
      "Average Recall     (AR) @[ IoU=0.50:0.95 | area=   all | maxDets=100 ] = 0.353\n",
      "Average Recall     (AR) @[ IoU=0.50:0.95 | area=   all | maxDets=300 ] = 0.353\n",
      "Average Recall     (AR) @[ IoU=0.50:0.95 | area=   all | maxDets=1000 ] = 0.353\n",
      "Average Recall     (AR) @[ IoU=0.50:0.95 | area= small | maxDets=1000 ] = 0.349\n",
      "Average Recall     (AR) @[ IoU=0.50:0.95 | area=medium | maxDets=1000 ] = 0.525\n",
      "Average Recall     (AR) @[ IoU=0.50:0.95 | area= large | maxDets=1000 ] = -1.000\n"
     ]
    },
    {
     "name": "stderr",
     "output_type": "stream",
     "text": [
      "2020-12-31 02:08:43,360 - mmdet - INFO - Epoch [28][50/2001]\tlr: 5.000e-05, eta: 1:34:39, time: 0.864, data_time: 0.056, memory: 6189, loss_rpn_cls: 0.0022, loss_rpn_bbox: 0.0255, loss_cls: 0.0683, acc: 97.1660, loss_bbox: 0.1973, loss: 0.2933\n",
      "2020-12-31 02:09:24,283 - mmdet - INFO - Epoch [28][100/2001]\tlr: 5.000e-05, eta: 1:33:50, time: 0.818, data_time: 0.010, memory: 6189, loss_rpn_cls: 0.0019, loss_rpn_bbox: 0.0250, loss_cls: 0.0700, acc: 97.0625, loss_bbox: 0.1984, loss: 0.2953\n",
      "2020-12-31 02:10:05,279 - mmdet - INFO - Epoch [28][150/2001]\tlr: 5.000e-05, eta: 1:33:02, time: 0.820, data_time: 0.011, memory: 6189, loss_rpn_cls: 0.0021, loss_rpn_bbox: 0.0255, loss_cls: 0.0674, acc: 97.2002, loss_bbox: 0.1961, loss: 0.2911\n",
      "2020-12-31 02:10:46,219 - mmdet - INFO - Epoch [28][200/2001]\tlr: 5.000e-05, eta: 1:32:13, time: 0.819, data_time: 0.010, memory: 6189, loss_rpn_cls: 0.0017, loss_rpn_bbox: 0.0247, loss_cls: 0.0702, acc: 97.1006, loss_bbox: 0.2012, loss: 0.2977\n",
      "2020-12-31 02:11:27,823 - mmdet - INFO - Epoch [28][250/2001]\tlr: 5.000e-05, eta: 1:31:25, time: 0.832, data_time: 0.011, memory: 6189, loss_rpn_cls: 0.0019, loss_rpn_bbox: 0.0249, loss_cls: 0.0666, acc: 97.2529, loss_bbox: 0.1922, loss: 0.2857\n",
      "2020-12-31 02:12:08,976 - mmdet - INFO - Epoch [28][300/2001]\tlr: 5.000e-05, eta: 1:30:37, time: 0.823, data_time: 0.011, memory: 6189, loss_rpn_cls: 0.0016, loss_rpn_bbox: 0.0237, loss_cls: 0.0659, acc: 97.2373, loss_bbox: 0.1938, loss: 0.2850\n",
      "2020-12-31 02:12:50,160 - mmdet - INFO - Epoch [28][350/2001]\tlr: 5.000e-05, eta: 1:29:48, time: 0.824, data_time: 0.011, memory: 6189, loss_rpn_cls: 0.0023, loss_rpn_bbox: 0.0251, loss_cls: 0.0653, acc: 97.3223, loss_bbox: 0.1956, loss: 0.2883\n",
      "2020-12-31 02:13:31,100 - mmdet - INFO - Epoch [28][400/2001]\tlr: 5.000e-05, eta: 1:29:00, time: 0.819, data_time: 0.011, memory: 6189, loss_rpn_cls: 0.0029, loss_rpn_bbox: 0.0243, loss_cls: 0.0659, acc: 97.2949, loss_bbox: 0.1947, loss: 0.2878\n",
      "2020-12-31 02:14:12,247 - mmdet - INFO - Epoch [28][450/2001]\tlr: 5.000e-05, eta: 1:28:12, time: 0.823, data_time: 0.011, memory: 6189, loss_rpn_cls: 0.0021, loss_rpn_bbox: 0.0249, loss_cls: 0.0675, acc: 97.2021, loss_bbox: 0.1939, loss: 0.2884\n",
      "2020-12-31 02:14:53,216 - mmdet - INFO - Epoch [28][500/2001]\tlr: 5.000e-05, eta: 1:27:23, time: 0.819, data_time: 0.011, memory: 6189, loss_rpn_cls: 0.0016, loss_rpn_bbox: 0.0265, loss_cls: 0.0664, acc: 97.2324, loss_bbox: 0.1984, loss: 0.2929\n",
      "2020-12-31 02:15:34,198 - mmdet - INFO - Epoch [28][550/2001]\tlr: 5.000e-05, eta: 1:26:35, time: 0.820, data_time: 0.011, memory: 6189, loss_rpn_cls: 0.0016, loss_rpn_bbox: 0.0225, loss_cls: 0.0649, acc: 97.2490, loss_bbox: 0.1920, loss: 0.2810\n",
      "2020-12-31 02:16:15,149 - mmdet - INFO - Epoch [28][600/2001]\tlr: 5.000e-05, eta: 1:25:47, time: 0.819, data_time: 0.011, memory: 6189, loss_rpn_cls: 0.0018, loss_rpn_bbox: 0.0224, loss_cls: 0.0688, acc: 97.0938, loss_bbox: 0.1930, loss: 0.2860\n",
      "2020-12-31 02:16:56,096 - mmdet - INFO - Epoch [28][650/2001]\tlr: 5.000e-05, eta: 1:24:58, time: 0.819, data_time: 0.011, memory: 6189, loss_rpn_cls: 0.0019, loss_rpn_bbox: 0.0255, loss_cls: 0.0689, acc: 97.1562, loss_bbox: 0.2031, loss: 0.2994\n",
      "2020-12-31 02:17:37,068 - mmdet - INFO - Epoch [28][700/2001]\tlr: 5.000e-05, eta: 1:24:10, time: 0.819, data_time: 0.011, memory: 6189, loss_rpn_cls: 0.0019, loss_rpn_bbox: 0.0249, loss_cls: 0.0666, acc: 97.2178, loss_bbox: 0.1957, loss: 0.2891\n",
      "2020-12-31 02:18:18,052 - mmdet - INFO - Epoch [28][750/2001]\tlr: 5.000e-05, eta: 1:23:22, time: 0.820, data_time: 0.011, memory: 6189, loss_rpn_cls: 0.0024, loss_rpn_bbox: 0.0241, loss_cls: 0.0657, acc: 97.2637, loss_bbox: 0.1955, loss: 0.2877\n",
      "2020-12-31 02:18:58,989 - mmdet - INFO - Epoch [28][800/2001]\tlr: 5.000e-05, eta: 1:22:34, time: 0.819, data_time: 0.011, memory: 6189, loss_rpn_cls: 0.0018, loss_rpn_bbox: 0.0250, loss_cls: 0.0698, acc: 97.1182, loss_bbox: 0.1999, loss: 0.2965\n",
      "2020-12-31 02:19:39,949 - mmdet - INFO - Epoch [28][850/2001]\tlr: 5.000e-05, eta: 1:21:45, time: 0.819, data_time: 0.011, memory: 6189, loss_rpn_cls: 0.0013, loss_rpn_bbox: 0.0258, loss_cls: 0.0700, acc: 97.0635, loss_bbox: 0.2002, loss: 0.2972\n",
      "2020-12-31 02:20:20,900 - mmdet - INFO - Epoch [28][900/2001]\tlr: 5.000e-05, eta: 1:20:57, time: 0.819, data_time: 0.011, memory: 6189, loss_rpn_cls: 0.0014, loss_rpn_bbox: 0.0266, loss_cls: 0.0680, acc: 97.1992, loss_bbox: 0.2003, loss: 0.2963\n",
      "2020-12-31 02:21:01,882 - mmdet - INFO - Epoch [28][950/2001]\tlr: 5.000e-05, eta: 1:20:09, time: 0.820, data_time: 0.011, memory: 6189, loss_rpn_cls: 0.0017, loss_rpn_bbox: 0.0232, loss_cls: 0.0679, acc: 97.1963, loss_bbox: 0.1941, loss: 0.2869\n",
      "2020-12-31 02:21:42,812 - mmdet - INFO - Epoch [28][1000/2001]\tlr: 5.000e-05, eta: 1:19:21, time: 0.819, data_time: 0.011, memory: 6189, loss_rpn_cls: 0.0022, loss_rpn_bbox: 0.0242, loss_cls: 0.0663, acc: 97.2832, loss_bbox: 0.1949, loss: 0.2876\n",
      "2020-12-31 02:22:23,792 - mmdet - INFO - Epoch [28][1050/2001]\tlr: 5.000e-05, eta: 1:18:33, time: 0.820, data_time: 0.011, memory: 6189, loss_rpn_cls: 0.0022, loss_rpn_bbox: 0.0256, loss_cls: 0.0691, acc: 97.1133, loss_bbox: 0.1970, loss: 0.2939\n",
      "2020-12-31 02:23:04,755 - mmdet - INFO - Epoch [28][1100/2001]\tlr: 5.000e-05, eta: 1:17:44, time: 0.819, data_time: 0.011, memory: 6189, loss_rpn_cls: 0.0018, loss_rpn_bbox: 0.0276, loss_cls: 0.0656, acc: 97.2705, loss_bbox: 0.1984, loss: 0.2934\n",
      "2020-12-31 02:23:45,721 - mmdet - INFO - Epoch [28][1150/2001]\tlr: 5.000e-05, eta: 1:16:56, time: 0.819, data_time: 0.011, memory: 6189, loss_rpn_cls: 0.0022, loss_rpn_bbox: 0.0264, loss_cls: 0.0689, acc: 97.1641, loss_bbox: 0.1992, loss: 0.2967\n",
      "2020-12-31 02:24:26,666 - mmdet - INFO - Epoch [28][1200/2001]\tlr: 5.000e-05, eta: 1:16:08, time: 0.819, data_time: 0.011, memory: 6189, loss_rpn_cls: 0.0019, loss_rpn_bbox: 0.0271, loss_cls: 0.0676, acc: 97.2422, loss_bbox: 0.1938, loss: 0.2904\n",
      "2020-12-31 02:25:07,637 - mmdet - INFO - Epoch [28][1250/2001]\tlr: 5.000e-05, eta: 1:15:20, time: 0.819, data_time: 0.011, memory: 6189, loss_rpn_cls: 0.0023, loss_rpn_bbox: 0.0253, loss_cls: 0.0692, acc: 97.1309, loss_bbox: 0.1974, loss: 0.2943\n",
      "2020-12-31 02:25:48,591 - mmdet - INFO - Epoch [28][1300/2001]\tlr: 5.000e-05, eta: 1:14:32, time: 0.819, data_time: 0.011, memory: 6189, loss_rpn_cls: 0.0020, loss_rpn_bbox: 0.0244, loss_cls: 0.0667, acc: 97.2617, loss_bbox: 0.1956, loss: 0.2887\n",
      "2020-12-31 02:26:29,543 - mmdet - INFO - Epoch [28][1350/2001]\tlr: 5.000e-05, eta: 1:13:44, time: 0.819, data_time: 0.011, memory: 6189, loss_rpn_cls: 0.0014, loss_rpn_bbox: 0.0262, loss_cls: 0.0708, acc: 97.0098, loss_bbox: 0.2027, loss: 0.3011\n",
      "2020-12-31 02:27:10,492 - mmdet - INFO - Epoch [28][1400/2001]\tlr: 5.000e-05, eta: 1:12:56, time: 0.819, data_time: 0.011, memory: 6189, loss_rpn_cls: 0.0023, loss_rpn_bbox: 0.0279, loss_cls: 0.0689, acc: 97.1846, loss_bbox: 0.1970, loss: 0.2961\n",
      "2020-12-31 02:27:51,472 - mmdet - INFO - Epoch [28][1450/2001]\tlr: 5.000e-05, eta: 1:12:08, time: 0.820, data_time: 0.011, memory: 6189, loss_rpn_cls: 0.0016, loss_rpn_bbox: 0.0240, loss_cls: 0.0719, acc: 96.9609, loss_bbox: 0.2064, loss: 0.3039\n",
      "2020-12-31 02:28:32,425 - mmdet - INFO - Epoch [28][1500/2001]\tlr: 5.000e-05, eta: 1:11:20, time: 0.819, data_time: 0.011, memory: 6189, loss_rpn_cls: 0.0017, loss_rpn_bbox: 0.0256, loss_cls: 0.0693, acc: 97.1338, loss_bbox: 0.1966, loss: 0.2931\n",
      "2020-12-31 02:29:13,398 - mmdet - INFO - Epoch [28][1550/2001]\tlr: 5.000e-05, eta: 1:10:32, time: 0.819, data_time: 0.011, memory: 6189, loss_rpn_cls: 0.0020, loss_rpn_bbox: 0.0254, loss_cls: 0.0674, acc: 97.2285, loss_bbox: 0.1915, loss: 0.2862\n",
      "2020-12-31 02:29:54,359 - mmdet - INFO - Epoch [28][1600/2001]\tlr: 5.000e-05, eta: 1:09:44, time: 0.819, data_time: 0.011, memory: 6189, loss_rpn_cls: 0.0019, loss_rpn_bbox: 0.0254, loss_cls: 0.0681, acc: 97.1738, loss_bbox: 0.2003, loss: 0.2957\n",
      "2020-12-31 02:30:35,305 - mmdet - INFO - Epoch [28][1650/2001]\tlr: 5.000e-05, eta: 1:08:56, time: 0.819, data_time: 0.011, memory: 6189, loss_rpn_cls: 0.0017, loss_rpn_bbox: 0.0266, loss_cls: 0.0667, acc: 97.1699, loss_bbox: 0.1988, loss: 0.2938\n",
      "2020-12-31 02:31:16,294 - mmdet - INFO - Epoch [28][1700/2001]\tlr: 5.000e-05, eta: 1:08:07, time: 0.820, data_time: 0.011, memory: 6189, loss_rpn_cls: 0.0020, loss_rpn_bbox: 0.0274, loss_cls: 0.0682, acc: 97.1846, loss_bbox: 0.1998, loss: 0.2973\n"
     ]
    },
    {
     "name": "stderr",
     "output_type": "stream",
     "text": [
      "2020-12-31 02:31:57,247 - mmdet - INFO - Epoch [28][1750/2001]\tlr: 5.000e-05, eta: 1:07:19, time: 0.819, data_time: 0.011, memory: 6189, loss_rpn_cls: 0.0012, loss_rpn_bbox: 0.0254, loss_cls: 0.0694, acc: 97.1035, loss_bbox: 0.1967, loss: 0.2928\n",
      "2020-12-31 02:32:38,203 - mmdet - INFO - Epoch [28][1800/2001]\tlr: 5.000e-05, eta: 1:06:32, time: 0.819, data_time: 0.011, memory: 6189, loss_rpn_cls: 0.0017, loss_rpn_bbox: 0.0262, loss_cls: 0.0727, acc: 97.0010, loss_bbox: 0.1978, loss: 0.2984\n",
      "2020-12-31 02:33:19,135 - mmdet - INFO - Epoch [28][1850/2001]\tlr: 5.000e-05, eta: 1:05:44, time: 0.819, data_time: 0.011, memory: 6189, loss_rpn_cls: 0.0014, loss_rpn_bbox: 0.0258, loss_cls: 0.0698, acc: 97.0732, loss_bbox: 0.1976, loss: 0.2945\n",
      "2020-12-31 02:34:00,330 - mmdet - INFO - Epoch [28][1900/2001]\tlr: 5.000e-05, eta: 1:04:56, time: 0.824, data_time: 0.011, memory: 6189, loss_rpn_cls: 0.0023, loss_rpn_bbox: 0.0239, loss_cls: 0.0696, acc: 97.1055, loss_bbox: 0.1985, loss: 0.2942\n",
      "2020-12-31 02:34:41,279 - mmdet - INFO - Epoch [28][1950/2001]\tlr: 5.000e-05, eta: 1:04:08, time: 0.819, data_time: 0.011, memory: 6189, loss_rpn_cls: 0.0024, loss_rpn_bbox: 0.0269, loss_cls: 0.0687, acc: 97.2002, loss_bbox: 0.2005, loss: 0.2985\n",
      "2020-12-31 02:35:22,239 - mmdet - INFO - Epoch [28][2000/2001]\tlr: 5.000e-05, eta: 1:03:20, time: 0.819, data_time: 0.011, memory: 6189, loss_rpn_cls: 0.0018, loss_rpn_bbox: 0.0249, loss_cls: 0.0696, acc: 97.0811, loss_bbox: 0.1995, loss: 0.2958\n",
      "2020-12-31 02:35:22,967 - mmdet - INFO - Saving checkpoint at 28 epochs\n"
     ]
    },
    {
     "name": "stdout",
     "output_type": "stream",
     "text": [
      "[>>>>>>>>>>>>>>>>>>>>>>>>>>] 2013/2013, 11.0 task/s, elapsed: 183s, ETA:     0s"
     ]
    },
    {
     "name": "stderr",
     "output_type": "stream",
     "text": [
      "2020-12-31 02:38:26,827 - mmdet - INFO - \n",
      "Evaluateing mmdet/valid_44.json with 2013 images now\n",
      "2020-12-31 02:38:27,315 - mmdet - INFO - Evaluating bbox...\n"
     ]
    },
    {
     "name": "stdout",
     "output_type": "stream",
     "text": [
      "Loading and preparing results...\n",
      "DONE (t=0.10s)\n",
      "creating index...\n",
      "index created!\n",
      "Running per image evaluation...\n",
      "Evaluate annotation type *bbox*\n",
      "DONE (t=16.36s).\n",
      "Accumulating evaluation results...\n"
     ]
    },
    {
     "name": "stderr",
     "output_type": "stream",
     "text": [
      "2020-12-31 02:38:44,534 - mmdet - INFO - Epoch(val) [28][2001]\t0_bbox_mAP: 0.2860, 0_bbox_mAP_50: 0.4740, 0_bbox_mAP_75: 0.3180, 0_bbox_mAP_s: 0.2820, 0_bbox_mAP_m: 0.4770, 0_bbox_mAP_l: -1.0000, 0_bbox_mAP_copypaste: 0.286 0.474 0.318 0.282 0.477 -1.000\n"
     ]
    },
    {
     "name": "stdout",
     "output_type": "stream",
     "text": [
      "DONE (t=0.68s).\n",
      "Average Precision  (AP) @[ IoU=0.50:0.95 | area=   all | maxDets=100 ] = 0.286\n",
      "Average Precision  (AP) @[ IoU=0.50      | area=   all | maxDets=1000 ] = 0.474\n",
      "Average Precision  (AP) @[ IoU=0.75      | area=   all | maxDets=1000 ] = 0.318\n",
      "Average Precision  (AP) @[ IoU=0.50:0.95 | area= small | maxDets=1000 ] = 0.282\n",
      "Average Precision  (AP) @[ IoU=0.50:0.95 | area=medium | maxDets=1000 ] = 0.477\n",
      "Average Precision  (AP) @[ IoU=0.50:0.95 | area= large | maxDets=1000 ] = -1.000\n",
      "Average Recall     (AR) @[ IoU=0.50:0.95 | area=   all | maxDets=100 ] = 0.354\n",
      "Average Recall     (AR) @[ IoU=0.50:0.95 | area=   all | maxDets=300 ] = 0.354\n",
      "Average Recall     (AR) @[ IoU=0.50:0.95 | area=   all | maxDets=1000 ] = 0.354\n",
      "Average Recall     (AR) @[ IoU=0.50:0.95 | area= small | maxDets=1000 ] = 0.350\n",
      "Average Recall     (AR) @[ IoU=0.50:0.95 | area=medium | maxDets=1000 ] = 0.527\n",
      "Average Recall     (AR) @[ IoU=0.50:0.95 | area= large | maxDets=1000 ] = -1.000\n"
     ]
    },
    {
     "name": "stderr",
     "output_type": "stream",
     "text": [
      "2020-12-31 02:39:27,982 - mmdet - INFO - Epoch [29][50/2001]\tlr: 5.000e-05, eta: 1:02:31, time: 0.865, data_time: 0.055, memory: 6189, loss_rpn_cls: 0.0017, loss_rpn_bbox: 0.0246, loss_cls: 0.0677, acc: 97.1748, loss_bbox: 0.1941, loss: 0.2881\n",
      "2020-12-31 02:40:08,952 - mmdet - INFO - Epoch [29][100/2001]\tlr: 5.000e-05, eta: 1:01:43, time: 0.819, data_time: 0.010, memory: 6189, loss_rpn_cls: 0.0019, loss_rpn_bbox: 0.0254, loss_cls: 0.0690, acc: 97.1494, loss_bbox: 0.2007, loss: 0.2969\n",
      "2020-12-31 02:40:49,924 - mmdet - INFO - Epoch [29][150/2001]\tlr: 5.000e-05, eta: 1:00:55, time: 0.819, data_time: 0.011, memory: 6189, loss_rpn_cls: 0.0027, loss_rpn_bbox: 0.0249, loss_cls: 0.0665, acc: 97.2461, loss_bbox: 0.1923, loss: 0.2864\n",
      "2020-12-31 02:41:31,022 - mmdet - INFO - Epoch [29][200/2001]\tlr: 5.000e-05, eta: 1:00:07, time: 0.822, data_time: 0.011, memory: 6189, loss_rpn_cls: 0.0020, loss_rpn_bbox: 0.0239, loss_cls: 0.0691, acc: 97.1191, loss_bbox: 0.1942, loss: 0.2892\n",
      "2020-12-31 02:42:12,061 - mmdet - INFO - Epoch [29][250/2001]\tlr: 5.000e-05, eta: 0:59:19, time: 0.821, data_time: 0.011, memory: 6189, loss_rpn_cls: 0.0022, loss_rpn_bbox: 0.0257, loss_cls: 0.0667, acc: 97.1914, loss_bbox: 0.1997, loss: 0.2943\n",
      "2020-12-31 02:42:53,078 - mmdet - INFO - Epoch [29][300/2001]\tlr: 5.000e-05, eta: 0:58:31, time: 0.820, data_time: 0.011, memory: 6189, loss_rpn_cls: 0.0016, loss_rpn_bbox: 0.0234, loss_cls: 0.0675, acc: 97.2451, loss_bbox: 0.1951, loss: 0.2876\n",
      "2020-12-31 02:43:34,055 - mmdet - INFO - Epoch [29][350/2001]\tlr: 5.000e-05, eta: 0:57:44, time: 0.819, data_time: 0.011, memory: 6189, loss_rpn_cls: 0.0015, loss_rpn_bbox: 0.0269, loss_cls: 0.0687, acc: 97.1426, loss_bbox: 0.2027, loss: 0.2998\n",
      "2020-12-31 02:44:15,018 - mmdet - INFO - Epoch [29][400/2001]\tlr: 5.000e-05, eta: 0:56:56, time: 0.819, data_time: 0.011, memory: 6189, loss_rpn_cls: 0.0020, loss_rpn_bbox: 0.0273, loss_cls: 0.0679, acc: 97.1621, loss_bbox: 0.2005, loss: 0.2978\n",
      "2020-12-31 02:44:55,958 - mmdet - INFO - Epoch [29][450/2001]\tlr: 5.000e-05, eta: 0:56:08, time: 0.819, data_time: 0.011, memory: 6189, loss_rpn_cls: 0.0018, loss_rpn_bbox: 0.0260, loss_cls: 0.0682, acc: 97.1738, loss_bbox: 0.1987, loss: 0.2946\n",
      "2020-12-31 02:45:37,070 - mmdet - INFO - Epoch [29][500/2001]\tlr: 5.000e-05, eta: 0:55:20, time: 0.822, data_time: 0.011, memory: 6189, loss_rpn_cls: 0.0019, loss_rpn_bbox: 0.0253, loss_cls: 0.0675, acc: 97.2607, loss_bbox: 0.1964, loss: 0.2912\n",
      "2020-12-31 02:46:18,056 - mmdet - INFO - Epoch [29][550/2001]\tlr: 5.000e-05, eta: 0:54:32, time: 0.820, data_time: 0.011, memory: 6189, loss_rpn_cls: 0.0019, loss_rpn_bbox: 0.0224, loss_cls: 0.0695, acc: 97.2051, loss_bbox: 0.1956, loss: 0.2894\n",
      "2020-12-31 02:46:59,000 - mmdet - INFO - Epoch [29][600/2001]\tlr: 5.000e-05, eta: 0:53:45, time: 0.819, data_time: 0.011, memory: 6189, loss_rpn_cls: 0.0017, loss_rpn_bbox: 0.0254, loss_cls: 0.0672, acc: 97.2754, loss_bbox: 0.1997, loss: 0.2940\n",
      "2020-12-31 02:47:39,995 - mmdet - INFO - Epoch [29][650/2001]\tlr: 5.000e-05, eta: 0:52:57, time: 0.820, data_time: 0.011, memory: 6189, loss_rpn_cls: 0.0017, loss_rpn_bbox: 0.0279, loss_cls: 0.0698, acc: 97.0869, loss_bbox: 0.1969, loss: 0.2963\n",
      "2020-12-31 02:48:20,922 - mmdet - INFO - Epoch [29][700/2001]\tlr: 5.000e-05, eta: 0:52:09, time: 0.819, data_time: 0.011, memory: 6189, loss_rpn_cls: 0.0021, loss_rpn_bbox: 0.0244, loss_cls: 0.0655, acc: 97.3115, loss_bbox: 0.1925, loss: 0.2846\n",
      "2020-12-31 02:49:01,884 - mmdet - INFO - Epoch [29][750/2001]\tlr: 5.000e-05, eta: 0:51:21, time: 0.819, data_time: 0.011, memory: 6189, loss_rpn_cls: 0.0026, loss_rpn_bbox: 0.0263, loss_cls: 0.0686, acc: 97.1328, loss_bbox: 0.1976, loss: 0.2951\n",
      "2020-12-31 02:49:42,836 - mmdet - INFO - Epoch [29][800/2001]\tlr: 5.000e-05, eta: 0:50:34, time: 0.819, data_time: 0.011, memory: 6189, loss_rpn_cls: 0.0016, loss_rpn_bbox: 0.0217, loss_cls: 0.0667, acc: 97.2148, loss_bbox: 0.1887, loss: 0.2787\n",
      "2020-12-31 02:50:23,823 - mmdet - INFO - Epoch [29][850/2001]\tlr: 5.000e-05, eta: 0:49:46, time: 0.820, data_time: 0.011, memory: 6189, loss_rpn_cls: 0.0019, loss_rpn_bbox: 0.0249, loss_cls: 0.0684, acc: 97.1602, loss_bbox: 0.1969, loss: 0.2921\n",
      "2020-12-31 02:51:04,796 - mmdet - INFO - Epoch [29][900/2001]\tlr: 5.000e-05, eta: 0:48:58, time: 0.819, data_time: 0.011, memory: 6189, loss_rpn_cls: 0.0016, loss_rpn_bbox: 0.0239, loss_cls: 0.0650, acc: 97.2891, loss_bbox: 0.1893, loss: 0.2799\n",
      "2020-12-31 02:51:45,703 - mmdet - INFO - Epoch [29][950/2001]\tlr: 5.000e-05, eta: 0:48:10, time: 0.818, data_time: 0.011, memory: 6189, loss_rpn_cls: 0.0029, loss_rpn_bbox: 0.0275, loss_cls: 0.0679, acc: 97.1816, loss_bbox: 0.1983, loss: 0.2966\n",
      "2020-12-31 02:52:26,671 - mmdet - INFO - Epoch [29][1000/2001]\tlr: 5.000e-05, eta: 0:47:23, time: 0.819, data_time: 0.011, memory: 6189, loss_rpn_cls: 0.0021, loss_rpn_bbox: 0.0243, loss_cls: 0.0679, acc: 97.1748, loss_bbox: 0.1976, loss: 0.2919\n",
      "2020-12-31 02:53:07,642 - mmdet - INFO - Epoch [29][1050/2001]\tlr: 5.000e-05, eta: 0:46:35, time: 0.819, data_time: 0.011, memory: 6189, loss_rpn_cls: 0.0017, loss_rpn_bbox: 0.0233, loss_cls: 0.0691, acc: 97.1172, loss_bbox: 0.2003, loss: 0.2943\n",
      "2020-12-31 02:53:48,614 - mmdet - INFO - Epoch [29][1100/2001]\tlr: 5.000e-05, eta: 0:45:47, time: 0.819, data_time: 0.011, memory: 6189, loss_rpn_cls: 0.0021, loss_rpn_bbox: 0.0244, loss_cls: 0.0684, acc: 97.1240, loss_bbox: 0.1991, loss: 0.2940\n",
      "2020-12-31 02:54:29,598 - mmdet - INFO - Epoch [29][1150/2001]\tlr: 5.000e-05, eta: 0:45:00, time: 0.820, data_time: 0.011, memory: 6189, loss_rpn_cls: 0.0021, loss_rpn_bbox: 0.0274, loss_cls: 0.0676, acc: 97.1641, loss_bbox: 0.2014, loss: 0.2985\n",
      "2020-12-31 02:55:10,585 - mmdet - INFO - Epoch [29][1200/2001]\tlr: 5.000e-05, eta: 0:44:12, time: 0.820, data_time: 0.011, memory: 6189, loss_rpn_cls: 0.0022, loss_rpn_bbox: 0.0283, loss_cls: 0.0696, acc: 97.0391, loss_bbox: 0.1986, loss: 0.2987\n",
      "2020-12-31 02:55:51,719 - mmdet - INFO - Epoch [29][1250/2001]\tlr: 5.000e-05, eta: 0:43:24, time: 0.823, data_time: 0.011, memory: 6189, loss_rpn_cls: 0.0018, loss_rpn_bbox: 0.0256, loss_cls: 0.0692, acc: 97.0977, loss_bbox: 0.1986, loss: 0.2951\n",
      "2020-12-31 02:56:32,633 - mmdet - INFO - Epoch [29][1300/2001]\tlr: 5.000e-05, eta: 0:42:37, time: 0.818, data_time: 0.011, memory: 6189, loss_rpn_cls: 0.0022, loss_rpn_bbox: 0.0272, loss_cls: 0.0694, acc: 97.1182, loss_bbox: 0.1999, loss: 0.2987\n",
      "2020-12-31 02:57:13,608 - mmdet - INFO - Epoch [29][1350/2001]\tlr: 5.000e-05, eta: 0:41:49, time: 0.819, data_time: 0.011, memory: 6189, loss_rpn_cls: 0.0021, loss_rpn_bbox: 0.0253, loss_cls: 0.0686, acc: 97.1445, loss_bbox: 0.1954, loss: 0.2914\n",
      "2020-12-31 02:57:54,560 - mmdet - INFO - Epoch [29][1400/2001]\tlr: 5.000e-05, eta: 0:41:02, time: 0.819, data_time: 0.011, memory: 6189, loss_rpn_cls: 0.0020, loss_rpn_bbox: 0.0262, loss_cls: 0.0707, acc: 97.1172, loss_bbox: 0.2002, loss: 0.2991\n",
      "2020-12-31 02:58:35,659 - mmdet - INFO - Epoch [29][1450/2001]\tlr: 5.000e-05, eta: 0:40:14, time: 0.822, data_time: 0.011, memory: 6189, loss_rpn_cls: 0.0018, loss_rpn_bbox: 0.0249, loss_cls: 0.0660, acc: 97.2686, loss_bbox: 0.1902, loss: 0.2830\n",
      "2020-12-31 02:59:16,730 - mmdet - INFO - Epoch [29][1500/2001]\tlr: 5.000e-05, eta: 0:39:26, time: 0.822, data_time: 0.011, memory: 6189, loss_rpn_cls: 0.0021, loss_rpn_bbox: 0.0264, loss_cls: 0.0651, acc: 97.2783, loss_bbox: 0.1937, loss: 0.2874\n",
      "2020-12-31 02:59:57,661 - mmdet - INFO - Epoch [29][1550/2001]\tlr: 5.000e-05, eta: 0:38:39, time: 0.819, data_time: 0.011, memory: 6189, loss_rpn_cls: 0.0018, loss_rpn_bbox: 0.0245, loss_cls: 0.0683, acc: 97.1963, loss_bbox: 0.1956, loss: 0.2902\n",
      "2020-12-31 03:00:38,606 - mmdet - INFO - Epoch [29][1600/2001]\tlr: 5.000e-05, eta: 0:37:51, time: 0.819, data_time: 0.011, memory: 6189, loss_rpn_cls: 0.0022, loss_rpn_bbox: 0.0258, loss_cls: 0.0686, acc: 97.1758, loss_bbox: 0.1973, loss: 0.2939\n",
      "2020-12-31 03:01:19,572 - mmdet - INFO - Epoch [29][1650/2001]\tlr: 5.000e-05, eta: 0:37:04, time: 0.819, data_time: 0.011, memory: 6189, loss_rpn_cls: 0.0024, loss_rpn_bbox: 0.0246, loss_cls: 0.0701, acc: 97.1055, loss_bbox: 0.1986, loss: 0.2957\n",
      "2020-12-31 03:02:00,567 - mmdet - INFO - Epoch [29][1700/2001]\tlr: 5.000e-05, eta: 0:36:16, time: 0.820, data_time: 0.011, memory: 6189, loss_rpn_cls: 0.0023, loss_rpn_bbox: 0.0255, loss_cls: 0.0665, acc: 97.2480, loss_bbox: 0.1962, loss: 0.2905\n"
     ]
    },
    {
     "name": "stderr",
     "output_type": "stream",
     "text": [
      "2020-12-31 03:02:41,498 - mmdet - INFO - Epoch [29][1750/2001]\tlr: 5.000e-05, eta: 0:35:29, time: 0.819, data_time: 0.011, memory: 6189, loss_rpn_cls: 0.0014, loss_rpn_bbox: 0.0252, loss_cls: 0.0670, acc: 97.2305, loss_bbox: 0.1924, loss: 0.2860\n",
      "2020-12-31 03:03:22,511 - mmdet - INFO - Epoch [29][1800/2001]\tlr: 5.000e-05, eta: 0:34:41, time: 0.820, data_time: 0.011, memory: 6189, loss_rpn_cls: 0.0018, loss_rpn_bbox: 0.0239, loss_cls: 0.0659, acc: 97.2246, loss_bbox: 0.1945, loss: 0.2861\n",
      "2020-12-31 03:04:03,431 - mmdet - INFO - Epoch [29][1850/2001]\tlr: 5.000e-05, eta: 0:33:54, time: 0.818, data_time: 0.011, memory: 6189, loss_rpn_cls: 0.0021, loss_rpn_bbox: 0.0255, loss_cls: 0.0673, acc: 97.1982, loss_bbox: 0.1957, loss: 0.2906\n",
      "2020-12-31 03:04:44,384 - mmdet - INFO - Epoch [29][1900/2001]\tlr: 5.000e-05, eta: 0:33:06, time: 0.819, data_time: 0.011, memory: 6189, loss_rpn_cls: 0.0016, loss_rpn_bbox: 0.0272, loss_cls: 0.0712, acc: 97.1074, loss_bbox: 0.2027, loss: 0.3027\n",
      "2020-12-31 03:05:25,343 - mmdet - INFO - Epoch [29][1950/2001]\tlr: 5.000e-05, eta: 0:32:19, time: 0.819, data_time: 0.011, memory: 6189, loss_rpn_cls: 0.0021, loss_rpn_bbox: 0.0234, loss_cls: 0.0696, acc: 97.0996, loss_bbox: 0.1992, loss: 0.2944\n",
      "2020-12-31 03:06:06,303 - mmdet - INFO - Epoch [29][2000/2001]\tlr: 5.000e-05, eta: 0:31:31, time: 0.819, data_time: 0.011, memory: 6189, loss_rpn_cls: 0.0021, loss_rpn_bbox: 0.0256, loss_cls: 0.0687, acc: 97.1504, loss_bbox: 0.1988, loss: 0.2952\n",
      "2020-12-31 03:06:07,016 - mmdet - INFO - Saving checkpoint at 29 epochs\n"
     ]
    },
    {
     "name": "stdout",
     "output_type": "stream",
     "text": [
      "[>>>>>>>>>>>>>>>>>>>>>>>>>>] 2013/2013, 11.0 task/s, elapsed: 183s, ETA:     0s"
     ]
    },
    {
     "name": "stderr",
     "output_type": "stream",
     "text": [
      "2020-12-31 03:09:11,053 - mmdet - INFO - \n",
      "Evaluateing mmdet/valid_44.json with 2013 images now\n",
      "2020-12-31 03:09:11,796 - mmdet - INFO - Evaluating bbox...\n"
     ]
    },
    {
     "name": "stdout",
     "output_type": "stream",
     "text": [
      "Loading and preparing results...\n",
      "DONE (t=0.12s)\n",
      "creating index...\n",
      "index created!\n",
      "Running per image evaluation...\n",
      "Evaluate annotation type *bbox*\n",
      "DONE (t=16.52s).\n",
      "Accumulating evaluation results...\n"
     ]
    },
    {
     "name": "stderr",
     "output_type": "stream",
     "text": [
      "2020-12-31 03:09:29,543 - mmdet - INFO - Epoch(val) [29][2001]\t0_bbox_mAP: 0.2870, 0_bbox_mAP_50: 0.4760, 0_bbox_mAP_75: 0.3180, 0_bbox_mAP_s: 0.2820, 0_bbox_mAP_m: 0.4760, 0_bbox_mAP_l: -1.0000, 0_bbox_mAP_copypaste: 0.287 0.476 0.318 0.282 0.476 -1.000\n"
     ]
    },
    {
     "name": "stdout",
     "output_type": "stream",
     "text": [
      "DONE (t=1.02s).\n",
      "Average Precision  (AP) @[ IoU=0.50:0.95 | area=   all | maxDets=100 ] = 0.287\n",
      "Average Precision  (AP) @[ IoU=0.50      | area=   all | maxDets=1000 ] = 0.476\n",
      "Average Precision  (AP) @[ IoU=0.75      | area=   all | maxDets=1000 ] = 0.318\n",
      "Average Precision  (AP) @[ IoU=0.50:0.95 | area= small | maxDets=1000 ] = 0.282\n",
      "Average Precision  (AP) @[ IoU=0.50:0.95 | area=medium | maxDets=1000 ] = 0.476\n",
      "Average Precision  (AP) @[ IoU=0.50:0.95 | area= large | maxDets=1000 ] = -1.000\n",
      "Average Recall     (AR) @[ IoU=0.50:0.95 | area=   all | maxDets=100 ] = 0.355\n",
      "Average Recall     (AR) @[ IoU=0.50:0.95 | area=   all | maxDets=300 ] = 0.355\n",
      "Average Recall     (AR) @[ IoU=0.50:0.95 | area=   all | maxDets=1000 ] = 0.355\n",
      "Average Recall     (AR) @[ IoU=0.50:0.95 | area= small | maxDets=1000 ] = 0.351\n",
      "Average Recall     (AR) @[ IoU=0.50:0.95 | area=medium | maxDets=1000 ] = 0.524\n",
      "Average Recall     (AR) @[ IoU=0.50:0.95 | area= large | maxDets=1000 ] = -1.000\n"
     ]
    },
    {
     "name": "stderr",
     "output_type": "stream",
     "text": [
      "2020-12-31 03:10:13,076 - mmdet - INFO - Epoch [30][50/2001]\tlr: 5.000e-05, eta: 0:30:43, time: 0.867, data_time: 0.056, memory: 6189, loss_rpn_cls: 0.0019, loss_rpn_bbox: 0.0246, loss_cls: 0.0668, acc: 97.2705, loss_bbox: 0.1953, loss: 0.2887\n",
      "2020-12-31 03:10:54,090 - mmdet - INFO - Epoch [30][100/2001]\tlr: 5.000e-05, eta: 0:29:55, time: 0.820, data_time: 0.011, memory: 6189, loss_rpn_cls: 0.0016, loss_rpn_bbox: 0.0246, loss_cls: 0.0676, acc: 97.2080, loss_bbox: 0.1963, loss: 0.2900\n",
      "2020-12-31 03:11:35,032 - mmdet - INFO - Epoch [30][150/2001]\tlr: 5.000e-05, eta: 0:29:08, time: 0.819, data_time: 0.011, memory: 6189, loss_rpn_cls: 0.0019, loss_rpn_bbox: 0.0245, loss_cls: 0.0699, acc: 97.1172, loss_bbox: 0.1944, loss: 0.2907\n",
      "2020-12-31 03:12:15,961 - mmdet - INFO - Epoch [30][200/2001]\tlr: 5.000e-05, eta: 0:28:21, time: 0.818, data_time: 0.011, memory: 6189, loss_rpn_cls: 0.0019, loss_rpn_bbox: 0.0254, loss_cls: 0.0674, acc: 97.1953, loss_bbox: 0.1966, loss: 0.2912\n",
      "2020-12-31 03:12:57,132 - mmdet - INFO - Epoch [30][250/2001]\tlr: 5.000e-05, eta: 0:27:33, time: 0.824, data_time: 0.011, memory: 6189, loss_rpn_cls: 0.0020, loss_rpn_bbox: 0.0270, loss_cls: 0.0645, acc: 97.3252, loss_bbox: 0.1947, loss: 0.2882\n",
      "2020-12-31 03:13:38,182 - mmdet - INFO - Epoch [30][300/2001]\tlr: 5.000e-05, eta: 0:26:46, time: 0.821, data_time: 0.011, memory: 6189, loss_rpn_cls: 0.0015, loss_rpn_bbox: 0.0235, loss_cls: 0.0695, acc: 97.1055, loss_bbox: 0.1951, loss: 0.2895\n",
      "2020-12-31 03:14:19,163 - mmdet - INFO - Epoch [30][350/2001]\tlr: 5.000e-05, eta: 0:25:58, time: 0.820, data_time: 0.011, memory: 6189, loss_rpn_cls: 0.0019, loss_rpn_bbox: 0.0265, loss_cls: 0.0691, acc: 97.1406, loss_bbox: 0.1996, loss: 0.2972\n",
      "2020-12-31 03:15:00,088 - mmdet - INFO - Epoch [30][400/2001]\tlr: 5.000e-05, eta: 0:25:11, time: 0.818, data_time: 0.011, memory: 6189, loss_rpn_cls: 0.0015, loss_rpn_bbox: 0.0225, loss_cls: 0.0687, acc: 97.1426, loss_bbox: 0.1926, loss: 0.2854\n",
      "2020-12-31 03:15:41,074 - mmdet - INFO - Epoch [30][450/2001]\tlr: 5.000e-05, eta: 0:24:24, time: 0.820, data_time: 0.011, memory: 6189, loss_rpn_cls: 0.0019, loss_rpn_bbox: 0.0248, loss_cls: 0.0697, acc: 97.1025, loss_bbox: 0.1995, loss: 0.2959\n",
      "2020-12-31 03:16:22,041 - mmdet - INFO - Epoch [30][500/2001]\tlr: 5.000e-05, eta: 0:23:36, time: 0.819, data_time: 0.011, memory: 6189, loss_rpn_cls: 0.0016, loss_rpn_bbox: 0.0242, loss_cls: 0.0676, acc: 97.1709, loss_bbox: 0.1909, loss: 0.2842\n",
      "2020-12-31 03:17:02,963 - mmdet - INFO - Epoch [30][550/2001]\tlr: 5.000e-05, eta: 0:22:49, time: 0.818, data_time: 0.011, memory: 6189, loss_rpn_cls: 0.0011, loss_rpn_bbox: 0.0245, loss_cls: 0.0666, acc: 97.2598, loss_bbox: 0.1907, loss: 0.2830\n",
      "2020-12-31 03:17:43,898 - mmdet - INFO - Epoch [30][600/2001]\tlr: 5.000e-05, eta: 0:22:02, time: 0.819, data_time: 0.011, memory: 6189, loss_rpn_cls: 0.0016, loss_rpn_bbox: 0.0250, loss_cls: 0.0691, acc: 97.1182, loss_bbox: 0.1939, loss: 0.2896\n",
      "2020-12-31 03:18:24,866 - mmdet - INFO - Epoch [30][650/2001]\tlr: 5.000e-05, eta: 0:21:14, time: 0.819, data_time: 0.011, memory: 6189, loss_rpn_cls: 0.0023, loss_rpn_bbox: 0.0246, loss_cls: 0.0673, acc: 97.2119, loss_bbox: 0.1994, loss: 0.2937\n",
      "2020-12-31 03:19:05,893 - mmdet - INFO - Epoch [30][700/2001]\tlr: 5.000e-05, eta: 0:20:27, time: 0.820, data_time: 0.011, memory: 6189, loss_rpn_cls: 0.0015, loss_rpn_bbox: 0.0252, loss_cls: 0.0650, acc: 97.2773, loss_bbox: 0.1899, loss: 0.2817\n",
      "2020-12-31 03:19:46,966 - mmdet - INFO - Epoch [30][750/2001]\tlr: 5.000e-05, eta: 0:19:40, time: 0.822, data_time: 0.011, memory: 6189, loss_rpn_cls: 0.0022, loss_rpn_bbox: 0.0266, loss_cls: 0.0689, acc: 97.1143, loss_bbox: 0.2016, loss: 0.2994\n",
      "2020-12-31 03:20:27,946 - mmdet - INFO - Epoch [30][800/2001]\tlr: 5.000e-05, eta: 0:18:52, time: 0.820, data_time: 0.011, memory: 6189, loss_rpn_cls: 0.0014, loss_rpn_bbox: 0.0274, loss_cls: 0.0695, acc: 97.1094, loss_bbox: 0.2012, loss: 0.2995\n",
      "2020-12-31 03:21:08,923 - mmdet - INFO - Epoch [30][850/2001]\tlr: 5.000e-05, eta: 0:18:05, time: 0.819, data_time: 0.011, memory: 6189, loss_rpn_cls: 0.0021, loss_rpn_bbox: 0.0238, loss_cls: 0.0701, acc: 97.1455, loss_bbox: 0.1957, loss: 0.2917\n",
      "2020-12-31 03:21:49,873 - mmdet - INFO - Epoch [30][900/2001]\tlr: 5.000e-05, eta: 0:17:18, time: 0.819, data_time: 0.011, memory: 6189, loss_rpn_cls: 0.0021, loss_rpn_bbox: 0.0275, loss_cls: 0.0685, acc: 97.1689, loss_bbox: 0.2002, loss: 0.2983\n",
      "2020-12-31 03:22:30,832 - mmdet - INFO - Epoch [30][950/2001]\tlr: 5.000e-05, eta: 0:16:30, time: 0.819, data_time: 0.011, memory: 6189, loss_rpn_cls: 0.0021, loss_rpn_bbox: 0.0256, loss_cls: 0.0649, acc: 97.3242, loss_bbox: 0.1912, loss: 0.2839\n",
      "2020-12-31 03:23:11,769 - mmdet - INFO - Epoch [30][1000/2001]\tlr: 5.000e-05, eta: 0:15:43, time: 0.819, data_time: 0.011, memory: 6189, loss_rpn_cls: 0.0021, loss_rpn_bbox: 0.0268, loss_cls: 0.0719, acc: 96.9941, loss_bbox: 0.1964, loss: 0.2971\n",
      "2020-12-31 03:23:52,734 - mmdet - INFO - Epoch [30][1050/2001]\tlr: 5.000e-05, eta: 0:14:56, time: 0.819, data_time: 0.011, memory: 6189, loss_rpn_cls: 0.0019, loss_rpn_bbox: 0.0272, loss_cls: 0.0703, acc: 97.0693, loss_bbox: 0.2018, loss: 0.3012\n",
      "2020-12-31 03:24:33,729 - mmdet - INFO - Epoch [30][1100/2001]\tlr: 5.000e-05, eta: 0:14:09, time: 0.820, data_time: 0.011, memory: 6189, loss_rpn_cls: 0.0021, loss_rpn_bbox: 0.0247, loss_cls: 0.0675, acc: 97.1289, loss_bbox: 0.1993, loss: 0.2936\n",
      "2020-12-31 03:25:14,832 - mmdet - INFO - Epoch [30][1150/2001]\tlr: 5.000e-05, eta: 0:13:22, time: 0.822, data_time: 0.011, memory: 6189, loss_rpn_cls: 0.0017, loss_rpn_bbox: 0.0262, loss_cls: 0.0700, acc: 97.0635, loss_bbox: 0.2053, loss: 0.3033\n",
      "2020-12-31 03:25:55,800 - mmdet - INFO - Epoch [30][1200/2001]\tlr: 5.000e-05, eta: 0:12:34, time: 0.819, data_time: 0.011, memory: 6189, loss_rpn_cls: 0.0018, loss_rpn_bbox: 0.0252, loss_cls: 0.0661, acc: 97.2686, loss_bbox: 0.1943, loss: 0.2874\n",
      "2020-12-31 03:26:36,779 - mmdet - INFO - Epoch [30][1250/2001]\tlr: 5.000e-05, eta: 0:11:47, time: 0.820, data_time: 0.011, memory: 6189, loss_rpn_cls: 0.0020, loss_rpn_bbox: 0.0263, loss_cls: 0.0697, acc: 97.0840, loss_bbox: 0.1959, loss: 0.2939\n",
      "2020-12-31 03:27:17,780 - mmdet - INFO - Epoch [30][1300/2001]\tlr: 5.000e-05, eta: 0:11:00, time: 0.820, data_time: 0.011, memory: 6189, loss_rpn_cls: 0.0016, loss_rpn_bbox: 0.0283, loss_cls: 0.0650, acc: 97.2930, loss_bbox: 0.1961, loss: 0.2910\n",
      "2020-12-31 03:27:58,757 - mmdet - INFO - Epoch [30][1350/2001]\tlr: 5.000e-05, eta: 0:10:13, time: 0.820, data_time: 0.011, memory: 6189, loss_rpn_cls: 0.0017, loss_rpn_bbox: 0.0233, loss_cls: 0.0682, acc: 97.1416, loss_bbox: 0.1978, loss: 0.2910\n",
      "2020-12-31 03:28:39,713 - mmdet - INFO - Epoch [30][1400/2001]\tlr: 5.000e-05, eta: 0:09:26, time: 0.819, data_time: 0.011, memory: 6189, loss_rpn_cls: 0.0018, loss_rpn_bbox: 0.0235, loss_cls: 0.0692, acc: 97.1592, loss_bbox: 0.1971, loss: 0.2916\n",
      "2020-12-31 03:29:20,662 - mmdet - INFO - Epoch [30][1450/2001]\tlr: 5.000e-05, eta: 0:08:38, time: 0.819, data_time: 0.011, memory: 6189, loss_rpn_cls: 0.0017, loss_rpn_bbox: 0.0234, loss_cls: 0.0687, acc: 97.1182, loss_bbox: 0.1949, loss: 0.2887\n",
      "2020-12-31 03:30:01,809 - mmdet - INFO - Epoch [30][1500/2001]\tlr: 5.000e-05, eta: 0:07:51, time: 0.823, data_time: 0.011, memory: 6189, loss_rpn_cls: 0.0020, loss_rpn_bbox: 0.0245, loss_cls: 0.0678, acc: 97.1953, loss_bbox: 0.1940, loss: 0.2883\n",
      "2020-12-31 03:30:42,933 - mmdet - INFO - Epoch [30][1550/2001]\tlr: 5.000e-05, eta: 0:07:04, time: 0.823, data_time: 0.011, memory: 6189, loss_rpn_cls: 0.0013, loss_rpn_bbox: 0.0249, loss_cls: 0.0681, acc: 97.1621, loss_bbox: 0.1978, loss: 0.2922\n",
      "2020-12-31 03:31:23,903 - mmdet - INFO - Epoch [30][1600/2001]\tlr: 5.000e-05, eta: 0:06:17, time: 0.819, data_time: 0.011, memory: 6189, loss_rpn_cls: 0.0023, loss_rpn_bbox: 0.0236, loss_cls: 0.0686, acc: 97.1748, loss_bbox: 0.1956, loss: 0.2901\n",
      "2020-12-31 03:32:05,081 - mmdet - INFO - Epoch [30][1650/2001]\tlr: 5.000e-05, eta: 0:05:30, time: 0.824, data_time: 0.011, memory: 6189, loss_rpn_cls: 0.0027, loss_rpn_bbox: 0.0264, loss_cls: 0.0699, acc: 97.1143, loss_bbox: 0.2026, loss: 0.3015\n",
      "2020-12-31 03:32:46,089 - mmdet - INFO - Epoch [30][1700/2001]\tlr: 5.000e-05, eta: 0:04:43, time: 0.820, data_time: 0.011, memory: 6189, loss_rpn_cls: 0.0023, loss_rpn_bbox: 0.0240, loss_cls: 0.0672, acc: 97.2393, loss_bbox: 0.1962, loss: 0.2896\n"
     ]
    },
    {
     "name": "stderr",
     "output_type": "stream",
     "text": [
      "2020-12-31 03:33:27,400 - mmdet - INFO - Epoch [30][1750/2001]\tlr: 5.000e-05, eta: 0:03:56, time: 0.826, data_time: 0.011, memory: 6189, loss_rpn_cls: 0.0023, loss_rpn_bbox: 0.0278, loss_cls: 0.0671, acc: 97.1797, loss_bbox: 0.1986, loss: 0.2957\n",
      "2020-12-31 03:34:08,385 - mmdet - INFO - Epoch [30][1800/2001]\tlr: 5.000e-05, eta: 0:03:09, time: 0.820, data_time: 0.011, memory: 6189, loss_rpn_cls: 0.0022, loss_rpn_bbox: 0.0263, loss_cls: 0.0697, acc: 97.1201, loss_bbox: 0.2018, loss: 0.2999\n",
      "2020-12-31 03:34:49,313 - mmdet - INFO - Epoch [30][1850/2001]\tlr: 5.000e-05, eta: 0:02:22, time: 0.819, data_time: 0.011, memory: 6189, loss_rpn_cls: 0.0020, loss_rpn_bbox: 0.0238, loss_cls: 0.0673, acc: 97.2432, loss_bbox: 0.1961, loss: 0.2892\n",
      "2020-12-31 03:35:30,322 - mmdet - INFO - Epoch [30][1900/2001]\tlr: 5.000e-05, eta: 0:01:35, time: 0.820, data_time: 0.011, memory: 6189, loss_rpn_cls: 0.0016, loss_rpn_bbox: 0.0258, loss_cls: 0.0661, acc: 97.2412, loss_bbox: 0.1949, loss: 0.2884\n",
      "2020-12-31 03:36:11,287 - mmdet - INFO - Epoch [30][1950/2001]\tlr: 5.000e-05, eta: 0:00:47, time: 0.819, data_time: 0.011, memory: 6189, loss_rpn_cls: 0.0016, loss_rpn_bbox: 0.0234, loss_cls: 0.0668, acc: 97.2773, loss_bbox: 0.1938, loss: 0.2856\n",
      "2020-12-31 03:36:52,242 - mmdet - INFO - Epoch [30][2000/2001]\tlr: 5.000e-05, eta: 0:00:00, time: 0.819, data_time: 0.011, memory: 6189, loss_rpn_cls: 0.0019, loss_rpn_bbox: 0.0261, loss_cls: 0.0662, acc: 97.2402, loss_bbox: 0.1969, loss: 0.2912\n",
      "2020-12-31 03:36:52,943 - mmdet - INFO - Saving checkpoint at 30 epochs\n"
     ]
    },
    {
     "name": "stdout",
     "output_type": "stream",
     "text": [
      "[>>>>>>>>>>>>>>>>>>>>>>>>>>] 2013/2013, 11.0 task/s, elapsed: 183s, ETA:     0s"
     ]
    },
    {
     "name": "stderr",
     "output_type": "stream",
     "text": [
      "2020-12-31 03:39:56,722 - mmdet - INFO - \n",
      "Evaluateing mmdet/valid_44.json with 2013 images now\n",
      "2020-12-31 03:39:57,278 - mmdet - INFO - Evaluating bbox...\n"
     ]
    },
    {
     "name": "stdout",
     "output_type": "stream",
     "text": [
      "Loading and preparing results...\n",
      "DONE (t=0.12s)\n",
      "creating index...\n",
      "index created!\n",
      "Running per image evaluation...\n",
      "Evaluate annotation type *bbox*\n",
      "DONE (t=16.84s).\n",
      "Accumulating evaluation results...\n"
     ]
    },
    {
     "name": "stderr",
     "output_type": "stream",
     "text": [
      "2020-12-31 03:40:15,118 - mmdet - INFO - Epoch(val) [30][2001]\t0_bbox_mAP: 0.2870, 0_bbox_mAP_50: 0.4760, 0_bbox_mAP_75: 0.3190, 0_bbox_mAP_s: 0.2820, 0_bbox_mAP_m: 0.4760, 0_bbox_mAP_l: -1.0000, 0_bbox_mAP_copypaste: 0.287 0.476 0.319 0.282 0.476 -1.000\n"
     ]
    },
    {
     "name": "stdout",
     "output_type": "stream",
     "text": [
      "DONE (t=0.80s).\n",
      "Average Precision  (AP) @[ IoU=0.50:0.95 | area=   all | maxDets=100 ] = 0.287\n",
      "Average Precision  (AP) @[ IoU=0.50      | area=   all | maxDets=1000 ] = 0.476\n",
      "Average Precision  (AP) @[ IoU=0.75      | area=   all | maxDets=1000 ] = 0.319\n",
      "Average Precision  (AP) @[ IoU=0.50:0.95 | area= small | maxDets=1000 ] = 0.282\n",
      "Average Precision  (AP) @[ IoU=0.50:0.95 | area=medium | maxDets=1000 ] = 0.476\n",
      "Average Precision  (AP) @[ IoU=0.50:0.95 | area= large | maxDets=1000 ] = -1.000\n",
      "Average Recall     (AR) @[ IoU=0.50:0.95 | area=   all | maxDets=100 ] = 0.355\n",
      "Average Recall     (AR) @[ IoU=0.50:0.95 | area=   all | maxDets=300 ] = 0.355\n",
      "Average Recall     (AR) @[ IoU=0.50:0.95 | area=   all | maxDets=1000 ] = 0.355\n",
      "Average Recall     (AR) @[ IoU=0.50:0.95 | area= small | maxDets=1000 ] = 0.351\n",
      "Average Recall     (AR) @[ IoU=0.50:0.95 | area=medium | maxDets=1000 ] = 0.524\n",
      "Average Recall     (AR) @[ IoU=0.50:0.95 | area= large | maxDets=1000 ] = -1.000\n"
     ]
    }
   ],
   "source": [
    "# Build dataset\n",
    "datasets = [build_dataset(cfg.data.train)]\n",
    "\n",
    "# Build the detector\n",
    "model = build_detector(\n",
    "    cfg.model, train_cfg=cfg.train_cfg, test_cfg=cfg.test_cfg)\n",
    "# Add an attribute for visualization convenience\n",
    "model.CLASSES = datasets[0].CLASSES\n",
    "\n",
    "# Create work_dir\n",
    "mmcv.mkdir_or_exist(osp.abspath(cfg.work_dir))\n",
    "train_detector(model, datasets, cfg, distributed=False, validate=True)"
   ]
  },
  {
   "cell_type": "code",
   "execution_count": null,
   "metadata": {},
   "outputs": [],
   "source": []
  }
 ],
 "metadata": {
  "kernelspec": {
   "display_name": "Python 3",
   "language": "python",
   "name": "python3"
  },
  "language_info": {
   "codemirror_mode": {
    "name": "ipython",
    "version": 3
   },
   "file_extension": ".py",
   "mimetype": "text/x-python",
   "name": "python",
   "nbconvert_exporter": "python",
   "pygments_lexer": "ipython3",
   "version": "3.7.6"
  }
 },
 "nbformat": 4,
 "nbformat_minor": 4
}
